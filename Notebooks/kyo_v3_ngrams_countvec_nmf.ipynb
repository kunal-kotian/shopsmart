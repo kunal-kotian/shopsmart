{
 "cells": [
  {
   "cell_type": "code",
   "execution_count": 1,
   "metadata": {
    "ExecuteTime": {
     "end_time": "2018-05-01T00:12:23.801231Z",
     "start_time": "2018-05-01T00:12:21.567301Z"
    }
   },
   "outputs": [],
   "source": [
    "import warnings\n",
    "import pandas as pd\n",
    "import numpy as np\n",
    "import collections\n",
    "\n",
    "import matplotlib.pyplot as plt\n",
    "from yellowbrick.text.freqdist import FreqDistVisualizer\n",
    "\n",
    "########## NLP\n",
    "# pre-processing \n",
    "import re \n",
    "import string \n",
    "import nltk\n",
    "from nltk import tokenize\n",
    "from nltk.stem.snowball import SnowballStemmer\n",
    "from nltk.corpus import stopwords\n",
    "from sklearn.feature_extraction.text import CountVectorizer \n",
    "import spacy \n",
    "# topic-models \n",
    "from sklearn.decomposition import NMF, LatentDirichletAllocation\n",
    "\n",
    "warnings.filterwarnings('ignore') # turn off warnings \n",
    "%matplotlib inline\n",
    "nlp = spacy.load('en') # load spacy model\n",
    "en_stopwords = set(stopwords.words('english')) # SKLEARN'S ENGLISH_STOP_WORDS TOO GREEDY\n",
    "stemmer = SnowballStemmer(\"english\", ignore_stopwords=True)"
   ]
  },
  {
   "cell_type": "code",
   "execution_count": 1,
   "metadata": {
    "ExecuteTime": {
     "end_time": "2018-05-02T19:56:41.202626Z",
     "start_time": "2018-05-02T19:56:38.490536Z"
    }
   },
   "outputs": [
    {
     "ename": "ImportError",
     "evalue": "No module named pyLDAvis.gensim",
     "output_type": "error",
     "traceback": [
      "\u001b[0;31m---------------------------------------------------------------------------\u001b[0m",
      "\u001b[0;31mImportError\u001b[0m                               Traceback (most recent call last)",
      "\u001b[0;32m<ipython-input-1-91179d7e2059>\u001b[0m in \u001b[0;36m<module>\u001b[0;34m()\u001b[0m\n\u001b[1;32m     10\u001b[0m \u001b[0;32mimport\u001b[0m \u001b[0mgensim\u001b[0m\u001b[0;34m\u001b[0m\u001b[0m\n\u001b[1;32m     11\u001b[0m \u001b[0;32mfrom\u001b[0m \u001b[0mgensim\u001b[0m \u001b[0;32mimport\u001b[0m \u001b[0mcorpora\u001b[0m\u001b[0;34m\u001b[0m\u001b[0m\n\u001b[0;32m---> 12\u001b[0;31m \u001b[0;32mimport\u001b[0m \u001b[0mpyLDAvis\u001b[0m\u001b[0;34m.\u001b[0m\u001b[0mgensim\u001b[0m\u001b[0;34m\u001b[0m\u001b[0m\n\u001b[0m\u001b[1;32m     13\u001b[0m \u001b[0;32mimport\u001b[0m \u001b[0mmatplotlib\u001b[0m\u001b[0;34m.\u001b[0m\u001b[0mpyplot\u001b[0m \u001b[0;32mas\u001b[0m \u001b[0mplt\u001b[0m\u001b[0;34m\u001b[0m\u001b[0m\n\u001b[1;32m     14\u001b[0m \u001b[0mget_ipython\u001b[0m\u001b[0;34m(\u001b[0m\u001b[0;34m)\u001b[0m\u001b[0;34m.\u001b[0m\u001b[0mmagic\u001b[0m\u001b[0;34m(\u001b[0m\u001b[0;34mu'matplotlib inline'\u001b[0m\u001b[0;34m)\u001b[0m\u001b[0;34m\u001b[0m\u001b[0m\n",
      "\u001b[0;31mImportError\u001b[0m: No module named pyLDAvis.gensim"
     ]
    }
   ],
   "source": [
    "import spacy\n",
    "import nltk\n",
    "import re\n",
    "import string\n",
    "import sys\n",
    "import pandas as pd\n",
    "import numpy as np\n",
    "#from stop_word_list import *\n",
    "#from openfile_kn import *\n",
    "import gensim\n",
    "from gensim import corpora\n",
    "import pyLDAvis.gensim\n",
    "import matplotlib.pyplot as plt\n",
    "%matplotlib inline"
   ]
  },
  {
   "cell_type": "markdown",
   "metadata": {},
   "source": [
    "## Remove irrelevant products"
   ]
  },
  {
   "cell_type": "code",
   "execution_count": 2,
   "metadata": {
    "ExecuteTime": {
     "end_time": "2018-05-02T19:56:53.499124Z",
     "start_time": "2018-05-02T19:56:52.208979Z"
    }
   },
   "outputs": [
    {
     "data": {
      "text/html": [
       "<div>\n",
       "<style>\n",
       "    .dataframe thead tr:only-child th {\n",
       "        text-align: right;\n",
       "    }\n",
       "\n",
       "    .dataframe thead th {\n",
       "        text-align: left;\n",
       "    }\n",
       "\n",
       "    .dataframe tbody tr th {\n",
       "        vertical-align: top;\n",
       "    }\n",
       "</style>\n",
       "<table border=\"1\" class=\"dataframe\">\n",
       "  <thead>\n",
       "    <tr style=\"text-align: right;\">\n",
       "      <th></th>\n",
       "      <th>asin</th>\n",
       "      <th>helpful</th>\n",
       "      <th>reviewText</th>\n",
       "      <th>overall</th>\n",
       "      <th>summary</th>\n",
       "      <th>description</th>\n",
       "      <th>title</th>\n",
       "      <th>categories_clean</th>\n",
       "      <th>review_length</th>\n",
       "    </tr>\n",
       "  </thead>\n",
       "  <tbody>\n",
       "    <tr>\n",
       "      <th>0</th>\n",
       "      <td>0929619730</td>\n",
       "      <td>[0, 0]</td>\n",
       "      <td>B-flax-D is a regular at our house. It does it...</td>\n",
       "      <td>5.0</td>\n",
       "      <td>Dpes the job well</td>\n",
       "      <td>Contains Organic Cold-Milled Flaxseed\\nValuabl...</td>\n",
       "      <td>New Generation B-Flax-D</td>\n",
       "      <td>Health &amp; Personal Care, Vitamins &amp; Dietary Sup...</td>\n",
       "      <td>224</td>\n",
       "    </tr>\n",
       "    <tr>\n",
       "      <th>2</th>\n",
       "      <td>0978559088</td>\n",
       "      <td>[1, 1]</td>\n",
       "      <td>I started taking this after both my parents di...</td>\n",
       "      <td>5.0</td>\n",
       "      <td>Bioavailability is the key</td>\n",
       "      <td>Everyone knows that resveratrol is an amazing ...</td>\n",
       "      <td>Nutrihill Resveratrol Lozenges</td>\n",
       "      <td>Health &amp; Personal Care, Vitamins &amp; Dietary Sup...</td>\n",
       "      <td>1065</td>\n",
       "    </tr>\n",
       "    <tr>\n",
       "      <th>4</th>\n",
       "      <td>0978559088</td>\n",
       "      <td>[0, 0]</td>\n",
       "      <td>I really liked this product because it stayed ...</td>\n",
       "      <td>5.0</td>\n",
       "      <td>I can't find this product any longer, and I wi...</td>\n",
       "      <td>Everyone knows that resveratrol is an amazing ...</td>\n",
       "      <td>Nutrihill Resveratrol Lozenges</td>\n",
       "      <td>Health &amp; Personal Care, Vitamins &amp; Dietary Sup...</td>\n",
       "      <td>767</td>\n",
       "    </tr>\n",
       "    <tr>\n",
       "      <th>5</th>\n",
       "      <td>0978559088</td>\n",
       "      <td>[3, 3]</td>\n",
       "      <td>Resveratrol is a polar compound, very insolubl...</td>\n",
       "      <td>5.0</td>\n",
       "      <td>Just the Resveratrol product we need</td>\n",
       "      <td>Everyone knows that resveratrol is an amazing ...</td>\n",
       "      <td>Nutrihill Resveratrol Lozenges</td>\n",
       "      <td>Health &amp; Personal Care, Vitamins &amp; Dietary Sup...</td>\n",
       "      <td>1422</td>\n",
       "    </tr>\n",
       "    <tr>\n",
       "      <th>6</th>\n",
       "      <td>1427600228</td>\n",
       "      <td>[3, 3]</td>\n",
       "      <td>I bought several of these bracelets for my YMC...</td>\n",
       "      <td>5.0</td>\n",
       "      <td>The kids love these bracelets</td>\n",
       "      <td>The Zenlet Green Tea Bracelet provides you wit...</td>\n",
       "      <td>Zenlet Green Tea Love Bracelet - All Natural</td>\n",
       "      <td>Health &amp; Personal Care, Vitamins &amp; Dietary Sup...</td>\n",
       "      <td>186</td>\n",
       "    </tr>\n",
       "  </tbody>\n",
       "</table>\n",
       "</div>"
      ],
      "text/plain": [
       "         asin helpful                                         reviewText  \\\n",
       "0  0929619730  [0, 0]  B-flax-D is a regular at our house. It does it...   \n",
       "2  0978559088  [1, 1]  I started taking this after both my parents di...   \n",
       "4  0978559088  [0, 0]  I really liked this product because it stayed ...   \n",
       "5  0978559088  [3, 3]  Resveratrol is a polar compound, very insolubl...   \n",
       "6  1427600228  [3, 3]  I bought several of these bracelets for my YMC...   \n",
       "\n",
       "   overall                                            summary  \\\n",
       "0      5.0                                  Dpes the job well   \n",
       "2      5.0                         Bioavailability is the key   \n",
       "4      5.0  I can't find this product any longer, and I wi...   \n",
       "5      5.0               Just the Resveratrol product we need   \n",
       "6      5.0                      The kids love these bracelets   \n",
       "\n",
       "                                         description  \\\n",
       "0  Contains Organic Cold-Milled Flaxseed\\nValuabl...   \n",
       "2  Everyone knows that resveratrol is an amazing ...   \n",
       "4  Everyone knows that resveratrol is an amazing ...   \n",
       "5  Everyone knows that resveratrol is an amazing ...   \n",
       "6  The Zenlet Green Tea Bracelet provides you wit...   \n",
       "\n",
       "                                          title  \\\n",
       "0                       New Generation B-Flax-D   \n",
       "2                Nutrihill Resveratrol Lozenges   \n",
       "4                Nutrihill Resveratrol Lozenges   \n",
       "5                Nutrihill Resveratrol Lozenges   \n",
       "6  Zenlet Green Tea Love Bracelet - All Natural   \n",
       "\n",
       "                                    categories_clean  review_length  \n",
       "0  Health & Personal Care, Vitamins & Dietary Sup...            224  \n",
       "2  Health & Personal Care, Vitamins & Dietary Sup...           1065  \n",
       "4  Health & Personal Care, Vitamins & Dietary Sup...            767  \n",
       "5  Health & Personal Care, Vitamins & Dietary Sup...           1422  \n",
       "6  Health & Personal Care, Vitamins & Dietary Sup...            186  "
      ]
     },
     "execution_count": 2,
     "metadata": {},
     "output_type": "execute_result"
    }
   ],
   "source": [
    "data = pd.read_pickle('../data/reviews_data_clean_v3') # better to use pickle\n",
    "data.head()"
   ]
  },
  {
   "cell_type": "code",
   "execution_count": 7,
   "metadata": {
    "ExecuteTime": {
     "end_time": "2018-05-02T19:58:06.097557Z",
     "start_time": "2018-05-02T19:58:06.069660Z"
    }
   },
   "outputs": [
    {
     "ename": "IOError",
     "evalue": "[Errno 2] No such file or directory: '/Users/booranium/practicum/amazon/data/data_tokenized'",
     "output_type": "error",
     "traceback": [
      "\u001b[0;31m---------------------------------------------------------------------------\u001b[0m",
      "\u001b[0;31mIOError\u001b[0m                                   Traceback (most recent call last)",
      "\u001b[0;32m<ipython-input-7-ac4dfd6eea9d>\u001b[0m in \u001b[0;36m<module>\u001b[0;34m()\u001b[0m\n\u001b[0;32m----> 1\u001b[0;31m \u001b[0mdata2\u001b[0m \u001b[0;34m=\u001b[0m \u001b[0mpd\u001b[0m\u001b[0;34m.\u001b[0m\u001b[0mread_pickle\u001b[0m\u001b[0;34m(\u001b[0m\u001b[0;34m'/Users/booranium/practicum/amazon/data/data_tokenized'\u001b[0m\u001b[0;34m)\u001b[0m \u001b[0;31m# better to use pickle\u001b[0m\u001b[0;34m\u001b[0m\u001b[0m\n\u001b[0m\u001b[1;32m      2\u001b[0m \u001b[0mlen\u001b[0m\u001b[0;34m(\u001b[0m\u001b[0mdata2\u001b[0m\u001b[0;34m)\u001b[0m\u001b[0;34m,\u001b[0m \u001b[0mdata\u001b[0m\u001b[0;34m.\u001b[0m\u001b[0masin\u001b[0m\u001b[0;34m.\u001b[0m\u001b[0mnunique\u001b[0m\u001b[0;34m(\u001b[0m\u001b[0;34m)\u001b[0m\u001b[0;34m\u001b[0m\u001b[0m\n",
      "\u001b[0;32m/Users/booranium/anaconda/lib/python2.7/site-packages/pandas/io/pickle.pyc\u001b[0m in \u001b[0;36mread_pickle\u001b[0;34m(path, compression)\u001b[0m\n\u001b[1;32m     92\u001b[0m                     lambda f: pc.load(f, encoding=encoding, compat=True))\n\u001b[1;32m     93\u001b[0m     \u001b[0;32mtry\u001b[0m\u001b[0;34m:\u001b[0m\u001b[0;34m\u001b[0m\u001b[0m\n\u001b[0;32m---> 94\u001b[0;31m         \u001b[0;32mreturn\u001b[0m \u001b[0mtry_read\u001b[0m\u001b[0;34m(\u001b[0m\u001b[0mpath\u001b[0m\u001b[0;34m)\u001b[0m\u001b[0;34m\u001b[0m\u001b[0m\n\u001b[0m\u001b[1;32m     95\u001b[0m     \u001b[0;32mexcept\u001b[0m\u001b[0;34m:\u001b[0m\u001b[0;34m\u001b[0m\u001b[0m\n\u001b[1;32m     96\u001b[0m         \u001b[0;32mif\u001b[0m \u001b[0mPY3\u001b[0m\u001b[0;34m:\u001b[0m\u001b[0;34m\u001b[0m\u001b[0m\n",
      "\u001b[0;32m/Users/booranium/anaconda/lib/python2.7/site-packages/pandas/io/pickle.pyc\u001b[0m in \u001b[0;36mtry_read\u001b[0;34m(path, encoding)\u001b[0m\n\u001b[1;32m     90\u001b[0m             \u001b[0;32mexcept\u001b[0m\u001b[0;34m:\u001b[0m\u001b[0;34m\u001b[0m\u001b[0m\n\u001b[1;32m     91\u001b[0m                 return read_wrapper(\n\u001b[0;32m---> 92\u001b[0;31m                     lambda f: pc.load(f, encoding=encoding, compat=True))\n\u001b[0m\u001b[1;32m     93\u001b[0m     \u001b[0;32mtry\u001b[0m\u001b[0;34m:\u001b[0m\u001b[0;34m\u001b[0m\u001b[0m\n\u001b[1;32m     94\u001b[0m         \u001b[0;32mreturn\u001b[0m \u001b[0mtry_read\u001b[0m\u001b[0;34m(\u001b[0m\u001b[0mpath\u001b[0m\u001b[0;34m)\u001b[0m\u001b[0;34m\u001b[0m\u001b[0m\n",
      "\u001b[0;32m/Users/booranium/anaconda/lib/python2.7/site-packages/pandas/io/pickle.pyc\u001b[0m in \u001b[0;36mread_wrapper\u001b[0;34m(func)\u001b[0m\n\u001b[1;32m     64\u001b[0m         f, fh = _get_handle(path, 'rb',\n\u001b[1;32m     65\u001b[0m                             \u001b[0mcompression\u001b[0m\u001b[0;34m=\u001b[0m\u001b[0minferred_compression\u001b[0m\u001b[0;34m,\u001b[0m\u001b[0;34m\u001b[0m\u001b[0m\n\u001b[0;32m---> 66\u001b[0;31m                             is_text=False)\n\u001b[0m\u001b[1;32m     67\u001b[0m         \u001b[0;32mtry\u001b[0m\u001b[0;34m:\u001b[0m\u001b[0;34m\u001b[0m\u001b[0m\n\u001b[1;32m     68\u001b[0m             \u001b[0;32mreturn\u001b[0m \u001b[0mfunc\u001b[0m\u001b[0;34m(\u001b[0m\u001b[0mf\u001b[0m\u001b[0;34m)\u001b[0m\u001b[0;34m\u001b[0m\u001b[0m\n",
      "\u001b[0;32m/Users/booranium/anaconda/lib/python2.7/site-packages/pandas/io/common.pyc\u001b[0m in \u001b[0;36m_get_handle\u001b[0;34m(path_or_buf, mode, encoding, compression, memory_map, is_text)\u001b[0m\n\u001b[1;32m    377\u001b[0m         \u001b[0;32mif\u001b[0m \u001b[0mcompat\u001b[0m\u001b[0;34m.\u001b[0m\u001b[0mPY2\u001b[0m\u001b[0;34m:\u001b[0m\u001b[0;34m\u001b[0m\u001b[0m\n\u001b[1;32m    378\u001b[0m             \u001b[0;31m# Python 2\u001b[0m\u001b[0;34m\u001b[0m\u001b[0;34m\u001b[0m\u001b[0m\n\u001b[0;32m--> 379\u001b[0;31m             \u001b[0mf\u001b[0m \u001b[0;34m=\u001b[0m \u001b[0mopen\u001b[0m\u001b[0;34m(\u001b[0m\u001b[0mpath_or_buf\u001b[0m\u001b[0;34m,\u001b[0m \u001b[0mmode\u001b[0m\u001b[0;34m)\u001b[0m\u001b[0;34m\u001b[0m\u001b[0m\n\u001b[0m\u001b[1;32m    380\u001b[0m         \u001b[0;32melif\u001b[0m \u001b[0mencoding\u001b[0m\u001b[0;34m:\u001b[0m\u001b[0;34m\u001b[0m\u001b[0m\n\u001b[1;32m    381\u001b[0m             \u001b[0;31m# Python 3 and encoding\u001b[0m\u001b[0;34m\u001b[0m\u001b[0;34m\u001b[0m\u001b[0m\n",
      "\u001b[0;31mIOError\u001b[0m: [Errno 2] No such file or directory: '/Users/booranium/practicum/amazon/data/data_tokenized'"
     ]
    }
   ],
   "source": [
    "#data2 = pd.read_pickle('/Users/booranium/practicum/amazon/data/data_tokenized') # better to use pickle\n",
    "#len(data2), data.asin.nunique()"
   ]
  },
  {
   "cell_type": "code",
   "execution_count": 3,
   "metadata": {
    "ExecuteTime": {
     "end_time": "2018-05-02T19:57:01.741718Z",
     "start_time": "2018-05-02T19:57:01.729497Z"
    }
   },
   "outputs": [],
   "source": [
    "def try_split_3(string):\n",
    "    ls = string.split(',')\n",
    "    try:\n",
    "        return ls[2].strip()\n",
    "    except:\n",
    "        pass\n",
    "    \n",
    "def try_split_4(string):\n",
    "    ls = string.split(',')\n",
    "    try:\n",
    "        return ls[3].strip()\n",
    "    except:\n",
    "        pass    \n",
    "\n",
    "def try_split_5(string):\n",
    "    ls = string.split(',')\n",
    "    try:\n",
    "        return ls[4].strip()\n",
    "    except:\n",
    "        pass\n",
    "\n",
    "def try_split_6(string):\n",
    "    ls = string.split(',')\n",
    "    try:\n",
    "        return ls[5].strip()\n",
    "    except:\n",
    "        pass  \n",
    "\n",
    "def try_split_7(string):\n",
    "    ls = string.split(',')\n",
    "    try:\n",
    "        return ls[6].strip()\n",
    "    except:\n",
    "        pass"
   ]
  },
  {
   "cell_type": "code",
   "execution_count": 4,
   "metadata": {
    "ExecuteTime": {
     "end_time": "2018-05-02T19:57:04.866627Z",
     "start_time": "2018-05-02T19:57:02.310649Z"
    }
   },
   "outputs": [],
   "source": [
    "data['cat1'] = data.categories_clean.apply(lambda x: x.split(',')[0])\n",
    "data['cat2'] = data.categories_clean.apply(lambda x: x.split(',')[1].strip())\n",
    "data['cat3'] = data.categories_clean.apply(try_split_3)\n",
    "data['cat4'] = data.categories_clean.apply(try_split_4)\n",
    "data['cat5'] = data.categories_clean.apply(try_split_5)\n",
    "data['cat6'] = data.categories_clean.apply(try_split_6)\n",
    "data['cat7'] = data.categories_clean.apply(try_split_7)"
   ]
  },
  {
   "cell_type": "code",
   "execution_count": 8,
   "metadata": {
    "ExecuteTime": {
     "end_time": "2018-05-02T19:58:36.049613Z",
     "start_time": "2018-05-02T19:58:35.817208Z"
    }
   },
   "outputs": [],
   "source": [
    "data_clean1 = data[data.cat1 == 'Health & Personal Care'] \n",
    "#exclude: Cell Phones & Accessories\n",
    "\n",
    "data_clean2 = data_clean1[data_clean1.cat2 == 'Vitamins & Dietary Supplements'] \n",
    "# exclude: Sports Nutrition, Baby & Child Care\n",
    "\n",
    "data_clean3 = data_clean2[data_clean2.cat3.isin(['Supplements','Vitamins','Minerals', 'Herbal Supplements'])]\n",
    "# excludes: Multi & Prenatal Vitamins, Weight Loss, Clothing"
   ]
  },
  {
   "cell_type": "code",
   "execution_count": 11,
   "metadata": {
    "ExecuteTime": {
     "end_time": "2018-05-02T19:59:24.646369Z",
     "start_time": "2018-05-02T19:59:24.605231Z"
    }
   },
   "outputs": [
    {
     "data": {
      "text/plain": [
       "cat1\n",
       "Cell Phones & Accessories        50\n",
       "Health & Personal Care       355199\n",
       "Name: asin, dtype: int64"
      ]
     },
     "execution_count": 11,
     "metadata": {},
     "output_type": "execute_result"
    }
   ],
   "source": [
    "data.groupby('cat1').asin.count()"
   ]
  },
  {
   "cell_type": "code",
   "execution_count": 14,
   "metadata": {
    "ExecuteTime": {
     "end_time": "2018-05-02T20:00:53.178906Z",
     "start_time": "2018-05-02T20:00:53.137083Z"
    }
   },
   "outputs": [
    {
     "data": {
      "text/plain": [
       "cat2\n",
       "Baby & Child Care                    385\n",
       "Sports Nutrition                    5322\n",
       "Vitamins & Dietary Supplements    349492\n",
       "Name: asin, dtype: int64"
      ]
     },
     "execution_count": 14,
     "metadata": {},
     "output_type": "execute_result"
    }
   ],
   "source": [
    "data_clean1.groupby('cat2').asin.count()"
   ]
  },
  {
   "cell_type": "code",
   "execution_count": 17,
   "metadata": {
    "ExecuteTime": {
     "end_time": "2018-05-02T20:01:16.025192Z",
     "start_time": "2018-05-02T20:01:15.988845Z"
    }
   },
   "outputs": [
    {
     "data": {
      "text/plain": [
       "cat3\n",
       "Clothing                         1\n",
       "Herbal Supplements           63259\n",
       "Minerals                     22340\n",
       "Multi & Prenatal Vitamins    44775\n",
       "Supplements                  91493\n",
       "Vitamins                     40474\n",
       "Weight Loss                  74541\n",
       "Name: asin, dtype: int64"
      ]
     },
     "execution_count": 17,
     "metadata": {},
     "output_type": "execute_result"
    }
   ],
   "source": [
    "data_clean2.groupby('cat3').asin.count()"
   ]
  },
  {
   "cell_type": "code",
   "execution_count": 9,
   "metadata": {
    "ExecuteTime": {
     "end_time": "2018-05-02T19:58:47.055014Z",
     "start_time": "2018-05-02T19:58:47.040558Z"
    }
   },
   "outputs": [
    {
     "data": {
      "text/plain": [
       "(217566, 26820)"
      ]
     },
     "execution_count": 9,
     "metadata": {},
     "output_type": "execute_result"
    }
   ],
   "source": [
    "len(data_clean3), data_clean3.asin.nunique()"
   ]
  },
  {
   "cell_type": "code",
   "execution_count": 22,
   "metadata": {
    "ExecuteTime": {
     "end_time": "2018-05-02T20:06:27.263954Z",
     "start_time": "2018-05-02T20:06:25.187201Z"
    }
   },
   "outputs": [],
   "source": [
    "data_clean3.to_pickle('../data/data_clean_v4')"
   ]
  },
  {
   "cell_type": "code",
   "execution_count": 22,
   "metadata": {
    "ExecuteTime": {
     "end_time": "2018-04-25T20:59:37.254176Z",
     "start_time": "2018-04-25T20:59:37.219136Z"
    }
   },
   "outputs": [],
   "source": [
    "# table created based on 'data tokenized'\n",
    "#small = data_clean3[['asin', 'helpful', 'reviewText', 'overall', 'summary', 'description', 'title', 'categories_clean', 'cat1', 'cat2', 'cat3', 'cat4', 'cat5', 'cat6', 'cat7']]"
   ]
  },
  {
   "cell_type": "code",
   "execution_count": 25,
   "metadata": {
    "ExecuteTime": {
     "end_time": "2018-04-25T21:02:31.876024Z",
     "start_time": "2018-04-25T21:02:26.309930Z"
    }
   },
   "outputs": [],
   "source": [
    "#small.reset_index().to_feather('data_clean_v3')"
   ]
  },
  {
   "cell_type": "code",
   "execution_count": 19,
   "metadata": {
    "ExecuteTime": {
     "end_time": "2018-05-02T20:04:53.757724Z",
     "start_time": "2018-05-02T20:04:51.680150Z"
    }
   },
   "outputs": [
    {
     "data": {
      "text/plain": [
       "217530"
      ]
     },
     "execution_count": 19,
     "metadata": {},
     "output_type": "execute_result"
    }
   ],
   "source": [
    "#small = pd.read_feather('../data/data_clean_v3')\n",
    "#len(small)"
   ]
  },
  {
   "cell_type": "markdown",
   "metadata": {},
   "source": [
    "## Split into individual categories"
   ]
  },
  {
   "cell_type": "code",
   "execution_count": 4,
   "metadata": {
    "ExecuteTime": {
     "end_time": "2018-04-26T00:38:51.368829Z",
     "start_time": "2018-04-26T00:38:51.347684Z"
    },
    "scrolled": true
   },
   "outputs": [
    {
     "data": {
      "text/plain": [
       "cat3\n",
       "Herbal Supplements    63246\n",
       "Minerals              22339\n",
       "Supplements           91477\n",
       "Vitamins              40468\n",
       "Name: asin, dtype: int64"
      ]
     },
     "execution_count": 4,
     "metadata": {},
     "output_type": "execute_result"
    }
   ],
   "source": [
    "small.groupby('cat3').asin.count()"
   ]
  },
  {
   "cell_type": "code",
   "execution_count": 4,
   "metadata": {
    "ExecuteTime": {
     "end_time": "2018-05-01T00:19:12.494693Z",
     "start_time": "2018-05-01T00:19:12.371418Z"
    }
   },
   "outputs": [],
   "source": [
    "herbs_only = small[small.cat3 == 'Herbal Supplements']\n",
    "min_only = small[small.cat3 == 'Minerals']\n",
    "supp_only = small[small.cat3 == 'Supplements']\n",
    "vit_only = small[small.cat3 == 'Vitamins']"
   ]
  },
  {
   "cell_type": "code",
   "execution_count": 5,
   "metadata": {
    "ExecuteTime": {
     "end_time": "2018-05-01T00:19:14.606373Z",
     "start_time": "2018-05-01T00:19:14.595305Z"
    }
   },
   "outputs": [],
   "source": [
    "# for prototyping\n",
    "fish_oil_only = supp_only[supp_only.cat4 == 'Fish Oil']"
   ]
  },
  {
   "cell_type": "markdown",
   "metadata": {},
   "source": [
    "## Preprocessing"
   ]
  },
  {
   "cell_type": "markdown",
   "metadata": {},
   "source": [
    "from: https://github.com/nicharuc/Collocations/blob/master/cleanreviews.py"
   ]
  },
  {
   "cell_type": "code",
   "execution_count": 17,
   "metadata": {
    "ExecuteTime": {
     "end_time": "2018-05-01T00:43:55.631073Z",
     "start_time": "2018-05-01T00:43:47.470494Z"
    }
   },
   "outputs": [],
   "source": [
    "def _removeNonAscii(s): return \"\".join(i for i in s if ord(i)<128) #remove non-ascii characters\n",
    "reviews = small.reviewText.map(lambda x: _removeNonAscii(x))"
   ]
  },
  {
   "cell_type": "code",
   "execution_count": 28,
   "metadata": {
    "ExecuteTime": {
     "end_time": "2018-05-01T04:03:49.620611Z",
     "start_time": "2018-05-01T04:03:49.592035Z"
    }
   },
   "outputs": [],
   "source": [
    "#function to clean and lemmatize comments\n",
    "def cleaner(text):\n",
    "    #remove punctuations\n",
    "    regex = re.compile('[' + re.escape(string.punctuation) + '\\\\r\\\\t\\\\n]')\n",
    "    #nopunct = regex.sub(\" \", str(text)) # string formatting issue \n",
    "    nopunct = regex.sub(\" \", text)\n",
    "    #use spacy to lemmatize comments\n",
    "    doc = nlp(nopunct, disable=['parser','ner'])\n",
    "    lemma = [token.lemma_ for token in doc]\n",
    "    return lemma"
   ]
  },
  {
   "cell_type": "code",
   "execution_count": 29,
   "metadata": {
    "ExecuteTime": {
     "end_time": "2018-05-01T04:21:46.449956Z",
     "start_time": "2018-05-01T04:03:54.276123Z"
    }
   },
   "outputs": [],
   "source": [
    "#apply function to clean and lemmatize comments\n",
    "lemmatized = reviews.map(cleaner)"
   ]
  },
  {
   "cell_type": "code",
   "execution_count": 30,
   "metadata": {
    "ExecuteTime": {
     "end_time": "2018-05-01T04:21:46.763980Z",
     "start_time": "2018-05-01T04:21:46.752809Z"
    }
   },
   "outputs": [
    {
     "data": {
      "text/plain": [
       "0    [-PRON-, start, take, this, after, both, -PRON...\n",
       "1    [-PRON-, really, like, this, product, because,...\n",
       "2    [resveratrol, be, a, polar, compound,  , very,...\n",
       "Name: reviewText, dtype: object"
      ]
     },
     "execution_count": 30,
     "metadata": {},
     "output_type": "execute_result"
    }
   ],
   "source": [
    "lemmatized.head(3)"
   ]
  },
  {
   "cell_type": "code",
   "execution_count": 31,
   "metadata": {
    "ExecuteTime": {
     "end_time": "2018-05-01T04:23:14.469541Z",
     "start_time": "2018-05-01T04:23:10.715741Z"
    }
   },
   "outputs": [],
   "source": [
    "#make sure to lowercase everything\n",
    "lemmatized_lwr = lemmatized.map(lambda x: [word.lower() for word in x])\n",
    "\n",
    "#turn all comments' tokens into one single list\n",
    "unlist_reviews = [item for items in lemmatized_lwr for item in items]"
   ]
  },
  {
   "cell_type": "code",
   "execution_count": 35,
   "metadata": {
    "ExecuteTime": {
     "end_time": "2018-05-01T04:23:45.674884Z",
     "start_time": "2018-05-01T04:23:45.671236Z"
    }
   },
   "outputs": [
    {
     "data": {
      "text/plain": [
       "217530"
      ]
     },
     "execution_count": 35,
     "metadata": {},
     "output_type": "execute_result"
    }
   ],
   "source": [
    "len(lemmatized_lwr)"
   ]
  },
  {
   "cell_type": "code",
   "execution_count": 34,
   "metadata": {
    "ExecuteTime": {
     "end_time": "2018-05-01T04:23:34.404552Z",
     "start_time": "2018-05-01T04:23:34.400907Z"
    }
   },
   "outputs": [
    {
     "data": {
      "text/plain": [
       "14982298"
      ]
     },
     "execution_count": 34,
     "metadata": {},
     "output_type": "execute_result"
    }
   ],
   "source": [
    "len(unlist_reviews)"
   ]
  },
  {
   "cell_type": "code",
   "execution_count": 127,
   "metadata": {
    "ExecuteTime": {
     "end_time": "2018-05-01T18:04:19.070772Z",
     "start_time": "2018-05-01T18:04:19.064904Z"
    }
   },
   "outputs": [
    {
     "data": {
      "text/plain": [
       "0    [-pron-, start, take, this, after, both, -pron...\n",
       "1    [-pron-, really, like, this, product, because,...\n",
       "2    [resveratrol, be, a, polar, compound,  , very,...\n",
       "3    [-pron-, buy, several, of, these, bracelet, fo...\n",
       "4    [-pron-, buy, a, few, the, other, week, just, ...\n",
       "Name: reviewText, dtype: object"
      ]
     },
     "execution_count": 127,
     "metadata": {},
     "output_type": "execute_result"
    }
   ],
   "source": [
    "lemmatized_lwr.head()"
   ]
  },
  {
   "cell_type": "markdown",
   "metadata": {},
   "source": [
    "## Bigrams and Trigrams"
   ]
  },
  {
   "cell_type": "markdown",
   "metadata": {},
   "source": [
    "from: https://medium.com/@nicharuch/collocations-identifying-phrases-that-act-like-individual-words-in-nlp-f58a93a2f84a"
   ]
  },
  {
   "cell_type": "code",
   "execution_count": 36,
   "metadata": {
    "ExecuteTime": {
     "end_time": "2018-05-01T04:25:43.863147Z",
     "start_time": "2018-05-01T04:23:58.303306Z"
    }
   },
   "outputs": [],
   "source": [
    "bigrams = nltk.collocations.BigramAssocMeasures()\n",
    "trigrams = nltk.collocations.TrigramAssocMeasures()\n",
    "bigramFinder = nltk.collocations.BigramCollocationFinder.from_words(unlist_reviews)\n",
    "trigramFinder = nltk.collocations.TrigramCollocationFinder.from_words(unlist_reviews)"
   ]
  },
  {
   "cell_type": "markdown",
   "metadata": {},
   "source": [
    "### Method 1: Frequency with part of speech filters"
   ]
  },
  {
   "cell_type": "code",
   "execution_count": 1,
   "metadata": {
    "ExecuteTime": {
     "end_time": "2018-05-02T21:06:39.811077Z",
     "start_time": "2018-05-02T21:06:39.705957Z"
    }
   },
   "outputs": [
    {
     "ename": "NameError",
     "evalue": "name 'bigramFinder' is not defined",
     "output_type": "error",
     "traceback": [
      "\u001b[0;31m---------------------------------------------------------------------------\u001b[0m",
      "\u001b[0;31mNameError\u001b[0m                                 Traceback (most recent call last)",
      "\u001b[0;32m<ipython-input-1-2da83d2a8a36>\u001b[0m in \u001b[0;36m<module>\u001b[0;34m()\u001b[0m\n\u001b[1;32m      1\u001b[0m \u001b[0;31m#bigrams\u001b[0m\u001b[0;34m\u001b[0m\u001b[0;34m\u001b[0m\u001b[0m\n\u001b[0;32m----> 2\u001b[0;31m \u001b[0mbigram_freq\u001b[0m \u001b[0;34m=\u001b[0m \u001b[0mbigramFinder\u001b[0m\u001b[0;34m.\u001b[0m\u001b[0mngram_fd\u001b[0m\u001b[0;34m.\u001b[0m\u001b[0mitems\u001b[0m\u001b[0;34m(\u001b[0m\u001b[0;34m)\u001b[0m\u001b[0;34m\u001b[0m\u001b[0m\n\u001b[0m\u001b[1;32m      3\u001b[0m \u001b[0mbigramFreqTable\u001b[0m \u001b[0;34m=\u001b[0m \u001b[0mpd\u001b[0m\u001b[0;34m.\u001b[0m\u001b[0mDataFrame\u001b[0m\u001b[0;34m(\u001b[0m\u001b[0mlist\u001b[0m\u001b[0;34m(\u001b[0m\u001b[0mbigram_freq\u001b[0m\u001b[0;34m)\u001b[0m\u001b[0;34m,\u001b[0m \u001b[0mcolumns\u001b[0m\u001b[0;34m=\u001b[0m\u001b[0;34m[\u001b[0m\u001b[0;34m'bigram'\u001b[0m\u001b[0;34m,\u001b[0m\u001b[0;34m'freq'\u001b[0m\u001b[0;34m]\u001b[0m\u001b[0;34m)\u001b[0m\u001b[0;34m.\u001b[0m\u001b[0msort_values\u001b[0m\u001b[0;34m(\u001b[0m\u001b[0mby\u001b[0m\u001b[0;34m=\u001b[0m\u001b[0;34m'freq'\u001b[0m\u001b[0;34m,\u001b[0m \u001b[0mascending\u001b[0m\u001b[0;34m=\u001b[0m\u001b[0;32mFalse\u001b[0m\u001b[0;34m)\u001b[0m\u001b[0;34m\u001b[0m\u001b[0m\n\u001b[1;32m      4\u001b[0m \u001b[0;34m\u001b[0m\u001b[0m\n\u001b[1;32m      5\u001b[0m \u001b[0;31m#trigrams\u001b[0m\u001b[0;34m\u001b[0m\u001b[0;34m\u001b[0m\u001b[0m\n",
      "\u001b[0;31mNameError\u001b[0m: name 'bigramFinder' is not defined"
     ]
    }
   ],
   "source": [
    "#bigrams\n",
    "bigram_freq = bigramFinder.ngram_fd.items()\n",
    "bigramFreqTable = pd.DataFrame(list(bigram_freq), columns=['bigram','freq']).sort_values(by='freq', ascending=False)\n",
    "\n",
    "#trigrams\n",
    "trigram_freq = trigramFinder.ngram_fd.items()\n",
    "trigramFreqTable = pd.DataFrame(list(trigram_freq), columns=['trigram','freq']).sort_values(by='freq', ascending=False)"
   ]
  },
  {
   "cell_type": "code",
   "execution_count": 38,
   "metadata": {
    "ExecuteTime": {
     "end_time": "2018-05-01T04:30:04.382054Z",
     "start_time": "2018-05-01T04:26:14.027114Z"
    }
   },
   "outputs": [],
   "source": [
    "#get english stopwords\n",
    "en_stopwords = set(stopwords.words('english'))\n",
    "#function to filter for ADJ/NN bigrams\n",
    "def rightTypes(ngram):\n",
    "    if '-pron-' in ngram or 't' in ngram:\n",
    "        return False\n",
    "    for word in ngram:\n",
    "        if word in en_stopwords or word.isspace():\n",
    "            return False\n",
    "    acceptable_types = ('JJ', 'JJR', 'JJS', 'NN', 'NNS', 'NNP', 'NNPS')\n",
    "    second_type = ('NN', 'NNS', 'NNP', 'NNPS')\n",
    "    tags = nltk.pos_tag(ngram)\n",
    "    if tags[0][1] in acceptable_types and tags[1][1] in second_type:\n",
    "        return True\n",
    "    else:\n",
    "        return False\n",
    "#filter bigrams\n",
    "filtered_bi = bigramFreqTable[bigramFreqTable.bigram.map(lambda x: rightTypes(x))]\n",
    "\n",
    "#function to filter for trigrams\n",
    "def rightTypesTri(ngram):\n",
    "    if '-pron-' in ngram or 't' in ngram:\n",
    "        return False\n",
    "    for word in ngram:\n",
    "        if word in en_stopwords or word.isspace():\n",
    "            return False\n",
    "    first_type = ('JJ', 'JJR', 'JJS', 'NN', 'NNS', 'NNP', 'NNPS')\n",
    "    third_type = ('JJ', 'JJR', 'JJS', 'NN', 'NNS', 'NNP', 'NNPS')\n",
    "    tags = nltk.pos_tag(ngram)\n",
    "    if tags[0][1] in first_type and tags[2][1] in third_type:\n",
    "        return True\n",
    "    else:\n",
    "        return False\n",
    "#filter trigrams\n",
    "filtered_tri = trigramFreqTable[trigramFreqTable.trigram.map(lambda x: rightTypesTri(x))]"
   ]
  },
  {
   "cell_type": "code",
   "execution_count": 46,
   "metadata": {
    "ExecuteTime": {
     "end_time": "2018-05-01T04:36:30.435477Z",
     "start_time": "2018-05-01T04:36:30.429030Z"
    }
   },
   "outputs": [
    {
     "data": {
      "text/plain": [
       "(313821, 239737)"
      ]
     },
     "execution_count": 46,
     "metadata": {},
     "output_type": "execute_result"
    }
   ],
   "source": [
    "len(filtered_bi), len(filtered_tri)"
   ]
  },
  {
   "cell_type": "code",
   "execution_count": 79,
   "metadata": {
    "ExecuteTime": {
     "end_time": "2018-05-01T04:52:54.640536Z",
     "start_time": "2018-05-01T04:52:54.633280Z"
    }
   },
   "outputs": [],
   "source": [
    "filtered_bi_freq = filtered_bi[filtered_bi.freq > 20].bigram.tolist()\n",
    "filtered_tri_freq = filtered_tri[filtered_tri.freq > 20].trigram.tolist()"
   ]
  },
  {
   "cell_type": "markdown",
   "metadata": {},
   "source": [
    "### Method 2: Pointwise Mutual Information"
   ]
  },
  {
   "cell_type": "code",
   "execution_count": 41,
   "metadata": {
    "ExecuteTime": {
     "end_time": "2018-05-01T04:34:12.928434Z",
     "start_time": "2018-05-01T04:34:11.463357Z"
    }
   },
   "outputs": [],
   "source": [
    "#filter for only those with more than 20 occurences\n",
    "bigramFinder.apply_freq_filter(20)\n",
    "trigramFinder.apply_freq_filter(20)\n",
    "bigramPMITable = pd.DataFrame(list(bigramFinder.score_ngrams(bigrams.pmi)), columns=['bigram','PMI']).sort_values(by='PMI', ascending=False)\n",
    "trigramPMITable = pd.DataFrame(list(trigramFinder.score_ngrams(trigrams.pmi)), columns=['trigram','PMI']).sort_values(by='PMI', ascending=False)"
   ]
  },
  {
   "cell_type": "code",
   "execution_count": 44,
   "metadata": {
    "ExecuteTime": {
     "end_time": "2018-05-01T04:36:06.581987Z",
     "start_time": "2018-05-01T04:36:06.576110Z"
    }
   },
   "outputs": [
    {
     "data": {
      "text/plain": [
       "(58344, 78163)"
      ]
     },
     "execution_count": 44,
     "metadata": {},
     "output_type": "execute_result"
    }
   ],
   "source": [
    "len(bigramPMITable), len(trigramPMITable)"
   ]
  },
  {
   "cell_type": "code",
   "execution_count": 81,
   "metadata": {
    "ExecuteTime": {
     "end_time": "2018-05-01T04:53:18.761404Z",
     "start_time": "2018-05-01T04:53:18.755341Z"
    }
   },
   "outputs": [],
   "source": [
    "pmi_bigram_freq = bigramPMITable[bigramPMITable.PMI>8].bigram.tolist()\n",
    "pmi_trigram_freq = trigramPMITable[trigramPMITable.PMI>18].trigram.tolist()"
   ]
  },
  {
   "cell_type": "code",
   "execution_count": 85,
   "metadata": {
    "ExecuteTime": {
     "end_time": "2018-05-01T04:58:18.289708Z",
     "start_time": "2018-05-01T04:58:18.281026Z"
    }
   },
   "outputs": [],
   "source": [
    "bigrams_full = filtered_bi_freq+pmi_bigram_freq\n",
    "bigram_list = list(set(bigrams_full))\n",
    "\n",
    "trigrams_full = filtered_tri_freq+pmi_trigram_freq\n",
    "trigram_list = list(set(trigrams_full))"
   ]
  },
  {
   "cell_type": "markdown",
   "metadata": {},
   "source": [
    "### Replace grams in text"
   ]
  },
  {
   "cell_type": "code",
   "execution_count": 86,
   "metadata": {
    "ExecuteTime": {
     "end_time": "2018-05-01T04:58:30.387024Z",
     "start_time": "2018-05-01T04:58:30.380519Z"
    }
   },
   "outputs": [],
   "source": [
    "# replace the word with selected ngram\n",
    "def trigram_concat(text):\n",
    "    text1 = text.lower()\n",
    "    for ngram in trigram_list:\n",
    "        raw = str(' '.join(ngram))\n",
    "        clean = str('_'.join(ngram))\n",
    "        text1 = text1.replace(raw, clean)\n",
    "    return text1"
   ]
  },
  {
   "cell_type": "code",
   "execution_count": 87,
   "metadata": {
    "ExecuteTime": {
     "end_time": "2018-05-01T04:58:42.392481Z",
     "start_time": "2018-05-01T04:58:42.385989Z"
    }
   },
   "outputs": [],
   "source": [
    "# replace the word with selected ngram\n",
    "def bigram_concat(text):\n",
    "    text1 = text.lower()\n",
    "    for ngram in bigram_list:\n",
    "        raw = str(' '.join(ngram))\n",
    "        clean = str('_'.join(ngram))\n",
    "        text1 = text1.replace(raw, clean)\n",
    "    return text1"
   ]
  },
  {
   "cell_type": "code",
   "execution_count": 88,
   "metadata": {
    "ExecuteTime": {
     "end_time": "2018-05-01T05:09:03.555732Z",
     "start_time": "2018-05-01T05:06:06.270605Z"
    }
   },
   "outputs": [],
   "source": [
    "trigrammed = reviews.map(trigram_concat)"
   ]
  },
  {
   "cell_type": "code",
   "execution_count": 89,
   "metadata": {
    "ExecuteTime": {
     "end_time": "2018-05-01T05:31:30.312276Z",
     "start_time": "2018-05-01T05:09:15.111170Z"
    }
   },
   "outputs": [],
   "source": [
    "bigrammed = trigrammed.map(bigram_concat)"
   ]
  },
  {
   "cell_type": "code",
   "execution_count": 128,
   "metadata": {
    "ExecuteTime": {
     "end_time": "2018-05-01T18:04:57.094418Z",
     "start_time": "2018-05-01T18:04:57.090457Z"
    }
   },
   "outputs": [
    {
     "data": {
      "text/plain": [
       "0    I started taking this after both my parents di...\n",
       "1    I really liked this product because it stayed ...\n",
       "2    Resveratrol is a polar compound, very insolubl...\n",
       "3    I bought several of these bracelets for my YMC...\n",
       "4    I bought a few the other week just to see what...\n",
       "5    This bracelet is so simple yet so elegant.  I ...\n",
       "6    I recently bought a bunch of these to hand out...\n",
       "7    These are very gentle on your body never know ...\n",
       "8    I was extremely impressed with the super fast ...\n",
       "9    I've been using this product for about 3 month...\n",
       "Name: reviewText, dtype: object"
      ]
     },
     "execution_count": 128,
     "metadata": {},
     "output_type": "execute_result"
    }
   ],
   "source": [
    "reviews[:10]"
   ]
  },
  {
   "cell_type": "code",
   "execution_count": 90,
   "metadata": {
    "ExecuteTime": {
     "end_time": "2018-05-01T05:31:41.953177Z",
     "start_time": "2018-05-01T05:31:41.948998Z"
    }
   },
   "outputs": [
    {
     "data": {
      "text/plain": [
       "0    i started taking this after both my parents di...\n",
       "1    i really liked this product because it stayed ...\n",
       "2    resveratrol is a polar compound, very insolubl...\n",
       "3    i bought several of these bracelets for my ymc...\n",
       "4    i bought a few the other week just to see what...\n",
       "5    this bracelet is so simple yet so elegant.  i ...\n",
       "6    i recently bought a bunch of these to hand out...\n",
       "7    these are very gentle on your body never know ...\n",
       "8    i was extremely impressed with the super_fast_...\n",
       "9    i've been using this product for about 3 month...\n",
       "Name: reviewText, dtype: object"
      ]
     },
     "execution_count": 90,
     "metadata": {},
     "output_type": "execute_result"
    }
   ],
   "source": [
    "bigrammed[:10]"
   ]
  },
  {
   "cell_type": "code",
   "execution_count": 91,
   "metadata": {
    "ExecuteTime": {
     "end_time": "2018-05-01T05:31:53.752410Z",
     "start_time": "2018-05-01T05:31:53.522400Z"
    }
   },
   "outputs": [],
   "source": [
    "pd.DataFrame(bigrammed).to_pickle('grams')"
   ]
  },
  {
   "cell_type": "code",
   "execution_count": null,
   "metadata": {},
   "outputs": [],
   "source": [
    "# remove punctuation"
   ]
  },
  {
   "cell_type": "code",
   "execution_count": null,
   "metadata": {},
   "outputs": [],
   "source": []
  },
  {
   "cell_type": "markdown",
   "metadata": {},
   "source": [
    "## Plot token frequency"
   ]
  },
  {
   "cell_type": "code",
   "execution_count": 4,
   "metadata": {
    "ExecuteTime": {
     "end_time": "2018-04-25T23:34:33.943196Z",
     "start_time": "2018-04-25T23:34:33.802397Z"
    }
   },
   "outputs": [],
   "source": [
    "#data = pd.read_pickle('reviews_gram_concat')"
   ]
  },
  {
   "cell_type": "code",
   "execution_count": 102,
   "metadata": {
    "ExecuteTime": {
     "end_time": "2018-05-01T06:18:34.958461Z",
     "start_time": "2018-05-01T06:18:34.954802Z"
    }
   },
   "outputs": [],
   "source": [
    "def spacy_stem(toke):\n",
    "    doc = nlp(toke, disable=['parser','ner'])\n",
    "    lemma = [token.lemma_ for token in doc]\n",
    "    return lemma"
   ]
  },
  {
   "cell_type": "code",
   "execution_count": 124,
   "metadata": {
    "ExecuteTime": {
     "end_time": "2018-05-01T17:48:33.315928Z",
     "start_time": "2018-05-01T17:30:49.500668Z"
    }
   },
   "outputs": [],
   "source": [
    "tokenized = bigrammed.apply(spacy_stem)"
   ]
  },
  {
   "cell_type": "code",
   "execution_count": 125,
   "metadata": {
    "ExecuteTime": {
     "end_time": "2018-05-01T17:48:45.736709Z",
     "start_time": "2018-05-01T17:48:45.730873Z"
    }
   },
   "outputs": [
    {
     "data": {
      "text/plain": [
       "0    [i, start, take, this, after, both, -PRON-, pa...\n",
       "1    [i, really, like, this, product, because, -PRO...\n",
       "2    [resveratrol, be, a, polar, compound, ,, very,...\n",
       "3    [i, buy, several, of, these, bracelet, for, -P...\n",
       "4    [i, buy, a, few, the, other, week, just, to, s...\n",
       "Name: reviewText, dtype: object"
      ]
     },
     "execution_count": 125,
     "metadata": {},
     "output_type": "execute_result"
    }
   ],
   "source": [
    "tokenized.head()"
   ]
  },
  {
   "cell_type": "code",
   "execution_count": null,
   "metadata": {},
   "outputs": [],
   "source": []
  },
  {
   "cell_type": "code",
   "execution_count": null,
   "metadata": {},
   "outputs": [],
   "source": []
  },
  {
   "cell_type": "code",
   "execution_count": 94,
   "metadata": {
    "ExecuteTime": {
     "end_time": "2018-05-01T05:36:14.292366Z",
     "start_time": "2018-05-01T05:33:44.040377Z"
    }
   },
   "outputs": [],
   "source": [
    "#custom_punct = string.punctuation.replace('_','')\n",
    "#\n",
    "#def tokenize(text):   \n",
    "#    text = text.lower()\n",
    "#    text = re.sub('[' + custom_punct + '0-9\\\\r\\\\t\\\\n]', ' ', text)\n",
    "#    tokens = nltk.word_tokenize(text)\n",
    "#    tokens = [w for w in tokens if len(w) > 2]\n",
    "#    tokens = [w for w in tokens if not w in en_stopwords]\n",
    "#    tokens = [stemmer.stem(w) for w in tokens] \n",
    "#    return tokens \n",
    "#\n",
    "#vectorizer = CountVectorizer(tokenizer = tokenize) # remove stop words\n",
    "#docs = vectorizer.fit_transform(bigrammed)\n",
    "#features = vectorizer.get_feature_names()"
   ]
  },
  {
   "cell_type": "code",
   "execution_count": 96,
   "metadata": {
    "ExecuteTime": {
     "end_time": "2018-05-01T05:38:10.835052Z",
     "start_time": "2018-05-01T05:38:10.832112Z"
    }
   },
   "outputs": [
    {
     "data": {
      "text/plain": [
       "93226"
      ]
     },
     "execution_count": 96,
     "metadata": {},
     "output_type": "execute_result"
    }
   ],
   "source": [
    "len(features)"
   ]
  },
  {
   "cell_type": "code",
   "execution_count": 129,
   "metadata": {
    "ExecuteTime": {
     "end_time": "2018-05-01T18:19:20.112608Z",
     "start_time": "2018-05-01T18:17:02.492482Z"
    }
   },
   "outputs": [],
   "source": [
    "custom_punct = string.punctuation.replace('_','')\n",
    "\n",
    "def tokenize_spaced(text):   \n",
    "    text = re.sub('[' + custom_punct + '0-9\\\\r\\\\t\\\\n]', ' ', text)\n",
    "    text = spacy_stem(text)\n",
    "    tokens = nltk.word_tokenize(text)\n",
    "    tokens = [w for w in tokens if len(w) > 2]\n",
    "    tokens = [w for w in tokens if not w in en_stopwords]\n",
    "    return tokens \n",
    "\n",
    "vectorizer_spaced = CountVectorizer(tokenizer = tokenize)\n",
    "docs_spaced = vectorizer_spaced.fit_transform(bigrammed)\n",
    "features_spaced = vectorizer_spaced.get_feature_names()"
   ]
  },
  {
   "cell_type": "code",
   "execution_count": 130,
   "metadata": {
    "ExecuteTime": {
     "end_time": "2018-05-01T18:19:32.200283Z",
     "start_time": "2018-05-01T18:19:32.197412Z"
    }
   },
   "outputs": [
    {
     "data": {
      "text/plain": [
       "93226"
      ]
     },
     "execution_count": 130,
     "metadata": {},
     "output_type": "execute_result"
    }
   ],
   "source": [
    "len(features_spaced)"
   ]
  },
  {
   "cell_type": "markdown",
   "metadata": {},
   "source": [
    "Need to manually clean words that start with _ since _ is being ignored "
   ]
  },
  {
   "cell_type": "code",
   "execution_count": 159,
   "metadata": {
    "ExecuteTime": {
     "end_time": "2018-05-01T19:29:37.498896Z",
     "start_time": "2018-05-01T19:29:37.495480Z"
    }
   },
   "outputs": [
    {
     "data": {
      "text/plain": [
       "['\\\\bought',\n",
       " '\\\\day',\n",
       " '\\\\heart_palpit',\n",
       " '\\\\jarrow_formulas_curcumin_',\n",
       " '\\\\love',\n",
       " '\\\\muscl',\n",
       " '____',\n",
       " '__________________________________________________________________________________couldn',\n",
       " '__________________________________________________________________________________note',\n",
       " '________________________________________________six']"
      ]
     },
     "execution_count": 159,
     "metadata": {},
     "output_type": "execute_result"
    }
   ],
   "source": [
    "features_spaced[:10]"
   ]
  },
  {
   "cell_type": "code",
   "execution_count": 172,
   "metadata": {
    "ExecuteTime": {
     "end_time": "2018-05-01T19:34:50.741352Z",
     "start_time": "2018-05-01T19:34:50.736816Z"
    }
   },
   "outputs": [],
   "source": [
    "def clean_features(string):\n",
    "    string_clean = re.sub(r'^(\\\\)', '', string)\n",
    "    string_clean = re.sub(r'(\\+)$', '', string_clean)\n",
    "    string_clean = re.sub(r'^(_+)', '', string_clean)\n",
    "    string_clean = re.sub(r'(_+)$', '', string_clean)\n",
    "    return string_clean"
   ]
  },
  {
   "cell_type": "code",
   "execution_count": 173,
   "metadata": {
    "ExecuteTime": {
     "end_time": "2018-05-01T19:35:03.350862Z",
     "start_time": "2018-05-01T19:35:03.029145Z"
    }
   },
   "outputs": [],
   "source": [
    "features_spaced_clean = list(map(clean_features, features_spaced))"
   ]
  },
  {
   "cell_type": "code",
   "execution_count": 174,
   "metadata": {
    "ExecuteTime": {
     "end_time": "2018-05-01T19:35:15.421166Z",
     "start_time": "2018-05-01T19:35:15.417418Z"
    }
   },
   "outputs": [
    {
     "data": {
      "text/plain": [
       "['bought',\n",
       " 'day',\n",
       " 'heart_palpit',\n",
       " 'jarrow_formulas_curcumin',\n",
       " 'love',\n",
       " 'muscl',\n",
       " '',\n",
       " 'couldn',\n",
       " 'note',\n",
       " 'six']"
      ]
     },
     "execution_count": 174,
     "metadata": {},
     "output_type": "execute_result"
    }
   ],
   "source": [
    "features_spaced_clean[:10]"
   ]
  },
  {
   "cell_type": "code",
   "execution_count": 176,
   "metadata": {
    "ExecuteTime": {
     "end_time": "2018-05-01T19:36:04.030541Z",
     "start_time": "2018-05-01T19:36:04.017609Z"
    }
   },
   "outputs": [],
   "source": [
    "features_spaced_clean2 = [i for i in features_spaced_clean if i != '']"
   ]
  },
  {
   "cell_type": "code",
   "execution_count": 190,
   "metadata": {
    "ExecuteTime": {
     "end_time": "2018-05-01T21:57:01.620813Z",
     "start_time": "2018-05-01T21:57:01.592858Z"
    }
   },
   "outputs": [
    {
     "data": {
      "text/plain": [
       "['zzz',\n",
       " 'zzzz',\n",
       " 'zzzzs',\n",
       " 'zzzzz',\n",
       " 'zzzzzuil',\n",
       " 'zzzzzz',\n",
       " 'zzzzzzzzs',\n",
       " 'zzzzzzzzzzzzz']"
      ]
     },
     "execution_count": 190,
     "metadata": {},
     "output_type": "execute_result"
    }
   ],
   "source": [
    "[i for i in features_spaced_clean2 if i.startswith('zzz')]"
   ]
  },
  {
   "cell_type": "code",
   "execution_count": 183,
   "metadata": {
    "ExecuteTime": {
     "end_time": "2018-05-01T21:53:23.803470Z",
     "start_time": "2018-05-01T21:53:23.800070Z"
    }
   },
   "outputs": [
    {
     "data": {
      "text/plain": [
       "(93226, 93225, 93226)"
      ]
     },
     "execution_count": 183,
     "metadata": {},
     "output_type": "execute_result"
    }
   ],
   "source": [
    "len(features_spaced_clean), len(features_spaced_clean2), len(features)"
   ]
  },
  {
   "cell_type": "code",
   "execution_count": 184,
   "metadata": {
    "ExecuteTime": {
     "end_time": "2018-05-01T21:54:15.030651Z",
     "start_time": "2018-05-01T21:54:14.435965Z"
    }
   },
   "outputs": [
    {
     "data": {
      "image/png": "[encoded data removed]",
      "text/plain": [
       "<matplotlib.figure.Figure at 0x1b63749cf8>"
      ]
     },
     "metadata": {},
     "output_type": "display_data"
    }
   ],
   "source": [
    "import matplotlib.pyplot as plt\n",
    "plt.figure(figsize=(30, 20))  # the size you want\n",
    "plt.tick_params(labelsize=30)\n",
    "\n",
    "visualizer_spaced = FreqDistVisualizer(features=features_spaced_clean2)\n",
    "visualizer_spaced.fit(docs_spaced)\n",
    "visualizer_spaced.poof()"
   ]
  },
  {
   "cell_type": "code",
   "execution_count": 185,
   "metadata": {
    "ExecuteTime": {
     "end_time": "2018-05-01T21:54:38.549276Z",
     "start_time": "2018-05-01T21:54:38.529277Z"
    }
   },
   "outputs": [
    {
     "data": {
      "text/plain": [
       "FrequencyVisualizer(ax=<matplotlib.axes._subplots.AxesSubplot object at 0x1b637494a8>,\n",
       "          color=None,\n",
       "          features=['bought', 'day', 'heart_palpit', 'jarrow_formulas_curcumin', 'love', 'muscl', 'couldn', 'note', 'six', 'i', 'updat', 'updat', 'mi', 'updat', 'followup', 'mi', 'never', 'you', 'automatically', 'before', 'billion', 'billion_cfu', 'billion_cfus', 'billion_or', 'billion_organ', 'bottl', 'capsu... 'zyzz', 'zza', 'zzz', 'zzzz', 'zzzzs', 'zzzzz', 'zzzzzuil', 'zzzzzz', 'zzzzzzzzs', 'zzzzzzzzzzzzz'],\n",
       "          n=None, orient='h')"
      ]
     },
     "execution_count": 185,
     "metadata": {},
     "output_type": "execute_result"
    }
   ],
   "source": [
    "visualizer_spaced"
   ]
  },
  {
   "cell_type": "code",
   "execution_count": 105,
   "metadata": {
    "ExecuteTime": {
     "end_time": "2018-05-01T06:23:08.180995Z",
     "start_time": "2018-05-01T06:23:07.641278Z"
    }
   },
   "outputs": [
    {
     "data": {
      "image/png": "[encoded data removed]",
      "text/plain": [
       "<matplotlib.figure.Figure at 0x1b19e30e48>"
      ]
     },
     "metadata": {},
     "output_type": "display_data"
    }
   ],
   "source": [
    "import matplotlib.pyplot as plt\n",
    "plt.figure(figsize=(30, 20))  # the size you want\n",
    "plt.tick_params(labelsize=20)\n",
    "\n",
    "visualizer = FreqDistVisualizer(features=features)\n",
    "visualizer.fit(docs)\n",
    "visualizer.poof()"
   ]
  },
  {
   "cell_type": "markdown",
   "metadata": {},
   "source": [
    "## NMF"
   ]
  },
  {
   "cell_type": "code",
   "execution_count": 180,
   "metadata": {
    "ExecuteTime": {
     "end_time": "2018-05-01T19:38:48.513464Z",
     "start_time": "2018-05-01T19:38:48.423101Z"
    }
   },
   "outputs": [],
   "source": [
    "feature_names = vectorizer_spaced.get_feature_names()"
   ]
  },
  {
   "cell_type": "code",
   "execution_count": 181,
   "metadata": {
    "ExecuteTime": {
     "end_time": "2018-05-01T19:40:52.943038Z",
     "start_time": "2018-05-01T19:39:01.297910Z"
    }
   },
   "outputs": [
    {
     "name": "stdout",
     "output_type": "stream",
     "text": [
      "Num. Topics:  4\n",
      "Topic 0:\n",
      "like tri day work one get feel realli help would well better also tast time much make give week even\n",
      "Topic 1:\n",
      "use year also skin hair make sinc start time well great month love help continu brand drop week easi much\n",
      "Topic 2:\n",
      "product recommend would love help purchas highly_recommend order the_product amazon price buy found well tri great year realli also result\n",
      "Topic 3:\n",
      "take day start pill year supplement month sinc week vitamin feel notic also help one two time get doctor everi\n",
      "\n",
      "Num. Topics:  5\n",
      "Topic 0:\n",
      "like tri work one get feel realli help tast well also better would make much give good even great say\n",
      "Topic 1:\n",
      "use year also skin hair start sinc time month make well great continu love week drop help face brand much\n",
      "Topic 2:\n",
      "product recommend would love purchas help highly_recommend order the_product amazon price buy year found result happi compani great well continu\n",
      "Topic 3:\n",
      "take start pill supplement year help also vitamin sinc feel month notic one get doctor daili week recommend better two\n",
      "Topic 4:\n",
      "day start week two one time everi work month took pill per get first back pain would within three notic\n",
      "\n",
      "Num. Topics:  6\n",
      "Topic 0:\n",
      "like feel tast get make better realli good drink love much also mix great water vitamin eat need buy even\n",
      "Topic 1:\n",
      "use year also skin hair sinc time make start great well month love continu drop face brand easi week much\n",
      "Topic 2:\n",
      "product recommend would love purchas highly_recommend the_product order amazon price buy found compani result happi great continu find look definit\n",
      "Topic 3:\n",
      "take start pill supplement vitamin year also sinc feel notic month get one help daili doctor week recommend two better\n",
      "Topic 4:\n",
      "day start week everi two time feel one per pill took get first month back within three notic twice pain\n",
      "Topic 5:\n",
      "tri work help one well get would realli also give year week time month found start seem even recommend back\n",
      "\n",
      "Num. Topics:  7\n",
      "Topic 0:\n",
      "like feel tast get make better realli good drink much love also mix great water eat need even vitamin buy\n",
      "Topic 1:\n",
      "use year also skin hair sinc time make great start well month continu love drop face much week brand water\n",
      "Topic 2:\n",
      "product recommend would love purchas highly_recommend order the_product amazon price buy found compani happi result great find continu look pleas\n",
      "Topic 3:\n",
      "take start pill supplement year sinc also vitamin feel month notic get daili doctor week recommend better help two need\n",
      "Topic 4:\n",
      "day start week everi time two per feel get took pill first month back within three notic twice pain felt\n",
      "Topic 5:\n",
      "work tri help well realli would get also week give start month year time better pain seem back recommend much\n",
      "Topic 6:\n",
      "one best brand bottl need two found pill get supplement tri price buy vitamin find amazon anoth purchas pedomet make\n",
      "\n"
     ]
    }
   ],
   "source": [
    "for n in [4,5,6,7]:\n",
    "    nmf = NMF(n_components=n, random_state=1, alpha=.1, l1_ratio=.5, init='nndsvd').fit(docs)\n",
    "    # if n_components=no_topics --> all features are kept\n",
    "    print('Num. Topics: ', n)\n",
    "    num_top_words = 20\n",
    "    for topic_idx, topic in enumerate(nmf.components_):\n",
    "        print(\"Topic %d:\" % (topic_idx))\n",
    "        print(\" \".join([feature_names[i]\n",
    "                        for i in topic.argsort()[:-num_top_words - 1:-1]]))\n",
    "    print('')"
   ]
  },
  {
   "cell_type": "markdown",
   "metadata": {},
   "source": [
    "## LDA"
   ]
  },
  {
   "cell_type": "code",
   "execution_count": 182,
   "metadata": {
    "ExecuteTime": {
     "end_time": "2018-05-01T20:06:22.717203Z",
     "start_time": "2018-05-01T19:41:05.323362Z"
    }
   },
   "outputs": [
    {
     "name": "stdout",
     "output_type": "stream",
     "text": [
      "Num. Topics:  4\n",
      "Topic 0:\n",
      "product use buy price purchas order would the_product one amazon\n",
      "Topic 1:\n",
      "use tast like skin love make drink hair mix great\n",
      "Topic 2:\n",
      "take day product feel work help use tri start week\n",
      "Topic 3:\n",
      "take supplement vitamin also fish_oil one help bodi need brand\n",
      "\n",
      "Num. Topics:  5\n",
      "Topic 0:\n",
      "take day feel tri use work product get like start\n",
      "Topic 1:\n",
      "use skin hair receiv bottl nail nice smell also look\n",
      "Topic 2:\n",
      "take help product use supplement recommend pain also notic sleep\n",
      "Topic 3:\n",
      "tast like take mix fish_oil supplement also vitamin make one\n",
      "Topic 4:\n",
      "product use buy easi love price would recommend like one\n",
      "\n",
      "Num. Topics:  6\n",
      "Topic 0:\n",
      "take day product help use feel work tri start week\n",
      "Topic 1:\n",
      "use skin hair tast mix drink like water make love\n",
      "Topic 2:\n",
      "compani the_product ship excel packag arriv receiv good_product time provid\n",
      "Topic 3:\n",
      "take fish_oil vitamin probiot supplement bodi eat also food need\n",
      "Topic 4:\n",
      "product use like buy love take one tri easi tast\n",
      "Topic 5:\n",
      "benefit ingredi supplement fact ad tea contain krill_oil sugar import\n",
      "\n",
      "Num. Topics:  7\n",
      "Topic 0:\n",
      "tast use like take product get one tri good love\n",
      "Topic 1:\n",
      "use skin hair add nail nice face strong also love\n",
      "Topic 2:\n",
      "take month day product start help use week year pain\n",
      "Topic 3:\n",
      "compani ship price great_pric thank amazon great_product dog order best\n",
      "Topic 4:\n",
      "take product feel work use day tri like realli one\n",
      "Topic 5:\n",
      "supplement benefit vitamin ingredi brand contain qualiti tea magnesium the_product\n",
      "Topic 6:\n",
      "high level bodi krill_oil also _mg anti coq cholesterol inflamm\n",
      "\n"
     ]
    }
   ],
   "source": [
    "for n in [4,5,6,7]:\n",
    "    lda = LatentDirichletAllocation(n_topics=n, max_iter=5, learning_method='online',\\\n",
    "                                    learning_offset=50.,random_state=0).fit(docs)\n",
    "    print('Num. Topics: ', n)\n",
    "    num_top_words = 10\n",
    "    for topic_idx, topic in enumerate(lda.components_):\n",
    "        print(\"Topic %d:\" % (topic_idx))\n",
    "        print(\" \".join([feature_names[i]\n",
    "                        for i in topic.argsort()[:-num_top_words - 1:-1]]))\n",
    "    print('')"
   ]
  },
  {
   "cell_type": "markdown",
   "metadata": {},
   "source": [
    "## Nouns Only"
   ]
  },
  {
   "cell_type": "code",
   "execution_count": 108,
   "metadata": {
    "ExecuteTime": {
     "end_time": "2018-05-01T06:40:43.177419Z",
     "start_time": "2018-05-01T06:40:43.173390Z"
    }
   },
   "outputs": [],
   "source": [
    "def noun_only(x):\n",
    "    pos_comment = nltk.pos_tag(x)\n",
    "    #filtered = [word[0] for word in pos_comment if word[1] in ['NN', 'NNP', 'VB', 'VBD', 'VBG', 'VBN', 'VBZ']]\n",
    "    filtered = [word[0] for word in pos_comment if word[1] in ['NN']]\n",
    "    return filtered"
   ]
  },
  {
   "cell_type": "code",
   "execution_count": 109,
   "metadata": {
    "ExecuteTime": {
     "end_time": "2018-05-01T07:37:04.025749Z",
     "start_time": "2018-05-01T06:42:01.553758Z"
    }
   },
   "outputs": [],
   "source": [
    "nn_reviews = bigrammed.map(noun_only)"
   ]
  },
  {
   "cell_type": "code",
   "execution_count": 110,
   "metadata": {
    "ExecuteTime": {
     "end_time": "2018-05-01T07:37:16.000555Z",
     "start_time": "2018-05-01T07:37:15.994474Z"
    }
   },
   "outputs": [
    {
     "data": {
      "text/plain": [
       "0    [i, s, t, r, t, e, d, k, i, g, t, h, t, e, r, ...\n",
       "1    [i, r, e, l, l, y, l, i, e, d, t, h, p, r, o, ...\n",
       "2    [r, e, s, v, e, t, r, o, l,  , i, p, o, r, m, ...\n",
       "3    [i, b, o, g, h, t, s, e, v, e, l, t, h, e, s, ...\n",
       "4    [i, b, o, g, h, t, f, e, w, t, h, e, h, e, r, ...\n",
       "Name: reviewText, dtype: object"
      ]
     },
     "execution_count": 110,
     "metadata": {},
     "output_type": "execute_result"
    }
   ],
   "source": [
    "nn_reviews.head()"
   ]
  },
  {
   "cell_type": "code",
   "execution_count": 113,
   "metadata": {
    "ExecuteTime": {
     "end_time": "2018-05-01T17:24:46.801574Z",
     "start_time": "2018-05-01T17:24:46.799413Z"
    }
   },
   "outputs": [],
   "source": [
    "test = bigrammed[:1]"
   ]
  },
  {
   "cell_type": "code",
   "execution_count": 117,
   "metadata": {
    "ExecuteTime": {
     "end_time": "2018-05-01T17:26:02.983610Z",
     "start_time": "2018-05-01T17:26:02.979464Z"
    }
   },
   "outputs": [
    {
     "data": {
      "text/plain": [
       "[(\"i started taking this after both my parents died of cancer as it supposed to enhance your immune_system - the story_on 60 minutes on resveratrol was incredibly inspiring. doing some research on the internet, it is indicated that taking resveratrol in lozenge form is preferable as it is broken down by stomach_acids.  the ez-melt formula recommended in another review is ok, but it is dissolved in the mouth much more quickly than this lozenge formula, while dissolving more slowly is preferable according to my research.this product has the_greatest side_effect - since taking it, i haven't had colds or sore_throats.  soon after starting to take it every day, i was starting to come down with a cold, with all my usual symptoms, and was anticipating being very sick the next_day, as is my usual pattern.  but i never did get as sick as anticipated - taking this product is the only reason i can come up with.  since then, i've had no colds or sore_throats - it has been great.  i recommend this product to everyone i know, and have_given it as gifts to my family.\",\n",
       "  'NN')]"
      ]
     },
     "execution_count": 117,
     "metadata": {},
     "output_type": "execute_result"
    }
   ],
   "source": [
    "pos_comment = nltk.pos_tag(test.values)\n",
    "pos_comment"
   ]
  },
  {
   "cell_type": "code",
   "execution_count": 118,
   "metadata": {
    "ExecuteTime": {
     "end_time": "2018-05-01T17:26:15.116469Z",
     "start_time": "2018-05-01T17:26:15.112150Z"
    }
   },
   "outputs": [
    {
     "data": {
      "text/plain": [
       "[\"i started taking this after both my parents died of cancer as it supposed to enhance your immune_system - the story_on 60 minutes on resveratrol was incredibly inspiring. doing some research on the internet, it is indicated that taking resveratrol in lozenge form is preferable as it is broken down by stomach_acids.  the ez-melt formula recommended in another review is ok, but it is dissolved in the mouth much more quickly than this lozenge formula, while dissolving more slowly is preferable according to my research.this product has the_greatest side_effect - since taking it, i haven't had colds or sore_throats.  soon after starting to take it every day, i was starting to come down with a cold, with all my usual symptoms, and was anticipating being very sick the next_day, as is my usual pattern.  but i never did get as sick as anticipated - taking this product is the only reason i can come up with.  since then, i've had no colds or sore_throats - it has been great.  i recommend this product to everyone i know, and have_given it as gifts to my family.\"]"
      ]
     },
     "execution_count": 118,
     "metadata": {},
     "output_type": "execute_result"
    }
   ],
   "source": [
    "filtered = [word[0] for word in pos_comment if word[1] in ['NN']]\n",
    "filtered"
   ]
  },
  {
   "cell_type": "code",
   "execution_count": null,
   "metadata": {},
   "outputs": [],
   "source": []
  }
 ],
 "metadata": {
  "kernelspec": {
   "display_name": "Python 3",
   "language": "python",
   "name": "python3"
  },
  "language_info": {
   "codemirror_mode": {
    "name": "ipython",
    "version": 3
   },
   "file_extension": ".py",
   "mimetype": "text/x-python",
   "name": "python",
   "nbconvert_exporter": "python",
   "pygments_lexer": "ipython3",
   "version": "3.6.4"
  },
  "toc": {
   "nav_menu": {},
   "number_sections": true,
   "sideBar": true,
   "skip_h1_title": false,
   "toc_cell": false,
   "toc_position": {
    "height": "calc(100% - 180px)",
    "left": "10px",
    "top": "150px",
    "width": "288px"
   },
   "toc_section_display": true,
   "toc_window_display": true
  },
  "varInspector": {
   "cols": {
    "lenName": 16,
    "lenType": 16,
    "lenVar": 40
   },
   "kernels_config": {
    "python": {
     "delete_cmd_postfix": "",
     "delete_cmd_prefix": "del ",
     "library": "var_list.py",
     "varRefreshCmd": "print(var_dic_list())"
    },
    "r": {
     "delete_cmd_postfix": ") ",
     "delete_cmd_prefix": "rm(",
     "library": "var_list.r",
     "varRefreshCmd": "cat(var_dic_list()) "
    }
   },
   "types_to_exclude": [
    "module",
    "function",
    "builtin_function_or_method",
    "instance",
    "_Feature"
   ],
   "window_display": false
  }
 },
 "nbformat": 4,
 "nbformat_minor": 2
}
