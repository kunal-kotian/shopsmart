{
 "cells": [
  {
   "cell_type": "code",
   "execution_count": 1,
   "metadata": {
    "ExecuteTime": {
     "end_time": "2018-05-02T20:15:55.719372Z",
     "start_time": "2018-05-02T20:15:53.406907Z"
    }
   },
   "outputs": [],
   "source": [
    "import warnings\n",
    "import pandas as pd\n",
    "import numpy as np\n",
    "import collections\n",
    "\n",
    "import matplotlib.pyplot as plt\n",
    "from yellowbrick.text.freqdist import FreqDistVisualizer\n",
    "\n",
    "########## NLP\n",
    "# pre-processing \n",
    "import re \n",
    "import string \n",
    "import nltk\n",
    "from nltk import tokenize\n",
    "from nltk.stem.snowball import SnowballStemmer\n",
    "from nltk.corpus import stopwords\n",
    "from sklearn.feature_extraction.text import CountVectorizer \n",
    "import spacy \n",
    "# topic-models \n",
    "from sklearn.decomposition import NMF, LatentDirichletAllocation\n",
    "\n",
    "warnings.filterwarnings('ignore') # turn off warnings \n",
    "%matplotlib inline\n",
    "nlp = spacy.load('en') # load spacy model\n",
    "en_stopwords = set(stopwords.words('english')) # SKLEARN'S ENGLISH_STOP_WORDS TOO GREEDY\n",
    "stemmer = SnowballStemmer(\"english\", ignore_stopwords=True)"
   ]
  },
  {
   "cell_type": "code",
   "execution_count": 2,
   "metadata": {
    "ExecuteTime": {
     "end_time": "2018-05-02T20:15:56.440449Z",
     "start_time": "2018-05-02T20:15:55.729168Z"
    }
   },
   "outputs": [],
   "source": [
    "import spacy\n",
    "import nltk\n",
    "import re\n",
    "import string\n",
    "import sys\n",
    "import pandas as pd\n",
    "import numpy as np\n",
    "#from stop_word_list import *\n",
    "#from openfile_kn import *\n",
    "import gensim\n",
    "from gensim import corpora\n",
    "import pyLDAvis.gensim\n",
    "import matplotlib.pyplot as plt\n",
    "%matplotlib inline"
   ]
  },
  {
   "cell_type": "code",
   "execution_count": 28,
   "metadata": {
    "ExecuteTime": {
     "end_time": "2018-05-02T20:31:21.989807Z",
     "start_time": "2018-05-02T20:31:21.313784Z"
    }
   },
   "outputs": [
    {
     "name": "stderr",
     "output_type": "stream",
     "text": [
      "/Users/booranium/.local/lib/python3.6/site-packages/msgpack_numpy.py:84: DeprecationWarning: The binary mode of fromstring is deprecated, as it behaves surprisingly on unicode inputs. Use frombuffer instead\n",
      "  dtype=np.dtype(descr)).reshape(obj[b'shape'])\n",
      "/Users/booranium/.local/lib/python3.6/site-packages/msgpack_numpy.py:88: DeprecationWarning: The binary mode of fromstring is deprecated, as it behaves surprisingly on unicode inputs. Use frombuffer instead\n",
      "  dtype=np.dtype(descr))[0]\n",
      "/Users/booranium/.local/lib/python3.6/site-packages/msgpack_numpy.py:84: DeprecationWarning: The binary mode of fromstring is deprecated, as it behaves surprisingly on unicode inputs. Use frombuffer instead\n",
      "  dtype=np.dtype(descr)).reshape(obj[b'shape'])\n",
      "/Users/booranium/.local/lib/python3.6/site-packages/msgpack_numpy.py:84: DeprecationWarning: The binary mode of fromstring is deprecated, as it behaves surprisingly on unicode inputs. Use frombuffer instead\n",
      "  dtype=np.dtype(descr)).reshape(obj[b'shape'])\n",
      "/Users/booranium/.local/lib/python3.6/site-packages/msgpack_numpy.py:88: DeprecationWarning: The binary mode of fromstring is deprecated, as it behaves surprisingly on unicode inputs. Use frombuffer instead\n",
      "  dtype=np.dtype(descr))[0]\n",
      "/Users/booranium/.local/lib/python3.6/site-packages/msgpack_numpy.py:84: DeprecationWarning: The binary mode of fromstring is deprecated, as it behaves surprisingly on unicode inputs. Use frombuffer instead\n",
      "  dtype=np.dtype(descr)).reshape(obj[b'shape'])\n",
      "/Users/booranium/.local/lib/python3.6/site-packages/msgpack_numpy.py:84: DeprecationWarning: The binary mode of fromstring is deprecated, as it behaves surprisingly on unicode inputs. Use frombuffer instead\n",
      "  dtype=np.dtype(descr)).reshape(obj[b'shape'])\n",
      "/Users/booranium/.local/lib/python3.6/site-packages/msgpack_numpy.py:88: DeprecationWarning: The binary mode of fromstring is deprecated, as it behaves surprisingly on unicode inputs. Use frombuffer instead\n",
      "  dtype=np.dtype(descr))[0]\n",
      "/Users/booranium/.local/lib/python3.6/site-packages/msgpack_numpy.py:84: DeprecationWarning: The binary mode of fromstring is deprecated, as it behaves surprisingly on unicode inputs. Use frombuffer instead\n",
      "  dtype=np.dtype(descr)).reshape(obj[b'shape'])\n",
      "/Users/booranium/.local/lib/python3.6/site-packages/msgpack_numpy.py:84: DeprecationWarning: The binary mode of fromstring is deprecated, as it behaves surprisingly on unicode inputs. Use frombuffer instead\n",
      "  dtype=np.dtype(descr)).reshape(obj[b'shape'])\n",
      "/Users/booranium/.local/lib/python3.6/site-packages/msgpack_numpy.py:88: DeprecationWarning: The binary mode of fromstring is deprecated, as it behaves surprisingly on unicode inputs. Use frombuffer instead\n",
      "  dtype=np.dtype(descr))[0]\n",
      "/Users/booranium/.local/lib/python3.6/site-packages/msgpack_numpy.py:84: DeprecationWarning: The binary mode of fromstring is deprecated, as it behaves surprisingly on unicode inputs. Use frombuffer instead\n",
      "  dtype=np.dtype(descr)).reshape(obj[b'shape'])\n",
      "/Users/booranium/.local/lib/python3.6/site-packages/msgpack_numpy.py:84: DeprecationWarning: The binary mode of fromstring is deprecated, as it behaves surprisingly on unicode inputs. Use frombuffer instead\n",
      "  dtype=np.dtype(descr)).reshape(obj[b'shape'])\n",
      "/Users/booranium/.local/lib/python3.6/site-packages/msgpack_numpy.py:88: DeprecationWarning: The binary mode of fromstring is deprecated, as it behaves surprisingly on unicode inputs. Use frombuffer instead\n",
      "  dtype=np.dtype(descr))[0]\n",
      "/Users/booranium/.local/lib/python3.6/site-packages/msgpack_numpy.py:84: DeprecationWarning: The binary mode of fromstring is deprecated, as it behaves surprisingly on unicode inputs. Use frombuffer instead\n",
      "  dtype=np.dtype(descr)).reshape(obj[b'shape'])\n",
      "/Users/booranium/.local/lib/python3.6/site-packages/msgpack_numpy.py:84: DeprecationWarning: The binary mode of fromstring is deprecated, as it behaves surprisingly on unicode inputs. Use frombuffer instead\n",
      "  dtype=np.dtype(descr)).reshape(obj[b'shape'])\n",
      "/Users/booranium/.local/lib/python3.6/site-packages/msgpack_numpy.py:88: DeprecationWarning: The binary mode of fromstring is deprecated, as it behaves surprisingly on unicode inputs. Use frombuffer instead\n",
      "  dtype=np.dtype(descr))[0]\n",
      "/Users/booranium/.local/lib/python3.6/site-packages/msgpack_numpy.py:84: DeprecationWarning: The binary mode of fromstring is deprecated, as it behaves surprisingly on unicode inputs. Use frombuffer instead\n",
      "  dtype=np.dtype(descr)).reshape(obj[b'shape'])\n",
      "/Users/booranium/.local/lib/python3.6/site-packages/msgpack_numpy.py:84: DeprecationWarning: The binary mode of fromstring is deprecated, as it behaves surprisingly on unicode inputs. Use frombuffer instead\n",
      "  dtype=np.dtype(descr)).reshape(obj[b'shape'])\n",
      "/Users/booranium/.local/lib/python3.6/site-packages/msgpack_numpy.py:84: DeprecationWarning: The binary mode of fromstring is deprecated, as it behaves surprisingly on unicode inputs. Use frombuffer instead\n",
      "  dtype=np.dtype(descr)).reshape(obj[b'shape'])\n",
      "/Users/booranium/.local/lib/python3.6/site-packages/msgpack_numpy.py:88: DeprecationWarning: The binary mode of fromstring is deprecated, as it behaves surprisingly on unicode inputs. Use frombuffer instead\n",
      "  dtype=np.dtype(descr))[0]\n",
      "/Users/booranium/.local/lib/python3.6/site-packages/msgpack_numpy.py:84: DeprecationWarning: The binary mode of fromstring is deprecated, as it behaves surprisingly on unicode inputs. Use frombuffer instead\n",
      "  dtype=np.dtype(descr)).reshape(obj[b'shape'])\n",
      "/Users/booranium/.local/lib/python3.6/site-packages/msgpack_numpy.py:84: DeprecationWarning: The binary mode of fromstring is deprecated, as it behaves surprisingly on unicode inputs. Use frombuffer instead\n",
      "  dtype=np.dtype(descr)).reshape(obj[b'shape'])\n",
      "/Users/booranium/.local/lib/python3.6/site-packages/msgpack_numpy.py:88: DeprecationWarning: The binary mode of fromstring is deprecated, as it behaves surprisingly on unicode inputs. Use frombuffer instead\n",
      "  dtype=np.dtype(descr))[0]\n",
      "/Users/booranium/.local/lib/python3.6/site-packages/msgpack_numpy.py:84: DeprecationWarning: The binary mode of fromstring is deprecated, as it behaves surprisingly on unicode inputs. Use frombuffer instead\n",
      "  dtype=np.dtype(descr)).reshape(obj[b'shape'])\n",
      "/Users/booranium/.local/lib/python3.6/site-packages/msgpack_numpy.py:84: DeprecationWarning: The binary mode of fromstring is deprecated, as it behaves surprisingly on unicode inputs. Use frombuffer instead\n",
      "  dtype=np.dtype(descr)).reshape(obj[b'shape'])\n",
      "/Users/booranium/.local/lib/python3.6/site-packages/msgpack_numpy.py:88: DeprecationWarning: The binary mode of fromstring is deprecated, as it behaves surprisingly on unicode inputs. Use frombuffer instead\n",
      "  dtype=np.dtype(descr))[0]\n",
      "/Users/booranium/.local/lib/python3.6/site-packages/msgpack_numpy.py:84: DeprecationWarning: The binary mode of fromstring is deprecated, as it behaves surprisingly on unicode inputs. Use frombuffer instead\n",
      "  dtype=np.dtype(descr)).reshape(obj[b'shape'])\n",
      "/Users/booranium/.local/lib/python3.6/site-packages/msgpack_numpy.py:84: DeprecationWarning: The binary mode of fromstring is deprecated, as it behaves surprisingly on unicode inputs. Use frombuffer instead\n",
      "  dtype=np.dtype(descr)).reshape(obj[b'shape'])\n",
      "/Users/booranium/.local/lib/python3.6/site-packages/msgpack_numpy.py:88: DeprecationWarning: The binary mode of fromstring is deprecated, as it behaves surprisingly on unicode inputs. Use frombuffer instead\n",
      "  dtype=np.dtype(descr))[0]\n",
      "/Users/booranium/.local/lib/python3.6/site-packages/msgpack_numpy.py:84: DeprecationWarning: The binary mode of fromstring is deprecated, as it behaves surprisingly on unicode inputs. Use frombuffer instead\n",
      "  dtype=np.dtype(descr)).reshape(obj[b'shape'])\n",
      "/Users/booranium/.local/lib/python3.6/site-packages/msgpack_numpy.py:84: DeprecationWarning: The binary mode of fromstring is deprecated, as it behaves surprisingly on unicode inputs. Use frombuffer instead\n",
      "  dtype=np.dtype(descr)).reshape(obj[b'shape'])\n",
      "/Users/booranium/.local/lib/python3.6/site-packages/msgpack_numpy.py:88: DeprecationWarning: The binary mode of fromstring is deprecated, as it behaves surprisingly on unicode inputs. Use frombuffer instead\n",
      "  dtype=np.dtype(descr))[0]\n",
      "/Users/booranium/.local/lib/python3.6/site-packages/msgpack_numpy.py:84: DeprecationWarning: The binary mode of fromstring is deprecated, as it behaves surprisingly on unicode inputs. Use frombuffer instead\n",
      "  dtype=np.dtype(descr)).reshape(obj[b'shape'])\n",
      "/Users/booranium/.local/lib/python3.6/site-packages/msgpack_numpy.py:84: DeprecationWarning: The binary mode of fromstring is deprecated, as it behaves surprisingly on unicode inputs. Use frombuffer instead\n",
      "  dtype=np.dtype(descr)).reshape(obj[b'shape'])\n",
      "/Users/booranium/.local/lib/python3.6/site-packages/msgpack_numpy.py:84: DeprecationWarning: The binary mode of fromstring is deprecated, as it behaves surprisingly on unicode inputs. Use frombuffer instead\n",
      "  dtype=np.dtype(descr)).reshape(obj[b'shape'])\n",
      "/Users/booranium/.local/lib/python3.6/site-packages/msgpack_numpy.py:84: DeprecationWarning: The binary mode of fromstring is deprecated, as it behaves surprisingly on unicode inputs. Use frombuffer instead\n",
      "  dtype=np.dtype(descr)).reshape(obj[b'shape'])\n",
      "/Users/booranium/.local/lib/python3.6/site-packages/msgpack_numpy.py:84: DeprecationWarning: The binary mode of fromstring is deprecated, as it behaves surprisingly on unicode inputs. Use frombuffer instead\n",
      "  dtype=np.dtype(descr)).reshape(obj[b'shape'])\n",
      "/Users/booranium/.local/lib/python3.6/site-packages/msgpack_numpy.py:88: DeprecationWarning: The binary mode of fromstring is deprecated, as it behaves surprisingly on unicode inputs. Use frombuffer instead\n",
      "  dtype=np.dtype(descr))[0]\n",
      "/Users/booranium/.local/lib/python3.6/site-packages/msgpack_numpy.py:84: DeprecationWarning: The binary mode of fromstring is deprecated, as it behaves surprisingly on unicode inputs. Use frombuffer instead\n",
      "  dtype=np.dtype(descr)).reshape(obj[b'shape'])\n",
      "/Users/booranium/.local/lib/python3.6/site-packages/msgpack_numpy.py:84: DeprecationWarning: The binary mode of fromstring is deprecated, as it behaves surprisingly on unicode inputs. Use frombuffer instead\n",
      "  dtype=np.dtype(descr)).reshape(obj[b'shape'])\n",
      "/Users/booranium/.local/lib/python3.6/site-packages/msgpack_numpy.py:88: DeprecationWarning: The binary mode of fromstring is deprecated, as it behaves surprisingly on unicode inputs. Use frombuffer instead\n",
      "  dtype=np.dtype(descr))[0]\n",
      "/Users/booranium/.local/lib/python3.6/site-packages/msgpack_numpy.py:84: DeprecationWarning: The binary mode of fromstring is deprecated, as it behaves surprisingly on unicode inputs. Use frombuffer instead\n",
      "  dtype=np.dtype(descr)).reshape(obj[b'shape'])\n",
      "/Users/booranium/.local/lib/python3.6/site-packages/msgpack_numpy.py:84: DeprecationWarning: The binary mode of fromstring is deprecated, as it behaves surprisingly on unicode inputs. Use frombuffer instead\n",
      "  dtype=np.dtype(descr)).reshape(obj[b'shape'])\n",
      "/Users/booranium/.local/lib/python3.6/site-packages/msgpack_numpy.py:88: DeprecationWarning: The binary mode of fromstring is deprecated, as it behaves surprisingly on unicode inputs. Use frombuffer instead\n",
      "  dtype=np.dtype(descr))[0]\n",
      "/Users/booranium/.local/lib/python3.6/site-packages/msgpack_numpy.py:84: DeprecationWarning: The binary mode of fromstring is deprecated, as it behaves surprisingly on unicode inputs. Use frombuffer instead\n",
      "  dtype=np.dtype(descr)).reshape(obj[b'shape'])\n",
      "/Users/booranium/.local/lib/python3.6/site-packages/msgpack_numpy.py:84: DeprecationWarning: The binary mode of fromstring is deprecated, as it behaves surprisingly on unicode inputs. Use frombuffer instead\n",
      "  dtype=np.dtype(descr)).reshape(obj[b'shape'])\n",
      "/Users/booranium/.local/lib/python3.6/site-packages/msgpack_numpy.py:88: DeprecationWarning: The binary mode of fromstring is deprecated, as it behaves surprisingly on unicode inputs. Use frombuffer instead\n",
      "  dtype=np.dtype(descr))[0]\n",
      "/Users/booranium/.local/lib/python3.6/site-packages/msgpack_numpy.py:84: DeprecationWarning: The binary mode of fromstring is deprecated, as it behaves surprisingly on unicode inputs. Use frombuffer instead\n",
      "  dtype=np.dtype(descr)).reshape(obj[b'shape'])\n",
      "/Users/booranium/.local/lib/python3.6/site-packages/msgpack_numpy.py:84: DeprecationWarning: The binary mode of fromstring is deprecated, as it behaves surprisingly on unicode inputs. Use frombuffer instead\n",
      "  dtype=np.dtype(descr)).reshape(obj[b'shape'])\n",
      "/Users/booranium/.local/lib/python3.6/site-packages/msgpack_numpy.py:88: DeprecationWarning: The binary mode of fromstring is deprecated, as it behaves surprisingly on unicode inputs. Use frombuffer instead\n",
      "  dtype=np.dtype(descr))[0]\n",
      "/Users/booranium/.local/lib/python3.6/site-packages/msgpack_numpy.py:84: DeprecationWarning: The binary mode of fromstring is deprecated, as it behaves surprisingly on unicode inputs. Use frombuffer instead\n",
      "  dtype=np.dtype(descr)).reshape(obj[b'shape'])\n",
      "/Users/booranium/.local/lib/python3.6/site-packages/msgpack_numpy.py:84: DeprecationWarning: The binary mode of fromstring is deprecated, as it behaves surprisingly on unicode inputs. Use frombuffer instead\n",
      "  dtype=np.dtype(descr)).reshape(obj[b'shape'])\n",
      "/Users/booranium/.local/lib/python3.6/site-packages/msgpack_numpy.py:84: DeprecationWarning: The binary mode of fromstring is deprecated, as it behaves surprisingly on unicode inputs. Use frombuffer instead\n",
      "  dtype=np.dtype(descr)).reshape(obj[b'shape'])\n",
      "/Users/booranium/.local/lib/python3.6/site-packages/msgpack_numpy.py:88: DeprecationWarning: The binary mode of fromstring is deprecated, as it behaves surprisingly on unicode inputs. Use frombuffer instead\n",
      "  dtype=np.dtype(descr))[0]\n",
      "/Users/booranium/.local/lib/python3.6/site-packages/msgpack_numpy.py:84: DeprecationWarning: The binary mode of fromstring is deprecated, as it behaves surprisingly on unicode inputs. Use frombuffer instead\n",
      "  dtype=np.dtype(descr)).reshape(obj[b'shape'])\n",
      "/Users/booranium/.local/lib/python3.6/site-packages/msgpack_numpy.py:84: DeprecationWarning: The binary mode of fromstring is deprecated, as it behaves surprisingly on unicode inputs. Use frombuffer instead\n",
      "  dtype=np.dtype(descr)).reshape(obj[b'shape'])\n",
      "/Users/booranium/.local/lib/python3.6/site-packages/msgpack_numpy.py:88: DeprecationWarning: The binary mode of fromstring is deprecated, as it behaves surprisingly on unicode inputs. Use frombuffer instead\n",
      "  dtype=np.dtype(descr))[0]\n",
      "/Users/booranium/.local/lib/python3.6/site-packages/msgpack_numpy.py:84: DeprecationWarning: The binary mode of fromstring is deprecated, as it behaves surprisingly on unicode inputs. Use frombuffer instead\n",
      "  dtype=np.dtype(descr)).reshape(obj[b'shape'])\n",
      "/Users/booranium/.local/lib/python3.6/site-packages/msgpack_numpy.py:84: DeprecationWarning: The binary mode of fromstring is deprecated, as it behaves surprisingly on unicode inputs. Use frombuffer instead\n",
      "  dtype=np.dtype(descr)).reshape(obj[b'shape'])\n",
      "/Users/booranium/.local/lib/python3.6/site-packages/msgpack_numpy.py:88: DeprecationWarning: The binary mode of fromstring is deprecated, as it behaves surprisingly on unicode inputs. Use frombuffer instead\n",
      "  dtype=np.dtype(descr))[0]\n",
      "/Users/booranium/.local/lib/python3.6/site-packages/msgpack_numpy.py:84: DeprecationWarning: The binary mode of fromstring is deprecated, as it behaves surprisingly on unicode inputs. Use frombuffer instead\n",
      "  dtype=np.dtype(descr)).reshape(obj[b'shape'])\n",
      "/Users/booranium/.local/lib/python3.6/site-packages/msgpack_numpy.py:84: DeprecationWarning: The binary mode of fromstring is deprecated, as it behaves surprisingly on unicode inputs. Use frombuffer instead\n",
      "  dtype=np.dtype(descr)).reshape(obj[b'shape'])\n",
      "/Users/booranium/.local/lib/python3.6/site-packages/msgpack_numpy.py:88: DeprecationWarning: The binary mode of fromstring is deprecated, as it behaves surprisingly on unicode inputs. Use frombuffer instead\n",
      "  dtype=np.dtype(descr))[0]\n",
      "/Users/booranium/.local/lib/python3.6/site-packages/msgpack_numpy.py:84: DeprecationWarning: The binary mode of fromstring is deprecated, as it behaves surprisingly on unicode inputs. Use frombuffer instead\n",
      "  dtype=np.dtype(descr)).reshape(obj[b'shape'])\n",
      "/Users/booranium/.local/lib/python3.6/site-packages/msgpack_numpy.py:84: DeprecationWarning: The binary mode of fromstring is deprecated, as it behaves surprisingly on unicode inputs. Use frombuffer instead\n",
      "  dtype=np.dtype(descr)).reshape(obj[b'shape'])\n",
      "/Users/booranium/.local/lib/python3.6/site-packages/msgpack_numpy.py:88: DeprecationWarning: The binary mode of fromstring is deprecated, as it behaves surprisingly on unicode inputs. Use frombuffer instead\n",
      "  dtype=np.dtype(descr))[0]\n",
      "/Users/booranium/.local/lib/python3.6/site-packages/msgpack_numpy.py:84: DeprecationWarning: The binary mode of fromstring is deprecated, as it behaves surprisingly on unicode inputs. Use frombuffer instead\n",
      "  dtype=np.dtype(descr)).reshape(obj[b'shape'])\n",
      "/Users/booranium/.local/lib/python3.6/site-packages/msgpack_numpy.py:84: DeprecationWarning: The binary mode of fromstring is deprecated, as it behaves surprisingly on unicode inputs. Use frombuffer instead\n",
      "  dtype=np.dtype(descr)).reshape(obj[b'shape'])\n",
      "/Users/booranium/.local/lib/python3.6/site-packages/msgpack_numpy.py:84: DeprecationWarning: The binary mode of fromstring is deprecated, as it behaves surprisingly on unicode inputs. Use frombuffer instead\n",
      "  dtype=np.dtype(descr)).reshape(obj[b'shape'])\n",
      "/Users/booranium/.local/lib/python3.6/site-packages/msgpack_numpy.py:84: DeprecationWarning: The binary mode of fromstring is deprecated, as it behaves surprisingly on unicode inputs. Use frombuffer instead\n",
      "  dtype=np.dtype(descr)).reshape(obj[b'shape'])\n",
      "/Users/booranium/.local/lib/python3.6/site-packages/msgpack_numpy.py:84: DeprecationWarning: The binary mode of fromstring is deprecated, as it behaves surprisingly on unicode inputs. Use frombuffer instead\n",
      "  dtype=np.dtype(descr)).reshape(obj[b'shape'])\n",
      "/Users/booranium/.local/lib/python3.6/site-packages/msgpack_numpy.py:88: DeprecationWarning: The binary mode of fromstring is deprecated, as it behaves surprisingly on unicode inputs. Use frombuffer instead\n",
      "  dtype=np.dtype(descr))[0]\n",
      "/Users/booranium/.local/lib/python3.6/site-packages/msgpack_numpy.py:84: DeprecationWarning: The binary mode of fromstring is deprecated, as it behaves surprisingly on unicode inputs. Use frombuffer instead\n",
      "  dtype=np.dtype(descr)).reshape(obj[b'shape'])\n",
      "/Users/booranium/.local/lib/python3.6/site-packages/msgpack_numpy.py:88: DeprecationWarning: The binary mode of fromstring is deprecated, as it behaves surprisingly on unicode inputs. Use frombuffer instead\n",
      "  dtype=np.dtype(descr))[0]\n",
      "/Users/booranium/.local/lib/python3.6/site-packages/msgpack_numpy.py:84: DeprecationWarning: The binary mode of fromstring is deprecated, as it behaves surprisingly on unicode inputs. Use frombuffer instead\n",
      "  dtype=np.dtype(descr)).reshape(obj[b'shape'])\n",
      "/Users/booranium/.local/lib/python3.6/site-packages/msgpack_numpy.py:84: DeprecationWarning: The binary mode of fromstring is deprecated, as it behaves surprisingly on unicode inputs. Use frombuffer instead\n",
      "  dtype=np.dtype(descr)).reshape(obj[b'shape'])\n",
      "/Users/booranium/.local/lib/python3.6/site-packages/msgpack_numpy.py:88: DeprecationWarning: The binary mode of fromstring is deprecated, as it behaves surprisingly on unicode inputs. Use frombuffer instead\n",
      "  dtype=np.dtype(descr))[0]\n",
      "/Users/booranium/.local/lib/python3.6/site-packages/msgpack_numpy.py:84: DeprecationWarning: The binary mode of fromstring is deprecated, as it behaves surprisingly on unicode inputs. Use frombuffer instead\n",
      "  dtype=np.dtype(descr)).reshape(obj[b'shape'])\n",
      "/Users/booranium/.local/lib/python3.6/site-packages/msgpack_numpy.py:84: DeprecationWarning: The binary mode of fromstring is deprecated, as it behaves surprisingly on unicode inputs. Use frombuffer instead\n",
      "  dtype=np.dtype(descr)).reshape(obj[b'shape'])\n",
      "/Users/booranium/.local/lib/python3.6/site-packages/msgpack_numpy.py:88: DeprecationWarning: The binary mode of fromstring is deprecated, as it behaves surprisingly on unicode inputs. Use frombuffer instead\n",
      "  dtype=np.dtype(descr))[0]\n",
      "/Users/booranium/.local/lib/python3.6/site-packages/msgpack_numpy.py:84: DeprecationWarning: The binary mode of fromstring is deprecated, as it behaves surprisingly on unicode inputs. Use frombuffer instead\n",
      "  dtype=np.dtype(descr)).reshape(obj[b'shape'])\n",
      "/Users/booranium/.local/lib/python3.6/site-packages/msgpack_numpy.py:84: DeprecationWarning: The binary mode of fromstring is deprecated, as it behaves surprisingly on unicode inputs. Use frombuffer instead\n",
      "  dtype=np.dtype(descr)).reshape(obj[b'shape'])\n",
      "/Users/booranium/.local/lib/python3.6/site-packages/msgpack_numpy.py:88: DeprecationWarning: The binary mode of fromstring is deprecated, as it behaves surprisingly on unicode inputs. Use frombuffer instead\n",
      "  dtype=np.dtype(descr))[0]\n",
      "/Users/booranium/.local/lib/python3.6/site-packages/msgpack_numpy.py:84: DeprecationWarning: The binary mode of fromstring is deprecated, as it behaves surprisingly on unicode inputs. Use frombuffer instead\n",
      "  dtype=np.dtype(descr)).reshape(obj[b'shape'])\n",
      "/Users/booranium/.local/lib/python3.6/site-packages/msgpack_numpy.py:84: DeprecationWarning: The binary mode of fromstring is deprecated, as it behaves surprisingly on unicode inputs. Use frombuffer instead\n",
      "  dtype=np.dtype(descr)).reshape(obj[b'shape'])\n",
      "/Users/booranium/.local/lib/python3.6/site-packages/msgpack_numpy.py:88: DeprecationWarning: The binary mode of fromstring is deprecated, as it behaves surprisingly on unicode inputs. Use frombuffer instead\n",
      "  dtype=np.dtype(descr))[0]\n",
      "/Users/booranium/.local/lib/python3.6/site-packages/msgpack_numpy.py:84: DeprecationWarning: The binary mode of fromstring is deprecated, as it behaves surprisingly on unicode inputs. Use frombuffer instead\n",
      "  dtype=np.dtype(descr)).reshape(obj[b'shape'])\n",
      "/Users/booranium/.local/lib/python3.6/site-packages/msgpack_numpy.py:84: DeprecationWarning: The binary mode of fromstring is deprecated, as it behaves surprisingly on unicode inputs. Use frombuffer instead\n",
      "  dtype=np.dtype(descr)).reshape(obj[b'shape'])\n",
      "/Users/booranium/.local/lib/python3.6/site-packages/msgpack_numpy.py:88: DeprecationWarning: The binary mode of fromstring is deprecated, as it behaves surprisingly on unicode inputs. Use frombuffer instead\n",
      "  dtype=np.dtype(descr))[0]\n",
      "/Users/booranium/.local/lib/python3.6/site-packages/msgpack_numpy.py:84: DeprecationWarning: The binary mode of fromstring is deprecated, as it behaves surprisingly on unicode inputs. Use frombuffer instead\n",
      "  dtype=np.dtype(descr)).reshape(obj[b'shape'])\n",
      "/Users/booranium/.local/lib/python3.6/site-packages/msgpack_numpy.py:84: DeprecationWarning: The binary mode of fromstring is deprecated, as it behaves surprisingly on unicode inputs. Use frombuffer instead\n",
      "  dtype=np.dtype(descr)).reshape(obj[b'shape'])\n",
      "/Users/booranium/.local/lib/python3.6/site-packages/msgpack_numpy.py:88: DeprecationWarning: The binary mode of fromstring is deprecated, as it behaves surprisingly on unicode inputs. Use frombuffer instead\n",
      "  dtype=np.dtype(descr))[0]\n",
      "/Users/booranium/.local/lib/python3.6/site-packages/msgpack_numpy.py:84: DeprecationWarning: The binary mode of fromstring is deprecated, as it behaves surprisingly on unicode inputs. Use frombuffer instead\n",
      "  dtype=np.dtype(descr)).reshape(obj[b'shape'])\n",
      "/Users/booranium/.local/lib/python3.6/site-packages/msgpack_numpy.py:84: DeprecationWarning: The binary mode of fromstring is deprecated, as it behaves surprisingly on unicode inputs. Use frombuffer instead\n",
      "  dtype=np.dtype(descr)).reshape(obj[b'shape'])\n",
      "/Users/booranium/.local/lib/python3.6/site-packages/msgpack_numpy.py:84: DeprecationWarning: The binary mode of fromstring is deprecated, as it behaves surprisingly on unicode inputs. Use frombuffer instead\n",
      "  dtype=np.dtype(descr)).reshape(obj[b'shape'])\n",
      "/Users/booranium/.local/lib/python3.6/site-packages/msgpack_numpy.py:88: DeprecationWarning: The binary mode of fromstring is deprecated, as it behaves surprisingly on unicode inputs. Use frombuffer instead\n",
      "  dtype=np.dtype(descr))[0]\n",
      "/Users/booranium/.local/lib/python3.6/site-packages/msgpack_numpy.py:84: DeprecationWarning: The binary mode of fromstring is deprecated, as it behaves surprisingly on unicode inputs. Use frombuffer instead\n",
      "  dtype=np.dtype(descr)).reshape(obj[b'shape'])\n",
      "/Users/booranium/.local/lib/python3.6/site-packages/msgpack_numpy.py:84: DeprecationWarning: The binary mode of fromstring is deprecated, as it behaves surprisingly on unicode inputs. Use frombuffer instead\n",
      "  dtype=np.dtype(descr)).reshape(obj[b'shape'])\n",
      "/Users/booranium/.local/lib/python3.6/site-packages/msgpack_numpy.py:88: DeprecationWarning: The binary mode of fromstring is deprecated, as it behaves surprisingly on unicode inputs. Use frombuffer instead\n",
      "  dtype=np.dtype(descr))[0]\n",
      "/Users/booranium/.local/lib/python3.6/site-packages/msgpack_numpy.py:84: DeprecationWarning: The binary mode of fromstring is deprecated, as it behaves surprisingly on unicode inputs. Use frombuffer instead\n",
      "  dtype=np.dtype(descr)).reshape(obj[b'shape'])\n",
      "/Users/booranium/.local/lib/python3.6/site-packages/msgpack_numpy.py:84: DeprecationWarning: The binary mode of fromstring is deprecated, as it behaves surprisingly on unicode inputs. Use frombuffer instead\n",
      "  dtype=np.dtype(descr)).reshape(obj[b'shape'])\n",
      "/Users/booranium/.local/lib/python3.6/site-packages/msgpack_numpy.py:88: DeprecationWarning: The binary mode of fromstring is deprecated, as it behaves surprisingly on unicode inputs. Use frombuffer instead\n",
      "  dtype=np.dtype(descr))[0]\n",
      "/Users/booranium/.local/lib/python3.6/site-packages/msgpack_numpy.py:84: DeprecationWarning: The binary mode of fromstring is deprecated, as it behaves surprisingly on unicode inputs. Use frombuffer instead\n",
      "  dtype=np.dtype(descr)).reshape(obj[b'shape'])\n",
      "/Users/booranium/.local/lib/python3.6/site-packages/msgpack_numpy.py:84: DeprecationWarning: The binary mode of fromstring is deprecated, as it behaves surprisingly on unicode inputs. Use frombuffer instead\n",
      "  dtype=np.dtype(descr)).reshape(obj[b'shape'])\n",
      "/Users/booranium/.local/lib/python3.6/site-packages/msgpack_numpy.py:88: DeprecationWarning: The binary mode of fromstring is deprecated, as it behaves surprisingly on unicode inputs. Use frombuffer instead\n",
      "  dtype=np.dtype(descr))[0]\n",
      "/Users/booranium/.local/lib/python3.6/site-packages/msgpack_numpy.py:84: DeprecationWarning: The binary mode of fromstring is deprecated, as it behaves surprisingly on unicode inputs. Use frombuffer instead\n",
      "  dtype=np.dtype(descr)).reshape(obj[b'shape'])\n",
      "/Users/booranium/.local/lib/python3.6/site-packages/msgpack_numpy.py:84: DeprecationWarning: The binary mode of fromstring is deprecated, as it behaves surprisingly on unicode inputs. Use frombuffer instead\n",
      "  dtype=np.dtype(descr)).reshape(obj[b'shape'])\n",
      "/Users/booranium/.local/lib/python3.6/site-packages/msgpack_numpy.py:88: DeprecationWarning: The binary mode of fromstring is deprecated, as it behaves surprisingly on unicode inputs. Use frombuffer instead\n",
      "  dtype=np.dtype(descr))[0]\n",
      "/Users/booranium/.local/lib/python3.6/site-packages/msgpack_numpy.py:84: DeprecationWarning: The binary mode of fromstring is deprecated, as it behaves surprisingly on unicode inputs. Use frombuffer instead\n",
      "  dtype=np.dtype(descr)).reshape(obj[b'shape'])\n",
      "/Users/booranium/.local/lib/python3.6/site-packages/msgpack_numpy.py:84: DeprecationWarning: The binary mode of fromstring is deprecated, as it behaves surprisingly on unicode inputs. Use frombuffer instead\n",
      "  dtype=np.dtype(descr)).reshape(obj[b'shape'])\n",
      "/Users/booranium/.local/lib/python3.6/site-packages/msgpack_numpy.py:84: DeprecationWarning: The binary mode of fromstring is deprecated, as it behaves surprisingly on unicode inputs. Use frombuffer instead\n",
      "  dtype=np.dtype(descr)).reshape(obj[b'shape'])\n",
      "/Users/booranium/.local/lib/python3.6/site-packages/msgpack_numpy.py:84: DeprecationWarning: The binary mode of fromstring is deprecated, as it behaves surprisingly on unicode inputs. Use frombuffer instead\n",
      "  dtype=np.dtype(descr)).reshape(obj[b'shape'])\n"
     ]
    },
    {
     "name": "stderr",
     "output_type": "stream",
     "text": [
      "/Users/booranium/.local/lib/python3.6/site-packages/msgpack_numpy.py:84: DeprecationWarning: The binary mode of fromstring is deprecated, as it behaves surprisingly on unicode inputs. Use frombuffer instead\n",
      "  dtype=np.dtype(descr)).reshape(obj[b'shape'])\n",
      "/Users/booranium/.local/lib/python3.6/site-packages/msgpack_numpy.py:88: DeprecationWarning: The binary mode of fromstring is deprecated, as it behaves surprisingly on unicode inputs. Use frombuffer instead\n",
      "  dtype=np.dtype(descr))[0]\n",
      "/Users/booranium/.local/lib/python3.6/site-packages/msgpack_numpy.py:84: DeprecationWarning: The binary mode of fromstring is deprecated, as it behaves surprisingly on unicode inputs. Use frombuffer instead\n",
      "  dtype=np.dtype(descr)).reshape(obj[b'shape'])\n",
      "/Users/booranium/.local/lib/python3.6/site-packages/msgpack_numpy.py:88: DeprecationWarning: The binary mode of fromstring is deprecated, as it behaves surprisingly on unicode inputs. Use frombuffer instead\n",
      "  dtype=np.dtype(descr))[0]\n",
      "/Users/booranium/.local/lib/python3.6/site-packages/msgpack_numpy.py:84: DeprecationWarning: The binary mode of fromstring is deprecated, as it behaves surprisingly on unicode inputs. Use frombuffer instead\n",
      "  dtype=np.dtype(descr)).reshape(obj[b'shape'])\n",
      "/Users/booranium/.local/lib/python3.6/site-packages/msgpack_numpy.py:84: DeprecationWarning: The binary mode of fromstring is deprecated, as it behaves surprisingly on unicode inputs. Use frombuffer instead\n",
      "  dtype=np.dtype(descr)).reshape(obj[b'shape'])\n",
      "/Users/booranium/.local/lib/python3.6/site-packages/msgpack_numpy.py:88: DeprecationWarning: The binary mode of fromstring is deprecated, as it behaves surprisingly on unicode inputs. Use frombuffer instead\n",
      "  dtype=np.dtype(descr))[0]\n",
      "/Users/booranium/.local/lib/python3.6/site-packages/msgpack_numpy.py:84: DeprecationWarning: The binary mode of fromstring is deprecated, as it behaves surprisingly on unicode inputs. Use frombuffer instead\n",
      "  dtype=np.dtype(descr)).reshape(obj[b'shape'])\n"
     ]
    }
   ],
   "source": [
    "# from https://nicharuc.github.io/topic_modeling/\n",
    "\n",
    "# packages\n",
    "from sklearn.feature_extraction import stop_words\n",
    "#from tools import Extractor\n",
    "import spacy\n",
    "import nltk\n",
    "import re\n",
    "import string\n",
    "import codecs\n",
    "import numpy as np\n",
    "import pandas as pd\n",
    "#from user_definitions import *\n",
    "import json\n",
    "from sklearn.cluster import MiniBatchKMeans\n",
    "import collections\n",
    "from collections import OrderedDict\n",
    "from sklearn.cluster import KMeans\n",
    "import itertools\n",
    "\n",
    "\n",
    "\n",
    "nlp = spacy.load('en')\n",
    "STOPWORDS_DICT = {lang: set(nltk.corpus.stopwords.words(lang)) for lang in nltk.corpus.stopwords.fileids()}\n",
    "\n",
    "\n",
    "def lemma_all(df, col_name):\n",
    "    \"\"\"\n",
    "    Combines all functions used to clean and lemmatize the comments.\n",
    "    :param df: data frame with comments\n",
    "    :param col_name: column name in data frame containing comments\n",
    "    :return: data frame with comments column lemmatized\n",
    "    \"\"\"\n",
    "\n",
    "    # encode for only ascii characters\n",
    "    df[col_name] = df[col_name].map(ascii_lower)\n",
    "\n",
    "\n",
    "    # lemmatize words\n",
    "    df[col_name] = df[col_name].map(lemma)\n",
    "\n",
    "    # remove punctuation\n",
    "    df[col_name] = df[col_name].map(punc_n)\n",
    "\n",
    "\n",
    "    # filter only english comments\n",
    "    df['language'] = df[col_name].map(get_language)\n",
    "    df = df.loc[df['language'] == 'english']\n",
    "    df = df.drop('language', axis=1)\n",
    "    df[col_name] = df[col_name].map(noun_only)\n",
    "    df = df[df[col_name] != \"\"]\n",
    "    df[col_name] = df[col_name].map(lambda x: x.lower())\n",
    "\n",
    "    return df\n",
    "\n",
    "\n",
    "def ascii_lower(comment):\n",
    "    \"\"\"\n",
    "    Parses comments and keep only ascii characters\n",
    "    :param comment: a comment\n",
    "    :return: comment with only ascii characters\n",
    "    \"\"\"\n",
    "    comment = comment.encode('ascii', errors = 'ignore')\n",
    "    return comment\n",
    "\n",
    "def get_language(text):\n",
    "    \"\"\"\n",
    "    Determines what language the comment is written in and filters only English comments.\n",
    "    :param text: comment\n",
    "    :return: language of comment\n",
    "    \"\"\"\n",
    "    words = set(nltk.wordpunct_tokenize(text.lower()))\n",
    "    return max(((lang, len(words & stopwords)) for lang, stopwords in STOPWORDS_DICT.items()), key = lambda x: x[1])[0]\n",
    "\n",
    "\n",
    "def punc_n(comment):\n",
    "    \"\"\"\n",
    "    Removes punctuations from comments.\n",
    "    :param comment: a comment\n",
    "    :return: comment without punctuations\n",
    "    \"\"\"\n",
    "    regex = re.compile('[' + re.escape('!\"#%&\\'()*+,-./:;<=>?@[\\\\]^_`{|}~')+'0-9\\\\r\\\\t\\\\n]')\n",
    "    nopunct = regex.sub(\" \", comment)\n",
    "    nopunct_words = nopunct.split(' ')\n",
    "    filter_words = [word.strip() for word in nopunct_words if word != '']\n",
    "    words = ' '.join(filter_words)\n",
    "    return words\n",
    "\n",
    "\n",
    "\n",
    "def lemma(comment):\n",
    "    \"\"\"\n",
    "    Lemmatize comments using spacy lemmatizer.\n",
    "    :param comment: a comment\n",
    "    :return: lemmatized comment\n",
    "    \"\"\"\n",
    "\n",
    "    lemmatized = nlp(comment.decode('utf-8'))\n",
    "    lemmatized2 = ' '.join([t.lemma_ for t in lemmatized if t.lemma_ != '\\'s'])\n",
    "    return lemmatized2\n",
    "\n",
    "\n",
    "#function to filter only NN/NNS or JJ/NN\n",
    "def rightOrdering(list_of_tuples):\n",
    "    type_of_words = zip(*list_of_tuples)[1]\n",
    "    acceptable_types = ('JJ', 'JJR', 'JJS', 'NN', 'NNS', 'NNP', 'NNPS', 'CC')\n",
    "    if all(type in acceptable_types for type in type_of_words):\n",
    "        all_nouns = ('NNS', 'NN', 'NNP', 'NNPS', 'CC')\n",
    "        satisfy_all_nouns = all(type in all_nouns for type in type_of_words)\n",
    "        satisfy_jj_condition = type_of_words[0] in ('JJ','JJR','JJS') and all(type not in ('JJ','JJR','JJS') for type in type_of_words[1:])\n",
    "        return satisfy_all_nouns or satisfy_jj_condition\n",
    "    return False\n",
    "\n",
    "def noun_only(x):\n",
    "    x = x.split(\" \")\n",
    "\n",
    "    if len(x[0])> 0:\n",
    "        pos_comment = nltk.pos_tag(x)\n",
    "        filtered = [word[0] for word in pos_comment if word[1] in ['NN', 'NNP', 'VB', 'VBD', 'VBG', 'VBN', 'VBZ']]\n",
    "        #filtered = [word[0] for word in pos_comment if word[1] in ['NN', 'NNP']]\n",
    "        words = ' '.join(filtered)\n",
    "    return words\n"
   ]
  },
  {
   "cell_type": "code",
   "execution_count": 74,
   "metadata": {
    "ExecuteTime": {
     "end_time": "2018-05-02T20:54:10.085165Z",
     "start_time": "2018-05-02T20:54:10.080727Z"
    }
   },
   "outputs": [
    {
     "data": {
      "text/plain": [
       "153"
      ]
     },
     "execution_count": 74,
     "metadata": {},
     "output_type": "execute_result"
    }
   ],
   "source": [
    "from nltk.corpus import stopwords\n",
    "en_stopwords = set(stopwords.words('english'))\n",
    "len(en_stopwords)"
   ]
  },
  {
   "cell_type": "code",
   "execution_count": 6,
   "metadata": {
    "ExecuteTime": {
     "end_time": "2018-05-02T20:17:45.626674Z",
     "start_time": "2018-05-02T20:17:45.612670Z"
    }
   },
   "outputs": [
    {
     "data": {
      "text/html": [
       "<div>\n",
       "<style scoped>\n",
       "    .dataframe tbody tr th:only-of-type {\n",
       "        vertical-align: middle;\n",
       "    }\n",
       "\n",
       "    .dataframe tbody tr th {\n",
       "        vertical-align: top;\n",
       "    }\n",
       "\n",
       "    .dataframe thead th {\n",
       "        text-align: right;\n",
       "    }\n",
       "</style>\n",
       "<table border=\"1\" class=\"dataframe\">\n",
       "  <thead>\n",
       "    <tr style=\"text-align: right;\">\n",
       "      <th></th>\n",
       "      <th>asin</th>\n",
       "      <th>helpful</th>\n",
       "      <th>reviewText</th>\n",
       "      <th>overall</th>\n",
       "      <th>summary</th>\n",
       "      <th>description</th>\n",
       "      <th>title</th>\n",
       "      <th>categories_clean</th>\n",
       "      <th>review_length</th>\n",
       "      <th>cat1</th>\n",
       "      <th>cat2</th>\n",
       "      <th>cat3</th>\n",
       "      <th>cat4</th>\n",
       "      <th>cat5</th>\n",
       "      <th>cat6</th>\n",
       "      <th>cat7</th>\n",
       "    </tr>\n",
       "  </thead>\n",
       "  <tbody>\n",
       "    <tr>\n",
       "      <th>2</th>\n",
       "      <td>0978559088</td>\n",
       "      <td>[1, 1]</td>\n",
       "      <td>I started taking this after both my parents di...</td>\n",
       "      <td>5.0</td>\n",
       "      <td>Bioavailability is the key</td>\n",
       "      <td>Everyone knows that resveratrol is an amazing ...</td>\n",
       "      <td>Nutrihill Resveratrol Lozenges</td>\n",
       "      <td>Health &amp; Personal Care, Vitamins &amp; Dietary Sup...</td>\n",
       "      <td>1065</td>\n",
       "      <td>Health &amp; Personal Care</td>\n",
       "      <td>Vitamins &amp; Dietary Supplements</td>\n",
       "      <td>Supplements</td>\n",
       "      <td>Antioxidants</td>\n",
       "      <td>Resveratrol</td>\n",
       "      <td>None</td>\n",
       "      <td>None</td>\n",
       "    </tr>\n",
       "    <tr>\n",
       "      <th>4</th>\n",
       "      <td>0978559088</td>\n",
       "      <td>[0, 0]</td>\n",
       "      <td>I really liked this product because it stayed ...</td>\n",
       "      <td>5.0</td>\n",
       "      <td>I can't find this product any longer, and I wi...</td>\n",
       "      <td>Everyone knows that resveratrol is an amazing ...</td>\n",
       "      <td>Nutrihill Resveratrol Lozenges</td>\n",
       "      <td>Health &amp; Personal Care, Vitamins &amp; Dietary Sup...</td>\n",
       "      <td>767</td>\n",
       "      <td>Health &amp; Personal Care</td>\n",
       "      <td>Vitamins &amp; Dietary Supplements</td>\n",
       "      <td>Supplements</td>\n",
       "      <td>Antioxidants</td>\n",
       "      <td>Resveratrol</td>\n",
       "      <td>None</td>\n",
       "      <td>None</td>\n",
       "    </tr>\n",
       "  </tbody>\n",
       "</table>\n",
       "</div>"
      ],
      "text/plain": [
       "         asin helpful                                         reviewText  \\\n",
       "2  0978559088  [1, 1]  I started taking this after both my parents di...   \n",
       "4  0978559088  [0, 0]  I really liked this product because it stayed ...   \n",
       "\n",
       "   overall                                            summary  \\\n",
       "2      5.0                         Bioavailability is the key   \n",
       "4      5.0  I can't find this product any longer, and I wi...   \n",
       "\n",
       "                                         description  \\\n",
       "2  Everyone knows that resveratrol is an amazing ...   \n",
       "4  Everyone knows that resveratrol is an amazing ...   \n",
       "\n",
       "                            title  \\\n",
       "2  Nutrihill Resveratrol Lozenges   \n",
       "4  Nutrihill Resveratrol Lozenges   \n",
       "\n",
       "                                    categories_clean  review_length  \\\n",
       "2  Health & Personal Care, Vitamins & Dietary Sup...           1065   \n",
       "4  Health & Personal Care, Vitamins & Dietary Sup...            767   \n",
       "\n",
       "                     cat1                            cat2         cat3  \\\n",
       "2  Health & Personal Care  Vitamins & Dietary Supplements  Supplements   \n",
       "4  Health & Personal Care  Vitamins & Dietary Supplements  Supplements   \n",
       "\n",
       "           cat4         cat5  cat6  cat7  \n",
       "2  Antioxidants  Resveratrol  None  None  \n",
       "4  Antioxidants  Resveratrol  None  None  "
      ]
     },
     "execution_count": 6,
     "metadata": {},
     "output_type": "execute_result"
    }
   ],
   "source": [
    "data = pd.read_pickle('../data/data_clean_v4')\n",
    "data[:2]"
   ]
  },
  {
   "cell_type": "code",
   "execution_count": 5,
   "metadata": {
    "ExecuteTime": {
     "end_time": "2018-05-02T20:17:31.849428Z",
     "start_time": "2018-05-02T20:17:31.835740Z"
    }
   },
   "outputs": [
    {
     "data": {
      "text/plain": [
       "(217566, 26820)"
      ]
     },
     "execution_count": 5,
     "metadata": {},
     "output_type": "execute_result"
    }
   ],
   "source": [
    "len(data), data.asin.nunique()"
   ]
  },
  {
   "cell_type": "markdown",
   "metadata": {},
   "source": [
    "## Summarize by Categories"
   ]
  },
  {
   "cell_type": "code",
   "execution_count": 18,
   "metadata": {
    "ExecuteTime": {
     "end_time": "2018-05-02T20:21:32.856973Z",
     "start_time": "2018-05-02T20:21:32.787197Z"
    }
   },
   "outputs": [
    {
     "data": {
      "text/html": [
       "<div>\n",
       "<style scoped>\n",
       "    .dataframe tbody tr th:only-of-type {\n",
       "        vertical-align: middle;\n",
       "    }\n",
       "\n",
       "    .dataframe tbody tr th {\n",
       "        vertical-align: top;\n",
       "    }\n",
       "\n",
       "    .dataframe thead th {\n",
       "        text-align: right;\n",
       "    }\n",
       "</style>\n",
       "<table border=\"1\" class=\"dataframe\">\n",
       "  <thead>\n",
       "    <tr style=\"text-align: right;\">\n",
       "      <th></th>\n",
       "      <th>cat3</th>\n",
       "      <th>asin</th>\n",
       "      <th>prop</th>\n",
       "    </tr>\n",
       "  </thead>\n",
       "  <tbody>\n",
       "    <tr>\n",
       "      <th>0</th>\n",
       "      <td>Herbal Supplements</td>\n",
       "      <td>63259</td>\n",
       "      <td>0.29</td>\n",
       "    </tr>\n",
       "    <tr>\n",
       "      <th>1</th>\n",
       "      <td>Minerals</td>\n",
       "      <td>22340</td>\n",
       "      <td>0.10</td>\n",
       "    </tr>\n",
       "    <tr>\n",
       "      <th>2</th>\n",
       "      <td>Supplements</td>\n",
       "      <td>91493</td>\n",
       "      <td>0.42</td>\n",
       "    </tr>\n",
       "    <tr>\n",
       "      <th>3</th>\n",
       "      <td>Vitamins</td>\n",
       "      <td>40474</td>\n",
       "      <td>0.19</td>\n",
       "    </tr>\n",
       "  </tbody>\n",
       "</table>\n",
       "</div>"
      ],
      "text/plain": [
       "                 cat3   asin  prop\n",
       "0  Herbal Supplements  63259  0.29\n",
       "1            Minerals  22340  0.10\n",
       "2         Supplements  91493  0.42\n",
       "3            Vitamins  40474  0.19"
      ]
     },
     "execution_count": 18,
     "metadata": {},
     "output_type": "execute_result"
    }
   ],
   "source": [
    "n = len(data)\n",
    "count_by_cacount_by_cat3t3 = data.groupby(['cat3']).asin.count().reset_index()\n",
    "count_by_cat3['prop'] = round(count_by_cat3.asin*1.0/n*1.0,2)\n",
    "count_by_cat3"
   ]
  },
  {
   "cell_type": "code",
   "execution_count": 23,
   "metadata": {
    "ExecuteTime": {
     "end_time": "2018-05-02T20:28:09.430661Z",
     "start_time": "2018-05-02T20:28:09.396678Z"
    }
   },
   "outputs": [
    {
     "data": {
      "text/plain": [
       "(22340, 2844)"
      ]
     },
     "execution_count": 23,
     "metadata": {},
     "output_type": "execute_result"
    }
   ],
   "source": [
    "minerals = data[data.cat3 == 'Minerals']\n",
    "len(minerals), minerals.asin.nunique()"
   ]
  },
  {
   "cell_type": "markdown",
   "metadata": {},
   "source": [
    "## Preprocessing - Prototype on Minerals only (10%)"
   ]
  },
  {
   "cell_type": "markdown",
   "metadata": {},
   "source": [
    "from: https://github.com/nicharuc/Collocations/blob/master/cleanreviews.py"
   ]
  },
  {
   "cell_type": "code",
   "execution_count": 24,
   "metadata": {
    "ExecuteTime": {
     "end_time": "2018-05-02T20:28:18.430296Z",
     "start_time": "2018-05-02T20:28:18.092198Z"
    }
   },
   "outputs": [],
   "source": [
    "minerals['reviewText_ascii_lower'] = data.reviewText.map(ascii_lower)"
   ]
  },
  {
   "cell_type": "code",
   "execution_count": 29,
   "metadata": {
    "ExecuteTime": {
     "end_time": "2018-05-02T20:36:58.310824Z",
     "start_time": "2018-05-02T20:31:25.594486Z"
    }
   },
   "outputs": [],
   "source": [
    "minerals['reviewText_lemma'] = minerals.reviewText_ascii_lower.map(lemma)\n",
    "# uses spacy lemmatization to maintain interpretability \n",
    "# updated Nicha's lemma() function to fix error: spaCy expects unicode strings, not byte strings"
   ]
  },
  {
   "cell_type": "code",
   "execution_count": 31,
   "metadata": {
    "ExecuteTime": {
     "end_time": "2018-05-02T20:39:35.406547Z",
     "start_time": "2018-05-02T20:39:34.755460Z"
    }
   },
   "outputs": [],
   "source": [
    "minerals['reviewText_punc'] = minerals.reviewText_lemma.map(punc_n)"
   ]
  },
  {
   "cell_type": "code",
   "execution_count": 32,
   "metadata": {
    "ExecuteTime": {
     "end_time": "2018-05-02T20:39:54.129186Z",
     "start_time": "2018-05-02T20:39:53.094030Z"
    }
   },
   "outputs": [],
   "source": [
    "minerals['language'] = minerals.reviewText_punc.map(get_language)"
   ]
  },
  {
   "cell_type": "code",
   "execution_count": 34,
   "metadata": {
    "ExecuteTime": {
     "end_time": "2018-05-02T20:40:48.359571Z",
     "start_time": "2018-05-02T20:40:48.355653Z"
    }
   },
   "outputs": [
    {
     "data": {
      "text/plain": [
       "array(['english', 'spanish', 'italian', 'danish', 'dutch'], dtype=object)"
      ]
     },
     "execution_count": 34,
     "metadata": {},
     "output_type": "execute_result"
    }
   ],
   "source": [
    "minerals.language.unique()\n",
    "# manual checks show that this function isn't perfect -- \n",
    "# its wrongly classified english reviews as italian, danish and dutch.\n",
    "# however, spanish identified reviews are truly spanish "
   ]
  },
  {
   "cell_type": "code",
   "execution_count": 50,
   "metadata": {
    "ExecuteTime": {
     "end_time": "2018-05-02T20:47:12.601059Z",
     "start_time": "2018-05-02T20:47:12.590337Z"
    }
   },
   "outputs": [],
   "source": [
    "minerals_eng = minerals[~(minerals.language == 'spanish')]"
   ]
  },
  {
   "cell_type": "code",
   "execution_count": 51,
   "metadata": {
    "ExecuteTime": {
     "end_time": "2018-05-02T20:47:28.637427Z",
     "start_time": "2018-05-02T20:47:28.632561Z"
    }
   },
   "outputs": [
    {
     "data": {
      "text/plain": [
       "(22324, 2841)"
      ]
     },
     "execution_count": 51,
     "metadata": {},
     "output_type": "execute_result"
    }
   ],
   "source": [
    "len(minerals_eng), minerals_eng.asin.nunique() # 16 spanish reviews removed "
   ]
  },
  {
   "cell_type": "markdown",
   "metadata": {},
   "source": [
    "## Bigrams and Trigrams"
   ]
  },
  {
   "cell_type": "markdown",
   "metadata": {},
   "source": [
    "from: https://medium.com/@nicharuch/collocations-identifying-phrases-that-act-like-individual-words-in-nlp-f58a93a2f84a"
   ]
  },
  {
   "cell_type": "code",
   "execution_count": 108,
   "metadata": {
    "ExecuteTime": {
     "end_time": "2018-05-02T22:36:57.601472Z",
     "start_time": "2018-05-02T22:36:57.598825Z"
    }
   },
   "outputs": [],
   "source": [
    "bigram_measures = nltk.collocations.BigramAssocMeasures()\n",
    "trigram_measures = nltk.collocations.TrigramAssocMeasures()"
   ]
  },
  {
   "cell_type": "code",
   "execution_count": 109,
   "metadata": {
    "ExecuteTime": {
     "end_time": "2018-05-02T22:37:08.000393Z",
     "start_time": "2018-05-02T22:36:58.205683Z"
    }
   },
   "outputs": [],
   "source": [
    "bigramFinder = nltk.collocations.BigramCollocationFinder.\\\n",
    "                from_documents([i.split() for i in minerals_eng.reviewText_punc])\n",
    "trigramFinder = nltk.collocations.TrigramCollocationFinder.\\\n",
    "        from_documents([i.split() for i in minerals_eng.reviewText_punc])"
   ]
  },
  {
   "cell_type": "code",
   "execution_count": 110,
   "metadata": {
    "ExecuteTime": {
     "end_time": "2018-05-02T22:37:08.423643Z",
     "start_time": "2018-05-02T22:37:08.250984Z"
    }
   },
   "outputs": [],
   "source": [
    "#filter only those that occur at least 50 times\n",
    "bigramFinder.apply_freq_filter(50)\n",
    "trigramFinder.apply_freq_filter(50)"
   ]
  },
  {
   "cell_type": "markdown",
   "metadata": {},
   "source": [
    "### Using Frequency"
   ]
  },
  {
   "cell_type": "code",
   "execution_count": 123,
   "metadata": {
    "ExecuteTime": {
     "end_time": "2018-05-02T22:39:19.697618Z",
     "start_time": "2018-05-02T22:39:19.687846Z"
    }
   },
   "outputs": [],
   "source": [
    "#bigrams\n",
    "bigram_freq = bigramFinder.ngram_fd.items()\n",
    "bigram_freq_tbl = pd.DataFrame(list(bigram_freq), columns=['bigram','freq']\\\n",
    "                                ).sort_values(by='freq', ascending=False)\n",
    "\n",
    "#trigrams\n",
    "trigram_freq = trigramFinder.ngram_fd.items()\n",
    "trigram_freq_tbl = pd.DataFrame(list(trigram_freq), columns=['trigram','freq']\\\n",
    "                                 ).sort_values(by='freq', ascending=False)"
   ]
  },
  {
   "cell_type": "code",
   "execution_count": 267,
   "metadata": {
    "ExecuteTime": {
     "end_time": "2018-05-03T00:23:56.389573Z",
     "start_time": "2018-05-03T00:23:56.382147Z"
    }
   },
   "outputs": [],
   "source": [
    "def filter_gram(i):\n",
    "    \"\"\"\n",
    "    1. keep any bigram of form: adjective+noun or noun+ noun\n",
    "    or trigram of form: adj+anything+noun or noun+anything+noun \n",
    "    2a. exclude any gram containing a pronoun\n",
    "    2b. exclude any gram containing: 'i', 't', 've' (comes from special char removal)\n",
    "    3. exclude anything else \n",
    "    \"\"\"\n",
    "    if any(term in i for term in ['PRON', 't', 've', 'i']):\n",
    "        return False\n",
    "    else:\n",
    "        tag = nltk.pos_tag(i)\n",
    "        if tag[0][1] in ['JJ', 'NN'] and tag[-1][1] in ['NN']:\n",
    "            return True\n",
    "        else:\n",
    "            return False"
   ]
  },
  {
   "cell_type": "code",
   "execution_count": 268,
   "metadata": {
    "ExecuteTime": {
     "end_time": "2018-05-03T00:23:57.522204Z",
     "start_time": "2018-05-03T00:23:56.989299Z"
    }
   },
   "outputs": [],
   "source": [
    "bigram_freq_tbl_filtered = bigram_freq_tbl[bigram_freq_tbl.bigram.apply(filter_gram)]\n",
    "trigram_freq_tbl_filtered = trigram_freq_tbl[trigram_freq_tbl.trigram.apply(filter_gram)]"
   ]
  },
  {
   "cell_type": "code",
   "execution_count": 269,
   "metadata": {
    "ExecuteTime": {
     "end_time": "2018-05-03T00:23:58.019687Z",
     "start_time": "2018-05-03T00:23:58.016592Z"
    }
   },
   "outputs": [
    {
     "data": {
      "text/plain": [
       "(3150, 232, 1724, 38)"
      ]
     },
     "execution_count": 269,
     "metadata": {},
     "output_type": "execute_result"
    }
   ],
   "source": [
    "len(bigram_freq_tbl), len(bigram_freq_tbl_filtered), len(trigram_freq_tbl), len(trigram_freq_tbl_filtered)"
   ]
  },
  {
   "cell_type": "code",
   "execution_count": 270,
   "metadata": {
    "ExecuteTime": {
     "end_time": "2018-05-03T00:23:58.527657Z",
     "start_time": "2018-05-03T00:23:58.524450Z"
    }
   },
   "outputs": [],
   "source": [
    "bigram_freq_ls = [' '.join(x) for x in bigram_freq_tbl_filtered.bigram.values]\n",
    "trigram_freq_ls = [' '.join(x) for x in trigram_freq_tbl_filtered.trigram.values]"
   ]
  },
  {
   "cell_type": "code",
   "execution_count": 273,
   "metadata": {
    "ExecuteTime": {
     "end_time": "2018-05-03T00:25:54.096371Z",
     "start_time": "2018-05-03T00:25:54.091367Z"
    }
   },
   "outputs": [
    {
     "data": {
      "text/plain": [
       "['great product',\n",
       " 'side effect',\n",
       " 'iron supplement',\n",
       " 'vitamin d',\n",
       " 'colloidal silver']"
      ]
     },
     "execution_count": 273,
     "metadata": {},
     "output_type": "execute_result"
    }
   ],
   "source": [
    "bigram_freq_ls[:5]"
   ]
  },
  {
   "cell_type": "code",
   "execution_count": 274,
   "metadata": {
    "ExecuteTime": {
     "end_time": "2018-05-03T00:26:00.069312Z",
     "start_time": "2018-05-03T00:26:00.065331Z"
    }
   },
   "outputs": [
    {
     "data": {
      "text/plain": [
       "['use this product',\n",
       " 'time a day',\n",
       " 'form of magnesium',\n",
       " 'health food store',\n",
       " 'purchase this product']"
      ]
     },
     "execution_count": 274,
     "metadata": {},
     "output_type": "execute_result"
    }
   ],
   "source": [
    "trigram_freq_ls[:5]"
   ]
  },
  {
   "cell_type": "markdown",
   "metadata": {
    "ExecuteTime": {
     "end_time": "2018-05-02T21:05:06.535229Z",
     "start_time": "2018-05-02T21:05:06.532144Z"
    }
   },
   "source": [
    "### Using Pointwise Mutual Information (PMI)"
   ]
  },
  {
   "cell_type": "code",
   "execution_count": 117,
   "metadata": {
    "ExecuteTime": {
     "end_time": "2018-05-02T22:38:06.397642Z",
     "start_time": "2018-05-02T22:38:06.371107Z"
    }
   },
   "outputs": [],
   "source": [
    "bigram_scores = bigramFinder.score_ngrams(bigram_measures.pmi)\n",
    "trigram_scores = trigramFinder.score_ngrams(trigram_measures.pmi)"
   ]
  },
  {
   "cell_type": "code",
   "execution_count": 120,
   "metadata": {
    "ExecuteTime": {
     "end_time": "2018-05-02T22:39:06.712876Z",
     "start_time": "2018-05-02T22:39:06.707909Z"
    }
   },
   "outputs": [],
   "source": [
    "bigram_pmi_tbl = pd.DataFrame(bigram_scores)\n",
    "bigram_pmi_tbl.columns = ['bigram', 'pmi']\n",
    "bigram_pmi_tbl.sort_values(by='pmi', axis = 0, ascending = False, inplace = True)\n",
    "\n",
    "trigram_pmi_tbl = pd.DataFrame(trigram_scores)\n",
    "trigram_pmi_tbl.columns = ['trigram', 'pmi']\n",
    "trigram_pmi_tbl.sort_values(by='pmi', axis = 0, ascending = False, inplace = True)"
   ]
  },
  {
   "cell_type": "code",
   "execution_count": 340,
   "metadata": {
    "ExecuteTime": {
     "end_time": "2018-05-03T02:52:48.168213Z",
     "start_time": "2018-05-03T02:52:47.632901Z"
    }
   },
   "outputs": [],
   "source": [
    "# filter based on pos-pattern, etc. \n",
    "bigram_pmi_tbl_filtered = bigram_pmi_tbl[bigram_pmi_tbl.bigram.apply(filter_gram)]\n",
    "trigram_pmi_tbl_filtered = trigram_pmi_tbl[trigram_pmi_tbl.trigram.apply(filter_gram)]"
   ]
  },
  {
   "cell_type": "code",
   "execution_count": 299,
   "metadata": {
    "ExecuteTime": {
     "end_time": "2018-05-03T00:36:45.823327Z",
     "start_time": "2018-05-03T00:36:45.768953Z"
    }
   },
   "outputs": [],
   "source": [
    "# filter based on pmi score : start at 75th percentile of pmi score and eyeball\n",
    "#bigram_pmi_tbl_filtered = bigram_pmi_tbl[bigram_pmi_tbl.pmi > 7]\n",
    "#trigram_pmi_tbl_filtered = trigram_pmi_tbl[trigram_pmi_tbl.pmi>12]\n"
   ]
  },
  {
   "cell_type": "code",
   "execution_count": 300,
   "metadata": {
    "ExecuteTime": {
     "end_time": "2018-05-03T00:36:46.368648Z",
     "start_time": "2018-05-03T00:36:46.365030Z"
    }
   },
   "outputs": [],
   "source": [
    "bigram_pmi_ls = [' '.join(x) for x in bigram_pmi_tbl_filtered.bigram.values]\n",
    "trigram_pmi_ls = [' '.join(x) for x in trigram_pmi_tbl_filtered.trigram.values]"
   ]
  },
  {
   "cell_type": "markdown",
   "metadata": {},
   "source": [
    "### NEED TO COLLAPSE SYNONYM - SAME EXPRESSIONS!!! \n",
    "\n",
    "Retain filtering on the frequency based bigrams and trigrams  \n",
    "Keep all PMI-identified grams and collapse full list "
   ]
  },
  {
   "cell_type": "code",
   "execution_count": 385,
   "metadata": {
    "ExecuteTime": {
     "end_time": "2018-05-03T17:04:35.146619Z",
     "start_time": "2018-05-03T17:04:35.140642Z"
    },
    "scrolled": true
   },
   "outputs": [
    {
     "data": {
      "text/plain": [
       "array([('gastric', 'bypass'), ('garcinia', 'cambogia'),\n",
       "       ('expiration', 'date'), ('kidney', 'stone'),\n",
       "       ('ferrous', 'sulfate'), ('bowel', 'movement'),\n",
       "       ('chromium', 'picolinate'), ('slow', 'fe'),\n",
       "       ('medicine', 'cabinet'), ('acid', 'reflux'), ('fall', 'asleep'),\n",
       "       ('heart', 'palpitation'), ('cal', 'mag'), ('family', 'member'),\n",
       "       ('sore', 'throat'), ('breast', 'cancer'), ('customer', 'service'),\n",
       "       ('slow', 'release'), ('fish', 'oil'), ('immune', 'system'),\n",
       "       ('orange', 'juice'), ('restless', 'leg'), ('normal', 'range'),\n",
       "       ('blood', 'pressure'), ('bone', 'density'), ('life', 'saver'),\n",
       "       ('potassium', 'iodide'), ('sovereign', 'silver'),\n",
       "       ('regular', 'basis'), ('colloidal', 'silver'),\n",
       "       ('lugol', 'solution'), ('sinus', 'infection'), ('weight', 'loss'),\n",
       "       ('ear', 'infection'), ('trace', 'mineral'), ('long', 'term'),\n",
       "       ('side', 'effect'), ('dr', 'oz'), ('lose', 'lb'),\n",
       "       ('empty', 'stomach'), ('muscle', 'spasm'), ('nascent', 'iodine'),\n",
       "       ('leg', 'syndrome'), ('vit', 'd'), ('digestive', 'system'),\n",
       "       ('amazon', 'com'), ('density', 'test'), ('prescription', 'drug'),\n",
       "       ('distil', 'water'), ('leg', 'cramp'), ('lose', 'pound'),\n",
       "       ('blood', 'sugar'), ('hair', 'growth'), ('free', 'shipping'),\n",
       "       ('drug', 'store'), ('lose', 'weight'), ('natural', 'calm'),\n",
       "       ('multi', 'vitamin'), ('vitamin', 'd'), ('daily', 'basis'),\n",
       "       ('re', 'order'), ('blood', 'test'), ('high', 'quality'),\n",
       "       ('local', 'store'), ('huge', 'difference'), ('vitamin', 'c'),\n",
       "       ('warm', 'water'), ('small', 'amount'), ('food', 'store'),\n",
       "       ('reasonable', 'price'), ('coral', 'calcium'), ('local', 'health'),\n",
       "       ('digestive', 'issue'), ('whole', 'food'), ('muscle', 'cramp'),\n",
       "       ('second', 'bottle'), ('stomach', 'upset'),\n",
       "       ('magnesium', 'glycinate'), ('horse', 'pill'),\n",
       "       ('calcium', 'carbonate'), ('joint', 'pain'), ('lugol', 'iodine'),\n",
       "       ('trouble', 'swallow'), ('potassium', 'citrate'), ('hair', 'loss'),\n",
       "       ('doctor', 'prescribe'), ('magnesium', 'oxide'),\n",
       "       ('health', 'food'), ('energy', 'level'), ('little', 'bit'),\n",
       "       ('hot', 'water'), ('overall', 'health'), ('big', 'difference'),\n",
       "       ('upset', 'stomach'), ('iodine', 'deficiency'),\n",
       "       ('time', 'release'), ('liquid', 'form'), ('work', 'wonder'),\n",
       "       ('calcium', 'citrate'), ('magnesium', 'citrate'), ('long', 'time'),\n",
       "       ('good', 'luck'), ('several', 'year'), ('magnesium', 'oil'),\n",
       "       ('different', 'brand'), ('low', 'thyroid'), ('spray', 'bottle'),\n",
       "       ('sugar', 'level'), ('health', 'benefit'), ('few', 'drop'),\n",
       "       ('high', 'dose'), ('iron', 'level'), ('iron', 'deficiency'),\n",
       "       ('magnesium', 'deficiency'), ('much', 'cheap'), ('few', 'week'),\n",
       "       ('several', 'month'), ('doctor', 'suggest'), ('next', 'day'),\n",
       "       ('few', 'month'), ('great', 'tasting'), ('calcium', 'intake'),\n",
       "       ('health', 'issue'), ('chewable', 'calcium'), ('high', 'blood'),\n",
       "       ('first', 'thing'), ('great', 'value'), ('capsule', 'form'),\n",
       "       ('large', 'pill'), ('muscle', 'pain'), ('iron', 'supplement'),\n",
       "       ('other', 'brand'), ('good', 'value'), ('skin', 'look'),\n",
       "       ('thyroid', 'problem'), ('first', 'time'), ('few', 'day'),\n",
       "       ('help', 'prevent'), ('next', 'time'), ('hard', 'time'),\n",
       "       ('great', 'deal'), ('last', 'year'), ('doctor', 'tell'),\n",
       "       ('calcium', 'chew'), ('last', 'week'), ('bone', 'health'),\n",
       "       ('low', 'iron'), ('swallow', 'pill'), ('several', 'time'),\n",
       "       ('doctor', 'recommend'), ('same', 'time'), ('many', 'year'),\n",
       "       ('easy', 'way'), ('good', 'deal'), ('great', 'price'),\n",
       "       ('liquid', 'iron'), ('night', 'sleep'), ('other', 'form'),\n",
       "       ('few', 'year'), ('excellent', 'product'),\n",
       "       ('calcium', 'supplement'), ('good', 'price'), ('iron', 'pill'),\n",
       "       ('pill', 'form'), ('other', 'review'), ('recommend', 'dosage'),\n",
       "       ('much', 'easy'), ('hair', 'skin'), ('iron', 'tablet'),\n",
       "       ('awesome', 'product'), ('good', 'quality'), ('other', 'thing'),\n",
       "       ('body', 'need'), ('good', 'absorption'), ('blood', 'work'),\n",
       "       ('good', 'source'), ('wonderful', 'product'), ('great', 'way'),\n",
       "       ('liquid', 'calcium'), ('great', 'product'), ('great', 'stuff'),\n",
       "       ('good', 'thing'), ('zinc', 'supplement'), ('calcium', 'tablet'),\n",
       "       ('great', 'result'), ('product', 'arrive'), ('quality', 'product'),\n",
       "       ('start', 'use'), ('calcium', 'pill'), ('good', 'result'),\n",
       "       ('magnesium', 'supplement'), ('mineral', 'supplement'),\n",
       "       ('stuff', 'work'), ('other', 'iron'), ('great', 'quality'),\n",
       "       ('good', 'stuff'), ('few', 'time'), ('good', 'way'),\n",
       "       ('magnesium', 'level'), ('other', 'supplement'), ('many', 'time'),\n",
       "       ('continue', 'use'), ('calcium', 'level'), ('good', 'health'),\n",
       "       ('calcium', 'magnesium'), ('other', 'vitamin'),\n",
       "       ('amazing', 'product'), ('iodine', 'supplement'),\n",
       "       ('same', 'product'), ('other', 'calcium'), ('good', 'form'),\n",
       "       ('good', 'night'), ('natural', 'product'), ('good', 'product'),\n",
       "       ('vitamin', 'supplement'), ('good', 'brand'), ('other', 'product'),\n",
       "       ('great', 'taste'), ('other', 'magnesium'), ('good', 'sleep'),\n",
       "       ('other', 'day'), ('product', 'work'), ('great', 'supplement'),\n",
       "       ('good', 'calcium'), ('good', 'iron'), ('calcium', 'product'),\n",
       "       ('product', 'help'), ('use', 'magnesium'), ('good', 'supplement'),\n",
       "       ('good', 'magnesium'), ('get', 'use'), ('magnesium', 'product')],\n",
       "      dtype=object)"
      ]
     },
     "execution_count": 385,
     "metadata": {},
     "output_type": "execute_result"
    }
   ],
   "source": [
    "bigram_pmi_tbl_filtered.bigram.values"
   ]
  },
  {
   "cell_type": "code",
   "execution_count": 386,
   "metadata": {
    "ExecuteTime": {
     "end_time": "2018-05-04T01:45:54.342796Z",
     "start_time": "2018-05-04T01:45:53.637377Z"
    }
   },
   "outputs": [
    {
     "ename": "NameError",
     "evalue": "name 'small' is not defined",
     "output_type": "error",
     "traceback": [
      "\u001b[0;31m---------------------------------------------------------------------------\u001b[0m",
      "\u001b[0;31mNameError\u001b[0m                                 Traceback (most recent call last)",
      "\u001b[0;32m<ipython-input-386-88fb4e88c156>\u001b[0m in \u001b[0;36m<module>\u001b[0;34m()\u001b[0m\n\u001b[0;32m----> 1\u001b[0;31m \u001b[0msmall\u001b[0m\u001b[0;34m\u001b[0m\u001b[0m\n\u001b[0m",
      "\u001b[0;31mNameError\u001b[0m: name 'small' is not defined"
     ]
    }
   ],
   "source": [
    "small"
   ]
  },
  {
   "cell_type": "markdown",
   "metadata": {},
   "source": [
    "### Concatenate lists from both methods "
   ]
  },
  {
   "cell_type": "code",
   "execution_count": 303,
   "metadata": {
    "ExecuteTime": {
     "end_time": "2018-05-03T00:37:47.063222Z",
     "start_time": "2018-05-03T00:37:47.059950Z"
    }
   },
   "outputs": [],
   "source": [
    "bigrams = list(set(bigram_freq_ls + bigram_pmi_ls))\n",
    "trigrams = list(set(trigram_freq_ls + trigram_pmi_ls))"
   ]
  },
  {
   "cell_type": "code",
   "execution_count": 304,
   "metadata": {
    "ExecuteTime": {
     "end_time": "2018-05-03T00:37:47.654129Z",
     "start_time": "2018-05-03T00:37:47.649683Z"
    }
   },
   "outputs": [
    {
     "data": {
      "text/plain": [
       "(232, 38)"
      ]
     },
     "execution_count": 304,
     "metadata": {},
     "output_type": "execute_result"
    }
   ],
   "source": [
    "len(bigrams), len(trigrams)"
   ]
  },
  {
   "cell_type": "code",
   "execution_count": 307,
   "metadata": {
    "ExecuteTime": {
     "end_time": "2018-05-03T00:38:17.325423Z",
     "start_time": "2018-05-03T00:38:17.322747Z"
    }
   },
   "outputs": [],
   "source": [
    "grams = bigrams + trigrams"
   ]
  },
  {
   "cell_type": "markdown",
   "metadata": {},
   "source": [
    "### Replace grams in text"
   ]
  },
  {
   "cell_type": "code",
   "execution_count": 308,
   "metadata": {
    "ExecuteTime": {
     "end_time": "2018-05-03T00:38:32.492803Z",
     "start_time": "2018-05-03T00:38:32.487158Z"
    }
   },
   "outputs": [],
   "source": [
    "# replace the word with selected ngram\n",
    "def gram_concat(text):\n",
    "    text1 = text.lower()\n",
    "    for i in grams:\n",
    "        raw = str(' '.join(i))\n",
    "        clean = str('_'.join(i))\n",
    "        text1 = text1.replace(raw, clean)\n",
    "    return text1"
   ]
  },
  {
   "cell_type": "code",
   "execution_count": 314,
   "metadata": {
    "ExecuteTime": {
     "end_time": "2018-05-03T00:40:34.208509Z",
     "start_time": "2018-05-03T00:40:26.227408Z"
    }
   },
   "outputs": [],
   "source": [
    "# replace grams \n",
    "minerals_eng['reviewText_grammed'] = minerals_eng.reviewText_punc.map(gram_concat)"
   ]
  },
  {
   "cell_type": "code",
   "execution_count": 348,
   "metadata": {
    "ExecuteTime": {
     "end_time": "2018-05-03T02:59:08.069889Z",
     "start_time": "2018-05-03T02:59:07.924540Z"
    }
   },
   "outputs": [],
   "source": [
    "# remove 'PRON' token\n",
    "minerals_eng.reviewText_grammed = minerals_eng.reviewText_grammed.apply(lambda x: x.replace('pron', ''))"
   ]
  },
  {
   "cell_type": "code",
   "execution_count": 356,
   "metadata": {
    "ExecuteTime": {
     "end_time": "2018-05-03T03:04:09.758536Z",
     "start_time": "2018-05-03T03:04:09.752456Z"
    }
   },
   "outputs": [],
   "source": [
    "# manual cleaning based on iterations of examining count vectorizer features \n",
    "def clean_tokes(string):\n",
    "    string_clean = re.sub(r'^(\\\\)', '', string)\n",
    "    string_clean = re.sub(r'(\\+)$', '', string_clean)\n",
    "    string_clean = re.sub(r'^(_+)', '', string_clean)\n",
    "    string_clean = re.sub(r'(_+)$', '', string_clean)\n",
    "    string_clean = re.sub(r'(a+)$', '', string_clean)\n",
    "    string_clean = re.sub(r'(z+)$', '', string_clean)\n",
    "    return string_clean"
   ]
  },
  {
   "cell_type": "code",
   "execution_count": 359,
   "metadata": {
    "ExecuteTime": {
     "end_time": "2018-05-03T03:06:04.956696Z",
     "start_time": "2018-05-03T03:06:04.451171Z"
    }
   },
   "outputs": [],
   "source": [
    "minerals_eng['reviewText_grammed2'] = minerals_eng.reviewText_grammed.apply(clean_tokes)"
   ]
  },
  {
   "cell_type": "markdown",
   "metadata": {},
   "source": [
    "## Plot token frequency"
   ]
  },
  {
   "cell_type": "code",
   "execution_count": 377,
   "metadata": {
    "ExecuteTime": {
     "end_time": "2018-05-03T03:14:01.374885Z",
     "start_time": "2018-05-03T03:13:56.120866Z"
    }
   },
   "outputs": [],
   "source": [
    "excludes = ['$','a','aa','aaa','aaaaaaaaaaaaaaaaaaaaaaaaaaaaaaaaaaaaaaaaaaaaaaaaaaaaaaaaaaaaaaaaaaaaaaaaaaaaaaaaaaaaaaaaaaaaaaaaaaaaaaaaaaaaaaaaaaaaaaaaaaaaaaaaaaaaaaaaaaaaaaaaaaaaaaaaaaaaaaaaaaaaaaaaaaaaaaaaaaaaaaaaaaaaaaaaaaaaaaaaaaaaaaaaaaaaaaaaaaaaaaaaaaaaaaaaaaaaaaaaaaaaaaaaaaaaaaaaaaaaaaaaaaaaaaaaaaaaaaaaaaaaaaaaaaaaaaaaaaaaaaaaaaaaaaaaaaaaaaaaaaaaaaaaaaaaaaaaaaaaaaaaaaaaaaaaaaaaaaplus','zza','zzz']\n",
    "\n",
    "def tokenize(text):   \n",
    "    tokens = nltk.word_tokenize(text)\n",
    "    tokens = [i for i in tokens if i not in en_stopwords]\n",
    "    tokens = [i for i in tokens if i not in excludes]\n",
    "    return tokens \n",
    "\n",
    "corpus = minerals_eng.reviewText_grammed2\n",
    "vectorizer_spaced = CountVectorizer(tokenizer = tokenize)\n",
    "docs_spaced = vectorizer_spaced.fit_transform(corpus)\n",
    "features_spaced = vectorizer_spaced.get_feature_names()"
   ]
  },
  {
   "cell_type": "code",
   "execution_count": null,
   "metadata": {},
   "outputs": [],
   "source": []
  },
  {
   "cell_type": "code",
   "execution_count": 378,
   "metadata": {
    "ExecuteTime": {
     "end_time": "2018-05-03T03:14:02.513413Z",
     "start_time": "2018-05-03T03:14:01.984999Z"
    }
   },
   "outputs": [
    {
     "data": {
      "image/png": "[encoded data removed]",
      "text/plain": [
       "<matplotlib.figure.Figure at 0x1a5f686be0>"
      ]
     },
     "metadata": {},
     "output_type": "display_data"
    }
   ],
   "source": [
    "import matplotlib.pyplot as plt\n",
    "plt.figure(figsize=(30, 20))  # the size you want\n",
    "plt.tick_params(labelsize=30)\n",
    "\n",
    "visualizer_spaced = FreqDistVisualizer(features=features_spaced)\n",
    "visualizer_spaced.fit(docs_spaced)\n",
    "visualizer_spaced.poof()"
   ]
  },
  {
   "cell_type": "markdown",
   "metadata": {},
   "source": [
    "## NMF"
   ]
  },
  {
   "cell_type": "code",
   "execution_count": 380,
   "metadata": {
    "ExecuteTime": {
     "end_time": "2018-05-03T03:26:37.571368Z",
     "start_time": "2018-05-03T03:26:37.553078Z"
    }
   },
   "outputs": [],
   "source": [
    "feature_names = vectorizer_spaced.get_feature_names()"
   ]
  },
  {
   "cell_type": "code",
   "execution_count": null,
   "metadata": {
    "ExecuteTime": {
     "end_time": "2018-05-03T03:27:37.552427Z",
     "start_time": "2018-05-03T03:26:45.198Z"
    }
   },
   "outputs": [],
   "source": [
    "for n in [4,5,6,7]:\n",
    "    nmf = NMF(n_components=n, random_state=1, alpha=.1, l1_ratio=.5, init='nndsvd').fit(docs)\n",
    "    # if n_components=no_topics --> all features are kept\n",
    "    print('Num. Topics: ', n)\n",
    "    num_top_words = 20\n",
    "    for topic_idx, topic in enumerate(nmf.components_):\n",
    "        print(\"Topic %d:\" % (topic_idx))\n",
    "        print(\" \".join([feature_names[i]\n",
    "                        for i in topic.argsort()[:-num_top_words - 1:-1]]))\n",
    "    print('')"
   ]
  },
  {
   "cell_type": "markdown",
   "metadata": {},
   "source": [
    "## LDA"
   ]
  },
  {
   "cell_type": "code",
   "execution_count": 381,
   "metadata": {
    "ExecuteTime": {
     "end_time": "2018-05-03T03:27:37.550269Z",
     "start_time": "2018-05-03T03:26:41.806347Z"
    }
   },
   "outputs": [
    {
     "name": "stdout",
     "output_type": "stream",
     "text": [
      "Num. Topics:  4\n",
      "Topic 0:\n",
      "beau andes third tothe heading tics formally omd nuked tbeen\n",
      "Topic 1:\n",
      "wfit temples flintstones addendum chigger calimagic january liqumins qualityhighly choose\n",
      "Topic 2:\n",
      "varie third skid option incredibly omd collective andes colorless staple\n",
      "Topic 3:\n",
      "mal smoothiemmvsp norco incredibly omd herbalistic andes craziness nac lexapro\n",
      "\n",
      "Num. Topics:  5\n",
      "Topic 0:\n",
      "omd third incredibly irradiated beau andes toffee mal tothe fuel\n",
      "Topic 1:\n",
      "chigger choose flintstones caprotein dora luke calimagic habe tender haave\n",
      "Topic 2:\n",
      "skid damaging varie collective ooh colorless staple inhalant wfit speedily\n",
      "Topic 3:\n",
      "smoothiemmvsp norco craziness nac lexapro mal herbalistic january bees cambodia\n",
      "Topic 4:\n",
      "beau andes third tothe heading tics formally omd nuked tbeen\n",
      "\n",
      "Num. Topics:  6\n",
      "Topic 0:\n",
      "irradiated omd incredibly third toffee varie ooh collective inhalant dual\n",
      "Topic 1:\n",
      "skid colorless heathy dora luke approach staple business prepared ulcers\n",
      "Topic 2:\n",
      "calimagic damaging walls boomer clarity caregiver premature waiting knockout keyboard\n",
      "Topic 3:\n"
     ]
    },
    {
     "ename": "IndexError",
     "evalue": "list index out of range",
     "output_type": "error",
     "traceback": [
      "\u001b[0;31m---------------------------------------------------------------------------\u001b[0m",
      "\u001b[0;31mIndexError\u001b[0m                                Traceback (most recent call last)",
      "\u001b[0;32m<ipython-input-381-bdf3601e3350>\u001b[0m in \u001b[0;36m<module>\u001b[0;34m()\u001b[0m\n\u001b[1;32m      6\u001b[0m         \u001b[0mprint\u001b[0m\u001b[0;34m(\u001b[0m\u001b[0;34m\"Topic %d:\"\u001b[0m \u001b[0;34m%\u001b[0m \u001b[0;34m(\u001b[0m\u001b[0mtopic_idx\u001b[0m\u001b[0;34m)\u001b[0m\u001b[0;34m)\u001b[0m\u001b[0;34m\u001b[0m\u001b[0m\n\u001b[1;32m      7\u001b[0m         print(\" \".join([feature_names[i]\n\u001b[0;32m----> 8\u001b[0;31m                         for i in topic.argsort()[:-num_top_words - 1:-1]]))\n\u001b[0m\u001b[1;32m      9\u001b[0m     \u001b[0mprint\u001b[0m\u001b[0;34m(\u001b[0m\u001b[0;34m''\u001b[0m\u001b[0;34m)\u001b[0m\u001b[0;34m\u001b[0m\u001b[0m\n",
      "\u001b[0;32m<ipython-input-381-bdf3601e3350>\u001b[0m in \u001b[0;36m<listcomp>\u001b[0;34m(.0)\u001b[0m\n\u001b[1;32m      6\u001b[0m         \u001b[0mprint\u001b[0m\u001b[0;34m(\u001b[0m\u001b[0;34m\"Topic %d:\"\u001b[0m \u001b[0;34m%\u001b[0m \u001b[0;34m(\u001b[0m\u001b[0mtopic_idx\u001b[0m\u001b[0;34m)\u001b[0m\u001b[0;34m)\u001b[0m\u001b[0;34m\u001b[0m\u001b[0m\n\u001b[1;32m      7\u001b[0m         print(\" \".join([feature_names[i]\n\u001b[0;32m----> 8\u001b[0;31m                         for i in topic.argsort()[:-num_top_words - 1:-1]]))\n\u001b[0m\u001b[1;32m      9\u001b[0m     \u001b[0mprint\u001b[0m\u001b[0;34m(\u001b[0m\u001b[0;34m''\u001b[0m\u001b[0;34m)\u001b[0m\u001b[0;34m\u001b[0m\u001b[0m\n",
      "\u001b[0;31mIndexError\u001b[0m: list index out of range"
     ]
    }
   ],
   "source": [
    "for n in [4,5,6,7]:\n",
    "    lda = LatentDirichletAllocation(n_topics=n, max_iter=5, learning_method='online',\\\n",
    "                                    learning_offset=50.,random_state=0).fit(docs)\n",
    "    print('Num. Topics: ', n)\n",
    "    num_top_words = 10\n",
    "    for topic_idx, topic in enumerate(lda.components_):\n",
    "        print(\"Topic %d:\" % (topic_idx))\n",
    "        print(\" \".join([feature_names[i]\n",
    "                        for i in topic.argsort()[:-num_top_words - 1:-1]]))\n",
    "    print('')"
   ]
  },
  {
   "cell_type": "code",
   "execution_count": null,
   "metadata": {},
   "outputs": [],
   "source": []
  }
 ],
 "metadata": {
  "kernelspec": {
   "display_name": "Python 3",
   "language": "python",
   "name": "python3"
  },
  "language_info": {
   "codemirror_mode": {
    "name": "ipython",
    "version": 3
   },
   "file_extension": ".py",
   "mimetype": "text/x-python",
   "name": "python",
   "nbconvert_exporter": "python",
   "pygments_lexer": "ipython3",
   "version": "3.6.5"
  },
  "toc": {
   "nav_menu": {},
   "number_sections": true,
   "sideBar": true,
   "skip_h1_title": false,
   "title_cell": "Table of Contents",
   "title_sidebar": "Contents",
   "toc_cell": false,
   "toc_position": {
    "height": "calc(100% - 180px)",
    "left": "10px",
    "top": "150px",
    "width": "288px"
   },
   "toc_section_display": true,
   "toc_window_display": true
  },
  "varInspector": {
   "cols": {
    "lenName": 16,
    "lenType": 16,
    "lenVar": 40
   },
   "kernels_config": {
    "python": {
     "delete_cmd_postfix": "",
     "delete_cmd_prefix": "del ",
     "library": "var_list.py",
     "varRefreshCmd": "print(var_dic_list())"
    },
    "r": {
     "delete_cmd_postfix": ") ",
     "delete_cmd_prefix": "rm(",
     "library": "var_list.r",
     "varRefreshCmd": "cat(var_dic_list()) "
    }
   },
   "types_to_exclude": [
    "module",
    "function",
    "builtin_function_or_method",
    "instance",
    "_Feature"
   ],
   "window_display": false
  }
 },
 "nbformat": 4,
 "nbformat_minor": 2
}
