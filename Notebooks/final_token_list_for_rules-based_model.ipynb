{
 "cells": [
  {
   "cell_type": "markdown",
   "metadata": {},
   "source": [
    "Kunal Kotian, July 3, 2018"
   ]
  },
  {
   "cell_type": "markdown",
   "metadata": {},
   "source": [
    "This notebook only walks through some code to show how the final token list for the rules based model was constructed.  The code here is not directly used for the website (Shopsmart.ml). This notebook simply makes the steps a little more transparent."
   ]
  },
  {
   "cell_type": "markdown",
   "metadata": {},
   "source": [
    "The main point of reference to check out if you're not sure of something in this notebook is `kk_topic_modeling_v3.ipynb`."
   ]
  },
  {
   "cell_type": "markdown",
   "metadata": {},
   "source": [
    "# The Final List of Tokens"
   ]
  },
  {
   "cell_type": "markdown",
   "metadata": {},
   "source": [
    "The final tokens used by the rules-based model are shown below:"
   ]
  },
  {
   "cell_type": "code",
   "execution_count": 9,
   "metadata": {
    "ExecuteTime": {
     "end_time": "2018-07-04T06:29:39.159133Z",
     "start_time": "2018-07-04T06:29:39.127153Z"
    }
   },
   "outputs": [],
   "source": [
    "# Note: This list of words for the rules-based model is based on the list generated using \n",
    "# Word2Vec similarity + results of the Anchored Corex model.\n",
    "\n",
    "efficacy = set(['improvement', 'quality', 'marked_difference', 'mental_sharpness', 'effects!.', 'difference', 'analgesic', \n",
    "            'differance', 'negative_side_effect', 'drastic', 'noticible', 'instant', 'improvement!.', 'dramatic', \n",
    "            'enhance', 'effect', 'consistentdrastic', 'dissapoint', 'swiftly', 'pleased', \n",
    "            'notable', 'benefit', 'results', 'definate', 'significant', 'significant_improvement', 'adverse_effect', \n",
    "            'overall', 'tangible', 'increases', 'stunned', 'appreciable', 'clearer', 'gradual', 'vast_improvement', \n",
    "            'works', 'tremendous', 'substantial', 'dramatically', 'noticeably', 'miraculous', 'side_affect', \n",
    "            'remarkable', 'drastically', 'affect', 'noticeable', 'increase', 'marked', 'dramatic_improvement', \n",
    "            'outcome', 'definite_improvement', 'immediately!.', 'marked_improvement', 'feel', 'positive_effect', \n",
    "            'measurable', 'result', 'instantaneous', 'improved', 'deference', 'promotes', 'greatly', 'noticable', \n",
    "            'diference', 'noticed', 'difference!.', 'work', 'results!.', 'immediately', 'side_effect', 'improvment', \n",
    "            'big_difference', 'cumulative', 'help', 'noticeable_difference', 'positive', 'improvement', \n",
    "            'unsurpassed', \n",
    "            'profound', 'adverse', 'immediatedramatic', 'outstanding', 'notable', 'evident', 'extraordinary', \n",
    "            'favorably', 'excellence', 'consistant'])\n",
    "cost = set(['worth', 'bargin', 'investment', 'compare', 'overpriced', 'spend', 'inexpensive', 'cost!.', 'price-', \n",
    "        'price', \n",
    "        'dollar', 'expensive', 'competitive_pricing', 'selling', 'quanity', 'save', 'monie', 'worth_every_penny', \n",
    "        'pricing', 'bargain', 'affordability', 'pricy', 'worthwhile', 'money', 'value', 'buck', 'afford', 'charge', \n",
    "        'reasonable_price', 'price!i', 'quantity', 'overpay', 'spendy', 'money!.', 'deal', 'cheap', 'buying', \n",
    "        'wisely', 'penny', 'cost', 'price!!!.', 'pay', 'expense', 'affordable', 'pricey', 'fraction', 'cash', \n",
    "        'price!.', 'prices', 'cheaper', 'costly', 'reasonable', 'reasonably', 'fair', 'competitive', 'discount'])\n",
    "service = set(['payment', 'quick_delivery', 'shipping!.', 'prime_membership', 'delivery', 'service!!.', 'aaa', \n",
    "           'backorder', 'return', 'supplier', 'fast_shipping', 'packing', 'verification', 'order', 'service', \n",
    "           'merchant', 'transaction', 'seller', 'satisfied_customer', 'courteous', 'business', 'fulfillment', \n",
    "           'amazons', 'vendor', 'inquire', 'delievery', 'shipper', 'superfast', 'timely', 'costumer', 'sender', \n",
    "           'apologize', 'credit_card', 'ship', 'supersaver', 'top_notch', 'promptness', 'prompt', 'vender', \n",
    "           'customer_service!.', 'customer_satisfaction', 'shippment', 'service!.', 'company!.', 'customer_service', \n",
    "           'send', 'prime_member', 'timely_delivery', 'sourcing', 'ordering', 'merchandise', 'company', 'ups', \n",
    "           'transactionarrival',\n",
    "           'manufacturer', 'free_shipping', 'service!!!.', 'timely_manner', 'ontime', 'email', 'eligible', \n",
    "           'arrival', \n",
    "           'considerate', 'prime_shipping', 'phone_call', 'ethic', 'representative', 'notify', 'invoice', \n",
    "           'communication', \n",
    "           'delivery!.', 'prompt_service', 'unsurpassed', 'e_mail', 'honor', 'shipment', 'proudct', 'swift', \n",
    "           'shipping_charge', \n",
    "           'speedy_delivery', 'prompt_delivery', 'turnaround', 'policy', 'compensation', 'reputable_company', \n",
    "           'refund', \n",
    "           'fast_delivery', 'usps', 'exemplary', 'lifelong_customer', 'apology', 'mailing', 'super_saver', \n",
    "           'prime', \n",
    "           'handling', 'quick', 'membership', 'shipping', 'customer', 'satisfaction', 'arrive', 'package', \n",
    "           'thank', 'satisfied', 'packaging', 'promptly', 'reorder'])"
   ]
  },
  {
   "cell_type": "code",
   "execution_count": 10,
   "metadata": {
    "ExecuteTime": {
     "end_time": "2018-07-04T06:29:40.432104Z",
     "start_time": "2018-07-04T06:29:40.425895Z"
    }
   },
   "outputs": [
    {
     "name": "stdout",
     "output_type": "stream",
     "text": [
      "Lengths of final token lists: \n",
      "Efficacy:  86\n",
      "Cost:  56\n",
      "Service:  107\n"
     ]
    }
   ],
   "source": [
    "print('Lengths of final token lists: ')\n",
    "print('Efficacy: ', len(efficacy))\n",
    "print('Cost: ', len(cost))\n",
    "print('Service: ', len(service))"
   ]
  },
  {
   "cell_type": "markdown",
   "metadata": {},
   "source": [
    "# Tokens based on Word2vec Similarity"
   ]
  },
  {
   "cell_type": "code",
   "execution_count": 11,
   "metadata": {
    "ExecuteTime": {
     "end_time": "2018-07-04T06:29:51.201045Z",
     "start_time": "2018-07-04T06:29:51.191952Z"
    }
   },
   "outputs": [],
   "source": [
    "efficacy_w2v = set(['quality', 'marked_difference', 'mental_sharpness', 'effects!.', 'difference', 'analgesic', \n",
    "                'differance', 'negative_side_effect', 'drastic', 'noticible', 'instant', 'improvement!.', \n",
    "                'dramatic', 'enhance', 'notable', 'benefit', 'results', 'definate', 'significant', \n",
    "                'significant_improvement', 'adverse_effect', 'overall', 'tangible', 'increases', 'stunned', \n",
    "                'appreciable', 'clearer', 'gradual', 'vast_improvement', 'works', 'tremendous', 'substantial', \n",
    "                'dramatically', 'noticeably', 'miraculous', 'side_affect', 'remarkable', 'drastically', 'affect', \n",
    "                'noticeable', 'increase', 'marked', 'dramatic_improvement', 'outcome', 'definite_improvement', \n",
    "                'immediately!.', 'marked_improvement', 'feel', 'positive_effect', 'measurable', 'result', \n",
    "                'instantaneous', 'improved', 'deference', 'promotes', 'greatly', 'noticable', 'diference', \n",
    "                'noticed', 'difference!.', 'work', 'results!.', 'immediately', 'side_effect', 'improvment', \n",
    "                'big_difference', 'cumulative', 'help', 'noticeable_difference', 'positive', 'improvement', \n",
    "                'unsurpassed', 'profound'])"
   ]
  },
  {
   "cell_type": "code",
   "execution_count": 12,
   "metadata": {
    "ExecuteTime": {
     "end_time": "2018-07-04T06:29:58.230231Z",
     "start_time": "2018-07-04T06:29:58.223632Z"
    }
   },
   "outputs": [],
   "source": [
    "cost_w2v = set(['bargin', 'investment', 'compare', 'overpriced', 'spend', 'inexpensive', 'cost!.', 'price-', 'price', \n",
    "            'dollar', 'expensive', 'competitive_pricing', 'selling', 'quanity', 'save', 'monie', \n",
    "            'worth_every_penny', 'pricing', 'bargain', 'product/', 'affordability', 'pricy', 'worthwhile', \n",
    "            'money', 'value', 'buck', 'reasonable_price', 'price!i', 'quantity', 'overpay', 'spendy', 'money!.', \n",
    "            'deal', 'cheap', 'buying', 'wisely', 'penny', 'cost', 'price!!!.', 'pay', 'expense', 'affordable', \n",
    "            'pricey', 'fraction', 'cash', 'price!.', 'prices', 'cheaper', 'costly'])"
   ]
  },
  {
   "cell_type": "code",
   "execution_count": 13,
   "metadata": {
    "ExecuteTime": {
     "end_time": "2018-07-04T06:30:05.720255Z",
     "start_time": "2018-07-04T06:30:05.708789Z"
    }
   },
   "outputs": [],
   "source": [
    "service_w2v = set(['payment', 'quick_delivery', 'shipping!.', 'prime_membership', 'delivery', 'service!!.', 'aaa', \n",
    "               'backorder', 'return', 'supplier', 'fast_shipping', 'packing', 'verification', 'order', 'service', \n",
    "               'merchant', 'transaction', 'seller', 'satisfied_customer', 'courteous', 'business', 'fulfillment', \n",
    "               'amazons', 'vendor', 'inquire', 'delievery', 'shipper', 'superfast', 'timely', 'costumer', 'sender', \n",
    "               'apologize', 'credit_card', 'ship', 'supersaver', 'top_notch', 'promptness', 'prompt', 'vender', \n",
    "               'customer_service!.', 'customer_satisfaction', 'shippment', 'service!.', 'company!.', \n",
    "               'customer_service', 'send', 'prime_member', 'timely_delivery', 'sourcing', 'ordering', 'merchandise',\n",
    "               'company', 'manufacturer', 'free_shipping', 'service!!!.', 'timely_manner', 'ontime', 'email', \n",
    "               'eligible', 'considerate', 'prime_shipping', 'phone_call', 'ethic', 'representative', 'notify', \n",
    "               'invoice', 'delivery!.', 'prompt_service', 'unsurpassed', 'e_mail', 'honor', 'shipment', 'proudct', \n",
    "               'swift', 'speedy_delivery', 'prompt_delivery', 'turnaround', 'policy', 'compensation', \n",
    "               'reputable_company', 'fast_delivery', 'usps', 'exemplary', 'lifelong_customer', 'apology', \n",
    "               'mailing', 'super_saver', 'prime', 'handling'])"
   ]
  },
  {
   "cell_type": "code",
   "execution_count": 14,
   "metadata": {
    "ExecuteTime": {
     "end_time": "2018-07-04T06:30:07.275962Z",
     "start_time": "2018-07-04T06:30:07.269304Z"
    }
   },
   "outputs": [
    {
     "name": "stdout",
     "output_type": "stream",
     "text": [
      "Lengths of Word2vec token lists: \n",
      "Efficacy:  73\n",
      "Cost:  49\n",
      "Service:  89\n"
     ]
    }
   ],
   "source": [
    "print('Lengths of Word2vec token lists: ')\n",
    "print('Efficacy: ', len(efficacy_w2v))\n",
    "print('Cost: ', len(cost_w2v))\n",
    "print('Service: ', len(service_w2v))"
   ]
  },
  {
   "cell_type": "markdown",
   "metadata": {},
   "source": [
    "# Tokens based on Anchored CorEx Model"
   ]
  },
  {
   "cell_type": "code",
   "execution_count": 15,
   "metadata": {
    "ExecuteTime": {
     "end_time": "2018-07-04T06:30:32.583769Z",
     "start_time": "2018-07-04T06:30:32.563173Z"
    }
   },
   "outputs": [],
   "source": [
    "efficacy_corex = set(['result', 'quality', 'difference', 'effect', 'change', 'noticeable', 'outcome', 'immediate', \n",
    "                  'dramatic', 'consistent', 'drastic', 'results', 'noticable', 'outstanding', 'notable', 'evident', \n",
    "                  'measurable', 'tangible', \n",
    "                  'cumulative', 'lapse', 'extraordinary', 'backing', 'autistic_child', 'favorably', \n",
    "                  'life_extension', 'linda', \n",
    "                  'enlargement', 'excellence', 'banyan', 'gastric_bypass', 'safety_seal', 'garden_of_life', \n",
    "                  'lifeextension', \n",
    "                  'consistant', 'dave', 'plex', 'nutrilite', 'dissapoint', 'grate', 'expectations', 'scott', \n",
    "                  'swiftly', 'ot', 'hugh', \n",
    "                  'repeat_buyer', 'defintely'])\n",
    "\n",
    "cost_corex = set(['price', 'expensive', 'cheap', 'money', 'cost', 'amazon', 'worth', 'pay', 'buy', 'reasonably', \n",
    "              'store', 'reasonable', 'save', \n",
    "              'value', 'beat', 'compare', 'deal', 'quantity', 'fair', 'waste', 'local', 'competitive', \n",
    "              'free_shipping', 'affordable', \n",
    "              'health_food_store', 'shop', 'local_health', 'food_store', 'locally', 'dollar', 'bargain', \n",
    "              'fraction', 'local_store', \n",
    "              'subscribe', 'discount', 'com', 'afford', 'walmart', 'buck', 'decent', 'costco', 'drug_store', \n",
    "              'pharmacy', 'unbeatable', \n",
    "              'comparable', 'charge', 'gnc', 'swanson', 'saving', 'exact'])\n",
    "\n",
    "service_corex = set(['order', 'shipping', 'service', 'seller', 'customer', 'receive', 'arrive', 'fast', 'ship', \n",
    "                 'package', 'thank', \n",
    "                 'delivery', 'customer_service', 'quick', 'prompt', 'pleased', 'quickly', 'item', 'satisfied', \n",
    "                 'packaging', \n",
    "                 'promptly', 'future', 'shipment', 'mail', 'prime', 'vendor', 'second_bottle', 'deliver', \n",
    "                 'exactly', 'refund', \n",
    "                 'fast_shipping', 'supplier', 'stock', 'timely_manner', 'ordering', 'handling', 'speedy', \n",
    "                 'reorder', 'estimate', \n",
    "                 'usps', 'communication', 'reciev', 'ups', 'timely', 'transaction', 'arrival', 'bubble_wrap', \n",
    "                 'automatic', \n",
    "                 'super_saver', 'shipping_charge'])"
   ]
  },
  {
   "cell_type": "code",
   "execution_count": 16,
   "metadata": {
    "ExecuteTime": {
     "end_time": "2018-07-04T06:30:33.491816Z",
     "start_time": "2018-07-04T06:30:33.485359Z"
    }
   },
   "outputs": [
    {
     "name": "stdout",
     "output_type": "stream",
     "text": [
      "Lengths of Corex token lists: \n",
      "Efficacy:  46\n",
      "Cost:  50\n",
      "Service:  50\n"
     ]
    }
   ],
   "source": [
    "print('Lengths of Corex token lists: ')\n",
    "print('Efficacy: ', len(efficacy_corex))\n",
    "print('Cost: ', len(cost_corex))\n",
    "print('Service: ', len(service_corex))"
   ]
  },
  {
   "cell_type": "code",
   "execution_count": null,
   "metadata": {},
   "outputs": [],
   "source": []
  },
  {
   "cell_type": "code",
   "execution_count": null,
   "metadata": {},
   "outputs": [],
   "source": []
  },
  {
   "cell_type": "markdown",
   "metadata": {},
   "source": [
    "Token that are present in the corex list, but not in the word2vec list:"
   ]
  },
  {
   "cell_type": "code",
   "execution_count": 21,
   "metadata": {
    "ExecuteTime": {
     "end_time": "2018-07-04T06:32:28.403543Z",
     "start_time": "2018-07-04T06:32:28.397821Z"
    }
   },
   "outputs": [
    {
     "name": "stdout",
     "output_type": "stream",
     "text": [
      "efficacy_new_tok: \n",
      " {'change', 'enlargement', 'evident', 'effect', 'grate', 'repeat_buyer', 'backing', 'safety_seal', 'favorably', 'garden_of_life', 'autistic_child', 'expectations', 'excellence', 'gastric_bypass', 'outstanding', 'consistent', 'swiftly', 'ot', 'scott', 'immediate', 'lifeextension', 'extraordinary', 'lapse', 'defintely', 'plex', 'consistant', 'dissapoint', 'dave', 'hugh', 'nutrilite', 'linda', 'life_extension', 'banyan'}\n",
      "\n",
      "len(efficacy_new_tok):  33\n"
     ]
    }
   ],
   "source": [
    "efficacy_new_tok = efficacy_corex - efficacy_w2v\n",
    "print('efficacy_new_tok: \\n', efficacy_new_tok)\n",
    "print('\\nlen(efficacy_new_tok): ', len(efficacy_new_tok))"
   ]
  },
  {
   "cell_type": "code",
   "execution_count": 23,
   "metadata": {
    "ExecuteTime": {
     "end_time": "2018-07-04T06:32:55.322574Z",
     "start_time": "2018-07-04T06:32:55.316738Z"
    }
   },
   "outputs": [
    {
     "name": "stdout",
     "output_type": "stream",
     "text": [
      "cost_new_tok: \n",
      " {'saving', 'locally', 'subscribe', 'costco', 'worth', 'food_store', 'walmart', 'free_shipping', 'reasonable', 'gnc', 'pharmacy', 'local_store', 'waste', 'local_health', 'comparable', 'fair', 'beat', 'store', 'discount', 'decent', 'drug_store', 'health_food_store', 'unbeatable', 'exact', 'competitive', 'swanson', 'shop', 'afford', 'com', 'amazon', 'buy', 'charge', 'local', 'reasonably'}\n",
      "\n",
      "len(cost_new_tok):  34\n"
     ]
    }
   ],
   "source": [
    "cost_new_tok = cost_corex - cost_w2v\n",
    "print('cost_new_tok: \\n', cost_new_tok)\n",
    "print('\\nlen(cost_new_tok): ', len(cost_new_tok))"
   ]
  },
  {
   "cell_type": "code",
   "execution_count": 24,
   "metadata": {
    "ExecuteTime": {
     "end_time": "2018-07-04T06:33:21.007520Z",
     "start_time": "2018-07-04T06:33:21.002346Z"
    }
   },
   "outputs": [
    {
     "name": "stdout",
     "output_type": "stream",
     "text": [
      "service_new_tok: \n",
      " {'refund', 'receive', 'quick', 'arrival', 'fast', 'exactly', 'future', 'package', 'satisfied', 'arrive', 'automatic', 'bubble_wrap', 'shipping_charge', 'item', 'packaging', 'quickly', 'deliver', 'pleased', 'second_bottle', 'stock', 'shipping', 'thank', 'ups', 'reciev', 'mail', 'communication', 'estimate', 'promptly', 'reorder', 'customer', 'speedy'}\n",
      "\n",
      "len(service_new_tok):  31\n"
     ]
    }
   ],
   "source": [
    "service_new_tok = service_corex - service_w2v\n",
    "print('service_new_tok: \\n', service_new_tok)\n",
    "print('\\nlen(service_new_tok): ', len(service_new_tok))"
   ]
  },
  {
   "cell_type": "code",
   "execution_count": null,
   "metadata": {},
   "outputs": [],
   "source": []
  },
  {
   "cell_type": "markdown",
   "metadata": {},
   "source": [
    "# Which of the \"new tokens\" shown above are included in the final tokens lists?"
   ]
  },
  {
   "cell_type": "code",
   "execution_count": 27,
   "metadata": {
    "ExecuteTime": {
     "end_time": "2018-07-04T06:36:42.535654Z",
     "start_time": "2018-07-04T06:36:42.529149Z"
    }
   },
   "outputs": [
    {
     "name": "stdout",
     "output_type": "stream",
     "text": [
      "New words added to the final efficacy list using the Corex model tokens: \n",
      "['evident', 'effect', 'favorably', 'excellence', 'outstanding', 'swiftly', 'extraordinary', 'consistant', 'dissapoint']\n",
      "len(efficacy_corex_contrib):  9\n"
     ]
    }
   ],
   "source": [
    "efficacy_corex_contrib = [word for word in efficacy_new_tok if word in efficacy]\n",
    "print('New words added to the final efficacy list using the Corex model tokens: ')\n",
    "print(efficacy_corex_contrib)\n",
    "print('len(efficacy_corex_contrib): ', len(efficacy_corex_contrib))"
   ]
  },
  {
   "cell_type": "code",
   "execution_count": 28,
   "metadata": {
    "ExecuteTime": {
     "end_time": "2018-07-04T06:37:10.062494Z",
     "start_time": "2018-07-04T06:37:10.056264Z"
    }
   },
   "outputs": [
    {
     "name": "stdout",
     "output_type": "stream",
     "text": [
      "New words added to the final cost list using the Corex model tokens: \n",
      "['worth', 'reasonable', 'fair', 'discount', 'competitive', 'afford', 'charge', 'reasonably']\n",
      "len(cost_corex_contrib):  8\n"
     ]
    }
   ],
   "source": [
    "cost_corex_contrib = [word for word in cost_new_tok if word in cost]\n",
    "print('New words added to the final cost list using the Corex model tokens: ')\n",
    "print(cost_corex_contrib)\n",
    "print('len(cost_corex_contrib): ', len(cost_corex_contrib))"
   ]
  },
  {
   "cell_type": "code",
   "execution_count": 29,
   "metadata": {
    "ExecuteTime": {
     "end_time": "2018-07-04T06:37:34.495194Z",
     "start_time": "2018-07-04T06:37:34.488902Z"
    }
   },
   "outputs": [
    {
     "name": "stdout",
     "output_type": "stream",
     "text": [
      "New words added to the final service list using the Corex model tokens: \n",
      "['refund', 'quick', 'arrival', 'package', 'satisfied', 'arrive', 'shipping_charge', 'packaging', 'shipping', 'thank', 'ups', 'communication', 'promptly', 'reorder', 'customer']\n",
      "len(service_corex_contrib):  15\n"
     ]
    }
   ],
   "source": [
    "service_corex_contrib = [word for word in service_new_tok if word in service]\n",
    "print('New words added to the final service list using the Corex model tokens: ')\n",
    "print(service_corex_contrib)\n",
    "print('len(service_corex_contrib): ', len(service_corex_contrib))"
   ]
  },
  {
   "cell_type": "code",
   "execution_count": null,
   "metadata": {},
   "outputs": [],
   "source": []
  },
  {
   "cell_type": "code",
   "execution_count": null,
   "metadata": {},
   "outputs": [],
   "source": []
  },
  {
   "cell_type": "code",
   "execution_count": null,
   "metadata": {},
   "outputs": [],
   "source": []
  },
  {
   "cell_type": "code",
   "execution_count": null,
   "metadata": {},
   "outputs": [],
   "source": []
  },
  {
   "cell_type": "code",
   "execution_count": 30,
   "metadata": {
    "ExecuteTime": {
     "end_time": "2018-07-04T06:38:44.758406Z",
     "start_time": "2018-07-04T06:38:44.752115Z"
    }
   },
   "outputs": [
    {
     "data": {
      "text/plain": [
       "[]"
      ]
     },
     "execution_count": 30,
     "metadata": {},
     "output_type": "execute_result"
    }
   ],
   "source": [
    "[word for word in efficacy_w2v if word not in efficacy]"
   ]
  },
  {
   "cell_type": "code",
   "execution_count": 31,
   "metadata": {
    "ExecuteTime": {
     "end_time": "2018-07-04T06:39:02.227475Z",
     "start_time": "2018-07-04T06:39:02.221088Z"
    }
   },
   "outputs": [
    {
     "data": {
      "text/plain": [
       "['product/']"
      ]
     },
     "execution_count": 31,
     "metadata": {},
     "output_type": "execute_result"
    }
   ],
   "source": [
    "[word for word in cost_w2v if word not in cost]"
   ]
  },
  {
   "cell_type": "code",
   "execution_count": 32,
   "metadata": {
    "ExecuteTime": {
     "end_time": "2018-07-04T06:39:16.751296Z",
     "start_time": "2018-07-04T06:39:16.744564Z"
    }
   },
   "outputs": [
    {
     "data": {
      "text/plain": [
       "[]"
      ]
     },
     "execution_count": 32,
     "metadata": {},
     "output_type": "execute_result"
    }
   ],
   "source": [
    "[word for word in service_w2v if word not in service]"
   ]
  },
  {
   "cell_type": "code",
   "execution_count": null,
   "metadata": {},
   "outputs": [],
   "source": []
  },
  {
   "cell_type": "markdown",
   "metadata": {},
   "source": [
    "# Additional Words Manually Added"
   ]
  },
  {
   "cell_type": "code",
   "execution_count": 37,
   "metadata": {
    "ExecuteTime": {
     "end_time": "2018-07-04T07:01:45.604304Z",
     "start_time": "2018-07-04T07:01:45.598477Z"
    }
   },
   "outputs": [
    {
     "data": {
      "text/plain": [
       "{'adverse', 'consistentdrastic', 'immediatedramatic', 'pleased'}"
      ]
     },
     "execution_count": 37,
     "metadata": {},
     "output_type": "execute_result"
    }
   ],
   "source": [
    "efficacy - efficacy_w2v.union(efficacy_new_tok)"
   ]
  },
  {
   "cell_type": "code",
   "execution_count": 38,
   "metadata": {
    "ExecuteTime": {
     "end_time": "2018-07-04T07:02:13.715691Z",
     "start_time": "2018-07-04T07:02:13.710141Z"
    }
   },
   "outputs": [
    {
     "data": {
      "text/plain": [
       "{'membership', 'satisfaction', 'transactionarrival'}"
      ]
     },
     "execution_count": 38,
     "metadata": {},
     "output_type": "execute_result"
    }
   ],
   "source": [
    "service - service_w2v.union(service_new_tok)"
   ]
  },
  {
   "cell_type": "code",
   "execution_count": 39,
   "metadata": {
    "ExecuteTime": {
     "end_time": "2018-07-04T07:02:40.587897Z",
     "start_time": "2018-07-04T07:02:40.582186Z"
    }
   },
   "outputs": [
    {
     "data": {
      "text/plain": [
       "False"
      ]
     },
     "execution_count": 39,
     "metadata": {},
     "output_type": "execute_result"
    }
   ],
   "source": [
    "'consistentdrastic' in efficacy_w2v"
   ]
  },
  {
   "cell_type": "markdown",
   "metadata": {},
   "source": [
    "Concluding note:"
   ]
  },
  {
   "cell_type": "markdown",
   "metadata": {},
   "source": [
    "It's not clear why these additional word tokens were added to the final list.  One possibility is that they came from a Word2vec model Deena fitted on the corpus (because I remember her sending some words to me to be added to the final list).\n",
    "\n",
    "This doesn't influence the outcome of the rules-based model in a significant way.  It's best to simply ignore the fact that these additional words were added."
   ]
  },
  {
   "cell_type": "code",
   "execution_count": null,
   "metadata": {},
   "outputs": [],
   "source": []
  }
 ],
 "metadata": {
  "kernelspec": {
   "display_name": "Python 3",
   "language": "python",
   "name": "python3"
  },
  "language_info": {
   "codemirror_mode": {
    "name": "ipython",
    "version": 3
   },
   "file_extension": ".py",
   "mimetype": "text/x-python",
   "name": "python",
   "nbconvert_exporter": "python",
   "pygments_lexer": "ipython3",
   "version": "3.6.4"
  },
  "toc": {
   "nav_menu": {},
   "number_sections": true,
   "sideBar": true,
   "skip_h1_title": false,
   "toc_cell": false,
   "toc_position": {},
   "toc_section_display": "block",
   "toc_window_display": false
  },
  "varInspector": {
   "cols": {
    "lenName": 16,
    "lenType": 16,
    "lenVar": 40
   },
   "kernels_config": {
    "python": {
     "delete_cmd_postfix": "",
     "delete_cmd_prefix": "del ",
     "library": "var_list.py",
     "varRefreshCmd": "print(var_dic_list())"
    },
    "r": {
     "delete_cmd_postfix": ") ",
     "delete_cmd_prefix": "rm(",
     "library": "var_list.r",
     "varRefreshCmd": "cat(var_dic_list()) "
    }
   },
   "types_to_exclude": [
    "module",
    "function",
    "builtin_function_or_method",
    "instance",
    "_Feature"
   ],
   "window_display": false
  }
 },
 "nbformat": 4,
 "nbformat_minor": 2
}
