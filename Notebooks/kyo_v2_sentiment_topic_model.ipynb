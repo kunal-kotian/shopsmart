{
 "cells": [
  {
   "cell_type": "markdown",
   "metadata": {},
   "source": [
    "This notebook covers:\n",
    "    \n",
    "- leverages recleaned data from v1 \n",
    "- reruns sentiment analysis at the sentence level\n",
    "- merges results of vader and textblob\n",
    "- identifies subjects of highest and lowest sentiment sentences\n",
    "- if above is not clear, identifies nouns in preceeding sentence \n"
   ]
  },
  {
   "cell_type": "code",
   "execution_count": 92,
   "metadata": {
    "ExecuteTime": {
     "end_time": "2018-04-18T20:11:23.685246Z",
     "start_time": "2018-04-18T20:11:19.452941Z"
    }
   },
   "outputs": [],
   "source": [
    "import warnings\n",
    "warnings.filterwarnings('ignore')\n",
    "\n",
    "import pandas as pd\n",
    "import numpy as np\n",
    "import collections\n",
    "\n",
    "\n",
    "import matplotlib.pyplot as plt\n",
    "import seaborn as sns\n",
    "%matplotlib inline\n",
    "\n",
    "# tokenization\n",
    "from sklearn.feature_extraction.text import  ENGLISH_STOP_WORDS  \n",
    "import re \n",
    "import nltk\n",
    "from nltk import tokenize\n",
    "import string \n",
    "\n",
    "# spacy\n",
    "from __future__ import unicode_literals\n",
    "import spacy \n",
    "nlp = spacy.load('en')\n",
    "\n",
    "# sentiment analysis\n",
    "from vaderSentiment.vaderSentiment import SentimentIntensityAnalyzer\n",
    "from textblob import TextBlob"
   ]
  },
  {
   "cell_type": "code",
   "execution_count": 282,
   "metadata": {
    "ExecuteTime": {
     "end_time": "2018-04-18T22:13:06.153132Z",
     "start_time": "2018-04-18T22:11:05.115076Z"
    }
   },
   "outputs": [],
   "source": [
    "data = pd.read_pickle('../data/data_tokenized') # better to use pickle"
   ]
  },
  {
   "cell_type": "code",
   "execution_count": 291,
   "metadata": {
    "ExecuteTime": {
     "end_time": "2018-04-18T22:15:56.822055Z",
     "start_time": "2018-04-18T22:15:56.721971Z"
    }
   },
   "outputs": [],
   "source": [
    "# add review_id\n",
    "data['review_id'] = data.reset_index().index+1"
   ]
  },
  {
   "cell_type": "code",
   "execution_count": 337,
   "metadata": {
    "ExecuteTime": {
     "end_time": "2018-04-18T22:40:41.621667Z",
     "start_time": "2018-04-18T22:40:31.800688Z"
    }
   },
   "outputs": [],
   "source": [
    "# remove extra white space from review text \n",
    "# dont use concatenated review title + text due to duplication\n",
    "def remove_white_space(text_raw):\n",
    "    text_clean = re.sub('\\s+', ' ', text_raw).strip()\n",
    "    return text_clean\n",
    "\n",
    "data.reviewText_clean = data.reviewText_clean.apply(remove_white_space)"
   ]
  },
  {
   "cell_type": "code",
   "execution_count": 338,
   "metadata": {
    "ExecuteTime": {
     "end_time": "2018-04-18T22:41:10.511244Z",
     "start_time": "2018-04-18T22:41:10.500712Z"
    }
   },
   "outputs": [],
   "source": [
    "# subset to cols of interest \n",
    "data_sub = data[['asin','review_id','reviewText_clean']] # _clean has extra white space removed "
   ]
  },
  {
   "cell_type": "code",
   "execution_count": 339,
   "metadata": {
    "ExecuteTime": {
     "end_time": "2018-04-18T22:41:15.218217Z",
     "start_time": "2018-04-18T22:41:14.902441Z"
    }
   },
   "outputs": [
    {
     "data": {
      "text/plain": [
       "(355178, 353829)"
      ]
     },
     "execution_count": 339,
     "metadata": {},
     "output_type": "execute_result"
    }
   ],
   "source": [
    "data_sub.review_id.nunique(), data_sub.reviewText_clean.nunique()"
   ]
  },
  {
   "cell_type": "code",
   "execution_count": 315,
   "metadata": {
    "ExecuteTime": {
     "end_time": "2018-04-18T22:32:08.260834Z",
     "start_time": "2018-04-18T22:32:08.105236Z"
    }
   },
   "outputs": [
    {
     "data": {
      "text/plain": [
       "1349"
      ]
     },
     "execution_count": 315,
     "metadata": {},
     "output_type": "execute_result"
    }
   ],
   "source": [
    "# num duplicates\n",
    "data_sub.review_id.nunique()-data_sub.review_all_clean.nunique()"
   ]
  },
  {
   "cell_type": "code",
   "execution_count": 316,
   "metadata": {
    "ExecuteTime": {
     "end_time": "2018-04-18T22:32:26.586175Z",
     "start_time": "2018-04-18T22:32:24.657379Z"
    },
    "collapsed": true
   },
   "outputs": [
    {
     "name": "stdout",
     "output_type": "stream",
     "text": [
      "[u'I love this stuff . I have lost ten pounds in about 2 weeks. It does what they say it does. you have nothing to lose if you dont like it send it back.. I love this stuff . I have lost ten pounds in about 2 weeks. It does what they say it does. you have nothing to lose if you dont like it send it back.', u'This product has worked great for me. I have lost 29lbs in two months. It makes me feel full faster. I have had no side effects and feel great.. This product has worked great for me. I have lost 29lbs in two months. It makes me feel full faster. I have had no side effects and feel great.', u'Great product.. Great product.', u\"I used it for a month then tried a different brand. Boy was that a mistake. This stuff took care of nearly 80% of my gas and I'm a huge vegetable eater instead of other carbs. I couldn't work in an office without this probiotic relief.. I used it for a month then tried a different brand. Boy was that a mistake. This stuff took care of nearly 80% of my gas and I'm a huge vegetable eater instead of other carbs. I couldn't work in an office without this probiotic relief.\", u\"I love the price on amazon, it is a few dollars less than the cost at my local health food store, and the multipack saves even more. I take one capsule, three times a day in combination with fenugreek (two capsules, two times a day) to 'boost' my bustline. I nursed two children, and my breasts were saggy after I stopped nursing. I can't afford a procedure, so this was my next option, although I was very skeptical to it actually working. But, it did! Now, the results were not huge and dramatic, but they are slightly and noticeably fuller and perkier after several months of taking the combo-it does take that long to notice a difference, so be faithful if you decide to try it. The duo works because it increases estrogen in the body. As with any natural product, you need to evaluate if this is a good thing for you to try or not. Increasing estrogen can be an issue for some women with other problems( uterine, cysts, etc), so please do your research. Many of my supplements are from Nature's Way, because they don't often use stearates in their products, if avoidable. This brand is very pure, the ingredients in this are (per one capsule) fennel seed 480 mg, gelatin and silica. I don't care for gelatin, so I just open the capsules and pour out the powder in a bit of water when I am ready to take them. The taste is like black licorice, but when you also open the fenugreek powder (tastes like bitter maple syrup) and mix in the water with it, its not so bad. Fennel is also supposed to freshen breath and relax the smooth muscles of the digestive system, so there are many other benefits to taking it.. I love the price on amazon, it is a few dollars less than the cost at my local health food store, and the multipack saves even more. I take one capsule, three times a day in combination with fenugreek (two capsules, two times a day) to 'boost' my bustline. I nursed two children, and my breasts were saggy after I stopped nursing. I can't afford a procedure, so this was my next option, although I was very skeptical to it actually working. But, it did! Now, the results were not huge and dramatic, but they are slightly and noticeably fuller and perkier after several months of taking the combo-it does take that long to notice a difference, so be faithful if you decide to try it. The duo works because it increases estrogen in the body. As with any natural product, you need to evaluate if this is a good thing for you to try or not. Increasing estrogen can be an issue for some women with other problems( uterine, cysts, etc), so please do your research. Many of my supplements are from Nature's Way, because they don't often use stearates in their products, if avoidable. This brand is very pure, the ingredients in this are (per one capsule) fennel seed 480 mg, gelatin and silica. I don't care for gelatin, so I just open the capsules and pour out the powder in a bit of water when I am ready to take them. The taste is like black licorice, but when you also open the fenugreek powder (tastes like bitter maple syrup) and mix in the water with it, its not so bad. Fennel is also supposed to freshen breath and relax the smooth muscles of the digestive system, so there are many other benefits to taking it.\", u'Awesome!. Awesome!', u'Excellent thank you. Excellent thank you', u\"While I was in Peru, I worked at a frog hospital. I used Aubrey Organics - 100% Pure Aloe Vera Gel to massage into my leper girlfriend's dry skin.It works very well and keeps the skin moisturized. When we were out, we used the real Aloe Vera plant. In it's most basic form, Aloe Vera is a most potent sticky, pus-like liquid.. While I was in Peru, I worked at a frog hospital. I used Aubrey Organics - 100% Pure Aloe Vera Gel to massage into my leper girlfriend's dry skin.It works very well and keeps the skin moisturized. When we were out, we used the real Aloe Vera plant. In it's most basic form, Aloe Vera is a most potent sticky, pus-like liquid.\", u\"I can say that it had no jitteriness or nausea that usually accompanies the supplements which I've tried in past. As far as weight results, I have lost about 8lbs in 3 weeks. It actually gives me energy that I can be productive in my daily routine. I am satisfied from this product and I recommend it to others every chance I get.. I can say that it had no jitteriness or nausea that usually accompanies the supplements which I've tried in past. As far as weight results, I have lost about 8lbs in 3 weeks. It actually gives me energy that I can be productive in my daily routine. I am satisfied from this product and I recommend it to others every chance I get.\", u'I started a new supplement regimen including this supplement. After only a week, I noticed many positive results: My brain felt clearer and had better focus, I did not have the normally intense sugar cravings, and I had so much energy that I almost found it difficult to sleep. While supplements effect everyone a little differently, I feel that this is a good quality version.. I started a new supplement regimen including this supplement. After only a week, I noticed many positive results: My brain felt clearer and had better focus, I did not have the normally intense sugar cravings, and I had so much energy that I almost found it difficult to sleep. While supplements effect everyone a little differently, I feel that this is a good quality version.', u\"After reading and research, this product seemed to have all of the right ingredients at a good price so my wife and I tried it. It's still early so whether or not it helps block body fat is still open for interpretation, but, I can attest that it does good a very good job for me of appetite suppressant. I have a stressful job and I tend to stress snack. This has all but stopped since I started taking the product. We will continue to use and see what we can do with it. It's a nice tool in helping us to lose weight.. After reading and research, this product seemed to have all of the right ingredients at a good price so my wife and I tried it. It's still early so whether or not it helps block body fat is still open for interpretation, but, I can attest that it does good a very good job for me of appetite suppressant. I have a stressful job and I tend to stress snack. This has all but stopped since I started taking the product. We will continue to use and see what we can do with it. It's a nice tool in helping us to lose weight.\", u\"it's really work. it's really work\", u'I love it. I love it', u'Nice. Nice', u'My son loves these and he is very picky with his food. He did not even give me a hard time in taking these.. My son loves these and he is very picky with his food. He did not even give me a hard time in taking these.', u'work great. work great', u'Does the job.. Does the job.', u\"I started using it couple of weeks ago and saw results very fast! It curbs my appetite so I don't pick on junk food and also gives me energy as well. I recommend this product!. I started using it couple of weeks ago and saw results very fast! It curbs my appetite so I don't pick on junk food and also gives me energy as well. I recommend this product!\", u\"I have tried many cleansing products before. Some were very intense on the stomach and I spent all day in the bathroom. Others were so gentle I wondered if they were working at all. This product seems to be perfect. I started out taking one a day and I didn't get any cramps and was able to hold taking care of business in the bathroom when the time called. I have been taking it a week now and have just started taking two a day. I have noticed a lot less bloat and have lost 3.4 pounds. I would recommend this to anyone looking for cleansing.. I have tried many cleansing products before. Some were very intense on the stomach and I spent all day in the bathroom. Others were so gentle I wondered if they were working at all. This product seems to be perfect. I started out taking one a day and I didn't get any cramps and was able to hold taking care of business in the bathroom when the time called. I have been taking it a week now and have just started taking two a day. I have noticed a lot less bloat and have lost 3.4 pounds. I would recommend this to anyone looking for cleansing.\", u'After taking these pills for about two weeks, I noticed the difference that they had made. I used to eat a lot but now I eat small portions. It has been managing my sugar levels and increasing my energy levels. It is a 100% solution to my problem.. After taking these pills for about two weeks, I noticed the difference that they had made. I used to eat a lot but now I eat small portions. It has been managing my sugar levels and increasing my energy levels. It is a 100% solution to my problem.', u\"The product works great! I have plenty of energy, I don't get any stomach aches, and I have seen great results with weigh loss. I would gladly recommend this to anyone looking forore energy and a boost in dropping weight.. The product works great! I have plenty of energy, I don't get any stomach aches, and I have seen great results with weigh loss. I would gladly recommend this to anyone looking forore energy and a boost in dropping weight.\", u'excellent. excellent', u'Best product. I saw a change within a week. With garcinia cambogia. This product works miracles you have to try it.. Best product. I saw a change within a week. With garcinia cambogia. This product works miracles you have to try it.', u'Excellent!. Excellent!', u'I am usually a slow loser so I know I will have to give it a little more time before I see real results, but I was down 3 pounds within the first 20 days of using this product. That is a big deal for me. It helps control my appetite and makes me more regular. I would definitely give this a shot if you have tried everything and are still not getting results. I recommend combining with exercise and drinking at least half your body weight in water. Great product!. I am usually a slow loser so I know I will have to give it a little more time before I see real results, but I was down 3 pounds within the first 20 days of using this product. That is a big deal for me. It helps control my appetite and makes me more regular. I would definitely give this a shot if you have tried everything and are still not getting results. I recommend combining with exercise and drinking at least half your body weight in water. Great product!', u'Excelente. Excelente', u'I first bought the ThreeLac with the Oxygen Elements, then found a combination that included Active Enzymes and JarroDophilus here online. I was looking for a probiotic to further help my system get back to normal. And now it has! I could not live without ThreeLac!. I first bought the ThreeLac with the Oxygen Elements, then found a combination that included Active Enzymes and JarroDophilus here online. I was looking for a probiotic to further help my system get back to normal. And now it has! I could not live without ThreeLac!', u'OK. OK', u'Just what I was looking for. Just what I was looking for', u'Great price. Thanks. Great price. Thanks', u\"I bought this in an attempt to lose a few pounds, but after a month and a half of taking this, I have lost about 15 pounds. I haven't changed my eating habits or exercised more either. I take this at least twice a day, and I typically will take it right before I go to sleep. It doesn't affect my ability to sleep and I don't wake up in the middle of the night feeling hungry. I would recommend this to anyone thinking about losing weight.. I bought this in an attempt to lose a few pounds, but after a month and a half of taking this, I have lost about 15 pounds. I haven't changed my eating habits or exercised more either. I take this at least twice a day, and I typically will take it right before I go to sleep. It doesn't affect my ability to sleep and I don't wake up in the middle of the night feeling hungry. I would recommend this to anyone thinking about losing weight.\", u'Like it. Like it', u\"What can I say its Fish Oil! I remember Back in my country they used to make us take fish oil in liquid form as kids.I hated the after taste and anything to do with fish oil, when I got older I got smarter and know that omega 3 in vital to our health.Working out in gym I started having joint pains so another lifter told me he takes Fish oil to help with that. problem, not I take fish oil daily and the pain disappearedI chose this product because there's no after taste, fish burbs and highly concentrated. good price for top fish oil!. What can I say its Fish Oil! I remember Back in my country they used to make us take fish oil in liquid form as kids.I hated the after taste and anything to do with fish oil, when I got older I got smarter and know that omega 3 in vital to our health.Working out in gym I started having joint pains so another lifter told me he takes Fish oil to help with that. problem, not I take fish oil daily and the pain disappearedI chose this product because there's no after taste, fish burbs and highly concentrated. good price for top fish oil!\", u'Great stuff. Great stuff', u'Great!. Great!', u'Great product !. Great product !', u\"I have tried other companies to expirience the benefits of Garsinia Cambogia. It did supressed my appetite but not for long and no weight loss. So I decide to give it a try to Health Plus not expecting much but hoping it can work . I'm glad I did. I would fill up fast. I would feel full trough out the day and lost 1 dress size. I started with supplement and continue w/exersizing and healthy eating.With other supplements I felt some what weak , litterally supressed. With this product I feel positive changes , even trough out the day. Even if I skip a time or two. It's recomended that you take it 3x per day. I orderd 2 bottles one for me another for my husband to support him trough lent . He was doing a serious fast. And it helped him a lot too. I whould recommend this brand to friends and family.. I have tried other companies to expirience the benefits of Garsinia Cambogia. It did supressed my appetite but not for long and no weight loss. So I decide to give it a try to Health Plus not expecting much but hoping it can work . I'm glad I did. I would fill up fast. I would feel full trough out the day and lost 1 dress size. I started with supplement and continue w/exersizing and healthy eating.With other supplements I felt some what weak , litterally supressed. With this product I feel positive changes , even trough out the day. Even if I skip a time or two. It's recomended that you take it 3x per day. I orderd 2 bottles one for me another for my husband to support him trough lent . He was doing a serious fast. And it helped him a lot too. I whould recommend this brand to friends and family.\", u\"decided to try this product out since i've heard good reviews about it, i've lost fifteen pounds since using these pills. they work very very well i couldn't be happier about myself weight wise! definitely works it has definitely earned its five star review. i would definitely recommend this product, have recommended it to my mother during her weight loss process and she is seeing results as well.. decided to try this product out since i've heard good reviews about it, i've lost fifteen pounds since using these pills. they work very very well i couldn't be happier about myself weight wise! definitely works it has definitely earned its five star review. i would definitely recommend this product, have recommended it to my mother during her weight loss process and she is seeing results as well.\", u'seems to help. seems to help', u\"I've been using this product in combination with Green Coffee. What I have experienced is more energy and better sleep. I've lost 4 pounds in my first week and I am looking forward to losing more weight to meet my goal.. I've been using this product in combination with Green Coffee. What I have experienced is more energy and better sleep. I've lost 4 pounds in my first week and I am looking forward to losing more weight to meet my goal.\", u'These are definitely the best supplements that I have taken. I have seen results in just a few weeks and I am happy that I have reached my initial goal now it is time to set another one.. These are definitely the best supplements that I have taken. I have seen results in just a few weeks and I am happy that I have reached my initial goal now it is time to set another one.', u'Product arrived on time and I was very satisfied with that. Also I have been taking this for a little over 2 weeks and I am quite please w/my results. I have lost weight and a lot of inches which really can make more of a difference sometimes than the weight itself!. Product arrived on time and I was very satisfied with that. Also I have been taking this for a little over 2 weeks and I am quite please w/my results. I have lost weight and a lot of inches which really can make more of a difference sometimes than the weight itself!', u'works great.. works great.', u'Wonderful.. Wonderful.', u'Anything is worth a try. I came across these as I was looking for a dietary supplement that would help me along with my new diet and exercise plan. Who knew that this would be the perfect product for me that would help me reach my goal. It not only boosted my weight loss but I have felt rejuvenated. This is a product that is worth a try.. Anything is worth a try. I came across these as I was looking for a dietary supplement that would help me along with my new diet and exercise plan. Who knew that this would be the perfect product for me that would help me reach my goal. It not only boosted my weight loss but I have felt rejuvenated. This is a product that is worth a try.', u\"I love chlorella and spirulina, which is why I use to have a green juice everyday for the past 3-4 years. But let's face it, if you're not making it yourself at home, it can be pretty expensive! If you've had green juice at its rawest (and I mean the ones with barely any apple or baa to overpower the taste of &#34;grass&#34; or greens), you know it can taste like a bunch of wheatgrass or seaweed. IF you have no problems of tasting grass, then these are no problem. Be forewarned, the color of the pills do LIGHTLY transfer onto your hands, but it's not permanent or anything. Just a stain, but a brief wash and you're good. I take these everyday, along with the spirulina, and all systems go. There can be a slight (miniscule) twinge in your tummy and you may feel like &#34;going&#34; but it's not bad; and i do find it does help me &#34;go&#34;. OH, i take half dosage during the weekdays and full dose on weekends.. I love chlorella and spirulina, which is why I use to have a green juice everyday for the past 3-4 years. But let's face it, if you're not making it yourself at home, it can be pretty expensive! If you've had green juice at its rawest (and I mean the ones with barely any apple or baa to overpower the taste of &#34;grass&#34; or greens), you know it can taste like a bunch of wheatgrass or seaweed. IF you have no problems of tasting grass, then these are no problem. Be forewarned, the color of the pills do LIGHTLY transfer onto your hands, but it's not permanent or anything. Just a stain, but a brief wash and you're good. I take these everyday, along with the spirulina, and all systems go. There can be a slight (miniscule) twinge in your tummy and you may feel like &#34;going&#34; but it's not bad; and i do find it does help me &#34;go&#34;. OH, i take half dosage during the weekdays and full dose on weekends.\", u'Thanks!. Thanks!', u\"I've been taking it for a month. Unfortunately I haven't lost a lot, but I don't feel as hungry and I've noticed an increase in my energy levels. I think I'm sleeping better too. Thanks.. I've been taking it for a month. Unfortunately I haven't lost a lot, but I don't feel as hungry and I've noticed an increase in my energy levels. I think I'm sleeping better too. Thanks.\", u\"With the help of Eureka I have lost the fogginess that I just couldn't get out of. Friends and Family all say that I am back to being the person that they all used to know. It was after I was taking these supplements for about 4 months that I noticed the difference.. With the help of Eureka I have lost the fogginess that I just couldn't get out of. Friends and Family all say that I am back to being the person that they all used to know. It was after I was taking these supplements for about 4 months that I noticed the difference.\", u'I received these vitamins very quickly within the time period that was stated on my order pages. I also received them as was stated in the description.. I received these vitamins very quickly within the time period that was stated on my order pages. I also received them as was stated in the description.', u'This product delivered all that was advertised, I had zero appetite and was able to lose weight while having energy for everyday tasks. I planned out all my meals and stayed on a low impact exercise program. I would recommend this product.. This product delivered all that was advertised, I had zero appetite and was able to lose weight while having energy for everyday tasks. I planned out all my meals and stayed on a low impact exercise program. I would recommend this product.', u'I have been happy with this product. In the past other products I have tried have made my stomach feel a little upset. I would like to try this product on a more regular basis, but wanted to try it first to see how it made me feel.. I have been happy with this product. In the past other products I have tried have made my stomach feel a little upset. I would like to try this product on a more regular basis, but wanted to try it first to see how it made me feel.', u\"I have been taking it for about 2 months as directed and I feel great. More stamina to last longer in the bedroom, a higher libido, and no harsh side effects. I've gained a little in length and girth as well. Excited to see how much more I gain. I have also gotten an energy boost from this as well.. I have been taking it for about 2 months as directed and I feel great. More stamina to last longer in the bedroom, a higher libido, and no harsh side effects. I've gained a little in length and girth as well. Excited to see how much more I gain. I have also gotten an energy boost from this as well.\", u'I would order the product again. I loved it and found it to be effective. It helped to curb my appetite !. I would order the product again. I loved it and found it to be effective. It helped to curb my appetite !', u\"After taking NatureWise Vitamin D3 for a few weeks, I am quite satisfied with my choice. It's a small pill, making it easy to get down. And even though it contains fish oil, it doesn't have the fish oil smell that many supplements do. I've been on a restricted eating plan for the last year, so I was also pleased that the product is natural, without sugar or gluten. Plus, the price was right!. After taking NatureWise Vitamin D3 for a few weeks, I am quite satisfied with my choice. It's a small pill, making it easy to get down. And even though it contains fish oil, it doesn't have the fish oil smell that many supplements do. I've been on a restricted eating plan for the last year, so I was also pleased that the product is natural, without sugar or gluten. Plus, the price was right!\", u\"This multi vitamin has done wonders for my son's skin. No matter how much he cleaned his face he still had breakouts. After using Active Health Teen his face is really clear.These vitamins have herbs that help clear teen skin problems. I'll be ordering these monthly from now on.. This multi vitamin has done wonders for my son's skin. No matter how much he cleaned his face he still had breakouts. After using Active Health Teen his face is really clear.These vitamins have herbs that help clear teen skin problems. I'll be ordering these monthly from now on.\", u\"My fiance has been taking this for a couple of months and she loves it! The fact that it finally made it to Amazon is such a relief because its easier to get now. She has been taking it in conjunction with Ubervita W700 and is dropping the pounds and feels great. I've honestly never seen her this full of energy. I will definitely be ordering more of this for her!!. My fiance has been taking this for a couple of months and she loves it! The fact that it finally made it to Amazon is such a relief because its easier to get now. She has been taking it in conjunction with Ubervita W700 and is dropping the pounds and feels great. I've honestly never seen her this full of energy. I will definitely be ordering more of this for her!!\", u'I love it!. I love it!', u'works good. works good', u'I was looking for an Omega-3 supplement that was easier to swallow than the usual huge softgels. Although this product is for kids, I feel it is beneficial to me as an adult as well, and the smaller capsules are easy to swallow!. I was looking for an Omega-3 supplement that was easier to swallow than the usual huge softgels. Although this product is for kids, I feel it is beneficial to me as an adult as well, and the smaller capsules are easy to swallow!', u\"Like the quality of the product and price.,It's organic and care is take to produce it.Moringa leaf is awesome, also called drumsticks,I used to eat the drumsticks chopped in soups and curries !!!. Like the quality of the product and price.,It's organic and care is take to produce it.Moringa leaf is awesome, also called drumsticks,I used to eat the drumsticks chopped in soups and curries !!!\", u'My wife saw this on Dr Oz. While mainly skeptical of products such as this, I must say that it is working and seems to deliver as promised. Lost a few pounds already so I would have to say that I am happy.. My wife saw this on Dr Oz. While mainly skeptical of products such as this, I must say that it is working and seems to deliver as promised. Lost a few pounds already so I would have to say that I am happy.', u\"I researched many different alternative ways to help a family member who was shockingly diagnosed with non-hodgkins lymphoma, a blood cancer. (I must say that the power of prayer is first and foremost in my books, but for those who are not religious, put that comment aside please and read on.)I wanted to find products that could help could help clean the blood and boost the body's immune system. I read great things about the real Essiac and how it has been used for many, many years with great outcomes.It is expensive, but completely worth it. After only several months of taking this daily along with these other products, which I will list below, the cancer disappeared. It was a truly miracle to all of us and the doctors could not explain it, but I believe that these products greatly helped along with a change in diet (eliminate sugar and eat veggies). The other products that were taken in combination with this were, listed from most important to least taken were: Modifilan, IP-6, Source Naturals Immune Defense (mushrooms), liquid chlorophyll, Krill oil, Purple Defense, Momordica extract, Curcumin. Yes, I know it's a lot and you can never know for sure which one helped the most, but maybe the combination of them all did. I just wanted to list them so that others who might be in a similar situation, who are looking for cancer fighting products, can easily see what may work for them.. I researched many different alternative ways to help a family member who was shockingly diagnosed with non-hodgkins lymphoma, a blood cancer. (I must say that the power of prayer is first and foremost in my books, but for those who are not religious, put that comment aside please and read on.)I wanted to find products that could help could help clean the blood and boost the body's immune system. I read great things about the real Essiac and how it has been used for many, many years with great outcomes.It is expensive, but completely worth it. After only several months of taking this daily along with these other products, which I will list below, the cancer disappeared. It was a truly miracle to all of us and the doctors could not explain it, but I believe that these products greatly helped along with a change in diet (eliminate sugar and eat veggies). The other products that were taken in combination with this were, listed from most important to least taken were: Modifilan, IP-6, Source Naturals Immune Defense (mushrooms), liquid chlorophyll, Krill oil, Purple Defense, Momordica extract, Curcumin. Yes, I know it's a lot and you can never know for sure which one helped the most, but maybe the combination of them all did. I just wanted to list them so that others who might be in a similar situation, who are looking for cancer fighting products, can easily see what may work for them.\", u'Works great. Works great', u\"I noticed this working when I started using it as directed - two in the morning, two at night, 30 minutes before meals. Any other way and it's not as effective.. I noticed this working when I started using it as directed - two in the morning, two at night, 30 minutes before meals. Any other way and it's not as effective.\", u'Very easy to take, it does seem to give more energy. I have ordered other products from Bulksupplements and have been very pleased with them.. Very easy to take, it does seem to give more energy. I have ordered other products from Bulksupplements and have been very pleased with them.', u'I thought that this was just one of those fake things, or something that would have no results. I was wrong. I lost weight , but not only that, it made me feel cleansed. I felt so free of all the weight, when i look in the mirror, i feel good in my own skin! Very easy to take, no side affects, great weight loss, recommend to everyone !. I thought that this was just one of those fake things, or something that would have no results. I was wrong. I lost weight , but not only that, it made me feel cleansed. I felt so free of all the weight, when i look in the mirror, i feel good in my own skin! Very easy to take, no side affects, great weight loss, recommend to everyone !', u'After a lot of researching I have figured out that krill oil is better than fish oil. This is a great product with no after taste and is offered at an exceptional price. Has a little odor in the bottle, but they all do.. After a lot of researching I have figured out that krill oil is better than fish oil. This is a great product with no after taste and is offered at an exceptional price. Has a little odor in the bottle, but they all do.', u\"I purchased PhenRx a couple weeks ago and so far it seems to be working as advertised. I've lost four pounds in three weeks, which for me at my age (Senior) the weight loss is great! I'm confident that continued use will slowly melt the excess pounds.I believe it does help to suppresses my appetite and seems to curb cravings with no side effects, normally I get an upset stomach with most supplements. I will continue to use.. I purchased PhenRx a couple weeks ago and so far it seems to be working as advertised. I've lost four pounds in three weeks, which for me at my age (Senior) the weight loss is great! I'm confident that continued use will slowly melt the excess pounds.I believe it does help to suppresses my appetite and seems to curb cravings with no side effects, normally I get an upset stomach with most supplements. I will continue to use.\", u'Excellent. Excellent', u\"I have been on both Raspberry Ketones and Green Coffee Extract for about three weeks and have lost about 3-4 pounds without really trying. I have been working to get rid of about 15 pounds of baby weight, literally the hardest 15 pounds I've ever had to lose in my life (it has never been THIS difficult) - I'm really happy the supplements are helping. Also, NatureWise has been great - I called and they gave me some pointers to how to get the most out of their product. I wasn't completely using both supplements correctly so I'm excited to see if there will be much of a difference moving forward. I've been happy with my purchase and plan to stay on the program for a few months. I have recommended both supplements to my friends who are also moms trying to lose those extra pounds.. I have been on both Raspberry Ketones and Green Coffee Extract for about three weeks and have lost about 3-4 pounds without really trying. I have been working to get rid of about 15 pounds of baby weight, literally the hardest 15 pounds I've ever had to lose in my life (it has never been THIS difficult) - I'm really happy the supplements are helping. Also, NatureWise has been great - I called and they gave me some pointers to how to get the most out of their product. I wasn't completely using both supplements correctly so I'm excited to see if there will be much of a difference moving forward. I've been happy with my purchase and plan to stay on the program for a few months. I have recommended both supplements to my friends who are also moms trying to lose those extra pounds.\", u'Great. Great', u'Just as expected.. Just as expected.', u\"It really works! It curves my appetite, I've started taking it for about a month and a half, and I lost 20 lb. already, I'm so happy with the results, of course you have to take it as directed in the bottle and eat healthy. I started taking it without exercising first and it was working very well by itself, but then now that I'm doing some exercise it accelerated the process even better, now I have more energy and it feels so good going down on sizes!. It really works! It curves my appetite, I've started taking it for about a month and a half, and I lost 20 lb. already, I'm so happy with the results, of course you have to take it as directed in the bottle and eat healthy. I started taking it without exercising first and it was working very well by itself, but then now that I'm doing some exercise it accelerated the process even better, now I have more energy and it feels so good going down on sizes!\", u\"This stuff works!! I have been taking it for a weeks (not always eating perfectly) and have lost 5 weight. I love food so I needed a good appetite suppressant. This product has done exactly what I need it to do.I'm really happy with my results so far. I still get hungry if I haven't eaten all day. However, the Garcinia Cambogia makes it way easier to handle a reduced diet and it seems to increase my energy. I have about another 15 to 20 lbs. to lose but I feel pretty confident I'll reach my goal.. This stuff works!! I have been taking it for a weeks (not always eating perfectly) and have lost 5 weight. I love food so I needed a good appetite suppressant. This product has done exactly what I need it to do.I'm really happy with my results so far. I still get hungry if I haven't eaten all day. However, the Garcinia Cambogia makes it way easier to handle a reduced diet and it seems to increase my energy. I have about another 15 to 20 lbs. to lose but I feel pretty confident I'll reach my goal.\", u'This product is great. Not only do I feel that it works (as I have lost 16 lbs this month), but its a great appetite suppressant. Its totally safe, as it is 100% natural, and made in the USA. I was worried that it may not work, but since I have had these great results, my best friend started using them and he has lost weight too! We work out together which makes it helpful. Thank you!. This product is great. Not only do I feel that it works (as I have lost 16 lbs this month), but its a great appetite suppressant. Its totally safe, as it is 100% natural, and made in the USA. I was worried that it may not work, but since I have had these great results, my best friend started using them and he has lost weight too! We work out together which makes it helpful. Thank you!', u'Love it!!. Love it!!', u'Great price!. Great price!', u'This product arrives exactly as shown in the description. It was the most reasonably priced out of all the others I looked at and I appreciated the buy three get one offer. It also arrived quickly. I would most certainly order products from this company again in the future.. This product arrives exactly as shown in the description. It was the most reasonably priced out of all the others I looked at and I appreciated the buy three get one offer. It also arrived quickly. I would most certainly order products from this company again in the future.', u\"At first, like with any diet supplement, I was skeptical to try this. During my first week using this product I lost 4lbs with no diet change, and no exercise change. Motivated to maximize my results I decided to change my diet and work out 3x a week. The next week I lost 6lbs. In a months time I'm down 23lbs & I feel great!! It's definitely worth every penny!. At first, like with any diet supplement, I was skeptical to try this. During my first week using this product I lost 4lbs with no diet change, and no exercise change. Motivated to maximize my results I decided to change my diet and work out 3x a week. The next week I lost 6lbs. In a months time I'm down 23lbs & I feel great!! It's definitely worth every penny!\", u\"Great product; I take it daily for prevention, after years of UTIs due to paralysis and life in a wheelchair. (I's preventive, not a cure.) Great seller, with whom you can't go wrong.. Great product; I take it daily for prevention, after years of UTIs due to paralysis and life in a wheelchair. (I's preventive, not a cure.) Great seller, with whom you can't go wrong.\", u'I have used this product for a month. It helps reduce my appetite and cravings for sweets. I would recommend this product to anyone who is thinking of taking garcinia cambogia as a daily supplement.. I have used this product for a month. It helps reduce my appetite and cravings for sweets. I would recommend this product to anyone who is thinking of taking garcinia cambogia as a daily supplement.', u'I admit that before I needed to lose weight. I hated not being able to fit into the clothes that I really like but had to settle for what fitted. With my cambogia I wear what I want to not what I have to just so I can have clothing. Without it I would still be in those hideous things that I used to all clothes!!!. I admit that before I needed to lose weight. I hated not being able to fit into the clothes that I really like but had to settle for what fitted. With my cambogia I wear what I want to not what I have to just so I can have clothing. Without it I would still be in those hideous things that I used to all clothes!!!', u'good.. good.', u'Did a lot of research and tried many other &#34;similar&#34; products that promised great things, and was disappointed by all of them...NOT this one!! Since day one of taking this product, I felt energetic, focused, alert, and yet no nausea feelings I felt with other products.I was able to double my workout intensity and time duration, and achieve the result I wish for faster while feel less fatigue afterwards.Overall, I would recommend this to all of my friends.. Did a lot of research and tried many other &#34;similar&#34; products that promised great things, and was disappointed by all of them...NOT this one!! Since day one of taking this product, I felt energetic, focused, alert, and yet no nausea feelings I felt with other products.I was able to double my workout intensity and time duration, and achieve the result I wish for faster while feel less fatigue afterwards.Overall, I would recommend this to all of my friends.', u'Good price.. Good price.', u'I take these after my green Frutein smoothie each morning and stay satisfied for about 6 hours. No jitters. Have lost about 10 lbs. effortlessly in two months. Will purchase again!. I take these after my green Frutein smoothie each morning and stay satisfied for about 6 hours. No jitters. Have lost about 10 lbs. effortlessly in two months. Will purchase again!', u\"It's amazing how a little drop of this oil goes a long way! It really penetrated the skin and moisturized it very fast. The bottle is quite large it would last a long time even if you just used it straight without mixing with other products to make homemade lotions and such. I excited about using this to make all kinds of homemade beauty products. Glad I purchased this item I will definitely be recommending to others.. It's amazing how a little drop of this oil goes a long way! It really penetrated the skin and moisturized it very fast. The bottle is quite large it would last a long time even if you just used it straight without mixing with other products to make homemade lotions and such. I excited about using this to make all kinds of homemade beauty products. Glad I purchased this item I will definitely be recommending to others.\", u\"We tried several brands of 'fiber gummies' and these Disney ones are by far the ones that both of our kids prefer.The ones from L'il Critters, VitaFusion and Fiber Choice all tasted fine, but are much chewier than gummy vitamins are. These Disney ones are much softer, more of a soft gumdrop texture.. We tried several brands of 'fiber gummies' and these Disney ones are by far the ones that both of our kids prefer.The ones from L'il Critters, VitaFusion and Fiber Choice all tasted fine, but are much chewier than gummy vitamins are. These Disney ones are much softer, more of a soft gumdrop texture.\", u\"Better than any I've tried. Like having the larger bottle and the 3,000. Have hit a stand-still as far as loosing weight but continue to take as it helps me have more energy and sleep better.. Better than any I've tried. Like having the larger bottle and the 3,000. Have hit a stand-still as far as loosing weight but continue to take as it helps me have more energy and sleep better.\", u\"The Garcinia Cambogia from Abundant Health Labs is prefect for weight loss. The capsules are very easy to take and I've had no side effects. I've loss 10 lbs. since I started taking in May 2014. My appeitite has been very little, but I eat just about what I want. I will continue taking and losing weight. Excellent item if you want help losing weight.. The Garcinia Cambogia from Abundant Health Labs is prefect for weight loss. The capsules are very easy to take and I've had no side effects. I've loss 10 lbs. since I started taking in May 2014. My appeitite has been very little, but I eat just about what I want. I will continue taking and losing weight. Excellent item if you want help losing weight.\", u\"This is an excellent fat burner for those who are serious about cutting and toning. You need to take it as prescribed on the bottle and you need to WORKOUT to see results. If you take this daily and just eat a lot you won't gain anything other than an upset stomach.. This is an excellent fat burner for those who are serious about cutting and toning. You need to take it as prescribed on the bottle and you need to WORKOUT to see results. If you take this daily and just eat a lot you won't gain anything other than an upset stomach.\", u\"I absolutely love this product. Like anything else I didn't know if it would really work, but it does!! If you aren't sure if you should try it...do you will be pleased with the product.. I absolutely love this product. Like anything else I didn't know if it would really work, but it does!! If you aren't sure if you should try it...do you will be pleased with the product.\", u'Great product for the price that you pay for. I definitely saw results using this. Definitely recommend this product to others.. Great product for the price that you pay for. I definitely saw results using this. Definitely recommend this product to others.', u'works well. works well', u'A+. A+', u'Just what I wanted.. Just what I wanted.', u\"Great product and great price. It's hard to find this product today and at a decent price. Product is exactly what I was searching for.. Great product and great price. It's hard to find this product today and at a decent price. Product is exactly what I was searching for.\", u\"Several years ago I loved the Benefiber Orange Chewables until the recall occured. Now that product can no longer be found which made me change to these Vitafusion Gummies. I am so glad the Benefiber recall occured. They do not even compare to these Vitafusion chews. These chews are smooth and easy to chew and do not leave any residue on your tongue or teeth. I do not understand when other reviewers state these taste awful or taste like fish oil? Really? Perhaps you need to check your expiration date or have another member of your house try them because these supplements are amazing and I can see why other reviewers say they are tempted to eat them like candy. As per the instructions on the bottle I take two daily and it is a very easy way to get extra fiber into my diet. I have never had a bad batch of these to date but I also double check the expiration date before buying them or when I receive them from Amazon in the mail. I have now purchased these several times on Amazon and the expiration has always been at least a year away from the date I actually receive them. So Amazon has fresh stock for sure. They also offer this product at a far superior price to my local stores even when they are on sale. Everyone whom I have recommended this product to has become a huge fan. The peach flavor is my least favorite of the 3, but it is still very good. The 2 berry flavors are amazing. This product definitely deserves the Chef's Best award it received in 2012 for best product. If you have not tried them do not let the one star reviews deter you. My only other comment is that they are meant to be soft because they are a Gummie chewable. So with that said you want to keep them away from direct sun or heat because they will melt. I assume too if you have children in your household you will want to safeguard these because they could easily be mistaken for candy.. Several years ago I loved the Benefiber Orange Chewables until the recall occured. Now that product can no longer be found which made me change to these Vitafusion Gummies. I am so glad the Benefiber recall occured. They do not even compare to these Vitafusion chews. These chews are smooth and easy to chew and do not leave any residue on your tongue or teeth. I do not understand when other reviewers state these taste awful or taste like fish oil? Really? Perhaps you need to check your expiration date or have another member of your house try them because these supplements are amazing and I can see why other reviewers say they are tempted to eat them like candy. As per the instructions on the bottle I take two daily and it is a very easy way to get extra fiber into my diet. I have never had a bad batch of these to date but I also double check the expiration date before buying them or when I receive them from Amazon in the mail. I have now purchased these several times on Amazon and the expiration has always been at least a year away from the date I actually receive them. So Amazon has fresh stock for sure. They also offer this product at a far superior price to my local stores even when they are on sale. Everyone whom I have recommended this product to has become a huge fan. The peach flavor is my least favorite of the 3, but it is still very good. The 2 berry flavors are amazing. This product definitely deserves the Chef's Best award it received in 2012 for best product. If you have not tried them do not let the one star reviews deter you. My only other comment is that they are meant to be soft because they are a Gummie chewable. So with that said you want to keep them away from direct sun or heat because they will melt. I assume too if you have children in your household you will want to safeguard these because they could easily be mistaken for candy.\", u\"Works the best out of all the fat burning products I've tried. I haven't noticed any negatives whatsoever. Will be buying again when I'm done with this bottle.. Works the best out of all the fat burning products I've tried. I haven't noticed any negatives whatsoever. Will be buying again when I'm done with this bottle.\", u'No fishy aftertaste.. No fishy aftertaste.', u'its touted as the thing to do fore your heart so thats what iam doing,goes down easy no after taste, great.. its touted as the thing to do fore your heart so thats what iam doing,goes down easy no after taste, great.', u'Before using hydrozyne my legs felt very heavy. i also felt bloated throughout my abdomin area.I Just started taking it and within a couple doses i felt alot better.. Before using hydrozyne my legs felt very heavy. i also felt bloated throughout my abdomin area.I Just started taking it and within a couple doses i felt alot better.', u'Well I started taking this product in the morning before my work out and realized that it gave me much more energy to work out. It also made me sweat... I mean really sweat. I will buy again because it is a good way to bust energy before and after a workout. I have definitely lost a some inches from my body from the increase energy to workout longer and the sweating. One tip that work for me is to drink plenty of water after you take it..it seems to work better that way.. Well I started taking this product in the morning before my work out and realized that it gave me much more energy to work out. It also made me sweat... I mean really sweat. I will buy again because it is a good way to bust energy before and after a workout. I have definitely lost a some inches from my body from the increase energy to workout longer and the sweating. One tip that work for me is to drink plenty of water after you take it..it seems to work better that way.', u\"I am usually skeptical about these products because they usually don't work. A few that I had tried actually made me gain weight which is obviously NOT the desired effect. I have been taking ARX for a little over a week now and have found that it has helped me lose 4 pounds in one week, I have quite a bit to lose, so I may lose at a faster rate than others, but so far so good. I am feeling more energetic since I have been taking the ARX pills which for me is a good thing because I am normally very sluggish. It is helping me get a little more housework done!I have been taking the pill in the morning with breakfast and drinking a lot of water during the day, and my appetite has been reduced as well, I am usually not really hungry again until dinner time, so I have been eating smaller lunches which has helped as well.I would recommend this product especially if you are trying to lose some extra weight after a baby, or trying to get a good jump start on a serious lifestyle change. I know I get frustrated when I try dieting and exercising without any help and don't lose anything at all, this gives you that beginning push to help.. I am usually skeptical about these products because they usually don't work. A few that I had tried actually made me gain weight which is obviously NOT the desired effect. I have been taking ARX for a little over a week now and have found that it has helped me lose 4 pounds in one week, I have quite a bit to lose, so I may lose at a faster rate than others, but so far so good. I am feeling more energetic since I have been taking the ARX pills which for me is a good thing because I am normally very sluggish. It is helping me get a little more housework done!I have been taking the pill in the morning with breakfast and drinking a lot of water during the day, and my appetite has been reduced as well, I am usually not really hungry again until dinner time, so I have been eating smaller lunches which has helped as well.I would recommend this product especially if you are trying to lose some extra weight after a baby, or trying to get a good jump start on a serious lifestyle change. I know I get frustrated when I try dieting and exercising without any help and don't lose anything at all, this gives you that beginning push to help.\", u'Love this product!. Love this product!', u'As good as any other fish oil and similar pricing but ensure thay are halal for those that want to ensure they are ok to eat based on halal requirements! Have been using for several months now and they are awesome! Good to see them on amazon will be purchasing from now on!. As good as any other fish oil and similar pricing but ensure thay are halal for those that want to ensure they are ok to eat based on halal requirements! Have been using for several months now and they are awesome! Good to see them on amazon will be purchasing from now on!', u'I have been taking these capsules a little over a month and I can truly say that I see a difference in my skin. First of all, I looked at the folds in my arms, right in the center joint where the arm and forearm come together and I realized that the aging stretchy wrinkles were no longer there. I was not even thinking of that area when I decided to purchase this product. My face looks brighter and is very soft to the touch. I have also noticed that nasal labial folds have diminished, they do not look as deep as before. This is a wonderful product and I will continue to use it.. I have been taking these capsules a little over a month and I can truly say that I see a difference in my skin. First of all, I looked at the folds in my arms, right in the center joint where the arm and forearm come together and I realized that the aging stretchy wrinkles were no longer there. I was not even thinking of that area when I decided to purchase this product. My face looks brighter and is very soft to the touch. I have also noticed that nasal labial folds have diminished, they do not look as deep as before. This is a wonderful product and I will continue to use it.', u'LipoDream really is totally stimulant-free and it does promote healthy sleep, suppresses hunger and boosts my overnight metabolism. The result is that calories burn, body fat melts and I feel slimmer.. LipoDream really is totally stimulant-free and it does promote healthy sleep, suppresses hunger and boosts my overnight metabolism. The result is that calories burn, body fat melts and I feel slimmer.', u'This product has amazing fast results...I have dropped my waist size increased my energy an most of all started to regain my health.I have already convinced my wife to try this product. Can really just say like all the other users it melts fat it seems over night.Thanks...... This product has amazing fast results...I have dropped my waist size increased my energy an most of all started to regain my health.I have already convinced my wife to try this product. Can really just say like all the other users it melts fat it seems over night.Thanks.....', u'it works great im so happy...I used it for about a week an already lost three pounds...I was surprised....wow. my mom is going to order it too.. it works great im so happy...I used it for about a week an already lost three pounds...I was surprised....wow. my mom is going to order it too.', u'great product!. great product!', u'I have been keeping these in the freezer, and I take them with a meal. There have been no fish burps, and I am thrilled! I have had problems with other supplements, but this one is great. It is small and easy to swallow too!. I have been keeping these in the freezer, and I take them with a meal. There have been no fish burps, and I am thrilled! I have had problems with other supplements, but this one is great. It is small and easy to swallow too!', u'This is a quality product We have used it for some time. We have used several of Nutrigold products andare vey satisfied with them. This is a quality product We have used it for some time. We have used several of Nutrigold products andare vey satisfied with them', u\"It help suppress my appetite I have fewer cravings and I lost a few pounds but my clothes fit a lot looser. I was able to get back into dresses I haven't been able to fit for years. I must have lost inches. It's great:). It help suppress my appetite I have fewer cravings and I lost a few pounds but my clothes fit a lot looser. I was able to get back into dresses I haven't been able to fit for years. I must have lost inches. It's great:)\", u'I really needed a multivitamin that included EVERYTHING a man needs to function at his best. Opti Men is such a vitamin. Actually its a multi-food supplement that supplies energy, curbs appetite, provides numerous antioxidants, and all the most important vitamins and minerals the body needs for one third of the price of other comparable products. It also makes for a great fertility supplement. This is a must for all health fanatics!. I really needed a multivitamin that included EVERYTHING a man needs to function at his best. Opti Men is such a vitamin. Actually its a multi-food supplement that supplies energy, curbs appetite, provides numerous antioxidants, and all the most important vitamins and minerals the body needs for one third of the price of other comparable products. It also makes for a great fertility supplement. This is a must for all health fanatics!', u'The best. The best', u\"The product really makes ME full and I intend to eat less! for example, I used to HAVE (2) whoppers from Burger King FOR Lunch and still feel I am not full and I want to eat more. After taking the pills 30 min before my lunch. I seriously can't have more than one whopper and most of the times I just have half of a whopper and am totally full !WOW Great.. I will buy more That is for sure !!!!I hope I could eat less of fatty foods which I love with this pill. I don't want to starve my way to losing weight or just quit fatty foods that I am addicted to suddenly. I believe eating less of what you love, fatty fast foods, is a good start to a healthy life. About the caffeine It doesn't bother me I seemed to have energy in the morning and after lunch which is good since am in school and i need to focus ( no need to waste money on buying coffee to be awaken in class ) . As for having it for dinner, I try to have it before 7 pm, so that means by 11 pm the caffeine is almost already gone and i could sleep like a baby ^_____^this is the image of whopper for whom don't know it[...]. The product really makes ME full and I intend to eat less! for example, I used to HAVE (2) whoppers from Burger King FOR Lunch and still feel I am not full and I want to eat more. After taking the pills 30 min before my lunch. I seriously can't have more than one whopper and most of the times I just have half of a whopper and am totally full !WOW Great.. I will buy more That is for sure !!!!I hope I could eat less of fatty foods which I love with this pill. I don't want to starve my way to losing weight or just quit fatty foods that I am addicted to suddenly. I believe eating less of what you love, fatty fast foods, is a good start to a healthy life. About the caffeine It doesn't bother me I seemed to have energy in the morning and after lunch which is good since am in school and i need to focus ( no need to waste money on buying coffee to be awaken in class ) . As for having it for dinner, I try to have it before 7 pm, so that means by 11 pm the caffeine is almost already gone and i could sleep like a baby ^_____^this is the image of whopper for whom don't know it[...]\", u'Love it!. Love it!', u'When I take them, I only take half (break them in the palm of my hand). I do not even take them every day either. I will Never again take more than 1 of these horse pills a day! One bottle of 180 lasted me almost a year, and that\\'s they way I like it.I found it works best with your body after a meal preceeded by drinking lots of good fluids (water, juice, tea) -> my favorite is iced (unsugared tea)I can tell when:my body doesn\\'t need/absorb everything, I pee *neon yellow*.my body needs many of the ingredients, I pee slight yellow/clearI feel they work because they have so much in them (they pack the most vitamins and minerals I have ever seen in a multivitamin), whatever my body has lost these seem to replace. I feel the difference after: working out, long days, and/or a night of drinking (yes milk thistle is present!)Paula Deen says it best, \"Always in moderation\". lol. When I take them, I only take half (break them in the palm of my hand). I do not even take them every day either. I will Never again take more than 1 of these horse pills a day! One bottle of 180 lasted me almost a year, and that\\'s they way I like it.I found it works best with your body after a meal preceeded by drinking lots of good fluids (water, juice, tea) -> my favorite is iced (unsugared tea)I can tell when:my body doesn\\'t need/absorb everything, I pee *neon yellow*.my body needs many of the ingredients, I pee slight yellow/clearI feel they work because they have so much in them (they pack the most vitamins and minerals I have ever seen in a multivitamin), whatever my body has lost these seem to replace. I feel the difference after: working out, long days, and/or a night of drinking (yes milk thistle is present!)Paula Deen says it best, \"Always in moderation\". lol', u\"I wanted to try this for weight loss. I do think it helped me to curb my appetite but not totally sure if that was the product or me just taking a pill and having a placebo effect to myself. I did experience a little more of a &#34;flat belly&#34; feeling, meaning that I do not think I was feeling bloated or constipated with this product I feel that it is due to the product itself making me feel a little more comfortable and relaxed and as I said.. more flat-belly effect. I have to admit that I did not take it regularly as I was supposed to, I ended up having a stressful , job change and I put the pills off to the side so that I could begin again once this transition I was in was over. So, when I quit taking them for about a week or so I did note the way I felt when I resumed. I felt 'better&#34; when I took the pills, I do not know if it was because I was once again doing something about my weight and health and so that in itself was what was happening or if it was the pills. But what I mean by better- is that I definitely felt more of a full feeling most times but not over full. I did not crave things and want to constantly eat something I felt satisfied so I am calling that feeling a curbing of my appetite and so that is why I started the review with that point. It is the main thing I think these pills did for me. Scale wise-- I had no difference but feeling-wise, I do believe they helped me feel more alert, less hungry and not so bloated. I think if I had a longer supply of them and would have taken them regularly and with proper amounts of water that I would probably have a very good review to give. I may get more and try them out the proper way and re-write another review later but for now, this is my honest opinion on the pills.. I wanted to try this for weight loss. I do think it helped me to curb my appetite but not totally sure if that was the product or me just taking a pill and having a placebo effect to myself. I did experience a little more of a &#34;flat belly&#34; feeling, meaning that I do not think I was feeling bloated or constipated with this product I feel that it is due to the product itself making me feel a little more comfortable and relaxed and as I said.. more flat-belly effect. I have to admit that I did not take it regularly as I was supposed to, I ended up having a stressful , job change and I put the pills off to the side so that I could begin again once this transition I was in was over. So, when I quit taking them for about a week or so I did note the way I felt when I resumed. I felt 'better&#34; when I took the pills, I do not know if it was because I was once again doing something about my weight and health and so that in itself was what was happening or if it was the pills. But what I mean by better- is that I definitely felt more of a full feeling most times but not over full. I did not crave things and want to constantly eat something I felt satisfied so I am calling that feeling a curbing of my appetite and so that is why I started the review with that point. It is the main thing I think these pills did for me. Scale wise-- I had no difference but feeling-wise, I do believe they helped me feel more alert, less hungry and not so bloated. I think if I had a longer supply of them and would have taken them regularly and with proper amounts of water that I would probably have a very good review to give. I may get more and try them out the proper way and re-write another review later but for now, this is my honest opinion on the pills.\", u\"I was going through recommend items for garcinia cambogia. Read the ingredients and start it taking it. I don't get or feel any side effect, yet I'm getting the results that I never imagined. I definitely recommend it. I was going through recommend items for garcinia cambogia. Read the ingredients and start it taking it. I don't get or feel any side effect, yet I'm getting the results that I never imagined. I definitely recommend it\", u\"This is a great value and product. It's a red powder that easily dissolves in water with no noticeable taste. I enjoy the extra boost of energy it gives me.. This is a great value and product. It's a red powder that easily dissolves in water with no noticeable taste. I enjoy the extra boost of energy it gives me.\", u'It works!. It works!', u'I had not been feeling great - nothing wrong, but kind of blah - and I knew I could feel better, so I decided to try this based on the reviews and I have more energy and feel great. I would not be without it.. I had not been feeling great - nothing wrong, but kind of blah - and I knew I could feel better, so I decided to try this based on the reviews and I have more energy and feel great. I would not be without it.', u'love this product. love this product', u'This product did amazing things for me; i started taking this product and felt a change in my body and energy. I was able to make it through the work day without feeling tired and sluggish. I also saw the difference in my eating i was not craving my normal junk food and also i was not hungry during my normal snack time at work. I did loose about 5 lbs in a week and have continued to loose weight thanks to these pills.. This product did amazing things for me; i started taking this product and felt a change in my body and energy. I was able to make it through the work day without feeling tired and sluggish. I also saw the difference in my eating i was not craving my normal junk food and also i was not hungry during my normal snack time at work. I did loose about 5 lbs in a week and have continued to loose weight thanks to these pills.', u'My husband has been taking this product and exercising and has been able to loose weight and keep it off. It also appears that he eats less than he usually eats. The delivery of the product was timely and I think that it was a good purchase overall.. My husband has been taking this product and exercising and has been able to loose weight and keep it off. It also appears that he eats less than he usually eats. The delivery of the product was timely and I think that it was a good purchase overall.', u\"I can actually tell if I don't take this for a few days. This product works, I feel sharper and can focus much better. Distractions bother me less. I have a job that requires a lot of thinking, concentration and problem-solving. I swear by this product to keep me focused at work.. I can actually tell if I don't take this for a few days. This product works, I feel sharper and can focus much better. Distractions bother me less. I have a job that requires a lot of thinking, concentration and problem-solving. I swear by this product to keep me focused at work.\", u'If you are getting on in age and a bit worried about your vision, then try Bilberry softgels. Hard to find in most grocery stores and specialty shops but well worth getting them on Amazon. Used for years worldwide to help vision and to slow down macular problems. Well known company, easy to swallow, and a good price.. If you are getting on in age and a bit worried about your vision, then try Bilberry softgels. Hard to find in most grocery stores and specialty shops but well worth getting them on Amazon. Used for years worldwide to help vision and to slow down macular problems. Well known company, easy to swallow, and a good price.', u\"I thought I'd try these because I heard that they work well for weight loss. I can't say yet if the weight loss is happening. I haven't given it enough time yet to work. But, I'm happy with the product so far.. I thought I'd try these because I heard that they work well for weight loss. I can't say yet if the weight loss is happening. I haven't given it enough time yet to work. But, I'm happy with the product so far.\", u'Thank you. Thank you', u'I love it.. I love it.', u'This is a great product. Ive lost 10 pounds already and the best part about this product is it has no side effects! This is the best appetite suppressant on the market.. This is a great product. Ive lost 10 pounds already and the best part about this product is it has no side effects! This is the best appetite suppressant on the market.', u'This is a high quality supplement. There are so many products on the market, and the temptation is always there to buy one that is less expensive. I often find that with most higher priced supplements, you are getting better quality (more pure ingredients, few, if any fillers, and no junk. Such is the case with the Nutrigold products I have used thus far, and Krill Gold is no exception.I have this Krill Oil product in both the 500mg and 1,000mg versions. It is the same product except for the dose, so if you want to take a slightly larger capsule instead of taking two, the 1,000 mg is nice, or if you need a lower dosage, the 500 mg is better.Like most higher quality brands, this one doesn&#8217;t seem to produce any &#8220;fish burps&#8221; and the ingredient list is good. The ingredients as of this writing are: NKO Neptune Krill Oil, Softgel (Fish Gelatin, non-GMO Vegetable Glycerin, Purified Water). The product contains no soy, milk, lactose, gluten, wheat, peanuts, artificial flavors, colors, preservatives, sweeteners, sugar, salt, starch, or yeast. It does, of course, contain shellfish. So if you have an allergy, please note!I think this capsule gives you a good mix of EPA and DHA as well as some other Omega-3&#8217;s.I would compare this to other high quality brands such as Jarrow Formulas and Twin Lab. Like those, it can also be more expensive than store brands, but you usually get what you pay for.I would recommend this.. This is a high quality supplement. There are so many products on the market, and the temptation is always there to buy one that is less expensive. I often find that with most higher priced supplements, you are getting better quality (more pure ingredients, few, if any fillers, and no junk. Such is the case with the Nutrigold products I have used thus far, and Krill Gold is no exception.I have this Krill Oil product in both the 500mg and 1,000mg versions. It is the same product except for the dose, so if you want to take a slightly larger capsule instead of taking two, the 1,000 mg is nice, or if you need a lower dosage, the 500 mg is better.Like most higher quality brands, this one doesn&#8217;t seem to produce any &#8220;fish burps&#8221; and the ingredient list is good. The ingredients as of this writing are: NKO Neptune Krill Oil, Softgel (Fish Gelatin, non-GMO Vegetable Glycerin, Purified Water). The product contains no soy, milk, lactose, gluten, wheat, peanuts, artificial flavors, colors, preservatives, sweeteners, sugar, salt, starch, or yeast. It does, of course, contain shellfish. So if you have an allergy, please note!I think this capsule gives you a good mix of EPA and DHA as well as some other Omega-3&#8217;s.I would compare this to other high quality brands such as Jarrow Formulas and Twin Lab. Like those, it can also be more expensive than store brands, but you usually get what you pay for.I would recommend this.', u\"I'm no stranger to energy pills, fat burners, and most of all appetite suppressants. Though it did take over a week to start experiencing the effects, I've noticed a significant reduction in my overall snacking. This product works great, and the company's customer service is also very good.. I'm no stranger to energy pills, fat burners, and most of all appetite suppressants. Though it did take over a week to start experiencing the effects, I've noticed a significant reduction in my overall snacking. This product works great, and the company's customer service is also very good.\", u'I am a life long health nut. Tho nearly vegan, my cholesterol and blood pressure are thru the roof. My dad was the same and I have already outlived him by about 20 years. Combining products like Sytrinol, Policosanol, Astaxanthin, and Pomegranate, and reading [...] help me keep on living.. I am a life long health nut. Tho nearly vegan, my cholesterol and blood pressure are thru the roof. My dad was the same and I have already outlived him by about 20 years. Combining products like Sytrinol, Policosanol, Astaxanthin, and Pomegranate, and reading [...] help me keep on living.', u\"I seem to have an easier time losing weight when I am taking this. It's always hard for me to lose but I have lost more and in the right places. Thank youNorma. I seem to have an easier time losing weight when I am taking this. It's always hard for me to lose but I have lost more and in the right places. Thank youNorma\", u\"I have a low metabolism, and I do not exercise at all! However, in spite of my 'couch potato' lifestyle -- Bystrictin meal replacement formula is working. Please know, that I've tried many diet pills -- and left many negative reviews [some of which are available here on Amazon's site]. I have the eye of a critical judge. But back to the product: I'm only replacing one single meal rather than two: it's called the VIP program, and this method still provides solid results for me. I move around better, I feel better, and I have more energy to boot. Lastly, I'm a contented and continuing VIP customer with Century Science. I recommend the vanilla -- it mixes with everything under the sun. I have had no issues with with overbilling or lack of a fully topped off canister?Please consider also using a personal blender to get the most tasty results,Hamilton Beach 51101B Personal Blender with Travel Lid, Blacka personal blender will mix things much better than a shaker bottle.The only issue I've encountered is that the warehouse doesn't e-mail me when my shipment departs their warehouse, this may be important if your packages are known to vanish,or walk away, [disappearing due to neighbors with sticky fingers]. So I follow up using the 800-number, that connects me to customer care, this is a minor quibble, I recommend this great tasting formula together with a personal blender.. I have a low metabolism, and I do not exercise at all! However, in spite of my 'couch potato' lifestyle -- Bystrictin meal replacement formula is working. Please know, that I've tried many diet pills -- and left many negative reviews [some of which are available here on Amazon's site]. I have the eye of a critical judge. But back to the product: I'm only replacing one single meal rather than two: it's called the VIP program, and this method still provides solid results for me. I move around better, I feel better, and I have more energy to boot. Lastly, I'm a contented and continuing VIP customer with Century Science. I recommend the vanilla -- it mixes with everything under the sun. I have had no issues with with overbilling or lack of a fully topped off canister?Please consider also using a personal blender to get the most tasty results,Hamilton Beach 51101B Personal Blender with Travel Lid, Blacka personal blender will mix things much better than a shaker bottle.The only issue I've encountered is that the warehouse doesn't e-mail me when my shipment departs their warehouse, this may be important if your packages are known to vanish,or walk away, [disappearing due to neighbors with sticky fingers]. So I follow up using the 800-number, that connects me to customer care, this is a minor quibble, I recommend this great tasting formula together with a personal blender.\", u\"This anti-aging supplement is the best I've ever bought on Amazon. It burned fat while improving not only muscle tone but also my skin, energy and overall mood. It is like the fountain of youth in a pill! Highly recommended.. you won't be disappointed!. This anti-aging supplement is the best I've ever bought on Amazon. It burned fat while improving not only muscle tone but also my skin, energy and overall mood. It is like the fountain of youth in a pill! Highly recommended.. you won't be disappointed!\", u\"This stuff has been keeping my appetite at bay that's for sure. I've lost 8lbs so far without exercise, not much but it's a start! I haven't changed my eating habits either. Seems to be working for me :). This stuff has been keeping my appetite at bay that's for sure. I've lost 8lbs so far without exercise, not much but it's a start! I haven't changed my eating habits either. Seems to be working for me :)\", u'GOOD. GOOD', u'Great price.. Great price.', u'I was amazing on how well this product worked. I wanted to lose 10 pds for an upcoming effect. I lost 9 so was thrilled. I never was hungry. I ate normally and even indulged with some of my favorite desserts. Thank you for making it so easy.. I was amazing on how well this product worked. I wanted to lose 10 pds for an upcoming effect. I lost 9 so was thrilled. I never was hungry. I ate normally and even indulged with some of my favorite desserts. Thank you for making it so easy.', u'Excellent product.. Excellent product.', u\"I just had my son and working full time I've been using it With working out and dieting and I've lost 10 pounds in two weeks ! Helps with bloating also i will be buying more soon. I just had my son and working full time I've been using it With working out and dieting and I've lost 10 pounds in two weeks ! Helps with bloating also i will be buying more soon\", u'What is not to love? The price is great and the item arrived on time as well as it has worked just according to what it is said to do. I have had a decrease in my appetite and an increase in my weight loss. I won all the way around!!!. What is not to love? The price is great and the item arrived on time as well as it has worked just according to what it is said to do. I have had a decrease in my appetite and an increase in my weight loss. I won all the way around!!!', u'Fine. Fine', u'Very effective product that worked the very next day for me! No bad side effects either. Would recommend to those who have irregularity from time to time.... Very effective product that worked the very next day for me! No bad side effects either. Would recommend to those who have irregularity from time to time...', u\"I feel really good about the results of this product and the character of the company who provides it. My energy level has been steady without any jitters or feeling artificial. My appetite is suppressed without me feeling queasy, and I've lost 5 pounds in two weeks and looking forward to lose more.. I feel really good about the results of this product and the character of the company who provides it. My energy level has been steady without any jitters or feeling artificial. My appetite is suppressed without me feeling queasy, and I've lost 5 pounds in two weeks and looking forward to lose more.\", u'I have been using this as a buffer between products so that I do not plateau on the other products I use on a more regular basis. I was extremely shocked with the effects this product had on me. I was instantly noticing a drop in appetite. I lost about 6 pounds my first week. I would give this a huge thumb up.. I have been using this as a buffer between products so that I do not plateau on the other products I use on a more regular basis. I was extremely shocked with the effects this product had on me. I was instantly noticing a drop in appetite. I lost about 6 pounds my first week. I would give this a huge thumb up.', u'6 weeks lost 28 lbs o n the road to loosing it no side effects does curb your appetite is recommend.. 6 weeks lost 28 lbs o n the road to loosing it no side effects does curb your appetite is recommend.', u\"I've had some minor thyroid problems that have caused some weight issues and makes me tire very easily. I thought I would give these drops a shot, and I have seen a noticeable difference. My weight has become more balanced and I've found that I have much more energy than before. I just feel overall healthier! The drops are great too as they don't leave a bad aftertaste at all. At this price, I can't recommend this product enough.. I've had some minor thyroid problems that have caused some weight issues and makes me tire very easily. I thought I would give these drops a shot, and I have seen a noticeable difference. My weight has become more balanced and I've found that I have much more energy than before. I just feel overall healthier! The drops are great too as they don't leave a bad aftertaste at all. At this price, I can't recommend this product enough.\", u'Reviewing vitamins is relatively difficult because it takes so long for any effects to take place. The only real way to do short-term reviewing is to just say there have been no NEGATIVE effects from the supplement.. Reviewing vitamins is relatively difficult because it takes so long for any effects to take place. The only real way to do short-term reviewing is to just say there have been no NEGATIVE effects from the supplement.', u'Very good vitamin. Very good vitamin', u'I don&#8217;t trust supplement products usually since I hear so many bad things about them. But after a friend referred me to Super Max which helped here with a similar case of constipation, I decided to take a leap of faith.After that, wouldn&#8217;t you know it, the product actually worked as advertised... I really did not expect anything from this, let alone that it would work so wonderfully.. I don&#8217;t trust supplement products usually since I hear so many bad things about them. But after a friend referred me to Super Max which helped here with a similar case of constipation, I decided to take a leap of faith.After that, wouldn&#8217;t you know it, the product actually worked as advertised... I really did not expect anything from this, let alone that it would work so wonderfully.', u'Lost 5 lbs in the first three weeks. Ten more pounds to go. Should be there with two more bottles!. Lost 5 lbs in the first three weeks. Ten more pounds to go. Should be there with two more bottles!', u\"I heard about Garcinia Cambogia from, of all places, my brother-in-law. He said he'd purchased some from NHB on Amazon and it had worked well for him. He said it took a little while for it to start working and that is the same experience I've had. But now it's been over 2 months and I've lost a minimum of 10lbs! I've been very pleased and I'm ordering more today. I give it a big thumbs up.. I heard about Garcinia Cambogia from, of all places, my brother-in-law. He said he'd purchased some from NHB on Amazon and it had worked well for him. He said it took a little while for it to start working and that is the same experience I've had. But now it's been over 2 months and I've lost a minimum of 10lbs! I've been very pleased and I'm ordering more today. I give it a big thumbs up.\", u'Best on the market.. Best on the market.', u'Perfect. Perfect', u\"Amazing Product!!I've been using health plus prime Garcinia Cambodia for about a month now. I've gone from 235lbs to 222.6 lbs now. This product is amazing. Since using this product, I can finally see my abs! So amazing! I'm getting ready for the beach! Amazing product!. Amazing Product!!I've been using health plus prime Garcinia Cambodia for about a month now. I've gone from 235lbs to 222.6 lbs now. This product is amazing. Since using this product, I can finally see my abs! So amazing! I'm getting ready for the beach! Amazing product!\", u'I just statrted taking this but i am down 5lbs in a week i have energy and have never felt better.. i would recommend to anyone..... I just statrted taking this but i am down 5lbs in a week i have energy and have never felt better.. i would recommend to anyone....', u\"No fishy taste and high levels of all the essentials; higher than the others I've seen. This is good stuff.. No fishy taste and high levels of all the essentials; higher than the others I've seen. This is good stuff.\", u\"Just a note to say thank you to the makers of Threelac. I have a 7 yr old daughter who was having a terrible time with growing and painful canker sores on her tongue. We couldn't find anything to work, and that's all she would talk about.Then a friend suggested that it could be froma result of candida yeast, and told us about Threelac. We were willing to try just about anything. In less than 1 box, her sores disappeared, she isn't miserable anymore, and we no longer feel powerless to help her.I don't know how it works, but Thank You. Now if you can help us find a her a pony, because now that is all she talks about.... : ). Just a note to say thank you to the makers of Threelac. I have a 7 yr old daughter who was having a terrible time with growing and painful canker sores on her tongue. We couldn't find anything to work, and that's all she would talk about.Then a friend suggested that it could be froma result of candida yeast, and told us about Threelac. We were willing to try just about anything. In less than 1 box, her sores disappeared, she isn't miserable anymore, and we no longer feel powerless to help her.I don't know how it works, but Thank You. Now if you can help us find a her a pony, because now that is all she talks about.... : )\", u'Great product at a great price!. Great product at a great price!', u'I stumbled upon this supplement when I began looking for a product that could help me lose weight and maybe give me more energy. I liked that it was an all natural product too. I feel I have more energy throughout the day and with out that nauseating jittery feeling that some weight loss products have. I find it works best if I take my morning dose before I exercise. For some reason I can workout longer if I take them first thing in the morning. I have been using the product for a short time but I have lost a total of 5 pounds already. I am using these supplements as a part of my overall weight loss plan which includes a sensible diet and a moderate exercise routine.. I stumbled upon this supplement when I began looking for a product that could help me lose weight and maybe give me more energy. I liked that it was an all natural product too. I feel I have more energy throughout the day and with out that nauseating jittery feeling that some weight loss products have. I find it works best if I take my morning dose before I exercise. For some reason I can workout longer if I take them first thing in the morning. I have been using the product for a short time but I have lost a total of 5 pounds already. I am using these supplements as a part of my overall weight loss plan which includes a sensible diet and a moderate exercise routine.', u\"Don't often leave reviews, but this time I had to. This product works as just described and I am totally pleased. I'm losing weight, have had no negative side effects and plan to continue taking these capsules till I've lost another 15 pounds. Really---highly recommend this for anyone serious about losing their fat.. Don't often leave reviews, but this time I had to. This product works as just described and I am totally pleased. I'm losing weight, have had no negative side effects and plan to continue taking these capsules till I've lost another 15 pounds. Really---highly recommend this for anyone serious about losing their fat.\", u'Being in a stressful job, I used to have this tendency to over eat. While my body adapted to the changes, I began to eventually put on weight when my metabolism slowed down. Until then, it was common for me to wake up in the middle of the night and binge on sugary foods. My weight ballooned as a reason and I soon found myself with a new wardrobe. My husband was worried about my health and suggested that I try out this product. The results have been hugely positive. It helped me to effectively address my mid-night hunger pangs and I also stopped stress eating. I have lost over 20 lbs. in the last 3 months.. Being in a stressful job, I used to have this tendency to over eat. While my body adapted to the changes, I began to eventually put on weight when my metabolism slowed down. Until then, it was common for me to wake up in the middle of the night and binge on sugary foods. My weight ballooned as a reason and I soon found myself with a new wardrobe. My husband was worried about my health and suggested that I try out this product. The results have been hugely positive. It helped me to effectively address my mid-night hunger pangs and I also stopped stress eating. I have lost over 20 lbs. in the last 3 months.', u\"The biggest, beefiest eleuthero cap on the market - 500 mg per cap. I chew 'em - tastes like chocolate - then absorb under tongue before I work out. Expensive - but you do get BANG for buck - with these. They work.. The biggest, beefiest eleuthero cap on the market - 500 mg per cap. I chew 'em - tastes like chocolate - then absorb under tongue before I work out. Expensive - but you do get BANG for buck - with these. They work.\", u'great thank you. great thank you', u\"This stuff is great... you really can't tell it's in your drink. There's no change in color or consistency, and absolutely no taste.But the benefits are unquestionable... I'll spare you those details.. This stuff is great... you really can't tell it's in your drink. There's no change in color or consistency, and absolutely no taste.But the benefits are unquestionable... I'll spare you those details.\", u\"I love this product. My favorite thing is I only have to take it one pill a day during breakfast. Most other weight loss supplements you have to take a couple pills multiple times a day. Always being on the go that&#8217;s hard to do. Not only does it suppress my appetite, it also raises my energy level so I can work out more. It&#8217;s also a fat burner. Most weight loss supplements cause you to lose water weight and muscle weight only. It's 100 percent natural with no fillers which is also great because I know what is going into my body. I will definitely continue taking this product.. I love this product. My favorite thing is I only have to take it one pill a day during breakfast. Most other weight loss supplements you have to take a couple pills multiple times a day. Always being on the go that&#8217;s hard to do. Not only does it suppress my appetite, it also raises my energy level so I can work out more. It&#8217;s also a fat burner. Most weight loss supplements cause you to lose water weight and muscle weight only. It's 100 percent natural with no fillers which is also great because I know what is going into my body. I will definitely continue taking this product.\", u\"Product works however I'd strongly recommend regular dieting and taking only two thirds of the recommended dosage on the back.. Product works however I'd strongly recommend regular dieting and taking only two thirds of the recommended dosage on the back.\", u\"This is actually my second bottle of each of them and let me tell you it works! I have been talking them for over 8 weeks and I have lost 13 pounds. Yes I am working out at the gym for just a bit over an hour 3-4 times a week and watching my food intake but with this pills I don't get hungry! I take one round about 11 in the morning and my lunch is small because i am not that hungry. I eat a small mid-afternoon and then around 4:30 I take my second round and then before you know it is dinner time. I used to get sweet cravings after dinner but now they are basically gone! Yes, I get a craving once and awhile but these pills have helped amazingly! I have another 40 pounds to go before I hit my weight loss goal and t Garcinia Cambogia, Rasberry Ketones and Green Coffee will be with me the entire journey!. This is actually my second bottle of each of them and let me tell you it works! I have been talking them for over 8 weeks and I have lost 13 pounds. Yes I am working out at the gym for just a bit over an hour 3-4 times a week and watching my food intake but with this pills I don't get hungry! I take one round about 11 in the morning and my lunch is small because i am not that hungry. I eat a small mid-afternoon and then around 4:30 I take my second round and then before you know it is dinner time. I used to get sweet cravings after dinner but now they are basically gone! Yes, I get a craving once and awhile but these pills have helped amazingly! I have another 40 pounds to go before I hit my weight loss goal and t Garcinia Cambogia, Rasberry Ketones and Green Coffee will be with me the entire journey!\", u\"This works well, but you have to take it in the morning half an hour before you eat with 16 oz of water. Of course the water is going to fill you up and most people don't get enough water so can't say for certain if it's the Garcinia or the extra water or both.. This works well, but you have to take it in the morning half an hour before you eat with 16 oz of water. Of course the water is going to fill you up and most people don't get enough water so can't say for certain if it's the Garcinia or the extra water or both.\", u'The product has been great and I am starting to notice the difference! It really helps me suppressing my appetite!. The product has been great and I am starting to notice the difference! It really helps me suppressing my appetite!', u'The decision to try these was the best one that I have had in a while. I have been so happy with the results that I have received. I simply take the recommended dosage and I have been seeing the wonders ever since. I could not be any happier and I am now that I am loving my new body.. The decision to try these was the best one that I have had in a while. I have been so happy with the results that I have received. I simply take the recommended dosage and I have been seeing the wonders ever since. I could not be any happier and I am now that I am loving my new body.', u'Really helped in relieving significant gout pain that I was suffering. Worked very quickly. Recommend for anyone who is suffering with gout.. Really helped in relieving significant gout pain that I was suffering. Worked very quickly. Recommend for anyone who is suffering with gout.', u\"I'm Started with this product 17 days ago and I've lost eight pounds. I am very satisfied with it .I have tried other products of Garcinia cambogia and I can say this is the best of the marketI recommend to anyone who wants to lose weight ....&iexcl;&iexcl;&iexcl;&iexcl;awesome product!!!!!!. I'm Started with this product 17 days ago and I've lost eight pounds. I am very satisfied with it .I have tried other products of Garcinia cambogia and I can say this is the best of the marketI recommend to anyone who wants to lose weight ....&iexcl;&iexcl;&iexcl;&iexcl;awesome product!!!!!!\", u'I have tried several other manufactures of thie and have found there is a vast differance in quality. The product is super.. I have tried several other manufactures of thie and have found there is a vast differance in quality. The product is super.', u\"I purchased this product for 2 months already and I haven't really done any exercises or changed my diet and I'm definitely seeing a difference in my body and mood. Ive been able to fit into my summer shorts i wasn't able to fit in last summer. The scale isn't showing much of a weight loss but i'm losing inches for sure. I will continue to use this product! I'm definitely not eating as much and get full before i finish a whole meal. Not even craving snacks in between meals! I would recommend this product to anyone looking to lose weight without the side effects ! I haven't had a single side effect!. I purchased this product for 2 months already and I haven't really done any exercises or changed my diet and I'm definitely seeing a difference in my body and mood. Ive been able to fit into my summer shorts i wasn't able to fit in last summer. The scale isn't showing much of a weight loss but i'm losing inches for sure. I will continue to use this product! I'm definitely not eating as much and get full before i finish a whole meal. Not even craving snacks in between meals! I would recommend this product to anyone looking to lose weight without the side effects ! I haven't had a single side effect!\", u'This product was amazing !!! It did everything it promised--I was thrilled with the results and I will continue to use this product to help me achieve the results I am looking for--thanks Health Plus Prime for a great Garcinia product.. This product was amazing !!! It did everything it promised--I was thrilled with the results and I will continue to use this product to help me achieve the results I am looking for--thanks Health Plus Prime for a great Garcinia product.', u'I do not know WHY many people have a negative review about this product. In my opinion, it was one of great products that I used. I lost 7 lbs after 3 weeks and my body was better. I do not feel hungry too much but I still have more energy when I use a product. If you want to get the best result, you should use 2 capsules with a cup of water at least 30 minutes before the meal. Everything is great to me now and I gonna to order the next bottle!. I do not know WHY many people have a negative review about this product. In my opinion, it was one of great products that I used. I lost 7 lbs after 3 weeks and my body was better. I do not feel hungry too much but I still have more energy when I use a product. If you want to get the best result, you should use 2 capsules with a cup of water at least 30 minutes before the meal. Everything is great to me now and I gonna to order the next bottle!', u'Great Product!. Great Product!', u\"Right now I'm not using it enough for the possible effect, but It truly has NO flavor!! That is the best part. I cannot tell you how many I've tried to gulp down and couldn't because of the bad taste of &#34;no flavor&#34; creatine. Love it!. Right now I'm not using it enough for the possible effect, but It truly has NO flavor!! That is the best part. I cannot tell you how many I've tried to gulp down and couldn't because of the bad taste of &#34;no flavor&#34; creatine. Love it!\", u'I took these as recommended and saw amazing results. I hate for people to not take things as recommended and then complain because they do not get results. So I am telling you if you take these as recommended you will see results just like I did.. I took these as recommended and saw amazing results. I hate for people to not take things as recommended and then complain because they do not get results. So I am telling you if you take these as recommended you will see results just like I did.', u\"My cardiologist recommended that I take this every day so I do. I've had zero side affects as far as I can tell.NOTE: CoQ10 is best absorbed with fat. Be sure to take it with this:[...]. My cardiologist recommended that I take this every day so I do. I've had zero side affects as far as I can tell.NOTE: CoQ10 is best absorbed with fat. Be sure to take it with this:[...]\", u'Tasty.. Tasty.', u'Love the product. Love the product', u'Really works!. Really works!', u'I love this product,it not only curbs your appetite it also gives you energy without nasty side affects.I have lost 10lbs.without trying or feeling hungry.I will continue using this amazing product. I have tried many products with empty promises but this is for real !. I love this product,it not only curbs your appetite it also gives you energy without nasty side affects.I have lost 10lbs.without trying or feeling hungry.I will continue using this amazing product. I have tried many products with empty promises but this is for real !', u'By far the best hoodia I have purchased on amazon. I once tried some from walmart but that didnt work out any better than the other brands I have tried. This has been the best part of my weight management program and I think it is really worthwhile for helping to suppress the appetite.. By far the best hoodia I have purchased on amazon. I once tried some from walmart but that didnt work out any better than the other brands I have tried. This has been the best part of my weight management program and I think it is really worthwhile for helping to suppress the appetite.', u'These are truly a blast!! I have been searching for the perfect weight loss supplements and with patience and a little searching I found just what I needed. Within the first few weeks I noticed how my appetite decreased and so did my cravings. A true weight loss supplement it is!. These are truly a blast!! I have been searching for the perfect weight loss supplements and with patience and a little searching I found just what I needed. Within the first few weeks I noticed how my appetite decreased and so did my cravings. A true weight loss supplement it is!', u'The Garcinia Cambogia 65% HCA Pure Extract has met my expectations. I am looking forward to looking even better in the near future!. The Garcinia Cambogia 65% HCA Pure Extract has met my expectations. I am looking forward to looking even better in the near future!', u\"Before I bought this product, I had done a lot of research. I started taking this supplement in the beginning of July. At first I didn't feel anything, but I had read that because it is an all natural product, it takes a while before the body acclimates. I started noticing, after a few weeks, that I wasn't getting as hungry and that I didn't have the food craving that I used to have. I also noticed that I was satisfied and full eating much less. So my portions were shrinking and my cravings subsiding. Something else I noticed was that my cloths were fitting way better after six weeks, but I wasn't weighing that much less. Fact is, muscle weighs more than fat. So it does work like Dr. Oz says and converts fat into muscle. I know, because I'm looking way better even if my scale says I've only dropped 12 pounds, it looks like I've dropped more like 30 and I FEEL GREAT!!!. Before I bought this product, I had done a lot of research. I started taking this supplement in the beginning of July. At first I didn't feel anything, but I had read that because it is an all natural product, it takes a while before the body acclimates. I started noticing, after a few weeks, that I wasn't getting as hungry and that I didn't have the food craving that I used to have. I also noticed that I was satisfied and full eating much less. So my portions were shrinking and my cravings subsiding. Something else I noticed was that my cloths were fitting way better after six weeks, but I wasn't weighing that much less. Fact is, muscle weighs more than fat. So it does work like Dr. Oz says and converts fat into muscle. I know, because I'm looking way better even if my scale says I've only dropped 12 pounds, it looks like I've dropped more like 30 and I FEEL GREAT!!!\", u'Product worked WONDERS! I ordered one bottle for myself. I literally felt the pounds shedding off. It made me consciously eat healthier. I was less hungry while taking this supplement. I would 100% definitely recommend this product to ANYONE who struggles with losing weight.. Product worked WONDERS! I ordered one bottle for myself. I literally felt the pounds shedding off. It made me consciously eat healthier. I was less hungry while taking this supplement. I would 100% definitely recommend this product to ANYONE who struggles with losing weight.', u\"I never leave reviews for products but for this one I am making an exception. After seeing all the reviews on PhenRx I decided to give it a try. I am 58 years old and in decent shape. I run, I bike, etc but I have carried an extra 20 pounds for as long as I remember.. I have been taking it for 3 weeks now. Week 1 I lost 2 pounds, Week 2 I lost 3 pounds, so far in week 3 I am holding steady. The last time I lost this much weight was never! I have seen a significantly decreased appetite and zero side effects. I normally snack all day long - now I don't. Four of my family members are now taking it as well.. I never leave reviews for products but for this one I am making an exception. After seeing all the reviews on PhenRx I decided to give it a try. I am 58 years old and in decent shape. I run, I bike, etc but I have carried an extra 20 pounds for as long as I remember.. I have been taking it for 3 weeks now. Week 1 I lost 2 pounds, Week 2 I lost 3 pounds, so far in week 3 I am holding steady. The last time I lost this much weight was never! I have seen a significantly decreased appetite and zero side effects. I normally snack all day long - now I don't. Four of my family members are now taking it as well.\", u\"This product is phenomenal. It doesn't melt fat away immediately but I have lost two dress sizes in 6 weeks doing absolutely nothing different. I love it! No jitters or anything. I highly recommend it.. This product is phenomenal. It doesn't melt fat away immediately but I have lost two dress sizes in 6 weeks doing absolutely nothing different. I love it! No jitters or anything. I highly recommend it.\", u\"This was my first time trying these pills and I love them! I just had a baby boy and now I'm getting my body back in shape.. This was my first time trying these pills and I love them! I just had a baby boy and now I'm getting my body back in shape.\", u\"The results speak for themselves. I have most definately experience a difference in the way my body feels since taking Osteozyne.I am in my mid 60's and am doing all I can to feel healthy. This really helps me.. The results speak for themselves. I have most definately experience a difference in the way my body feels since taking Osteozyne.I am in my mid 60's and am doing all I can to feel healthy. This really helps me.\", u'As advertised. As advertised', u'I have been using this for over 10 years to successfully treat ulcerative colitis. It has allowed me to stop all other medications and to live symptom free. I am so lucky to have found this formula!. I have been using this for over 10 years to successfully treat ulcerative colitis. It has allowed me to stop all other medications and to live symptom free. I am so lucky to have found this formula!', u\"This stuff really works, it raised my metabolism and helped me lose that last bit of fat I wanted too. Of course you have to eat somewhat healthy and work out as well, but that's a given.. This stuff really works, it raised my metabolism and helped me lose that last bit of fat I wanted too. Of course you have to eat somewhat healthy and work out as well, but that's a given.\", u\"Jarrow Formulas Ubiquinol QH-Absorb does the job. It seems to be the cheapest ubiquinol on the market. Ubiquinol's primary roles are in the synthesis of cellular (bodily) energy and as a protective antioxidant slowing down aging. It can also significantly increase the volume of blood pumped out of the heart's ventricle, as well as benefit the neurological system including the brain. The antioxidant effect of ubiquinol could counteract not only periodontal inflammatory processes substantially improving oral health of those prone to periodontitis, but also chronic kidney disease, and maybe even male infertility.. Jarrow Formulas Ubiquinol QH-Absorb does the job. It seems to be the cheapest ubiquinol on the market. Ubiquinol's primary roles are in the synthesis of cellular (bodily) energy and as a protective antioxidant slowing down aging. It can also significantly increase the volume of blood pumped out of the heart's ventricle, as well as benefit the neurological system including the brain. The antioxidant effect of ubiquinol could counteract not only periodontal inflammatory processes substantially improving oral health of those prone to periodontitis, but also chronic kidney disease, and maybe even male infertility.\", u\"I have used this product for about 2 years and have not missed any work due to illness. When I feel like I'm coming down with a cold, sore throat, head or chest congestion, etc., I immediately start taking these pills or capsules as directed. Usually by the 2nd day I'm fine and feeling normal again. I highly recommend this product!. I have used this product for about 2 years and have not missed any work due to illness. When I feel like I'm coming down with a cold, sore throat, head or chest congestion, etc., I immediately start taking these pills or capsules as directed. Usually by the 2nd day I'm fine and feeling normal again. I highly recommend this product!\", u\"I have always been skeptical about using these types of products, but I was recently feeling daring enough to give them a shot. I did do research before buying this product so I knew all there was to know. I have had family members suffer from obesity in the past and I've always told them that there is no miracle pill that can just make you lose all your weight. You must be healthy and you must help yourself.My goal in trying these pills was to see if I could find a good way to naturally suppress my diet. That's exactly what I found. I made sure to use the entire bottle before leaving a review because I saw where many people left a review after only a few days. That is not trying! In short, I used up the bottle and had great results. I'm not a huge guy, but I still did lose some weight. I workout and eat healthy, but I still wanted to lose a couple pounds. I noticed upon taking these pills about 30 minutes before I would normally eat, I became full much more quickly and ate less. At first I was upset at wasting the food, but then I realized I simply didn't need to have so much. If you're in initial phases of trying to get on a good diet, I highly recommend starting with these. I don't know if they actually burned more fat from my body, of if they just simply helped me to eat less. Either way, they are worth a try at least once!. I have always been skeptical about using these types of products, but I was recently feeling daring enough to give them a shot. I did do research before buying this product so I knew all there was to know. I have had family members suffer from obesity in the past and I've always told them that there is no miracle pill that can just make you lose all your weight. You must be healthy and you must help yourself.My goal in trying these pills was to see if I could find a good way to naturally suppress my diet. That's exactly what I found. I made sure to use the entire bottle before leaving a review because I saw where many people left a review after only a few days. That is not trying! In short, I used up the bottle and had great results. I'm not a huge guy, but I still did lose some weight. I workout and eat healthy, but I still wanted to lose a couple pounds. I noticed upon taking these pills about 30 minutes before I would normally eat, I became full much more quickly and ate less. At first I was upset at wasting the food, but then I realized I simply didn't need to have so much. If you're in initial phases of trying to get on a good diet, I highly recommend starting with these. I don't know if they actually burned more fat from my body, of if they just simply helped me to eat less. Either way, they are worth a try at least once!\", u'I have lost roughly 15 pounds in two months! This product is unreal! And for the price, you cannot possibly even have reservation in wanting to try the product. You will not be disappointed!. I have lost roughly 15 pounds in two months! This product is unreal! And for the price, you cannot possibly even have reservation in wanting to try the product. You will not be disappointed!', u'good addition to any diet program without the high price that others are charging, comes to your home so there is less of a need to show for the product. good addition to any diet program without the high price that others are charging, comes to your home so there is less of a need to show for the product', u'from what I can tell in this short time this product is easy to take and I think that I am already beginning to notice a positive change in my energy and feeling of well being.. from what I can tell in this short time this product is easy to take and I think that I am already beginning to notice a positive change in my energy and feeling of well being.', u'good value. good value', u'Good price. Good price', u\"Using Lugol's for 3 weeks, have brought my temp from 96.3 to over 98, hands don't feel so cold, mood improved greatly, more energetic, sleeping deeply, feel decades younger. Study carefully dosages recommended at various web sites, take the plunge, you will not regret it.. Using Lugol's for 3 weeks, have brought my temp from 96.3 to over 98, hands don't feel so cold, mood improved greatly, more energetic, sleeping deeply, feel decades younger. Study carefully dosages recommended at various web sites, take the plunge, you will not regret it.\", u\"I lost weight right away it's great! It's no joke it really works! And it got to my house in no time!. I lost weight right away it's great! It's no joke it really works! And it got to my house in no time!\", u'Good!. Good!', u'just what I wanted. just what I wanted', u\"As I've approached, and now hit 40, keeping weight off has been increasing more difficult. I was getting frustrated at my lack of results even when eating healthy and exercising. I decided to give these capsules a try about a year ago and have been so pleased. They aren't a &#34;miracle pill&#34;..you still have to eat right and exercise, but these have given me that extra &#34;help&#34; I'd been looking for.. As I've approached, and now hit 40, keeping weight off has been increasing more difficult. I was getting frustrated at my lack of results even when eating healthy and exercising. I decided to give these capsules a try about a year ago and have been so pleased. They aren't a &#34;miracle pill&#34;..you still have to eat right and exercise, but these have given me that extra &#34;help&#34; I'd been looking for.\", u'Good quality. Good quality', u'good vitamins. good vitamins', u'excellent product!. excellent product!', u\"Sitting in a hotel room one day waiting for my husband to get out of a meeting, I was watching Dr. Oz whose show was about getting enough of vegetables in your daily diet especially the dark leafy kind. He talked about dehydrated powders and mentioned a couple of brands telling the audience what to look for on the nutritional panel. On my IPad, I logged into Amazon and found several different brands that met Oz's specifications. I did the one-stop shopping and the products arrived before I got home. We use this product daily in powder form and I always have the capsules readily available so when we travel I can just throw the jar in with other meds.. Sitting in a hotel room one day waiting for my husband to get out of a meeting, I was watching Dr. Oz whose show was about getting enough of vegetables in your daily diet especially the dark leafy kind. He talked about dehydrated powders and mentioned a couple of brands telling the audience what to look for on the nutritional panel. On my IPad, I logged into Amazon and found several different brands that met Oz's specifications. I did the one-stop shopping and the products arrived before I got home. We use this product daily in powder form and I always have the capsules readily available so when we travel I can just throw the jar in with other meds.\", u'I love this stuff. I love this stuff', u\"I am so extremely impressed with this product!!I love how you can feel it working without the jitters.I highly recommend W700 Thermogenic.IT'S AWESOME!!!!!. I am so extremely impressed with this product!!I love how you can feel it working without the jitters.I highly recommend W700 Thermogenic.IT'S AWESOME!!!!!\", u'I ordered this product mid March 2014 and started taking it but only once a day and was disappointed until I was contacted by a very helpful and pleasant representative (THANK YOU COURTNEY) of the company inquiring about my progress. I explained to her that I had only lost 1lb and she asked me what my daily routine was and gave me some really WONDERFUL tips. Following her advice I have lost 16lbs!!! I look forward to more great progress in the future! I have recommended the product to several people already including family!. I ordered this product mid March 2014 and started taking it but only once a day and was disappointed until I was contacted by a very helpful and pleasant representative (THANK YOU COURTNEY) of the company inquiring about my progress. I explained to her that I had only lost 1lb and she asked me what my daily routine was and gave me some really WONDERFUL tips. Following her advice I have lost 16lbs!!! I look forward to more great progress in the future! I have recommended the product to several people already including family!', u'This product is great! I noticed I have more energy and less of an appetite. It does not make me jittery like some other diet supplements.. This product is great! I noticed I have more energy and less of an appetite. It does not make me jittery like some other diet supplements.', u'I started taking this product and within 2 weeks lost 6 lbs! I have been taking this product for almost 2 months and have had not side effects, it tastes good to, which is weird to say about a pill. I highly recommend it.. I started taking this product and within 2 weeks lost 6 lbs! I have been taking this product for almost 2 months and have had not side effects, it tastes good to, which is weird to say about a pill. I highly recommend it.', u'Works well, I have lost a few pounds without doing exercises and no diet, I recommend it.good, good, good., happy. Works well, I have lost a few pounds without doing exercises and no diet, I recommend it.good, good, good., happy', u\"I already have been taking nature wise green coffee bean for 2 months with great results. With the addition of the raspberry ketones my appetite has dropped and I've been able to keep away from late night snacking. Great quality product.. I already have been taking nature wise green coffee bean for 2 months with great results. With the addition of the raspberry ketones my appetite has dropped and I've been able to keep away from late night snacking. Great quality product.\", u'Great vitamin. Great vitamin', u\"I normally don't buy anything from infomercials but I had to on this one.The people on there were very convincing about how they were losing weight and how quickly.After reading the disclaimer I found out they were real customer testimonials.So I figured I would try it.The reviews that were on the Infomercial were 100% right.This is a great product.. I normally don't buy anything from infomercials but I had to on this one.The people on there were very convincing about how they were losing weight and how quickly.After reading the disclaimer I found out they were real customer testimonials.So I figured I would try it.The reviews that were on the Infomercial were 100% right.This is a great product.\", u'I added this supplement to my workout regime and it made all the difference in the world. Gave me the extra I needed to get through all my sets.. I added this supplement to my workout regime and it made all the difference in the world. Gave me the extra I needed to get through all my sets.', u\"If you had trouble doing continuous cardio THIS PRODUCT WILL HELP YOU. I just got mine last night (my first thermogenic) and used it for the first time this morning. I waited a few minutes to see if I felt anything like what I read about the product, but I wasn't feeling much anything but more awake. So I decided I would just start my cardio. It must have kicked in because I went 30 minutes straight, and after I cooled down, I had to resist just going and running down the street. Even now I am still feeling so energized that I had to come share my thoughts on this product. I don't know if it's for everyone, but for me it worked FANTASTIC and I can't wait for cardio tomorrow morning.. If you had trouble doing continuous cardio THIS PRODUCT WILL HELP YOU. I just got mine last night (my first thermogenic) and used it for the first time this morning. I waited a few minutes to see if I felt anything like what I read about the product, but I wasn't feeling much anything but more awake. So I decided I would just start my cardio. It must have kicked in because I went 30 minutes straight, and after I cooled down, I had to resist just going and running down the street. Even now I am still feeling so energized that I had to come share my thoughts on this product. I don't know if it's for everyone, but for me it worked FANTASTIC and I can't wait for cardio tomorrow morning.\", u'Thanks. Thanks', u'Started using seeds immediately and enjoyed the freshness of this product. I feel full and energized all day. Really excited about using these seeds in my daily life. I put them in oatmeal and even used them on fresh fruit salad. I did not mind the crunchiness as a matter of fact I feel it helped me feel fuller because of it. I tried them on my yogurt with a drizzle of honey and it worked great. Very satisfying. I will buy from this company again.. Started using seeds immediately and enjoyed the freshness of this product. I feel full and energized all day. Really excited about using these seeds in my daily life. I put them in oatmeal and even used them on fresh fruit salad. I did not mind the crunchiness as a matter of fact I feel it helped me feel fuller because of it. I tried them on my yogurt with a drizzle of honey and it worked great. Very satisfying. I will buy from this company again.', u\"I have been using this brand for over a year and I know and feel its' working on my tummy muscles. It definately helps moderate your extra padding around your waist. I have been using this brand for over a year and I know and feel its' working on my tummy muscles. It definately helps moderate your extra padding around your waist\", u'I started taking these a little over a month ago, and I already lost 16lbs! I cannot wait to see how much I can lose in another month! It is so easy to take and it is actually working for me! I would suggest buying these and giving them a try.. I started taking these a little over a month ago, and I already lost 16lbs! I cannot wait to see how much I can lose in another month! It is so easy to take and it is actually working for me! I would suggest buying these and giving them a try.', u'Good product. Good product', u'I like this product, it has helped me lose the weight I wanted to lose, and very easily at that. I do not have time for a Gym membership as I work a lot of hours, and needed something i could take that would help. I heard about this a lot, so i bought some, and am happy I did, because I have lost about 11 pounds in 6 weeks.. I like this product, it has helped me lose the weight I wanted to lose, and very easily at that. I do not have time for a Gym membership as I work a lot of hours, and needed something i could take that would help. I heard about this a lot, so i bought some, and am happy I did, because I have lost about 11 pounds in 6 weeks.', u'It really do work in all you have to do it take it twice a day love it love it. It really do work in all you have to do it take it twice a day love it love it', u'I have ordered and tried both the capsules and Berries ( Tea ) myself. The capsules recommend Two twice daily. They do have a calming effect after building in your system but it (for me) was so mild that only by paying close attention could I tell a difference.The Tea is much quicker and you do notice even if you have had coffee.As to the taste I suppose the description of 5 flavor Herb could apply Floral, Sweet, Sour, Salty, Bitter.Imagine walking into the florist and being overwhelmed by all the fragrances all at once. Thats a pretty good description if you could drink that and then eat an old dry lime peel and all followed by a sip from a warm Margarita. I suggest using both for controlling anxiety.. I have ordered and tried both the capsules and Berries ( Tea ) myself. The capsules recommend Two twice daily. They do have a calming effect after building in your system but it (for me) was so mild that only by paying close attention could I tell a difference.The Tea is much quicker and you do notice even if you have had coffee.As to the taste I suppose the description of 5 flavor Herb could apply Floral, Sweet, Sour, Salty, Bitter.Imagine walking into the florist and being overwhelmed by all the fragrances all at once. Thats a pretty good description if you could drink that and then eat an old dry lime peel and all followed by a sip from a warm Margarita. I suggest using both for controlling anxiety.', u\"This stuff really does cut the cravings. ok. the taste? um... it will never make it on a 5-star menu for desserts...but it wasn't purchased for fine cuisine taste testing parties. it was purchased to give an edge to a diet plan to drop a few pounds. and oh my oh my does it do the job fine!. This stuff really does cut the cravings. ok. the taste? um... it will never make it on a 5-star menu for desserts...but it wasn't purchased for fine cuisine taste testing parties. it was purchased to give an edge to a diet plan to drop a few pounds. and oh my oh my does it do the job fine!\", u'Great value!. Great value!', u\"This bottle of garcinia worked great for me. I lost 7 1/2 pounds in a month. I recommend this product to anyone! It's the real deal. This bottle of garcinia worked great for me. I lost 7 1/2 pounds in a month. I recommend this product to anyone! It's the real deal\", u'This product works amazingly well Bought for wife and it seems to be working as I have seen a decrease in size. This product works amazingly well Bought for wife and it seems to be working as I have seen a decrease in size', u\"After using this new formula for about a month now I've lost a significant amount of weight. I also have a lot more energy and focus. Highly recommend!. After using this new formula for about a month now I've lost a significant amount of weight. I also have a lot more energy and focus. Highly recommend!\", u\"Just a little background on me: I'm 26 years old, female, an uber busy entrepreneur, and about 50 pounds overweight (all gained during and post college). I started taking this brand of Relora just a week ago. The supplement was recommended to me by a friend, we are both in a weight loss competition and I mentioned that even though I've been exercising often and changing my diet, I wasn't losing any pounds and she suggested that stress might be the cause and that I look into NOW's Cortisol supplement. After reading Amazon reviews, I saw this listed as a related supplement and decided to give it a try-- I suffer from Fibromyalgia and saw that it had helped someone else with the disorder.I've been taking three...one at the beginning of the day, one in the afternoon, and one before bed. I ordered with the hopes that it would help me lose weight, and it's working beautifully in that regard! I'm finally seeing the pounds drop (mind you I've been working out and eating healthier for two months prior), and am averaging about a pound loss per day.Besides that I am pleasantly surprised that it's helped a great deal with my stress and anxiety levels, which I didn't realize how severe they were until I started taking Relora. I was diagnosed with Anxiety Disorder in the past, but try to stray away from prescription drugs. I feel like I can handle the stresses of everyday better, I don't feel as overwhelmed, I'm more focused, and surprise surprise that FOCUS is also helping me to maintain my diet and exercise regimen each day.All of that being said, I'm kinda surprised this isn't more popular. I'm going to keep you guys updated in a month to let you know if it's still working!. Just a little background on me: I'm 26 years old, female, an uber busy entrepreneur, and about 50 pounds overweight (all gained during and post college). I started taking this brand of Relora just a week ago. The supplement was recommended to me by a friend, we are both in a weight loss competition and I mentioned that even though I've been exercising often and changing my diet, I wasn't losing any pounds and she suggested that stress might be the cause and that I look into NOW's Cortisol supplement. After reading Amazon reviews, I saw this listed as a related supplement and decided to give it a try-- I suffer from Fibromyalgia and saw that it had helped someone else with the disorder.I've been taking three...one at the beginning of the day, one in the afternoon, and one before bed. I ordered with the hopes that it would help me lose weight, and it's working beautifully in that regard! I'm finally seeing the pounds drop (mind you I've been working out and eating healthier for two months prior), and am averaging about a pound loss per day.Besides that I am pleasantly surprised that it's helped a great deal with my stress and anxiety levels, which I didn't realize how severe they were until I started taking Relora. I was diagnosed with Anxiety Disorder in the past, but try to stray away from prescription drugs. I feel like I can handle the stresses of everyday better, I don't feel as overwhelmed, I'm more focused, and surprise surprise that FOCUS is also helping me to maintain my diet and exercise regimen each day.All of that being said, I'm kinda surprised this isn't more popular. I'm going to keep you guys updated in a month to let you know if it's still working!\", u'For me losing weight is very much needed for my health. The energy I had was too low that I need the extra help. This has given me the energy I need with the added benefit of weight loss. I recommend this to my friends and family.. For me losing weight is very much needed for my health. The energy I had was too low that I need the extra help. This has given me the energy I need with the added benefit of weight loss. I recommend this to my friends and family.', u'This product worked as a appetite controller and helped to edge my appetite. I will be using this daily. If you have problems with controlling your hunger, I think you should try this product.. This product worked as a appetite controller and helped to edge my appetite. I will be using this daily. If you have problems with controlling your hunger, I think you should try this product.', u'Great value. Great value', u'VERY GOOD. VERY GOOD', u\"I've been on this product for about 2 months now, and it seems to be doing everything it is expected to do.I am sure exercising regularly also helps in my quest to loose some fat, but this product does seem to help reduce some inches around my waist, as well as suppressing my appetite.Be sure to follow the instruction in using this product, so as to be safe and to get the full benefit out of it.Overall, I am very happy with this product!. I've been on this product for about 2 months now, and it seems to be doing everything it is expected to do.I am sure exercising regularly also helps in my quest to loose some fat, but this product does seem to help reduce some inches around my waist, as well as suppressing my appetite.Be sure to follow the instruction in using this product, so as to be safe and to get the full benefit out of it.Overall, I am very happy with this product!\", u'When I wait 45mins.after taking garcinia to eat, I lose my appetite quickly. Taking regularly is key to real success.. When I wait 45mins.after taking garcinia to eat, I lose my appetite quickly. Taking regularly is key to real success.', u\"I am down to 132lbs, this product works just like afvertised as long as one follows instructions, I'll be taking it every day, I do excersise and eat clean and very well, still need help with few lbs.. I am down to 132lbs, this product works just like afvertised as long as one follows instructions, I'll be taking it every day, I do excersise and eat clean and very well, still need help with few lbs.\", u'I have been very pleased with the results of these patches. I have found trans dermal application far more preferable to taking orally because most vitamins and supplements upset my stomach. I am always amazed at how much better I feel when I am using the patches and sometimes forget to replace them for a few days longer than recommended but the return of the fatigue is always an effective reminder! I have never had any problem with patch staying on or getting residue off. The size, about 1 square inch, is no problem as I cannot imagine I would want to wear even smaller patches behind my ear but prefer less visible locations. I am a very satisfied customer!. I have been very pleased with the results of these patches. I have found trans dermal application far more preferable to taking orally because most vitamins and supplements upset my stomach. I am always amazed at how much better I feel when I am using the patches and sometimes forget to replace them for a few days longer than recommended but the return of the fatigue is always an effective reminder! I have never had any problem with patch staying on or getting residue off. The size, about 1 square inch, is no problem as I cannot imagine I would want to wear even smaller patches behind my ear but prefer less visible locations. I am a very satisfied customer!', u\"Being that I've always been a little overweight for a good portion of my adult life, I've tried a few weight loss product to help the issue. While taking this supplement, I've feel that my appetite has been suppressed as I have less of a need to constantly feed my mouth with snacks. I've also feel more energy throughout the day and less heavy footed. It also seems be be made naturally from coffee beans, something I drink everyday, so I think I'm going to stick to this one for a bit.. Being that I've always been a little overweight for a good portion of my adult life, I've tried a few weight loss product to help the issue. While taking this supplement, I've feel that my appetite has been suppressed as I have less of a need to constantly feed my mouth with snacks. I've also feel more energy throughout the day and less heavy footed. It also seems be be made naturally from coffee beans, something I drink everyday, so I think I'm going to stick to this one for a bit.\", u\"I started using AdvoCare products 18 months ago. I was eating healthy, exercising, yet I was still exhausted all the time as a SAHM mom and couldn't lose the last 5 pounds. AdvoCare products have completely changed my life: I weigh less now than I did when I graduated HS and I am now able to interact with my 4 kids in the way I want and in the way they deserve. HOWEVER - when you purchase your products through any means except an AdvoCare website and/or distributor, there is no guarantee on the products. This seller is violating his/her distributor agreement and AdvoCare does not provide their money back guarantee for items purchased here.I cannot say enough good things about the products, but please purchase through the proper channels. You can find your local distributor on the AdvoCare.com website or you can contact me via fit4yourfamily.comYou may save a few bucks purchasing here, but you are missing out on the personal coaching and support that AdvoCare intends for you to receive. A real life distributor wants to help you achieve your goals and can help you along the way.Blessings,Melissa. I started using AdvoCare products 18 months ago. I was eating healthy, exercising, yet I was still exhausted all the time as a SAHM mom and couldn't lose the last 5 pounds. AdvoCare products have completely changed my life: I weigh less now than I did when I graduated HS and I am now able to interact with my 4 kids in the way I want and in the way they deserve. HOWEVER - when you purchase your products through any means except an AdvoCare website and/or distributor, there is no guarantee on the products. This seller is violating his/her distributor agreement and AdvoCare does not provide their money back guarantee for items purchased here.I cannot say enough good things about the products, but please purchase through the proper channels. You can find your local distributor on the AdvoCare.com website or you can contact me via fit4yourfamily.comYou may save a few bucks purchasing here, but you are missing out on the personal coaching and support that AdvoCare intends for you to receive. A real life distributor wants to help you achieve your goals and can help you along the way.Blessings,Melissa\", u\"I was referred by a friend to use this product. At the beginning I was a bit skeptical. I started the first week with one capsule 30 minutes before breakfast. It is amazing how suppresses your appetite and boosts your energy levels and you can feel it on the very first day... Drop 5 pounds on the first week [ I was 235 :( ]. Second week I started with 2 capsules, 30 mins before breakfast. Lost only 2 lbs. and for one day I had a slight headache so I contacted the customer service through the website and they told me it was normal, the body was getting used to my new calorie consumption, so I moved on to the 3rd week. Lost 12 pounds, I was amazed, I couldn't believe it... 4th week the same, 6 lbs less... I strongly recommend this product, I ve tried everything in the past, sensa, hydroxycut, raspberry ketones, alli and many more and nothing is compared to this miracle...The only con I found is that you are thirsty all the time... so be ready to drink at least half gallon..Hope this can work for you either... good luck!!!. I was referred by a friend to use this product. At the beginning I was a bit skeptical. I started the first week with one capsule 30 minutes before breakfast. It is amazing how suppresses your appetite and boosts your energy levels and you can feel it on the very first day... Drop 5 pounds on the first week [ I was 235 :( ]. Second week I started with 2 capsules, 30 mins before breakfast. Lost only 2 lbs. and for one day I had a slight headache so I contacted the customer service through the website and they told me it was normal, the body was getting used to my new calorie consumption, so I moved on to the 3rd week. Lost 12 pounds, I was amazed, I couldn't believe it... 4th week the same, 6 lbs less... I strongly recommend this product, I ve tried everything in the past, sensa, hydroxycut, raspberry ketones, alli and many more and nothing is compared to this miracle...The only con I found is that you are thirsty all the time... so be ready to drink at least half gallon..Hope this can work for you either... good luck!!!\", u'Excellent product!. Excellent product!', u\"I love this product. It always helps me when u need it. I've used others but this one is great. I suggest that anyone wanting to use pure gce use this particular product.. I love this product. It always helps me when u need it. I've used others but this one is great. I suggest that anyone wanting to use pure gce use this particular product.\", u'I have been taking this product for 3 weeks now. Without changing anything in my daily routine, I have lost 14 lbs. I am completely satisfied with it. Highly recommend to just try it.. I have been taking this product for 3 weeks now. Without changing anything in my daily routine, I have lost 14 lbs. I am completely satisfied with it. Highly recommend to just try it.', u'does the job. does the job', u\"Tried this on a whim to help me lose weight. I started at 186 lbs and am now down to 153lbs. Bear in mind, i also lowered my calorie intake drastically and exercised three times a week at the minimum while taking these.Taking these made me feel like I wanted to throw up some days but other than that I didn't have any other side effects. While on the &#34;pill&#34; I felt like I was never hungry. I actually had to force myself to think to eat something on some days. Once I was off these, my hunger returned to &#34;normal&#34;In short, these really work, or better put, help if you have a total plan to lose weight.. Tried this on a whim to help me lose weight. I started at 186 lbs and am now down to 153lbs. Bear in mind, i also lowered my calorie intake drastically and exercised three times a week at the minimum while taking these.Taking these made me feel like I wanted to throw up some days but other than that I didn't have any other side effects. While on the &#34;pill&#34; I felt like I was never hungry. I actually had to force myself to think to eat something on some days. Once I was off these, my hunger returned to &#34;normal&#34;In short, these really work, or better put, help if you have a total plan to lose weight.\", u'I like the lemon flavor. It makes it really easy to take. I take it with my other daily vitamins. It really seems to have a huge effect on my day. I can surely tell the difference if I don&#8217;t take it. Pure Body Nutra did a great job with the development side of things.I would tell anyone to buy this and give it a try. IT WORKS !Others have already said it but this is really cheap in comparison to the other top brands. This is better. The reviews are great because the product is TRULY !GREAT !. I like the lemon flavor. It makes it really easy to take. I take it with my other daily vitamins. It really seems to have a huge effect on my day. I can surely tell the difference if I don&#8217;t take it. Pure Body Nutra did a great job with the development side of things.I would tell anyone to buy this and give it a try. IT WORKS !Others have already said it but this is really cheap in comparison to the other top brands. This is better. The reviews are great because the product is TRULY !GREAT !', u\"So far I've completed a bottle and extra of Health Plus's Garcinia Cambogia. It's Great! I see that I've lost weight, Also' my weight loss depends on the foods I eat and amounts I intake. So far, I haven't experienced any side effects with this item. It is worth a try!. So far I've completed a bottle and extra of Health Plus's Garcinia Cambogia. It's Great! I see that I've lost weight, Also' my weight loss depends on the foods I eat and amounts I intake. So far, I haven't experienced any side effects with this item. It is worth a try!\", u'Great.. Great.', u'Love it.. Love it.', u\"I have been taking MetaboSpeed for about 3 months now, and I've lost 22 pounds. My energy has SKYROCKETED! Honestly, I was very skeptical at first because I have taken diet and energy pills before and nothing had worked for me. Each time I had some sort of horrible side effect. But METABOSPEED IS AMAZING! I feel great, look great, and am so much more confident in myself. It is truly a wonderful feeling to wake up each morning energized and feeling good about yourself. MAGIC is the best word I can use to describe MetaboSpeed! I see why many celebrities have used metaboSpeed to shed pounds.. I have been taking MetaboSpeed for about 3 months now, and I've lost 22 pounds. My energy has SKYROCKETED! Honestly, I was very skeptical at first because I have taken diet and energy pills before and nothing had worked for me. Each time I had some sort of horrible side effect. But METABOSPEED IS AMAZING! I feel great, look great, and am so much more confident in myself. It is truly a wonderful feeling to wake up each morning energized and feeling good about yourself. MAGIC is the best word I can use to describe MetaboSpeed! I see why many celebrities have used metaboSpeed to shed pounds.\", u'I have been taking this product for 11 days, along with a low-carb diet, drinking lots of water, and excercise. I have dropped 5lbs.. I have been taking this product for 11 days, along with a low-carb diet, drinking lots of water, and excercise. I have dropped 5lbs.', u\"I received the product quickly and it was just what I ordered. It have noticed that I don't eat as much. I'm on my second bottle.. I received the product quickly and it was just what I ordered. It have noticed that I don't eat as much. I'm on my second bottle.\", u'I like this product . I started using it and within days I felt my appetite subside. It helped me maintain my weight and helped me feel better !. I like this product . I started using it and within days I felt my appetite subside. It helped me maintain my weight and helped me feel better !', u\"I have been taking it a little over 2 weeks and am so happy. I've lost 8 lbs. I have been eating less because it's doing a great job at suppressing my appetite. Have only exercised 3 times also. I knew I felt like I was feeling smaller but refused to weigh myself until the 2 weeks was up. Please try it works!!!!. I have been taking it a little over 2 weeks and am so happy. I've lost 8 lbs. I have been eating less because it's doing a great job at suppressing my appetite. Have only exercised 3 times also. I knew I felt like I was feeling smaller but refused to weigh myself until the 2 weeks was up. Please try it works!!!!\", u'EXCELLENT. EXCELLENT', u'love it!. love it!', u\"it is really a good product, i'v been on it for nearly 2 weeks. and its helping me out good. it is really a good product, i'v been on it for nearly 2 weeks. and its helping me out good\", u'I have tried a few other diet plans where I only lost at most five pounds but since I have been taking my Garcinia Cambogia I have lost more than ten pounds! I am so glad that I had the chance to take these having people ask me what I did to look so good and lose weight is a great feeling. It is the most results that I have had using a dietary supplement.. I have tried a few other diet plans where I only lost at most five pounds but since I have been taking my Garcinia Cambogia I have lost more than ten pounds! I am so glad that I had the chance to take these having people ask me what I did to look so good and lose weight is a great feeling. It is the most results that I have had using a dietary supplement.', u'works. works', u'I also am hypothyroid and have had a terrible time losing weight. Started low carbing and lost so, so! But then started this product along with Dieters tea, and WOW started dropping quickly! Just ordered 2nd bottle because do not wont to get low! Totally recommend! Also very quick delivery! Thanks!. I also am hypothyroid and have had a terrible time losing weight. Started low carbing and lost so, so! But then started this product along with Dieters tea, and WOW started dropping quickly! Just ordered 2nd bottle because do not wont to get low! Totally recommend! Also very quick delivery! Thanks!', u'Very good product.. Very good product.', u'This product works like a charm.It reduce my weight where i want it to be.And the thing i like most is that after you take it,i dont get any irritability feeling thati get from other products that i used before.. This product works like a charm.It reduce my weight where i want it to be.And the thing i like most is that after you take it,i dont get any irritability feeling thati get from other products that i used before.', u'PERFECT. PERFECT', u\"I tried this product because I gained weight after breaking my foot. I wanted to get the weight off so I tried this product. I had heard good things about this, and it's true!! In 21 days I lost 25 pounds with no exercise other than walking at work. I feel amazing and I can't wait to order again. Thank you from the bottom of my heart for creating this product!!!. I tried this product because I gained weight after breaking my foot. I wanted to get the weight off so I tried this product. I had heard good things about this, and it's true!! In 21 days I lost 25 pounds with no exercise other than walking at work. I feel amazing and I can't wait to order again. Thank you from the bottom of my heart for creating this product!!!\", u\"Absolutely amazing product. And it works completely as it states. Why take a chemical diet pill, with all it's horrible side effects? This is like a miracle for me, and the results are making my New Year ever so HAPPY!! What a blessing to find an all natural way to watch my weight, help Cholesterol levels, and keep my figure beautifully & health abundant!! So impressed with this product!. Absolutely amazing product. And it works completely as it states. Why take a chemical diet pill, with all it's horrible side effects? This is like a miracle for me, and the results are making my New Year ever so HAPPY!! What a blessing to find an all natural way to watch my weight, help Cholesterol levels, and keep my figure beautifully & health abundant!! So impressed with this product!\", u'GREAT. GREAT', u'Love this product.. Love this product.', u\"I started taking this product on Monday, then Sunday when I got on the scale I realized I had lost 8 lbs in one week!!! I had to weigh myself 5 times before I believed it. I didn't change anything I was doing either, and I don't exercise regularly. I was amazed and, very happy! I'm excited to see how it goes in the next couple weeks.. I started taking this product on Monday, then Sunday when I got on the scale I realized I had lost 8 lbs in one week!!! I had to weigh myself 5 times before I believed it. I didn't change anything I was doing either, and I don't exercise regularly. I was amazed and, very happy! I'm excited to see how it goes in the next couple weeks.\", u'as expected. as expected', u\"Been taking the PhenRx PM pills for 2 weeks and I have a ton of energy that I didn't before. I wake up not feeling hungry and very rested. I would recommend this product to anyone.. Been taking the PhenRx PM pills for 2 weeks and I have a ton of energy that I didn't before. I wake up not feeling hungry and very rested. I would recommend this product to anyone.\", u'I have used other collagen products before and they upset my stomach or given me nausseas. But this product did not, take it for over 2 months and it work, my skin looks great.. I have used other collagen products before and they upset my stomach or given me nausseas. But this product did not, take it for over 2 months and it work, my skin looks great.', u\"It is amazing how it's easy to swallow and has no after taste! I am really satisfied with this product which reduced inflammation and took me to a lower cholesterol. I approve this product!. It is amazing how it's easy to swallow and has no after taste! I am really satisfied with this product which reduced inflammation and took me to a lower cholesterol. I approve this product!\", u'I had an amazing amount of luck with this product. I continued to eat the same amount, and lost 4 pounds in 4 days. Then I started watching what I ate, and lost 8 pounds that week. I ordered a second bottle to see what happens at the end of the month.. I had an amazing amount of luck with this product. I continued to eat the same amount, and lost 4 pounds in 4 days. Then I started watching what I ate, and lost 8 pounds that week. I ordered a second bottle to see what happens at the end of the month.', u'OK, I\\'ll admit I bought this one because it was so highly recommended on TV. It\\'s super cheap here on amazon and I really need to lose some weight.Since I have over 20 lbs to lose I also got their green coffee bean energy - slender cleanse advanced bundle on here -Green Coffee Bean Energy AND Slender Cleanse Advanced-2 Advanced Formula\\'s Working Together to Help You Lose Weight AND Gain Energy! All Natural Green Coffee Bean Extract is \"Jitter-Free\" With The TV Doctor\\'s Required 50% Chlorogenic Acids Perfectly Mat...Between the 3 products I\\'ve lost 5 pounds in 6 days which I think is awesome and more than I expected.I\\'m going to buy the same set up for my wife now.. OK, I\\'ll admit I bought this one because it was so highly recommended on TV. It\\'s super cheap here on amazon and I really need to lose some weight.Since I have over 20 lbs to lose I also got their green coffee bean energy - slender cleanse advanced bundle on here -Green Coffee Bean Energy AND Slender Cleanse Advanced-2 Advanced Formula\\'s Working Together to Help You Lose Weight AND Gain Energy! All Natural Green Coffee Bean Extract is \"Jitter-Free\" With The TV Doctor\\'s Required 50% Chlorogenic Acids Perfectly Mat...Between the 3 products I\\'ve lost 5 pounds in 6 days which I think is awesome and more than I expected.I\\'m going to buy the same set up for my wife now.', u'Great product!!!. Great product!!!', u\"Work great for me, worth the money. Along with the other supplements I take, I feel and look healthier. I can't remember the last time I was sick with anything that is going around. Feeling fuller and keeping the weight off.. Work great for me, worth the money. Along with the other supplements I take, I feel and look healthier. I can't remember the last time I was sick with anything that is going around. Feeling fuller and keeping the weight off.\", u\"This product is a miracle. My hair had been falling out in gobs and I tried everything on the market to stop it. I am a woman and had horrible nightmares about waking up one morning and being as bald as my husband (some men look good bald, but for a woman, it's definitely not pretty!) I went to dermatologists and internists, but the cause was never resolved. I tried Rogaine for women, then rogaine for men (which did help a bit), special shampoos, change of diet, massive doses of vitamins...but still woke with more hair on my pillow than on my head. My current dermatologist suggested trying Biosil and/or Biotin. I took both. The results were amazing. The fallout ceased within a few weeks. I was thrilled! Later, I thought I might try going off the biosil/biotin to see if it might have been a temporary ailment caused by stress, diet, or just bad luck. Big mistake... the fallout came right back. So I will likely stay on the biotin/biosil combo forever. I don't want to take any chances...its not worth the trauma being bald. It takes a few weeks to get in your system so start as soon as you notice any unusual hair loss. And as a side benefit, my nails have grown longer for the first time in my life.. and my skin actually looks better too. Unexpected benefits. I do believe the liquid formula is absorbed faster than the capsules and is much cheaper in the long term. But the capsules are good for traveling and definitely more convenient. Be warned...the liquid does taste awful, but now I take it with mango juice and can't taste it at all. Try your favorite heavily flavored cold beverage. Experiment. Biosil is definitely worth a try if you find yourself with a hair loss problem. Highly recommend this product and the Biotin as well. Do go to a doctor first, as there may be another underlying cause that you may want to eliminate first. Good luck!. This product is a miracle. My hair had been falling out in gobs and I tried everything on the market to stop it. I am a woman and had horrible nightmares about waking up one morning and being as bald as my husband (some men look good bald, but for a woman, it's definitely not pretty!) I went to dermatologists and internists, but the cause was never resolved. I tried Rogaine for women, then rogaine for men (which did help a bit), special shampoos, change of diet, massive doses of vitamins...but still woke with more hair on my pillow than on my head. My current dermatologist suggested trying Biosil and/or Biotin. I took both. The results were amazing. The fallout ceased within a few weeks. I was thrilled! Later, I thought I might try going off the biosil/biotin to see if it might have been a temporary ailment caused by stress, diet, or just bad luck. Big mistake... the fallout came right back. So I will likely stay on the biotin/biosil combo forever. I don't want to take any chances...its not worth the trauma being bald. It takes a few weeks to get in your system so start as soon as you notice any unusual hair loss. And as a side benefit, my nails have grown longer for the first time in my life.. and my skin actually looks better too. Unexpected benefits. I do believe the liquid formula is absorbed faster than the capsules and is much cheaper in the long term. But the capsules are good for traveling and definitely more convenient. Be warned...the liquid does taste awful, but now I take it with mango juice and can't taste it at all. Try your favorite heavily flavored cold beverage. Experiment. Biosil is definitely worth a try if you find yourself with a hair loss problem. Highly recommend this product and the Biotin as well. Do go to a doctor first, as there may be another underlying cause that you may want to eliminate first. Good luck!\", u'I&#8217;ve always heard of the great benefits from taking garcinia cambogia, so that is what ultimately let me to purchase this. I was skeptical at first but I decided to go ahead and try it since I wanted to get back in shape for summer. Within a week of taking this, I noticed that I had more energy to get me through my workouts, and I wasn&#8217;t up until 3 in the morning every night anymore. I haven&#8217;t been snacking as much in between meals, and I have noticed that my clothes are becoming baggier, especially around my midsection. All in all, I&#8217;m extremely happy with this product and I would purchase it again in a heartbeat!. I&#8217;ve always heard of the great benefits from taking garcinia cambogia, so that is what ultimately let me to purchase this. I was skeptical at first but I decided to go ahead and try it since I wanted to get back in shape for summer. Within a week of taking this, I noticed that I had more energy to get me through my workouts, and I wasn&#8217;t up until 3 in the morning every night anymore. I haven&#8217;t been snacking as much in between meals, and I have noticed that my clothes are becoming baggier, especially around my midsection. All in all, I&#8217;m extremely happy with this product and I would purchase it again in a heartbeat!', u'so far with my experience this product is great. over the last two months i have lost 20lbs. some if the things i did was cut out soda and beer and increased my protein intake to 120 grams a day.... i also try and eat salads when i can. but i have been doing all of this before and i only started to lose weight when i added this product to my diet. so far with my experience this product is great. over the last two months i have lost 20lbs. some if the things i did was cut out soda and beer and increased my protein intake to 120 grams a day.... i also try and eat salads when i can. but i have been doing all of this before and i only started to lose weight when i added this product to my diet', u'Very happy with this purchase. The mere fact that you have to take these on an empty stomach is encouraging me to eat less snacks, thus helping with my weight loss. I feel like it has also curbed my appetite. Taking this supplement has also really motivated me to keep track of what I am eating. I feel like my energy level is up as well and have been sticking to a workout plan. I have not had any problems at all taking this. I highly recommend this to anyone trying to lose weight.. Very happy with this purchase. The mere fact that you have to take these on an empty stomach is encouraging me to eat less snacks, thus helping with my weight loss. I feel like it has also curbed my appetite. Taking this supplement has also really motivated me to keep track of what I am eating. I feel like my energy level is up as well and have been sticking to a workout plan. I have not had any problems at all taking this. I highly recommend this to anyone trying to lose weight.', u'Really this is much better as they are taken right before bed and I do not have to try to fit them into my busy schedule and potentially miss taking them so this really helps me keep on track with my weight loss plan.. Really this is much better as they are taken right before bed and I do not have to try to fit them into my busy schedule and potentially miss taking them so this really helps me keep on track with my weight loss plan.', u'This product is amazing. I purchased my first bottle and then bought two more. It truly helped with my hunger. Combining the GC pills with my workout regimen showed great results in just two weeks!. This product is amazing. I purchased my first bottle and then bought two more. It truly helped with my hunger. Combining the GC pills with my workout regimen showed great results in just two weeks!', u'Great product! High quality and awesome value. Cannot find anything else that competes with the price and quality. No fishy aftertaste. Will be ordering again.. Great product! High quality and awesome value. Cannot find anything else that competes with the price and quality. No fishy aftertaste. Will be ordering again.', u'I started taking this about 2 weeks ago and it definitely is restraining my appetite from what I can tell. I am trying to lose the last 6-7 lbs from pregcy and this is definitely helping that venture.. I started taking this about 2 weeks ago and it definitely is restraining my appetite from what I can tell. I am trying to lose the last 6-7 lbs from pregcy and this is definitely helping that venture.', u'I bought this product even though I was not sure about the results, but still I gave it a try and got positive results. It actually curbs my appetite and prevents me from eating bad foods. I am very happy with its results and I will be purchasing again and soon!!!. I bought this product even though I was not sure about the results, but still I gave it a try and got positive results. It actually curbs my appetite and prevents me from eating bad foods. I am very happy with its results and I will be purchasing again and soon!!!', u'This is the best bet for the Garcinia Cambogia extract that is in all the news. I will also recommend it too others.. This is the best bet for the Garcinia Cambogia extract that is in all the news. I will also recommend it too others.', u'Works Well. Works Well', u'awsome. awsome', u'it worked for me. it worked for me', u'I needed to concentrate at work so I use this supplement to boost my ability to focus on the pages of info and numbers I work with. It works for me. In fact it may be good to keep a bottle at work just in case you forget to take it in the morning.. I needed to concentrate at work so I use this supplement to boost my ability to focus on the pages of info and numbers I work with. It works for me. In fact it may be good to keep a bottle at work just in case you forget to take it in the morning.', u\"It's cheap and good for old man's bone and health.It provide good value for old man who want to anti-calcium-lose.. It's cheap and good for old man's bone and health.It provide good value for old man who want to anti-calcium-lose.\", u'i really liked this stuff because i lost 2 and a hailf lbs a week instead of one and a half i excercised and watched what i ate. i finnally found something that was safe for me being that i am diebetic. i had no side affects that bothered me. thank you.. i really liked this stuff because i lost 2 and a hailf lbs a week instead of one and a half i excercised and watched what i ate. i finnally found something that was safe for me being that i am diebetic. i had no side affects that bothered me. thank you.', u'I have been getting Othro-visc injections for my knees due to worn out. Will not have surgery. Last injection was December 2011.Was diagnosed with same of shoulders in April. Again only surgery. The medicine for the knees has not been approved for shoulders.I ordered the Osteo-Bi-Flex with MSM. Unable to raise my right arm and I am right handed was so painful. Even sleeping at night was severe.I received my order and started taking it May 11th and as of May 22nd, I have been 95% pain free. I take two in the morning after breakfast.. I have been getting Othro-visc injections for my knees due to worn out. Will not have surgery. Last injection was December 2011.Was diagnosed with same of shoulders in April. Again only surgery. The medicine for the knees has not been approved for shoulders.I ordered the Osteo-Bi-Flex with MSM. Unable to raise my right arm and I am right handed was so painful. Even sleeping at night was severe.I received my order and started taking it May 11th and as of May 22nd, I have been 95% pain free. I take two in the morning after breakfast.', u\"I am glad that the research is behind Forskolin as producing results. I don't want to spend any more time then I have to dieting, so if they is anything that will help me on my weight loss journey- I will try it. So after looking through some of the latest research on weight loss supplements I decided I had to try Forskolin to increase fat burning. I just received the product recently so I haven't seen any results that I can definitely attribute to Forskolin, but I have lost weight. I also haven't experienced any side effects.So here is the &#34;skinny&#34; according Dr. Oz's website &#34;Researchers have found that forskolin can help to promote the breakdown of stored fats in animal and human fat cells. It may also release fatty acids from adipose tissue, which results in increased thermogenesis, resulting in loss of body fat and, theoretically, increased lean body mass.&#34;Wow -that sounds pretty darn cool to me! I will be at my goal weight a lot sooner then expected :). I am glad that the research is behind Forskolin as producing results. I don't want to spend any more time then I have to dieting, so if they is anything that will help me on my weight loss journey- I will try it. So after looking through some of the latest research on weight loss supplements I decided I had to try Forskolin to increase fat burning. I just received the product recently so I haven't seen any results that I can definitely attribute to Forskolin, but I have lost weight. I also haven't experienced any side effects.So here is the &#34;skinny&#34; according Dr. Oz's website &#34;Researchers have found that forskolin can help to promote the breakdown of stored fats in animal and human fat cells. It may also release fatty acids from adipose tissue, which results in increased thermogenesis, resulting in loss of body fat and, theoretically, increased lean body mass.&#34;Wow -that sounds pretty darn cool to me! I will be at my goal weight a lot sooner then expected :)\", u'My doctor told me to start taking this Coq10 stuff for my heart. It\\'s not cheap so I had been using the Costco version until I learned about these gummies. They are delicious! Too much so.Here is the problem. They are just like potato chips or donuts. You can\\'t eat just one. Or a dozen. You want to eat them all. They are that good. BUT -- DON\\'T EAT THE WHOLE JAR. Trust me.Thankfully, the ER doc told that these are likely water soluble, like Vitamin C. So I don\\'t think I did any damage except to my pocket book. But beware. The peach flavor, while not quite \"peachy flavored,\" is pretty sweet. So don\\'t leave these lying around when you have nothing else to eat.p.s. I got a follow-up call from the hospital which Randy didn\\'t tell me about. Apparently eating the whole jar did something to my blood but I\\'ll be ok. I can\\'t stand Randy.. My doctor told me to start taking this Coq10 stuff for my heart. It\\'s not cheap so I had been using the Costco version until I learned about these gummies. They are delicious! Too much so.Here is the problem. They are just like potato chips or donuts. You can\\'t eat just one. Or a dozen. You want to eat them all. They are that good. BUT -- DON\\'T EAT THE WHOLE JAR. Trust me.Thankfully, the ER doc told that these are likely water soluble, like Vitamin C. So I don\\'t think I did any damage except to my pocket book. But beware. The peach flavor, while not quite \"peachy flavored,\" is pretty sweet. So don\\'t leave these lying around when you have nothing else to eat.p.s. I got a follow-up call from the hospital which Randy didn\\'t tell me about. Apparently eating the whole jar did something to my blood but I\\'ll be ok. I can\\'t stand Randy.', u'Good price!. Good price!', u'FINALLY a product that works towards weight loss! This product is great and I would recommend it to anyone trying to lose weight!. FINALLY a product that works towards weight loss! This product is great and I would recommend it to anyone trying to lose weight!', u'I heard about this supplement after reading up on Krill Oil. I then Googled Astaxanthin and found lots of info including Dr Oz\\'s review. I decided to give it a try. I bought the product a few weeks ago and started taking 1 pill per day....no noticeable results. On the second week I up\\'d the dosage to 3 pills per day (12mg). I have now noticed that I feel and look better. The circles under my eyes have \"lessened.\" My eyes are less bloodshot. The skin on my face looks \"fresher.\" I feel less depressed and more energetic than I have felt in quite a while. I plan on continuing taking 3 pills per day and am really excited about the potential positive effects of continued use!. I heard about this supplement after reading up on Krill Oil. I then Googled Astaxanthin and found lots of info including Dr Oz\\'s review. I decided to give it a try. I bought the product a few weeks ago and started taking 1 pill per day....no noticeable results. On the second week I up\\'d the dosage to 3 pills per day (12mg). I have now noticed that I feel and look better. The circles under my eyes have \"lessened.\" My eyes are less bloodshot. The skin on my face looks \"fresher.\" I feel less depressed and more energetic than I have felt in quite a while. I plan on continuing taking 3 pills per day and am really excited about the potential positive effects of continued use!', u'It works.. It works.', u'Works well. Works well', u\"I've been looking for the perfect charcoal to use for quite some time now, and I finally found it. It's great for the price, burns for about an hour and a half on average and leaves a campfire sort of smell instead of the gross charcoal smell. I love it!. I've been looking for the perfect charcoal to use for quite some time now, and I finally found it. It's great for the price, burns for about an hour and a half on average and leaves a campfire sort of smell instead of the gross charcoal smell. I love it!\", u'This is a good product I have just started using it and I did write a previous review on the packaging of the product.this product is good and have recommended it to my friends. This is a good product I have just started using it and I did write a previous review on the packaging of the product.this product is good and have recommended it to my friends', u\"He's currently deployed, wanted a new vitamin that he could take every day. He was taking men's one a day but he just felt like the UberDay worked much better. All the vitamins he needs to keep his body going the way it should. As always no jitters but he said that after a few days he just felt so much better. Like how you feel after a cleansing diet.Great product.. He's currently deployed, wanted a new vitamin that he could take every day. He was taking men's one a day but he just felt like the UberDay worked much better. All the vitamins he needs to keep his body going the way it should. As always no jitters but he said that after a few days he just felt so much better. Like how you feel after a cleansing diet.Great product.\", u'Great!!. Great!!', u\"I've been taking this for a few months, so far I think it's working well although I'm not certain that it's doing anything spectacular I have heard alot of good things about it so I will continue to use it.. I've been taking this for a few months, so far I think it's working well although I'm not certain that it's doing anything spectacular I have heard alot of good things about it so I will continue to use it.\", u\"If you're looking for a nutritious liquid yogurt type product, you might like to try this kefir. I learned about kefir in the book The 17 Day Diet: A Doctor's Plan Designed for Rapid Results. A nutritionist recommended having protein five times a day. This kefir is rich in protein and great for breakfast or a snack. I love to drink a cup of this just before I'm going out the door, if I'm in a hurry. Great to eat in a big mug with a spoon. Honestly, it's as good as a dessert to me.You can also make fruit smoothies with this: one baa, one cup frozen berries, 1/2 cup kefir and 1/2 cup seltzer. The protein keeps you from getting hungry said the nutritionist. You can also add 1/2 vegetables to the mix for additional nutrition -- such as a cucumber, romaine lettuce or spinach.It's great to drink as is and tastes a little like a raspberry fruit smoothie or raspberry pudding. I've tried the peach, pomegranate, strawberry and raspberry and they are delicious. The raspberry is my favorite flavor as it's a little sweet and a little sour. They are probiotic with 12 different kinds of live bacteria and are naturally cultured. Kefir provides 25% of Vitamin D, 30% Calcium and 11g of Protein. This is more probiotic than yogurt and good for digestion. 140 calories in a cup. They only use milk from cows which are grass fed and hormone free.. If you're looking for a nutritious liquid yogurt type product, you might like to try this kefir. I learned about kefir in the book The 17 Day Diet: A Doctor's Plan Designed for Rapid Results. A nutritionist recommended having protein five times a day. This kefir is rich in protein and great for breakfast or a snack. I love to drink a cup of this just before I'm going out the door, if I'm in a hurry. Great to eat in a big mug with a spoon. Honestly, it's as good as a dessert to me.You can also make fruit smoothies with this: one baa, one cup frozen berries, 1/2 cup kefir and 1/2 cup seltzer. The protein keeps you from getting hungry said the nutritionist. You can also add 1/2 vegetables to the mix for additional nutrition -- such as a cucumber, romaine lettuce or spinach.It's great to drink as is and tastes a little like a raspberry fruit smoothie or raspberry pudding. I've tried the peach, pomegranate, strawberry and raspberry and they are delicious. The raspberry is my favorite flavor as it's a little sweet and a little sour. They are probiotic with 12 different kinds of live bacteria and are naturally cultured. Kefir provides 25% of Vitamin D, 30% Calcium and 11g of Protein. This is more probiotic than yogurt and good for digestion. 140 calories in a cup. They only use milk from cows which are grass fed and hormone free.\", u\"I have been working to lose weight and I was doing very well. That is until I injured my back. While healing I noticed that I was picking some of the weight back up. I knew I couldn't exercise the way I use too because of my injury, so I decided to give these a try. I have to tell you, they work. With the help of this supplement and very little exercise I have dropped over 10 pounds within a month. I will definitely continue to use these. Give them a try, you won't be sorry.. I have been working to lose weight and I was doing very well. That is until I injured my back. While healing I noticed that I was picking some of the weight back up. I knew I couldn't exercise the way I use too because of my injury, so I decided to give these a try. I have to tell you, they work. With the help of this supplement and very little exercise I have dropped over 10 pounds within a month. I will definitely continue to use these. Give them a try, you won't be sorry.\", u\"I've been taking this for maybe over a week. I did notice I was eating less but I thought it was do to being too busy to eat. This was until I actually watch the Dr. Oz segment on how it reduces stress and emotional eating, and then I said to myself &#34;Hmmm...maybe that's why I haven't been eating as much lately!&#34; I do pair it with Green Coffee Bean, but I'm not sure if it makes much of a difference or not. Let's just say, I like it so much, I just ordered my second bottle. All I can say is, its worth a try!. I've been taking this for maybe over a week. I did notice I was eating less but I thought it was do to being too busy to eat. This was until I actually watch the Dr. Oz segment on how it reduces stress and emotional eating, and then I said to myself &#34;Hmmm...maybe that's why I haven't been eating as much lately!&#34; I do pair it with Green Coffee Bean, but I'm not sure if it makes much of a difference or not. Let's just say, I like it so much, I just ordered my second bottle. All I can say is, its worth a try!\", u'Seems to help and all without any stimulants. Stimulants make me sick so this is one of the few weight loss pills I can use. Love it!. Seems to help and all without any stimulants. Stimulants make me sick so this is one of the few weight loss pills I can use. Love it!', u'I hoped that these diet pills would finally give me back my old body. I have been in a struggle to get my old body back and that was my only wish, that I would lose weight and I have. I am happy that I had the chance to use garcinia to help me lose weight and have my wish granted.. I hoped that these diet pills would finally give me back my old body. I have been in a struggle to get my old body back and that was my only wish, that I would lose weight and I have. I am happy that I had the chance to use garcinia to help me lose weight and have my wish granted.', u'Good!!. Good!!', u'A very good product.. A very good product.', u\"I read about Sam-e in a book called Stop Depression Now, written by an M.D. and a PHd. I bought this product at a local Rite-Aid for a friend of mine who was so depressed that he couldn't work or function, and was borderline suicidal. Within a couple days, he said he didn't feel suicidal anymore. Within a week, he was back to taking care of himself, laughing and joking, has renewed interest in things he liked to do, and is now back to work!! He is like a different person! He started telling all his friends about it that are taking Prozac with no results. I'm amazed at the major changes and so quickly. He doubled up on this so is taking 800mg a day. According to the book, you would start out at 400mg per day, if no results within a week, then up it to 800mg. Like the books says, you also need a good B vitamin complex in addition to this. I gave him a really effective sublingual B tablet that makes a big difference for me also.. I read about Sam-e in a book called Stop Depression Now, written by an M.D. and a PHd. I bought this product at a local Rite-Aid for a friend of mine who was so depressed that he couldn't work or function, and was borderline suicidal. Within a couple days, he said he didn't feel suicidal anymore. Within a week, he was back to taking care of himself, laughing and joking, has renewed interest in things he liked to do, and is now back to work!! He is like a different person! He started telling all his friends about it that are taking Prozac with no results. I'm amazed at the major changes and so quickly. He doubled up on this so is taking 800mg a day. According to the book, you would start out at 400mg per day, if no results within a week, then up it to 800mg. Like the books says, you also need a good B vitamin complex in addition to this. I gave him a really effective sublingual B tablet that makes a big difference for me also.\", u\"IT REALLY DOES WORK, JUST BOUGHT SECOND BOTTLE AND PLAN TO ORDER MORE. WITH FOLLOWING YOUR OWN DIET PLAN YOU SHOULD SEE WONDERS. DON'T FORGET TO DO A LITTLE MORE MOVEMENT AND YOU WILL SURELY SEE A CHANGE, I HAVE , A LOT.. IT REALLY DOES WORK, JUST BOUGHT SECOND BOTTLE AND PLAN TO ORDER MORE. WITH FOLLOWING YOUR OWN DIET PLAN YOU SHOULD SEE WONDERS. DON'T FORGET TO DO A LITTLE MORE MOVEMENT AND YOU WILL SURELY SEE A CHANGE, I HAVE , A LOT.\", u'This product is very good. It has assisted me with my weight loss goals. I am still using this product along with daily exercise to achieve the best results. I recommend this product to anyone who has some weight issues. It works well with other weight loss meds like coffee bean.. This product is very good. It has assisted me with my weight loss goals. I am still using this product along with daily exercise to achieve the best results. I recommend this product to anyone who has some weight issues. It works well with other weight loss meds like coffee bean.', u\"I've been using this along with Pure Coffee Bean Extract and Pure Cambogia Extract for about 2 months and have lost about 30 pounds. The weight loss has been pretty steady. I have watched my portion sizes at mealtimes, but due to bad knees and hips am unable to do any strenuous exercises that put a lot of stress on my joints. So I am pleased with the steady weight loss.. I've been using this along with Pure Coffee Bean Extract and Pure Cambogia Extract for about 2 months and have lost about 30 pounds. The weight loss has been pretty steady. I have watched my portion sizes at mealtimes, but due to bad knees and hips am unable to do any strenuous exercises that put a lot of stress on my joints. So I am pleased with the steady weight loss.\", u\"This is a great product. I have to admit though ,that i was a little skeptical about this product. But after using it for a couple of weeks. I must say that I am impressed with the results. I've lost the fat around my stomach area and I now have more lean muscle, This product is a great recommendation.. This is a great product. I have to admit though ,that i was a little skeptical about this product. But after using it for a couple of weeks. I must say that I am impressed with the results. I've lost the fat around my stomach area and I now have more lean muscle, This product is a great recommendation.\", u'Cool. Cool', u\"I've gone through 3 bottles so far and have lost 25 pounds, so I reordered and received promptly. I will write another review in 6 ;months to see how much weight I actually lost. I found if I take about 1 hour before I eat I'm not even hungry but I still eat, also if I eat carbs it is in the morning so have the day to work it off. Terry. I've gone through 3 bottles so far and have lost 25 pounds, so I reordered and received promptly. I will write another review in 6 ;months to see how much weight I actually lost. I found if I take about 1 hour before I eat I'm not even hungry but I still eat, also if I eat carbs it is in the morning so have the day to work it off. Terry\", u'I only dropped 12 pounds in the last 60 days but it works for me. I am not looking to drop 100 pounds or anything. I would like to lose another 12-15 pounds. I believe I can do it with this product. I will keep buying it.. I only dropped 12 pounds in the last 60 days but it works for me. I am not looking to drop 100 pounds or anything. I would like to lose another 12-15 pounds. I believe I can do it with this product. I will keep buying it.', u'excellent product.. excellent product.', u'I have try a lot of diet pills to lose weight, however, it turn out lots of disappointment~ I am so glad that I order this product, it works so well, I found myself lost more than 10 pounds in two weeks and I highly recommend this product to my friends~! I would certainly continue to buy this product!. I have try a lot of diet pills to lose weight, however, it turn out lots of disappointment~ I am so glad that I order this product, it works so well, I found myself lost more than 10 pounds in two weeks and I highly recommend this product to my friends~! I would certainly continue to buy this product!', u\"I thought I would give this a try and I have really been liking it so far! I mainly take it to maintain rather than lose weight. I am happy that they give me no crazy side effects.... It's hard to find something that doesn't when you don't have much weight to lose.. I thought I would give this a try and I have really been liking it so far! I mainly take it to maintain rather than lose weight. I am happy that they give me no crazy side effects.... It's hard to find something that doesn't when you don't have much weight to lose.\", u\"this is a great product! really jumpstarts a weight loss or diet plan, by curbing your appetite. this is a pure extract one and it's great, it's a must try! I highly recommend it!. this is a great product! really jumpstarts a weight loss or diet plan, by curbing your appetite. this is a pure extract one and it's great, it's a must try! I highly recommend it!\", u\"I was looking for a supplement to help boost my metabolism and B12 did the job. I like how it dissolved fast and had a better taste than other supplements I tried. I take it when I'm low on energy to get me through the day.. I was looking for a supplement to help boost my metabolism and B12 did the job. I like how it dissolved fast and had a better taste than other supplements I tried. I take it when I'm low on energy to get me through the day.\", u'There is nothing I could find bad about this suppliment online other than it can slightly change the color of your skin tone to a pinkish tint, who cares LOL if you live longer and healthier I will take a change in color. Plz look up pros vs cons online to see if this suppliment is right for you, after a few weeks of taken in I felt better and it has already started to protect me from the sun, I burn easy and I was at pool one day for 3 hours and got a mild sunburn instead of the 3rd degree I would normally get if I didnt reapply sunblock after 40 mins. I highly recommend this product and also take this with a fatty meal or Omega-3 so get best results.. There is nothing I could find bad about this suppliment online other than it can slightly change the color of your skin tone to a pinkish tint, who cares LOL if you live longer and healthier I will take a change in color. Plz look up pros vs cons online to see if this suppliment is right for you, after a few weeks of taken in I felt better and it has already started to protect me from the sun, I burn easy and I was at pool one day for 3 hours and got a mild sunburn instead of the 3rd degree I would normally get if I didnt reapply sunblock after 40 mins. I highly recommend this product and also take this with a fatty meal or Omega-3 so get best results.', u'great stuff. great stuff', u'This is not an authorized product to sell commerce websites. Adocare is not only a wonderful product but you need support from an advisor or distributor. DO NOT BUY!! Visit an advocare site or [...]. This is not an authorized product to sell commerce websites. Adocare is not only a wonderful product but you need support from an advisor or distributor. DO NOT BUY!! Visit an advocare site or [...]', u\"Really works. No side effects for me, other than just not hungry. Took a few weeks to figure out how to make it work the best for me. I was so used to eating my usual breakfast before leaving for work, I was scared to give it up. But that's what it took to really make this stuff have the best effect. For me, the emptier my stomach when I take it, the better and longer it works. It just kills my appetite within just a few minutes when taken on a really empty stomach, i.e., I get up @ 5:30am and am @ work by 7:30. By around 9am, I'm starting to get fairly hungry, so I take two capsules and I'm good to go until about 12:30. I could easily go longer, but eat a small meal of 3oz chicken breast and 1 cup mixed veggies just because. By 3:00pm or so I take another two caps and that takes me through the rest of the day until bed. Can almost feel the calories burning. BTW - I have a desk job, so take this into consideration.. Really works. No side effects for me, other than just not hungry. Took a few weeks to figure out how to make it work the best for me. I was so used to eating my usual breakfast before leaving for work, I was scared to give it up. But that's what it took to really make this stuff have the best effect. For me, the emptier my stomach when I take it, the better and longer it works. It just kills my appetite within just a few minutes when taken on a really empty stomach, i.e., I get up @ 5:30am and am @ work by 7:30. By around 9am, I'm starting to get fairly hungry, so I take two capsules and I'm good to go until about 12:30. I could easily go longer, but eat a small meal of 3oz chicken breast and 1 cup mixed veggies just because. By 3:00pm or so I take another two caps and that takes me through the rest of the day until bed. Can almost feel the calories burning. BTW - I have a desk job, so take this into consideration.\", u'Nothing but positive remarks! Does great at supplying extra energy while curbing my appetite. No problems with going to sleep and staying asleep. I definitely recommend this!. Nothing but positive remarks! Does great at supplying extra energy while curbing my appetite. No problems with going to sleep and staying asleep. I definitely recommend this!', u'This product is amazing! I have been using it for about 2 weeks now, my once hard fat has become very very soft and my belly has also gotten smaller. I once was very tired all day and now I can stay awake a full day and it has even made my overall mood better. I intend to keep on using this product and this has really changed my life and I am so thankful for it!. This product is amazing! I have been using it for about 2 weeks now, my once hard fat has become very very soft and my belly has also gotten smaller. I once was very tired all day and now I can stay awake a full day and it has even made my overall mood better. I intend to keep on using this product and this has really changed my life and I am so thankful for it!', u'They are so small and easy to swallow. If you have trouble swallowing pills try these. I love these Dots.. They are so small and easy to swallow. If you have trouble swallowing pills try these. I love these Dots.', u\"Within weeks I noticed a difference in my energy levels and my stomach area. Great product and I'm recommending to all my family!. Within weeks I noticed a difference in my energy levels and my stomach area. Great product and I'm recommending to all my family!\", u'Great item.. Great item.', u'Loss 8 pounds in 2 weeks with Raspbery Ketones by CBH and Green Coffee bean extract by nutrifrenzy. The supplements kicked in about the first week to control the eating. Cut all sweets, ate raw veggies ,bake or boil chicken, shrimp , salads ,lots of water and 30 min exercise. ( 3 meals a day ) .. Loss 8 pounds in 2 weeks with Raspbery Ketones by CBH and Green Coffee bean extract by nutrifrenzy. The supplements kicked in about the first week to control the eating. Cut all sweets, ate raw veggies ,bake or boil chicken, shrimp , salads ,lots of water and 30 min exercise. ( 3 meals a day ) .', u\"Easy to take and am losing the weight that seems to have dodged every attempt to shake it off. Have been using this product for almost two weeks. Try it you'll like it!. Easy to take and am losing the weight that seems to have dodged every attempt to shake it off. Have been using this product for almost two weeks. Try it you'll like it!\", u\"I just finished the first bottle. Not seeing a stunning transformation, but I am seeing signs of tighter skin especially around eyes and neck . I also love the supplier. Their service was fast and customer friendly. I will definitely order from them again. And, I have already ordered two more containers of the Phytoceramidess. It is worth trying. I'm told that taking it on an empty stomach, as directed, is key.. I just finished the first bottle. Not seeing a stunning transformation, but I am seeing signs of tighter skin especially around eyes and neck . I also love the supplier. Their service was fast and customer friendly. I will definitely order from them again. And, I have already ordered two more containers of the Phytoceramidess. It is worth trying. I'm told that taking it on an empty stomach, as directed, is key.\", u'I have never had this much joy from taking a diet pill. Usually they are a hassle to take not to mention they take forever to show any signs of improvement. I am almost at my goal weight so I am really excited as it will mean that I will definitely need to go shopping for new clothes all I can say is this has been a great experience!!!. I have never had this much joy from taking a diet pill. Usually they are a hassle to take not to mention they take forever to show any signs of improvement. I am almost at my goal weight so I am really excited as it will mean that I will definitely need to go shopping for new clothes all I can say is this has been a great experience!!!', u'I RECOMMEND GARCINIA CAMBOGIA to anyone especially those who have difficulties losing weight. I&#8217;m a 64 male diabetic so it&#8217;s hard for me to lose weight , but in month I drop 4 pounds which is great , I&#8217;m not hungry anymore and I don&#8217;t crave for junk food, besides there no side effects.. I RECOMMEND GARCINIA CAMBOGIA to anyone especially those who have difficulties losing weight. I&#8217;m a 64 male diabetic so it&#8217;s hard for me to lose weight , but in month I drop 4 pounds which is great , I&#8217;m not hungry anymore and I don&#8217;t crave for junk food, besides there no side effects.', u\"i love this stuff, it's good for my belly and my live in general for health, i would get again. i love this stuff, it's good for my belly and my live in general for health, i would get again\", u'I did a lot of research when it came time to find my children a good multivitamin. Since it is not mainly the amount of a given nutrient listed on the bottle that is important but instead that nutrients form and how much of it is bio-available that counts I was specifically looking for a whole food based supplement. Whole food supplements are, like the name suggests, supplements made from concentrated whole foods so they contain an array of natural vitamins, minerals, antioxidants, enzymes, co-enzymes, trace elements, and activators that naturally work together. Food based supplements allow your body to absorb the concentrated nutrients of whole foods as if they were a normal part of your everyday diet while synthetic supplements are treated by the body as if they were foreign substances. Some of these \"foreign substances\" are merely rejected while others (in order to be effective) absorb additional nutrients from your body, leaving your body\\'s stores depleted. This is because synthetic vitamins have been isolated from the other nutrients that they would normally be paired with in nature, and without the presence of those nutrients they aren\\'t usable to the body.Since I knew that I only wanted whole food vitamins that narrowed my search significantly; I found that there only seemed to be a few whole food options on the market that were child specific. While these vitamins from Bluebonnet may not be the cheapest supplement around I love that they are whole food based so that I can rest assured that my children are actually benefiting from them. My children also love the fruit flavors of these vitamins...they practically beg for these every morning. We have been very happy with our choice in Bluebonnet.I hope that helps you with your decision.. I did a lot of research when it came time to find my children a good multivitamin. Since it is not mainly the amount of a given nutrient listed on the bottle that is important but instead that nutrients form and how much of it is bio-available that counts I was specifically looking for a whole food based supplement. Whole food supplements are, like the name suggests, supplements made from concentrated whole foods so they contain an array of natural vitamins, minerals, antioxidants, enzymes, co-enzymes, trace elements, and activators that naturally work together. Food based supplements allow your body to absorb the concentrated nutrients of whole foods as if they were a normal part of your everyday diet while synthetic supplements are treated by the body as if they were foreign substances. Some of these \"foreign substances\" are merely rejected while others (in order to be effective) absorb additional nutrients from your body, leaving your body\\'s stores depleted. This is because synthetic vitamins have been isolated from the other nutrients that they would normally be paired with in nature, and without the presence of those nutrients they aren\\'t usable to the body.Since I knew that I only wanted whole food vitamins that narrowed my search significantly; I found that there only seemed to be a few whole food options on the market that were child specific. While these vitamins from Bluebonnet may not be the cheapest supplement around I love that they are whole food based so that I can rest assured that my children are actually benefiting from them. My children also love the fruit flavors of these vitamins...they practically beg for these every morning. We have been very happy with our choice in Bluebonnet.I hope that helps you with your decision.', u'Great product, definitely gives me the energy I need throughout the day. I highly recommend this product for someone looking to have more energy and curbs your appetite.. Great product, definitely gives me the energy I need throughout the day. I highly recommend this product for someone looking to have more energy and curbs your appetite.', u\"Needed a product that supplemented my lack of a balanced diet. This product is perfect. Easy to take size for we senior citizens. If your like me and don't always fix meals for one, then try this product for a good supplement of vegetable vitamins and minerals. And, the best part is, I'm losing about 2 lbs a week without giving up my Pepsi. So may be even better if you drink water on a regular basis. Combined with my other supplements, I feel so much better getting the 'lost' vitamins and minerals I lack from not eating good meals every day.. Needed a product that supplemented my lack of a balanced diet. This product is perfect. Easy to take size for we senior citizens. If your like me and don't always fix meals for one, then try this product for a good supplement of vegetable vitamins and minerals. And, the best part is, I'm losing about 2 lbs a week without giving up my Pepsi. So may be even better if you drink water on a regular basis. Combined with my other supplements, I feel so much better getting the 'lost' vitamins and minerals I lack from not eating good meals every day.\", u\"I love it. I switched from the Now brand magnesium citrate capsules, because they contained stearates. This powder has no fillers and no stearates. I take a bit more than a teaspoon, stirred into water right before bed, and it helps me sleep, relaxes my muscles that are often sore from working out (promotes muscle recovery), and works better than bulk fiber (which has nasty food dyes in it) for 'going' in the morning. Very effective product, and the best and most natural thing you can take for any sort of constipation, in my opinion. It does have a very sour taste, but if you will mix it and drink it asap, its easy to get down. If you let it sit and dissolve more, for me, it tastes pretty nasty.. I love it. I switched from the Now brand magnesium citrate capsules, because they contained stearates. This powder has no fillers and no stearates. I take a bit more than a teaspoon, stirred into water right before bed, and it helps me sleep, relaxes my muscles that are often sore from working out (promotes muscle recovery), and works better than bulk fiber (which has nasty food dyes in it) for 'going' in the morning. Very effective product, and the best and most natural thing you can take for any sort of constipation, in my opinion. It does have a very sour taste, but if you will mix it and drink it asap, its easy to get down. If you let it sit and dissolve more, for me, it tastes pretty nasty.\", u'Good.. Good.', u'This is a great supplement to have. Taken in conjunction with exercise and plenty of water your results can be remarkable.. This is a great supplement to have. Taken in conjunction with exercise and plenty of water your results can be remarkable.', u\"Bought it as an in-between while waiting for another weight loss product that I tried successfully.IT deffinitelyyyy blocks hunger. I see the food i want it i begin eating and before am half way through i feel fulll, like really full like i will throw up if i take another spoon.. but i don't.I find its great for the price, and my pants waist after 2 wks no longer squeezes me when i sit..at 13 bucks u cant go wrong.I think i will stick with this one especially since its wayyy cheaper.. Bought it as an in-between while waiting for another weight loss product that I tried successfully.IT deffinitelyyyy blocks hunger. I see the food i want it i begin eating and before am half way through i feel fulll, like really full like i will throw up if i take another spoon.. but i don't.I find its great for the price, and my pants waist after 2 wks no longer squeezes me when i sit..at 13 bucks u cant go wrong.I think i will stick with this one especially since its wayyy cheaper.\", u\"Our pediatrician recommended we supplement our son's (and now our daughter's) formula with a multivitamin. She suggested Poly-Vi-Sol, so we purchased it and have been giving them a dose of the multivitamin. As you can tell by reading other reviews here, yes, this multi-vitamin smells bad -- really bad. I haven't tried tasting it, but I'm sure it tastes even worse. Although, I'm guessing that if I ground up an adult multivitamin and mixed it with a bit of water, it would taste just as bad.Our son didn't mind the taste so much, but our daughter definitely does. Infants can be easy and picky like that. An easy solution we found for out daughter was to add .5 ml to each of her first 2 feedings every day. There's no gag-reflex and our daughter now keeps down the multivitamin she needs to grow healthy. I'm sure as she gets older, we'll just mix the vitamin into her food puree.One warning -- this stains fabric really easily so be careful when/where you try to feed it to your baby.. Our pediatrician recommended we supplement our son's (and now our daughter's) formula with a multivitamin. She suggested Poly-Vi-Sol, so we purchased it and have been giving them a dose of the multivitamin. As you can tell by reading other reviews here, yes, this multi-vitamin smells bad -- really bad. I haven't tried tasting it, but I'm sure it tastes even worse. Although, I'm guessing that if I ground up an adult multivitamin and mixed it with a bit of water, it would taste just as bad.Our son didn't mind the taste so much, but our daughter definitely does. Infants can be easy and picky like that. An easy solution we found for out daughter was to add .5 ml to each of her first 2 feedings every day. There's no gag-reflex and our daughter now keeps down the multivitamin she needs to grow healthy. I'm sure as she gets older, we'll just mix the vitamin into her food puree.One warning -- this stains fabric really easily so be careful when/where you try to feed it to your baby.\", u'thank you. thank you', u'i was pleased at the very fast service. very good product for me! no jitters or side effects, i will definatly buy again.. i was pleased at the very fast service. very good product for me! no jitters or side effects, i will definatly buy again.', u'Excellent product. Excellent product', u'This is a great product. Its only been a week and I already notice a decrease in appetite. What I like most is you take this in the nighttime. So its working while u sleep. This is a great product. Its only been a week and I already notice a decrease in appetite. What I like most is you take this in the nighttime. So its working while u sleep', u\"I use PRO80 to help reduce my body fat levels while increasing lean muscle and strengthening my immune system. With regular use I'm naturally reducing my sugar cravings, gaining mental clarity, sleep better, and recover faster. Mixes easily with 8 ounces of water in a shaker cup or blender, is easy to digest, and leaves no after taste. At times I love to mix in some fruit for a carb kick! This stuff is power in a powder, 32grams per scoop unlike all those powders out there that lead you on by saying 52 per serving and so, just to find out after you buy it that you need two scoops to get that cutting your servings in haft, wow talk about throwing your money away.Save money and get CUT..I'm sold on Pro80. I use PRO80 to help reduce my body fat levels while increasing lean muscle and strengthening my immune system. With regular use I'm naturally reducing my sugar cravings, gaining mental clarity, sleep better, and recover faster. Mixes easily with 8 ounces of water in a shaker cup or blender, is easy to digest, and leaves no after taste. At times I love to mix in some fruit for a carb kick! This stuff is power in a powder, 32grams per scoop unlike all those powders out there that lead you on by saying 52 per serving and so, just to find out after you buy it that you need two scoops to get that cutting your servings in haft, wow talk about throwing your money away.Save money and get CUT..I'm sold on Pro80\", u\"I stumbled across this while I was researching appetite suppressants. I have about 50 pounds to lose and I've been working out, and lifting weights while trying to diet. I decided I could use a little help with the appetite because I make bad choices when it comes to food, even when I try really hard. I took it not expecting much, but it really worked. After using it when it came before dinner, I found that I didn't even want to eat that much and ended up just having a few bites of dinner and a salad- and it was perfectly satisfying. I didn't feel hungry or deprived. Now I take it before lunch and dinner and I naturally eat less and don't feel deprived. I'm much happier and I've lost 5 pounds in the last 3 weeks. It's not a miracle- I still work out like a maniac, but now I don't eat back all those calories and I feel like I'm in control of my eating and I'm not miserably trying to count calories. PS- I'm a real customer who has no ties to the company or any company for that matter. Just thought I'd share.. I stumbled across this while I was researching appetite suppressants. I have about 50 pounds to lose and I've been working out, and lifting weights while trying to diet. I decided I could use a little help with the appetite because I make bad choices when it comes to food, even when I try really hard. I took it not expecting much, but it really worked. After using it when it came before dinner, I found that I didn't even want to eat that much and ended up just having a few bites of dinner and a salad- and it was perfectly satisfying. I didn't feel hungry or deprived. Now I take it before lunch and dinner and I naturally eat less and don't feel deprived. I'm much happier and I've lost 5 pounds in the last 3 weeks. It's not a miracle- I still work out like a maniac, but now I don't eat back all those calories and I feel like I'm in control of my eating and I'm not miserably trying to count calories. PS- I'm a real customer who has no ties to the company or any company for that matter. Just thought I'd share.\", u'Great product and service.. Great product and service.', u\"This product truly has helped me lose weight. I take it the two pills twice a day (before breakfast and lunch) along with a solid diet and exercise routine and I've already lost 30 pounds in only a few months. It's very effective and convenient. I even got my parents to start taking it and they are seeing results as well!! Highly recommend this product if you want to lose weight. This product truly has helped me lose weight. I take it the two pills twice a day (before breakfast and lunch) along with a solid diet and exercise routine and I've already lost 30 pounds in only a few months. It's very effective and convenient. I even got my parents to start taking it and they are seeing results as well!! Highly recommend this product if you want to lose weight\", u\"I saw other reviews on this product and they seemed pretty good, so I decided to try it. This product really curbs my appetite, which is what I personally need. I already lost 2 pounds after 1 week, which is what I like, slow and steady. I would definitely suggest you try this if you're looking to shed some weight!. I saw other reviews on this product and they seemed pretty good, so I decided to try it. This product really curbs my appetite, which is what I personally need. I already lost 2 pounds after 1 week, which is what I like, slow and steady. I would definitely suggest you try this if you're looking to shed some weight!\", u'GREAT product, AND it does EXACTLY what it claims it will do !!! My wife and I both use this and can testify to how effective it TRULY is !!!. GREAT product, AND it does EXACTLY what it claims it will do !!! My wife and I both use this and can testify to how effective it TRULY is !!!', u\"I've been taking this product for three weeks now, it has made my hair thicker and longer and my nails are much stronger than before.. I've been taking this product for three weeks now, it has made my hair thicker and longer and my nails are much stronger than before.\", u'Good item. Good item', u\"A friend told me about this product and I thought I should give it a try. It is a fantastic product which helps me a lot to decrease my craving for sweets and junk food. I've been losing weight with this and I tend to take it 3 times a day before each meal.. A friend told me about this product and I thought I should give it a try. It is a fantastic product which helps me a lot to decrease my craving for sweets and junk food. I've been losing weight with this and I tend to take it 3 times a day before each meal.\", u'I have been using this product for a year and am very pleased with the results. Glad I can purchase it at amazon!. I have been using this product for a year and am very pleased with the results. Glad I can purchase it at amazon!', u'I had unbelievable results taking Hydrozyne. I drop inches when I take it. Like any other diuretic product be extra sure to stay hydrated. I highly recommend it right before special occasions when you need to not be bloated, or when u are pms-ing.. I had unbelievable results taking Hydrozyne. I drop inches when I take it. Like any other diuretic product be extra sure to stay hydrated. I highly recommend it right before special occasions when you need to not be bloated, or when u are pms-ing.', u'great. great', u'What makes this product so good is that there are no side effects. It suppresses my appetite; it doesn&#8217;t make me jittery and gives me and extra kick of energy. Outstanding!!!!!. What makes this product so good is that there are no side effects. It suppresses my appetite; it doesn&#8217;t make me jittery and gives me and extra kick of energy. Outstanding!!!!!', u'Works as advertised. Works as advertised', u'I\\'ve incorporated these pills with a 13 week running program and will tell you the results once completed.I was already actively working out before taking these pills, but not working towards increasing my running time.Here\\'s what I have noticed: they take my appetite...like completely.When I take them before a meal, I will usually drink at minimum, two glasses of water with it...some may think \"well that\\'s what taking your appetite\". Well, you\\'d have to know me to know that\\'s NEVER the case with me. The whole drink water thing before you eat has never ever staved off hunger for me. I consider myself a foodie....I\\'m not obese, but marginally overweight, about 10 - 15 pounds...depending on how you rate the BMI chart (which isn\\'t too high on my chart since it rated me in the past at 27.1 but when a fat caliper test was done, I was at 23.7, due to having large amounts of muscle mass).Also, I tried the other product by this company (green bottle) and found the same thing: lack of appetite.I was losing weight (about 4 pounds in two weeks) but then started eating like I was superwoman and pretty much gained back most of it.So now I\\'m trying this one, for the long haul though, the entire 12 weeks which coincides with my running program.These pills tell you to take 2 - 3X\\'s per day, but I find doing 2 in the a.m., and one each at lunch and dinner seem adequate (the amounts recommended on Dr. Oz show based on the study was less than what one of these pills provides so they can last longer than recommended.)Also, no nausea, after taste or side effects (that I\\'ve noticed).They are NOT supposed to have much caffeine in them, but taking them lessens my urge for coffee too so go figure that one...as good as the coffee industry would like us to believe coffee is for us, you know the whole saying \"too much of ANYTHING can\\'t be good for you, right?\"Any who....Good luck to anyone trying them.. I\\'ve incorporated these pills with a 13 week running program and will tell you the results once completed.I was already actively working out before taking these pills, but not working towards increasing my running time.Here\\'s what I have noticed: they take my appetite...like completely.When I take them before a meal, I will usually drink at minimum, two glasses of water with it...some may think \"well that\\'s what taking your appetite\". Well, you\\'d have to know me to know that\\'s NEVER the case with me. The whole drink water thing before you eat has never ever staved off hunger for me. I consider myself a foodie....I\\'m not obese, but marginally overweight, about 10 - 15 pounds...depending on how you rate the BMI chart (which isn\\'t too high on my chart since it rated me in the past at 27.1 but when a fat caliper test was done, I was at 23.7, due to having large amounts of muscle mass).Also, I tried the other product by this company (green bottle) and found the same thing: lack of appetite.I was losing weight (about 4 pounds in two weeks) but then started eating like I was superwoman and pretty much gained back most of it.So now I\\'m trying this one, for the long haul though, the entire 12 weeks which coincides with my running program.These pills tell you to take 2 - 3X\\'s per day, but I find doing 2 in the a.m., and one each at lunch and dinner seem adequate (the amounts recommended on Dr. Oz show based on the study was less than what one of these pills provides so they can last longer than recommended.)Also, no nausea, after taste or side effects (that I\\'ve noticed).They are NOT supposed to have much caffeine in them, but taking them lessens my urge for coffee too so go figure that one...as good as the coffee industry would like us to believe coffee is for us, you know the whole saying \"too much of ANYTHING can\\'t be good for you, right?\"Any who....Good luck to anyone trying them.', u'Good. Good', u'I read from another reviewer that a customer service rep recommended letting the product sit for 20 minutes before drinking to improve effectiveness. Beforehand I was drinking the clumps that formed when I put the powder in water. Even though I could tell it was working, the effectiveness increased dramatically by following those instructions.. I read from another reviewer that a customer service rep recommended letting the product sit for 20 minutes before drinking to improve effectiveness. Beforehand I was drinking the clumps that formed when I put the powder in water. Even though I could tell it was working, the effectiveness increased dramatically by following those instructions.', u'I can say that this is a real weight loss supplement that actually works and it is exactly what I have been looking for. I have been losing weight this supplement without changing my daily routine or diet plan. This supplement is the answer to all of my prayers.. I can say that this is a real weight loss supplement that actually works and it is exactly what I have been looking for. I have been losing weight this supplement without changing my daily routine or diet plan. This supplement is the answer to all of my prayers.', u'fine product. fine product', u'I have been using the prodict for the past two months. I lost Lost 8 lbs in 3 1/2 weeks. At first I was skeptical to try it but after doing my research I decided to give it a try. I am very happy with this product and would recommend it to anyone who want to lose weigt.. I have been using the prodict for the past two months. I lost Lost 8 lbs in 3 1/2 weeks. At first I was skeptical to try it but after doing my research I decided to give it a try. I am very happy with this product and would recommend it to anyone who want to lose weigt.', u\"This is a wonderful product and one of the few supplements that has actually worked for me over the years.Before discovering Natural Calm, I tried at least ten other brands of magnesium and none of them made the slightest difference for my symptoms. With Natural Calm, I felt immediate, noticeable results with the very first dose. I have been using this product for many years now with very positive results.Several reviewers mentioned negative side effects due to the mixture being too fizzy or effervescent. It is simply a matter of preparing the drink properly, which is very easy to do. When prepared properly, the drink should not be fizzy or effervescent, and should not cause any side effects.It is also important to start with a small dose and gradually increase the dose over time. Drink the mixture gradually through out the day instead of gulping the entire dose at one time.For best results:Start with a teaspoon or so of powder until you find your optimal amount.Measure the powder into a clean, dry, container (a 2-cup Pyrex glass measuring cup works very well).Gradually add 3 or 4 ounces of boiling water. Don't stir yet. Let the powder fizz in the water.When the powder stops fizzing, stir gently with a wooden spoon and the powder will start to fizz again. Stir until all the powder is dissolved and no longer fizzing.Now fill the cup with 8 oz or more water. Hot or cold is fine at this point - whichever you prefer.Hopefully these steps will help new customers to get the most benefit from Natural Calm. Taking the extra time to dissolve the powder completely really does improve the taste and eliminate all effervescence.. This is a wonderful product and one of the few supplements that has actually worked for me over the years.Before discovering Natural Calm, I tried at least ten other brands of magnesium and none of them made the slightest difference for my symptoms. With Natural Calm, I felt immediate, noticeable results with the very first dose. I have been using this product for many years now with very positive results.Several reviewers mentioned negative side effects due to the mixture being too fizzy or effervescent. It is simply a matter of preparing the drink properly, which is very easy to do. When prepared properly, the drink should not be fizzy or effervescent, and should not cause any side effects.It is also important to start with a small dose and gradually increase the dose over time. Drink the mixture gradually through out the day instead of gulping the entire dose at one time.For best results:Start with a teaspoon or so of powder until you find your optimal amount.Measure the powder into a clean, dry, container (a 2-cup Pyrex glass measuring cup works very well).Gradually add 3 or 4 ounces of boiling water. Don't stir yet. Let the powder fizz in the water.When the powder stops fizzing, stir gently with a wooden spoon and the powder will start to fizz again. Stir until all the powder is dissolved and no longer fizzing.Now fill the cup with 8 oz or more water. Hot or cold is fine at this point - whichever you prefer.Hopefully these steps will help new customers to get the most benefit from Natural Calm. Taking the extra time to dissolve the powder completely really does improve the taste and eliminate all effervescence.\", u'This product is great! I started seeing results much faster than any other Garcinia Cambogia pill. I will definitely recommend this product because it works!. This product is great! I started seeing results much faster than any other Garcinia Cambogia pill. I will definitely recommend this product because it works!', u'good!. good!', u'This product is awesome!. This product is awesome!', u'Great!!!!. Great!!!!', u'thanks for such an amazing productif you try this you just need alittle excercise and wallah to incredible results. thanks for such an amazing productif you try this you just need alittle excercise and wallah to incredible results', u'I searched long and hard for a krill oil that was 100% (not mixed with other fish oils), high in phospholipids, and high in NATURALLY OCCURRING astaxanthin. Finally I found this product, and decided to give it a try: within days of taking it I noticed that I was feeling energized at the end of the day. My brain was active and thinking clearly. I need to order a regular supply right now!!. I searched long and hard for a krill oil that was 100% (not mixed with other fish oils), high in phospholipids, and high in NATURALLY OCCURRING astaxanthin. Finally I found this product, and decided to give it a try: within days of taking it I noticed that I was feeling energized at the end of the day. My brain was active and thinking clearly. I need to order a regular supply right now!!', u'I am getting the results I anticipated from this product. I am losing a pound or two per week taking this product as suggested. Through my own research I have discovered it best and I prefer to lose weight in a moderate manner instead of a rapid one. This product is assisting in meeting my goals.. I am getting the results I anticipated from this product. I am losing a pound or two per week taking this product as suggested. Through my own research I have discovered it best and I prefer to lose weight in a moderate manner instead of a rapid one. This product is assisting in meeting my goals.', u'I have lost 4 lbs in 2 weeks. It suppresses my hunger. I am still eating the same diet, just smaller helpings and I am not getting hungry in-between meals. I have also found that taking the pill 30-60 mins prior helps with planning and eating. Typically I would just eat anything when I was hungry and keep on eating till I felt full. Now, I really think about the meal and the portion size. No adverse affects. I just ordered more.. I have lost 4 lbs in 2 weeks. It suppresses my hunger. I am still eating the same diet, just smaller helpings and I am not getting hungry in-between meals. I have also found that taking the pill 30-60 mins prior helps with planning and eating. Typically I would just eat anything when I was hungry and keep on eating till I felt full. Now, I really think about the meal and the portion size. No adverse affects. I just ordered more.', u'If so, then you will want to take this as well.I have been on statins of various types for over 10 years. As time has passed, I began to suffer from fatigue, stiffness and muscle pains.A recent blood test showwed that my CPK levels were slightly elevated, but not so much so that I should be alarmed. I began to research C-Q10 in regards to statins on the web and discovered a lot of information describing how statins reduce natural levels of C-Q10 in the body which leads to all of the above problems. If it is not addressed it will eventually damage the heart.Suprisingly, I found that Mercke had actaully been awarded 2 pattents on statins with C-Q10 included in the medication specificall becuase of the known problems with statins. Why they have never manufactured this combinations is a puzzle, but I have concluded on my own that it is to keep that \"bad news\" about statuns under wraps; who knows???Here\\'s what happens. All cells have mitocondria to provide the cells and muscles with energy. Statins zap the process that happens in the mitocondria by inhibiting the production of C-Q10 on the body. Without C-Q10, the mitocondria can not do their job efficiently and then the muscles begin to suffer because of this. Your heart is nothing more than 1 big muscle and it will suffer along with eveything else.Within 24 hours of taking C-Q10 my symptoms had virtually diappeared. After 2 weeks I fell 10 years younger as all of my strength and agility has returned.Great stuff! Do your homework on statins and then decide for yourself if this is right for you. Personally, I will not go 1 more day without taking this. i am at 150 mg per day and that seems to be just right.. If so, then you will want to take this as well.I have been on statins of various types for over 10 years. As time has passed, I began to suffer from fatigue, stiffness and muscle pains.A recent blood test showwed that my CPK levels were slightly elevated, but not so much so that I should be alarmed. I began to research C-Q10 in regards to statins on the web and discovered a lot of information describing how statins reduce natural levels of C-Q10 in the body which leads to all of the above problems. If it is not addressed it will eventually damage the heart.Suprisingly, I found that Mercke had actaully been awarded 2 pattents on statins with C-Q10 included in the medication specificall becuase of the known problems with statins. Why they have never manufactured this combinations is a puzzle, but I have concluded on my own that it is to keep that \"bad news\" about statuns under wraps; who knows???Here\\'s what happens. All cells have mitocondria to provide the cells and muscles with energy. Statins zap the process that happens in the mitocondria by inhibiting the production of C-Q10 on the body. Without C-Q10, the mitocondria can not do their job efficiently and then the muscles begin to suffer because of this. Your heart is nothing more than 1 big muscle and it will suffer along with eveything else.Within 24 hours of taking C-Q10 my symptoms had virtually diappeared. After 2 weeks I fell 10 years younger as all of my strength and agility has returned.Great stuff! Do your homework on statins and then decide for yourself if this is right for you. Personally, I will not go 1 more day without taking this. i am at 150 mg per day and that seems to be just right.', u'This item was ordered for a friend of mine - have heard nothing but good things from her. Will be something to keep in mind for at another date.. This item was ordered for a friend of mine - have heard nothing but good things from her. Will be something to keep in mind for at another date.', u\"I was skeptical at first but after my my first week I lost 5 lbs. I couldn't believe it. My mind is clear I have more energy. Doesn't give me the jitters. So far I've been drinking it for a month and I'm down 22 lbs.. I was skeptical at first but after my my first week I lost 5 lbs. I couldn't believe it. My mind is clear I have more energy. Doesn't give me the jitters. So far I've been drinking it for a month and I'm down 22 lbs.\", u'This product does a good job of suppressing my appetite so I can stick to eating regular meals and it does so without making me feel jumpy or irritable. I think it is a very helpful part of a well rounded weight loss regimen and something I feel I will take as needed even after I reach my goal.. This product does a good job of suppressing my appetite so I can stick to eating regular meals and it does so without making me feel jumpy or irritable. I think it is a very helpful part of a well rounded weight loss regimen and something I feel I will take as needed even after I reach my goal.', u\"I decided to give this stuff a try. I have been on a weightloss journey and trying to get back into shape. These do exactly what they are supposed to do. They help boost your energy, work as an appetite suppressant, and don't make you crash. NOW, you are not going to see results if you take them, eat whatever you want, and aren't active. It all works together, it isn't a miracle drug, it is a fat burner and appetite suppressant that will only work if you live a healthy lifestyle. Thank being said, with clean eating as well as working out, I have noticed awesome results.. I decided to give this stuff a try. I have been on a weightloss journey and trying to get back into shape. These do exactly what they are supposed to do. They help boost your energy, work as an appetite suppressant, and don't make you crash. NOW, you are not going to see results if you take them, eat whatever you want, and aren't active. It all works together, it isn't a miracle drug, it is a fat burner and appetite suppressant that will only work if you live a healthy lifestyle. Thank being said, with clean eating as well as working out, I have noticed awesome results.\", u'I have always been annoyed with the constant carb counting. What if I miss something or what if I miss calculate? Since I am taking these and they block the carbs. , I eat as much as I want and I do not have to worry about them. Absolutely wonderful!. I have always been annoyed with the constant carb counting. What if I miss something or what if I miss calculate? Since I am taking these and they block the carbs. , I eat as much as I want and I do not have to worry about them. Absolutely wonderful!', u'I have been taking this product for 3 months now and have lost 50 pounds! Love this product!Will be continuing to purchase 7 Keto!. I have been taking this product for 3 months now and have lost 50 pounds! Love this product!Will be continuing to purchase 7 Keto!', u'This is the best product that I have used. I have recommended it to all of my family and friends. It definitely aids in weight loss.. This is the best product that I have used. I have recommended it to all of my family and friends. It definitely aids in weight loss.', u\"Best multi-V out. Hands down. Award winning and I'm not an employee. I own a CrossFit Gym. Only downside is taking 3 a day.. Best multi-V out. Hands down. Award winning and I'm not an employee. I own a CrossFit Gym. Only downside is taking 3 a day.\", u'Awesome. Awesome', u'Love these!. Love these!', u'Hope you need a lot! It is exactly what it says, in a very fine grind. The way to go if you want a bunch.. Hope you need a lot! It is exactly what it says, in a very fine grind. The way to go if you want a bunch.', u'good stuff. good stuff', u'I started taking vitamedica before surgery- my doctor gave me a package, after i was done with the bottles- I noticed my energy levels dropped and so I decided to order them, as a result I feel :more alert, more energy, wake up not feeling in a cloud, not getting up at night, less depressed.,Invigorated is the word. These are great, I used to take Rainbow Light Womens multi-vitamin and this is such a huge difference in the way i feel, it is unreal. I have always been skeptical about vitamins actually changing the way you feel, but really this has changed my life.. I started taking vitamedica before surgery- my doctor gave me a package, after i was done with the bottles- I noticed my energy levels dropped and so I decided to order them, as a result I feel :more alert, more energy, wake up not feeling in a cloud, not getting up at night, less depressed.,Invigorated is the word. These are great, I used to take Rainbow Light Womens multi-vitamin and this is such a huge difference in the way i feel, it is unreal. I have always been skeptical about vitamins actually changing the way you feel, but really this has changed my life.', u'I bought my bottles of Garcinia Cambogia and started taking them that same day. Being that Iam 25, I would always take naps because I always felt tired but once I started with these pills I felt with more energy and had to no longer sleep during the day. I would feel fuller faster and can now run after my 5 year old daughter at the park without feeling tired and out of breath. I have lost a total of 10 lbs and have noticed it in my clothes as well. Its not alot or what I expected but its better than nothing. Im so satisfied with this product and my family thanks you for helping me feel younger again. You have nothing to lose except for your weight...Love it. I bought my bottles of Garcinia Cambogia and started taking them that same day. Being that Iam 25, I would always take naps because I always felt tired but once I started with these pills I felt with more energy and had to no longer sleep during the day. I would feel fuller faster and can now run after my 5 year old daughter at the park without feeling tired and out of breath. I have lost a total of 10 lbs and have noticed it in my clothes as well. Its not alot or what I expected but its better than nothing. Im so satisfied with this product and my family thanks you for helping me feel younger again. You have nothing to lose except for your weight...Love it', u'I found these colon cleanse pills in my sisters old purse when she asked me to clean it out, and she told me to give them a try. I have issues with bowel movements, and I had never tried a colon cleanse before. I was AMAZED! I only took four daily, and it worked wonders.I did this cleanse to rid my body of toxins and hopefully regulate my system. It really worked! Not to mention it helped me lose the last 5 unwanted pounds that had never seemed to go away! I also noticed a growth in my hair!! By cleaning my system, everything in my body was able to benefit. I highly recommend trying this product, but only take 4 pills a day. The 4 pills worked very well, I think 8 would be over kill!. I found these colon cleanse pills in my sisters old purse when she asked me to clean it out, and she told me to give them a try. I have issues with bowel movements, and I had never tried a colon cleanse before. I was AMAZED! I only took four daily, and it worked wonders.I did this cleanse to rid my body of toxins and hopefully regulate my system. It really worked! Not to mention it helped me lose the last 5 unwanted pounds that had never seemed to go away! I also noticed a growth in my hair!! By cleaning my system, everything in my body was able to benefit. I highly recommend trying this product, but only take 4 pills a day. The 4 pills worked very well, I think 8 would be over kill!', u'I could see the results right away. Great product. I would buy this again when I see this product again. I could see the results right away. Great product. I would buy this again when I see this product again', u'I have wanted to lose some old weight that just started to accumulate after I had my first child. It has been hard for me to lose that weight but I am seeing it go away and I cannot wait, then I can go back to my old clothes and be sexy yet again.. I have wanted to lose some old weight that just started to accumulate after I had my first child. It has been hard for me to lose that weight but I am seeing it go away and I cannot wait, then I can go back to my old clothes and be sexy yet again.', u\"I specifically wanted to wait until after I had the ability to not only get through the whole bottle but to also see what would happen in the following weeks to write this review. c=If you are just looking for some miracle diet pill that is going to just magically make you drop all those extra lbs with no additional effort, I can tell you that you have not found it nor will you ever for that matter. However if you are looking for a product that has the ability to HELP you along in the process to a healthier slimmer body, this is it all the way! I can say that without a doubt taking these really help make me feel like my body was running better. I didn't see much of a change on the numbers on my scale BUT I blame that on the fact that I have also recently hit a snag in my weight loss journey and have started to build up more muscle mass. I am at the point where I have to fight really hard for every last lb drop so I can say that even though I only had a 3 lb fluctuation, to me it was a ton. I think that these are totally worth giving a try if you are interested in finding an extra little more than what your body is giving out on its own.. I specifically wanted to wait until after I had the ability to not only get through the whole bottle but to also see what would happen in the following weeks to write this review. c=If you are just looking for some miracle diet pill that is going to just magically make you drop all those extra lbs with no additional effort, I can tell you that you have not found it nor will you ever for that matter. However if you are looking for a product that has the ability to HELP you along in the process to a healthier slimmer body, this is it all the way! I can say that without a doubt taking these really help make me feel like my body was running better. I didn't see much of a change on the numbers on my scale BUT I blame that on the fact that I have also recently hit a snag in my weight loss journey and have started to build up more muscle mass. I am at the point where I have to fight really hard for every last lb drop so I can say that even though I only had a 3 lb fluctuation, to me it was a ton. I think that these are totally worth giving a try if you are interested in finding an extra little more than what your body is giving out on its own.\", u\"This product made me realize what I was missing from my diet routine- energy! I never had any energy to work out. I would come home drained and hungry. I would sit on the couch and eat a quick dinner and snacks until bedtime. I'm happy to say that there's no more of that! I've lost 12 pounds in a few weeks with the Slimowill supplement, easily making it the easiest and most cost-effective dieting approach I've ever tried.It's very simple in how it works. The supplement is simply taken in the morning with breakfast. Of course, I wish I could take less pills or take them less often for the same results, but it's very little effort anyway. The supplement helps raise your metabolism while suppressing your appetite. Since you are taking in less calories, you will very likely lose weight. A lot of weight problems are caused by too-large portions and eating too often. The supplement also has the added benefit of providing a great boost of energy. This is energy you can use to get through your day and try to get more activity done, providing you with calorie-burning exercise. Even cleaning the house or working on your feet burns calories, so the energy component is a great feature. I would recommend trying this if you are frustrated with feeling too tired and hungry to successfully complete a diet.. This product made me realize what I was missing from my diet routine- energy! I never had any energy to work out. I would come home drained and hungry. I would sit on the couch and eat a quick dinner and snacks until bedtime. I'm happy to say that there's no more of that! I've lost 12 pounds in a few weeks with the Slimowill supplement, easily making it the easiest and most cost-effective dieting approach I've ever tried.It's very simple in how it works. The supplement is simply taken in the morning with breakfast. Of course, I wish I could take less pills or take them less often for the same results, but it's very little effort anyway. The supplement helps raise your metabolism while suppressing your appetite. Since you are taking in less calories, you will very likely lose weight. A lot of weight problems are caused by too-large portions and eating too often. The supplement also has the added benefit of providing a great boost of energy. This is energy you can use to get through your day and try to get more activity done, providing you with calorie-burning exercise. Even cleaning the house or working on your feet burns calories, so the energy component is a great feature. I would recommend trying this if you are frustrated with feeling too tired and hungry to successfully complete a diet.\", u'Great deal for $30 off amazon.com! I would highly recommend it to a friend. Buy it now if you are serious about losing weight and in a short period of time.. Great deal for $30 off amazon.com! I would highly recommend it to a friend. Buy it now if you are serious about losing weight and in a short period of time.', u\"After using different weight loss diets/plans with poor results in the past. I'm glad that I gave this a try. It is truly a 5 star review. I only need to take it twice in a day 30 minutes before a meal. I not only have lost 8 pounds already, but I have more energy than I had before.. After using different weight loss diets/plans with poor results in the past. I'm glad that I gave this a try. It is truly a 5 star review. I only need to take it twice in a day 30 minutes before a meal. I not only have lost 8 pounds already, but I have more energy than I had before.\", u'I wanted to share my wife\\'s experience regarding Cholest Off. She began taking it on 10/8/09 for a total cholesterol of 257, LDL of 174, triglycerides of 87, and HDL of 65. She is 119-lb., 33 year-old who is active, nonsmoker, no alcohol, no fast food, no soda, no high fructose corn syrup, no fatty meats, you get the idea...a health nut or so we thought. Her doctor reassured us her cholesterol was heredity but entertained the idea of my wife lowering it herself. She expressed her concern about prescription cholesterol medications and the potentially dangerous side effects, especially the statins, but lamented about not being able to exercise. She is a RN and sees the the devastation high cholesterol can cause so as she put it, \"I have plenty of motivation.\" She had surgery on 10/2/09 and was instructed by her surgeon to remain on light duty and no physical exertion until 11/15/09, so I bought her Cholest Off because she would not be able to employ the cardio needed to reduce her cholesterol. She modified her diet and incorporated more vegetarian meals in addition to taking Cholest Off per the manufacturer instructions. On 11/2/09, she had her cholesterol checked again with a pleasant surprise. Her total cholesterol is now 173, her HDL is 72, triglycerides are 64, and her LDL is 88. I believe these results warrant a five star rating for Cholest Off.. I wanted to share my wife\\'s experience regarding Cholest Off. She began taking it on 10/8/09 for a total cholesterol of 257, LDL of 174, triglycerides of 87, and HDL of 65. She is 119-lb., 33 year-old who is active, nonsmoker, no alcohol, no fast food, no soda, no high fructose corn syrup, no fatty meats, you get the idea...a health nut or so we thought. Her doctor reassured us her cholesterol was heredity but entertained the idea of my wife lowering it herself. She expressed her concern about prescription cholesterol medications and the potentially dangerous side effects, especially the statins, but lamented about not being able to exercise. She is a RN and sees the the devastation high cholesterol can cause so as she put it, \"I have plenty of motivation.\" She had surgery on 10/2/09 and was instructed by her surgeon to remain on light duty and no physical exertion until 11/15/09, so I bought her Cholest Off because she would not be able to employ the cardio needed to reduce her cholesterol. She modified her diet and incorporated more vegetarian meals in addition to taking Cholest Off per the manufacturer instructions. On 11/2/09, she had her cholesterol checked again with a pleasant surprise. Her total cholesterol is now 173, her HDL is 72, triglycerides are 64, and her LDL is 88. I believe these results warrant a five star rating for Cholest Off.', u'Great product easy to take. Great product easy to take', u\"I bought that for my friend's kid, she said she likes that flavor and that can help children grow up~. I bought that for my friend's kid, she said she likes that flavor and that can help children grow up~\", u'So I had to write my own. I felt better almost right away! Better mood, more energy and even sleeping better. I take two a day. One Before breakfast and one before lunch. I think it is even helping my thinning hair. Just reordered.. So I had to write my own. I felt better almost right away! Better mood, more energy and even sleeping better. I take two a day. One Before breakfast and one before lunch. I think it is even helping my thinning hair. Just reordered.', u'The goods are well, packaging is also very carefully.Overall it is satisfied with the shopping experience.Hope that the child can like them.. The goods are well, packaging is also very carefully.Overall it is satisfied with the shopping experience.Hope that the child can like them.', u'very good product.. very good product.', u'great price. great price', u\"I am not a fan of alternative medicine nor do I attribute magical powers to nutrition, but after all the flap about Vitamin D lately, I decided to give this a try.It actually works, which is more than I can say for most prescription medicines I've dealt with. In a period of a few months, most of the minor maladies I'd been suffering from for years just went away. I was obviously suffering from a vitamin D deficiency.These seem like a pretty darn good value, too. I take one every other day, which means that this bottle lasts me a year. And they're tiny little things, as opposed to those calcium chokers that my doctor keeps pushing on me. Easy to swallow, and no discernable side effects.. I am not a fan of alternative medicine nor do I attribute magical powers to nutrition, but after all the flap about Vitamin D lately, I decided to give this a try.It actually works, which is more than I can say for most prescription medicines I've dealt with. In a period of a few months, most of the minor maladies I'd been suffering from for years just went away. I was obviously suffering from a vitamin D deficiency.These seem like a pretty darn good value, too. I take one every other day, which means that this bottle lasts me a year. And they're tiny little things, as opposed to those calcium chokers that my doctor keeps pushing on me. Easy to swallow, and no discernable side effects.\", u'This has helped me get on track to my ideal weight. I needed something that would help me as other types of weight loss pills that I tried did not work as I thought that they would. I can happily recommend this to anyone and know that it will help them as it has helped me.. This has helped me get on track to my ideal weight. I needed something that would help me as other types of weight loss pills that I tried did not work as I thought that they would. I can happily recommend this to anyone and know that it will help them as it has helped me.', u\"Great product, definitely works! Increased my rep max by 20 pounds on each lift. In one month of use I've put on a solid 15 pounds of body weight. No side effects and awesome results!!. Great product, definitely works! Increased my rep max by 20 pounds on each lift. In one month of use I've put on a solid 15 pounds of body weight. No side effects and awesome results!!\", u'I love this product. It gives me all of the omega 3 that my body needs without the risk of mercury that you get from taking fish capsules. Plus it comes in an easy to swallow pill that I can take twice a day.. I love this product. It gives me all of the omega 3 that my body needs without the risk of mercury that you get from taking fish capsules. Plus it comes in an easy to swallow pill that I can take twice a day.', u'works great. works great', u\"I've been taking the Nature's Bounty cinnamon for the past several years. I know for a fact the cinnamon has lowered my blood pressure.. I've been taking the Nature's Bounty cinnamon for the past several years. I know for a fact the cinnamon has lowered my blood pressure.\", u'Gr product!! I would recommend the product for purchase!! It has the highest amount of Garcinia Cambogia Formula in it!!. Gr product!! I would recommend the product for purchase!! It has the highest amount of Garcinia Cambogia Formula in it!!', u'Works good. Works good', u'This product really works. I am on my second bottle and getting ready to order again. I have lost 2 inches in my waist.. This product really works. I am on my second bottle and getting ready to order again. I have lost 2 inches in my waist.', u'I have to admit that I was not sure about ordering this product but my girlfriends kept sending me the link and telling me how this product really worked. I have to say that I am very happy with this product. It really does suppress your appetite even for the times when you may want to eat out of boredom. I also was very happy to not have any side effects that can be associated with diet pill type products. This pill is just like taking a daily vitamin with benefits. 65% HG. Now I am telling friends about this product.Thanks. I have to admit that I was not sure about ordering this product but my girlfriends kept sending me the link and telling me how this product really worked. I have to say that I am very happy with this product. It really does suppress your appetite even for the times when you may want to eat out of boredom. I also was very happy to not have any side effects that can be associated with diet pill type products. This pill is just like taking a daily vitamin with benefits. 65% HG. Now I am telling friends about this product.Thanks', u'I had previously purchase the 60% to prep for a recent beach vacation. Happy with the result, I tried 65% when my bottle ran out. Still happy customer. No side effects, low appetite, no caffeine high.. I had previously purchase the 60% to prep for a recent beach vacation. Happy with the result, I tried 65% when my bottle ran out. Still happy customer. No side effects, low appetite, no caffeine high.', u'I love this product, gives me energy and my appetite is little to none. Just wish the bottle was bigger...lol. I love this product, gives me energy and my appetite is little to none. Just wish the bottle was bigger...lol', u\"I'm taking a combination of B-12, B-6, and Folic Acid to try and combat my Diabetic Peripheral Neuropathy (DPN) as recommended by my Nurse Practitioner instead of the prescription medicine Metanyx (sp) which would not be covered by my drug plan because taking the three ingredients (as above) is so much cheaper.I feel it's really too soon to notice a difference yet, but I'm hopeful.. I'm taking a combination of B-12, B-6, and Folic Acid to try and combat my Diabetic Peripheral Neuropathy (DPN) as recommended by my Nurse Practitioner instead of the prescription medicine Metanyx (sp) which would not be covered by my drug plan because taking the three ingredients (as above) is so much cheaper.I feel it's really too soon to notice a difference yet, but I'm hopeful.\", u'This is a high quality Forskolin with great results. It took me a few days to start seeing results but when I started seeing this results it was fantastic. I lost about 4 pounds in my second week. This is the only brand I trust though.. This is a high quality Forskolin with great results. It took me a few days to start seeing results but when I started seeing this results it was fantastic. I lost about 4 pounds in my second week. This is the only brand I trust though.', u'I am 100% staying true to these babies here. They have done my body justice and I love to look in the mirror as I see just what they have done for me. I do not need or plan to take anything else just to take these and do light exercise with a healthy diet and I know that they will continue to do just what they have done in the past and that is to work!. I am 100% staying true to these babies here. They have done my body justice and I love to look in the mirror as I see just what they have done for me. I do not need or plan to take anything else just to take these and do light exercise with a healthy diet and I know that they will continue to do just what they have done in the past and that is to work!', u\"I gained a lot of weight after I moved to San Antonio and couldn't seem to take it back off. I started exercising more than I had for the past 7 years and still couldn't get it off. No matter how much or what I cut out of my diet, still no luck. I decided to try some the new things that Dr. Oz has been touting as the Holy grail of weight loss. I chose the nature wise products based on reviews. I ordered the cla 1250, raspberry ketone +, Garcinia Cambogia and the green bean extract 800. I took these religiously for 3 weeks( along with lots of bike riding) and didn't see much movement on the scale. On the 4th week however, I stepped on the scale and had lost 4.2 lbs. At first I thought the scale must be sitting on something to cause it to be that much lower. However, after moving the scale and checking it out, I stepped back on and got the same reading. I can't say if it was any one of the 4 particular products or the combination of all of them together, but I am definitely happy about the results and will continue on these. I am in the military and maintaining my weight is very important and I'm glad I found something that can help in that endeavour.. I gained a lot of weight after I moved to San Antonio and couldn't seem to take it back off. I started exercising more than I had for the past 7 years and still couldn't get it off. No matter how much or what I cut out of my diet, still no luck. I decided to try some the new things that Dr. Oz has been touting as the Holy grail of weight loss. I chose the nature wise products based on reviews. I ordered the cla 1250, raspberry ketone +, Garcinia Cambogia and the green bean extract 800. I took these religiously for 3 weeks( along with lots of bike riding) and didn't see much movement on the scale. On the 4th week however, I stepped on the scale and had lost 4.2 lbs. At first I thought the scale must be sitting on something to cause it to be that much lower. However, after moving the scale and checking it out, I stepped back on and got the same reading. I can't say if it was any one of the 4 particular products or the combination of all of them together, but I am definitely happy about the results and will continue on these. I am in the military and maintaining my weight is very important and I'm glad I found something that can help in that endeavour.\", u'perfect. perfect', u'I was nervous about taking Garcinia Cambodia, but one day I decided to take them. After a week went by I started losing weight. I lost about 6 lbs within the first week. I started drinking a lot of water, watching what I ate and exercising. This product really works.. I was nervous about taking Garcinia Cambodia, but one day I decided to take them. After a week went by I started losing weight. I lost about 6 lbs within the first week. I started drinking a lot of water, watching what I ate and exercising. This product really works.', u\"With my 3 little ones I've always been looking out for a good children's vitamin supplement, but my choices were basically limited to store brands like the gummy bears, Flintstones and chewables. They could do nothing more than attacking them as a sweet candy treat. Until all my friends around me start to join this company name Market America, they start to familiarize me with their products. I was very skeptical about all the magic things they claim their supplements can do, but I still decide to give this a try since it does not cost too much as the rest of their supplements. Who would imagine, not only does this powdered vitamin tastes extremely good (like a orange soda), after only one week use, I found significant difference in my kids! My older son who has behavior problems caused by calcium deficiency and very severe allergies, experience the most drastic change. No more watery itchy eyes and sneezes, he is more calm and self controllable. As for my 2nd son who is a very bad eater, he regains his appetite at dinner table, and could sleep soundly through the night without constantly waking up crying. They love their morning dose of the vitamin, and I become a believer of these Market America Isotonix supplements. I've tried 3 to 5 different vitamin supplements for myself and my husband, they work just as much the magic! For any one who want to keep their kids healthy, and to get rid of their behavior problem from the root caused by chemical imbalance, this is the BEST products in the market, period.. With my 3 little ones I've always been looking out for a good children's vitamin supplement, but my choices were basically limited to store brands like the gummy bears, Flintstones and chewables. They could do nothing more than attacking them as a sweet candy treat. Until all my friends around me start to join this company name Market America, they start to familiarize me with their products. I was very skeptical about all the magic things they claim their supplements can do, but I still decide to give this a try since it does not cost too much as the rest of their supplements. Who would imagine, not only does this powdered vitamin tastes extremely good (like a orange soda), after only one week use, I found significant difference in my kids! My older son who has behavior problems caused by calcium deficiency and very severe allergies, experience the most drastic change. No more watery itchy eyes and sneezes, he is more calm and self controllable. As for my 2nd son who is a very bad eater, he regains his appetite at dinner table, and could sleep soundly through the night without constantly waking up crying. They love their morning dose of the vitamin, and I become a believer of these Market America Isotonix supplements. I've tried 3 to 5 different vitamin supplements for myself and my husband, they work just as much the magic! For any one who want to keep their kids healthy, and to get rid of their behavior problem from the root caused by chemical imbalance, this is the BEST products in the market, period.\", u'I don&#8217;t believe in spending money on diet supplements because I feel that this things don&#8217;t really work. I felt that exercise alone is enough. My friend tried very hard to convince me to try Garcinia Cambogia. Since I see no harm and I got the supplement for free ( courtesy of my friend) . After 3 weeks I can say that this really works well with exercise and helps you lose a lot of weight. I have decided to order a bottle of my own and recommend this to my brother.. I don&#8217;t believe in spending money on diet supplements because I feel that this things don&#8217;t really work. I felt that exercise alone is enough. My friend tried very hard to convince me to try Garcinia Cambogia. Since I see no harm and I got the supplement for free ( courtesy of my friend) . After 3 weeks I can say that this really works well with exercise and helps you lose a lot of weight. I have decided to order a bottle of my own and recommend this to my brother.', u\"I was slowly losing weight until I started taking this. Then my loss went from 1 to 2 pounds a week to 3 to 4 pounds a week. I don't know if it's working so well on its own or if it's the combination of my other supplements, but I've lost 25 pounds in 2 months. I'm sure this had a big part in that loss. I'll buy this again until I reach my weight loss goal.. I was slowly losing weight until I started taking this. Then my loss went from 1 to 2 pounds a week to 3 to 4 pounds a week. I don't know if it's working so well on its own or if it's the combination of my other supplements, but I've lost 25 pounds in 2 months. I'm sure this had a big part in that loss. I'll buy this again until I reach my weight loss goal.\", u'I first heard about this on Dr. Oz and was interested in the mood leveling that 5-HTP was supposed to provide. I bought this product after sone more research and have been taking it for two weeks now. The change in my sleep has been remarkable My general level of anxiety has also been helped SO much - maybe because of the sleep. I am telling all of my friends about this I am so happy I tried it. I first heard about this on Dr. Oz and was interested in the mood leveling that 5-HTP was supposed to provide. I bought this product after sone more research and have been taking it for two weeks now. The change in my sleep has been remarkable My general level of anxiety has also been helped SO much - maybe because of the sleep. I am telling all of my friends about this I am so happy I tried it', u\"I've been using this product since February and I absolutely love it. Lost 10 pounds and looking to loose 50 more with this product.. I've been using this product since February and I absolutely love it. Lost 10 pounds and looking to loose 50 more with this product.\", u'GREAT PRODUCT. GREAT PRODUCT', u'Good product!. Good product!', u'These things are absolutely wonderful. Never been a fan of diets or exercise, and with these I dont need to, they give me that extra edge and fat burning that helps to lose weight. its been a slow process but i have lost 6 pant sizes and soon to move on to number 7, also went from a snug 5xl shirt to a very loose fitting 3xl shirt.. These things are absolutely wonderful. Never been a fan of diets or exercise, and with these I dont need to, they give me that extra edge and fat burning that helps to lose weight. its been a slow process but i have lost 6 pant sizes and soon to move on to number 7, also went from a snug 5xl shirt to a very loose fitting 3xl shirt.', u\"By far, this stuff works better than any other product I have ever tried. And believe me, I have tried them all - chaser, g-tox, drinkin mate,... Eliminates headaches the morning after and that crappy feeling. Before, I would wake up the next morning with a pounding headache and have to take 4 Advil's and some BC powder then wait for the awful pain to go away. Now I just take a couple of these about 3 drinks into my drinking and POW! I wake up feeling great ! BEST STUFF EVER !! I mean this stuff is so bad ass that there probably gonna make it illegal soon because that's what they do when something works so good and people like something a lot.. By far, this stuff works better than any other product I have ever tried. And believe me, I have tried them all - chaser, g-tox, drinkin mate,... Eliminates headaches the morning after and that crappy feeling. Before, I would wake up the next morning with a pounding headache and have to take 4 Advil's and some BC powder then wait for the awful pain to go away. Now I just take a couple of these about 3 drinks into my drinking and POW! I wake up feeling great ! BEST STUFF EVER !! I mean this stuff is so bad ass that there probably gonna make it illegal soon because that's what they do when something works so good and people like something a lot.\", u'i would surely recommend this product to anyone looking to lose weight and feel great. Im satisfied overall with this product.. i would surely recommend this product to anyone looking to lose weight and feel great. Im satisfied overall with this product.', u'Thanks.. Thanks.', u'good. good', u\"Product is great, shipping was great.This creatine doesn't seem to have a bad taste either...I used just a touch of crystal light and it went down no problem. Only been on the creatine for 2 days, so will review later for results.. Product is great, shipping was great.This creatine doesn't seem to have a bad taste either...I used just a touch of crystal light and it went down no problem. Only been on the creatine for 2 days, so will review later for results.\", u'Some of the main benefits of taking this supplement are; Aids in weight loss, Helps you stay sharp mentally, Gives you more energy, Allows for a good night&#8217;s sleep, Detoxifies and cleans the body inside and out, Improves digestion, Creates healthy, beautiful skin, Improves heart health, and Makes your immune system stronger. These benefits may vary by person and may take up to 90 days before seeing results. For me personally, I have experienced many of these benefits and would definitely recommend to anyone needing improvements in these areas.. Some of the main benefits of taking this supplement are; Aids in weight loss, Helps you stay sharp mentally, Gives you more energy, Allows for a good night&#8217;s sleep, Detoxifies and cleans the body inside and out, Improves digestion, Creates healthy, beautiful skin, Improves heart health, and Makes your immune system stronger. These benefits may vary by person and may take up to 90 days before seeing results. For me personally, I have experienced many of these benefits and would definitely recommend to anyone needing improvements in these areas.', u'This product does a great job in cutting the appetite. I highly recommend trying it. I purchased the single bottle in the past but now found the tripple bottle which is an even greater deal.. This product does a great job in cutting the appetite. I highly recommend trying it. I purchased the single bottle in the past but now found the tripple bottle which is an even greater deal.', u'I bought this product in march with hopes of of loosing some weight by my wedding in august. I am already a healthy eater and I exercise once a day on a daily basis but for some stupid reason I was not loosing weight. I decided to try this because it is all every one talks about. This product works great and I am down 21 lbs. Will buy again to continue to loose weight. No side affects and it helps you not be hungry. Thanks.. I bought this product in march with hopes of of loosing some weight by my wedding in august. I am already a healthy eater and I exercise once a day on a daily basis but for some stupid reason I was not loosing weight. I decided to try this because it is all every one talks about. This product works great and I am down 21 lbs. Will buy again to continue to loose weight. No side affects and it helps you not be hungry. Thanks.', u'Very good.. Very good.', u'This product is wonderful, I will continue using Pure Garcinia Cambodia Extract until my mission accomplished. This is the real deal.... This product is wonderful, I will continue using Pure Garcinia Cambodia Extract until my mission accomplished. This is the real deal...', u'i thought garcinia cambogia was another diet gimmick. I hit a plateau on my diet and exercise program and was willing to try something to get me over the &#34;hump&#34;. The product has good reviews so i gave it a try. 18lbs in 2 months so far.. i thought garcinia cambogia was another diet gimmick. I hit a plateau on my diet and exercise program and was willing to try something to get me over the &#34;hump&#34;. The product has good reviews so i gave it a try. 18lbs in 2 months so far.', u'I drink this stuff every morning, it gives me energy and makes me feel fuller, longer. This is a must have in my kitchen from now on. The only downside is the price, but to me it is worth it! They have a few other products by Youngevity that I like too. It blows any airborne or any other Vit C supp out of the water, hands down!. I drink this stuff every morning, it gives me energy and makes me feel fuller, longer. This is a must have in my kitchen from now on. The only downside is the price, but to me it is worth it! They have a few other products by Youngevity that I like too. It blows any airborne or any other Vit C supp out of the water, hands down!', u\"Honestly it's the first creatine I've ever taken, but I don't think I'm going to ever change to another one anyways. First off make sure your drinking enough water, cause your going to cramp! Also no bloating or a thirst drive at all, and after only two weeks I've seen results fast! It's pretty amazing, usually when I warm up on plates I push out 13-14 reps, but this made me push out 20 no problem. Also the weight I usually lift has gone up dramatically. My recovery has also speed up, I don't if it has to do with being a teenager or something but this creatine is really effective.. Honestly it's the first creatine I've ever taken, but I don't think I'm going to ever change to another one anyways. First off make sure your drinking enough water, cause your going to cramp! Also no bloating or a thirst drive at all, and after only two weeks I've seen results fast! It's pretty amazing, usually when I warm up on plates I push out 13-14 reps, but this made me push out 20 no problem. Also the weight I usually lift has gone up dramatically. My recovery has also speed up, I don't if it has to do with being a teenager or something but this creatine is really effective.\", u'I took this supplement and got my body fat from 12% down to 3%. this stuff really works and i highly recommend it to anyone looking for real results!!!. I took this supplement and got my body fat from 12% down to 3%. this stuff really works and i highly recommend it to anyone looking for real results!!!', u'Returned this item. Not able to review. Ordered fro some burns I had, but found a cream with everything pre mixed.. Returned this item. Not able to review. Ordered fro some burns I had, but found a cream with everything pre mixed.', u'received it within 4 days of placing order. I bought one for my daughter as well who recommended this for controlling weight. Feeling the results already, Lost 1 pound in 3 days. Will be continuously ordering this product from you.. received it within 4 days of placing order. I bought one for my daughter as well who recommended this for controlling weight. Feeling the results already, Lost 1 pound in 3 days. Will be continuously ordering this product from you.', u'Thank you.. Thank you.', u'It has helped me eat less and makes me feel full. I have only used it for a week but I hope to see progress with these pills.. It has helped me eat less and makes me feel full. I have only used it for a week but I hope to see progress with these pills.', u\"I do rigorous exercise and a healthy diet but with these ketones I lose twice to triple the weight. I have lost 50 pounds so far but the weight started MELTING off when I started the pills. I'm not into gimmicks - and this is no gimmick. I love this product!. I do rigorous exercise and a healthy diet but with these ketones I lose twice to triple the weight. I have lost 50 pounds so far but the weight started MELTING off when I started the pills. I'm not into gimmicks - and this is no gimmick. I love this product!\", u'The product has really helped me pass the first semester of university. It helped me focus really well in my morning classes and it really does improve memories. It is a great product and it really replaces the .99 cent coffee every morning to help me wake up and concentrate. The product has really helped me pass the first semester of university. It helped me focus really well in my morning classes and it really does improve memories. It is a great product and it really replaces the .99 cent coffee every morning to help me wake up and concentrate', u'i have no idea what the other reviewer is talking about, this stuff is amazing. i was 50 pounds overweight from my second pregcy. i started taking this because i am a stress eater. i eat whenevr i am stressed and i think about food constantly. i started taking this 2 caps 15 mins before breakfast and again at lunch. total 4 caps a day. not only did it make me eat less, i had to remind myself to eat something. i went from constantly thinking about food to forgetting about food all together. i lost 15 pounds in a month! and all i did for exercise is 150 crunches a day to help with the baby pouch. i am at the beginning of my second month taking these and love them. i highly recommend these and all the jillian michaels diet suppliments!. i have no idea what the other reviewer is talking about, this stuff is amazing. i was 50 pounds overweight from my second pregcy. i started taking this because i am a stress eater. i eat whenevr i am stressed and i think about food constantly. i started taking this 2 caps 15 mins before breakfast and again at lunch. total 4 caps a day. not only did it make me eat less, i had to remind myself to eat something. i went from constantly thinking about food to forgetting about food all together. i lost 15 pounds in a month! and all i did for exercise is 150 crunches a day to help with the baby pouch. i am at the beginning of my second month taking these and love them. i highly recommend these and all the jillian michaels diet suppliments!', u'I think this product is helping. I am losing weight but I am dieting and exercising as well. I think it is worth the investment.. I think this product is helping. I am losing weight but I am dieting and exercising as well. I think it is worth the investment.', u'love them. love them', u\"Finally we have an option for a drug free product that is clinically tested and even has a patent issued showing us what it is going to help (just do a quick search for the patent number 8110229 on Google's patent search [...] It's everything we're looking for, I'm focused, calm, and more productive.. Finally we have an option for a drug free product that is clinically tested and even has a patent issued showing us what it is going to help (just do a quick search for the patent number 8110229 on Google's patent search [...] It's everything we're looking for, I'm focused, calm, and more productive.\", u\"I've been taking this along with Naturewise raspberry ketones and their green coffee bean extract for about a month. I've lost 5 pounds taking all of them together, plus I've been exercising some. I've switched dosing. I started out taking 2 of each (6 total pills) before every meal. I did that for about 2 weeks, then I went to 1 of each before every meal. I notice the same effect with less dosing....not as hungry, getting full before I finish the meal, and much better digestion, i.e. going to the bathroom. I also don't think about snacking as much between meals, which has been a big problem for me. I feel like I've lost more than 5 pounds because my clothes fit so much better; I think I've lost mostly fat and not muscle. Very happy!!. I've been taking this along with Naturewise raspberry ketones and their green coffee bean extract for about a month. I've lost 5 pounds taking all of them together, plus I've been exercising some. I've switched dosing. I started out taking 2 of each (6 total pills) before every meal. I did that for about 2 weeks, then I went to 1 of each before every meal. I notice the same effect with less dosing....not as hungry, getting full before I finish the meal, and much better digestion, i.e. going to the bathroom. I also don't think about snacking as much between meals, which has been a big problem for me. I feel like I've lost more than 5 pounds because my clothes fit so much better; I think I've lost mostly fat and not muscle. Very happy!!\", u'I like it. I like it', u\"Awesome product! Within 1 week, I lost 4 pounds! Due to my early success with Garcinia Cambogia, my mother-in-law ordered some too, and now we've both joined efforts to drop some pounds. : ). Awesome product! Within 1 week, I lost 4 pounds! Due to my early success with Garcinia Cambogia, my mother-in-law ordered some too, and now we've both joined efforts to drop some pounds. : )\", u'love it. love it', u'I have tried several weight management products, this is far the best. I take one in the morning and one 30 minutes before dinner. I have been taking this product for a little over a month, on my second bottle and it has cured my craving for snacking all day. I have noticed since taking this product that my \"love handles\" are getting smaller and my clothes are more comfortable. I would recommend this product to anyone that is trying to lose weight.. I have tried several weight management products, this is far the best. I take one in the morning and one 30 minutes before dinner. I have been taking this product for a little over a month, on my second bottle and it has cured my craving for snacking all day. I have noticed since taking this product that my \"love handles\" are getting smaller and my clothes are more comfortable. I would recommend this product to anyone that is trying to lose weight.', u'Love this product. Love this product', u\"I've been taking this product for rheumatoid arthritis and am seeing very good results. Swelling & stiffness is decreased by probably 50% after less than a week being on it. In addition, I feel better overall, have more energy and vitality. I'd highly recommend it to anyone with any issues with inflammation.. I've been taking this product for rheumatoid arthritis and am seeing very good results. Swelling & stiffness is decreased by probably 50% after less than a week being on it. In addition, I feel better overall, have more energy and vitality. I'd highly recommend it to anyone with any issues with inflammation.\", u'Good stuff. Good stuff', u'very satisfied. very satisfied', u\"Delivered my first child via C-Section 5 months ago and have had a hard time losing baby weight. These have been a life saver. They do not give me any negative side effects and don't take away my hunger completely. I am able to stick to a strict diet now and the pounds are coming off FINALLY!! I have recommended these to everyone I know and even purchased some for my mom!. Delivered my first child via C-Section 5 months ago and have had a hard time losing baby weight. These have been a life saver. They do not give me any negative side effects and don't take away my hunger completely. I am able to stick to a strict diet now and the pounds are coming off FINALLY!! I have recommended these to everyone I know and even purchased some for my mom!\", u'good product. good product', u'This was recommended to me by a nutritionist. I have one first thing in the morning and then again late afternoon. I was having trouble managing my meals. I was always skipping breakfast and eating bad snacks in the afternoon. Now, having a shake in the morning really helps me get going and then I eat a healthy breakfast. Then in the afternoon it is the perfect time to help out with my hunger pangs and low blood sugar. It is a little expensive... but I think it is worth it.. This was recommended to me by a nutritionist. I have one first thing in the morning and then again late afternoon. I was having trouble managing my meals. I was always skipping breakfast and eating bad snacks in the afternoon. Now, having a shake in the morning really helps me get going and then I eat a healthy breakfast. Then in the afternoon it is the perfect time to help out with my hunger pangs and low blood sugar. It is a little expensive... but I think it is worth it.', u'I found this to be a really great product. I also was skeptical at first but I a m really happy I followed bought it. I would definitely recommend it to others, a very happy purchase.. I found this to be a really great product. I also was skeptical at first but I a m really happy I followed bought it. I would definitely recommend it to others, a very happy purchase.', u'Very good price.. Very good price.', u'Great quality product and great price. I like this product because it has Svetol and No Fillers and 800mg per serving. Thanks. Great quality product and great price. I like this product because it has Svetol and No Fillers and 800mg per serving. Thanks', u'No stomach upset. This is the brand that Costco sells behind the pharmacy counter. I have used the brand before and have been generally pleased.These pills are green and moderately large. However, the coating makes them easier to swallow. They smell like alfalfa to me, I suppose that is the green food.I like that the vitamins are derived from foods and not some chemical voodoo mixture. It makes me feel better about them.This seems to be a high quality, fairly priced product.. No stomach upset. This is the brand that Costco sells behind the pharmacy counter. I have used the brand before and have been generally pleased.These pills are green and moderately large. However, the coating makes them easier to swallow. They smell like alfalfa to me, I suppose that is the green food.I like that the vitamins are derived from foods and not some chemical voodoo mixture. It makes me feel better about them.This seems to be a high quality, fairly priced product.', u\"I really love this brand of vitamins. They're packaged well, nice bottles, pills are well made and they work great.. I really love this brand of vitamins. They're packaged well, nice bottles, pills are well made and they work great.\", u\"I have a hard time sleeping and when I do sleep, it's not a restful sleep. I had been on Ambien and while I LOVE Ambien, when it put me to sleep, I'd sleep so deeply that I was unable to hear my 2 and 3 year old at night if they woke up crying. Didn't like that - I need to be able to wake up for my children. I tried Melissa and I LOVE IT. It gradually makes you sleepy and it is a restful sleep. I am also able to awaken if my children need me at night. In the morning you don't feel tired. The wonderful thing about Melissa was that the next night, while I didn't take any pills, I slept wonderfully. So I generally take this once to every two/three nights and I sleep great. Glad I found it and it's worth the money.. I have a hard time sleeping and when I do sleep, it's not a restful sleep. I had been on Ambien and while I LOVE Ambien, when it put me to sleep, I'd sleep so deeply that I was unable to hear my 2 and 3 year old at night if they woke up crying. Didn't like that - I need to be able to wake up for my children. I tried Melissa and I LOVE IT. It gradually makes you sleepy and it is a restful sleep. I am also able to awaken if my children need me at night. In the morning you don't feel tired. The wonderful thing about Melissa was that the next night, while I didn't take any pills, I slept wonderfully. So I generally take this once to every two/three nights and I sleep great. Glad I found it and it's worth the money.\", u'Perfect.. Perfect.', u'Great buy.. Great buy.', u\"I am moving up on my goal list I have yet to reach my ultimate goal but each time I reach another weight loss goal I know that I am getting so much closer to that goal. I couldn't be happier. I have more energy, I found something that really works, and I am losing the excess weight, a win all around for me.. I am moving up on my goal list I have yet to reach my ultimate goal but each time I reach another weight loss goal I know that I am getting so much closer to that goal. I couldn't be happier. I have more energy, I found something that really works, and I am losing the excess weight, a win all around for me.\", u'This product is accurately advertised and is a good value for the price. I have only taken the product for a short time (less than one week), but have noticed an immediate improvement in my energy levels and mood, as well as decreased appetite/lessening of food cravings. I will continue to purchase to this product.. This product is accurately advertised and is a good value for the price. I have only taken the product for a short time (less than one week), but have noticed an immediate improvement in my energy levels and mood, as well as decreased appetite/lessening of food cravings. I will continue to purchase to this product.', u\"This is one of the safest supplements on the planet to aid in fat loss. In a nut shell it slows down fat absorption, makes your body use more of your fat for energy and helps add lean muscle. What most people don't realize is CLA can be derived from sunflower and safflower. Safflower is superior. It will give you 80% vs. 40% for sunflower. So 1250 mg of safflower oil will give you 1000mg of CLA. This is one of the best out their. Now taking this and not exercising will achieve minimal, if any results. If you are already hitting the gym you will see great results. Diet is a factor as well. The best part is it is safe.. This is one of the safest supplements on the planet to aid in fat loss. In a nut shell it slows down fat absorption, makes your body use more of your fat for energy and helps add lean muscle. What most people don't realize is CLA can be derived from sunflower and safflower. Safflower is superior. It will give you 80% vs. 40% for sunflower. So 1250 mg of safflower oil will give you 1000mg of CLA. This is one of the best out their. Now taking this and not exercising will achieve minimal, if any results. If you are already hitting the gym you will see great results. Diet is a factor as well. The best part is it is safe.\", u\"I'm a fan of Garciani Cambogia and this strong dosage is easy to take and is working wonderfully. within 2 weeks my pants were already lose, and not much of exercise yet was involved. I'm a fan of Garciani Cambogia and this strong dosage is easy to take and is working wonderfully. within 2 weeks my pants were already lose, and not much of exercise yet was involved\", u'excelente producto. excelente producto', u'Great supplement!. Great supplement!', u'It works very well to provide me with the reliable source of fiber that I need on a daily basis.. It works very well to provide me with the reliable source of fiber that I need on a daily basis.', u\"This product is amazing! I love the way it makes me feel. It doesn't make me jittery, sick to my stomach or make me feel drowsy. It gives me so much energy! If your looking for a quick way to lose weight i suggest hitting the gym along with dieting and taking these pills. But everything does take time and I'm loving my results I've been getting so far! This is a must buy product!. This product is amazing! I love the way it makes me feel. It doesn't make me jittery, sick to my stomach or make me feel drowsy. It gives me so much energy! If your looking for a quick way to lose weight i suggest hitting the gym along with dieting and taking these pills. But everything does take time and I'm loving my results I've been getting so far! This is a must buy product!\", u'Fantastic!. Fantastic!', u'I love this. I have lost 15 lbs and counting. I am not hungry all the time and I have more energy than before. I would advise anyone to try this. It worked great for me. Will buy again.. I love this. I have lost 15 lbs and counting. I am not hungry all the time and I have more energy than before. I would advise anyone to try this. It worked great for me. Will buy again.', u'really works. really works', u\"My family have been taking this for over 3 years. My skin gets better, my mom's dark spots are gone and my aunt's knee feels better. Thank you. :-). My family have been taking this for over 3 years. My skin gets better, my mom's dark spots are gone and my aunt's knee feels better. Thank you. :-)\", u\"I take a daily dose and then up the ante whenever I feel a cold coming on. It works like a charm. My favorite is drinking it in a tea style with hot water, fresh lemon and honey while taking a hot, steamy bath. It opens up my sinuses and soothes my sore throat.Plus, I'm supporting a business with good practices.. Everything is (soon to be certified) organic.. They believe in environmentally friendly practices and are striving towards a sustainable culture within their community. If only more businesses were like that... I take a daily dose and then up the ante whenever I feel a cold coming on. It works like a charm. My favorite is drinking it in a tea style with hot water, fresh lemon and honey while taking a hot, steamy bath. It opens up my sinuses and soothes my sore throat.Plus, I'm supporting a business with good practices.. Everything is (soon to be certified) organic.. They believe in environmentally friendly practices and are striving towards a sustainable culture within their community. If only more businesses were like that..\", u'Highly recommend. Highly recommend', u'Great vitamins. Great vitamins', u\"It is really strong. It's a pretty good product. Does seem to help with my energy and helps keep the weight down. I still need to cut back on carbs, gluten, and sugars. But in combination with a good diet I have seen it help me lose more weight than on my own. I have lost about 3 pounds. Which is way better than I do on my own.. It is really strong. It's a pretty good product. Does seem to help with my energy and helps keep the weight down. I still need to cut back on carbs, gluten, and sugars. But in combination with a good diet I have seen it help me lose more weight than on my own. I have lost about 3 pounds. Which is way better than I do on my own.\", u'I am 30 pounds overweight and battling some hormonal issues preventing me from being consistent on anything - exercise, sleep - you name it. But with using these pills, I am curbing my appetite naturally which has resulted in initial weight loss - encouraging! I just have to stay consistent with taking these!. I am 30 pounds overweight and battling some hormonal issues preventing me from being consistent on anything - exercise, sleep - you name it. But with using these pills, I am curbing my appetite naturally which has resulted in initial weight loss - encouraging! I just have to stay consistent with taking these!', u'I purchased this just last week. I take this every day and it has really helped with my cravings and I find myself not eating as much. I would recommend this to anybody looking to help boost their weight loss. Finally my search of a good weight loss supplement has come to an end.. I purchased this just last week. I take this every day and it has really helped with my cravings and I find myself not eating as much. I would recommend this to anybody looking to help boost their weight loss. Finally my search of a good weight loss supplement has come to an end.', u'I love the product I helped to curb my appetite and loose at least 5 pounds so far and I will buy this product again for sure!. I love the product I helped to curb my appetite and loose at least 5 pounds so far and I will buy this product again for sure!', u\"It has been shown since the early 1900s that taking higher doses of vitamin C is a key to great health and fighting off diseases. Try it and you'll feel better and have less down time. These arrived on time and were a great cost!. It has been shown since the early 1900s that taking higher doses of vitamin C is a key to great health and fighting off diseases. Try it and you'll feel better and have less down time. These arrived on time and were a great cost!\", u'Great!!!. Great!!!', u'Excelent. Excelent', u'This is the best!. This is the best!', u'What more could I do other than watch the results that my Garcinia Cambogia gave me. I have watched as I went down in size and so did my appetite. The only thing that I have noticed that has increased is my metabolism and I love it. I love my newer improved look and I plan on keeping it!. What more could I do other than watch the results that my Garcinia Cambogia gave me. I have watched as I went down in size and so did my appetite. The only thing that I have noticed that has increased is my metabolism and I love it. I love my newer improved look and I plan on keeping it!', u'I wanted to keep off the pounds I had recently lost; and after researching different products, I decided to give the garcinia cambogia a try. I was pleasantly surprised by the results: definitely would recommend!!. I wanted to keep off the pounds I had recently lost; and after researching different products, I decided to give the garcinia cambogia a try. I was pleasantly surprised by the results: definitely would recommend!!', u'very good. very good', u\"Our doctor told my husband to take these for his heart. We have priced these in several locations and found that this was the most cost effective place to purchase these. They work great, don't cause indigestion or stomach upset for my husband. I would recommend them and we will continue to purchase them.. Our doctor told my husband to take these for his heart. We have priced these in several locations and found that this was the most cost effective place to purchase these. They work great, don't cause indigestion or stomach upset for my husband. I would recommend them and we will continue to purchase them.\", u\"On the second day I really noticed the difference in my appetite. I wasn't hungry and actually felt like I had more energy. I now wish I had bought a year's supply when it was cheaper. Anyway, I've lost a 6 pounds so far, and very happy. Garcinia is excellent.. On the second day I really noticed the difference in my appetite. I wasn't hungry and actually felt like I had more energy. I now wish I had bought a year's supply when it was cheaper. Anyway, I've lost a 6 pounds so far, and very happy. Garcinia is excellent.\", u'A lot of people asked me this since I have started taking these even some of the others who I happen to talk to just for casual conversation and I tell them the same thing over and over Garcinia is effective as it has worked for me, but I think that it is due to them being mishandled and people simply not doing what they are told to do, so they tend to not have results or as good of results as I have ,but if they take them like they are told they would see just how good these supplements really are.. A lot of people asked me this since I have started taking these even some of the others who I happen to talk to just for casual conversation and I tell them the same thing over and over Garcinia is effective as it has worked for me, but I think that it is due to them being mishandled and people simply not doing what they are told to do, so they tend to not have results or as good of results as I have ,but if they take them like they are told they would see just how good these supplements really are.', u'Works great.. Works great.', u'I have been taking Garcinia for a few weeks now and I am seeing results so that is my number one thing. My second thing is that since I have been taking them I have not had any negative side effects and I can continue with my normal schedule each day.. I have been taking Garcinia for a few weeks now and I am seeing results so that is my number one thing. My second thing is that since I have been taking them I have not had any negative side effects and I can continue with my normal schedule each day.', u\"As with all weight loss supplements, I was skeptical when I ordered the Garcinia Cambogia Extract. I was really excited to try this one though because it's all natural, which is something that is extremely important to me. I do not work out as much as I should and my diet has not always been the greatest. I always had trouble losing weight because of my food cravings. I would overeat a lot and I always felt hungry. I did a lot of research on Garcinia Cambogia Extract so I had really high hopes for this supplement.I have to say, the first month I took the supplement, I was disappointed with the results. I honestly expected to lose more weight than I did. I definitely did notice a significant reduction in my food cravings though. I wanted to see what month two of taking this supplement would bring, so I continued taking them. Month two was definitely a lot better and I lost more weight than I expected. I was definitely impressed!I now feel like I am full of energy all the time, I feel happier, I no longer overeat, and I don't have food cravings like I used to. I am much more confident than I have ever been before. I know that supplements work differently for everyone, so if you do not experience weight loss right away, don't give up! Some people lose weight every week, but if you do not have the results you expected, it's important to continue taking them. I know that I was really glad that I did not give up on taking them.When it comes to losing weight, natural supplements are the way to go. There are so many products on the market these days that all claim to be the next miracle weight loss drug. It's important to research anything you plan on taking and choose something safe and natural like this supplement.. As with all weight loss supplements, I was skeptical when I ordered the Garcinia Cambogia Extract. I was really excited to try this one though because it's all natural, which is something that is extremely important to me. I do not work out as much as I should and my diet has not always been the greatest. I always had trouble losing weight because of my food cravings. I would overeat a lot and I always felt hungry. I did a lot of research on Garcinia Cambogia Extract so I had really high hopes for this supplement.I have to say, the first month I took the supplement, I was disappointed with the results. I honestly expected to lose more weight than I did. I definitely did notice a significant reduction in my food cravings though. I wanted to see what month two of taking this supplement would bring, so I continued taking them. Month two was definitely a lot better and I lost more weight than I expected. I was definitely impressed!I now feel like I am full of energy all the time, I feel happier, I no longer overeat, and I don't have food cravings like I used to. I am much more confident than I have ever been before. I know that supplements work differently for everyone, so if you do not experience weight loss right away, don't give up! Some people lose weight every week, but if you do not have the results you expected, it's important to continue taking them. I know that I was really glad that I did not give up on taking them.When it comes to losing weight, natural supplements are the way to go. There are so many products on the market these days that all claim to be the next miracle weight loss drug. It's important to research anything you plan on taking and choose something safe and natural like this supplement.\", u'Great service and product!. Great service and product!', u'This product is exactly as promised. It has helped me to lose inches from my waist and upper thighs. Not a lot of weight loss, but my appetite is supressed and the inches are coming off. Love what it has done so far!. This product is exactly as promised. It has helped me to lose inches from my waist and upper thighs. Not a lot of weight loss, but my appetite is supressed and the inches are coming off. Love what it has done so far!', u'I saw this product recommended on Dr. Oz. Tried it and completely agree, this is a great product. Strongly suggest.. I saw this product recommended on Dr. Oz. Tried it and completely agree, this is a great product. Strongly suggest.', u'Since losing weight and not being clinically obese anymore I have not only gained more confidence in myself but I have gained confidence in who I am not to mention I have had a better time going out shopping and dating. Garcinia Cambogia has ultimately changed my life for the better! I am nothing but smiles now!. Since losing weight and not being clinically obese anymore I have not only gained more confidence in myself but I have gained confidence in who I am not to mention I have had a better time going out shopping and dating. Garcinia Cambogia has ultimately changed my life for the better! I am nothing but smiles now!', u'I am taking Raspberry Ketones in combination with Green Coffee Bean 800 for 6 weeks. I love how I feel. I have lost 10 lbs so far. The products give me good energy without any side effects. I exercise 4-5 days a week and eat healthy. I think that ketones and coffee bean extract help me to exercise on a regular basis and decrease my appetite especially after 6 pm. In order to get good results, you have to do the work. It is not some magical pill that will do everything for you. It will greatly assist you in losing weight but only if you really do your part like moving and eating as healthy as possible. Overall, I am very happy that I started using NatureWise products. Also, call them and they will send you free bottle.. I am taking Raspberry Ketones in combination with Green Coffee Bean 800 for 6 weeks. I love how I feel. I have lost 10 lbs so far. The products give me good energy without any side effects. I exercise 4-5 days a week and eat healthy. I think that ketones and coffee bean extract help me to exercise on a regular basis and decrease my appetite especially after 6 pm. In order to get good results, you have to do the work. It is not some magical pill that will do everything for you. It will greatly assist you in losing weight but only if you really do your part like moving and eating as healthy as possible. Overall, I am very happy that I started using NatureWise products. Also, call them and they will send you free bottle.', u'I bought a bottle last month for my wife and the results are amazing. No side effects at all. The shipping was speedy and so are the results. R. Rich. I bought a bottle last month for my wife and the results are amazing. No side effects at all. The shipping was speedy and so are the results. R. Rich', u'Great stuff.. Great stuff.', u\"I only had to lose about 10-15 pounds and became very discouraged after not having weight loss any results the first few weeks. But all of the sudden in week 4, I dropped FIVE pounds. It really does work!!! It just takes time since it's an all natural product to get in your system. If you're not seeing results yet, DON'T GIVE UP!! I will recommend to all my friends and family.. I only had to lose about 10-15 pounds and became very discouraged after not having weight loss any results the first few weeks. But all of the sudden in week 4, I dropped FIVE pounds. It really does work!!! It just takes time since it's an all natural product to get in your system. If you're not seeing results yet, DON'T GIVE UP!! I will recommend to all my friends and family.\", u\"I've been using Ubervita products for several months. Based on my experience, they all work great. You won't be disappointed.. I've been using Ubervita products for several months. Based on my experience, they all work great. You won't be disappointed.\", u\"This product does what the advertizers says it has helped me tremendously I don't have uncontrolled craveings any more I don't get hungry infact I could live on very little food but I eat like I should I've lost five pounds in less than three weeks my husband has lost a lot more we love it and I would recommend this product to everyone who needs to lose weight. This product does what the advertizers says it has helped me tremendously I don't have uncontrolled craveings any more I don't get hungry infact I could live on very little food but I eat like I should I've lost five pounds in less than three weeks my husband has lost a lot more we love it and I would recommend this product to everyone who needs to lose weight\", u'quality product. quality product', u'ok. ok', u'Very good Brand.My kids love the taste. We use this brand for a few years along with other vitamins : First defence and Multivitamins. Very good Brand.My kids love the taste. We use this brand for a few years along with other vitamins : First defence and Multivitamins', u\"I have been taking these for almost a week and I have noticed that my energy level is up. Haven't noticed much weight loss yet, but I have noticed that if I feel hungry shortly after eating I just drink a glass of water and I feel full again. I have been taking these for almost a week and I have noticed that my energy level is up. Haven't noticed much weight loss yet, but I have noticed that if I feel hungry shortly after eating I just drink a glass of water and I feel full again\", u'Great price. Great price', u'Nice product!. Nice product!', u\"I&#8217;ve been keen to try Garcinia ever since I heard about it on the Dr Oz show. I researched Google and Amazon to try and see which was one was best, and the Naturenetics product ticks all the boxes &#8211; 60% HCA, no fillers and 180 capsules, plus they are vegetarian. I've only taken it for four days but I've lost 2 pounds and I'm so excited! I'm not expecting the weight loss to continue so drastically but this product has finally helped me get off the plateau I've been on for years now, without feeling any icky side effects - just a reduced appetite! Looking forward to seeing what happens going forward..... I&#8217;ve been keen to try Garcinia ever since I heard about it on the Dr Oz show. I researched Google and Amazon to try and see which was one was best, and the Naturenetics product ticks all the boxes &#8211; 60% HCA, no fillers and 180 capsules, plus they are vegetarian. I've only taken it for four days but I've lost 2 pounds and I'm so excited! I'm not expecting the weight loss to continue so drastically but this product has finally helped me get off the plateau I've been on for years now, without feeling any icky side effects - just a reduced appetite! Looking forward to seeing what happens going forward....\", u'Love this stuff!. Love this stuff!', u'This item shipped quickly, and I was very pleased to find a whole food supplement at such a great price!. This item shipped quickly, and I was very pleased to find a whole food supplement at such a great price!', u'I absolutely love the Skinny Jane Kit! The Vanilla is my favorite flavor for the shakes, it seems to go with everything. I have lost 19 pounds so far!. I absolutely love the Skinny Jane Kit! The Vanilla is my favorite flavor for the shakes, it seems to go with everything. I have lost 19 pounds so far!', u'fine. fine', u'Excellent product!!!. Excellent product!!!', u'I have been looking to lose the last couple of pounds from my belly and nothing seemed to be working. I had read about positive results from this product and decided to try this. I have been using this for 4 weeks and have lost 6 pounds. Now I love looking myself in mirror as I look slimmer.. I have been looking to lose the last couple of pounds from my belly and nothing seemed to be working. I had read about positive results from this product and decided to try this. I have been using this for 4 weeks and have lost 6 pounds. Now I love looking myself in mirror as I look slimmer.', u'Garcinia has increased my metabolism and lowered my appetite along with I have slept better since I have been taking them maybe it is just me but I have woken happier than I have in a while and I have more energy to go about my everyday tasks. It is so much better to have just the good of an item and nothing bad it is great!. Garcinia has increased my metabolism and lowered my appetite along with I have slept better since I have been taking them maybe it is just me but I have woken happier than I have in a while and I have more energy to go about my everyday tasks. It is so much better to have just the good of an item and nothing bad it is great!', u'My girlfriend lost weight by taking it twice daily and following the directions to drink a big glass of water with each pill. Now all her friends want some.. My girlfriend lost weight by taking it twice daily and following the directions to drink a big glass of water with each pill. Now all her friends want some.', u'I have tried numerous weight loss products for the purpose of gradual and minimal weight loss. This product has increased my energy and output. It has assisted in trimmed the needed punds to form my body the way i needed it to. I am very impressed with this product.. I have tried numerous weight loss products for the purpose of gradual and minimal weight loss. This product has increased my energy and output. It has assisted in trimmed the needed punds to form my body the way i needed it to. I am very impressed with this product.', u'Good product.. Good product.', u'Very good. Very good', u'great product. great product', u'I needed a weight loss supplement which would allow me to burn off few extra pounds around my waist and belly. I tried this product and it has been melting that fat around my waist and belly. It seems like an easy solution to my problem and perhaps yours as well.. I needed a weight loss supplement which would allow me to burn off few extra pounds around my waist and belly. I tried this product and it has been melting that fat around my waist and belly. It seems like an easy solution to my problem and perhaps yours as well.', u'Great product and service!. Great product and service!', u\"NatureWise Garcinia Cambogia along with their Raspberry Ketones is a great combo. I take 3 Garcinia Cambogia pills at least 30 mins prior to eating my breakfast lunch and dinner. I take 1 Raspberry Ketone in the morning and one with dinner. I have been taking them a lil over 3 weeks and have already dropped 13 lbs. I wouldn't say I am on a diet but just making healthier choices when it comes to what I eat. I try to exercise at least 2-3 times a week. These pills keep me feeling full longer and curb my junk food cravings. Yes the capsules are huge but the outcome is worth it. My son is now 6 months old and they have helped me get rid of my baby weight. I just recently called the customer service dept and my free bottles came within a couple of days. Their customer service is excellent, very friendly. I was able to get my free bottles plus get my mother hers all in the same call. I would definitely recommend this product.. NatureWise Garcinia Cambogia along with their Raspberry Ketones is a great combo. I take 3 Garcinia Cambogia pills at least 30 mins prior to eating my breakfast lunch and dinner. I take 1 Raspberry Ketone in the morning and one with dinner. I have been taking them a lil over 3 weeks and have already dropped 13 lbs. I wouldn't say I am on a diet but just making healthier choices when it comes to what I eat. I try to exercise at least 2-3 times a week. These pills keep me feeling full longer and curb my junk food cravings. Yes the capsules are huge but the outcome is worth it. My son is now 6 months old and they have helped me get rid of my baby weight. I just recently called the customer service dept and my free bottles came within a couple of days. Their customer service is excellent, very friendly. I was able to get my free bottles plus get my mother hers all in the same call. I would definitely recommend this product.\", u\"I can't tell enough how much I enjoy this product.I can tell for sure the difference after I ran out .The bright yellow urine is nothing to worry about.. I can't tell enough how much I enjoy this product.I can tell for sure the difference after I ran out .The bright yellow urine is nothing to worry about.\", u'excellent product. excellent product', u'GOOD PRODUCT. GOOD PRODUCT', u'I only want to lose 10 pounds. I started it 12 days ago and have lost 3 pounds. My loss is not dramatic, but I eat much less. I am very confident that it will help me lose the 10 pounds with the result so far.. I only want to lose 10 pounds. I started it 12 days ago and have lost 3 pounds. My loss is not dramatic, but I eat much less. I am very confident that it will help me lose the 10 pounds with the result so far.', u'I am a mechanical contractor who is on the go all the time and never seem to eat right or at the correct times so tend to snack a lot. So when I heard about this product I thought why not give it a try. So far I have lost about 3 pounds but more important it curbs my appetite and I find myself not snacking so much on things that are just not healthy. I will stay on this product as so far so good !. I am a mechanical contractor who is on the go all the time and never seem to eat right or at the correct times so tend to snack a lot. So when I heard about this product I thought why not give it a try. So far I have lost about 3 pounds but more important it curbs my appetite and I find myself not snacking so much on things that are just not healthy. I will stay on this product as so far so good !', u'I started taking Garcinia Cambogia after watching Dr Oz. I dropped 10 pounds in a month! I combined that pills with a low carb diet and exercise. I feel great. I highly recommend anyone wanting to lose weight to give it a try. It worked wonders for me.. I started taking Garcinia Cambogia after watching Dr Oz. I dropped 10 pounds in a month! I combined that pills with a low carb diet and exercise. I feel great. I highly recommend anyone wanting to lose weight to give it a try. It worked wonders for me.', u'This product is excellent, I lost more than 10 pounds in one monthI recomend this product it really works and the price is great!!Este producto es excelente, e perdido mas de 10 libras en un mesEn verdad lo recomiendo porque si funciona, su precio es excelente tambien.. This product is excellent, I lost more than 10 pounds in one monthI recomend this product it really works and the price is great!!Este producto es excelente, e perdido mas de 10 libras en un mesEn verdad lo recomiendo porque si funciona, su precio es excelente tambien.', u'I sit at a desk all day without much physical activity and being 58 years old I was putting on some unwanted weight so I decided to try your product. I was pleasantly surprised at the increased energy levels and appetite suppression it delivered after only a couple of doses. I lost 10 pounds in the first two weeks and am continuing to lose weight and feel like exercising when I get off work now. I am almost finished with my first bottle and I will be getting another bottle soon. I will recommend this product to my friends because it works for me!!. I sit at a desk all day without much physical activity and being 58 years old I was putting on some unwanted weight so I decided to try your product. I was pleasantly surprised at the increased energy levels and appetite suppression it delivered after only a couple of doses. I lost 10 pounds in the first two weeks and am continuing to lose weight and feel like exercising when I get off work now. I am almost finished with my first bottle and I will be getting another bottle soon. I will recommend this product to my friends because it works for me!!', u'I have been on using Garcinia Cambogia for the last three months, and I have lost a total of 28 lbs. after the first week I lost 10 lbs and I did not change my diet or workout routine. I have try many other items to lose weight and none of them worked, this is the bomb.. I have been on using Garcinia Cambogia for the last three months, and I have lost a total of 28 lbs. after the first week I lost 10 lbs and I did not change my diet or workout routine. I have try many other items to lose weight and none of them worked, this is the bomb.', u'amazing. amazing', u'I love this product.. I love this product.', u'very good product. very good product', u'i love it. i love it', u\"I've been taking and I feel great. I'm alert and ready to go. No let down. I would recommend this.. I've been taking and I feel great. I'm alert and ready to go. No let down. I would recommend this.\", u'Product does what it says it does ive added daily work out and doesnt have any sideeffects compared to alli first week in a half noticed i lost 10 pounds. Product does what it says it does ive added daily work out and doesnt have any sideeffects compared to alli first week in a half noticed i lost 10 pounds', u'Excellent.. Excellent.', u'Good stuff.. Good stuff.', u\"My wife loves these - they seem to stop the hunger, however I can't seem to sleep at night when I take them.. My wife loves these - they seem to stop the hunger, however I can't seem to sleep at night when I take them.\", u'Works great!. Works great!', u\"I must admit that I love Swanson's products. They come quickly, always packed tight and never injured in transit. They have great customer service, (in English I might add)and a catalog in print and online that carry about everything you could desire for healthy supplements. I do NOT work there or even know anyone that does. They are just a very good company that cares about it's customers.. I must admit that I love Swanson's products. They come quickly, always packed tight and never injured in transit. They have great customer service, (in English I might add)and a catalog in print and online that carry about everything you could desire for healthy supplements. I do NOT work there or even know anyone that does. They are just a very good company that cares about it's customers.\", u'This item was exactly as advertised and has been of great assistance to me. Thank you Amazon for being so quality-controlled minded!. This item was exactly as advertised and has been of great assistance to me. Thank you Amazon for being so quality-controlled minded!', u'Great product!. Great product!', u\"I did not believe this at first. After first 24 hours I noticed the difference. My appetite dropped quite a bit. I did not skip the meals, but size of them were much smaller. I do have tendency to overeat if it's something I love, but not any more. I do not starve at all, just my portions are much smaller and healthier. I did not see any side effects after two months of using this product. It melted fat areas around my belly and waste. I am extremely happy with this product and would truly recommend it to anyone with doubts about it.. I did not believe this at first. After first 24 hours I noticed the difference. My appetite dropped quite a bit. I did not skip the meals, but size of them were much smaller. I do have tendency to overeat if it's something I love, but not any more. I do not starve at all, just my portions are much smaller and healthier. I did not see any side effects after two months of using this product. It melted fat areas around my belly and waste. I am extremely happy with this product and would truly recommend it to anyone with doubts about it.\", u'These are a great multivitamin for men. I take one every day. They are easy to swallow and do not upset my stomach. The label is very easy to read to understand what is in them. I recommend this product.. These are a great multivitamin for men. I take one every day. They are easy to swallow and do not upset my stomach. The label is very easy to read to understand what is in them. I recommend this product.', u'Works as described.. Works as described.', u'Love this!. Love this!', u\"I've been taking NatureWise Krill Oil for a few weeks. I was a little hesitant taking Krill Oil at first because I didn't want to smell fishy. These gel caps are very easy to swallow and have no unpleasant aftertaste.. I take NatureWise Garcinia Cambogia daily and have noticed results so I trust and recommend Nature Wise products.. I've been taking NatureWise Krill Oil for a few weeks. I was a little hesitant taking Krill Oil at first because I didn't want to smell fishy. These gel caps are very easy to swallow and have no unpleasant aftertaste.. I take NatureWise Garcinia Cambogia daily and have noticed results so I trust and recommend Nature Wise products.\", u'Great deal.. Great deal.', u\"This product is amazing! I really loved the fact that it is an natural product and that it comes from a legitimate company. I already eat healthy, balanced meals and exercise rigorously three times a week, but I just wasn't getting the results I wanted. Taking this product helped me get the results I wanted.. This product is amazing! I really loved the fact that it is an natural product and that it comes from a legitimate company. I already eat healthy, balanced meals and exercise rigorously three times a week, but I just wasn't getting the results I wanted. Taking this product helped me get the results I wanted.\", u'will order again. will order again', u'yummy. yummy', u'I have just started taking this and I noticed it helped block out the evening cravings and kept me in a peaceful sleep all night.. I have just started taking this and I noticed it helped block out the evening cravings and kept me in a peaceful sleep all night.', u'Great product!!. Great product!!', u\"This product has helped me to lose ten pounds in two weeks. I've kept a balanced diet but only minimal exercise. Would definitely recommend this product.. This product has helped me to lose ten pounds in two weeks. I've kept a balanced diet but only minimal exercise. Would definitely recommend this product.\", u'This stuff works. This stuff works', u'This product has help curb my appetite. If you want to lose weight this product can help but you also need to excercise.. This product has help curb my appetite. If you want to lose weight this product can help but you also need to excercise.', u\"I am usually skeptical with trying additional supplements for burning fat and exercising; however after seeing this product on Dr. Oz I thought I'd give it a try. IT'S AWESOME! I haven't used it for that long, but I can already feel a difference. I'm not as hungry as I used to be and actually can't finish my meals! This prevents me from over-eating as I used to do. It is very easy to use and tastes good too. I would highly recommend this to anyone who is looking for a fat burner type supplement. This is a great product!. I am usually skeptical with trying additional supplements for burning fat and exercising; however after seeing this product on Dr. Oz I thought I'd give it a try. IT'S AWESOME! I haven't used it for that long, but I can already feel a difference. I'm not as hungry as I used to be and actually can't finish my meals! This prevents me from over-eating as I used to do. It is very easy to use and tastes good too. I would highly recommend this to anyone who is looking for a fat burner type supplement. This is a great product!\", u\"My husband and I've been using this product for about 2 weeks. In this short time, we both lost weight. I've lost 5 pounds and he has lost 6 pounds. It has even increased our energy levels. Now, we are very positive about this supplement.. My husband and I've been using this product for about 2 weeks. In this short time, we both lost weight. I've lost 5 pounds and he has lost 6 pounds. It has even increased our energy levels. Now, we are very positive about this supplement.\", u'Amazing product!. Amazing product!', u'I think this product is really wonderful. I lost 5 pounds in one week. With alot of hard work and dedication I will be at my goal weight in no time. Thanks. I think this product is really wonderful. I lost 5 pounds in one week. With alot of hard work and dedication I will be at my goal weight in no time. Thanks', u'The garcinia cambogia has work wonderful for me have have lost an amazing amount of weight I can truly say I works I have lost like 25 pounds so far and im reaching for my weight from before I had any kids I would definitely recommend it to anyone that is trying to lose weight and fast.this product by far is the best u shut really try it.. The garcinia cambogia has work wonderful for me have have lost an amazing amount of weight I can truly say I works I have lost like 25 pounds so far and im reaching for my weight from before I had any kids I would definitely recommend it to anyone that is trying to lose weight and fast.this product by far is the best u shut really try it.', u'I did use it for a month ...lost 7 pounds. I would recommend it. I even have my granddaughters on it. We like it.. I did use it for a month ...lost 7 pounds. I would recommend it. I even have my granddaughters on it. We like it.', u'I have been using this for almost a week. I am noticing some things I had not anticipated. I have more energy,this is not jittery hyped up energy. More a calming increase in power. I worked earlier than usual today at a new site. Normally I feel shaky and anxious as I set up for events. Today I felt joyful and calm with energy for the day. I had my friend check my blood pressure. Usually I run about 180/80 as I am getting started, then go down to 130/70 as I settle in. Today I was 128/70 as I was getting started. My friend told me to sit and rest first, I asked her to check it right away. No one was more shocked than me at the result. I am still hungry, but feel in far better control. My mood is up. My head feels clearer than usual. This is some wonderful stuff.. I have been using this for almost a week. I am noticing some things I had not anticipated. I have more energy,this is not jittery hyped up energy. More a calming increase in power. I worked earlier than usual today at a new site. Normally I feel shaky and anxious as I set up for events. Today I felt joyful and calm with energy for the day. I had my friend check my blood pressure. Usually I run about 180/80 as I am getting started, then go down to 130/70 as I settle in. Today I was 128/70 as I was getting started. My friend told me to sit and rest first, I asked her to check it right away. No one was more shocked than me at the result. I am still hungry, but feel in far better control. My mood is up. My head feels clearer than usual. This is some wonderful stuff.', u'What can I say Garcinia has turned me into a loyal customer. I guess the makers knew exactly what they were doing and if Dr. Oz backs something up then you know that they really do work. I have to say that I will use these for as long as I possibly can. An over the top product it is!!!. What can I say Garcinia has turned me into a loyal customer. I guess the makers knew exactly what they were doing and if Dr. Oz backs something up then you know that they really do work. I have to say that I will use these for as long as I possibly can. An over the top product it is!!!', u'Will order again. Will order again', u'Normally I never write reviews, but i have been trying the Raspberry ketones for a few weeks now and I have dropped almost one dress size in three weeks. I wish the scales would go down too, but hey, my weight is not written on my forehead, and friends have noticed I lost weight which is an added bonus.. Normally I never write reviews, but i have been trying the Raspberry ketones for a few weeks now and I have dropped almost one dress size in three weeks. I wish the scales would go down too, but hey, my weight is not written on my forehead, and friends have noticed I lost weight which is an added bonus.', u'Thyrotril is an A+ product. Absolutely fantastic! Thank you for getting my reorder to me so quickly. Will shop here again. Great seller.. Thyrotril is an A+ product. Absolutely fantastic! Thank you for getting my reorder to me so quickly. Will shop here again. Great seller.', u'Good stuff!. Good stuff!', u'delicious. delicious', u'THIS COFFEE IS GREAT ITS A PERFECT MEASURE N ACTUALLY TASTES PRETTY GOOD. IT GIVES U ENERGY N HELPS U REGULATE .. THIS COFFEE IS GREAT ITS A PERFECT MEASURE N ACTUALLY TASTES PRETTY GOOD. IT GIVES U ENERGY N HELPS U REGULATE .', u'Great Product. Great Product', u'I have seen consistent readings below 160 lbs. lately. 10 lb. lost now. 10 more will put me near my goal.I have purchased 4 more of the meratrim and 4 of the garcinia since my first batch.The bags and sags are going away. I can see my muscles now.I am 63. I liked my body at 30 better. I predict I will look 30 this year.Do not eat sugar.. I have seen consistent readings below 160 lbs. lately. 10 lb. lost now. 10 more will put me near my goal.I have purchased 4 more of the meratrim and 4 of the garcinia since my first batch.The bags and sags are going away. I can see my muscles now.I am 63. I liked my body at 30 better. I predict I will look 30 this year.Do not eat sugar.', u'First off I just want to remind some people that dietary supplements should be viewed as an \"aide\" or to help enhance your needs... Not to be used as an easy way out to avoid exercise and an unhealthy life style.I know some are desperate for an answer that can happen overnight, but there I no way around eating healthy and finding time to exercise. It takes time and commitment.*My experience with garcinia cambogia brand by labrada.This supplement taken by itself does prove to be a hunger suppressant, and from what I believe to be a great stepping stone towards your weight loss goals.I take x3 45min before eating a meal.Instead of eating a whole meal, you\\'re full about a 1/4 way in.Example: Lunch- very tasty chicken club sandwich -the bacon and side of fresh fruit.Only able to eat the fruit, and 2 bites of the sandwich, and was borderline uncomfortable.I am not one who will leave a meal un-eaten! Instead I packed the rest up for later. I took me about 2 other go\\'s at it to finish it, both about an hour apart from each other.(so it helped encourage me to eat smaller meals thru out the day rather than gorging each meal). First off I just want to remind some people that dietary supplements should be viewed as an \"aide\" or to help enhance your needs... Not to be used as an easy way out to avoid exercise and an unhealthy life style.I know some are desperate for an answer that can happen overnight, but there I no way around eating healthy and finding time to exercise. It takes time and commitment.*My experience with garcinia cambogia brand by labrada.This supplement taken by itself does prove to be a hunger suppressant, and from what I believe to be a great stepping stone towards your weight loss goals.I take x3 45min before eating a meal.Instead of eating a whole meal, you\\'re full about a 1/4 way in.Example: Lunch- very tasty chicken club sandwich -the bacon and side of fresh fruit.Only able to eat the fruit, and 2 bites of the sandwich, and was borderline uncomfortable.I am not one who will leave a meal un-eaten! Instead I packed the rest up for later. I took me about 2 other go\\'s at it to finish it, both about an hour apart from each other.(so it helped encourage me to eat smaller meals thru out the day rather than gorging each meal)', u'Thank you!. Thank you!', u'I had been trying to lose weight for a long time without success. I lost 20 lbs so far by taking this combined with exercise. I recommend this product if you try to lose weight the with correct way. It helps to curve the appetite and feel fuller.Thumbs up!!!. I had been trying to lose weight for a long time without success. I lost 20 lbs so far by taking this combined with exercise. I recommend this product if you try to lose weight the with correct way. It helps to curve the appetite and feel fuller.Thumbs up!!!', u'In 2011, my doctor was concerned with my HDL and triglyceride levels which were considered unhealthly. My HDL was 30 (needs to be over 40 to be considered good) and my triglyceride level was 336 (needs to be under 150 to be considered good). My total cholesterol was 181 (needs to be under 200 to be good). My lifestyle is 95% sitting, mostly fastfood meals, no exercise and I was probably eating 4,000 calories a day. My weight was 190 (I am 5\\'10\") in 2011. My doctor told me to stop eating out, start exercising and take omega-3 pills and niacin each day.Basically for the rest of 2011 I ignored the doctor\\'s suggestions.By the end of 2012, I was 202 lbs and finally, over a year later, I decided to implement the doctor\\'s advice.For the first four months of 2013, I did not exercise and nor did I stop eating fastfood, but I did lower the calories that I did eat from 4,000 to 2,500 per day. Then, during May of 2013, I started exercising about 1.5 hours a week (about 30 minutes 3 times a week) and I started taking two Twinlabs 1,000 mg niacin pills per day (per the doctor) and 2,000mg of Kirkland omega-3 fish oil (per the doctor).It is now September 2013 and I just had another doctor\\'s exam (including blood work).The results were (compared to January 2013):--weight: 188 (down 14 pounds )--Total Cholesterol: 165 (down from 181)--HDL: 39 (up from 30)--Triglycerides: 218 (down from 336)I am thrilled with the results from (1) exercise, (2) Twinlab naicin, and (3) Kirland omega-3.Twinlab Niacin is the brand that I have been using and will continue to use!Kirkland Omega-3 fish oil is the brand that I have been using and will continue to use!. In 2011, my doctor was concerned with my HDL and triglyceride levels which were considered unhealthly. My HDL was 30 (needs to be over 40 to be considered good) and my triglyceride level was 336 (needs to be under 150 to be considered good). My total cholesterol was 181 (needs to be under 200 to be good). My lifestyle is 95% sitting, mostly fastfood meals, no exercise and I was probably eating 4,000 calories a day. My weight was 190 (I am 5\\'10\") in 2011. My doctor told me to stop eating out, start exercising and take omega-3 pills and niacin each day.Basically for the rest of 2011 I ignored the doctor\\'s suggestions.By the end of 2012, I was 202 lbs and finally, over a year later, I decided to implement the doctor\\'s advice.For the first four months of 2013, I did not exercise and nor did I stop eating fastfood, but I did lower the calories that I did eat from 4,000 to 2,500 per day. Then, during May of 2013, I started exercising about 1.5 hours a week (about 30 minutes 3 times a week) and I started taking two Twinlabs 1,000 mg niacin pills per day (per the doctor) and 2,000mg of Kirkland omega-3 fish oil (per the doctor).It is now September 2013 and I just had another doctor\\'s exam (including blood work).The results were (compared to January 2013):--weight: 188 (down 14 pounds )--Total Cholesterol: 165 (down from 181)--HDL: 39 (up from 30)--Triglycerides: 218 (down from 336)I am thrilled with the results from (1) exercise, (2) Twinlab naicin, and (3) Kirland omega-3.Twinlab Niacin is the brand that I have been using and will continue to use!Kirkland Omega-3 fish oil is the brand that I have been using and will continue to use!', u'like it. like it', u'I love this product. I love this product', u'The eventual result of taking this is really good. I saw my love handles go down and lost some weight. But I have to say, it cleans you out pretty well&#8230;I mean I couldn&#8217;t believe the stuff my body was retaining (gross!!!). No need to go into any more detail about that. I&#8217;ll just say I feel better after this cleansing.. The eventual result of taking this is really good. I saw my love handles go down and lost some weight. But I have to say, it cleans you out pretty well&#8230;I mean I couldn&#8217;t believe the stuff my body was retaining (gross!!!). No need to go into any more detail about that. I&#8217;ll just say I feel better after this cleansing.', u'I enjoyed this product alot. Took it for a month and lost 7 lbs.I will be ordering this product again.Thanks.. I enjoyed this product alot. Took it for a month and lost 7 lbs.I will be ordering this product again.Thanks.', u'Hint of lemon keeps this fish oil from being fishy. Ultimate Omega has good amount of Omega-3s for the money. 2,000 mg of fish oil per two soft gel dose per day. 90 day supply in this size bottle.. Hint of lemon keeps this fish oil from being fishy. Ultimate Omega has good amount of Omega-3s for the money. 2,000 mg of fish oil per two soft gel dose per day. 90 day supply in this size bottle.', u\"I have recently started using this product and it is working for me. I would recommend this to others. Doesn't make me jittery and that is a rare thing with a weight loss product.. I have recently started using this product and it is working for me. I would recommend this to others. Doesn't make me jittery and that is a rare thing with a weight loss product.\", u'As advertised.. As advertised.', u'Great stuff!. Great stuff!', u'I chose this product due to reviews listedWhat an amazing product.I have lost 10 lbs. in one month.This works!!!. I chose this product due to reviews listedWhat an amazing product.I have lost 10 lbs. in one month.This works!!!', u'I think your product is good however it didnt really do much for me as i had foot reconstruction and I cant exercise yet but i will try it again if its free. I think your product is good however it didnt really do much for me as i had foot reconstruction and I cant exercise yet but i will try it again if its free', u'Great product! I feel the difference on how loose my clothes fit. Easy to take and no &#34;jittery&#34; feeling. Overall, I recommend this product.. Great product! I feel the difference on how loose my clothes fit. Easy to take and no &#34;jittery&#34; feeling. Overall, I recommend this product.', u'Believe me when I say that no one has worse stomach and digestive problem than my husband does. Constant burping, indigestion, diarrhea, acid reflux, heartburn, he experiences them all daily. He used to take a handful of Tums at a time which only provided very little comfort. So when he jumped out of his chair one day running to tell me that his sudden urge to go after a big lunch had gone after taking this, I know this is something truly amazing that really works. He now takes his little enzyme packs with him every where. No more looking frantically for restrooms after eating. The best part of all, I start to take it too whenever I feel stuffed after a heavy meal. Few minutes after I drink down the quarter cup enzyme solution, I feel the stuffiness in my stomach disappearing and I\\'m totally relieved. Most of the time I can feel the change in less than 3 minutes. It is also a life saver for my co-worker Steven, who I found looking seriously uncomfortable with a lifeless emotion during a meeting. After a bad meal he felt so sick that he could hardly talk. I mixed enzyme powder with water and passed to him. Two minutes later he kneel down over and hugged me. \"Whatever you\\'ve given me, I want 10 boxes of them!\" I have never been a believer of natural supplements until I\\'ve come across this company\\'s Isonotix products. I have passed this to over 50 different friends and family members, and each one of them could be sworn by it and tell you how amazing this works on their stomach. Ever since we discovered this enzyme, our house has been free of Tums.. Believe me when I say that no one has worse stomach and digestive problem than my husband does. Constant burping, indigestion, diarrhea, acid reflux, heartburn, he experiences them all daily. He used to take a handful of Tums at a time which only provided very little comfort. So when he jumped out of his chair one day running to tell me that his sudden urge to go after a big lunch had gone after taking this, I know this is something truly amazing that really works. He now takes his little enzyme packs with him every where. No more looking frantically for restrooms after eating. The best part of all, I start to take it too whenever I feel stuffed after a heavy meal. Few minutes after I drink down the quarter cup enzyme solution, I feel the stuffiness in my stomach disappearing and I\\'m totally relieved. Most of the time I can feel the change in less than 3 minutes. It is also a life saver for my co-worker Steven, who I found looking seriously uncomfortable with a lifeless emotion during a meeting. After a bad meal he felt so sick that he could hardly talk. I mixed enzyme powder with water and passed to him. Two minutes later he kneel down over and hugged me. \"Whatever you\\'ve given me, I want 10 boxes of them!\" I have never been a believer of natural supplements until I\\'ve come across this company\\'s Isonotix products. I have passed this to over 50 different friends and family members, and each one of them could be sworn by it and tell you how amazing this works on their stomach. Ever since we discovered this enzyme, our house has been free of Tums.', u\"This product really works!! It has really helped me with the cravings and curved my appetite! What I really like about this product is that there are no side effects at all! I'm really sensitive to caffine, which majority of weight loss supplements consist of a lot of caffine, but this product doesn't have that. It's awesome. Best results happen when you have a steady workout and diet plan!. This product really works!! It has really helped me with the cravings and curved my appetite! What I really like about this product is that there are no side effects at all! I'm really sensitive to caffine, which majority of weight loss supplements consist of a lot of caffine, but this product doesn't have that. It's awesome. Best results happen when you have a steady workout and diet plan!\", u'My child likes it.. Dr recommended. I hope it helps build back all the probiotics lost due to intake of antibiotics. My child likes it.. Dr recommended. I hope it helps build back all the probiotics lost due to intake of antibiotics', u'so far so good. so far so good', u\"I lost ten pounds in one month! I doubted everything I had seen on Garcinia.... Till I tried it. I've told all my friends about it and have recently gotten my taking it. She already has more energy!. I lost ten pounds in one month! I doubted everything I had seen on Garcinia.... Till I tried it. I've told all my friends about it and have recently gotten my taking it. She already has more energy!\", u\"I've lost 25 lbs so far...I am a believer that this product works along side with a good diet and excercise.. I've lost 25 lbs so far...I am a believer that this product works along side with a good diet and excercise.\", u'So this is not the first bottle I have purchased I have seen a dramatic change in my energy and I have lost a lot of weight with this product.. So this is not the first bottle I have purchased I have seen a dramatic change in my energy and I have lost a lot of weight with this product.', u\"I've been taking the pills for about two weeks now. In two weeks my appetite had decreased drastically, i have lots of energy so i can work out harder at the gym and i have lost about five pounds! i can wait to see how i'm going to look by the end of the month! I will definitely update this review for the results. All you do is take as directed, i guarantee that you will see results.. I've been taking the pills for about two weeks now. In two weeks my appetite had decreased drastically, i have lots of energy so i can work out harder at the gym and i have lost about five pounds! i can wait to see how i'm going to look by the end of the month! I will definitely update this review for the results. All you do is take as directed, i guarantee that you will see results.\", u'This product is Fantastic! I bought Nattokinase for my Mother who has high blood pressure. Within a few weeks of taking 2 pills a day, her BP has dropped down to safety! Highly recommend this item!. This product is Fantastic! I bought Nattokinase for my Mother who has high blood pressure. Within a few weeks of taking 2 pills a day, her BP has dropped down to safety! Highly recommend this item!', u'I am into week two and I have already dropped down a size. I am so pumped about making my weight and being that perfect size that I should be. Garcinia Cambogia is the best!. I am into week two and I have already dropped down a size. I am so pumped about making my weight and being that perfect size that I should be. Garcinia Cambogia is the best!', u'Great product does exactly what it says I use before my workout and in the evening before dinner and I have started to loose weight.. Great product does exactly what it says I use before my workout and in the evening before dinner and I have started to loose weight.', u'excelente. excelente', u'On 2nd bottle. Not sure if I have lost weight but I am losing inches. It does suppress my appetite. Will continue to take.. On 2nd bottle. Not sure if I have lost weight but I am losing inches. It does suppress my appetite. Will continue to take.', u'Love the great quality of this multi vitamin. I would recommend this product 100%. My husband takes the same version but for men.. Love the great quality of this multi vitamin. I would recommend this product 100%. My husband takes the same version but for men.', u'Hello i have4 used the Garcinia Cambogia product and i love it.it have a lot of energy and it works very well. i recommended everyone to try it you want be disappointed in this product.. Hello i have4 used the Garcinia Cambogia product and i love it.it have a lot of energy and it works very well. i recommended everyone to try it you want be disappointed in this product.', u'great product great price. great product great price', u\"I've tried diet and exercise along with eating healthy. I wasn't getting the results I needed or wanted. I take 1 pill before every meal and have already seen an improvement in weight loss. Mind you I still eat healthy, splurge once and a while.. I've tried diet and exercise along with eating healthy. I wasn't getting the results I needed or wanted. I take 1 pill before every meal and have already seen an improvement in weight loss. Mind you I still eat healthy, splurge once and a while.\", u'Delivery was very quick, and the pouch the powder came in was much thicker than I had guessed it would be. Powder is small and homogenous with no apparent abnormalities in texture, color, or foreign particles. So far very happy with this product, and will continue to order from them in the future.. Delivery was very quick, and the pouch the powder came in was much thicker than I had guessed it would be. Powder is small and homogenous with no apparent abnormalities in texture, color, or foreign particles. So far very happy with this product, and will continue to order from them in the future.', u'Good quality product at a super cheap price! I would recommend it. Give it a shot and see what happens.. Good quality product at a super cheap price! I would recommend it. Give it a shot and see what happens.', u'After I conducted a great research on this category of products, I decided to buy this one. I almost read half of the reviews written on this product which convinced me to buy it and in 3 weeks I have lost 7npounds. I have avoided fat foods only, and I made no other changes in my diet. It is a superb weight loss supplement.. After I conducted a great research on this category of products, I decided to buy this one. I almost read half of the reviews written on this product which convinced me to buy it and in 3 weeks I have lost 7npounds. I have avoided fat foods only, and I made no other changes in my diet. It is a superb weight loss supplement.', u'Love the product! It works as advertised, and the energy boost is a great benefit. I have seen results already after the first couple of days. I have paired it with another appetite suppression pill, and this product blows others out of the water! Very pleased.. Love the product! It works as advertised, and the energy boost is a great benefit. I have seen results already after the first couple of days. I have paired it with another appetite suppression pill, and this product blows others out of the water! Very pleased.', u\"I can see the weight reduction with this product. It really works! It gets rid of the excess water and cravings. It really does subdue your appetite. I will be reordering this product as well. Amazon has the best price for this product. I have bought other brands and they didn't compare with this product.. I can see the weight reduction with this product. It really works! It gets rid of the excess water and cravings. It really does subdue your appetite. I will be reordering this product as well. Amazon has the best price for this product. I have bought other brands and they didn't compare with this product.\", u'I have been taking oregano oil for six months as part of my daily fight against candida...I definitely noticed better results after adding this to my lineup. NOW brand has not upset my stomach as some others I have tried.. I have been taking oregano oil for six months as part of my daily fight against candida...I definitely noticed better results after adding this to my lineup. NOW brand has not upset my stomach as some others I have tried.', u'After taking this product for a week I felt noticeable results. Felt less foggy headed at work, had more energy throughout the day (as long as I was getting correct amount of sleep) and I also felt less of a need to eat snacks throughout the day. I would recommend the only downside is that with the recommended dose it does not last long.. After taking this product for a week I felt noticeable results. Felt less foggy headed at work, had more energy throughout the day (as long as I was getting correct amount of sleep) and I also felt less of a need to eat snacks throughout the day. I would recommend the only downside is that with the recommended dose it does not last long.', u'I am still using this and continue to see results. It is not as fast as some have experienced but that is because I need to make more changes in my diet and exercise even without this product.. I am still using this and continue to see results. It is not as fast as some have experienced but that is because I need to make more changes in my diet and exercise even without this product.', u\"I'm very pleased with Colon Cleanse Complete. It's gentle enough to use every day, but extremely effective. I've used this product for nearly two years and have recommended it to friends and family. My mother and my son both noticed the effectiveness within the first 24 hours of taking Colon Cleanse Complete. I love that it's natural, gentle, affordable, and most of all effective!. I'm very pleased with Colon Cleanse Complete. It's gentle enough to use every day, but extremely effective. I've used this product for nearly two years and have recommended it to friends and family. My mother and my son both noticed the effectiveness within the first 24 hours of taking Colon Cleanse Complete. I love that it's natural, gentle, affordable, and most of all effective!\", u'Great product and fast shipping. Great product and fast shipping', u'Works well.. Works well.', u'Excellent!!!. Excellent!!!', u'I needed this supplement for my aging joints so I can remain an active adult. It is beginning to show great results.. I needed this supplement for my aging joints so I can remain an active adult. It is beginning to show great results.', u'good price. good price', u\"First, i got my product early, and then i started feeling the pills faster than i thought would happen. It's got to be because of the high quality and no fillers that they proclaim. That is why i am happily surprised! I'm excited to try other products from Living Meadow Labs. Great products and great service!. First, i got my product early, and then i started feeling the pills faster than i thought would happen. It's got to be because of the high quality and no fillers that they proclaim. That is why i am happily surprised! I'm excited to try other products from Living Meadow Labs. Great products and great service!\", u\"I am a pretty heavy guy, in need of losing a minimum of about 60 pounds. I have purchased products from GNC, and none of them have worked for me at all. Instead, most seem to have the opposite effect on me; they make me more hungry and less energized. A friend recommended the One XS pills to me, so I bought them.Shipping was lightning fast, and I was eager to try them. At first, I didn't think they were doing anything for me. However, after a few weeks I started feeling the effects. I was less hungry, more energized, and more motivated than ever to lose the weight.So far, I have lost 15 pounds. I still have a long way to go, but I will continue taking these because I am convinced they have helped me in losing those 15 pounds I couldn't lose before. I will post back with updates as I go along.. I am a pretty heavy guy, in need of losing a minimum of about 60 pounds. I have purchased products from GNC, and none of them have worked for me at all. Instead, most seem to have the opposite effect on me; they make me more hungry and less energized. A friend recommended the One XS pills to me, so I bought them.Shipping was lightning fast, and I was eager to try them. At first, I didn't think they were doing anything for me. However, after a few weeks I started feeling the effects. I was less hungry, more energized, and more motivated than ever to lose the weight.So far, I have lost 15 pounds. I still have a long way to go, but I will continue taking these because I am convinced they have helped me in losing those 15 pounds I couldn't lose before. I will post back with updates as I go along.\", u\"This product has helped me reach my weight goals. It's easy to take, unlike many other weight loss pills. More importantly, I haven't com across any undesirable side effects as a result of taking these.Relative to other similar products, this product stands as for its high quality Garcinia Cambogia ingredient. Finally, this does wonders in reducing your appetite, which has lead to some pretty quick results for myself.. This product has helped me reach my weight goals. It's easy to take, unlike many other weight loss pills. More importantly, I haven't com across any undesirable side effects as a result of taking these.Relative to other similar products, this product stands as for its high quality Garcinia Cambogia ingredient. Finally, this does wonders in reducing your appetite, which has lead to some pretty quick results for myself.\", u'I was having a hard time finding the right addition to my workout until I tried Batch 5. It holds the perfect amount of energy without the jittery feeling. I find I am able to focus more and it gives me that push in my workout when I need it most! I would definitely recommend to anyone looking for that little extra push during their day or workout!. I was having a hard time finding the right addition to my workout until I tried Batch 5. It holds the perfect amount of energy without the jittery feeling. I find I am able to focus more and it gives me that push in my workout when I need it most! I would definitely recommend to anyone looking for that little extra push during their day or workout!', u'I had been taking one a day for several months and never really noticed much difference. Then I remember reading some reviews where people said they were taking it twice a day. Lo and behold, my skin looks SOOO much nicer now :-). I had been taking one a day for several months and never really noticed much difference. Then I remember reading some reviews where people said they were taking it twice a day. Lo and behold, my skin looks SOOO much nicer now :-)', u\"I have been so tired of buying stuff only to have them let me down. I am grateful that these gave me actual results and I didn't have to break the bank! Well worth the money I spent for them.. I have been so tired of buying stuff only to have them let me down. I am grateful that these gave me actual results and I didn't have to break the bank! Well worth the money I spent for them.\", u'Love this product I use it along with phase 2 I could not get the weight to moving until I started using Garcinia Camogia and then I added phase 2 to it as well and the two combined has only enhanced my weight loss. I love it and I will continue to use Garcinia Cambogia. Love this product I use it along with phase 2 I could not get the weight to moving until I started using Garcinia Camogia and then I added phase 2 to it as well and the two combined has only enhanced my weight loss. I love it and I will continue to use Garcinia Cambogia', u\"I'm very pleased with this product. I notice a big difference in my stomach & hips.delivery was prompt. I am totally impressed. I Highly recommend this product.. I'm very pleased with this product. I notice a big difference in my stomach & hips.delivery was prompt. I am totally impressed. I Highly recommend this product.\", u'The Prenatal Health vitamins by Healthy Belly are the greatest multivitamin I have used to date. I love the fact that they are natural and can be taken with or without a meal with no queasiness, which really helps out when morning sickness makes breakfast impossible. They give me so much energy during the day that I have been able to forego my usual mid-day caffeine pick me up that used to be crucial to keeping up with my two little ones. My youngest just turned one and I continue to take these prenatal vitamins because they give me the nutrients that I otherwise might not fit into my diet of toddler leftovers. Healthy Belly Prenatal Health vitamins are the best thing you can do for you and your baby.. The Prenatal Health vitamins by Healthy Belly are the greatest multivitamin I have used to date. I love the fact that they are natural and can be taken with or without a meal with no queasiness, which really helps out when morning sickness makes breakfast impossible. They give me so much energy during the day that I have been able to forego my usual mid-day caffeine pick me up that used to be crucial to keeping up with my two little ones. My youngest just turned one and I continue to take these prenatal vitamins because they give me the nutrients that I otherwise might not fit into my diet of toddler leftovers. Healthy Belly Prenatal Health vitamins are the best thing you can do for you and your baby.', u'Love it. Love it', u\"After researching a few different brands of garcinia cambogia I took a shot at this product because of the higher level of HCA. I'm glad I did because my energy is up and have lost 5lbs in 2 weeks. Awesome product! Thanks!. After researching a few different brands of garcinia cambogia I took a shot at this product because of the higher level of HCA. I'm glad I did because my energy is up and have lost 5lbs in 2 weeks. Awesome product! Thanks!\", u'Ok. Ok', u'Works great for me.. Works great for me.', u\"I heard about this product and was a little skeptical, but I put all that aside and decided to try it. Started slow to make sure it didn't have any side effects on me and it has worked out fine. I started taking less than recommended dose and it still works. I've been helping with a little exercise but not enough to make that big a difference. I've lost 12 lbs. in three weeks something that would have been extremely difficult for me, without the Garcinia Cambogia, for me. Happy with the product and ordering more soon and I will up to the recommended dose, as I want to lose, at least, another 60 lbs.. I heard about this product and was a little skeptical, but I put all that aside and decided to try it. Started slow to make sure it didn't have any side effects on me and it has worked out fine. I started taking less than recommended dose and it still works. I've been helping with a little exercise but not enough to make that big a difference. I've lost 12 lbs. in three weeks something that would have been extremely difficult for me, without the Garcinia Cambogia, for me. Happy with the product and ordering more soon and I will up to the recommended dose, as I want to lose, at least, another 60 lbs.\", u\"Excellent Product!! Joint pain has plagued me as the years have gone on, and I have tried several of these before deciding on this one. It does the job well and doesn't have an aftertaste or 'come back on you' like some do. The results are well worth it as I can move much easier and with far less pain and fatigue. I really like this one!!. Excellent Product!! Joint pain has plagued me as the years have gone on, and I have tried several of these before deciding on this one. It does the job well and doesn't have an aftertaste or 'come back on you' like some do. The results are well worth it as I can move much easier and with far less pain and fatigue. I really like this one!!\", u\"I've been taking these for about a week now and I've been seeing huge results! I've lost 5 pounds in the first week and my clothes are starting to loosin up on me. My butt is starting to tone up as well as my flabby areas. I haven't been exercising at all. I feel more energetic than ever! I've been able to eat what I want. The only thing I changed about eating is what I drink. I drink more water now than soda. You can drink soda but try not to drink too much. I suggest taking the pills down with water to get the best results. Just follow the instructions on the bottle. Since taking this pill my periods have become regular. So if your not wanting regular periods then don't take it. As for the negative comments on here about these pills, I can tell you that these pills deffinatley work dispite what most say about them. I plan to buy another bottle next month and keep taking them till I get down to a size that I'm satisfied with. For those of you who are looking to lose alot of weight, your in luck!. I've been taking these for about a week now and I've been seeing huge results! I've lost 5 pounds in the first week and my clothes are starting to loosin up on me. My butt is starting to tone up as well as my flabby areas. I haven't been exercising at all. I feel more energetic than ever! I've been able to eat what I want. The only thing I changed about eating is what I drink. I drink more water now than soda. You can drink soda but try not to drink too much. I suggest taking the pills down with water to get the best results. Just follow the instructions on the bottle. Since taking this pill my periods have become regular. So if your not wanting regular periods then don't take it. As for the negative comments on here about these pills, I can tell you that these pills deffinatley work dispite what most say about them. I plan to buy another bottle next month and keep taking them till I get down to a size that I'm satisfied with. For those of you who are looking to lose alot of weight, your in luck!\", u\"I've been taking this vitamin since about 2000...when I run out and stop taking the vitamin, the change in my energy levels and general feeling of well being is extremely noticeable. I finally got my husband to start taking these a few years ago (he did not believe in vitamin supplements) and he is a convert. We make sure not to run out anymore. I do not think I could live my life without them....between working full-time, raising two kids, working out...I need as much energy as I can get and these really help. I am glad to see other reviewers feel the same. Studies have come out that say vitamins don't do much but I don't think this particular vitamin was included...because anyone who has used regularly will tell you it DOES make a difference. Btw, if taking the pill first thing in the morning bothers your tummy, try taking at night after dinner.. I've been taking this vitamin since about 2000...when I run out and stop taking the vitamin, the change in my energy levels and general feeling of well being is extremely noticeable. I finally got my husband to start taking these a few years ago (he did not believe in vitamin supplements) and he is a convert. We make sure not to run out anymore. I do not think I could live my life without them....between working full-time, raising two kids, working out...I need as much energy as I can get and these really help. I am glad to see other reviewers feel the same. Studies have come out that say vitamins don't do much but I don't think this particular vitamin was included...because anyone who has used regularly will tell you it DOES make a difference. Btw, if taking the pill first thing in the morning bothers your tummy, try taking at night after dinner.\", u'As expected. As expected', u\"You want to lose weight, right? Great, that's the first step. You want a magic pill that's just going to make it happen? Sorry, it just doesn't exist - not without willpower & common sense.Here's my experience - your mileage may vary:I started with the Raspberry Ketones Plus. I took three pills a day for about two weeks. I can honestly say I could feel my clothes (pants especially) getting a little looser.After about two weeks I added Garcinia Cambogia also at three times a day. Not much change.Still not melting the pounds away, I added Green Coffee extract a week later (last week). Here's where the changes started to begin.I don't just eat to live - I love to eat. I am a great cook, and not ashamed to admit it! In addition, I make sure to cook enough for dinner to have seconds, using the excuse that if there's enough leftover, I will save it for tomorrow's lunch - NOT!! The first few nights after starting the Coffee Bean extract, I had miserable sleeps. My gut was tossing & turning all night. I WAS STUFFED! I didn't bother changing my eating habits at all. That's when the light came on.Tonight's dinner was a normal cook EXCEPT we only cooked 1/2 as much! It's been two hours since we finished, & we both feel full. Yea, another 1/2 steak & some more fried spuds would have tasted good, but not necessary. This is where the common sense begins.Listen to your body, use your head! Are you really hungry? Or are you just mouth hungry? Think about it. Try some sensible eating habits - throw in a little exercise just for kicks! You won't lose an ounce just sitting there dreaming.I cannot say for sure that it's the Raspberry Ketones or the Garcinia Cambogia or the Green Coffee Extract - but the combination seems to be working for now. When I'm full, I'm full! That's all there is to it.. You want to lose weight, right? Great, that's the first step. You want a magic pill that's just going to make it happen? Sorry, it just doesn't exist - not without willpower & common sense.Here's my experience - your mileage may vary:I started with the Raspberry Ketones Plus. I took three pills a day for about two weeks. I can honestly say I could feel my clothes (pants especially) getting a little looser.After about two weeks I added Garcinia Cambogia also at three times a day. Not much change.Still not melting the pounds away, I added Green Coffee extract a week later (last week). Here's where the changes started to begin.I don't just eat to live - I love to eat. I am a great cook, and not ashamed to admit it! In addition, I make sure to cook enough for dinner to have seconds, using the excuse that if there's enough leftover, I will save it for tomorrow's lunch - NOT!! The first few nights after starting the Coffee Bean extract, I had miserable sleeps. My gut was tossing & turning all night. I WAS STUFFED! I didn't bother changing my eating habits at all. That's when the light came on.Tonight's dinner was a normal cook EXCEPT we only cooked 1/2 as much! It's been two hours since we finished, & we both feel full. Yea, another 1/2 steak & some more fried spuds would have tasted good, but not necessary. This is where the common sense begins.Listen to your body, use your head! Are you really hungry? Or are you just mouth hungry? Think about it. Try some sensible eating habits - throw in a little exercise just for kicks! You won't lose an ounce just sitting there dreaming.I cannot say for sure that it's the Raspberry Ketones or the Garcinia Cambogia or the Green Coffee Extract - but the combination seems to be working for now. When I'm full, I'm full! That's all there is to it.\", u\"I LOVE ALL OF DR. C'S PRODUCTS!...Quality Quality Quality...Not a bunch of marketing crap that is good at selling junk. His products sell themselves and have continued to build the credibility OVER THE MANY years. The names of the products have changed a couple of times (thanks to FDA regulations), however, the formulas are the same. Gentle, trusted, and just nourishing!. I LOVE ALL OF DR. C'S PRODUCTS!...Quality Quality Quality...Not a bunch of marketing crap that is good at selling junk. His products sell themselves and have continued to build the credibility OVER THE MANY years. The names of the products have changed a couple of times (thanks to FDA regulations), however, the formulas are the same. Gentle, trusted, and just nourishing!\", u'After taking this supplement for one week, I found that with working out and eating right, I lost three pounds! Then another three pounds the second week! Not only am I seeing a change in my body, but so are other people! I will most definitely recommend this to friends !. After taking this supplement for one week, I found that with working out and eating right, I lost three pounds! Then another three pounds the second week! Not only am I seeing a change in my body, but so are other people! I will most definitely recommend this to friends !', u'What is better than shedding unwanted weight? I have been trying desperately and finally I have something that is working for me. Thanks to the makers of this impeccable supplement.. What is better than shedding unwanted weight? I have been trying desperately and finally I have something that is working for me. Thanks to the makers of this impeccable supplement.', u\"I began seeing results almost immediately. I also felt a lot better--it's amazing how it helped me eat the right amount of food instead of gorging myself. My mom said I looked better than she'd seen me look after just 2 weeks!. I began seeing results almost immediately. I also felt a lot better--it's amazing how it helped me eat the right amount of food instead of gorging myself. My mom said I looked better than she'd seen me look after just 2 weeks!\", u'Great product that has really helped me feel full on less food.I have been using for about a month. I have already lost weight and plan to keep using this product!. Great product that has really helped me feel full on less food.I have been using for about a month. I have already lost weight and plan to keep using this product!', u\"I don't know if the product is suppose to give you more energy but I felt more zip in my walk. I can't do a physical work out because I'm nursing inflamed a/c joints in my shoulders so I make up for it by walking. Since taking Garcinia Cambogia I have felt more energized and lost a few pounds!. I don't know if the product is suppose to give you more energy but I felt more zip in my walk. I can't do a physical work out because I'm nursing inflamed a/c joints in my shoulders so I make up for it by walking. Since taking Garcinia Cambogia I have felt more energized and lost a few pounds!\", u'I have been using this product for a week and have lost six pounds. Have lost my appitite from the first day of use. I get full fast with meals, have to force myself to eat snacks. Great product. I would recommend.. I have been using this product for a week and have lost six pounds. Have lost my appitite from the first day of use. I get full fast with meals, have to force myself to eat snacks. Great product. I would recommend.', u'After about two weeks I actually noticed an improvement in my eyesight. I recommend Eyesight Rx to anyone wanting to improve their vision.. After about two weeks I actually noticed an improvement in my eyesight. I recommend Eyesight Rx to anyone wanting to improve their vision.', u'Great product. Great product', u\"I have been doing the Cambogia for 2 months now and I'm about to burn through the second bottle. Within the two months I have felt a lot better and I have started to notice changes. Remember a legit diet and exercise 3-4 times a week. I highly recommend it for anyone trying to shave some pounds for sure.. I have been doing the Cambogia for 2 months now and I'm about to burn through the second bottle. Within the two months I have felt a lot better and I have started to notice changes. Remember a legit diet and exercise 3-4 times a week. I highly recommend it for anyone trying to shave some pounds for sure.\", u'I was fighting adult hormonal acne on my chin for 2 months and could not get rid of it. Purchased Burdock Root, Milk Thistle and Vitex from Amazon. I take them twice a day and my skin looks great!. I was fighting adult hormonal acne on my chin for 2 months and could not get rid of it. Purchased Burdock Root, Milk Thistle and Vitex from Amazon. I take them twice a day and my skin looks great!', u'Very good product. Very good product', u'Great Vitamins. Great Vitamins']\n"
     ]
    }
   ],
   "source": [
    "# find duplicates\n",
    "a = data.review_all_clean.tolist()\n",
    "print [item for item, count in collections.Counter(a).items() if count > 1]"
   ]
  },
  {
   "cell_type": "code",
   "execution_count": 310,
   "metadata": {
    "ExecuteTime": {
     "end_time": "2018-04-18T22:29:11.850067Z",
     "start_time": "2018-04-18T22:29:11.752972Z"
    },
    "collapsed": true
   },
   "outputs": [
    {
     "data": {
      "text/html": [
       "<div>\n",
       "<style>\n",
       "    .dataframe thead tr:only-child th {\n",
       "        text-align: right;\n",
       "    }\n",
       "\n",
       "    .dataframe thead th {\n",
       "        text-align: left;\n",
       "    }\n",
       "\n",
       "    .dataframe tbody tr th {\n",
       "        vertical-align: top;\n",
       "    }\n",
       "</style>\n",
       "<table border=\"1\" class=\"dataframe\">\n",
       "  <thead>\n",
       "    <tr style=\"text-align: right;\">\n",
       "      <th></th>\n",
       "      <th>asin</th>\n",
       "      <th>helpful</th>\n",
       "      <th>reviewText</th>\n",
       "      <th>overall</th>\n",
       "      <th>summary</th>\n",
       "      <th>description</th>\n",
       "      <th>title</th>\n",
       "      <th>categories_clean</th>\n",
       "      <th>review_length</th>\n",
       "      <th>reviewText_clean</th>\n",
       "      <th>summary_clean</th>\n",
       "      <th>review_all</th>\n",
       "      <th>review_all_clean</th>\n",
       "      <th>review_all_no_punct</th>\n",
       "      <th>review_all_tokens</th>\n",
       "      <th>title_clean</th>\n",
       "      <th>title_tokens</th>\n",
       "      <th>title_tokens_lower</th>\n",
       "      <th>review_tokens_sub</th>\n",
       "      <th>review_id</th>\n",
       "    </tr>\n",
       "  </thead>\n",
       "  <tbody>\n",
       "    <tr>\n",
       "      <th>331357</th>\n",
       "      <td>B00G1SQ874</td>\n",
       "      <td>[0, 0]</td>\n",
       "      <td>I love this stuff . I have lost ten pounds in ...</td>\n",
       "      <td>5.0</td>\n",
       "      <td>Garcinia Cambogia</td>\n",
       "      <td>NaturaBest Garcinia Cambogia ExtractGarcinia C...</td>\n",
       "      <td>Garcinia Cambogia - NaturaBest - 100% PURE Gar...</td>\n",
       "      <td>Health &amp; Personal Care, Vitamins &amp; Dietary Sup...</td>\n",
       "      <td>150</td>\n",
       "      <td>I love this stuff . I have lost ten pounds in ...</td>\n",
       "      <td>I love this stuff . I have lost ten pounds in ...</td>\n",
       "      <td>I love this stuff . I have lost ten pounds in ...</td>\n",
       "      <td>I love this stuff . I have lost ten pounds in ...</td>\n",
       "      <td>I love this stuff   I have lost ten pounds in ...</td>\n",
       "      <td>[I, love, this, stuff, , , I, have, lost, ten,...</td>\n",
       "      <td>Garcinia Cambogia NaturaBest PURE Garcinia Cap...</td>\n",
       "      <td>[Garcinia, Cambogia, NaturaBest, PURE, Garcini...</td>\n",
       "      <td>garcinia cambogia naturabest pure garcinia cap...</td>\n",
       "      <td>[love, this, stuff, have, lost, ten, pounds, a...</td>\n",
       "      <td>331295</td>\n",
       "    </tr>\n",
       "    <tr>\n",
       "      <th>332229</th>\n",
       "      <td>B00G8L58CA</td>\n",
       "      <td>[0, 0]</td>\n",
       "      <td>I love this stuff .  I have lost ten pounds in...</td>\n",
       "      <td>5.0</td>\n",
       "      <td>Garcinia Cambogia</td>\n",
       "      <td>What if YOU could lose that weight you need to...</td>\n",
       "      <td>Garcinia Cambogia with HCA Pure Extract Weight...</td>\n",
       "      <td>Health &amp; Personal Care, Vitamins &amp; Dietary Sup...</td>\n",
       "      <td>152</td>\n",
       "      <td>I love this stuff .  I have lost ten pounds in...</td>\n",
       "      <td>I love this stuff .  I have lost ten pounds in...</td>\n",
       "      <td>I love this stuff .  I have lost ten pounds in...</td>\n",
       "      <td>I love this stuff . I have lost ten pounds in ...</td>\n",
       "      <td>I love this stuff    I have lost ten pounds in...</td>\n",
       "      <td>[I, love, this, stuff, , , , I, have, lost, te...</td>\n",
       "      <td>Garcinia Cambogia with HCA Pure Extract Weight...</td>\n",
       "      <td>[Garcinia, Cambogia, with, HCA, Pure, Extract,...</td>\n",
       "      <td>garcinia cambogia with hca pure extract weight...</td>\n",
       "      <td>[love, this, stuff, have, lost, ten, pounds, a...</td>\n",
       "      <td>332167</td>\n",
       "    </tr>\n",
       "  </tbody>\n",
       "</table>\n",
       "</div>"
      ],
      "text/plain": [
       "              asin helpful                                         reviewText  \\\n",
       "331357  B00G1SQ874  [0, 0]  I love this stuff . I have lost ten pounds in ...   \n",
       "332229  B00G8L58CA  [0, 0]  I love this stuff .  I have lost ten pounds in...   \n",
       "\n",
       "        overall            summary  \\\n",
       "331357      5.0  Garcinia Cambogia   \n",
       "332229      5.0  Garcinia Cambogia   \n",
       "\n",
       "                                              description  \\\n",
       "331357  NaturaBest Garcinia Cambogia ExtractGarcinia C...   \n",
       "332229  What if YOU could lose that weight you need to...   \n",
       "\n",
       "                                                    title  \\\n",
       "331357  Garcinia Cambogia - NaturaBest - 100% PURE Gar...   \n",
       "332229  Garcinia Cambogia with HCA Pure Extract Weight...   \n",
       "\n",
       "                                         categories_clean  review_length  \\\n",
       "331357  Health & Personal Care, Vitamins & Dietary Sup...            150   \n",
       "332229  Health & Personal Care, Vitamins & Dietary Sup...            152   \n",
       "\n",
       "                                         reviewText_clean  \\\n",
       "331357  I love this stuff . I have lost ten pounds in ...   \n",
       "332229  I love this stuff .  I have lost ten pounds in...   \n",
       "\n",
       "                                            summary_clean  \\\n",
       "331357  I love this stuff . I have lost ten pounds in ...   \n",
       "332229  I love this stuff .  I have lost ten pounds in...   \n",
       "\n",
       "                                               review_all  \\\n",
       "331357  I love this stuff . I have lost ten pounds in ...   \n",
       "332229  I love this stuff .  I have lost ten pounds in...   \n",
       "\n",
       "                                         review_all_clean  \\\n",
       "331357  I love this stuff . I have lost ten pounds in ...   \n",
       "332229  I love this stuff . I have lost ten pounds in ...   \n",
       "\n",
       "                                      review_all_no_punct  \\\n",
       "331357  I love this stuff   I have lost ten pounds in ...   \n",
       "332229  I love this stuff    I have lost ten pounds in...   \n",
       "\n",
       "                                        review_all_tokens  \\\n",
       "331357  [I, love, this, stuff, , , I, have, lost, ten,...   \n",
       "332229  [I, love, this, stuff, , , , I, have, lost, te...   \n",
       "\n",
       "                                              title_clean  \\\n",
       "331357  Garcinia Cambogia NaturaBest PURE Garcinia Cap...   \n",
       "332229  Garcinia Cambogia with HCA Pure Extract Weight...   \n",
       "\n",
       "                                             title_tokens  \\\n",
       "331357  [Garcinia, Cambogia, NaturaBest, PURE, Garcini...   \n",
       "332229  [Garcinia, Cambogia, with, HCA, Pure, Extract,...   \n",
       "\n",
       "                                       title_tokens_lower  \\\n",
       "331357  garcinia cambogia naturabest pure garcinia cap...   \n",
       "332229  garcinia cambogia with hca pure extract weight...   \n",
       "\n",
       "                                        review_tokens_sub  review_id  \n",
       "331357  [love, this, stuff, have, lost, ten, pounds, a...     331295  \n",
       "332229  [love, this, stuff, have, lost, ten, pounds, a...     332167  "
      ]
     },
     "execution_count": 310,
     "metadata": {},
     "output_type": "execute_result"
    }
   ],
   "source": [
    "# example of different description, same text --> fake review? \n",
    "data[data.review_all_clean == 'I love this stuff . I have lost ten pounds in about 2 weeks. It does what they say it does. you have nothing to lose if you dont like it send it back.. I love this stuff . I have lost ten pounds in about 2 weeks. It does what they say it does. you have nothing to lose if you dont like it send it back.']"
   ]
  },
  {
   "cell_type": "markdown",
   "metadata": {},
   "source": [
    "## Sentiment Analysis"
   ]
  },
  {
   "cell_type": "markdown",
   "metadata": {},
   "source": [
    "### Vader"
   ]
  },
  {
   "cell_type": "markdown",
   "metadata": {},
   "source": [
    "#### At the sentence level\n",
    "\n",
    "Break down each review into composite sentences using `NLTK`'s `tokenize.sent_tokenize()`,  find sentiments for all sentences, choose min and max."
   ]
  },
  {
   "cell_type": "code",
   "execution_count": 340,
   "metadata": {
    "ExecuteTime": {
     "end_time": "2018-04-18T22:41:22.933287Z",
     "start_time": "2018-04-18T22:41:22.917242Z"
    }
   },
   "outputs": [],
   "source": [
    "analyser = SentimentIntensityAnalyzer()"
   ]
  },
  {
   "cell_type": "code",
   "execution_count": 342,
   "metadata": {
    "ExecuteTime": {
     "end_time": "2018-04-18T22:42:45.689724Z",
     "start_time": "2018-04-18T22:41:38.605952Z"
    }
   },
   "outputs": [],
   "source": [
    "data_sub['tokenized_sentences'] = data_sub.reviewText_clean.apply(tokenize.sent_tokenize)"
   ]
  },
  {
   "cell_type": "code",
   "execution_count": 377,
   "metadata": {
    "ExecuteTime": {
     "end_time": "2018-04-18T23:08:57.022510Z",
     "start_time": "2018-04-18T23:08:57.000804Z"
    },
    "collapsed": true
   },
   "outputs": [
    {
     "data": {
      "text/html": [
       "<div>\n",
       "<style>\n",
       "    .dataframe thead tr:only-child th {\n",
       "        text-align: right;\n",
       "    }\n",
       "\n",
       "    .dataframe thead th {\n",
       "        text-align: left;\n",
       "    }\n",
       "\n",
       "    .dataframe tbody tr th {\n",
       "        vertical-align: top;\n",
       "    }\n",
       "</style>\n",
       "<table border=\"1\" class=\"dataframe\">\n",
       "  <thead>\n",
       "    <tr style=\"text-align: right;\">\n",
       "      <th></th>\n",
       "      <th>asin</th>\n",
       "      <th>review_id</th>\n",
       "      <th>reviewText_clean</th>\n",
       "      <th>tokenized_sentences</th>\n",
       "    </tr>\n",
       "  </thead>\n",
       "  <tbody>\n",
       "    <tr>\n",
       "      <th>0</th>\n",
       "      <td>0929619730</td>\n",
       "      <td>1</td>\n",
       "      <td>B-flax-D is a regular at our house. It does it...</td>\n",
       "      <td>[B-flax-D is a regular at our house., It does ...</td>\n",
       "    </tr>\n",
       "    <tr>\n",
       "      <th>1</th>\n",
       "      <td>0978559088</td>\n",
       "      <td>2</td>\n",
       "      <td>I started taking this after both my parents di...</td>\n",
       "      <td>[I started taking this after both my parents d...</td>\n",
       "    </tr>\n",
       "    <tr>\n",
       "      <th>2</th>\n",
       "      <td>0978559088</td>\n",
       "      <td>3</td>\n",
       "      <td>I really liked this product because it stayed ...</td>\n",
       "      <td>[I really liked this product because it stayed...</td>\n",
       "    </tr>\n",
       "    <tr>\n",
       "      <th>3</th>\n",
       "      <td>0978559088</td>\n",
       "      <td>4</td>\n",
       "      <td>Resveratrol is a polar compound, very insolubl...</td>\n",
       "      <td>[Resveratrol is a polar compound, very insolub...</td>\n",
       "    </tr>\n",
       "    <tr>\n",
       "      <th>4</th>\n",
       "      <td>1427600228</td>\n",
       "      <td>5</td>\n",
       "      <td>I bought several of these bracelets for my YMC...</td>\n",
       "      <td>[I bought several of these bracelets for my YM...</td>\n",
       "    </tr>\n",
       "    <tr>\n",
       "      <th>5</th>\n",
       "      <td>1427600228</td>\n",
       "      <td>6</td>\n",
       "      <td>I bought a few the other week just to see what...</td>\n",
       "      <td>[I bought a few the other week just to see wha...</td>\n",
       "    </tr>\n",
       "    <tr>\n",
       "      <th>7</th>\n",
       "      <td>1427600228</td>\n",
       "      <td>7</td>\n",
       "      <td>This bracelet is so simple yet so elegant. I l...</td>\n",
       "      <td>[This bracelet is so simple yet so elegant., I...</td>\n",
       "    </tr>\n",
       "    <tr>\n",
       "      <th>8</th>\n",
       "      <td>1427600228</td>\n",
       "      <td>8</td>\n",
       "      <td>I recently bought a bunch of these to hand out...</td>\n",
       "      <td>[I recently bought a bunch of these to hand ou...</td>\n",
       "    </tr>\n",
       "    <tr>\n",
       "      <th>9</th>\n",
       "      <td>1928926215</td>\n",
       "      <td>9</td>\n",
       "      <td>I'm obsessed with this stuff and found it is t...</td>\n",
       "      <td>[I'm obsessed with this stuff and found it is ...</td>\n",
       "    </tr>\n",
       "    <tr>\n",
       "      <th>10</th>\n",
       "      <td>1928926215</td>\n",
       "      <td>10</td>\n",
       "      <td>I have been using this for awhile I dont know ...</td>\n",
       "      <td>[I have been using this for awhile I dont know...</td>\n",
       "    </tr>\n",
       "  </tbody>\n",
       "</table>\n",
       "</div>"
      ],
      "text/plain": [
       "          asin  review_id                                   reviewText_clean  \\\n",
       "0   0929619730          1  B-flax-D is a regular at our house. It does it...   \n",
       "1   0978559088          2  I started taking this after both my parents di...   \n",
       "2   0978559088          3  I really liked this product because it stayed ...   \n",
       "3   0978559088          4  Resveratrol is a polar compound, very insolubl...   \n",
       "4   1427600228          5  I bought several of these bracelets for my YMC...   \n",
       "5   1427600228          6  I bought a few the other week just to see what...   \n",
       "7   1427600228          7  This bracelet is so simple yet so elegant. I l...   \n",
       "8   1427600228          8  I recently bought a bunch of these to hand out...   \n",
       "9   1928926215          9  I'm obsessed with this stuff and found it is t...   \n",
       "10  1928926215         10  I have been using this for awhile I dont know ...   \n",
       "\n",
       "                                  tokenized_sentences  \n",
       "0   [B-flax-D is a regular at our house., It does ...  \n",
       "1   [I started taking this after both my parents d...  \n",
       "2   [I really liked this product because it stayed...  \n",
       "3   [Resveratrol is a polar compound, very insolub...  \n",
       "4   [I bought several of these bracelets for my YM...  \n",
       "5   [I bought a few the other week just to see wha...  \n",
       "7   [This bracelet is so simple yet so elegant., I...  \n",
       "8   [I recently bought a bunch of these to hand ou...  \n",
       "9   [I'm obsessed with this stuff and found it is ...  \n",
       "10  [I have been using this for awhile I dont know...  "
      ]
     },
     "execution_count": 377,
     "metadata": {},
     "output_type": "execute_result"
    }
   ],
   "source": [
    "data_sub[:10] # notice that ix 6 is missing "
   ]
  },
  {
   "cell_type": "code",
   "execution_count": 349,
   "metadata": {
    "ExecuteTime": {
     "end_time": "2018-04-18T22:55:02.305258Z",
     "start_time": "2018-04-18T22:55:02.193733Z"
    }
   },
   "outputs": [],
   "source": [
    "# list of number of sentences per review \n",
    "num_sentences = []\n",
    "for i in data_sub.tokenized_sentences:\n",
    "    num_sentences.append(len(i))"
   ]
  },
  {
   "cell_type": "code",
   "execution_count": 393,
   "metadata": {
    "ExecuteTime": {
     "end_time": "2018-04-18T23:20:04.352925Z",
     "start_time": "2018-04-18T23:15:05.347800Z"
    }
   },
   "outputs": [],
   "source": [
    "# lists of lists of asins and number of sentences\n",
    "n = len(data_sub.review_id)\n",
    "review_id_ls_of_ls = []\n",
    "asin_ls_of_ls = []\n",
    "for i in range(n):  # work around because index is off\n",
    "    asin_i = data_sub[data_sub.review_id == i+1].asin.values.tolist() \n",
    "    asin_ls_of_ls.append(asin_i*num_sentences[i])\n",
    "    review_id_ls_of_ls.append([i+1]*num_sentences[i])"
   ]
  },
  {
   "cell_type": "code",
   "execution_count": 394,
   "metadata": {
    "ExecuteTime": {
     "end_time": "2018-04-18T23:20:09.817724Z",
     "start_time": "2018-04-18T23:20:09.243830Z"
    }
   },
   "outputs": [
    {
     "data": {
      "text/plain": [
       "(1488555, 1488555)"
      ]
     },
     "execution_count": 394,
     "metadata": {},
     "output_type": "execute_result"
    }
   ],
   "source": [
    "asin_ls = [i for sublist in asin_ls_of_ls for i in sublist] \n",
    "review_id_ls = [i for sublist in review_id_ls_of_ls for i in sublist]\n",
    "len(asin_ls), len(review_id_ls)"
   ]
  },
  {
   "cell_type": "code",
   "execution_count": 395,
   "metadata": {
    "ExecuteTime": {
     "end_time": "2018-04-18T23:20:15.629962Z",
     "start_time": "2018-04-18T23:20:15.262862Z"
    }
   },
   "outputs": [
    {
     "data": {
      "text/plain": [
       "1488555"
      ]
     },
     "execution_count": 395,
     "metadata": {},
     "output_type": "execute_result"
    }
   ],
   "source": [
    "sentences_ls_of_ls = data_sub.tokenized_sentences.values.tolist()\n",
    "sentences_ls = [i for sublist in sentences_ls_of_ls for i in sublist]\n",
    "len(sentences_ls)"
   ]
  },
  {
   "cell_type": "code",
   "execution_count": 396,
   "metadata": {
    "ExecuteTime": {
     "end_time": "2018-04-18T23:23:54.168911Z",
     "start_time": "2018-04-18T23:23:53.837599Z"
    }
   },
   "outputs": [
    {
     "data": {
      "text/plain": [
       "1488555"
      ]
     },
     "execution_count": 396,
     "metadata": {},
     "output_type": "execute_result"
    }
   ],
   "source": [
    "data_sub_long = pd.DataFrame(\n",
    "    {'asin': asin_ls,\n",
    "     'review_id': review_id_ls,\n",
    "     'sentence': sentences_ls\n",
    "    })\n",
    "len(data_sub_long)\n",
    "#data_small_long = data_small_long.drop_duplicates()\n",
    "#data_small_long[:2]"
   ]
  },
  {
   "cell_type": "code",
   "execution_count": 404,
   "metadata": {
    "ExecuteTime": {
     "end_time": "2018-04-18T23:27:55.690837Z",
     "start_time": "2018-04-18T23:27:51.933484Z"
    }
   },
   "outputs": [
    {
     "name": "stdout",
     "output_type": "stream",
     "text": [
      "28328\n"
     ]
    }
   ],
   "source": [
    "# find duplicate sentences\n",
    "b = data_sub_long['sentence'].tolist()\n",
    "print len([item for item, count in collections.Counter(b).items() if count > 1])"
   ]
  },
  {
   "cell_type": "code",
   "execution_count": 402,
   "metadata": {
    "ExecuteTime": {
     "end_time": "2018-04-18T23:27:19.329513Z",
     "start_time": "2018-04-18T23:27:19.088722Z"
    },
    "scrolled": true
   },
   "outputs": [
    {
     "data": {
      "text/html": [
       "<div>\n",
       "<style>\n",
       "    .dataframe thead tr:only-child th {\n",
       "        text-align: right;\n",
       "    }\n",
       "\n",
       "    .dataframe thead th {\n",
       "        text-align: left;\n",
       "    }\n",
       "\n",
       "    .dataframe tbody tr th {\n",
       "        vertical-align: top;\n",
       "    }\n",
       "</style>\n",
       "<table border=\"1\" class=\"dataframe\">\n",
       "  <thead>\n",
       "    <tr style=\"text-align: right;\">\n",
       "      <th></th>\n",
       "      <th>asin</th>\n",
       "      <th>review_id</th>\n",
       "      <th>sentence</th>\n",
       "    </tr>\n",
       "  </thead>\n",
       "  <tbody>\n",
       "    <tr>\n",
       "      <th>1164647</th>\n",
       "      <td>B00A39O8UG</td>\n",
       "      <td>283802</td>\n",
       "      <td>I have ordered this product several times and ...</td>\n",
       "    </tr>\n",
       "    <tr>\n",
       "      <th>1281672</th>\n",
       "      <td>B00CKXJ06K</td>\n",
       "      <td>309383</td>\n",
       "      <td>I have ordered this product several times and ...</td>\n",
       "    </tr>\n",
       "  </tbody>\n",
       "</table>\n",
       "</div>"
      ],
      "text/plain": [
       "               asin  review_id  \\\n",
       "1164647  B00A39O8UG     283802   \n",
       "1281672  B00CKXJ06K     309383   \n",
       "\n",
       "                                                  sentence  \n",
       "1164647  I have ordered this product several times and ...  \n",
       "1281672  I have ordered this product several times and ...  "
      ]
     },
     "execution_count": 402,
     "metadata": {},
     "output_type": "execute_result"
    }
   ],
   "source": [
    "data_sub_long[data_sub_long.sentence == 'I have ordered this product several times and I will definitely reorder.']"
   ]
  },
  {
   "cell_type": "code",
   "execution_count": 412,
   "metadata": {
    "ExecuteTime": {
     "end_time": "2018-04-18T23:31:21.578749Z",
     "start_time": "2018-04-18T23:31:18.982058Z"
    }
   },
   "outputs": [
    {
     "data": {
      "text/plain": [
       "1213"
      ]
     },
     "execution_count": 412,
     "metadata": {},
     "output_type": "execute_result"
    }
   ],
   "source": [
    "sum(data_sub_long.duplicated())"
   ]
  },
  {
   "cell_type": "code",
   "execution_count": 413,
   "metadata": {
    "ExecuteTime": {
     "end_time": "2018-04-18T23:31:48.332011Z",
     "start_time": "2018-04-18T23:31:47.556019Z"
    },
    "collapsed": true
   },
   "outputs": [
    {
     "data": {
      "text/html": [
       "<div>\n",
       "<style>\n",
       "    .dataframe thead tr:only-child th {\n",
       "        text-align: right;\n",
       "    }\n",
       "\n",
       "    .dataframe thead th {\n",
       "        text-align: left;\n",
       "    }\n",
       "\n",
       "    .dataframe tbody tr th {\n",
       "        vertical-align: top;\n",
       "    }\n",
       "</style>\n",
       "<table border=\"1\" class=\"dataframe\">\n",
       "  <thead>\n",
       "    <tr style=\"text-align: right;\">\n",
       "      <th></th>\n",
       "      <th>asin</th>\n",
       "      <th>review_id</th>\n",
       "      <th>sentence</th>\n",
       "    </tr>\n",
       "  </thead>\n",
       "  <tbody>\n",
       "    <tr>\n",
       "      <th>2611</th>\n",
       "      <td>B0000533AJ</td>\n",
       "      <td>696</td>\n",
       "      <td>.</td>\n",
       "    </tr>\n",
       "    <tr>\n",
       "      <th>2612</th>\n",
       "      <td>B0000533AJ</td>\n",
       "      <td>696</td>\n",
       "      <td>.</td>\n",
       "    </tr>\n",
       "    <tr>\n",
       "      <th>2613</th>\n",
       "      <td>B0000533AJ</td>\n",
       "      <td>696</td>\n",
       "      <td>.</td>\n",
       "    </tr>\n",
       "    <tr>\n",
       "      <th>2614</th>\n",
       "      <td>B0000533AJ</td>\n",
       "      <td>696</td>\n",
       "      <td>.</td>\n",
       "    </tr>\n",
       "    <tr>\n",
       "      <th>2615</th>\n",
       "      <td>B0000533AJ</td>\n",
       "      <td>696</td>\n",
       "      <td>.</td>\n",
       "    </tr>\n",
       "    <tr>\n",
       "      <th>10451</th>\n",
       "      <td>B0000U1OCI</td>\n",
       "      <td>2608</td>\n",
       "      <td>.</td>\n",
       "    </tr>\n",
       "    <tr>\n",
       "      <th>14735</th>\n",
       "      <td>B0000U1OCI</td>\n",
       "      <td>3513</td>\n",
       "      <td>wonderful!</td>\n",
       "    </tr>\n",
       "    <tr>\n",
       "      <th>18101</th>\n",
       "      <td>B0000U1OCI</td>\n",
       "      <td>4254</td>\n",
       "      <td>.</td>\n",
       "    </tr>\n",
       "    <tr>\n",
       "      <th>18485</th>\n",
       "      <td>B0000U1OCI</td>\n",
       "      <td>4338</td>\n",
       "      <td>.</td>\n",
       "    </tr>\n",
       "    <tr>\n",
       "      <th>20993</th>\n",
       "      <td>B0000U1OCI</td>\n",
       "      <td>4870</td>\n",
       "      <td>.</td>\n",
       "    </tr>\n",
       "    <tr>\n",
       "      <th>26625</th>\n",
       "      <td>B0000U1OCI</td>\n",
       "      <td>6058</td>\n",
       "      <td>.</td>\n",
       "    </tr>\n",
       "    <tr>\n",
       "      <th>32373</th>\n",
       "      <td>B00012NHUM</td>\n",
       "      <td>7540</td>\n",
       "      <td>.</td>\n",
       "    </tr>\n",
       "    <tr>\n",
       "      <th>34299</th>\n",
       "      <td>B00012NJJG</td>\n",
       "      <td>7956</td>\n",
       "      <td>YAY!</td>\n",
       "    </tr>\n",
       "    <tr>\n",
       "      <th>34730</th>\n",
       "      <td>B00012NKRC</td>\n",
       "      <td>8075</td>\n",
       "      <td>Good.</td>\n",
       "    </tr>\n",
       "    <tr>\n",
       "      <th>35392</th>\n",
       "      <td>B00013YYKS</td>\n",
       "      <td>8229</td>\n",
       "      <td>Every day, in every way, I am pooping better a...</td>\n",
       "    </tr>\n",
       "    <tr>\n",
       "      <th>39486</th>\n",
       "      <td>B00014D08Y</td>\n",
       "      <td>9222</td>\n",
       "      <td>.</td>\n",
       "    </tr>\n",
       "    <tr>\n",
       "      <th>39487</th>\n",
       "      <td>B00014D08Y</td>\n",
       "      <td>9222</td>\n",
       "      <td>.</td>\n",
       "    </tr>\n",
       "    <tr>\n",
       "      <th>39731</th>\n",
       "      <td>B00014D08Y</td>\n",
       "      <td>9280</td>\n",
       "      <td>.</td>\n",
       "    </tr>\n",
       "    <tr>\n",
       "      <th>40232</th>\n",
       "      <td>B00014D08Y</td>\n",
       "      <td>9402</td>\n",
       "      <td>.</td>\n",
       "    </tr>\n",
       "    <tr>\n",
       "      <th>40768</th>\n",
       "      <td>B00014D1LU</td>\n",
       "      <td>9541</td>\n",
       "      <td>.</td>\n",
       "    </tr>\n",
       "    <tr>\n",
       "      <th>40770</th>\n",
       "      <td>B00014D1LU</td>\n",
       "      <td>9541</td>\n",
       "      <td>.</td>\n",
       "    </tr>\n",
       "    <tr>\n",
       "      <th>42814</th>\n",
       "      <td>B00014D85Y</td>\n",
       "      <td>10019</td>\n",
       "      <td>.</td>\n",
       "    </tr>\n",
       "    <tr>\n",
       "      <th>42815</th>\n",
       "      <td>B00014D85Y</td>\n",
       "      <td>10019</td>\n",
       "      <td>.</td>\n",
       "    </tr>\n",
       "    <tr>\n",
       "      <th>42816</th>\n",
       "      <td>B00014D85Y</td>\n",
       "      <td>10019</td>\n",
       "      <td>.</td>\n",
       "    </tr>\n",
       "    <tr>\n",
       "      <th>42818</th>\n",
       "      <td>B00014D85Y</td>\n",
       "      <td>10019</td>\n",
       "      <td>.</td>\n",
       "    </tr>\n",
       "    <tr>\n",
       "      <th>42819</th>\n",
       "      <td>B00014D85Y</td>\n",
       "      <td>10019</td>\n",
       "      <td>.</td>\n",
       "    </tr>\n",
       "    <tr>\n",
       "      <th>42820</th>\n",
       "      <td>B00014D85Y</td>\n",
       "      <td>10019</td>\n",
       "      <td>.</td>\n",
       "    </tr>\n",
       "    <tr>\n",
       "      <th>42821</th>\n",
       "      <td>B00014D85Y</td>\n",
       "      <td>10019</td>\n",
       "      <td>.</td>\n",
       "    </tr>\n",
       "    <tr>\n",
       "      <th>42823</th>\n",
       "      <td>B00014D85Y</td>\n",
       "      <td>10019</td>\n",
       "      <td>.</td>\n",
       "    </tr>\n",
       "    <tr>\n",
       "      <th>42824</th>\n",
       "      <td>B00014D85Y</td>\n",
       "      <td>10019</td>\n",
       "      <td>.</td>\n",
       "    </tr>\n",
       "    <tr>\n",
       "      <th>...</th>\n",
       "      <td>...</td>\n",
       "      <td>...</td>\n",
       "      <td>...</td>\n",
       "    </tr>\n",
       "    <tr>\n",
       "      <th>1421573</th>\n",
       "      <td>B00HHMHKMK</td>\n",
       "      <td>340536</td>\n",
       "      <td>!</td>\n",
       "    </tr>\n",
       "    <tr>\n",
       "      <th>1421614</th>\n",
       "      <td>B00HHMHKMK</td>\n",
       "      <td>340541</td>\n",
       "      <td>Thank you!</td>\n",
       "    </tr>\n",
       "    <tr>\n",
       "      <th>1421623</th>\n",
       "      <td>B00HHMHKMK</td>\n",
       "      <td>340542</td>\n",
       "      <td>Great!</td>\n",
       "    </tr>\n",
       "    <tr>\n",
       "      <th>1422332</th>\n",
       "      <td>B00HHMHKMK</td>\n",
       "      <td>340643</td>\n",
       "      <td>Thank you!</td>\n",
       "    </tr>\n",
       "    <tr>\n",
       "      <th>1422333</th>\n",
       "      <td>B00HHMHKMK</td>\n",
       "      <td>340643</td>\n",
       "      <td>Thank you!</td>\n",
       "    </tr>\n",
       "    <tr>\n",
       "      <th>1422350</th>\n",
       "      <td>B00HHMHKMK</td>\n",
       "      <td>340645</td>\n",
       "      <td>It was recommended by a friend of mine after I...</td>\n",
       "    </tr>\n",
       "    <tr>\n",
       "      <th>1422352</th>\n",
       "      <td>B00HHMHKMK</td>\n",
       "      <td>340645</td>\n",
       "      <td>Oily release once in a while?</td>\n",
       "    </tr>\n",
       "    <tr>\n",
       "      <th>1422353</th>\n",
       "      <td>B00HHMHKMK</td>\n",
       "      <td>340645</td>\n",
       "      <td>You bet, but only when I had meals with a high...</td>\n",
       "    </tr>\n",
       "    <tr>\n",
       "      <th>1422354</th>\n",
       "      <td>B00HHMHKMK</td>\n",
       "      <td>340645</td>\n",
       "      <td>Couple bits of advice: if you feel as if you w...</td>\n",
       "    </tr>\n",
       "    <tr>\n",
       "      <th>1422355</th>\n",
       "      <td>B00HHMHKMK</td>\n",
       "      <td>340645</td>\n",
       "      <td>You can't be certain of what will get out.</td>\n",
       "    </tr>\n",
       "    <tr>\n",
       "      <th>1422356</th>\n",
       "      <td>B00HHMHKMK</td>\n",
       "      <td>340645</td>\n",
       "      <td>Control yourself up until you get to a rest ro...</td>\n",
       "    </tr>\n",
       "    <tr>\n",
       "      <th>1422357</th>\n",
       "      <td>B00HHMHKMK</td>\n",
       "      <td>340645</td>\n",
       "      <td>Also, not just fried chicken and fried meals h...</td>\n",
       "    </tr>\n",
       "    <tr>\n",
       "      <th>1422358</th>\n",
       "      <td>B00HHMHKMK</td>\n",
       "      <td>340645</td>\n",
       "      <td>Any specific red meat includes fat substance.</td>\n",
       "    </tr>\n",
       "    <tr>\n",
       "      <th>1422359</th>\n",
       "      <td>B00HHMHKMK</td>\n",
       "      <td>340645</td>\n",
       "      <td>I have a capsule with the meal.</td>\n",
       "    </tr>\n",
       "    <tr>\n",
       "      <th>1424998</th>\n",
       "      <td>B00HK61L3C</td>\n",
       "      <td>341270</td>\n",
       "      <td>!</td>\n",
       "    </tr>\n",
       "    <tr>\n",
       "      <th>1425611</th>\n",
       "      <td>B00HK61L3C</td>\n",
       "      <td>341407</td>\n",
       "      <td>.</td>\n",
       "    </tr>\n",
       "    <tr>\n",
       "      <th>1426219</th>\n",
       "      <td>B00HK61L3C</td>\n",
       "      <td>341552</td>\n",
       "      <td>This stuff works.</td>\n",
       "    </tr>\n",
       "    <tr>\n",
       "      <th>1429117</th>\n",
       "      <td>B00HK61L3C</td>\n",
       "      <td>342207</td>\n",
       "      <td>No.</td>\n",
       "    </tr>\n",
       "    <tr>\n",
       "      <th>1429123</th>\n",
       "      <td>B00HK61L3C</td>\n",
       "      <td>342207</td>\n",
       "      <td>No.</td>\n",
       "    </tr>\n",
       "    <tr>\n",
       "      <th>1433405</th>\n",
       "      <td>B00HK61L3C</td>\n",
       "      <td>343178</td>\n",
       "      <td>I love that.</td>\n",
       "    </tr>\n",
       "    <tr>\n",
       "      <th>1433775</th>\n",
       "      <td>B00HK61L3C</td>\n",
       "      <td>343256</td>\n",
       "      <td>!</td>\n",
       "    </tr>\n",
       "    <tr>\n",
       "      <th>1434320</th>\n",
       "      <td>B00HK61L3C</td>\n",
       "      <td>343379</td>\n",
       "      <td>YES!</td>\n",
       "    </tr>\n",
       "    <tr>\n",
       "      <th>1440550</th>\n",
       "      <td>B00HWGEACO</td>\n",
       "      <td>344701</td>\n",
       "      <td>BANG!</td>\n",
       "    </tr>\n",
       "    <tr>\n",
       "      <th>1440551</th>\n",
       "      <td>B00HWGEACO</td>\n",
       "      <td>344701</td>\n",
       "      <td>BANG!</td>\n",
       "    </tr>\n",
       "    <tr>\n",
       "      <th>1446361</th>\n",
       "      <td>B00I5NX0VA</td>\n",
       "      <td>346044</td>\n",
       "      <td>.</td>\n",
       "    </tr>\n",
       "    <tr>\n",
       "      <th>1446362</th>\n",
       "      <td>B00I5NX0VA</td>\n",
       "      <td>346044</td>\n",
       "      <td>.</td>\n",
       "    </tr>\n",
       "    <tr>\n",
       "      <th>1452396</th>\n",
       "      <td>B00IHVTVJU</td>\n",
       "      <td>347378</td>\n",
       "      <td>So....</td>\n",
       "    </tr>\n",
       "    <tr>\n",
       "      <th>1453138</th>\n",
       "      <td>B00IJJY0UA</td>\n",
       "      <td>347543</td>\n",
       "      <td>Wake up!</td>\n",
       "    </tr>\n",
       "    <tr>\n",
       "      <th>1454040</th>\n",
       "      <td>B00ILIXA1O</td>\n",
       "      <td>347734</td>\n",
       "      <td>.</td>\n",
       "    </tr>\n",
       "    <tr>\n",
       "      <th>1458377</th>\n",
       "      <td>B00IT40BDA</td>\n",
       "      <td>348657</td>\n",
       "      <td>WOW.</td>\n",
       "    </tr>\n",
       "  </tbody>\n",
       "</table>\n",
       "<p>1213 rows × 3 columns</p>\n",
       "</div>"
      ],
      "text/plain": [
       "               asin  review_id  \\\n",
       "2611     B0000533AJ        696   \n",
       "2612     B0000533AJ        696   \n",
       "2613     B0000533AJ        696   \n",
       "2614     B0000533AJ        696   \n",
       "2615     B0000533AJ        696   \n",
       "10451    B0000U1OCI       2608   \n",
       "14735    B0000U1OCI       3513   \n",
       "18101    B0000U1OCI       4254   \n",
       "18485    B0000U1OCI       4338   \n",
       "20993    B0000U1OCI       4870   \n",
       "26625    B0000U1OCI       6058   \n",
       "32373    B00012NHUM       7540   \n",
       "34299    B00012NJJG       7956   \n",
       "34730    B00012NKRC       8075   \n",
       "35392    B00013YYKS       8229   \n",
       "39486    B00014D08Y       9222   \n",
       "39487    B00014D08Y       9222   \n",
       "39731    B00014D08Y       9280   \n",
       "40232    B00014D08Y       9402   \n",
       "40768    B00014D1LU       9541   \n",
       "40770    B00014D1LU       9541   \n",
       "42814    B00014D85Y      10019   \n",
       "42815    B00014D85Y      10019   \n",
       "42816    B00014D85Y      10019   \n",
       "42818    B00014D85Y      10019   \n",
       "42819    B00014D85Y      10019   \n",
       "42820    B00014D85Y      10019   \n",
       "42821    B00014D85Y      10019   \n",
       "42823    B00014D85Y      10019   \n",
       "42824    B00014D85Y      10019   \n",
       "...             ...        ...   \n",
       "1421573  B00HHMHKMK     340536   \n",
       "1421614  B00HHMHKMK     340541   \n",
       "1421623  B00HHMHKMK     340542   \n",
       "1422332  B00HHMHKMK     340643   \n",
       "1422333  B00HHMHKMK     340643   \n",
       "1422350  B00HHMHKMK     340645   \n",
       "1422352  B00HHMHKMK     340645   \n",
       "1422353  B00HHMHKMK     340645   \n",
       "1422354  B00HHMHKMK     340645   \n",
       "1422355  B00HHMHKMK     340645   \n",
       "1422356  B00HHMHKMK     340645   \n",
       "1422357  B00HHMHKMK     340645   \n",
       "1422358  B00HHMHKMK     340645   \n",
       "1422359  B00HHMHKMK     340645   \n",
       "1424998  B00HK61L3C     341270   \n",
       "1425611  B00HK61L3C     341407   \n",
       "1426219  B00HK61L3C     341552   \n",
       "1429117  B00HK61L3C     342207   \n",
       "1429123  B00HK61L3C     342207   \n",
       "1433405  B00HK61L3C     343178   \n",
       "1433775  B00HK61L3C     343256   \n",
       "1434320  B00HK61L3C     343379   \n",
       "1440550  B00HWGEACO     344701   \n",
       "1440551  B00HWGEACO     344701   \n",
       "1446361  B00I5NX0VA     346044   \n",
       "1446362  B00I5NX0VA     346044   \n",
       "1452396  B00IHVTVJU     347378   \n",
       "1453138  B00IJJY0UA     347543   \n",
       "1454040  B00ILIXA1O     347734   \n",
       "1458377  B00IT40BDA     348657   \n",
       "\n",
       "                                                  sentence  \n",
       "2611                                                     .  \n",
       "2612                                                     .  \n",
       "2613                                                     .  \n",
       "2614                                                     .  \n",
       "2615                                                     .  \n",
       "10451                                                    .  \n",
       "14735                                           wonderful!  \n",
       "18101                                                    .  \n",
       "18485                                                    .  \n",
       "20993                                                    .  \n",
       "26625                                                    .  \n",
       "32373                                                    .  \n",
       "34299                                                 YAY!  \n",
       "34730                                                Good.  \n",
       "35392    Every day, in every way, I am pooping better a...  \n",
       "39486                                                    .  \n",
       "39487                                                    .  \n",
       "39731                                                    .  \n",
       "40232                                                    .  \n",
       "40768                                                    .  \n",
       "40770                                                    .  \n",
       "42814                                                    .  \n",
       "42815                                                    .  \n",
       "42816                                                    .  \n",
       "42818                                                    .  \n",
       "42819                                                    .  \n",
       "42820                                                    .  \n",
       "42821                                                    .  \n",
       "42823                                                    .  \n",
       "42824                                                    .  \n",
       "...                                                    ...  \n",
       "1421573                                                  !  \n",
       "1421614                                         Thank you!  \n",
       "1421623                                             Great!  \n",
       "1422332                                         Thank you!  \n",
       "1422333                                         Thank you!  \n",
       "1422350  It was recommended by a friend of mine after I...  \n",
       "1422352                      Oily release once in a while?  \n",
       "1422353  You bet, but only when I had meals with a high...  \n",
       "1422354  Couple bits of advice: if you feel as if you w...  \n",
       "1422355         You can't be certain of what will get out.  \n",
       "1422356  Control yourself up until you get to a rest ro...  \n",
       "1422357  Also, not just fried chicken and fried meals h...  \n",
       "1422358      Any specific red meat includes fat substance.  \n",
       "1422359                    I have a capsule with the meal.  \n",
       "1424998                                                  !  \n",
       "1425611                                                  .  \n",
       "1426219                                  This stuff works.  \n",
       "1429117                                                No.  \n",
       "1429123                                                No.  \n",
       "1433405                                       I love that.  \n",
       "1433775                                                  !  \n",
       "1434320                                               YES!  \n",
       "1440550                                              BANG!  \n",
       "1440551                                              BANG!  \n",
       "1446361                                                  .  \n",
       "1446362                                                  .  \n",
       "1452396                                             So....  \n",
       "1453138                                           Wake up!  \n",
       "1454040                                                  .  \n",
       "1458377                                               WOW.  \n",
       "\n",
       "[1213 rows x 3 columns]"
      ]
     },
     "execution_count": 413,
     "metadata": {},
     "output_type": "execute_result"
    }
   ],
   "source": [
    "# what do these duplicated records look like?\n",
    "data_sub_long[data_sub_long.duplicated()]"
   ]
  },
  {
   "cell_type": "code",
   "execution_count": 414,
   "metadata": {
    "ExecuteTime": {
     "end_time": "2018-04-18T23:35:05.952224Z",
     "start_time": "2018-04-18T23:35:05.911127Z"
    },
    "collapsed": true
   },
   "outputs": [
    {
     "data": {
      "text/html": [
       "<div>\n",
       "<style>\n",
       "    .dataframe thead tr:only-child th {\n",
       "        text-align: right;\n",
       "    }\n",
       "\n",
       "    .dataframe thead th {\n",
       "        text-align: left;\n",
       "    }\n",
       "\n",
       "    .dataframe tbody tr th {\n",
       "        vertical-align: top;\n",
       "    }\n",
       "</style>\n",
       "<table border=\"1\" class=\"dataframe\">\n",
       "  <thead>\n",
       "    <tr style=\"text-align: right;\">\n",
       "      <th></th>\n",
       "      <th>asin</th>\n",
       "      <th>helpful</th>\n",
       "      <th>reviewText</th>\n",
       "      <th>overall</th>\n",
       "      <th>summary</th>\n",
       "      <th>description</th>\n",
       "      <th>title</th>\n",
       "      <th>categories_clean</th>\n",
       "      <th>review_length</th>\n",
       "      <th>reviewText_clean</th>\n",
       "      <th>summary_clean</th>\n",
       "      <th>review_all</th>\n",
       "      <th>review_all_clean</th>\n",
       "      <th>review_all_no_punct</th>\n",
       "      <th>review_all_tokens</th>\n",
       "      <th>title_clean</th>\n",
       "      <th>title_tokens</th>\n",
       "      <th>title_tokens_lower</th>\n",
       "      <th>review_tokens_sub</th>\n",
       "      <th>review_id</th>\n",
       "    </tr>\n",
       "  </thead>\n",
       "  <tbody>\n",
       "    <tr>\n",
       "      <th>696</th>\n",
       "      <td>B0000533AJ</td>\n",
       "      <td>[0, 1]</td>\n",
       "      <td>Makes me feel good ..... .... .... .... .... ....</td>\n",
       "      <td>5.0</td>\n",
       "      <td>Great supplement</td>\n",
       "      <td>&amp;lt;P&amp;gt;&amp;lt;P style=\"LEFT: 92px; TOP: 301px\"&amp;...</td>\n",
       "      <td>Nature Made St. John's Wort, 450mg Capsules - ...</td>\n",
       "      <td>Health &amp; Personal Care, Vitamins &amp; Dietary Sup...</td>\n",
       "      <td>102</td>\n",
       "      <td>Makes me feel good ..... .... .... .... .... ....</td>\n",
       "      <td>Makes me feel good ..... .... .... .... .... ....</td>\n",
       "      <td>Makes me feel good ..... .... .... .... .... ....</td>\n",
       "      <td>Makes me feel good ..... .... .... .... .... ....</td>\n",
       "      <td>Makes me feel good                            ...</td>\n",
       "      <td>[Makes, me, feel, good, , , , , , , , , , , , ...</td>\n",
       "      <td>Nature Made St John s Wort mg Capsules count</td>\n",
       "      <td>[Nature, Made, St, John, s, Wort, mg, Capsules...</td>\n",
       "      <td>nature made st john s wort mg capsules count</td>\n",
       "      <td>[Makes, me, feel, good, Makes, me, feel, good]</td>\n",
       "      <td>696</td>\n",
       "    </tr>\n",
       "  </tbody>\n",
       "</table>\n",
       "</div>"
      ],
      "text/plain": [
       "           asin helpful                                         reviewText  \\\n",
       "696  B0000533AJ  [0, 1]  Makes me feel good ..... .... .... .... .... ....   \n",
       "\n",
       "     overall           summary  \\\n",
       "696      5.0  Great supplement   \n",
       "\n",
       "                                           description  \\\n",
       "696  &lt;P&gt;&lt;P style=\"LEFT: 92px; TOP: 301px\"&...   \n",
       "\n",
       "                                                 title  \\\n",
       "696  Nature Made St. John's Wort, 450mg Capsules - ...   \n",
       "\n",
       "                                      categories_clean  review_length  \\\n",
       "696  Health & Personal Care, Vitamins & Dietary Sup...            102   \n",
       "\n",
       "                                      reviewText_clean  \\\n",
       "696  Makes me feel good ..... .... .... .... .... ....   \n",
       "\n",
       "                                         summary_clean  \\\n",
       "696  Makes me feel good ..... .... .... .... .... ....   \n",
       "\n",
       "                                            review_all  \\\n",
       "696  Makes me feel good ..... .... .... .... .... ....   \n",
       "\n",
       "                                      review_all_clean  \\\n",
       "696  Makes me feel good ..... .... .... .... .... ....   \n",
       "\n",
       "                                   review_all_no_punct  \\\n",
       "696  Makes me feel good                            ...   \n",
       "\n",
       "                                     review_all_tokens  \\\n",
       "696  [Makes, me, feel, good, , , , , , , , , , , , ...   \n",
       "\n",
       "                                      title_clean  \\\n",
       "696  Nature Made St John s Wort mg Capsules count   \n",
       "\n",
       "                                          title_tokens  \\\n",
       "696  [Nature, Made, St, John, s, Wort, mg, Capsules...   \n",
       "\n",
       "                               title_tokens_lower  \\\n",
       "696  nature made st john s wort mg capsules count   \n",
       "\n",
       "                                  review_tokens_sub  review_id  \n",
       "696  [Makes, me, feel, good, Makes, me, feel, good]        696  "
      ]
     },
     "execution_count": 414,
     "metadata": {},
     "output_type": "execute_result"
    }
   ],
   "source": [
    "data[data.review_id == 696]"
   ]
  },
  {
   "cell_type": "code",
   "execution_count": 415,
   "metadata": {
    "ExecuteTime": {
     "end_time": "2018-04-18T23:37:18.032939Z",
     "start_time": "2018-04-18T23:37:17.230004Z"
    }
   },
   "outputs": [
    {
     "data": {
      "text/plain": [
       "1487342"
      ]
     },
     "execution_count": 415,
     "metadata": {},
     "output_type": "execute_result"
    }
   ],
   "source": [
    "data_sub_dedup = data_sub_long.drop_duplicates()\n",
    "len(data_sub_dedup)"
   ]
  },
  {
   "cell_type": "code",
   "execution_count": 416,
   "metadata": {
    "ExecuteTime": {
     "end_time": "2018-04-18T23:45:01.989243Z",
     "start_time": "2018-04-18T23:37:55.911584Z"
    }
   },
   "outputs": [],
   "source": [
    "data_sub_dedup['vader_score'] = data_sub_dedup.sentence.apply(lambda x: analyser.polarity_scores(x)['compound'])"
   ]
  },
  {
   "cell_type": "code",
   "execution_count": 417,
   "metadata": {
    "ExecuteTime": {
     "end_time": "2018-04-18T23:59:09.042886Z",
     "start_time": "2018-04-18T23:45:14.359734Z"
    }
   },
   "outputs": [],
   "source": [
    "data_sub_dedup['blob_score'] = data_sub_dedup.sentence.apply(lambda x: TextBlob(x).sentiment[0])"
   ]
  },
  {
   "cell_type": "code",
   "execution_count": 462,
   "metadata": {
    "ExecuteTime": {
     "end_time": "2018-04-19T00:20:31.881842Z",
     "start_time": "2018-04-19T00:20:26.915748Z"
    }
   },
   "outputs": [
    {
     "data": {
      "text/plain": [
       "(0.17, 0.48, 0.35)"
      ]
     },
     "execution_count": 462,
     "metadata": {},
     "output_type": "execute_result"
    }
   ],
   "source": [
    "n = len(data_sub_dedup)\n",
    "\n",
    "round(sum(data_sub_dedup.vader_score == data_sub_dedup.blob_score)*1.0/n*1.0,2),\\\n",
    "round(sum(data_sub_dedup.vader_score > data_sub_dedup.blob_score)*1.0/n*1.0,2),\\\n",
    "round(sum(data_sub_dedup.vader_score < data_sub_dedup.blob_score)*1.0/n*1.0,2)"
   ]
  },
  {
   "cell_type": "code",
   "execution_count": 487,
   "metadata": {
    "ExecuteTime": {
     "end_time": "2018-04-19T00:52:06.279429Z",
     "start_time": "2018-04-19T00:52:05.945045Z"
    }
   },
   "outputs": [],
   "source": [
    "# Indentify sentences with min/max sentiments \n",
    "\n",
    "max_scores = data_sub_dedup.groupby(['asin', 'review_id'])[['vader_score', 'blob_score']].max().reset_index()\n",
    "max_scores.rename( columns={\"vader_score\": \"vader_max\", \"blob_score\": \"blob_max\"}, inplace = True)"
   ]
  },
  {
   "cell_type": "code",
   "execution_count": 489,
   "metadata": {
    "ExecuteTime": {
     "end_time": "2018-04-19T00:52:31.356550Z",
     "start_time": "2018-04-19T00:52:30.850898Z"
    }
   },
   "outputs": [],
   "source": [
    "min_scores = data_sub_dedup.groupby(['asin', 'review_id'])[['vader_score', 'blob_score']].min().reset_index()\n",
    "min_scores.rename(columns={\"vader_score\": \"vader_min\", \"blob_score\": \"blob_min\"}, inplace = True)\n",
    "\n",
    "all_scores = min_scores.merge(max_scores)"
   ]
  },
  {
   "cell_type": "code",
   "execution_count": 491,
   "metadata": {
    "ExecuteTime": {
     "end_time": "2018-04-19T00:53:12.747017Z",
     "start_time": "2018-04-19T00:53:12.325997Z"
    }
   },
   "outputs": [],
   "source": [
    "data_wide = data_sub_dedup.merge(all_scores)"
   ]
  },
  {
   "cell_type": "code",
   "execution_count": 492,
   "metadata": {
    "ExecuteTime": {
     "end_time": "2018-04-19T00:53:24.510702Z",
     "start_time": "2018-04-19T00:53:24.492738Z"
    }
   },
   "outputs": [
    {
     "data": {
      "text/html": [
       "<div>\n",
       "<style>\n",
       "    .dataframe thead tr:only-child th {\n",
       "        text-align: right;\n",
       "    }\n",
       "\n",
       "    .dataframe thead th {\n",
       "        text-align: left;\n",
       "    }\n",
       "\n",
       "    .dataframe tbody tr th {\n",
       "        vertical-align: top;\n",
       "    }\n",
       "</style>\n",
       "<table border=\"1\" class=\"dataframe\">\n",
       "  <thead>\n",
       "    <tr style=\"text-align: right;\">\n",
       "      <th></th>\n",
       "      <th>asin</th>\n",
       "      <th>review_id</th>\n",
       "      <th>sentence</th>\n",
       "      <th>vader_score</th>\n",
       "      <th>blob_score</th>\n",
       "      <th>vader_min</th>\n",
       "      <th>blob_min</th>\n",
       "      <th>vader_max</th>\n",
       "      <th>blob_max</th>\n",
       "    </tr>\n",
       "  </thead>\n",
       "  <tbody>\n",
       "    <tr>\n",
       "      <th>0</th>\n",
       "      <td>0929619730</td>\n",
       "      <td>1</td>\n",
       "      <td>B-flax-D is a regular at our house.</td>\n",
       "      <td>0.0</td>\n",
       "      <td>0.0</td>\n",
       "      <td>0.0</td>\n",
       "      <td>0.0</td>\n",
       "      <td>0.8271</td>\n",
       "      <td>0.7</td>\n",
       "    </tr>\n",
       "  </tbody>\n",
       "</table>\n",
       "</div>"
      ],
      "text/plain": [
       "         asin  review_id                             sentence  vader_score  \\\n",
       "0  0929619730          1  B-flax-D is a regular at our house.          0.0   \n",
       "\n",
       "   blob_score  vader_min  blob_min  vader_max  blob_max  \n",
       "0         0.0        0.0       0.0     0.8271       0.7  "
      ]
     },
     "execution_count": 492,
     "metadata": {},
     "output_type": "execute_result"
    }
   ],
   "source": [
    "data_wide[:1]"
   ]
  },
  {
   "cell_type": "code",
   "execution_count": 493,
   "metadata": {
    "ExecuteTime": {
     "end_time": "2018-04-19T00:53:36.700423Z",
     "start_time": "2018-04-19T00:53:36.620357Z"
    },
    "collapsed": true
   },
   "outputs": [
    {
     "data": {
      "text/html": [
       "<div>\n",
       "<style>\n",
       "    .dataframe thead tr:only-child th {\n",
       "        text-align: right;\n",
       "    }\n",
       "\n",
       "    .dataframe thead th {\n",
       "        text-align: left;\n",
       "    }\n",
       "\n",
       "    .dataframe tbody tr th {\n",
       "        vertical-align: top;\n",
       "    }\n",
       "</style>\n",
       "<table border=\"1\" class=\"dataframe\">\n",
       "  <thead>\n",
       "    <tr style=\"text-align: right;\">\n",
       "      <th></th>\n",
       "      <th>asin</th>\n",
       "      <th>review_id</th>\n",
       "      <th>sentence</th>\n",
       "      <th>vader_score</th>\n",
       "      <th>blob_score</th>\n",
       "      <th>vader_min</th>\n",
       "      <th>blob_min</th>\n",
       "      <th>vader_max</th>\n",
       "      <th>blob_max</th>\n",
       "      <th>min_sent_blob</th>\n",
       "      <th>max_sent_blob</th>\n",
       "      <th>min_sent_vader</th>\n",
       "      <th>max_sent_vader</th>\n",
       "    </tr>\n",
       "  </thead>\n",
       "  <tbody>\n",
       "    <tr>\n",
       "      <th>0</th>\n",
       "      <td>0929619730</td>\n",
       "      <td>1</td>\n",
       "      <td>B-flax-D is a regular at our house.</td>\n",
       "      <td>0.0000</td>\n",
       "      <td>0.0000</td>\n",
       "      <td>0.0000</td>\n",
       "      <td>0.000000</td>\n",
       "      <td>0.8271</td>\n",
       "      <td>0.7</td>\n",
       "      <td>1</td>\n",
       "      <td>0</td>\n",
       "      <td>1</td>\n",
       "      <td>0</td>\n",
       "    </tr>\n",
       "    <tr>\n",
       "      <th>1</th>\n",
       "      <td>0929619730</td>\n",
       "      <td>1</td>\n",
       "      <td>It does its job simply and with good results.</td>\n",
       "      <td>0.4404</td>\n",
       "      <td>0.3500</td>\n",
       "      <td>0.0000</td>\n",
       "      <td>0.000000</td>\n",
       "      <td>0.8271</td>\n",
       "      <td>0.7</td>\n",
       "      <td>0</td>\n",
       "      <td>0</td>\n",
       "      <td>0</td>\n",
       "      <td>0</td>\n",
       "    </tr>\n",
       "    <tr>\n",
       "      <th>2</th>\n",
       "      <td>0929619730</td>\n",
       "      <td>1</td>\n",
       "      <td>It is reasonable, lasts a long time, and is ab...</td>\n",
       "      <td>0.5106</td>\n",
       "      <td>0.2625</td>\n",
       "      <td>0.0000</td>\n",
       "      <td>0.000000</td>\n",
       "      <td>0.8271</td>\n",
       "      <td>0.7</td>\n",
       "      <td>0</td>\n",
       "      <td>0</td>\n",
       "      <td>0</td>\n",
       "      <td>0</td>\n",
       "    </tr>\n",
       "    <tr>\n",
       "      <th>3</th>\n",
       "      <td>0929619730</td>\n",
       "      <td>1</td>\n",
       "      <td>Good product, good price, good results.</td>\n",
       "      <td>0.8271</td>\n",
       "      <td>0.7000</td>\n",
       "      <td>0.0000</td>\n",
       "      <td>0.000000</td>\n",
       "      <td>0.8271</td>\n",
       "      <td>0.7</td>\n",
       "      <td>0</td>\n",
       "      <td>1</td>\n",
       "      <td>0</td>\n",
       "      <td>1</td>\n",
       "    </tr>\n",
       "    <tr>\n",
       "      <th>4</th>\n",
       "      <td>0978559088</td>\n",
       "      <td>2</td>\n",
       "      <td>I started taking this after both my parents di...</td>\n",
       "      <td>-0.5729</td>\n",
       "      <td>0.5000</td>\n",
       "      <td>-0.5729</td>\n",
       "      <td>-0.357143</td>\n",
       "      <td>0.7110</td>\n",
       "      <td>0.8</td>\n",
       "      <td>1</td>\n",
       "      <td>0</td>\n",
       "      <td>0</td>\n",
       "      <td>0</td>\n",
       "    </tr>\n",
       "  </tbody>\n",
       "</table>\n",
       "</div>"
      ],
      "text/plain": [
       "         asin  review_id                                           sentence  \\\n",
       "0  0929619730          1                B-flax-D is a regular at our house.   \n",
       "1  0929619730          1      It does its job simply and with good results.   \n",
       "2  0929619730          1  It is reasonable, lasts a long time, and is ab...   \n",
       "3  0929619730          1            Good product, good price, good results.   \n",
       "4  0978559088          2  I started taking this after both my parents di...   \n",
       "\n",
       "   vader_score  blob_score  vader_min  blob_min  vader_max  blob_max  \\\n",
       "0       0.0000      0.0000     0.0000  0.000000     0.8271       0.7   \n",
       "1       0.4404      0.3500     0.0000  0.000000     0.8271       0.7   \n",
       "2       0.5106      0.2625     0.0000  0.000000     0.8271       0.7   \n",
       "3       0.8271      0.7000     0.0000  0.000000     0.8271       0.7   \n",
       "4      -0.5729      0.5000    -0.5729 -0.357143     0.7110       0.8   \n",
       "\n",
       "   min_sent_blob  max_sent_blob  min_sent_vader  max_sent_vader  \n",
       "0              1              0               1               0  \n",
       "1              0              0               0               0  \n",
       "2              0              0               0               0  \n",
       "3              0              1               0               1  \n",
       "4              1              0               0               0  "
      ]
     },
     "execution_count": 493,
     "metadata": {},
     "output_type": "execute_result"
    }
   ],
   "source": [
    "data_wide['min_sent_blob'] = (data_wide.vader_score == data_wide.vader_min).astype(int)\n",
    "data_wide['max_sent_blob'] = (data_wide.vader_score == data_wide.vader_max).astype(int)\n",
    "data_wide['min_sent_vader'] = (data_wide.blob_score == data_wide.blob_min).astype(int)\n",
    "data_wide['max_sent_vader'] = (data_wide.blob_score == data_wide.blob_max).astype(int)\n",
    "data_wide.head()"
   ]
  },
  {
   "cell_type": "code",
   "execution_count": 495,
   "metadata": {
    "ExecuteTime": {
     "end_time": "2018-04-19T00:54:09.215660Z",
     "start_time": "2018-04-19T00:54:05.707487Z"
    }
   },
   "outputs": [
    {
     "data": {
      "text/plain": [
       "(317508, 372993)"
      ]
     },
     "execution_count": 495,
     "metadata": {},
     "output_type": "execute_result"
    }
   ],
   "source": [
    "# num differing\n",
    "sum(data_wide.max_sent_vader <> data_wide.max_sent_blob), sum(data_wide.min_sent_vader <> data_wide.min_sent_blob)"
   ]
  },
  {
   "cell_type": "code",
   "execution_count": 502,
   "metadata": {
    "ExecuteTime": {
     "end_time": "2018-04-19T00:57:07.248120Z",
     "start_time": "2018-04-19T00:57:04.018009Z"
    }
   },
   "outputs": [
    {
     "data": {
      "text/plain": [
       "(1169834, 1114349)"
      ]
     },
     "execution_count": 502,
     "metadata": {},
     "output_type": "execute_result"
    }
   ],
   "source": [
    "# num matches  \n",
    "sum(data_wide.max_sent_vader == data_wide.max_sent_blob), sum(data_wide.min_sent_vader == data_wide.min_sent_blob)"
   ]
  },
  {
   "cell_type": "code",
   "execution_count": 500,
   "metadata": {
    "ExecuteTime": {
     "end_time": "2018-04-19T00:55:16.760856Z",
     "start_time": "2018-04-19T00:55:16.756406Z"
    }
   },
   "outputs": [
    {
     "data": {
      "text/plain": [
       "1487342"
      ]
     },
     "execution_count": 500,
     "metadata": {},
     "output_type": "execute_result"
    }
   ],
   "source": [
    "len(data_wide)"
   ]
  },
  {
   "cell_type": "code",
   "execution_count": 505,
   "metadata": {
    "ExecuteTime": {
     "end_time": "2018-04-19T00:59:59.399187Z",
     "start_time": "2018-04-19T00:59:52.254599Z"
    }
   },
   "outputs": [],
   "source": [
    "data_wide.to_csv('../data/sentence_level_sentiments', sep =str('|'), index = False)"
   ]
  },
  {
   "cell_type": "markdown",
   "metadata": {},
   "source": [
    "### Nouns only"
   ]
  },
  {
   "cell_type": "code",
   "execution_count": 504,
   "metadata": {
    "ExecuteTime": {
     "end_time": "2018-04-19T00:59:39.733350Z",
     "start_time": "2018-04-19T00:59:39.712633Z"
    },
    "scrolled": true
   },
   "outputs": [
    {
     "data": {
      "text/html": [
       "<div>\n",
       "<style>\n",
       "    .dataframe thead tr:only-child th {\n",
       "        text-align: right;\n",
       "    }\n",
       "\n",
       "    .dataframe thead th {\n",
       "        text-align: left;\n",
       "    }\n",
       "\n",
       "    .dataframe tbody tr th {\n",
       "        vertical-align: top;\n",
       "    }\n",
       "</style>\n",
       "<table border=\"1\" class=\"dataframe\">\n",
       "  <thead>\n",
       "    <tr style=\"text-align: right;\">\n",
       "      <th></th>\n",
       "      <th>asin</th>\n",
       "      <th>review_id</th>\n",
       "      <th>sentence</th>\n",
       "      <th>vader_score</th>\n",
       "      <th>blob_score</th>\n",
       "      <th>vader_min</th>\n",
       "      <th>blob_min</th>\n",
       "      <th>vader_max</th>\n",
       "      <th>blob_max</th>\n",
       "      <th>min_sent_blob</th>\n",
       "      <th>max_sent_blob</th>\n",
       "      <th>min_sent_vader</th>\n",
       "      <th>max_sent_vader</th>\n",
       "    </tr>\n",
       "  </thead>\n",
       "  <tbody>\n",
       "    <tr>\n",
       "      <th>0</th>\n",
       "      <td>0929619730</td>\n",
       "      <td>1</td>\n",
       "      <td>B-flax-D is a regular at our house.</td>\n",
       "      <td>0.0</td>\n",
       "      <td>0.0</td>\n",
       "      <td>0.0</td>\n",
       "      <td>0.0</td>\n",
       "      <td>0.8271</td>\n",
       "      <td>0.7</td>\n",
       "      <td>1</td>\n",
       "      <td>0</td>\n",
       "      <td>1</td>\n",
       "      <td>0</td>\n",
       "    </tr>\n",
       "  </tbody>\n",
       "</table>\n",
       "</div>"
      ],
      "text/plain": [
       "         asin  review_id                             sentence  vader_score  \\\n",
       "0  0929619730          1  B-flax-D is a regular at our house.          0.0   \n",
       "\n",
       "   blob_score  vader_min  blob_min  vader_max  blob_max  min_sent_blob  \\\n",
       "0         0.0        0.0       0.0     0.8271       0.7              1   \n",
       "\n",
       "   max_sent_blob  min_sent_vader  max_sent_vader  \n",
       "0              0               1               0  "
      ]
     },
     "execution_count": 504,
     "metadata": {},
     "output_type": "execute_result"
    }
   ],
   "source": [
    "data_wide[:1]"
   ]
  },
  {
   "cell_type": "code",
   "execution_count": 506,
   "metadata": {
    "ExecuteTime": {
     "end_time": "2018-04-19T04:07:45.479031Z",
     "start_time": "2018-04-19T04:07:45.470272Z"
    }
   },
   "outputs": [],
   "source": [
    "def pull_nouns(sentence):\n",
    "    nouns = []\n",
    "    doc = nlp(u'{}'.format(sentence))\n",
    "    for np in doc.noun_chunks:\n",
    "        nouns.append(np.text)\n",
    "    return nouns"
   ]
  },
  {
   "cell_type": "code",
   "execution_count": 507,
   "metadata": {
    "ExecuteTime": {
     "end_time": "2018-04-19T08:02:08.860858Z",
     "start_time": "2018-04-19T04:07:57.969471Z"
    }
   },
   "outputs": [],
   "source": [
    "data_wide['nouns'] = data_wide.sentence.apply(pull_nouns)"
   ]
  },
  {
   "cell_type": "code",
   "execution_count": 509,
   "metadata": {
    "ExecuteTime": {
     "end_time": "2018-04-19T15:58:26.207192Z",
     "start_time": "2018-04-19T15:58:06.181516Z"
    }
   },
   "outputs": [],
   "source": [
    "data_wide.to_pickle('../data/sentence_w_nouns') # better to use pickle"
   ]
  },
  {
   "cell_type": "code",
   "execution_count": 516,
   "metadata": {
    "ExecuteTime": {
     "end_time": "2018-04-19T20:17:40.370323Z",
     "start_time": "2018-04-19T20:17:40.295673Z"
    }
   },
   "outputs": [
    {
     "data": {
      "text/plain": [
       "array([[u'Great price', u'this excellent product'],\n",
       "       [u'I', u'a bigger bottle', u'the price', u'ounce'], [u'The price'],\n",
       "       [u'This oil'], [u'It', u'the best face', u'you'],\n",
       "       [u'you', u'the shower'],\n",
       "       [u'I', u\"Jason's vitamin E oil\", u'a long time', u'a dry area', u'my skin'],\n",
       "       [u'I', u'it'], [u'great stuff', u'I', u'a difference', u'a week'],\n",
       "       [u'I', u'this purchase'], [u'Great value'],\n",
       "       [u'I', u'great things', u'Vitamin E use', u'I', u'it', u'an oil blend', u'I', u'my hair'],\n",
       "       [],\n",
       "       [u'I', u'many things', u'nothing', u'streachmarks', u'doctors', u'me', u'nothing', u'i', u'this oil', u'a week', u'i', u'a difference', u'the way', u'the lines', u'my skin', u'days', u'even some discoloration', u'it', u'almonds', u'i', u'i', u'it', u'i', u'my 5th month pregcy', u'i', u'6 bottles', u'i', u'i', u'a few months', u'I', u'this product', u'it', u'time'],\n",
       "       [u'I', u'vitamin E oil', u'it', u'my dark circles', u'my eyes', u'it', u'my sunburns'],\n",
       "       [u'I', u'the results'],\n",
       "       [u'I', u'it', u'place', u'baby oil', u'wax'],\n",
       "       [u'my face', u'body', u'it', u'sweet almonds'],\n",
       "       [u'what', u'it', u'what', u'my body'],\n",
       "       [u'I', u'it', u'my scalp', u'I', u'it', u'my face', u'legs', u'cuticles'],\n",
       "       [u'It', u'a pleasant smell'], [u'THE SKIN'], [u'Jason products'],\n",
       "       [u'This oil', u'I', u'it', u'my body'],\n",
       "       [u'the best part', u'the bottle'],\n",
       "       [u'they', u'it', u'I', u'it', u'them'], [],\n",
       "       [u'It', u'it', u'my winter skin'], [u'Absorbs'],\n",
       "       [u'I', u'it', u'an alternative', u'lotion', u'my stretch marks'],\n",
       "       [u'She', u'the results', u'especially the pleasent fragrance'],\n",
       "       [u'This stuff'], [u'I', u'the way', u'this product', u'the price'],\n",
       "       [u'I', u'it', u'it', u'I'], [u'hand', u'the smaller bottle', u'it'],\n",
       "       [u'Smells'], [u'This stuff'],\n",
       "       [u'It', u'an excellent moisturizer', u'very light and non greasy', u'hair growth'],\n",
       "       [u'the first signs', u'lines', u'the eyes'],\n",
       "       [u'your pet chicken', u'her', u'a mix', u'sand', u'compost', u'we', u'liquid soap', u'at least 19 words'],\n",
       "       [u'I', u'my skin', u'I', u'this thing', u'My acne scar feed', u'a little bitI', u'this one more time', u'it'],\n",
       "       [u'I', u'a mixture', u'essential oils'], [u'cuticles', u'bath oil'],\n",
       "       [u'I', u'combo skin', u'this cream', u'winter'],\n",
       "       [u'nothing', u'the cream', u'dryness'],\n",
       "       [u'This product', u'the best treatment'], [u'Fragrance'],\n",
       "       [u'years', u'my daughter', u'me', u'this lotion', u\"Mother's Day\", u'she', u'the Vitamin E', u'I', u'it'],\n",
       "       [], [], [u'I', u'sensitive skin', u'my face', u'it'],\n",
       "       [u'It', u'the difference', u'my skin'],\n",
       "       [u'I', u'dry, flaky skin', u'this one'], [u'I', u'this product'],\n",
       "       [u'I', u'dry skin', u'this lotion', u'my skin', u'it'],\n",
       "       [u'I', u'the 25,000 IU'],\n",
       "       [u'it', u'the bathroom', u'I', u'it', u'the way', u'it', u'my skin'],\n",
       "       [u'Amazon', u'it'],\n",
       "       [u'I', u'this cream', u'I', u'too many chemicals', u'my skin'],\n",
       "       [u'I', u'love', u'it'],\n",
       "       [u'It', u'a good product', u'it', u'cvs stores'],\n",
       "       [u'This product', u'everyone', u'it', u'me'],\n",
       "       [u'I', u'hair', u'no hair'],\n",
       "       [u'bald spots', u'6 months', u'I', u'no idea', u'NuHair', u'you', u'quick growth'],\n",
       "       [u'it'], [u'I', u'this product', u'about 4 months'],\n",
       "       [u'I', u'it', u'the thinned out area', u'I', u'bed'],\n",
       "       [u'I', u'the results', u'3 months', u'this product', u'No complaints'],\n",
       "       [u'My wife', u'this product', u'a long timeand', u'the results', u'she'],\n",
       "       [u'It'], [u'you', u'your hair', u'you', u'it', u'your scalp'],\n",
       "       [u'you', u'thinning hair', u'this product', u'it', u'I', u'I', u'Amazon', u\"I'm\", u'a customer/buyer', u'Amazon'],\n",
       "       [u'I', u'four boxes', u'the price', u'I', u'I', u'it'],\n",
       "       [u'I', u'the stuff', u'it', u'I', u'it', u'day'],\n",
       "       [u'I', u'it', u'it'], [u'I', u'Products', u'they'],\n",
       "       [u'Great product', u'price'], [u'I', u'it', u'over a year'],\n",
       "       [u'the product', u'years', u'it', u'My hair'],\n",
       "       [u'I', u'it', u'others'],\n",
       "       [u'I', u'an african american woman', u'my hair', u'the hair line', u'the top', u'my head', u'a combination', u'meds', u'hairstyles', u'I', u'this product', u'only a month', u'my edges', u'I', u'new growth', u'the top', u'head', u'my hair', u'I', u'the vitamins', u'I', u'the serum', u'vitamins', u'the results'],\n",
       "       [u'I', u'hair loss', u'I', u'longer hair', u'it', u'I', u'this 2 times', u'I', u'the original post'],\n",
       "       [u'Product', u'the best selling', u'the price', u'other places', u'I', u'it', u'the price'],\n",
       "       [u'expectations'], [u'this product', u'I', u'others'], [],\n",
       "       [u'I', u'a SIGNIFICANT difference', u'my hair', u'my hairdresser', u'it'],\n",
       "       [u'I', u'this product', u'me'], [u'I', u'fine hair'], [u'I', u'I'],\n",
       "       [u'this product'],\n",
       "       [u'Hair', u'great improvement t', u'texture', u'thickness'],\n",
       "       [u'NuHair Hair Regrowth Tablets', u'Women', u'this pills', u'a miracle', u'me', u'I', u'a month', u'they', u'my sheding', u'I'],\n",
       "       [u'I', u'this stuff'], [u'I', u'it'],\n",
       "       [u'It', u'a good thing', u'I', u'a good amount', u'hair', u'it'],\n",
       "       [u'I', u'these NuHair vitamins', u'a difference', u'I', u'them'],\n",
       "       [u'many reviews'], [u'I', u'this eye cream', u'night', u'5 years']], dtype=object)"
      ]
     },
     "execution_count": 516,
     "metadata": {},
     "output_type": "execute_result"
    }
   ],
   "source": [
    "data_wide[data_wide.max_sent_vader == 1].nouns.values[1001:1100]"
   ]
  },
  {
   "cell_type": "code",
   "execution_count": null,
   "metadata": {},
   "outputs": [],
   "source": []
  }
 ],
 "metadata": {
  "kernelspec": {
   "display_name": "Python 3",
   "language": "python",
   "name": "python3"
  },
  "language_info": {
   "codemirror_mode": {
    "name": "ipython",
    "version": 3
   },
   "file_extension": ".py",
   "mimetype": "text/x-python",
   "name": "python",
   "nbconvert_exporter": "python",
   "pygments_lexer": "ipython3",
   "version": "3.6.4"
  },
  "toc": {
   "nav_menu": {},
   "number_sections": true,
   "sideBar": true,
   "skip_h1_title": false,
   "toc_cell": false,
   "toc_position": {
    "height": "calc(100% - 180px)",
    "left": "10px",
    "top": "150px",
    "width": "313px"
   },
   "toc_section_display": true,
   "toc_window_display": true
  },
  "varInspector": {
   "cols": {
    "lenName": 16,
    "lenType": 16,
    "lenVar": 40
   },
   "kernels_config": {
    "python": {
     "delete_cmd_postfix": "",
     "delete_cmd_prefix": "del ",
     "library": "var_list.py",
     "varRefreshCmd": "print(var_dic_list())"
    },
    "r": {
     "delete_cmd_postfix": ") ",
     "delete_cmd_prefix": "rm(",
     "library": "var_list.r",
     "varRefreshCmd": "cat(var_dic_list()) "
    }
   },
   "types_to_exclude": [
    "module",
    "function",
    "builtin_function_or_method",
    "instance",
    "_Feature"
   ],
   "window_display": false
  }
 },
 "nbformat": 4,
 "nbformat_minor": 2
}
