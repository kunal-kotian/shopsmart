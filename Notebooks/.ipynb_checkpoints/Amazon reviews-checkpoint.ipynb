{
 "cells": [
  {
   "cell_type": "code",
   "execution_count": 37,
   "metadata": {},
   "outputs": [],
   "source": [
    "import pandas as pd\n",
    "import numpy as np\n",
    "import re\n",
    "import string\n",
    "import os\n",
    "import codecs\n",
    "from sklearn.feature_extraction.text import TfidfVectorizer, CountVectorizer\n",
    "from sklearn.datasets import fetch_20newsgroups\n",
    "from sklearn.decomposition import NMF, LatentDirichletAllocation\n",
    "import nltk\n",
    "from nltk.corpus import stopwords\n",
    "from stop_words import get_stop_words\n",
    "\n",
    "path = '/Users/deena/Documents/Spring_Module2/App_dev/App Work/Data'"
   ]
  },
  {
   "cell_type": "code",
   "execution_count": 27,
   "metadata": {
    "collapsed": true
   },
   "outputs": [],
   "source": [
    "df = pd.read_table(path+'/amazon_reviews/reviews_data_clean', delimiter='|')\n",
    "df.replace(np.nan, '', regex=True, inplace = True)"
   ]
  },
  {
   "cell_type": "code",
   "execution_count": 28,
   "metadata": {},
   "outputs": [
    {
     "data": {
      "text/html": [
       "<div>\n",
       "<style>\n",
       "    .dataframe thead tr:only-child th {\n",
       "        text-align: right;\n",
       "    }\n",
       "\n",
       "    .dataframe thead th {\n",
       "        text-align: left;\n",
       "    }\n",
       "\n",
       "    .dataframe tbody tr th {\n",
       "        vertical-align: top;\n",
       "    }\n",
       "</style>\n",
       "<table border=\"1\" class=\"dataframe\">\n",
       "  <thead>\n",
       "    <tr style=\"text-align: right;\">\n",
       "      <th></th>\n",
       "      <th>asin</th>\n",
       "      <th>helpful</th>\n",
       "      <th>reviewText</th>\n",
       "      <th>overall</th>\n",
       "      <th>summary</th>\n",
       "      <th>description</th>\n",
       "      <th>title</th>\n",
       "      <th>categories_clean</th>\n",
       "    </tr>\n",
       "  </thead>\n",
       "  <tbody>\n",
       "    <tr>\n",
       "      <th>0</th>\n",
       "      <td>0929619730</td>\n",
       "      <td>[0, 0]</td>\n",
       "      <td>B-flax-D is a regular at our house. It does it...</td>\n",
       "      <td>5.0</td>\n",
       "      <td>Dpes the job well</td>\n",
       "      <td>Contains Organic Cold-Milled Flaxseed\\nValuabl...</td>\n",
       "      <td>New Generation B-Flax-D</td>\n",
       "      <td>Health &amp; Personal Care, Vitamins &amp; Dietary Sup...</td>\n",
       "    </tr>\n",
       "    <tr>\n",
       "      <th>1</th>\n",
       "      <td>0978559088</td>\n",
       "      <td>[1, 1]</td>\n",
       "      <td>Studies show that Resveratrol is poorly absorb...</td>\n",
       "      <td>4.0</td>\n",
       "      <td>Fast shipping, good communication</td>\n",
       "      <td>Everyone knows that resveratrol is an amazing ...</td>\n",
       "      <td>Nutrihill Resveratrol Lozenges</td>\n",
       "      <td>Health &amp; Personal Care, Vitamins &amp; Dietary Sup...</td>\n",
       "    </tr>\n",
       "    <tr>\n",
       "      <th>2</th>\n",
       "      <td>0978559088</td>\n",
       "      <td>[1, 1]</td>\n",
       "      <td>I started taking this after both my parents di...</td>\n",
       "      <td>5.0</td>\n",
       "      <td>Bioavailability is the key</td>\n",
       "      <td>Everyone knows that resveratrol is an amazing ...</td>\n",
       "      <td>Nutrihill Resveratrol Lozenges</td>\n",
       "      <td>Health &amp; Personal Care, Vitamins &amp; Dietary Sup...</td>\n",
       "    </tr>\n",
       "    <tr>\n",
       "      <th>3</th>\n",
       "      <td>0978559088</td>\n",
       "      <td>[0, 1]</td>\n",
       "      <td>I tried Nutrihill, but did not feel any of the...</td>\n",
       "      <td>1.0</td>\n",
       "      <td>Other Resveratrol Supplements are Better</td>\n",
       "      <td>Everyone knows that resveratrol is an amazing ...</td>\n",
       "      <td>Nutrihill Resveratrol Lozenges</td>\n",
       "      <td>Health &amp; Personal Care, Vitamins &amp; Dietary Sup...</td>\n",
       "    </tr>\n",
       "    <tr>\n",
       "      <th>4</th>\n",
       "      <td>0978559088</td>\n",
       "      <td>[0, 0]</td>\n",
       "      <td>I really liked this product because it stayed ...</td>\n",
       "      <td>5.0</td>\n",
       "      <td>I can't find this product any longer, and I wi...</td>\n",
       "      <td>Everyone knows that resveratrol is an amazing ...</td>\n",
       "      <td>Nutrihill Resveratrol Lozenges</td>\n",
       "      <td>Health &amp; Personal Care, Vitamins &amp; Dietary Sup...</td>\n",
       "    </tr>\n",
       "  </tbody>\n",
       "</table>\n",
       "</div>"
      ],
      "text/plain": [
       "         asin helpful                                         reviewText  \\\n",
       "0  0929619730  [0, 0]  B-flax-D is a regular at our house. It does it...   \n",
       "1  0978559088  [1, 1]  Studies show that Resveratrol is poorly absorb...   \n",
       "2  0978559088  [1, 1]  I started taking this after both my parents di...   \n",
       "3  0978559088  [0, 1]  I tried Nutrihill, but did not feel any of the...   \n",
       "4  0978559088  [0, 0]  I really liked this product because it stayed ...   \n",
       "\n",
       "   overall                                            summary  \\\n",
       "0      5.0                                  Dpes the job well   \n",
       "1      4.0                  Fast shipping, good communication   \n",
       "2      5.0                         Bioavailability is the key   \n",
       "3      1.0           Other Resveratrol Supplements are Better   \n",
       "4      5.0  I can't find this product any longer, and I wi...   \n",
       "\n",
       "                                         description  \\\n",
       "0  Contains Organic Cold-Milled Flaxseed\\nValuabl...   \n",
       "1  Everyone knows that resveratrol is an amazing ...   \n",
       "2  Everyone knows that resveratrol is an amazing ...   \n",
       "3  Everyone knows that resveratrol is an amazing ...   \n",
       "4  Everyone knows that resveratrol is an amazing ...   \n",
       "\n",
       "                            title  \\\n",
       "0         New Generation B-Flax-D   \n",
       "1  Nutrihill Resveratrol Lozenges   \n",
       "2  Nutrihill Resveratrol Lozenges   \n",
       "3  Nutrihill Resveratrol Lozenges   \n",
       "4  Nutrihill Resveratrol Lozenges   \n",
       "\n",
       "                                    categories_clean  \n",
       "0  Health & Personal Care, Vitamins & Dietary Sup...  \n",
       "1  Health & Personal Care, Vitamins & Dietary Sup...  \n",
       "2  Health & Personal Care, Vitamins & Dietary Sup...  \n",
       "3  Health & Personal Care, Vitamins & Dietary Sup...  \n",
       "4  Health & Personal Care, Vitamins & Dietary Sup...  "
      ]
     },
     "execution_count": 28,
     "metadata": {},
     "output_type": "execute_result"
    }
   ],
   "source": [
    "df.head()"
   ]
  },
  {
   "cell_type": "code",
   "execution_count": 29,
   "metadata": {},
   "outputs": [
    {
     "data": {
      "text/plain": [
       "48278"
      ]
     },
     "execution_count": 29,
     "metadata": {},
     "output_type": "execute_result"
    }
   ],
   "source": [
    "df.title.nunique()"
   ]
  },
  {
   "cell_type": "markdown",
   "metadata": {
    "collapsed": true
   },
   "source": [
    "## LDA"
   ]
  },
  {
   "cell_type": "code",
   "execution_count": 31,
   "metadata": {},
   "outputs": [],
   "source": [
    "documents = df.summary + ' ' + df.reviewText"
   ]
  },
  {
   "cell_type": "code",
   "execution_count": 32,
   "metadata": {},
   "outputs": [
    {
     "data": {
      "text/plain": [
       "\"Fast shipping, good communication Studies show that Resveratrol is poorly absorbed when taken by pill, but lozenges are very effectively absorbed. Hardly any companies are selling lozenges. This company promises 99% purity and has fast shipping and good communication. I can't comment on the quality of product because I'm not a chemist but they seem to be legitimate.\""
      ]
     },
     "execution_count": 32,
     "metadata": {},
     "output_type": "execute_result"
    }
   ],
   "source": [
    "documents[1]"
   ]
  },
  {
   "cell_type": "code",
   "execution_count": 33,
   "metadata": {},
   "outputs": [],
   "source": [
    "no_features = 1000\n",
    "\n",
    "# NMF is able to use tf-idf\n",
    "tfidf_vectorizer = TfidfVectorizer(max_df=0.95, min_df=2, max_features=no_features, stop_words='english')\n",
    "tfidf = tfidf_vectorizer.fit_transform(documents)\n",
    "tfidf_feature_names = tfidf_vectorizer.get_feature_names()"
   ]
  },
  {
   "cell_type": "code",
   "execution_count": 35,
   "metadata": {},
   "outputs": [
    {
     "name": "stderr",
     "output_type": "stream",
     "text": [
      "/Users/deena/anaconda/envs/fastai/lib/python3.6/site-packages/sklearn/decomposition/online_lda.py:294: DeprecationWarning: n_topics has been renamed to n_components in version 0.19 and will be removed in 0.21\n",
      "  DeprecationWarning)\n"
     ]
    },
    {
     "name": "stdout",
     "output_type": "stream",
     "text": [
      "Topic 0:\n",
      "taking day pills just started days time weeks week bottle\n",
      "Topic 1:\n",
      "great stuff value tastes service deal fast easy way thanks\n",
      "Topic 2:\n",
      "product recommend using excellent results highly happy used order purchase\n",
      "Topic 3:\n",
      "good stuff far pretty value quality tastes buy health think\n",
      "Topic 4:\n",
      "weight loss lost lose pounds appetite diet exercise garcinia lbs\n",
      "Topic 5:\n",
      "work did didn does doesn took tried notice try really\n",
      "Topic 6:\n",
      "oil fish omega krill fishy burps smell quality dha capsules\n",
      "Topic 7:\n",
      "works really stuff does better helps tried like recommend actually\n",
      "Topic 8:\n",
      "love stuff kids awesome absolutely amazing buy really helps recommend\n",
      "Topic 9:\n",
      "price quality buy amazon brand shipping store order reasonable excellent\n",
      "Topic 10:\n",
      "energy feel better gives boost difference appetite like feeling level\n",
      "Topic 11:\n",
      "stars gave excellent ok reason giving expected rate fast given\n",
      "Topic 12:\n",
      "vitamin vitamins easy multi swallow d3 daily calcium stomach kids\n",
      "Topic 13:\n",
      "34 say just don ingredients said reviews know products says\n",
      "Topic 14:\n",
      "best ve tried used products far years market brands brand\n",
      "Topic 15:\n",
      "money waste don buy save worth time does did dont\n",
      "Topic 16:\n",
      "hair skin nails using difference noticed growth grow biotin face\n",
      "Topic 17:\n",
      "use easy continue time used pedometer daily water swallow day\n",
      "Topic 18:\n",
      "taste like flavor tastes water bad drink just don protein\n",
      "Topic 19:\n",
      "supplement help pain recommended years helps health doctor blood supplements\n",
      "Topic 0:\n",
      "price buy good amazon order 8217 purchase customer service ordered\n",
      "Topic 1:\n",
      "vitamin oil fish omega ingredients natural magnesium calcium krill gel\n",
      "Topic 2:\n",
      "product great recommend good highly works use price using amazing\n",
      "Topic 3:\n",
      "product try just days did reviews sure decided time read\n",
      "Topic 4:\n",
      "stuff brand green extract coffee tea good deal market liquid\n",
      "Topic 5:\n",
      "really like works work don say does just better know\n",
      "Topic 6:\n",
      "results weeks noticed taking working definitely difference using continue months\n",
      "Topic 7:\n",
      "taste like good great powder flavor water just tastes protein\n",
      "Topic 8:\n",
      "skin pure issues smell update drops face problems packaging dry\n",
      "Topic 9:\n",
      "34 didn did dr work review oz took maybe pill\n",
      "Topic 10:\n",
      "weight lost loss product pounds lose diet garcinia exercise eat\n",
      "Topic 11:\n",
      "bottle helped capsules mg capsule 100 overall 50 result 60\n",
      "Topic 12:\n",
      "supplement pills supplements free pill blood high taking levels good\n",
      "Topic 13:\n",
      "different pain half twice help belly buying joint wrong person\n",
      "Topic 14:\n",
      "ve best far excellent helps tried used good years workout\n",
      "Topic 15:\n",
      "love quality health hair healthy nice high good kids products\n",
      "Topic 16:\n",
      "day fat need body night water just sleep extra morning\n",
      "Topic 17:\n",
      "energy appetite feel vitamins taking daily great like better stomach\n",
      "Topic 18:\n",
      "taking started day days recommended doctor week ago effects feel\n",
      "Topic 19:\n",
      "easy stars husband thanks small star needs son takes count\n"
     ]
    }
   ],
   "source": [
    "def display_topics(model, feature_names, no_top_words):\n",
    "    for topic_idx, topic in enumerate(model.components_):\n",
    "        print(\"Topic %d:\" % (topic_idx))\n",
    "        print(\" \".join([feature_names[i]\n",
    "                        for i in topic.argsort()[:-no_top_words - 1:-1]]))\n",
    "    \n",
    "no_topics = 20\n",
    "\n",
    "# Run NMF\n",
    "nmf = NMF(n_components=no_topics, random_state=1, alpha=.1, l1_ratio=.5, init='nndsvd').fit(tfidf)\n",
    "\n",
    "# Run LDA\n",
    "lda = LatentDirichletAllocation(n_topics=no_topics, max_iter=5, learning_method='online', learning_offset=50.,random_state=0).fit(tfidf)\n",
    "\n",
    "no_top_words = 10\n",
    "display_topics(nmf, tfidf_feature_names, no_top_words)\n",
    "display_topics(lda, tf_feature_names, no_top_words)"
   ]
  },
  {
   "cell_type": "code",
   "execution_count": null,
   "metadata": {
    "collapsed": true
   },
   "outputs": [],
   "source": [
    "# LDA may not work. WHY?\n",
    " # Usually used for summarizing a corpus\n",
    " # Or for finding a topic for the ENTIRE corpus. For ex, here the topic would be 'health supplements'\n",
    " # Cannot extract smaller topics such as cost, price etc. since LDA gives a summary"
   ]
  },
  {
   "cell_type": "markdown",
   "metadata": {},
   "source": [
    "## Rules based for topics"
   ]
  },
  {
   "cell_type": "code",
   "execution_count": 38,
   "metadata": {},
   "outputs": [
    {
     "name": "stdout",
     "output_type": "stream",
     "text": [
      "[nltk_data] Downloading package stopwords to /Users/deena/nltk_data...\n",
      "[nltk_data]   Package stopwords is already up-to-date!\n"
     ]
    },
    {
     "data": {
      "text/plain": [
       "True"
      ]
     },
     "execution_count": 38,
     "metadata": {},
     "output_type": "execute_result"
    }
   ],
   "source": [
    "#nltk.download(\"stopwords\")"
   ]
  },
  {
   "cell_type": "code",
   "execution_count": 43,
   "metadata": {},
   "outputs": [],
   "source": [
    "nltk_stpwd = stopwords.words('english')\n",
    "stop_words_stpwd = get_stop_words('en')\n",
    "merged_stopwords = list(set(nltk_stpwd + stop_words_stpwd))"
   ]
  },
  {
   "cell_type": "code",
   "execution_count": 44,
   "metadata": {
    "collapsed": true
   },
   "outputs": [],
   "source": [
    "def words(text):\n",
    "    regex = re.compile('[' + re.escape(string.punctuation) + '0-9\\\\r\\\\t\\\\n]')\n",
    "    nopunct = regex.sub(\" \", text)\n",
    "    words = nopunct.split(' ')\n",
    "    words = [w for w in words if len(w) > 2]\n",
    "    words = [w.lower() for w in words]\n",
    "    goodwords = [w for w in words if w not in merged_stopwords]\n",
    "\n",
    "    return goodwords"
   ]
  },
  {
   "cell_type": "code",
   "execution_count": 53,
   "metadata": {},
   "outputs": [],
   "source": [
    "reviews = df.summary + ' ' + df.reviewText\n",
    "reviews_tokenized = []\n",
    "for r in reviews:\n",
    "    reviews_tokenized.append(words(r))"
   ]
  },
  {
   "cell_type": "code",
   "execution_count": 52,
   "metadata": {},
   "outputs": [],
   "source": [
    "# Synonyms (This package is useless, not using)\n",
    "#from PyDictionary import PyDictionary\n",
    "#dictionary=PyDictionary()"
   ]
  },
  {
   "cell_type": "code",
   "execution_count": 116,
   "metadata": {},
   "outputs": [
    {
     "data": {
      "text/html": [
       "<div>\n",
       "<style>\n",
       "    .dataframe thead tr:only-child th {\n",
       "        text-align: right;\n",
       "    }\n",
       "\n",
       "    .dataframe thead th {\n",
       "        text-align: left;\n",
       "    }\n",
       "\n",
       "    .dataframe tbody tr th {\n",
       "        vertical-align: top;\n",
       "    }\n",
       "</style>\n",
       "<table border=\"1\" class=\"dataframe\">\n",
       "  <thead>\n",
       "    <tr style=\"text-align: right;\">\n",
       "      <th></th>\n",
       "      <th>3</th>\n",
       "      <th>0</th>\n",
       "    </tr>\n",
       "  </thead>\n",
       "  <tbody>\n",
       "    <tr>\n",
       "      <th>109</th>\n",
       "      <td>Supplements</td>\n",
       "      <td>91138</td>\n",
       "    </tr>\n",
       "    <tr>\n",
       "      <th>38</th>\n",
       "      <td>Digestive Supplements</td>\n",
       "      <td>51420</td>\n",
       "    </tr>\n",
       "    <tr>\n",
       "      <th>80</th>\n",
       "      <td>Multiple Vitamin-Mineral Supplements</td>\n",
       "      <td>42864</td>\n",
       "    </tr>\n",
       "    <tr>\n",
       "      <th>5</th>\n",
       "      <td>Appetite Control &amp; Suppressants</td>\n",
       "      <td>40246</td>\n",
       "    </tr>\n",
       "    <tr>\n",
       "      <th>44</th>\n",
       "      <td>Essential Fatty Acids</td>\n",
       "      <td>27148</td>\n",
       "    </tr>\n",
       "  </tbody>\n",
       "</table>\n",
       "</div>"
      ],
      "text/plain": [
       "                                        3      0\n",
       "109                           Supplements  91138\n",
       "38                  Digestive Supplements  51420\n",
       "80   Multiple Vitamin-Mineral Supplements  42864\n",
       "5         Appetite Control & Suppressants  40246\n",
       "44                  Essential Fatty Acids  27148"
      ]
     },
     "execution_count": 116,
     "metadata": {},
     "output_type": "execute_result"
    }
   ],
   "source": [
    "# Let's try for one product category only, which to pick?\n",
    "\n",
    "df_categories = df.categories_clean.str.split(', ', expand = True).loc[:,:4]\n",
    "df_categories[3].isnull().sum() # 15% nulls\n",
    "df_categories.groupby(df_categories[3]).count()[0].reset_index().sort_values(0, ascending = False).head()"
   ]
  },
  {
   "cell_type": "code",
   "execution_count": 121,
   "metadata": {},
   "outputs": [],
   "source": [
    "# Let's take 'Supplements'\n",
    "# Filtering on supplements:\n",
    "\n",
    "df_supplements = df[df_categories[3] == 'Supplements']\n",
    "reviews_tokenized = np.array(reviews_tokenized)\n",
    "reviews_tokenized_supplements = reviews_tokenized[df_categories[3] == 'Supplements']"
   ]
  },
  {
   "cell_type": "code",
   "execution_count": 129,
   "metadata": {},
   "outputs": [
    {
     "name": "stdout",
     "output_type": "stream",
     "text": [
      "[('product', 81640), ('weight', 58576), ('taking', 29982), ('great', 29710), ('lost', 27678), ('work', 25260), ('like', 23841), ('loss', 23125), ('good', 22925), ('day', 22577), ('energy', 22433), ('really', 21614), ('one', 21534), ('take', 20978), ('pounds', 20943), ('feel', 20096), ('results', 19614), ('lose', 19099), ('appetite', 19055), ('works', 19003), ('diet', 16978), ('weeks', 16519), ('pills', 16431), ('get', 16194), ('using', 15455), ('week', 15060), ('time', 15058), ('also', 14586), ('lbs', 14327), ('eat', 13910), ('much', 13669), ('try', 13636), ('first', 13060), ('see', 12993), ('coffee', 12899), ('recommend', 12845), ('bottle', 12828), ('started', 12332), ('help', 12308), ('well', 12200), ('exercise', 12146), ('green', 11610), ('far', 11469), ('fat', 11437), ('days', 11404), ('tried', 11299), ('month', 11100), ('love', 11096), ('eating', 10824), ('two', 10568), ('better', 10369), ('even', 9817), ('use', 9734), ('give', 9670), ('pill', 9651), ('money', 9632), ('effects', 9427), ('extract', 9375), ('supplement', 9338), ('side', 9218), ('products', 9176), ('used', 8902), ('noticed', 8629), ('little', 8583), ('raspberry', 8535), ('working', 8455), ('say', 8443), ('since', 8384), ('garcinia', 8218), ('still', 8158), ('months', 8090), ('bean', 7997), ('definitely', 7986), ('took', 7880), ('think', 7855), ('know', 7812), ('make', 7699), ('body', 7629), ('nothing', 7437), ('sure', 7433), ('back', 7195), ('without', 7159), ('lot', 7084), ('difference', 7008), ('less', 6990), ('going', 6957), ('way', 6915), ('best', 6810), ('reviews', 6676), ('ketones', 6661), ('buy', 6486), ('cambogia', 6434), ('need', 6317), ('helps', 6266), ('helped', 6263), ('healthy', 6240), ('water', 6239), ('keep', 6191), ('losing', 6112), ('want', 6094)]\n"
     ]
    }
   ],
   "source": [
    "# tfidf won't work for reviews probably (each document is too small and may not have repeasting words even)\n",
    "\n",
    "# Trying just counter of words:\n",
    "\n",
    "from itertools import chain\n",
    "import collections\n",
    "\n",
    "unlisted = list(chain(*reviews_tokenized_supplements))\n",
    "counter = collections.Counter(unlisted)\n",
    "print(counter.most_common()[:100])"
   ]
  },
  {
   "cell_type": "code",
   "execution_count": 128,
   "metadata": {},
   "outputs": [
    {
     "data": {
      "text/plain": [
       "41754"
      ]
     },
     "execution_count": 128,
     "metadata": {},
     "output_type": "execute_result"
    }
   ],
   "source": [
    "counter # That's the total unique words we have"
   ]
  },
  {
   "cell_type": "code",
   "execution_count": 152,
   "metadata": {},
   "outputs": [
    {
     "data": {
      "text/plain": [
       "20022"
      ]
     },
     "execution_count": 152,
     "metadata": {},
     "output_type": "execute_result"
    }
   ],
   "source": [
    "# Finding common words. List below\n",
    "len([text for text in df_supplements.reviewText if 'help' in text])\n",
    "\n",
    "# cost - 1005\n",
    "# price - 3739\n",
    "# ship - 2094\n",
    "# pack - 1939\n",
    "# pricey - 21\n",
    "# cheap - 1069\n",
    "# quality - 1415\n",
    "# return - 1087\n",
    "# deliver - 1115\n",
    "# packag - 1186\n",
    "\n",
    "# Efficacy General:\n",
    "    # work - 33400 \n",
    "    # recommend - 15619\n",
    "    # love - 6419\n",
    "    # help - 20022"
   ]
  },
  {
   "cell_type": "code",
   "execution_count": 159,
   "metadata": {},
   "outputs": [
    {
     "name": "stdout",
     "output_type": "stream",
     "text": [
      "14819\n",
      "75460\n",
      "91138\n"
     ]
    }
   ],
   "source": [
    "# Number of reviews that talk about these two stuff:\n",
    "non_efficacy_list = ['cost', 'price', 'ship', 'pack', 'pricey', 'cheap', 'quality', 'return', 'deliver', 'packag']\n",
    "efficacy_list = ['work', 'recommend', 'love', 'help']\n",
    "\n",
    "print(len([review for word in non_efficacy_list for review in df_supplements.reviewText if word in review]))\n",
    "print(len([review for word in efficacy_list for review in df_supplements.reviewText if word in review]))\n",
    "print(len(df_supplements))\n",
    "\n",
    "# Conclusion: this list covers nearly 99% of reviews (not checked for overlaps), \n",
    "# with 16% talking about non efficacy and 82% talking about efficacy."
   ]
  },
  {
   "cell_type": "code",
   "execution_count": 171,
   "metadata": {},
   "outputs": [
    {
     "name": "stdout",
     "output_type": "stream",
     "text": [
      "Efficacy Good:  57337\n",
      "Non Efficacy Good:  10137\n",
      "Efficacy Bad:  18123\n",
      "Non Efficacy Bad:  4682\n"
     ]
    }
   ],
   "source": [
    "# Efficacy: Good vs Bad?\n",
    "# Rating 4 and above: Good, else Bad\n",
    "\n",
    "# Good reviews\n",
    "print (\"Efficacy Good: \", sum([1 for word in efficacy_list for review in df_supplements[df_supplements.overall >= 4.0].reviewText \n",
    "     if word in review]))\n",
    "print (\"Non Efficacy Good: \", sum([1 for word in non_efficacy_list for review in df_supplements[df_supplements.overall >= 4.0].reviewText \n",
    "     if word in review]))\n",
    "\n",
    "# Bad reviews\n",
    "print (\"Efficacy Bad: \", sum([1 for word in efficacy_list for review in df_supplements[df_supplements.overall < 4.0].reviewText \n",
    "     if word in review]))\n",
    "print (\"Non Efficacy Bad: \", sum([1 for word in non_efficacy_list for review in df_supplements[df_supplements.overall < 4.0].reviewText \n",
    "     if word in review]))"
   ]
  },
  {
   "cell_type": "code",
   "execution_count": 179,
   "metadata": {},
   "outputs": [
    {
     "data": {
      "image/png": "[encoded data removed]",
      "text/plain": [
       "<matplotlib.figure.Figure at 0x26c3097b8>"
      ]
     },
     "metadata": {},
     "output_type": "display_data"
    }
   ],
   "source": [
    "import matplotlib.pyplot as plt\n",
    "%matplotlib inline\n",
    "\n",
    "ind = np.arange(2) \n",
    "Good = [57337, 10137]\n",
    "Bad = [18123, 4682]\n",
    "#No_mention = [91138 - 57337 - 18123, 91138 - 10137 - 4682]\n",
    "\n",
    "p1 = plt.bar(ind, Good)\n",
    "p2 = plt.bar(ind, Bad)\n",
    "#p3 = plt.bar(ind, No_mention)\n",
    "plt.xticks(ind, ('Efficacy', 'Non Efficacy'))\n",
    "#plt.yticks(np.arange(0, 81, 10))\n",
    "plt.legend((p1[0], p2[0]), ('Good', 'Bad'))\n",
    "\n",
    "plt.show()"
   ]
  },
  {
   "cell_type": "markdown",
   "metadata": {},
   "source": [
    "## Reviews not matching to any of the words in the list can be tackled through embeddings"
   ]
  },
  {
   "cell_type": "code",
   "execution_count": null,
   "metadata": {
    "collapsed": true
   },
   "outputs": [],
   "source": []
  },
  {
   "cell_type": "code",
   "execution_count": null,
   "metadata": {
    "collapsed": true
   },
   "outputs": [],
   "source": []
  },
  {
   "cell_type": "markdown",
   "metadata": {},
   "source": [
    "## Trying spacy to get the sentiment"
   ]
  },
  {
   "cell_type": "code",
   "execution_count": null,
   "metadata": {
    "collapsed": true
   },
   "outputs": [],
   "source": []
  }
 ],
 "metadata": {
  "kernelspec": {
   "display_name": "Python 2",
   "language": "python",
   "name": "python2"
  },
  "language_info": {
   "codemirror_mode": {
    "name": "ipython",
    "version": 2
   },
   "file_extension": ".py",
   "mimetype": "text/x-python",
   "name": "python",
   "nbconvert_exporter": "python",
   "pygments_lexer": "ipython2",
   "version": "2.7.14"
  },
  "toc": {
   "nav_menu": {},
   "number_sections": true,
   "sideBar": true,
   "skip_h1_title": false,
   "title_cell": "Table of Contents",
   "title_sidebar": "Contents",
   "toc_cell": false,
   "toc_position": {},
   "toc_section_display": true,
   "toc_window_display": false
  },
  "varInspector": {
   "cols": {
    "lenName": 16,
    "lenType": 16,
    "lenVar": 40
   },
   "kernels_config": {
    "python": {
     "delete_cmd_postfix": "",
     "delete_cmd_prefix": "del ",
     "library": "var_list.py",
     "varRefreshCmd": "print(var_dic_list())"
    },
    "r": {
     "delete_cmd_postfix": ") ",
     "delete_cmd_prefix": "rm(",
     "library": "var_list.r",
     "varRefreshCmd": "cat(var_dic_list()) "
    }
   },
   "types_to_exclude": [
    "module",
    "function",
    "builtin_function_or_method",
    "instance",
    "_Feature"
   ],
   "window_display": false
  }
 },
 "nbformat": 4,
 "nbformat_minor": 2
}
