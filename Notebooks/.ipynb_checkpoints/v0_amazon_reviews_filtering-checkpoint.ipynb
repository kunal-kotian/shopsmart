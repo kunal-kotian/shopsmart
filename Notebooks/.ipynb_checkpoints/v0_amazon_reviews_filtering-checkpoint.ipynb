{
 "cells": [
  {
   "cell_type": "code",
   "execution_count": 1,
   "metadata": {
    "ExecuteTime": {
     "end_time": "2018-04-23T22:23:18.227094Z",
     "start_time": "2018-04-23T22:23:16.608746Z"
    }
   },
   "outputs": [],
   "source": [
    "import pandas as pd\n",
    "import numpy as np \n",
    "import collections\n",
    "import re\n",
    "\n",
    "import spacy\n",
    "from spacy import displacy\n",
    "import en_core_web_sm\n",
    "\n",
    "import warnings\n",
    "warnings.filterwarnings('ignore')"
   ]
  },
  {
   "cell_type": "code",
   "execution_count": 2,
   "metadata": {
    "ExecuteTime": {
     "end_time": "2018-04-02T19:43:34.557440Z",
     "start_time": "2018-04-02T19:43:34.551465Z"
    },
    "collapsed": true
   },
   "outputs": [],
   "source": [
    "# functions from McCauley to read Amazon data\n",
    "# needed for metadata files which have funny json formatting\n",
    "def parse(path):\n",
    "    g = open(path, 'rb')\n",
    "    for l in g:\n",
    "        yield eval(l)\n",
    "\n",
    "def getDF(path):\n",
    "    i = 0\n",
    "    df = {}\n",
    "    for d in parse(path):\n",
    "        df[i] = d\n",
    "        i += 1\n",
    "    return pd.DataFrame.from_dict(df, orient='index')"
   ]
  },
  {
   "cell_type": "code",
   "execution_count": 4,
   "metadata": {
    "ExecuteTime": {
     "end_time": "2018-04-23T22:24:41.629787Z",
     "start_time": "2018-04-23T22:24:41.626623Z"
    }
   },
   "outputs": [],
   "source": [
    "path = '/Users/booranium/practicum/amazon/data/'"
   ]
  },
  {
   "cell_type": "markdown",
   "metadata": {},
   "source": [
    "### Load Amazon Data"
   ]
  },
  {
   "cell_type": "code",
   "execution_count": 4,
   "metadata": {
    "ExecuteTime": {
     "end_time": "2018-04-02T19:53:41.114979Z",
     "start_time": "2018-04-02T19:43:40.941789Z"
    },
    "collapsed": true
   },
   "outputs": [],
   "source": [
    "# load health and groceries data \n",
    "amz_data_health = getDF(path + 'reviews_Health_and_Personal_Care.json')\n",
    "amz_meta_health = getDF(path + 'meta_Health_and_Personal_Care.json')\n",
    "amz_data_groc = getDF(path + 'reviews_Grocery_and_Gourmet_Food.json')\n",
    "amz_meta_groc = getDF(path + 'meta_Grocery_and_Gourmet_Food.json')"
   ]
  },
  {
   "cell_type": "code",
   "execution_count": 1,
   "metadata": {
    "ExecuteTime": {
     "end_time": "2018-04-19T22:23:30.743569Z",
     "start_time": "2018-04-19T22:23:30.533266Z"
    }
   },
   "outputs": [
    {
     "ename": "NameError",
     "evalue": "name 'data' is not defined",
     "output_type": "error",
     "traceback": [
      "\u001b[0;31m---------------------------------------------------------------------------\u001b[0m",
      "\u001b[0;31mNameError\u001b[0m                                 Traceback (most recent call last)",
      "\u001b[0;32m<ipython-input-1-199065406915>\u001b[0m in \u001b[0;36m<module>\u001b[0;34m()\u001b[0m\n\u001b[0;32m----> 1\u001b[0;31m \u001b[0mdata\u001b[0m\u001b[0;34m.\u001b[0m\u001b[0mhead\u001b[0m\u001b[0;34m(\u001b[0m\u001b[0;34m)\u001b[0m\u001b[0;34m\u001b[0m\u001b[0m\n\u001b[0m",
      "\u001b[0;31mNameError\u001b[0m: name 'data' is not defined"
     ]
    }
   ],
   "source": [
    "data.head()"
   ]
  },
  {
   "cell_type": "markdown",
   "metadata": {},
   "source": [
    "Notes on data:\n",
    "* More ASINs in metadata than in data; this doesn't matter because...\n",
    "* All ASINs in data have corresponding metadata record \n",
    "* 1 duplicate ASIN: 'B00A2AWKZG'"
   ]
  },
  {
   "cell_type": "code",
   "execution_count": 35,
   "metadata": {
    "ExecuteTime": {
     "end_time": "2018-04-02T21:12:15.550687Z",
     "start_time": "2018-04-02T21:12:15.082969Z"
    }
   },
   "outputs": [
    {
     "data": {
      "text/plain": [
       "1490"
      ]
     },
     "execution_count": 35,
     "metadata": {},
     "output_type": "execute_result"
    }
   ],
   "source": [
    "# check 'categories' variable in health data \n",
    "health_cats = amz_meta_health.categories.values.tolist()\n",
    "flat_health_cats = [val for sublist in health_cats for val in sublist]\n",
    "flatter_health_cats = [val for sublist in flat_health_cats for val in sublist]\n",
    "unique_health_cats = list(set(flatter_health_cats))\n",
    "len(unique_health_cats)"
   ]
  },
  {
   "cell_type": "code",
   "execution_count": 34,
   "metadata": {
    "ExecuteTime": {
     "end_time": "2018-04-02T21:12:08.025899Z",
     "start_time": "2018-04-02T21:12:07.691261Z"
    }
   },
   "outputs": [
    {
     "data": {
      "text/plain": [
       "537"
      ]
     },
     "execution_count": 34,
     "metadata": {},
     "output_type": "execute_result"
    }
   ],
   "source": [
    "# check 'categories' variable in grocery data \n",
    "groc_cats = amz_meta_groc.categories.values.tolist()\n",
    "flat_groc_cats = [val for sublist in groc_cats for val in sublist]\n",
    "flatter_groc_cats = [val for sublist in flat_groc_cats for val in sublist]\n",
    "unique_groc_cats = list(set(flatter_groc_cats))\n",
    "len(unique_groc_cats)"
   ]
  },
  {
   "cell_type": "code",
   "execution_count": 242,
   "metadata": {
    "ExecuteTime": {
     "end_time": "2018-04-02T23:23:23.724299Z",
     "start_time": "2018-04-02T23:23:23.718983Z"
    }
   },
   "outputs": [
    {
     "data": {
      "text/plain": [
       "['Passions',\n",
       " 'Vitamins',\n",
       " 'Paper & Plastic',\n",
       " 'Piercing Supplies',\n",
       " 'Poison Ivy Relief']"
      ]
     },
     "execution_count": 242,
     "metadata": {},
     "output_type": "execute_result"
    }
   ],
   "source": [
    "unique_health_cats[:5]"
   ]
  },
  {
   "cell_type": "code",
   "execution_count": 287,
   "metadata": {
    "ExecuteTime": {
     "end_time": "2018-04-02T23:55:34.415611Z",
     "start_time": "2018-04-02T23:55:34.411789Z"
    }
   },
   "outputs": [],
   "source": [
    "# filter metadata to 'categories' of interest \n",
    "# currently hardcodings matches; can later do a match on all terms listed on examine.com \n",
    "patterns_list = ['vitamin', 'supplement', 'mineral', 'complex',\\\n",
    "                 'iron', 'calcium', 'omega', 'herb', 'creatine',\\\n",
    "                 'enzyme', 'spiru', 'carnit', 'green', 'curc',\\\n",
    "                 'turme', 'fish oil', 'ashw'] \n",
    "patterns = re.compile('|'.join(patterns_list))\n",
    "amz_meta_health.categories_lower.str.contains(patterns, regex = True, \\\n",
    "                                              flags = re.IGNORECASE, na = False)"
   ]
  },
  {
   "cell_type": "code",
   "execution_count": 306,
   "metadata": {
    "ExecuteTime": {
     "end_time": "2018-04-03T00:01:23.296026Z",
     "start_time": "2018-04-03T00:01:23.272795Z"
    }
   },
   "outputs": [
    {
     "data": {
      "text/html": [
       "<div>\n",
       "<style>\n",
       "    .dataframe thead tr:only-child th {\n",
       "        text-align: right;\n",
       "    }\n",
       "\n",
       "    .dataframe thead th {\n",
       "        text-align: left;\n",
       "    }\n",
       "\n",
       "    .dataframe tbody tr th {\n",
       "        vertical-align: top;\n",
       "    }\n",
       "</style>\n",
       "<table border=\"1\" class=\"dataframe\">\n",
       "  <thead>\n",
       "    <tr style=\"text-align: right;\">\n",
       "      <th></th>\n",
       "      <th>asin</th>\n",
       "      <th>description</th>\n",
       "      <th>title</th>\n",
       "      <th>imUrl</th>\n",
       "      <th>related</th>\n",
       "      <th>salesRank</th>\n",
       "      <th>price</th>\n",
       "      <th>brand</th>\n",
       "      <th>categories_clean</th>\n",
       "      <th>categories_lower</th>\n",
       "    </tr>\n",
       "  </thead>\n",
       "  <tbody>\n",
       "    <tr>\n",
       "      <th>0</th>\n",
       "      <td>0077614992</td>\n",
       "      <td>This is an example product description.</td>\n",
       "      <td>Principles of Mgmt + Oper-CSUF Custom C</td>\n",
       "      <td>http://ecx.images-amazon.com/images/I/51G%2BRq...</td>\n",
       "      <td>{u'also_bought': [u'0471730726', u'0132834871'...</td>\n",
       "      <td>{u'Health &amp; Personal Care': 168429}</td>\n",
       "      <td>NaN</td>\n",
       "      <td>NaN</td>\n",
       "      <td>Health &amp; Personal Care</td>\n",
       "      <td>health &amp; personal care</td>\n",
       "    </tr>\n",
       "    <tr>\n",
       "      <th>1</th>\n",
       "      <td>0615208479</td>\n",
       "      <td>By now we all know the benefits of exercise fo...</td>\n",
       "      <td>Brain Fitness Exercises Software</td>\n",
       "      <td>http://ecx.images-amazon.com/images/I/41kbZB04...</td>\n",
       "      <td>NaN</td>\n",
       "      <td>{u'Health &amp; Personal Care': 1346973}</td>\n",
       "      <td>NaN</td>\n",
       "      <td>NaN</td>\n",
       "      <td>Health &amp; Personal Care, Personal Care</td>\n",
       "      <td>health &amp; personal care, personal care</td>\n",
       "    </tr>\n",
       "  </tbody>\n",
       "</table>\n",
       "</div>"
      ],
      "text/plain": [
       "         asin                                        description  \\\n",
       "0  0077614992            This is an example product description.   \n",
       "1  0615208479  By now we all know the benefits of exercise fo...   \n",
       "\n",
       "                                     title  \\\n",
       "0  Principles of Mgmt + Oper-CSUF Custom C   \n",
       "1         Brain Fitness Exercises Software   \n",
       "\n",
       "                                               imUrl  \\\n",
       "0  http://ecx.images-amazon.com/images/I/51G%2BRq...   \n",
       "1  http://ecx.images-amazon.com/images/I/41kbZB04...   \n",
       "\n",
       "                                             related  \\\n",
       "0  {u'also_bought': [u'0471730726', u'0132834871'...   \n",
       "1                                                NaN   \n",
       "\n",
       "                              salesRank  price brand  \\\n",
       "0   {u'Health & Personal Care': 168429}    NaN   NaN   \n",
       "1  {u'Health & Personal Care': 1346973}    NaN   NaN   \n",
       "\n",
       "                        categories_clean  \\\n",
       "0                 Health & Personal Care   \n",
       "1  Health & Personal Care, Personal Care   \n",
       "\n",
       "                        categories_lower  \n",
       "0                 health & personal care  \n",
       "1  health & personal care, personal care  "
      ]
     },
     "execution_count": 306,
     "metadata": {},
     "output_type": "execute_result"
    }
   ],
   "source": [
    "amz_meta_health['cat_list'] = amz_meta_health['categories'].apply(lambda x: [val for sublist in x for val in sublist])\n",
    "amz_meta_health['categories_clean'] = amz_meta_health['cat_list'].apply(lambda x: ', '.join(x))\n",
    "amz_meta_health['categories_lower'] = amz_meta_health['categories_clean'].apply(lambda x: x.lower())\n",
    "# lower manually as flags = re.IGNORECASE cannot be processed with a compiled pattern\n",
    "amz_meta_health.drop(['categories', 'cat_list'], axis = 1, inplace = True)\n",
    "amz_meta_health[:2]"
   ]
  },
  {
   "cell_type": "code",
   "execution_count": 304,
   "metadata": {
    "ExecuteTime": {
     "end_time": "2018-04-03T00:00:52.723815Z",
     "start_time": "2018-04-03T00:00:51.744627Z"
    }
   },
   "outputs": [
    {
     "data": {
      "text/plain": [
       "49761"
      ]
     },
     "execution_count": 304,
     "metadata": {},
     "output_type": "execute_result"
    }
   ],
   "source": [
    "amz_meta_small = amz_meta_health[amz_meta_health.categories_lower.str.contains(patterns, regex = True,  na = False)]\n",
    "len(amz_meta_small)"
   ]
  },
  {
   "cell_type": "code",
   "execution_count": 307,
   "metadata": {
    "ExecuteTime": {
     "end_time": "2018-04-03T00:01:36.392936Z",
     "start_time": "2018-04-03T00:01:36.388978Z"
    }
   },
   "outputs": [
    {
     "name": "stdout",
     "output_type": "stream",
     "text": [
      "0.19\n"
     ]
    }
   ],
   "source": [
    "# Proportion of ASINs retained:\n",
    "print(\"%.2f\" % (len(amz_meta_small)*1.0/len(amz_meta_health)*1.0))"
   ]
  },
  {
   "cell_type": "code",
   "execution_count": 308,
   "metadata": {
    "ExecuteTime": {
     "end_time": "2018-04-03T00:01:39.251358Z",
     "start_time": "2018-04-03T00:01:39.149571Z"
    }
   },
   "outputs": [
    {
     "name": "stdout",
     "output_type": "stream",
     "text": [
      "[]\n"
     ]
    }
   ],
   "source": [
    "# check for duplicates that would affect table joins:\n",
    "a = amz_meta_small.asin.tolist()\n",
    "print [item for item, count in collections.Counter(a).items() if count > 1]"
   ]
  },
  {
   "cell_type": "code",
   "execution_count": 309,
   "metadata": {
    "ExecuteTime": {
     "end_time": "2018-04-03T00:01:43.245087Z",
     "start_time": "2018-04-03T00:01:41.900612Z"
    }
   },
   "outputs": [
    {
     "data": {
      "text/plain": [
       "585678"
      ]
     },
     "execution_count": 309,
     "metadata": {},
     "output_type": "execute_result"
    }
   ],
   "source": [
    "data_all = amz_data_health.merge(amz_meta_small, how='inner', on='asin')\n",
    "len(data_all)"
   ]
  },
  {
   "cell_type": "code",
   "execution_count": 310,
   "metadata": {
    "ExecuteTime": {
     "end_time": "2018-04-03T00:01:47.162242Z",
     "start_time": "2018-04-03T00:01:47.158076Z"
    }
   },
   "outputs": [
    {
     "name": "stdout",
     "output_type": "stream",
     "text": [
      "0.20\n"
     ]
    }
   ],
   "source": [
    "# Proportion of reviews retained:\n",
    "print(\"%.2f\" % (len(data_all)*1.0/len(amz_data_health)*1.0))"
   ]
  },
  {
   "cell_type": "code",
   "execution_count": 313,
   "metadata": {
    "ExecuteTime": {
     "end_time": "2018-04-03T00:02:13.387164Z",
     "start_time": "2018-04-03T00:02:13.358254Z"
    }
   },
   "outputs": [
    {
     "data": {
      "text/html": [
       "<div>\n",
       "<style>\n",
       "    .dataframe thead tr:only-child th {\n",
       "        text-align: right;\n",
       "    }\n",
       "\n",
       "    .dataframe thead th {\n",
       "        text-align: left;\n",
       "    }\n",
       "\n",
       "    .dataframe tbody tr th {\n",
       "        vertical-align: top;\n",
       "    }\n",
       "</style>\n",
       "<table border=\"1\" class=\"dataframe\">\n",
       "  <thead>\n",
       "    <tr style=\"text-align: right;\">\n",
       "      <th></th>\n",
       "      <th>reviewerID</th>\n",
       "      <th>asin</th>\n",
       "      <th>reviewerName</th>\n",
       "      <th>helpful</th>\n",
       "      <th>unixReviewTime</th>\n",
       "      <th>reviewText</th>\n",
       "      <th>overall</th>\n",
       "      <th>reviewTime</th>\n",
       "      <th>summary</th>\n",
       "      <th>description</th>\n",
       "      <th>title</th>\n",
       "      <th>imUrl</th>\n",
       "      <th>related</th>\n",
       "      <th>salesRank</th>\n",
       "      <th>price</th>\n",
       "      <th>brand</th>\n",
       "      <th>categories_clean</th>\n",
       "      <th>categories_lower</th>\n",
       "    </tr>\n",
       "  </thead>\n",
       "  <tbody>\n",
       "    <tr>\n",
       "      <th>0</th>\n",
       "      <td>AY5NWX45GCYUE</td>\n",
       "      <td>0929619730</td>\n",
       "      <td>seasalt</td>\n",
       "      <td>[0, 0]</td>\n",
       "      <td>1401494400</td>\n",
       "      <td>B-flax-D is a regular at our house. It does it...</td>\n",
       "      <td>5.0</td>\n",
       "      <td>05 31, 2014</td>\n",
       "      <td>Dpes the job well</td>\n",
       "      <td>Contains Organic Cold-Milled Flaxseed\\nValuabl...</td>\n",
       "      <td>New Generation B-Flax-D</td>\n",
       "      <td>http://ecx.images-amazon.com/images/I/41YpSZ%2...</td>\n",
       "      <td>{u'also_bought': [u'B000VUJY6A', u'B000VULNBO'...</td>\n",
       "      <td>{u'Health &amp; Personal Care': 199107}</td>\n",
       "      <td>24.95</td>\n",
       "      <td>New Generation B-Flax-D</td>\n",
       "      <td>Health &amp; Personal Care, Vitamins &amp; Dietary Sup...</td>\n",
       "      <td>health &amp; personal care, vitamins &amp; dietary sup...</td>\n",
       "    </tr>\n",
       "    <tr>\n",
       "      <th>1</th>\n",
       "      <td>A36Y3ZIL9416N8</td>\n",
       "      <td>0978559088</td>\n",
       "      <td>Adam P. Simer</td>\n",
       "      <td>[1, 1]</td>\n",
       "      <td>1266624000</td>\n",
       "      <td>Studies show that Resveratrol is poorly absorb...</td>\n",
       "      <td>4.0</td>\n",
       "      <td>02 20, 2010</td>\n",
       "      <td>Fast shipping, good communication</td>\n",
       "      <td>Everyone knows that resveratrol is an amazing ...</td>\n",
       "      <td>Nutrihill Resveratrol Lozenges</td>\n",
       "      <td>http://ecx.images-amazon.com/images/I/31znLKmN...</td>\n",
       "      <td>NaN</td>\n",
       "      <td>{u'Health &amp; Personal Care': 405706}</td>\n",
       "      <td>NaN</td>\n",
       "      <td>NaN</td>\n",
       "      <td>Health &amp; Personal Care, Vitamins &amp; Dietary Sup...</td>\n",
       "      <td>health &amp; personal care, vitamins &amp; dietary sup...</td>\n",
       "    </tr>\n",
       "  </tbody>\n",
       "</table>\n",
       "</div>"
      ],
      "text/plain": [
       "       reviewerID        asin   reviewerName helpful  unixReviewTime  \\\n",
       "0   AY5NWX45GCYUE  0929619730        seasalt  [0, 0]      1401494400   \n",
       "1  A36Y3ZIL9416N8  0978559088  Adam P. Simer  [1, 1]      1266624000   \n",
       "\n",
       "                                          reviewText  overall   reviewTime  \\\n",
       "0  B-flax-D is a regular at our house. It does it...      5.0  05 31, 2014   \n",
       "1  Studies show that Resveratrol is poorly absorb...      4.0  02 20, 2010   \n",
       "\n",
       "                             summary  \\\n",
       "0                  Dpes the job well   \n",
       "1  Fast shipping, good communication   \n",
       "\n",
       "                                         description  \\\n",
       "0  Contains Organic Cold-Milled Flaxseed\\nValuabl...   \n",
       "1  Everyone knows that resveratrol is an amazing ...   \n",
       "\n",
       "                            title  \\\n",
       "0         New Generation B-Flax-D   \n",
       "1  Nutrihill Resveratrol Lozenges   \n",
       "\n",
       "                                               imUrl  \\\n",
       "0  http://ecx.images-amazon.com/images/I/41YpSZ%2...   \n",
       "1  http://ecx.images-amazon.com/images/I/31znLKmN...   \n",
       "\n",
       "                                             related  \\\n",
       "0  {u'also_bought': [u'B000VUJY6A', u'B000VULNBO'...   \n",
       "1                                                NaN   \n",
       "\n",
       "                             salesRank  price                    brand  \\\n",
       "0  {u'Health & Personal Care': 199107}  24.95  New Generation B-Flax-D   \n",
       "1  {u'Health & Personal Care': 405706}    NaN                      NaN   \n",
       "\n",
       "                                    categories_clean  \\\n",
       "0  Health & Personal Care, Vitamins & Dietary Sup...   \n",
       "1  Health & Personal Care, Vitamins & Dietary Sup...   \n",
       "\n",
       "                                    categories_lower  \n",
       "0  health & personal care, vitamins & dietary sup...  \n",
       "1  health & personal care, vitamins & dietary sup...  "
      ]
     },
     "execution_count": 313,
     "metadata": {},
     "output_type": "execute_result"
    }
   ],
   "source": [
    "data_all[:2]"
   ]
  },
  {
   "cell_type": "code",
   "execution_count": 314,
   "metadata": {
    "ExecuteTime": {
     "end_time": "2018-04-03T00:02:25.915460Z",
     "start_time": "2018-04-03T00:02:25.454633Z"
    }
   },
   "outputs": [],
   "source": [
    "# keep only those columns related to reviews and star ratings \n",
    "data = data_all[['asin', 'helpful', 'reviewText', 'overall', 'summary', 'description', 'title', 'categories_clean']]"
   ]
  },
  {
   "cell_type": "code",
   "execution_count": 315,
   "metadata": {
    "ExecuteTime": {
     "end_time": "2018-04-03T00:02:30.011362Z",
     "start_time": "2018-04-03T00:02:29.965822Z"
    }
   },
   "outputs": [
    {
     "data": {
      "text/plain": [
       "48315"
      ]
     },
     "execution_count": 315,
     "metadata": {},
     "output_type": "execute_result"
    }
   ],
   "source": [
    "# filter out pet/vet supplies! \n",
    "len(data.title.unique())"
   ]
  },
  {
   "cell_type": "code",
   "execution_count": 316,
   "metadata": {
    "ExecuteTime": {
     "end_time": "2018-04-03T00:02:32.949992Z",
     "start_time": "2018-04-03T00:02:32.640680Z"
    }
   },
   "outputs": [
    {
     "data": {
      "text/plain": [
       "['description', 'title']"
      ]
     },
     "execution_count": 316,
     "metadata": {},
     "output_type": "execute_result"
    }
   ],
   "source": [
    "data.columns[data.isnull().any()].tolist()"
   ]
  },
  {
   "cell_type": "code",
   "execution_count": 317,
   "metadata": {
    "ExecuteTime": {
     "end_time": "2018-04-03T00:02:35.898995Z",
     "start_time": "2018-04-03T00:02:35.578430Z"
    }
   },
   "outputs": [
    {
     "name": "stdout",
     "output_type": "stream",
     "text": [
      "0.02\n"
     ]
    }
   ],
   "source": [
    "# Prop. data with missing description or title \n",
    "print (\"%.2f\" % (len(data[pd.isnull(data).any(axis=1)])*1.0/len(data)*1.0))"
   ]
  },
  {
   "cell_type": "code",
   "execution_count": 318,
   "metadata": {
    "ExecuteTime": {
     "end_time": "2018-04-03T00:02:41.295084Z",
     "start_time": "2018-04-03T00:02:38.567133Z"
    }
   },
   "outputs": [],
   "source": [
    "# Fill na with 'none'\n",
    "data.fillna('none', inplace = True)"
   ]
  },
  {
   "cell_type": "code",
   "execution_count": 320,
   "metadata": {
    "ExecuteTime": {
     "end_time": "2018-04-03T00:03:10.479003Z",
     "start_time": "2018-04-03T00:03:10.027861Z"
    }
   },
   "outputs": [],
   "source": [
    "pet_patterns_list = ['Canine', 'Feline', 'Pet ', 'Cat', 'Dog']\n",
    "# use capitalized version as 'pet' is in many not-pet related titles\n",
    "pet_pat = re.compile('|'.join(pet_patterns_list))\n",
    "data_keep = data[data.title.str.match(pet_pat) == False]"
   ]
  },
  {
   "cell_type": "code",
   "execution_count": 322,
   "metadata": {
    "ExecuteTime": {
     "end_time": "2018-04-03T00:03:22.911926Z",
     "start_time": "2018-04-03T00:03:22.907237Z"
    }
   },
   "outputs": [
    {
     "data": {
      "text/plain": [
       "234"
      ]
     },
     "execution_count": 322,
     "metadata": {},
     "output_type": "execute_result"
    }
   ],
   "source": [
    "# Number pet-related records removed\n",
    "len(data) - len(data_keep)"
   ]
  },
  {
   "cell_type": "code",
   "execution_count": 324,
   "metadata": {
    "ExecuteTime": {
     "end_time": "2018-04-03T00:05:11.056180Z",
     "start_time": "2018-04-03T00:05:01.608323Z"
    }
   },
   "outputs": [],
   "source": [
    "data_keep.to_csv('data_clean', sep='|', index = False)"
   ]
  },
  {
   "cell_type": "markdown",
   "metadata": {},
   "source": [
    "### Spacy NLP"
   ]
  },
  {
   "cell_type": "code",
   "execution_count": 1,
   "metadata": {
    "ExecuteTime": {
     "end_time": "2018-04-13T00:00:49.641077Z",
     "start_time": "2018-04-13T00:00:49.637846Z"
    }
   },
   "outputs": [],
   "source": [
    "text = u'We got this GPS for my husband who is an (OTR) over the road trucker.  Very Impressed with the shipping time, it arrived a few days earlier than expected...  within a week of use however it started freezing up... could of just been a glitch in that unit.  Worked great when it worked!  Will work great for the normal person as well but does have the \"trucker\" option. (the big truck routes - tells you when a scale is coming up ect...)  Love the bigger screen, the ease of use, the ease of putting addresses into memory.  Nothing really bad to say about the unit with the exception of it freezing which is probably one in a million and that\\'s just my luck.  I contacted the seller and within minutes of my email I received a email back with instructions for an exchange! VERY impressed all the way around!'"
   ]
  },
  {
   "cell_type": "code",
   "execution_count": 29,
   "metadata": {
    "ExecuteTime": {
     "end_time": "2018-03-19T21:09:58.929168Z",
     "start_time": "2018-03-19T21:09:58.894491Z"
    }
   },
   "outputs": [
    {
     "name": "stdout",
     "output_type": "stream",
     "text": [
      "(u'We', u'-PRON-', u'PRON', u'PRP', u'nsubj', u'Xx', True, False)\n",
      "(u'got', u'get', u'VERB', u'VBD', u'ROOT', u'xxx', True, False)\n",
      "(u'this', u'this', u'DET', u'DT', u'det', u'xxxx', True, True)\n",
      "(u'GPS', u'gps', u'NOUN', u'NN', u'dobj', u'XXX', True, False)\n",
      "(u'for', u'for', u'ADP', u'IN', u'prep', u'xxx', True, True)\n",
      "(u'my', u'-PRON-', u'ADJ', u'PRP$', u'poss', u'xx', True, True)\n",
      "(u'husband', u'husband', u'NOUN', u'NN', u'pobj', u'xxxx', True, False)\n",
      "(u'who', u'who', u'NOUN', u'WP', u'nsubj', u'xxx', True, True)\n",
      "(u'is', u'be', u'VERB', u'VBZ', u'relcl', u'xx', True, True)\n",
      "(u'an', u'an', u'DET', u'DT', u'det', u'xx', True, True)\n",
      "(u'(', u'(', u'PUNCT', u'-LRB-', u'punct', u'(', False, False)\n",
      "(u'OTR', u'otr', u'PROPN', u'NNP', u'attr', u'XXX', True, False)\n",
      "(u')', u')', u'PUNCT', u'-RRB-', u'punct', u')', False, False)\n",
      "(u'over', u'over', u'ADP', u'IN', u'prep', u'xxxx', True, True)\n",
      "(u'the', u'the', u'DET', u'DT', u'det', u'xxx', True, True)\n",
      "(u'road', u'road', u'NOUN', u'NN', u'compound', u'xxxx', True, False)\n",
      "(u'trucker', u'trucker', u'NOUN', u'NN', u'pobj', u'xxxx', True, False)\n",
      "(u'.', u'.', u'PUNCT', u'.', u'punct', u'.', False, False)\n",
      "(u' ', u' ', u'SPACE', u'', u'', u' ', False, False)\n",
      "(u'Very', u'very', u'ADV', u'RB', u'advmod', u'Xxxx', True, False)\n",
      "(u'Impressed', u'impressed', u'ADJ', u'JJ', u'advcl', u'Xxxxx', True, False)\n",
      "(u'with', u'with', u'ADP', u'IN', u'prep', u'xxxx', True, True)\n",
      "(u'the', u'the', u'DET', u'DT', u'det', u'xxx', True, True)\n",
      "(u'shipping', u'shipping', u'NOUN', u'NN', u'compound', u'xxxx', True, False)\n",
      "(u'time', u'time', u'NOUN', u'NN', u'pobj', u'xxxx', True, False)\n",
      "(u',', u',', u'PUNCT', u',', u'punct', u',', False, False)\n",
      "(u'it', u'-PRON-', u'PRON', u'PRP', u'nsubj', u'xx', True, True)\n",
      "(u'arrived', u'arrive', u'VERB', u'VBD', u'ROOT', u'xxxx', True, False)\n",
      "(u'a', u'a', u'DET', u'DT', u'det', u'x', True, True)\n",
      "(u'few', u'few', u'ADJ', u'JJ', u'amod', u'xxx', True, True)\n",
      "(u'days', u'day', u'NOUN', u'NNS', u'npadvmod', u'xxxx', True, False)\n",
      "(u'earlier', u'earlier', u'ADV', u'RBR', u'advmod', u'xxxx', True, False)\n",
      "(u'than', u'than', u'ADP', u'IN', u'mark', u'xxxx', True, True)\n",
      "(u'expected', u'expect', u'VERB', u'VBN', u'advcl', u'xxxx', True, False)\n",
      "(u'...', u'...', u'PUNCT', u':', u'punct', u'...', False, False)\n",
      "(u' ', u' ', u'SPACE', u'', u'', u' ', False, False)\n",
      "(u'within', u'within', u'ADP', u'IN', u'prep', u'xxxx', True, True)\n",
      "(u'a', u'a', u'DET', u'DT', u'det', u'x', True, True)\n",
      "(u'week', u'week', u'NOUN', u'NN', u'pobj', u'xxxx', True, False)\n",
      "(u'of', u'of', u'ADP', u'IN', u'prep', u'xx', True, True)\n",
      "(u'use', u'use', u'NOUN', u'NN', u'pobj', u'xxx', True, False)\n",
      "(u'however', u'however', u'ADV', u'RB', u'advmod', u'xxxx', True, True)\n",
      "(u'it', u'-PRON-', u'PRON', u'PRP', u'nsubj', u'xx', True, True)\n",
      "(u'started', u'start', u'VERB', u'VBD', u'advcl', u'xxxx', True, False)\n",
      "(u'freezing', u'freeze', u'VERB', u'VBG', u'xcomp', u'xxxx', True, False)\n",
      "(u'up', u'up', u'PART', u'RP', u'prt', u'xx', True, True)\n",
      "(u'...', u'...', u'PUNCT', u'NFP', u'punct', u'...', False, False)\n",
      "(u'could', u'could', u'VERB', u'MD', u'aux', u'xxxx', True, True)\n",
      "(u'of', u'of', u'ADP', u'IN', u'prep', u'xx', True, True)\n",
      "(u'just', u'just', u'ADV', u'RB', u'advmod', u'xxxx', True, True)\n",
      "(u'been', u'be', u'VERB', u'VBN', u'conj', u'xxxx', True, True)\n",
      "(u'a', u'a', u'DET', u'DT', u'det', u'x', True, True)\n",
      "(u'glitch', u'glitch', u'NOUN', u'NN', u'attr', u'xxxx', True, False)\n",
      "(u'in', u'in', u'ADP', u'IN', u'prep', u'xx', True, True)\n",
      "(u'that', u'that', u'DET', u'DT', u'det', u'xxxx', True, True)\n",
      "(u'unit', u'unit', u'NOUN', u'NN', u'pobj', u'xxxx', True, False)\n",
      "(u'.', u'.', u'PUNCT', u'.', u'punct', u'.', False, False)\n",
      "(u' ', u' ', u'SPACE', u'', u'', u' ', False, False)\n",
      "(u'Worked', u'work', u'VERB', u'VBD', u'ROOT', u'Xxxxx', True, False)\n",
      "(u'great', u'great', u'ADV', u'RB', u'advmod', u'xxxx', True, False)\n",
      "(u'when', u'when', u'ADV', u'WRB', u'advmod', u'xxxx', True, True)\n",
      "(u'it', u'-PRON-', u'PRON', u'PRP', u'nsubj', u'xx', True, True)\n",
      "(u'worked', u'work', u'VERB', u'VBD', u'advcl', u'xxxx', True, False)\n",
      "(u'!', u'!', u'PUNCT', u'.', u'punct', u'!', False, False)\n",
      "(u' ', u' ', u'SPACE', u'', u'', u' ', False, False)\n",
      "(u'Will', u'will', u'VERB', u'MD', u'aux', u'Xxxx', True, False)\n",
      "(u'work', u'work', u'VERB', u'VB', u'ROOT', u'xxxx', True, False)\n",
      "(u'great', u'great', u'ADV', u'RB', u'advmod', u'xxxx', True, False)\n",
      "(u'for', u'for', u'ADP', u'IN', u'prep', u'xxx', True, True)\n",
      "(u'the', u'the', u'DET', u'DT', u'det', u'xxx', True, True)\n",
      "(u'normal', u'normal', u'ADJ', u'JJ', u'amod', u'xxxx', True, False)\n",
      "(u'person', u'person', u'NOUN', u'NN', u'pobj', u'xxxx', True, False)\n",
      "(u'as', u'as', u'ADV', u'RB', u'advmod', u'xx', True, True)\n",
      "(u'well', u'well', u'ADV', u'RB', u'advmod', u'xxxx', True, True)\n",
      "(u'but', u'but', u'CCONJ', u'CC', u'cc', u'xxx', True, True)\n",
      "(u'does', u'do', u'VERB', u'VBZ', u'aux', u'xxxx', True, True)\n",
      "(u'have', u'have', u'VERB', u'VB', u'conj', u'xxxx', True, True)\n",
      "(u'the', u'the', u'DET', u'DT', u'det', u'xxx', True, True)\n",
      "(u'\"', u'\"', u'PUNCT', u'``', u'punct', u'\"', False, False)\n",
      "(u'trucker', u'trucker', u'NOUN', u'NN', u'amod', u'xxxx', True, False)\n",
      "(u'\"', u'\"', u'PUNCT', u\"''\", u'punct', u'\"', False, False)\n",
      "(u'option', u'option', u'NOUN', u'NN', u'dobj', u'xxxx', True, False)\n",
      "(u'.', u'.', u'PUNCT', u'.', u'punct', u'.', False, False)\n",
      "(u'(', u'(', u'PUNCT', u'-LRB-', u'punct', u'(', False, False)\n",
      "(u'the', u'the', u'DET', u'DT', u'det', u'xxx', True, True)\n",
      "(u'big', u'big', u'ADJ', u'JJ', u'amod', u'xxx', True, False)\n",
      "(u'truck', u'truck', u'NOUN', u'NN', u'compound', u'xxxx', True, False)\n",
      "(u'routes', u'route', u'NOUN', u'NNS', u'nsubj', u'xxxx', True, False)\n",
      "(u'-', u'-', u'PUNCT', u':', u'punct', u'-', False, False)\n",
      "(u'tells', u'tell', u'VERB', u'VBZ', u'ROOT', u'xxxx', True, False)\n",
      "(u'you', u'-PRON-', u'PRON', u'PRP', u'dobj', u'xxx', True, True)\n",
      "(u'when', u'when', u'ADV', u'WRB', u'advmod', u'xxxx', True, True)\n",
      "(u'a', u'a', u'DET', u'DT', u'det', u'x', True, True)\n",
      "(u'scale', u'scale', u'NOUN', u'NN', u'nsubj', u'xxxx', True, False)\n",
      "(u'is', u'be', u'VERB', u'VBZ', u'aux', u'xx', True, True)\n",
      "(u'coming', u'come', u'VERB', u'VBG', u'ccomp', u'xxxx', True, False)\n",
      "(u'up', u'up', u'PART', u'RP', u'prt', u'xx', True, True)\n",
      "(u'ect', u'ect', u'NOUN', u'NN', u'dobj', u'xxx', True, False)\n",
      "(u'...', u'...', u'PUNCT', u'NFP', u'punct', u'...', False, False)\n",
      "(u')', u')', u'PUNCT', u'-RRB-', u'punct', u')', False, False)\n",
      "(u' ', u' ', u'SPACE', u'', u'', u' ', False, False)\n",
      "(u'Love', u'love', u'PROPN', u'NNP', u'ROOT', u'Xxxx', True, False)\n",
      "(u'the', u'the', u'DET', u'DT', u'det', u'xxx', True, True)\n",
      "(u'bigger', u'big', u'ADJ', u'JJR', u'amod', u'xxxx', True, False)\n",
      "(u'screen', u'screen', u'NOUN', u'NN', u'dobj', u'xxxx', True, False)\n",
      "(u',', u',', u'PUNCT', u',', u'punct', u',', False, False)\n",
      "(u'the', u'the', u'DET', u'DT', u'det', u'xxx', True, True)\n",
      "(u'ease', u'ease', u'NOUN', u'NN', u'appos', u'xxxx', True, False)\n",
      "(u'of', u'of', u'ADP', u'IN', u'prep', u'xx', True, True)\n",
      "(u'use', u'use', u'NOUN', u'NN', u'pobj', u'xxx', True, False)\n",
      "(u',', u',', u'PUNCT', u',', u'punct', u',', False, False)\n",
      "(u'the', u'the', u'DET', u'DT', u'det', u'xxx', True, True)\n",
      "(u'ease', u'ease', u'NOUN', u'NN', u'appos', u'xxxx', True, False)\n",
      "(u'of', u'of', u'ADP', u'IN', u'prep', u'xx', True, True)\n",
      "(u'putting', u'put', u'VERB', u'VBG', u'pcomp', u'xxxx', True, False)\n",
      "(u'addresses', u'address', u'NOUN', u'NNS', u'dobj', u'xxxx', True, False)\n",
      "(u'into', u'into', u'ADP', u'IN', u'prep', u'xxxx', True, True)\n",
      "(u'memory', u'memory', u'NOUN', u'NN', u'pobj', u'xxxx', True, False)\n",
      "(u'.', u'.', u'PUNCT', u'.', u'punct', u'.', False, False)\n",
      "(u' ', u' ', u'SPACE', u'', u'', u' ', False, False)\n",
      "(u'Nothing', u'nothing', u'PROPN', u'NNP', u'ROOT', u'Xxxxx', True, False)\n",
      "(u'really', u'really', u'ADV', u'RB', u'advmod', u'xxxx', True, True)\n",
      "(u'bad', u'bad', u'ADJ', u'JJ', u'amod', u'xxx', True, False)\n",
      "(u'to', u'to', u'PART', u'TO', u'aux', u'xx', True, True)\n",
      "(u'say', u'say', u'VERB', u'VB', u'relcl', u'xxx', True, True)\n",
      "(u'about', u'about', u'ADP', u'IN', u'prep', u'xxxx', True, True)\n",
      "(u'the', u'the', u'DET', u'DT', u'det', u'xxx', True, True)\n",
      "(u'unit', u'unit', u'NOUN', u'NN', u'pobj', u'xxxx', True, False)\n",
      "(u'with', u'with', u'ADP', u'IN', u'prep', u'xxxx', True, True)\n",
      "(u'the', u'the', u'DET', u'DT', u'det', u'xxx', True, True)\n",
      "(u'exception', u'exception', u'NOUN', u'NN', u'pobj', u'xxxx', True, False)\n",
      "(u'of', u'of', u'ADP', u'IN', u'prep', u'xx', True, True)\n",
      "(u'it', u'-PRON-', u'PRON', u'PRP', u'pobj', u'xx', True, True)\n",
      "(u'freezing', u'freeze', u'VERB', u'VBG', u'acl', u'xxxx', True, False)\n",
      "(u'which', u'which', u'ADJ', u'WDT', u'nsubj', u'xxxx', True, True)\n",
      "(u'is', u'be', u'VERB', u'VBZ', u'ccomp', u'xx', True, True)\n",
      "(u'probably', u'probably', u'ADV', u'RB', u'advmod', u'xxxx', True, False)\n",
      "(u'one', u'one', u'NUM', u'CD', u'attr', u'xxx', True, True)\n",
      "(u'in', u'in', u'ADP', u'IN', u'prep', u'xx', True, True)\n",
      "(u'a', u'a', u'DET', u'DT', u'det', u'x', True, True)\n",
      "(u'million', u'million', u'NUM', u'CD', u'pobj', u'xxxx', True, False)\n",
      "(u'and', u'and', u'CCONJ', u'CC', u'cc', u'xxx', True, True)\n",
      "(u'that', u'that', u'DET', u'DT', u'nsubj', u'xxxx', True, True)\n",
      "(u\"'s\", u'be', u'VERB', u'VBZ', u'conj', u\"'x\", False, False)\n",
      "(u'just', u'just', u'ADV', u'RB', u'advmod', u'xxxx', True, True)\n",
      "(u'my', u'-PRON-', u'ADJ', u'PRP$', u'poss', u'xx', True, True)\n",
      "(u'luck', u'luck', u'NOUN', u'NN', u'attr', u'xxxx', True, False)\n",
      "(u'.', u'.', u'PUNCT', u'.', u'punct', u'.', False, False)\n",
      "(u' ', u' ', u'SPACE', u'', u'', u' ', False, False)\n",
      "(u'I', u'-PRON-', u'PRON', u'PRP', u'nsubj', u'X', True, False)\n",
      "(u'contacted', u'contact', u'VERB', u'VBD', u'ROOT', u'xxxx', True, False)\n",
      "(u'the', u'the', u'DET', u'DT', u'det', u'xxx', True, True)\n",
      "(u'seller', u'seller', u'NOUN', u'NN', u'dobj', u'xxxx', True, False)\n",
      "(u'and', u'and', u'CCONJ', u'CC', u'cc', u'xxx', True, True)\n",
      "(u'within', u'within', u'ADP', u'IN', u'prep', u'xxxx', True, True)\n",
      "(u'minutes', u'minute', u'NOUN', u'NNS', u'pobj', u'xxxx', True, False)\n",
      "(u'of', u'of', u'ADP', u'IN', u'prep', u'xx', True, True)\n",
      "(u'my', u'-PRON-', u'ADJ', u'PRP$', u'poss', u'xx', True, True)\n",
      "(u'email', u'email', u'NOUN', u'NN', u'pobj', u'xxxx', True, False)\n",
      "(u'I', u'-PRON-', u'PRON', u'PRP', u'nsubj', u'X', True, False)\n",
      "(u'received', u'receive', u'VERB', u'VBD', u'conj', u'xxxx', True, False)\n",
      "(u'a', u'a', u'DET', u'DT', u'det', u'x', True, True)\n",
      "(u'email', u'email', u'NOUN', u'NN', u'dobj', u'xxxx', True, False)\n",
      "(u'back', u'back', u'ADV', u'RB', u'advmod', u'xxxx', True, True)\n",
      "(u'with', u'with', u'ADP', u'IN', u'prep', u'xxxx', True, True)\n",
      "(u'instructions', u'instruction', u'NOUN', u'NNS', u'pobj', u'xxxx', True, False)\n",
      "(u'for', u'for', u'ADP', u'IN', u'prep', u'xxx', True, True)\n",
      "(u'an', u'an', u'DET', u'DT', u'det', u'xx', True, True)\n",
      "(u'exchange', u'exchange', u'NOUN', u'NN', u'pobj', u'xxxx', True, False)\n",
      "(u'!', u'!', u'PUNCT', u'.', u'punct', u'!', False, False)\n",
      "(u'VERY', u'very', u'ADV', u'RB', u'advmod', u'XXXX', True, False)\n",
      "(u'impressed', u'impressed', u'ADJ', u'JJ', u'ROOT', u'xxxx', True, False)\n",
      "(u'all', u'all', u'ADJ', u'PDT', u'predet', u'xxx', True, True)\n",
      "(u'the', u'the', u'DET', u'DT', u'det', u'xxx', True, True)\n",
      "(u'way', u'way', u'NOUN', u'NN', u'npadvmod', u'xxx', True, False)\n",
      "(u'around', u'around', u'ADV', u'RB', u'advmod', u'xxxx', True, True)\n",
      "(u'!', u'!', u'PUNCT', u'.', u'punct', u'!', False, False)\n"
     ]
    }
   ],
   "source": [
    "for token in doc:\n",
    "    print(token.text, token.lemma_, token.pos_, token.tag_, token.dep_,\n",
    "          token.shape_, token.is_alpha, token.is_stop)"
   ]
  },
  {
   "cell_type": "code",
   "execution_count": null,
   "metadata": {
    "ExecuteTime": {
     "start_time": "2018-04-13T00:01:05.705Z"
    }
   },
   "outputs": [
    {
     "name": "stdout",
     "output_type": "stream",
     "text": [
      "\n",
      "\u001b[93m    Serving on port 5000...\u001b[0m\n",
      "    Using the 'dep' visualizer\n",
      "\n"
     ]
    },
    {
     "name": "stderr",
     "output_type": "stream",
     "text": [
      "127.0.0.1 - - [12/Apr/2018 17:01:22] \"GET / HTTP/1.1\" 200 113098\n",
      "127.0.0.1 - - [12/Apr/2018 17:01:22] \"GET /favicon.ico HTTP/1.1\" 200 113098\n"
     ]
    }
   ],
   "source": [
    "nlp = spacy.load('en')\n",
    "doc = nlp(text)\n",
    "displacy.serve(doc, style = 'dep')\n",
    "#displacy.render(doc, style='dep', jupyter = True)"
   ]
  },
  {
   "cell_type": "code",
   "execution_count": null,
   "metadata": {},
   "outputs": [],
   "source": []
  }
 ],
 "metadata": {
  "kernelspec": {
   "display_name": "Python 2",
   "language": "python",
   "name": "python2"
  },
  "language_info": {
   "codemirror_mode": {
    "name": "ipython",
    "version": 2
   },
   "file_extension": ".py",
   "mimetype": "text/x-python",
   "name": "python",
   "nbconvert_exporter": "python",
   "pygments_lexer": "ipython2",
   "version": "2.7.14"
  },
  "toc": {
   "nav_menu": {},
   "number_sections": true,
   "sideBar": true,
   "skip_h1_title": false,
   "title_cell": "Table of Contents",
   "title_sidebar": "Contents",
   "toc_cell": false,
   "toc_position": {},
   "toc_section_display": true,
   "toc_window_display": false
  },
  "varInspector": {
   "cols": {
    "lenName": 16,
    "lenType": 16,
    "lenVar": 40
   },
   "kernels_config": {
    "python": {
     "delete_cmd_postfix": "",
     "delete_cmd_prefix": "del ",
     "library": "var_list.py",
     "varRefreshCmd": "print(var_dic_list())"
    },
    "r": {
     "delete_cmd_postfix": ") ",
     "delete_cmd_prefix": "rm(",
     "library": "var_list.r",
     "varRefreshCmd": "cat(var_dic_list()) "
    }
   },
   "types_to_exclude": [
    "module",
    "function",
    "builtin_function_or_method",
    "instance",
    "_Feature"
   ],
   "window_display": false
  }
 },
 "nbformat": 4,
 "nbformat_minor": 2
}
