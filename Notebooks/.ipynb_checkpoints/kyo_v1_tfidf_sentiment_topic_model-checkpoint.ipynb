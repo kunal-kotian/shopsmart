{
 "cells": [
  {
   "cell_type": "markdown",
   "metadata": {},
   "source": [
    "This notebook covers:\n",
    "    \n",
    "- additional data cleaning: remove irrelevant products within categories of interest (cds, books, etc), remove edited reviews (conflicting sentiment), subset to 5-star reviews (61%), remove longest reviews (1%), merge review summary and text, remove product name from review (to remove pronouns)\n",
    "\n",
    "- tokenization of reviews: stemming (using NLTK's SnowballStemmer), removing stop words, removing words <1 char (two sets kept: stemmed only, stemmed+stopword removal+words < 1 char)\n",
    "\n",
    "- tfidf on concatenated tokenized reviews per product\n",
    "\n",
    "- sentiment analysis using vader and textblob at the sentence level\n",
    "\n",
    "- preliminary nmf- and lda-based topic modelling using tfidf features \n"
   ]
  },
  {
   "cell_type": "code",
   "execution_count": 37,
   "metadata": {
    "ExecuteTime": {
     "end_time": "2018-04-18T20:19:00.943700Z",
     "start_time": "2018-04-18T20:18:57.061321Z"
    }
   },
   "outputs": [],
   "source": [
    "import warnings\n",
    "warnings.filterwarnings('ignore')\n",
    "\n",
    "import pandas as pd\n",
    "import numpy as np\n",
    "\n",
    "import matplotlib.pyplot as plt\n",
    "import seaborn as sns\n",
    "%matplotlib inline\n",
    "\n",
    "# tokenization\n",
    "import re \n",
    "import string \n",
    "from nltk import tokenize\n",
    "from nltk.stem.snowball import SnowballStemmer\n",
    "from sklearn.feature_extraction.text import ENGLISH_STOP_WORDS  \n",
    "from sklearn.feature_extraction.text import TfidfVectorizer\n",
    "\n",
    "# spacy\n",
    "from __future__ import unicode_literals\n",
    "import spacy \n",
    "nlp = spacy.load('en')"
   ]
  },
  {
   "cell_type": "markdown",
   "metadata": {},
   "source": [
    "## Preliminaries"
   ]
  },
  {
   "cell_type": "code",
   "execution_count": 282,
   "metadata": {
    "ExecuteTime": {
     "end_time": "2018-04-16T19:11:41.994721Z",
     "start_time": "2018-04-16T19:11:34.585621Z"
    }
   },
   "outputs": [],
   "source": [
    "data = pd.read_csv('../data/reviews_data_clean', sep = '|')\n",
    "# recast string cols \n",
    "data.reviewText = data.reviewText.astype('string') \n",
    "data.summary = data.summary.astype('string') "
   ]
  },
  {
   "cell_type": "code",
   "execution_count": 283,
   "metadata": {
    "ExecuteTime": {
     "end_time": "2018-04-16T19:11:46.893666Z",
     "start_time": "2018-04-16T19:11:46.861126Z"
    }
   },
   "outputs": [
    {
     "data": {
      "text/plain": [
       "(585444, 48600)"
      ]
     },
     "execution_count": 283,
     "metadata": {},
     "output_type": "execute_result"
    }
   ],
   "source": [
    "len(data), data.asin.nunique()"
   ]
  },
  {
   "cell_type": "markdown",
   "metadata": {},
   "source": [
    "### Further cleaning"
   ]
  },
  {
   "cell_type": "markdown",
   "metadata": {},
   "source": [
    "#### v2: Unwanted categories"
   ]
  },
  {
   "cell_type": "code",
   "execution_count": 284,
   "metadata": {
    "ExecuteTime": {
     "end_time": "2018-04-16T19:11:57.803393Z",
     "start_time": "2018-04-16T19:11:53.948976Z"
    }
   },
   "outputs": [],
   "source": [
    "# remove cds\n",
    "data = data[~(data.categories_clean.str.contains('CDs & Vinyl'))] \n",
    "# remove software\n",
    "data = data[~(data.categories_clean.str.contains('Software'))]\n",
    "# remove pets\n",
    "search_for = [' pet ', ' cat ', ' dog ', 'Vetvittles']\n",
    "pattern = '|'.join(search_for)\n",
    "data = data[~(data.title.str.contains(pattern, case=False))]"
   ]
  },
  {
   "cell_type": "code",
   "execution_count": 285,
   "metadata": {
    "ExecuteTime": {
     "end_time": "2018-04-16T19:12:02.755662Z",
     "start_time": "2018-04-16T19:12:02.641685Z"
    }
   },
   "outputs": [
    {
     "data": {
      "text/plain": [
       "(584883, 48495)"
      ]
     },
     "execution_count": 285,
     "metadata": {},
     "output_type": "execute_result"
    }
   ],
   "source": [
    "# other asins (books, pens)\n",
    "bad_asins = ['1093486147', '0982614926', '1300451467', 'B000HLCMHG', 'B000OO3VW6']\n",
    "data = data[~(data.asin.isin(bad_asins))]\n",
    "len(data), data.asin.nunique()"
   ]
  },
  {
   "cell_type": "code",
   "execution_count": 286,
   "metadata": {
    "ExecuteTime": {
     "end_time": "2018-04-16T19:12:27.226125Z",
     "start_time": "2018-04-16T19:12:18.080671Z"
    }
   },
   "outputs": [],
   "source": [
    "data.to_csv('../data/reviews_data_clean_v2', sep = '|', index = False)"
   ]
  },
  {
   "cell_type": "markdown",
   "metadata": {},
   "source": [
    "#### v3: Remove edited reviews"
   ]
  },
  {
   "cell_type": "code",
   "execution_count": 287,
   "metadata": {
    "ExecuteTime": {
     "end_time": "2018-04-16T19:12:54.366567Z",
     "start_time": "2018-04-16T19:12:46.693079Z"
    }
   },
   "outputs": [],
   "source": [
    "data = pd.read_csv('../data/reviews_data_clean_v2', sep = '|')\n",
    "# recast string cols \n",
    "data.reviewText = data.reviewText.astype('string') \n",
    "data.summary = data.summary.astype('string') "
   ]
  },
  {
   "cell_type": "code",
   "execution_count": 288,
   "metadata": {
    "ExecuteTime": {
     "end_time": "2018-04-16T19:13:00.175705Z",
     "start_time": "2018-04-16T19:12:59.454766Z"
    }
   },
   "outputs": [],
   "source": [
    "data.reviewText = data.reviewText.astype('string') # otherwise, strangely, interpreted as numeric \n",
    "data = data[~(data.reviewText.str.contains('EDIT'))] "
   ]
  },
  {
   "cell_type": "code",
   "execution_count": 289,
   "metadata": {
    "ExecuteTime": {
     "end_time": "2018-04-16T19:13:05.337168Z",
     "start_time": "2018-04-16T19:13:05.302162Z"
    }
   },
   "outputs": [
    {
     "data": {
      "text/plain": [
       "(584678, 48492)"
      ]
     },
     "execution_count": 289,
     "metadata": {},
     "output_type": "execute_result"
    }
   ],
   "source": [
    "len(data), data.asin.nunique()"
   ]
  },
  {
   "cell_type": "markdown",
   "metadata": {},
   "source": [
    "#### v3: Highly-rated "
   ]
  },
  {
   "cell_type": "code",
   "execution_count": 290,
   "metadata": {
    "ExecuteTime": {
     "end_time": "2018-04-16T19:15:26.234187Z",
     "start_time": "2018-04-16T19:15:26.178419Z"
    }
   },
   "outputs": [
    {
     "data": {
      "text/html": [
       "<div>\n",
       "<style>\n",
       "    .dataframe thead tr:only-child th {\n",
       "        text-align: right;\n",
       "    }\n",
       "\n",
       "    .dataframe thead th {\n",
       "        text-align: left;\n",
       "    }\n",
       "\n",
       "    .dataframe tbody tr th {\n",
       "        vertical-align: top;\n",
       "    }\n",
       "</style>\n",
       "<table border=\"1\" class=\"dataframe\">\n",
       "  <thead>\n",
       "    <tr style=\"text-align: right;\">\n",
       "      <th></th>\n",
       "      <th>overall</th>\n",
       "      <th>helpful</th>\n",
       "      <th>prop</th>\n",
       "    </tr>\n",
       "  </thead>\n",
       "  <tbody>\n",
       "    <tr>\n",
       "      <th>0</th>\n",
       "      <td>1.0</td>\n",
       "      <td>59106</td>\n",
       "      <td>0.10</td>\n",
       "    </tr>\n",
       "    <tr>\n",
       "      <th>1</th>\n",
       "      <td>2.0</td>\n",
       "      <td>31545</td>\n",
       "      <td>0.05</td>\n",
       "    </tr>\n",
       "    <tr>\n",
       "      <th>2</th>\n",
       "      <td>3.0</td>\n",
       "      <td>44755</td>\n",
       "      <td>0.08</td>\n",
       "    </tr>\n",
       "    <tr>\n",
       "      <th>3</th>\n",
       "      <td>4.0</td>\n",
       "      <td>90189</td>\n",
       "      <td>0.15</td>\n",
       "    </tr>\n",
       "    <tr>\n",
       "      <th>4</th>\n",
       "      <td>5.0</td>\n",
       "      <td>359083</td>\n",
       "      <td>0.61</td>\n",
       "    </tr>\n",
       "  </tbody>\n",
       "</table>\n",
       "</div>"
      ],
      "text/plain": [
       "   overall  helpful  prop\n",
       "0      1.0    59106  0.10\n",
       "1      2.0    31545  0.05\n",
       "2      3.0    44755  0.08\n",
       "3      4.0    90189  0.15\n",
       "4      5.0   359083  0.61"
      ]
     },
     "execution_count": 290,
     "metadata": {},
     "output_type": "execute_result"
    }
   ],
   "source": [
    "distrib = data.groupby('overall')['helpful'].count().reset_index()\n",
    "n = len(data)\n",
    "distrib['prop'] = distrib.helpful.apply(lambda x: round(x*1.0/n*1.0,2))\n",
    "distrib"
   ]
  },
  {
   "cell_type": "code",
   "execution_count": 291,
   "metadata": {
    "ExecuteTime": {
     "end_time": "2018-04-16T19:15:31.390186Z",
     "start_time": "2018-04-16T19:15:31.277809Z"
    }
   },
   "outputs": [
    {
     "data": {
      "text/plain": [
       "41197"
      ]
     },
     "execution_count": 291,
     "metadata": {},
     "output_type": "execute_result"
    }
   ],
   "source": [
    "data = data[data.overall == 5]\n",
    "data.asin.nunique()"
   ]
  },
  {
   "cell_type": "markdown",
   "metadata": {},
   "source": [
    "#### v3: Remove longest reviews (1%)"
   ]
  },
  {
   "cell_type": "code",
   "execution_count": 292,
   "metadata": {
    "ExecuteTime": {
     "end_time": "2018-04-16T19:15:48.884825Z",
     "start_time": "2018-04-16T19:15:48.286470Z"
    }
   },
   "outputs": [],
   "source": [
    "# add length of review\n",
    "data['review_length'] = data.reviewText.apply(lambda x : len(x))"
   ]
  },
  {
   "cell_type": "code",
   "execution_count": 293,
   "metadata": {
    "ExecuteTime": {
     "end_time": "2018-04-16T19:15:53.813210Z",
     "start_time": "2018-04-16T19:15:53.793031Z"
    }
   },
   "outputs": [
    {
     "data": {
      "text/plain": [
       "count    359083.000000\n",
       "mean        369.045909\n",
       "std         479.272665\n",
       "min           2.000000\n",
       "25%         142.000000\n",
       "50%         232.000000\n",
       "75%         429.000000\n",
       "max       31161.000000\n",
       "Name: review_length, dtype: float64"
      ]
     },
     "execution_count": 293,
     "metadata": {},
     "output_type": "execute_result"
    }
   ],
   "source": [
    "data.review_length.describe()"
   ]
  },
  {
   "cell_type": "code",
   "execution_count": 294,
   "metadata": {
    "ExecuteTime": {
     "end_time": "2018-04-16T19:15:58.746526Z",
     "start_time": "2018-04-16T19:15:58.738241Z"
    }
   },
   "outputs": [
    {
     "data": {
      "text/plain": [
       "0.010677197193963513"
      ]
     },
     "execution_count": 294,
     "metadata": {},
     "output_type": "execute_result"
    }
   ],
   "source": [
    "len(data[data.review_length > 2000])*1.0/len(data)*1.0"
   ]
  },
  {
   "cell_type": "code",
   "execution_count": 295,
   "metadata": {
    "ExecuteTime": {
     "end_time": "2018-04-16T19:16:03.606294Z",
     "start_time": "2018-04-16T19:16:03.545928Z"
    }
   },
   "outputs": [
    {
     "data": {
      "text/plain": [
       "41043"
      ]
     },
     "execution_count": 295,
     "metadata": {},
     "output_type": "execute_result"
    }
   ],
   "source": [
    "data = data[data.review_length <= 2000]\n",
    "data.asin.nunique()"
   ]
  },
  {
   "cell_type": "code",
   "execution_count": 296,
   "metadata": {
    "ExecuteTime": {
     "end_time": "2018-04-16T19:18:10.132421Z",
     "start_time": "2018-04-16T19:18:04.950950Z"
    }
   },
   "outputs": [],
   "source": [
    "data.to_csv('../data/reviews_data_clean_v3', sep = '|', index = False)"
   ]
  },
  {
   "cell_type": "markdown",
   "metadata": {},
   "source": [
    "### Prep"
   ]
  },
  {
   "cell_type": "markdown",
   "metadata": {},
   "source": [
    "#### Merge summary and text"
   ]
  },
  {
   "cell_type": "code",
   "execution_count": 4,
   "metadata": {
    "ExecuteTime": {
     "end_time": "2018-04-18T19:19:11.313020Z",
     "start_time": "2018-04-18T19:19:06.939682Z"
    }
   },
   "outputs": [],
   "source": [
    "data = pd.read_csv('../data/reviews_data_clean_v3', sep = '|')\n",
    "# recast string cols \n",
    "data.reviewText = data.reviewText.astype('string') \n",
    "data.summary = data.summary.astype('string')"
   ]
  },
  {
   "cell_type": "code",
   "execution_count": 5,
   "metadata": {
    "ExecuteTime": {
     "end_time": "2018-04-18T19:19:12.882167Z",
     "start_time": "2018-04-18T19:19:11.383085Z"
    }
   },
   "outputs": [],
   "source": [
    "data['reviewText_clean'] = data.reviewText.apply(lambda x: x.replace('nan', ''))\n",
    "data['summary_clean'] = data.reviewText.apply(lambda x: x.replace('nan', ''))"
   ]
  },
  {
   "cell_type": "code",
   "execution_count": 6,
   "metadata": {
    "ExecuteTime": {
     "end_time": "2018-04-18T19:19:14.185566Z",
     "start_time": "2018-04-18T19:19:12.979708Z"
    }
   },
   "outputs": [],
   "source": [
    "# 67 reviews with no review text but informative summary \n",
    "data['review_all'] = data[\"summary_clean\"].map(str) + '. ' + data[\"reviewText_clean\"]"
   ]
  },
  {
   "cell_type": "markdown",
   "metadata": {},
   "source": [
    "#### Remove extra whitespace and punctuation"
   ]
  },
  {
   "cell_type": "code",
   "execution_count": 8,
   "metadata": {
    "ExecuteTime": {
     "end_time": "2018-04-18T19:20:29.610720Z",
     "start_time": "2018-04-18T19:20:29.605757Z"
    }
   },
   "outputs": [],
   "source": [
    "def remove_punct(text_raw):\n",
    "    text_clean = re.sub('[' + string.punctuation + '0-9\\\\r\\\\t\\\\n]', ' ', text_raw)\n",
    "    return text_clean\n",
    "\n",
    "def remove_white_space(text_raw):\n",
    "    text_clean = re.sub('\\s+', ' ', text_raw).strip()\n",
    "    return text_clean"
   ]
  },
  {
   "cell_type": "code",
   "execution_count": 9,
   "metadata": {
    "ExecuteTime": {
     "end_time": "2018-04-18T19:21:00.408026Z",
     "start_time": "2018-04-18T19:20:44.411054Z"
    }
   },
   "outputs": [],
   "source": [
    "# remove extra white space from reviews \n",
    "data['review_all_clean'] = data.review_all.apply(remove_white_space)\n",
    "# review_all_clean has review summary + body with cleaned white space. Useful for semantic NLP. "
   ]
  },
  {
   "cell_type": "code",
   "execution_count": 32,
   "metadata": {
    "ExecuteTime": {
     "end_time": "2018-04-18T19:52:40.628704Z",
     "start_time": "2018-04-18T19:52:12.965826Z"
    }
   },
   "outputs": [],
   "source": [
    "# remove punctuation from reviews and tokenize -- prep for removing title words\n",
    "data['review_all_no_punct'] = data.review_all.apply(remove_punct)\n",
    "data['review_all_tokens'] = data.review_all_no_punct.apply(lambda x: x.split(' '))"
   ]
  },
  {
   "cell_type": "markdown",
   "metadata": {},
   "source": [
    "#### Remove reviews with no text"
   ]
  },
  {
   "cell_type": "code",
   "execution_count": 27,
   "metadata": {
    "ExecuteTime": {
     "end_time": "2018-04-18T19:49:40.678242Z",
     "start_time": "2018-04-18T19:49:39.870250Z"
    }
   },
   "outputs": [
    {
     "data": {
      "text/plain": [
       "(71, 355249)"
      ]
     },
     "execution_count": 27,
     "metadata": {},
     "output_type": "execute_result"
    }
   ],
   "source": [
    "# 71 reviews with no summary and no text\n",
    "sum(data.review_all_no_punct.apply(lambda x: x.strip()) == ''), len(data)"
   ]
  },
  {
   "cell_type": "code",
   "execution_count": 28,
   "metadata": {
    "ExecuteTime": {
     "end_time": "2018-04-18T19:49:43.981923Z",
     "start_time": "2018-04-18T19:49:43.493880Z"
    }
   },
   "outputs": [
    {
     "data": {
      "text/plain": [
       "355178"
      ]
     },
     "execution_count": 28,
     "metadata": {},
     "output_type": "execute_result"
    }
   ],
   "source": [
    "data = data[~(data.review_all_no_punct.apply(lambda x: x.strip()) == '')] \n",
    "len(data)"
   ]
  },
  {
   "cell_type": "code",
   "execution_count": 12,
   "metadata": {
    "ExecuteTime": {
     "end_time": "2018-04-18T19:22:55.804388Z",
     "start_time": "2018-04-18T19:22:48.965622Z"
    }
   },
   "outputs": [],
   "source": [
    "# remove punctuation and white space from titles \n",
    "data['title_clean'] = data.title.apply(remove_punct)\n",
    "data.title_clean = data.title_clean.apply(remove_white_space)\n",
    "data['title_tokens'] = data.title_clean.apply(lambda x: x.split(' '))"
   ]
  },
  {
   "cell_type": "markdown",
   "metadata": {},
   "source": [
    "#### Remove title words from review"
   ]
  },
  {
   "cell_type": "code",
   "execution_count": 15,
   "metadata": {
    "ExecuteTime": {
     "end_time": "2018-04-18T19:24:01.507835Z",
     "start_time": "2018-04-18T19:24:01.258304Z"
    }
   },
   "outputs": [],
   "source": [
    "# lower all words in title tokens list \n",
    "data['title_tokens_lower'] = data.title_clean.apply(lambda x: x.lower())"
   ]
  },
  {
   "cell_type": "code",
   "execution_count": 34,
   "metadata": {
    "ExecuteTime": {
     "end_time": "2018-04-18T20:05:35.202347Z",
     "start_time": "2018-04-18T19:53:41.850146Z"
    }
   },
   "outputs": [],
   "source": [
    "# remove title words from reviews\n",
    "data['review_tokens_sub'] = data[['review_all_tokens', 'title_tokens_lower']].apply(lambda x: [i for i in x[0] if i.lower() not in x[1]], axis = 1)"
   ]
  },
  {
   "cell_type": "code",
   "execution_count": 35,
   "metadata": {
    "ExecuteTime": {
     "end_time": "2018-04-18T20:05:35.445311Z",
     "start_time": "2018-04-18T20:05:35.404773Z"
    },
    "scrolled": true
   },
   "outputs": [
    {
     "data": {
      "text/html": [
       "<div>\n",
       "<style>\n",
       "    .dataframe thead tr:only-child th {\n",
       "        text-align: right;\n",
       "    }\n",
       "\n",
       "    .dataframe thead th {\n",
       "        text-align: left;\n",
       "    }\n",
       "\n",
       "    .dataframe tbody tr th {\n",
       "        vertical-align: top;\n",
       "    }\n",
       "</style>\n",
       "<table border=\"1\" class=\"dataframe\">\n",
       "  <thead>\n",
       "    <tr style=\"text-align: right;\">\n",
       "      <th></th>\n",
       "      <th>asin</th>\n",
       "      <th>helpful</th>\n",
       "      <th>reviewText</th>\n",
       "      <th>overall</th>\n",
       "      <th>summary</th>\n",
       "      <th>description</th>\n",
       "      <th>title</th>\n",
       "      <th>categories_clean</th>\n",
       "      <th>review_length</th>\n",
       "      <th>reviewText_clean</th>\n",
       "      <th>summary_clean</th>\n",
       "      <th>review_all</th>\n",
       "      <th>review_all_clean</th>\n",
       "      <th>review_all_no_punct</th>\n",
       "      <th>review_all_tokens</th>\n",
       "      <th>title_clean</th>\n",
       "      <th>title_tokens</th>\n",
       "      <th>title_tokens_lower</th>\n",
       "      <th>review_tokens_sub</th>\n",
       "    </tr>\n",
       "  </thead>\n",
       "  <tbody>\n",
       "    <tr>\n",
       "      <th>0</th>\n",
       "      <td>0929619730</td>\n",
       "      <td>[0, 0]</td>\n",
       "      <td>B-flax-D is a regular at our house. It does it...</td>\n",
       "      <td>5.0</td>\n",
       "      <td>Dpes the job well</td>\n",
       "      <td>Contains Organic Cold-Milled Flaxseed\\nValuabl...</td>\n",
       "      <td>New Generation B-Flax-D</td>\n",
       "      <td>Health &amp; Personal Care, Vitamins &amp; Dietary Sup...</td>\n",
       "      <td>224</td>\n",
       "      <td>B-flax-D is a regular at our house. It does it...</td>\n",
       "      <td>B-flax-D is a regular at our house. It does it...</td>\n",
       "      <td>B-flax-D is a regular at our house. It does it...</td>\n",
       "      <td>B-flax-D is a regular at our house. It does it...</td>\n",
       "      <td>B flax D is a regular at our house  It does it...</td>\n",
       "      <td>[B, flax, D, is, a, regular, at, our, house, ,...</td>\n",
       "      <td>New Generation B Flax D</td>\n",
       "      <td>[New, Generation, B, Flax, D]</td>\n",
       "      <td>new generation b flax d</td>\n",
       "      <td>[is, regular, our, house, It, does, its, job, ...</td>\n",
       "    </tr>\n",
       "    <tr>\n",
       "      <th>1</th>\n",
       "      <td>0978559088</td>\n",
       "      <td>[1, 1]</td>\n",
       "      <td>I started taking this after both my parents di...</td>\n",
       "      <td>5.0</td>\n",
       "      <td>Bioavailability is the key</td>\n",
       "      <td>Everyone knows that resveratrol is an amazing ...</td>\n",
       "      <td>Nutrihill Resveratrol Lozenges</td>\n",
       "      <td>Health &amp; Personal Care, Vitamins &amp; Dietary Sup...</td>\n",
       "      <td>1065</td>\n",
       "      <td>I started taking this after both my parents di...</td>\n",
       "      <td>I started taking this after both my parents di...</td>\n",
       "      <td>I started taking this after both my parents di...</td>\n",
       "      <td>I started taking this after both my parents di...</td>\n",
       "      <td>I started taking this after both my parents di...</td>\n",
       "      <td>[I, started, taking, this, after, both, my, pa...</td>\n",
       "      <td>Nutrihill Resveratrol Lozenges</td>\n",
       "      <td>[Nutrihill, Resveratrol, Lozenges]</td>\n",
       "      <td>nutrihill resveratrol lozenges</td>\n",
       "      <td>[started, taking, this, after, both, my, paren...</td>\n",
       "    </tr>\n",
       "  </tbody>\n",
       "</table>\n",
       "</div>"
      ],
      "text/plain": [
       "         asin helpful                                         reviewText  \\\n",
       "0  0929619730  [0, 0]  B-flax-D is a regular at our house. It does it...   \n",
       "1  0978559088  [1, 1]  I started taking this after both my parents di...   \n",
       "\n",
       "   overall                     summary  \\\n",
       "0      5.0           Dpes the job well   \n",
       "1      5.0  Bioavailability is the key   \n",
       "\n",
       "                                         description  \\\n",
       "0  Contains Organic Cold-Milled Flaxseed\\nValuabl...   \n",
       "1  Everyone knows that resveratrol is an amazing ...   \n",
       "\n",
       "                            title  \\\n",
       "0         New Generation B-Flax-D   \n",
       "1  Nutrihill Resveratrol Lozenges   \n",
       "\n",
       "                                    categories_clean  review_length  \\\n",
       "0  Health & Personal Care, Vitamins & Dietary Sup...            224   \n",
       "1  Health & Personal Care, Vitamins & Dietary Sup...           1065   \n",
       "\n",
       "                                    reviewText_clean  \\\n",
       "0  B-flax-D is a regular at our house. It does it...   \n",
       "1  I started taking this after both my parents di...   \n",
       "\n",
       "                                       summary_clean  \\\n",
       "0  B-flax-D is a regular at our house. It does it...   \n",
       "1  I started taking this after both my parents di...   \n",
       "\n",
       "                                          review_all  \\\n",
       "0  B-flax-D is a regular at our house. It does it...   \n",
       "1  I started taking this after both my parents di...   \n",
       "\n",
       "                                    review_all_clean  \\\n",
       "0  B-flax-D is a regular at our house. It does it...   \n",
       "1  I started taking this after both my parents di...   \n",
       "\n",
       "                                 review_all_no_punct  \\\n",
       "0  B flax D is a regular at our house  It does it...   \n",
       "1  I started taking this after both my parents di...   \n",
       "\n",
       "                                   review_all_tokens  \\\n",
       "0  [B, flax, D, is, a, regular, at, our, house, ,...   \n",
       "1  [I, started, taking, this, after, both, my, pa...   \n",
       "\n",
       "                      title_clean                        title_tokens  \\\n",
       "0         New Generation B Flax D       [New, Generation, B, Flax, D]   \n",
       "1  Nutrihill Resveratrol Lozenges  [Nutrihill, Resveratrol, Lozenges]   \n",
       "\n",
       "               title_tokens_lower  \\\n",
       "0         new generation b flax d   \n",
       "1  nutrihill resveratrol lozenges   \n",
       "\n",
       "                                   review_tokens_sub  \n",
       "0  [is, regular, our, house, It, does, its, job, ...  \n",
       "1  [started, taking, this, after, both, my, paren...  "
      ]
     },
     "execution_count": 35,
     "metadata": {},
     "output_type": "execute_result"
    }
   ],
   "source": [
    "data[:2]"
   ]
  },
  {
   "cell_type": "code",
   "execution_count": 36,
   "metadata": {
    "ExecuteTime": {
     "end_time": "2018-04-18T20:16:50.752590Z",
     "start_time": "2018-04-18T20:14:17.826512Z"
    }
   },
   "outputs": [],
   "source": [
    "data.to_pickle('../data/data_tokenized') # better to use pickle"
   ]
  },
  {
   "cell_type": "markdown",
   "metadata": {},
   "source": [
    "#### Stem with NLTK  and remove stop words"
   ]
  },
  {
   "cell_type": "code",
   "execution_count": 38,
   "metadata": {
    "ExecuteTime": {
     "end_time": "2018-04-18T20:22:49.395757Z",
     "start_time": "2018-04-18T20:22:49.387696Z"
    }
   },
   "outputs": [],
   "source": [
    "nltk_stemmer = SnowballStemmer(\"english\", ignore_stopwords=True)"
   ]
  },
  {
   "cell_type": "code",
   "execution_count": 39,
   "metadata": {
    "ExecuteTime": {
     "end_time": "2018-04-18T20:31:57.288258Z",
     "start_time": "2018-04-18T20:22:49.760284Z"
    }
   },
   "outputs": [],
   "source": [
    "# stem words  \n",
    "data['review_tokens_stemmed_nltk'] = data.review_tokens_sub.apply(lambda x: map(nltk_stemmer.stem, x))"
   ]
  },
  {
   "cell_type": "code",
   "execution_count": 40,
   "metadata": {
    "ExecuteTime": {
     "end_time": "2018-04-18T20:32:13.322892Z",
     "start_time": "2018-04-18T20:31:57.535336Z"
    }
   },
   "outputs": [],
   "source": [
    "# remove stop words and words < length 1\n",
    "data['review_tokens_clean_nltk'] = data.review_tokens_stemmed_nltk.apply(lambda x : [i for i in x if i.lower() not in ENGLISH_STOP_WORDS ])"
   ]
  },
  {
   "cell_type": "markdown",
   "metadata": {},
   "source": [
    "#### Stem with Spacy  and remove stop words"
   ]
  },
  {
   "cell_type": "code",
   "execution_count": null,
   "metadata": {},
   "outputs": [],
   "source": []
  },
  {
   "cell_type": "code",
   "execution_count": null,
   "metadata": {},
   "outputs": [],
   "source": []
  },
  {
   "cell_type": "code",
   "execution_count": 42,
   "metadata": {
    "ExecuteTime": {
     "end_time": "2018-04-18T20:39:27.308238Z",
     "start_time": "2018-04-18T20:32:36.833657Z"
    }
   },
   "outputs": [],
   "source": [
    "data.to_pickle('../data/data_tokenized_stemmed') # better to use pickle"
   ]
  },
  {
   "cell_type": "markdown",
   "metadata": {},
   "source": [
    "## TFIDF"
   ]
  },
  {
   "cell_type": "markdown",
   "metadata": {},
   "source": [
    "#### Concatenate reviews per product:"
   ]
  },
  {
   "cell_type": "code",
   "execution_count": 45,
   "metadata": {
    "ExecuteTime": {
     "end_time": "2018-04-17T19:42:29.432592Z",
     "start_time": "2018-04-17T19:42:29.429706Z"
    }
   },
   "outputs": [],
   "source": [
    "#data = pd.read_feather('../data/data_tokenized')"
   ]
  },
  {
   "cell_type": "code",
   "execution_count": 51,
   "metadata": {
    "ExecuteTime": {
     "end_time": "2018-04-17T19:52:36.888909Z",
     "start_time": "2018-04-17T19:51:31.747061Z"
    }
   },
   "outputs": [],
   "source": [
    "merged_reviews_clean = data.groupby(['asin', 'title'])['review_tokens_stemmed'].sum().reset_index()\n",
    "merged_reviews_cleaner = data.groupby(['asin', 'title'])['review_tokens_clean'].sum().reset_index()"
   ]
  },
  {
   "cell_type": "code",
   "execution_count": 52,
   "metadata": {
    "ExecuteTime": {
     "end_time": "2018-04-17T19:52:37.437258Z",
     "start_time": "2018-04-17T19:52:37.401076Z"
    }
   },
   "outputs": [],
   "source": [
    "merged_reviews = merged_reviews_clean.merge(merged_reviews_cleaner)\n",
    "merged_reviews.to_pickle('../data/merged_reviews') # better to use pickle"
   ]
  },
  {
   "cell_type": "markdown",
   "metadata": {},
   "source": [
    "#### TFIDF on Stemmed Tokens"
   ]
  },
  {
   "cell_type": "code",
   "execution_count": 114,
   "metadata": {
    "ExecuteTime": {
     "end_time": "2018-04-18T05:45:00.471492Z",
     "start_time": "2018-04-18T05:44:19.779268Z"
    },
    "collapsed": true
   },
   "outputs": [
    {
     "data": {
      "text/html": [
       "<div>\n",
       "<style>\n",
       "    .dataframe thead tr:only-child th {\n",
       "        text-align: right;\n",
       "    }\n",
       "\n",
       "    .dataframe thead th {\n",
       "        text-align: left;\n",
       "    }\n",
       "\n",
       "    .dataframe tbody tr th {\n",
       "        vertical-align: top;\n",
       "    }\n",
       "</style>\n",
       "<table border=\"1\" class=\"dataframe\">\n",
       "  <thead>\n",
       "    <tr style=\"text-align: right;\">\n",
       "      <th></th>\n",
       "      <th>asin</th>\n",
       "      <th>title</th>\n",
       "      <th>review_tokens_stemmed</th>\n",
       "      <th>review_tokens_clean</th>\n",
       "    </tr>\n",
       "  </thead>\n",
       "  <tbody>\n",
       "    <tr>\n",
       "      <th>0</th>\n",
       "      <td>0929619730</td>\n",
       "      <td>New Generation B-Flax-D</td>\n",
       "      <td>[flax, is, a, regular, at, our, hous, it, does...</td>\n",
       "      <td>[flax, regular, hous, does, job, simpli, good,...</td>\n",
       "    </tr>\n",
       "    <tr>\n",
       "      <th>1</th>\n",
       "      <td>0978559088</td>\n",
       "      <td>Nutrihill Resveratrol Lozenges</td>\n",
       "      <td>[i, start, take, this, after, both, my, parent...</td>\n",
       "      <td>[start, parent, die, cancer, suppos, enhanc, i...</td>\n",
       "    </tr>\n",
       "    <tr>\n",
       "      <th>2</th>\n",
       "      <td>1427600228</td>\n",
       "      <td>Zenlet Green Tea Love Bracelet - All Natural</td>\n",
       "      <td>[i, bought, sever, of, these, bracelet, for, m...</td>\n",
       "      <td>[bought, sever, bracelet, ymca, kid, everyon, ...</td>\n",
       "    </tr>\n",
       "    <tr>\n",
       "      <th>3</th>\n",
       "      <td>1928926215</td>\n",
       "      <td>Green Coffee Bean Extract EXTRA STRENGTH 400 m...</td>\n",
       "      <td>[i, m, obsess, with, this, stuff, and, found, ...</td>\n",
       "      <td>[m, obsess, stuff, brand, green, coffe, bean, ...</td>\n",
       "    </tr>\n",
       "    <tr>\n",
       "      <th>4</th>\n",
       "      <td>6074885060</td>\n",
       "      <td>Herbalife 21 Day Herbal Cleansing program, AM/...</td>\n",
       "      <td>[these, are, very, gentl, on, your, bodi, neve...</td>\n",
       "      <td>[gentl, bodi, know, work, great, doing, job, g...</td>\n",
       "    </tr>\n",
       "  </tbody>\n",
       "</table>\n",
       "</div>"
      ],
      "text/plain": [
       "         asin                                              title  \\\n",
       "0  0929619730                            New Generation B-Flax-D   \n",
       "1  0978559088                     Nutrihill Resveratrol Lozenges   \n",
       "2  1427600228       Zenlet Green Tea Love Bracelet - All Natural   \n",
       "3  1928926215  Green Coffee Bean Extract EXTRA STRENGTH 400 m...   \n",
       "4  6074885060  Herbalife 21 Day Herbal Cleansing program, AM/...   \n",
       "\n",
       "                               review_tokens_stemmed  \\\n",
       "0  [flax, is, a, regular, at, our, hous, it, does...   \n",
       "1  [i, start, take, this, after, both, my, parent...   \n",
       "2  [i, bought, sever, of, these, bracelet, for, m...   \n",
       "3  [i, m, obsess, with, this, stuff, and, found, ...   \n",
       "4  [these, are, very, gentl, on, your, bodi, neve...   \n",
       "\n",
       "                                 review_tokens_clean  \n",
       "0  [flax, regular, hous, does, job, simpli, good,...  \n",
       "1  [start, parent, die, cancer, suppos, enhanc, i...  \n",
       "2  [bought, sever, bracelet, ymca, kid, everyon, ...  \n",
       "3  [m, obsess, stuff, brand, green, coffe, bean, ...  \n",
       "4  [gentl, bodi, know, work, great, doing, job, g...  "
      ]
     },
     "execution_count": 114,
     "metadata": {},
     "output_type": "execute_result"
    }
   ],
   "source": [
    "test = pd.read_pickle('../data/merged_reviews') # better to use pickle\n",
    "test.head()"
   ]
  },
  {
   "cell_type": "code",
   "execution_count": 106,
   "metadata": {
    "ExecuteTime": {
     "end_time": "2018-04-17T23:06:39.315743Z",
     "start_time": "2018-04-17T23:06:17.109936Z"
    }
   },
   "outputs": [],
   "source": [
    "tf = TfidfVectorizer(tokenizer=lambda i:i, lowercase = False) \n",
    "# tokenizer = lambda i:i simply \"forwards\" the data. This is what we want since the data is pre-tokenized. \n",
    "tfidf_matrix =  tf.fit_transform(merged_reviews.review_tokens_stemmed) # fit on tokenized, stemmed reviews"
   ]
  },
  {
   "cell_type": "code",
   "execution_count": 84,
   "metadata": {
    "ExecuteTime": {
     "end_time": "2018-04-17T22:04:05.913778Z",
     "start_time": "2018-04-17T22:04:05.902486Z"
    },
    "scrolled": true
   },
   "outputs": [
    {
     "data": {
      "text/plain": [
       "(41043, 41043, 41043)"
      ]
     },
     "execution_count": 84,
     "metadata": {},
     "output_type": "execute_result"
    }
   ],
   "source": [
    "# verify counts\n",
    "result_stemmed.shape[0], len(merged_reviews), merged_reviews.asin.nunique()"
   ]
  },
  {
   "cell_type": "code",
   "execution_count": 108,
   "metadata": {
    "ExecuteTime": {
     "end_time": "2018-04-17T23:06:50.969775Z",
     "start_time": "2018-04-17T23:06:50.838585Z"
    }
   },
   "outputs": [],
   "source": [
    "feature_names = tf.get_feature_names()"
   ]
  },
  {
   "cell_type": "code",
   "execution_count": 110,
   "metadata": {
    "ExecuteTime": {
     "end_time": "2018-04-17T23:10:05.708688Z",
     "start_time": "2018-04-17T23:07:08.829475Z"
    }
   },
   "outputs": [],
   "source": [
    "all_words = []\n",
    "all_scores = []\n",
    "num_docs = tfidf_matrix.shape[0]\n",
    "for i in range(num_docs):\n",
    "    doc_num = i\n",
    "    word_list = []\n",
    "    score_list = []\n",
    "    feature_index = tfidf_matrix[doc_num].nonzero()[1]\n",
    "    tfidf_scores = zip(feature_index, [tfidf_matrix[doc_num, x] for x in feature_index])\n",
    "    top_tfidf_scores = sorted(tfidf_scores, key=lambda x: -x[1])[:10] \n",
    "    for w, s in [(feature_names[i], s) for (i, s) in top_tfidf_scores]:\n",
    "        word_list.append(w)\n",
    "        score_list.append(s)    \n",
    "    all_words.append(word_list)\n",
    "    all_scores.append(score_list)"
   ]
  },
  {
   "cell_type": "code",
   "execution_count": 112,
   "metadata": {
    "ExecuteTime": {
     "end_time": "2018-04-17T23:17:35.404742Z",
     "start_time": "2018-04-17T23:13:35.939124Z"
    }
   },
   "outputs": [],
   "source": [
    "top_10_words = []\n",
    "top_10_scores = []\n",
    "num_docs = tfidf_matrix.shape[0]\n",
    "for i in range(num_docs):\n",
    "    doc_num = i\n",
    "    word_list = []\n",
    "    score_list = []\n",
    "    feature_index = tfidf_matrix[doc_num].nonzero()[1]\n",
    "    tfidf_scores = zip(feature_index, [tfidf_matrix[doc_num, x] for x in feature_index])\n",
    "    top_tfidf_scores = sorted(tfidf_scores, key=lambda x: -x[1])[:10] \n",
    "    for w, s in [(feature_names[i], s) for (i, s) in top_tfidf_scores]:\n",
    "        word_list.append(w)\n",
    "        score_list.append(s)    \n",
    "    top_10_words.append(word_list)\n",
    "    top_10_scores.append(score_list)"
   ]
  },
  {
   "cell_type": "code",
   "execution_count": 113,
   "metadata": {
    "ExecuteTime": {
     "end_time": "2018-04-17T23:17:38.788007Z",
     "start_time": "2018-04-17T23:17:38.751161Z"
    }
   },
   "outputs": [
    {
     "data": {
      "text/html": [
       "<div>\n",
       "<style>\n",
       "    .dataframe thead tr:only-child th {\n",
       "        text-align: right;\n",
       "    }\n",
       "\n",
       "    .dataframe thead th {\n",
       "        text-align: left;\n",
       "    }\n",
       "\n",
       "    .dataframe tbody tr th {\n",
       "        vertical-align: top;\n",
       "    }\n",
       "</style>\n",
       "<table border=\"1\" class=\"dataframe\">\n",
       "  <thead>\n",
       "    <tr style=\"text-align: right;\">\n",
       "      <th></th>\n",
       "      <th>all_scores</th>\n",
       "      <th>all_words</th>\n",
       "      <th>asin</th>\n",
       "      <th>top_scores</th>\n",
       "      <th>top_words</th>\n",
       "    </tr>\n",
       "  </thead>\n",
       "  <tbody>\n",
       "    <tr>\n",
       "      <th>0</th>\n",
       "      <td>[0.363694981627, 0.330312078869, 0.28383830912...</td>\n",
       "      <td>[good, hunt, obtain, flax, result, hous, simpl...</td>\n",
       "      <td>0929619730</td>\n",
       "      <td>[0.363694981627, 0.330312078869, 0.28383830912...</td>\n",
       "      <td>[good, hunt, obtain, flax, result, hous, simpl...</td>\n",
       "    </tr>\n",
       "    <tr>\n",
       "      <th>1</th>\n",
       "      <td>[0.332373883803, 0.225427103931, 0.21194642483...</td>\n",
       "      <td>[lozeng, resveratrol, the, i, to, of, milligra...</td>\n",
       "      <td>0978559088</td>\n",
       "      <td>[0.332373883803, 0.225427103931, 0.21194642483...</td>\n",
       "      <td>[lozeng, resveratrol, the, i, to, of, milligra...</td>\n",
       "    </tr>\n",
       "  </tbody>\n",
       "</table>\n",
       "</div>"
      ],
      "text/plain": [
       "                                          all_scores  \\\n",
       "0  [0.363694981627, 0.330312078869, 0.28383830912...   \n",
       "1  [0.332373883803, 0.225427103931, 0.21194642483...   \n",
       "\n",
       "                                           all_words        asin  \\\n",
       "0  [good, hunt, obtain, flax, result, hous, simpl...  0929619730   \n",
       "1  [lozeng, resveratrol, the, i, to, of, milligra...  0978559088   \n",
       "\n",
       "                                          top_scores  \\\n",
       "0  [0.363694981627, 0.330312078869, 0.28383830912...   \n",
       "1  [0.332373883803, 0.225427103931, 0.21194642483...   \n",
       "\n",
       "                                           top_words  \n",
       "0  [good, hunt, obtain, flax, result, hous, simpl...  \n",
       "1  [lozeng, resveratrol, the, i, to, of, milligra...  "
      ]
     },
     "execution_count": 113,
     "metadata": {},
     "output_type": "execute_result"
    }
   ],
   "source": [
    "tfidf_stemmed = pd.DataFrame(\n",
    "    {'asin': merged_reviews.asin,\n",
    "     'all_words': all_words,\n",
    "     'all_scores': all_scores,\n",
    "     'top_words': top_10_words,\n",
    "     'top_scores': top_10_scores\n",
    "    })\n",
    "tfidf_stemmed[:2]"
   ]
  },
  {
   "cell_type": "code",
   "execution_count": 119,
   "metadata": {
    "ExecuteTime": {
     "end_time": "2018-04-18T17:27:16.843719Z",
     "start_time": "2018-04-18T17:27:16.812990Z"
    }
   },
   "outputs": [],
   "source": [
    "tfidf_out1 = tfidf_stemmed.merge(merged_reviews)"
   ]
  },
  {
   "cell_type": "code",
   "execution_count": 118,
   "metadata": {
    "ExecuteTime": {
     "end_time": "2018-04-18T17:26:15.633889Z",
     "start_time": "2018-04-18T17:26:15.613340Z"
    }
   },
   "outputs": [
    {
     "data": {
      "text/html": [
       "<div>\n",
       "<style>\n",
       "    .dataframe thead tr:only-child th {\n",
       "        text-align: right;\n",
       "    }\n",
       "\n",
       "    .dataframe thead th {\n",
       "        text-align: left;\n",
       "    }\n",
       "\n",
       "    .dataframe tbody tr th {\n",
       "        vertical-align: top;\n",
       "    }\n",
       "</style>\n",
       "<table border=\"1\" class=\"dataframe\">\n",
       "  <thead>\n",
       "    <tr style=\"text-align: right;\">\n",
       "      <th></th>\n",
       "      <th>all_scores</th>\n",
       "      <th>all_words</th>\n",
       "      <th>asin</th>\n",
       "      <th>top_scores</th>\n",
       "      <th>top_words</th>\n",
       "    </tr>\n",
       "  </thead>\n",
       "  <tbody>\n",
       "    <tr>\n",
       "      <th>0</th>\n",
       "      <td>[0.363694981627, 0.330312078869, 0.28383830912...</td>\n",
       "      <td>[good, hunt, obtain, flax, result, hous, simpl...</td>\n",
       "      <td>0929619730</td>\n",
       "      <td>[0.363694981627, 0.330312078869, 0.28383830912...</td>\n",
       "      <td>[good, hunt, obtain, flax, result, hous, simpl...</td>\n",
       "    </tr>\n",
       "    <tr>\n",
       "      <th>1</th>\n",
       "      <td>[0.332373883803, 0.225427103931, 0.21194642483...</td>\n",
       "      <td>[lozeng, resveratrol, the, i, to, of, milligra...</td>\n",
       "      <td>0978559088</td>\n",
       "      <td>[0.332373883803, 0.225427103931, 0.21194642483...</td>\n",
       "      <td>[lozeng, resveratrol, the, i, to, of, milligra...</td>\n",
       "    </tr>\n",
       "  </tbody>\n",
       "</table>\n",
       "</div>"
      ],
      "text/plain": [
       "                                          all_scores  \\\n",
       "0  [0.363694981627, 0.330312078869, 0.28383830912...   \n",
       "1  [0.332373883803, 0.225427103931, 0.21194642483...   \n",
       "\n",
       "                                           all_words        asin  \\\n",
       "0  [good, hunt, obtain, flax, result, hous, simpl...  0929619730   \n",
       "1  [lozeng, resveratrol, the, i, to, of, milligra...  0978559088   \n",
       "\n",
       "                                          top_scores  \\\n",
       "0  [0.363694981627, 0.330312078869, 0.28383830912...   \n",
       "1  [0.332373883803, 0.225427103931, 0.21194642483...   \n",
       "\n",
       "                                           top_words  \n",
       "0  [good, hunt, obtain, flax, result, hous, simpl...  \n",
       "1  [lozeng, resveratrol, the, i, to, of, milligra...  "
      ]
     },
     "execution_count": 118,
     "metadata": {},
     "output_type": "execute_result"
    }
   ],
   "source": [
    "tfidf_stemmed[:2]"
   ]
  },
  {
   "cell_type": "markdown",
   "metadata": {},
   "source": [
    "#### TFIDF on 'Clean' Tokens"
   ]
  },
  {
   "cell_type": "code",
   "execution_count": 121,
   "metadata": {
    "ExecuteTime": {
     "end_time": "2018-04-18T17:29:42.140255Z",
     "start_time": "2018-04-18T17:29:25.380091Z"
    }
   },
   "outputs": [],
   "source": [
    "tfidf_matrix =  tf.fit_transform(merged_reviews.review_tokens_clean) # fit on tokenized, stemmed reviews\n",
    "feature_names = tf.get_feature_names()"
   ]
  },
  {
   "cell_type": "code",
   "execution_count": 122,
   "metadata": {
    "ExecuteTime": {
     "end_time": "2018-04-18T17:32:29.937456Z",
     "start_time": "2018-04-18T17:30:23.274728Z"
    }
   },
   "outputs": [],
   "source": [
    "all_words = []\n",
    "all_scores = []\n",
    "num_docs = tfidf_matrix.shape[0]\n",
    "for i in range(num_docs):\n",
    "    doc_num = i\n",
    "    word_list = []\n",
    "    score_list = []\n",
    "    feature_index = tfidf_matrix[doc_num].nonzero()[1]\n",
    "    tfidf_scores = zip(feature_index, [tfidf_matrix[doc_num, x] for x in feature_index])\n",
    "    top_tfidf_scores = sorted(tfidf_scores, key=lambda x: -x[1])[:10] \n",
    "    for w, s in [(feature_names[i], s) for (i, s) in top_tfidf_scores]:\n",
    "        word_list.append(w)\n",
    "        score_list.append(s)    \n",
    "    all_words.append(word_list)\n",
    "    all_scores.append(score_list)"
   ]
  },
  {
   "cell_type": "code",
   "execution_count": 123,
   "metadata": {
    "ExecuteTime": {
     "end_time": "2018-04-18T17:34:40.423412Z",
     "start_time": "2018-04-18T17:32:31.856158Z"
    }
   },
   "outputs": [],
   "source": [
    "top_10_words = []\n",
    "top_10_scores = []\n",
    "num_docs = tfidf_matrix.shape[0]\n",
    "for i in range(num_docs):\n",
    "    doc_num = i\n",
    "    word_list = []\n",
    "    score_list = []\n",
    "    feature_index = tfidf_matrix[doc_num].nonzero()[1]\n",
    "    tfidf_scores = zip(feature_index, [tfidf_matrix[doc_num, x] for x in feature_index])\n",
    "    top_tfidf_scores = sorted(tfidf_scores, key=lambda x: -x[1])[:10] \n",
    "    for w, s in [(feature_names[i], s) for (i, s) in top_tfidf_scores]:\n",
    "        word_list.append(w)\n",
    "        score_list.append(s)    \n",
    "    top_10_words.append(word_list)\n",
    "    top_10_scores.append(score_list)"
   ]
  },
  {
   "cell_type": "code",
   "execution_count": 126,
   "metadata": {
    "ExecuteTime": {
     "end_time": "2018-04-18T17:36:49.734637Z",
     "start_time": "2018-04-18T17:36:49.711402Z"
    }
   },
   "outputs": [
    {
     "data": {
      "text/html": [
       "<div>\n",
       "<style>\n",
       "    .dataframe thead tr:only-child th {\n",
       "        text-align: right;\n",
       "    }\n",
       "\n",
       "    .dataframe thead th {\n",
       "        text-align: left;\n",
       "    }\n",
       "\n",
       "    .dataframe tbody tr th {\n",
       "        vertical-align: top;\n",
       "    }\n",
       "</style>\n",
       "<table border=\"1\" class=\"dataframe\">\n",
       "  <thead>\n",
       "    <tr style=\"text-align: right;\">\n",
       "      <th></th>\n",
       "      <th>all_scores_cleaner</th>\n",
       "      <th>all_words_cleaner</th>\n",
       "      <th>asin</th>\n",
       "      <th>top_scores_cleaner</th>\n",
       "      <th>top_words_cleaner</th>\n",
       "    </tr>\n",
       "  </thead>\n",
       "  <tbody>\n",
       "    <tr>\n",
       "      <th>0</th>\n",
       "      <td>[0.415263328623, 0.37714706082, 0.324083770726...</td>\n",
       "      <td>[good, hunt, obtain, flax, result, hous, simpl...</td>\n",
       "      <td>0929619730</td>\n",
       "      <td>[0.415263328623, 0.37714706082, 0.324083770726...</td>\n",
       "      <td>[good, hunt, obtain, flax, result, hous, simpl...</td>\n",
       "    </tr>\n",
       "    <tr>\n",
       "      <th>1</th>\n",
       "      <td>[0.424028989528, 0.287590667469, 0.20211837737...</td>\n",
       "      <td>[lozeng, resveratrol, milligram, dissolv, prod...</td>\n",
       "      <td>0978559088</td>\n",
       "      <td>[0.424028989528, 0.287590667469, 0.20211837737...</td>\n",
       "      <td>[lozeng, resveratrol, milligram, dissolv, prod...</td>\n",
       "    </tr>\n",
       "  </tbody>\n",
       "</table>\n",
       "</div>"
      ],
      "text/plain": [
       "                                  all_scores_cleaner  \\\n",
       "0  [0.415263328623, 0.37714706082, 0.324083770726...   \n",
       "1  [0.424028989528, 0.287590667469, 0.20211837737...   \n",
       "\n",
       "                                   all_words_cleaner        asin  \\\n",
       "0  [good, hunt, obtain, flax, result, hous, simpl...  0929619730   \n",
       "1  [lozeng, resveratrol, milligram, dissolv, prod...  0978559088   \n",
       "\n",
       "                                  top_scores_cleaner  \\\n",
       "0  [0.415263328623, 0.37714706082, 0.324083770726...   \n",
       "1  [0.424028989528, 0.287590667469, 0.20211837737...   \n",
       "\n",
       "                                   top_words_cleaner  \n",
       "0  [good, hunt, obtain, flax, result, hous, simpl...  \n",
       "1  [lozeng, resveratrol, milligram, dissolv, prod...  "
      ]
     },
     "execution_count": 126,
     "metadata": {},
     "output_type": "execute_result"
    }
   ],
   "source": [
    "tfidf_clean = pd.DataFrame(\n",
    "    {'asin': merged_reviews.asin,\n",
    "     'all_words_cleaner': all_words,\n",
    "     'all_scores_cleaner': all_scores,\n",
    "     'top_words_cleaner': top_10_words,\n",
    "     'top_scores_cleaner': top_10_scores\n",
    "    })\n",
    "tfidf_clean[:2]"
   ]
  },
  {
   "cell_type": "code",
   "execution_count": 128,
   "metadata": {
    "ExecuteTime": {
     "end_time": "2018-04-18T17:37:18.356566Z",
     "start_time": "2018-04-18T17:37:18.303364Z"
    }
   },
   "outputs": [
    {
     "data": {
      "text/html": [
       "<div>\n",
       "<style>\n",
       "    .dataframe thead tr:only-child th {\n",
       "        text-align: right;\n",
       "    }\n",
       "\n",
       "    .dataframe thead th {\n",
       "        text-align: left;\n",
       "    }\n",
       "\n",
       "    .dataframe tbody tr th {\n",
       "        vertical-align: top;\n",
       "    }\n",
       "</style>\n",
       "<table border=\"1\" class=\"dataframe\">\n",
       "  <thead>\n",
       "    <tr style=\"text-align: right;\">\n",
       "      <th></th>\n",
       "      <th>top_words</th>\n",
       "      <th>top_words_cleaner</th>\n",
       "    </tr>\n",
       "  </thead>\n",
       "  <tbody>\n",
       "    <tr>\n",
       "      <th>0</th>\n",
       "      <td>[good, hunt, obtain, flax, result, hous, simpl...</td>\n",
       "      <td>[good, hunt, obtain, flax, result, hous, simpl...</td>\n",
       "    </tr>\n",
       "    <tr>\n",
       "      <th>1</th>\n",
       "      <td>[lozeng, resveratrol, the, i, to, of, milligra...</td>\n",
       "      <td>[lozeng, resveratrol, milligram, dissolv, prod...</td>\n",
       "    </tr>\n",
       "  </tbody>\n",
       "</table>\n",
       "</div>"
      ],
      "text/plain": [
       "                                           top_words  \\\n",
       "0  [good, hunt, obtain, flax, result, hous, simpl...   \n",
       "1  [lozeng, resveratrol, the, i, to, of, milligra...   \n",
       "\n",
       "                                   top_words_cleaner  \n",
       "0  [good, hunt, obtain, flax, result, hous, simpl...  \n",
       "1  [lozeng, resveratrol, milligram, dissolv, prod...  "
      ]
     },
     "execution_count": 128,
     "metadata": {},
     "output_type": "execute_result"
    }
   ],
   "source": [
    "tfidf_out2 = tfidf_out1.merge(tfidf_clean)\n",
    "tfidf_out2[['top_words', 'top_words_cleaner']][:2]"
   ]
  },
  {
   "cell_type": "code",
   "execution_count": 129,
   "metadata": {
    "ExecuteTime": {
     "end_time": "2018-04-18T17:40:45.969339Z",
     "start_time": "2018-04-18T17:37:55.582650Z"
    }
   },
   "outputs": [],
   "source": [
    "tfidf_out2.to_pickle('../data/tfidf_top_words_per_asin')"
   ]
  },
  {
   "cell_type": "code",
   "execution_count": 132,
   "metadata": {
    "ExecuteTime": {
     "end_time": "2018-04-18T17:43:36.511131Z",
     "start_time": "2018-04-18T17:43:36.419753Z"
    }
   },
   "outputs": [
    {
     "data": {
      "text/html": [
       "<div>\n",
       "<style>\n",
       "    .dataframe thead tr:only-child th {\n",
       "        text-align: right;\n",
       "    }\n",
       "\n",
       "    .dataframe thead th {\n",
       "        text-align: left;\n",
       "    }\n",
       "\n",
       "    .dataframe tbody tr th {\n",
       "        vertical-align: top;\n",
       "    }\n",
       "</style>\n",
       "<table border=\"1\" class=\"dataframe\">\n",
       "  <thead>\n",
       "    <tr style=\"text-align: right;\">\n",
       "      <th></th>\n",
       "      <th>top_words</th>\n",
       "      <th>top_words_cleaner</th>\n",
       "    </tr>\n",
       "  </thead>\n",
       "  <tbody>\n",
       "    <tr>\n",
       "      <th>0</th>\n",
       "      <td>[good, hunt, obtain, flax, result, hous, simpl...</td>\n",
       "      <td>[good, hunt, obtain, flax, result, hous, simpl...</td>\n",
       "    </tr>\n",
       "    <tr>\n",
       "      <th>1</th>\n",
       "      <td>[lozeng, resveratrol, the, i, to, of, milligra...</td>\n",
       "      <td>[lozeng, resveratrol, milligram, dissolv, prod...</td>\n",
       "    </tr>\n",
       "    <tr>\n",
       "      <th>2</th>\n",
       "      <td>[bracelet, tea, green, the, of, i, girl, ymca,...</td>\n",
       "      <td>[bracelet, tea, green, girl, ymca, eleg, bough...</td>\n",
       "    </tr>\n",
       "    <tr>\n",
       "      <th>3</th>\n",
       "      <td>[it, tummi, i, eat, upset, t, obsess, realli, ...</td>\n",
       "      <td>[tummi, eat, upset, t, obsess, realli, def, wo...</td>\n",
       "    </tr>\n",
       "    <tr>\n",
       "      <th>4</th>\n",
       "      <td>[the, cleans, ingredi, i, list, dandelion, rea...</td>\n",
       "      <td>[cleans, ingredi, list, dandelion, read, stran...</td>\n",
       "    </tr>\n",
       "    <tr>\n",
       "      <th>5</th>\n",
       "      <td>[swet, you, belt, to, and, the, it, very, i, m]</td>\n",
       "      <td>[swet, belt, m, obiousley, cristal, satifid, s...</td>\n",
       "    </tr>\n",
       "    <tr>\n",
       "      <th>6</th>\n",
       "      <td>[breast, i, skin, and, way, it, my, hair, pert...</td>\n",
       "      <td>[breast, skin, way, hair, pertand, bigger, bra...</td>\n",
       "    </tr>\n",
       "    <tr>\n",
       "      <th>7</th>\n",
       "      <td>[mark, thus, been, three, abl, have, see, resu...</td>\n",
       "      <td>[mark, abl, result, month, use, product]</td>\n",
       "    </tr>\n",
       "    <tr>\n",
       "      <th>8</th>\n",
       "      <td>[distributor, sponsor, click, id, usw, nuskin,...</td>\n",
       "      <td>[distributor, sponsor, click, id, usw, nuskin,...</td>\n",
       "    </tr>\n",
       "    <tr>\n",
       "      <th>9</th>\n",
       "      <td>[youbonni, inbetween, armi, semi, disabl, meal...</td>\n",
       "      <td>[youbonni, inbetween, armi, semi, disabl, meal...</td>\n",
       "    </tr>\n",
       "    <tr>\n",
       "      <th>10</th>\n",
       "      <td>[and, whir, flavor, underweight, diseas, ill, ...</td>\n",
       "      <td>[whir, flavor, underweight, diseas, ill, pack,...</td>\n",
       "    </tr>\n",
       "    <tr>\n",
       "      <th>11</th>\n",
       "      <td>[i, dairi, lactos, intoler, the, to, and, milk...</td>\n",
       "      <td>[dairi, lactos, intoler, milk, eat, chees, cre...</td>\n",
       "    </tr>\n",
       "    <tr>\n",
       "      <th>12</th>\n",
       "      <td>[the, orang, of, i, cross, enquir, mucil, a, s...</td>\n",
       "      <td>[orang, cross, enquir, mucil, synchron, imagin...</td>\n",
       "    </tr>\n",
       "    <tr>\n",
       "      <th>13</th>\n",
       "      <td>[it, oil, i, and, skin, use, my, a, the, for]</td>\n",
       "      <td>[oil, skin, use, vitamin, moistur, hair, face,...</td>\n",
       "    </tr>\n",
       "    <tr>\n",
       "      <th>14</th>\n",
       "      <td>[poof, iron, headach, feel, tire, upset, and, ...</td>\n",
       "      <td>[poof, iron, headach, feel, tire, upset, low, ...</td>\n",
       "    </tr>\n",
       "    <tr>\n",
       "      <th>15</th>\n",
       "      <td>[cancer, bladder, vitamin, the, recurr, i, bcg...</td>\n",
       "      <td>[cancer, bladder, vitamin, recurr, bcg, reoccu...</td>\n",
       "    </tr>\n",
       "    <tr>\n",
       "      <th>16</th>\n",
       "      <td>[thru, me, receiv, boost, product, littl, prob...</td>\n",
       "      <td>[receiv, boost, product, littl, problem, time,...</td>\n",
       "    </tr>\n",
       "    <tr>\n",
       "      <th>17</th>\n",
       "      <td>[mg, i, the, they, take, and, vitamin, of, a, ...</td>\n",
       "      <td>[mg, vitamin, ginkgo, b, day, nail, readi, wom...</td>\n",
       "    </tr>\n",
       "    <tr>\n",
       "      <th>18</th>\n",
       "      <td>[vitamin, compact, t, comprehens, that, feel, ...</td>\n",
       "      <td>[vitamin, compact, t, comprehens, feel, doesn,...</td>\n",
       "    </tr>\n",
       "    <tr>\n",
       "      <th>19</th>\n",
       "      <td>[i, the, to, niaspan, cholesterol, my, it, and...</td>\n",
       "      <td>[niaspan, cholesterol, niacin, flush, nacin, h...</td>\n",
       "    </tr>\n",
       "    <tr>\n",
       "      <th>20</th>\n",
       "      <td>[iron, i, the, a, to, and, it, my, take, packag]</td>\n",
       "      <td>[iron, packag, supplement, anemia, t, doctor, ...</td>\n",
       "    </tr>\n",
       "    <tr>\n",
       "      <th>21</th>\n",
       "      <td>[i, and, it, to, acidophilus, the, these, a, t...</td>\n",
       "      <td>[acidophilus, tast, great, digest, t, product,...</td>\n",
       "    </tr>\n",
       "    <tr>\n",
       "      <th>22</th>\n",
       "      <td>[reward, our, nap, we, mid, alert, afternoon, ...</td>\n",
       "      <td>[reward, nap, mid, alert, afternoon, anymor, w...</td>\n",
       "    </tr>\n",
       "    <tr>\n",
       "      <th>23</th>\n",
       "      <td>[combin, i, find, the, local, to, vitamin, blo...</td>\n",
       "      <td>[combin, local, vitamin, blockag, skin, went, ...</td>\n",
       "    </tr>\n",
       "    <tr>\n",
       "      <th>24</th>\n",
       "      <td>[cancel, order, today, place, avail, item, due...</td>\n",
       "      <td>[cancel, order, today, place, avail, item]</td>\n",
       "    </tr>\n",
       "    <tr>\n",
       "      <th>25</th>\n",
       "      <td>[triplet, twin, luke, quad, barbara, pregci, b...</td>\n",
       "      <td>[triplet, twin, luke, quad, barbara, pregci, b...</td>\n",
       "    </tr>\n",
       "    <tr>\n",
       "      <th>26</th>\n",
       "      <td>[it, miseri, you, damn, beg, echinacea, aunt, ...</td>\n",
       "      <td>[miseri, damn, beg, echinacea, aunt, didn, fda...</td>\n",
       "    </tr>\n",
       "    <tr>\n",
       "      <th>27</th>\n",
       "      <td>[citizen, senior, mile, price, product, walk, ...</td>\n",
       "      <td>[citizen, senior, mile, price, product, walk, ...</td>\n",
       "    </tr>\n",
       "    <tr>\n",
       "      <th>28</th>\n",
       "      <td>[i, the, and, a, it, pycnogenol, of, my, skin,...</td>\n",
       "      <td>[pycnogenol, skin, flash, hot, month, product,...</td>\n",
       "    </tr>\n",
       "    <tr>\n",
       "      <th>29</th>\n",
       "      <td>[the, to, i, it, energi, a, in, and, drink, br...</td>\n",
       "      <td>[energi, drink, brain, coffe, alert, twinlab, ...</td>\n",
       "    </tr>\n",
       "    <tr>\n",
       "      <th>...</th>\n",
       "      <td>...</td>\n",
       "      <td>...</td>\n",
       "    </tr>\n",
       "    <tr>\n",
       "      <th>70</th>\n",
       "      <td>[fishi, ticker, only, mobil, strang, not, you,...</td>\n",
       "      <td>[fishi, ticker, mobil, strang, tast, repeat, c...</td>\n",
       "    </tr>\n",
       "    <tr>\n",
       "      <th>71</th>\n",
       "      <td>[shake, lite, calor, the, men, woman, otherwis...</td>\n",
       "      <td>[shake, lite, calor, men, woman, otherwis, cho...</td>\n",
       "    </tr>\n",
       "    <tr>\n",
       "      <th>72</th>\n",
       "      <td>[nightsweat, i, it, drench, to, carri, the, re...</td>\n",
       "      <td>[nightsweat, drench, carri, reallyget, overall...</td>\n",
       "    </tr>\n",
       "    <tr>\n",
       "      <th>73</th>\n",
       "      <td>[pain, it, rub, knee, ach, and, i, this, for, ...</td>\n",
       "      <td>[pain, rub, knee, ach, neck, product, massag, ...</td>\n",
       "    </tr>\n",
       "    <tr>\n",
       "      <th>74</th>\n",
       "      <td>[bar, protein, i, chocol, the, and, a, are, ea...</td>\n",
       "      <td>[bar, protein, chocol, eat, tast, calori, pean...</td>\n",
       "    </tr>\n",
       "    <tr>\n",
       "      <th>75</th>\n",
       "      <td>[we, brand, the, is, buy, best, than, only, mu...</td>\n",
       "      <td>[brand, buy, best, better, work, use]</td>\n",
       "    </tr>\n",
       "    <tr>\n",
       "      <th>76</th>\n",
       "      <td>[i, pain, knee, and, the, to, it, joint, a, my]</td>\n",
       "      <td>[pain, knee, joint, product, arthriti, help, g...</td>\n",
       "    </tr>\n",
       "    <tr>\n",
       "      <th>77</th>\n",
       "      <td>[i, m, bodybuild, never, athlet, till, result,...</td>\n",
       "      <td>[m, bodybuild, athlet, till, result, goal, rea...</td>\n",
       "    </tr>\n",
       "    <tr>\n",
       "      <th>78</th>\n",
       "      <td>[i, acn, and, it, the, a, my, pill, breakout, to]</td>\n",
       "      <td>[acn, pill, breakout, clear, face, skin, work,...</td>\n",
       "    </tr>\n",
       "    <tr>\n",
       "      <th>79</th>\n",
       "      <td>[i, stomach, have, vitamin, before, these, fee...</td>\n",
       "      <td>[stomach, vitamin, feel, peopl, bad, react, fo...</td>\n",
       "    </tr>\n",
       "    <tr>\n",
       "      <th>80</th>\n",
       "      <td>[prompt, arriv, problem, want, what, no, was, ...</td>\n",
       "      <td>[prompt, arriv, problem, want]</td>\n",
       "    </tr>\n",
       "    <tr>\n",
       "      <th>81</th>\n",
       "      <td>[i, packet, and, the, defacto, hemorrhoidectom...</td>\n",
       "      <td>[packet, defacto, hemorrhoidectomi, triedx, ho...</td>\n",
       "    </tr>\n",
       "    <tr>\n",
       "      <th>82</th>\n",
       "      <td>[protect, shape, deliveri, was, arriv, came, h...</td>\n",
       "      <td>[protect, shape, deliveri, arriv, came, happi,...</td>\n",
       "    </tr>\n",
       "    <tr>\n",
       "      <th>83</th>\n",
       "      <td>[xtreme, the, lean, and, appetit, i, to, you, ...</td>\n",
       "      <td>[xtreme, lean, appetit, calori, crave, eat, en...</td>\n",
       "    </tr>\n",
       "    <tr>\n",
       "      <th>84</th>\n",
       "      <td>[the, i, to, nuclear, a, in, expir, of, and, d...</td>\n",
       "      <td>[nuclear, expir, date, emerg, case, need, radi...</td>\n",
       "    </tr>\n",
       "    <tr>\n",
       "      <th>85</th>\n",
       "      <td>[i, fountain, youth, energi, you, pill, the, m...</td>\n",
       "      <td>[fountain, youth, energi, pill, magic, need, g...</td>\n",
       "    </tr>\n",
       "    <tr>\n",
       "      <th>86</th>\n",
       "      <td>[it, i, joint, and, knox, her, the, my, for, to]</td>\n",
       "      <td>[joint, knox, use, year, pain, knee, morn, art...</td>\n",
       "    </tr>\n",
       "    <tr>\n",
       "      <th>87</th>\n",
       "      <td>[thank, bulk, carri, suppli, form, low, run, l...</td>\n",
       "      <td>[thank, bulk, carri, suppli, form, low, run, l...</td>\n",
       "    </tr>\n",
       "    <tr>\n",
       "      <th>88</th>\n",
       "      <td>[gum, daughter, vitamin, gmmi, forbidden, a, t...</td>\n",
       "      <td>[gum, daughter, vitamin, gmmi, forbidden, kid,...</td>\n",
       "    </tr>\n",
       "    <tr>\n",
       "      <th>89</th>\n",
       "      <td>[per, i, seat, dosag, bcaa, use, owner, hyper,...</td>\n",
       "      <td>[seat, dosag, bcaa, use, owner, hyper, day, ca...</td>\n",
       "    </tr>\n",
       "    <tr>\n",
       "      <th>90</th>\n",
       "      <td>[jet, lag, i, flight, trip, to, the, and, trav...</td>\n",
       "      <td>[jet, lag, flight, trip, travel, hour, europ, ...</td>\n",
       "    </tr>\n",
       "    <tr>\n",
       "      <th>91</th>\n",
       "      <td>[lotion, norish, smelllllll, satsuma, jergen, ...</td>\n",
       "      <td>[lotion, norish, smelllllll, satsuma, jergen, ...</td>\n",
       "    </tr>\n",
       "    <tr>\n",
       "      <th>92</th>\n",
       "      <td>[i, it, to, weight, with, the, take, you, soda...</td>\n",
       "      <td>[weight, soda, lifestyl, lose, t, healthi, don...</td>\n",
       "    </tr>\n",
       "    <tr>\n",
       "      <th>93</th>\n",
       "      <td>[i, vitamin, this, and, the, energi, these, it...</td>\n",
       "      <td>[vitamin, energi, year, weight, particuliar, n...</td>\n",
       "    </tr>\n",
       "    <tr>\n",
       "      <th>94</th>\n",
       "      <td>[metabolift, it, i, thus, metobol, churn, food...</td>\n",
       "      <td>[metabolift, metobol, churn, food, sought, exe...</td>\n",
       "    </tr>\n",
       "    <tr>\n",
       "      <th>95</th>\n",
       "      <td>[iron, i, the, and, to, ferrous, anemia, const...</td>\n",
       "      <td>[iron, ferrous, anemia, constip, pill, doctor,...</td>\n",
       "    </tr>\n",
       "    <tr>\n",
       "      <th>96</th>\n",
       "      <td>[i, stacker, and, energi, the, you, to, a, wei...</td>\n",
       "      <td>[stacker, energi, weight, make, loss, activ, w...</td>\n",
       "    </tr>\n",
       "    <tr>\n",
       "      <th>97</th>\n",
       "      <td>[i, it, ib, orang, discontinu, and, flavor, th...</td>\n",
       "      <td>[ib, orang, discontinu, flavor, clear, citric,...</td>\n",
       "    </tr>\n",
       "    <tr>\n",
       "      <th>98</th>\n",
       "      <td>[fiber, it, your, verit, colon, absorv, consti...</td>\n",
       "      <td>[fiber, verit, colon, absorv, constip, regular...</td>\n",
       "    </tr>\n",
       "    <tr>\n",
       "      <th>99</th>\n",
       "      <td>[the, expector, phlegm, it, lung, cough, i, an...</td>\n",
       "      <td>[expector, phlegm, lung, cough, cold, eustacea...</td>\n",
       "    </tr>\n",
       "  </tbody>\n",
       "</table>\n",
       "<p>100 rows × 2 columns</p>\n",
       "</div>"
      ],
      "text/plain": [
       "                                            top_words  \\\n",
       "0   [good, hunt, obtain, flax, result, hous, simpl...   \n",
       "1   [lozeng, resveratrol, the, i, to, of, milligra...   \n",
       "2   [bracelet, tea, green, the, of, i, girl, ymca,...   \n",
       "3   [it, tummi, i, eat, upset, t, obsess, realli, ...   \n",
       "4   [the, cleans, ingredi, i, list, dandelion, rea...   \n",
       "5     [swet, you, belt, to, and, the, it, very, i, m]   \n",
       "6   [breast, i, skin, and, way, it, my, hair, pert...   \n",
       "7   [mark, thus, been, three, abl, have, see, resu...   \n",
       "8   [distributor, sponsor, click, id, usw, nuskin,...   \n",
       "9   [youbonni, inbetween, armi, semi, disabl, meal...   \n",
       "10  [and, whir, flavor, underweight, diseas, ill, ...   \n",
       "11  [i, dairi, lactos, intoler, the, to, and, milk...   \n",
       "12  [the, orang, of, i, cross, enquir, mucil, a, s...   \n",
       "13      [it, oil, i, and, skin, use, my, a, the, for]   \n",
       "14  [poof, iron, headach, feel, tire, upset, and, ...   \n",
       "15  [cancer, bladder, vitamin, the, recurr, i, bcg...   \n",
       "16  [thru, me, receiv, boost, product, littl, prob...   \n",
       "17  [mg, i, the, they, take, and, vitamin, of, a, ...   \n",
       "18  [vitamin, compact, t, comprehens, that, feel, ...   \n",
       "19  [i, the, to, niaspan, cholesterol, my, it, and...   \n",
       "20   [iron, i, the, a, to, and, it, my, take, packag]   \n",
       "21  [i, and, it, to, acidophilus, the, these, a, t...   \n",
       "22  [reward, our, nap, we, mid, alert, afternoon, ...   \n",
       "23  [combin, i, find, the, local, to, vitamin, blo...   \n",
       "24  [cancel, order, today, place, avail, item, due...   \n",
       "25  [triplet, twin, luke, quad, barbara, pregci, b...   \n",
       "26  [it, miseri, you, damn, beg, echinacea, aunt, ...   \n",
       "27  [citizen, senior, mile, price, product, walk, ...   \n",
       "28  [i, the, and, a, it, pycnogenol, of, my, skin,...   \n",
       "29  [the, to, i, it, energi, a, in, and, drink, br...   \n",
       "..                                                ...   \n",
       "70  [fishi, ticker, only, mobil, strang, not, you,...   \n",
       "71  [shake, lite, calor, the, men, woman, otherwis...   \n",
       "72  [nightsweat, i, it, drench, to, carri, the, re...   \n",
       "73  [pain, it, rub, knee, ach, and, i, this, for, ...   \n",
       "74  [bar, protein, i, chocol, the, and, a, are, ea...   \n",
       "75  [we, brand, the, is, buy, best, than, only, mu...   \n",
       "76    [i, pain, knee, and, the, to, it, joint, a, my]   \n",
       "77  [i, m, bodybuild, never, athlet, till, result,...   \n",
       "78  [i, acn, and, it, the, a, my, pill, breakout, to]   \n",
       "79  [i, stomach, have, vitamin, before, these, fee...   \n",
       "80  [prompt, arriv, problem, want, what, no, was, ...   \n",
       "81  [i, packet, and, the, defacto, hemorrhoidectom...   \n",
       "82  [protect, shape, deliveri, was, arriv, came, h...   \n",
       "83  [xtreme, the, lean, and, appetit, i, to, you, ...   \n",
       "84  [the, i, to, nuclear, a, in, expir, of, and, d...   \n",
       "85  [i, fountain, youth, energi, you, pill, the, m...   \n",
       "86   [it, i, joint, and, knox, her, the, my, for, to]   \n",
       "87  [thank, bulk, carri, suppli, form, low, run, l...   \n",
       "88  [gum, daughter, vitamin, gmmi, forbidden, a, t...   \n",
       "89  [per, i, seat, dosag, bcaa, use, owner, hyper,...   \n",
       "90  [jet, lag, i, flight, trip, to, the, and, trav...   \n",
       "91  [lotion, norish, smelllllll, satsuma, jergen, ...   \n",
       "92  [i, it, to, weight, with, the, take, you, soda...   \n",
       "93  [i, vitamin, this, and, the, energi, these, it...   \n",
       "94  [metabolift, it, i, thus, metobol, churn, food...   \n",
       "95  [iron, i, the, and, to, ferrous, anemia, const...   \n",
       "96  [i, stacker, and, energi, the, you, to, a, wei...   \n",
       "97  [i, it, ib, orang, discontinu, and, flavor, th...   \n",
       "98  [fiber, it, your, verit, colon, absorv, consti...   \n",
       "99  [the, expector, phlegm, it, lung, cough, i, an...   \n",
       "\n",
       "                                    top_words_cleaner  \n",
       "0   [good, hunt, obtain, flax, result, hous, simpl...  \n",
       "1   [lozeng, resveratrol, milligram, dissolv, prod...  \n",
       "2   [bracelet, tea, green, girl, ymca, eleg, bough...  \n",
       "3   [tummi, eat, upset, t, obsess, realli, def, wo...  \n",
       "4   [cleans, ingredi, list, dandelion, read, stran...  \n",
       "5   [swet, belt, m, obiousley, cristal, satifid, s...  \n",
       "6   [breast, skin, way, hair, pertand, bigger, bra...  \n",
       "7            [mark, abl, result, month, use, product]  \n",
       "8   [distributor, sponsor, click, id, usw, nuskin,...  \n",
       "9   [youbonni, inbetween, armi, semi, disabl, meal...  \n",
       "10  [whir, flavor, underweight, diseas, ill, pack,...  \n",
       "11  [dairi, lactos, intoler, milk, eat, chees, cre...  \n",
       "12  [orang, cross, enquir, mucil, synchron, imagin...  \n",
       "13  [oil, skin, use, vitamin, moistur, hair, face,...  \n",
       "14  [poof, iron, headach, feel, tire, upset, low, ...  \n",
       "15  [cancer, bladder, vitamin, recurr, bcg, reoccu...  \n",
       "16  [receiv, boost, product, littl, problem, time,...  \n",
       "17  [mg, vitamin, ginkgo, b, day, nail, readi, wom...  \n",
       "18  [vitamin, compact, t, comprehens, feel, doesn,...  \n",
       "19  [niaspan, cholesterol, niacin, flush, nacin, h...  \n",
       "20  [iron, packag, supplement, anemia, t, doctor, ...  \n",
       "21  [acidophilus, tast, great, digest, t, product,...  \n",
       "22  [reward, nap, mid, alert, afternoon, anymor, w...  \n",
       "23  [combin, local, vitamin, blockag, skin, went, ...  \n",
       "24         [cancel, order, today, place, avail, item]  \n",
       "25  [triplet, twin, luke, quad, barbara, pregci, b...  \n",
       "26  [miseri, damn, beg, echinacea, aunt, didn, fda...  \n",
       "27  [citizen, senior, mile, price, product, walk, ...  \n",
       "28  [pycnogenol, skin, flash, hot, month, product,...  \n",
       "29  [energi, drink, brain, coffe, alert, twinlab, ...  \n",
       "..                                                ...  \n",
       "70  [fishi, ticker, mobil, strang, tast, repeat, c...  \n",
       "71  [shake, lite, calor, men, woman, otherwis, cho...  \n",
       "72  [nightsweat, drench, carri, reallyget, overall...  \n",
       "73  [pain, rub, knee, ach, neck, product, massag, ...  \n",
       "74  [bar, protein, chocol, eat, tast, calori, pean...  \n",
       "75              [brand, buy, best, better, work, use]  \n",
       "76  [pain, knee, joint, product, arthriti, help, g...  \n",
       "77  [m, bodybuild, athlet, till, result, goal, rea...  \n",
       "78  [acn, pill, breakout, clear, face, skin, work,...  \n",
       "79  [stomach, vitamin, feel, peopl, bad, react, fo...  \n",
       "80                     [prompt, arriv, problem, want]  \n",
       "81  [packet, defacto, hemorrhoidectomi, triedx, ho...  \n",
       "82  [protect, shape, deliveri, arriv, came, happi,...  \n",
       "83  [xtreme, lean, appetit, calori, crave, eat, en...  \n",
       "84  [nuclear, expir, date, emerg, case, need, radi...  \n",
       "85  [fountain, youth, energi, pill, magic, need, g...  \n",
       "86  [joint, knox, use, year, pain, knee, morn, art...  \n",
       "87  [thank, bulk, carri, suppli, form, low, run, l...  \n",
       "88  [gum, daughter, vitamin, gmmi, forbidden, kid,...  \n",
       "89  [seat, dosag, bcaa, use, owner, hyper, day, ca...  \n",
       "90  [jet, lag, flight, trip, travel, hour, europ, ...  \n",
       "91  [lotion, norish, smelllllll, satsuma, jergen, ...  \n",
       "92  [weight, soda, lifestyl, lose, t, healthi, don...  \n",
       "93  [vitamin, energi, year, weight, particuliar, n...  \n",
       "94  [metabolift, metobol, churn, food, sought, exe...  \n",
       "95  [iron, ferrous, anemia, constip, pill, doctor,...  \n",
       "96  [stacker, energi, weight, make, loss, activ, w...  \n",
       "97  [ib, orang, discontinu, flavor, clear, citric,...  \n",
       "98  [fiber, verit, colon, absorv, constip, regular...  \n",
       "99  [expector, phlegm, lung, cough, cold, eustacea...  \n",
       "\n",
       "[100 rows x 2 columns]"
      ]
     },
     "execution_count": 132,
     "metadata": {},
     "output_type": "execute_result"
    }
   ],
   "source": [
    "tfidf_out2[['top_words', 'top_words_cleaner']][:100]"
   ]
  },
  {
   "cell_type": "markdown",
   "metadata": {},
   "source": [
    "## Sentiment Analysis"
   ]
  },
  {
   "cell_type": "markdown",
   "metadata": {},
   "source": [
    "### Vader"
   ]
  },
  {
   "cell_type": "markdown",
   "metadata": {},
   "source": [
    "#### At the review level:"
   ]
  },
  {
   "cell_type": "code",
   "execution_count": 289,
   "metadata": {
    "ExecuteTime": {
     "end_time": "2018-04-09T21:33:28.907293Z",
     "start_time": "2018-04-09T21:33:28.888701Z"
    },
    "collapsed": true
   },
   "outputs": [],
   "source": [
    "from vaderSentiment.vaderSentiment import SentimentIntensityAnalyzer\n",
    "# https://github.com/cjhutto/vaderSentiment\n",
    "# Vader is \"specifically attuned to sentiments expressed in social media\"\n",
    "# Many language-features specific to SM are also applicable to reviews: see feature 4 on github \n",
    "# Note that Vader was tested on Amazon review snippets (results compared to human judgment)\n",
    "\n",
    "analyser = SentimentIntensityAnalyzer()"
   ]
  },
  {
   "cell_type": "code",
   "execution_count": 292,
   "metadata": {
    "ExecuteTime": {
     "end_time": "2018-04-09T21:34:30.168134Z",
     "start_time": "2018-04-09T21:34:30.141005Z"
    }
   },
   "outputs": [
    {
     "data": {
      "text/html": [
       "<div>\n",
       "<style>\n",
       "    .dataframe thead tr:only-child th {\n",
       "        text-align: right;\n",
       "    }\n",
       "\n",
       "    .dataframe thead th {\n",
       "        text-align: left;\n",
       "    }\n",
       "\n",
       "    .dataframe tbody tr th {\n",
       "        vertical-align: top;\n",
       "    }\n",
       "</style>\n",
       "<table border=\"1\" class=\"dataframe\">\n",
       "  <thead>\n",
       "    <tr style=\"text-align: right;\">\n",
       "      <th></th>\n",
       "      <th>asin</th>\n",
       "      <th>helpful</th>\n",
       "      <th>reviewText</th>\n",
       "      <th>overall</th>\n",
       "      <th>summary</th>\n",
       "      <th>description</th>\n",
       "      <th>title</th>\n",
       "      <th>categories_clean</th>\n",
       "      <th>review_length</th>\n",
       "    </tr>\n",
       "  </thead>\n",
       "  <tbody>\n",
       "    <tr>\n",
       "      <th>0</th>\n",
       "      <td>0929619730</td>\n",
       "      <td>[0, 0]</td>\n",
       "      <td>B-flax-D is a regular at our house. It does it...</td>\n",
       "      <td>5.0</td>\n",
       "      <td>Dpes the job well</td>\n",
       "      <td>Contains Organic Cold-Milled Flaxseed\\nValuabl...</td>\n",
       "      <td>New Generation B-Flax-D</td>\n",
       "      <td>Health &amp; Personal Care, Vitamins &amp; Dietary Sup...</td>\n",
       "      <td>224</td>\n",
       "    </tr>\n",
       "    <tr>\n",
       "      <th>1</th>\n",
       "      <td>0978559088</td>\n",
       "      <td>[1, 1]</td>\n",
       "      <td>Studies show that Resveratrol is poorly absorb...</td>\n",
       "      <td>4.0</td>\n",
       "      <td>Fast shipping, good communication</td>\n",
       "      <td>Everyone knows that resveratrol is an amazing ...</td>\n",
       "      <td>Nutrihill Resveratrol Lozenges</td>\n",
       "      <td>Health &amp; Personal Care, Vitamins &amp; Dietary Sup...</td>\n",
       "      <td>334</td>\n",
       "    </tr>\n",
       "    <tr>\n",
       "      <th>2</th>\n",
       "      <td>0978559088</td>\n",
       "      <td>[1, 1]</td>\n",
       "      <td>I started taking this after both my parents di...</td>\n",
       "      <td>5.0</td>\n",
       "      <td>Bioavailability is the key</td>\n",
       "      <td>Everyone knows that resveratrol is an amazing ...</td>\n",
       "      <td>Nutrihill Resveratrol Lozenges</td>\n",
       "      <td>Health &amp; Personal Care, Vitamins &amp; Dietary Sup...</td>\n",
       "      <td>1065</td>\n",
       "    </tr>\n",
       "    <tr>\n",
       "      <th>3</th>\n",
       "      <td>0978559088</td>\n",
       "      <td>[0, 1]</td>\n",
       "      <td>I tried Nutrihill, but did not feel any of the...</td>\n",
       "      <td>1.0</td>\n",
       "      <td>Other Resveratrol Supplements are Better</td>\n",
       "      <td>Everyone knows that resveratrol is an amazing ...</td>\n",
       "      <td>Nutrihill Resveratrol Lozenges</td>\n",
       "      <td>Health &amp; Personal Care, Vitamins &amp; Dietary Sup...</td>\n",
       "      <td>568</td>\n",
       "    </tr>\n",
       "    <tr>\n",
       "      <th>4</th>\n",
       "      <td>0978559088</td>\n",
       "      <td>[0, 0]</td>\n",
       "      <td>I really liked this product because it stayed ...</td>\n",
       "      <td>5.0</td>\n",
       "      <td>I can't find this product any longer, and I wi...</td>\n",
       "      <td>Everyone knows that resveratrol is an amazing ...</td>\n",
       "      <td>Nutrihill Resveratrol Lozenges</td>\n",
       "      <td>Health &amp; Personal Care, Vitamins &amp; Dietary Sup...</td>\n",
       "      <td>767</td>\n",
       "    </tr>\n",
       "  </tbody>\n",
       "</table>\n",
       "</div>"
      ],
      "text/plain": [
       "         asin helpful                                         reviewText  \\\n",
       "0  0929619730  [0, 0]  B-flax-D is a regular at our house. It does it...   \n",
       "1  0978559088  [1, 1]  Studies show that Resveratrol is poorly absorb...   \n",
       "2  0978559088  [1, 1]  I started taking this after both my parents di...   \n",
       "3  0978559088  [0, 1]  I tried Nutrihill, but did not feel any of the...   \n",
       "4  0978559088  [0, 0]  I really liked this product because it stayed ...   \n",
       "\n",
       "   overall                                            summary  \\\n",
       "0      5.0                                  Dpes the job well   \n",
       "1      4.0                  Fast shipping, good communication   \n",
       "2      5.0                         Bioavailability is the key   \n",
       "3      1.0           Other Resveratrol Supplements are Better   \n",
       "4      5.0  I can't find this product any longer, and I wi...   \n",
       "\n",
       "                                         description  \\\n",
       "0  Contains Organic Cold-Milled Flaxseed\\nValuabl...   \n",
       "1  Everyone knows that resveratrol is an amazing ...   \n",
       "2  Everyone knows that resveratrol is an amazing ...   \n",
       "3  Everyone knows that resveratrol is an amazing ...   \n",
       "4  Everyone knows that resveratrol is an amazing ...   \n",
       "\n",
       "                            title  \\\n",
       "0         New Generation B-Flax-D   \n",
       "1  Nutrihill Resveratrol Lozenges   \n",
       "2  Nutrihill Resveratrol Lozenges   \n",
       "3  Nutrihill Resveratrol Lozenges   \n",
       "4  Nutrihill Resveratrol Lozenges   \n",
       "\n",
       "                                    categories_clean  review_length  \n",
       "0  Health & Personal Care, Vitamins & Dietary Sup...            224  \n",
       "1  Health & Personal Care, Vitamins & Dietary Sup...            334  \n",
       "2  Health & Personal Care, Vitamins & Dietary Sup...           1065  \n",
       "3  Health & Personal Care, Vitamins & Dietary Sup...            568  \n",
       "4  Health & Personal Care, Vitamins & Dietary Sup...            767  "
      ]
     },
     "execution_count": 292,
     "metadata": {},
     "output_type": "execute_result"
    }
   ],
   "source": [
    "small = data[:100]\n",
    "small.head()"
   ]
  },
  {
   "cell_type": "code",
   "execution_count": 387,
   "metadata": {
    "ExecuteTime": {
     "end_time": "2018-04-09T23:39:41.240948Z",
     "start_time": "2018-04-09T23:39:39.997619Z"
    }
   },
   "outputs": [
    {
     "data": {
      "text/html": [
       "<div>\n",
       "<style>\n",
       "    .dataframe thead tr:only-child th {\n",
       "        text-align: right;\n",
       "    }\n",
       "\n",
       "    .dataframe thead th {\n",
       "        text-align: left;\n",
       "    }\n",
       "\n",
       "    .dataframe tbody tr th {\n",
       "        vertical-align: top;\n",
       "    }\n",
       "</style>\n",
       "<table border=\"1\" class=\"dataframe\">\n",
       "  <thead>\n",
       "    <tr style=\"text-align: right;\">\n",
       "      <th></th>\n",
       "      <th>reviewText</th>\n",
       "      <th>sentiment_review</th>\n",
       "      <th>summary</th>\n",
       "      <th>sentiment_summary</th>\n",
       "    </tr>\n",
       "  </thead>\n",
       "  <tbody>\n",
       "    <tr>\n",
       "      <th>0</th>\n",
       "      <td>B-flax-D is a regular at our house. It does it...</td>\n",
       "      <td>0.9313</td>\n",
       "      <td>Dpes the job well</td>\n",
       "      <td>0.9873</td>\n",
       "    </tr>\n",
       "    <tr>\n",
       "      <th>1</th>\n",
       "      <td>Studies show that Resveratrol is poorly absorb...</td>\n",
       "      <td>0.9107</td>\n",
       "      <td>Fast shipping, good communication</td>\n",
       "      <td>0.3431</td>\n",
       "    </tr>\n",
       "    <tr>\n",
       "      <th>2</th>\n",
       "      <td>I started taking this after both my parents di...</td>\n",
       "      <td>-0.6615</td>\n",
       "      <td>Bioavailability is the key</td>\n",
       "      <td>0.3431</td>\n",
       "    </tr>\n",
       "    <tr>\n",
       "      <th>3</th>\n",
       "      <td>I tried Nutrihill, but did not feel any of the...</td>\n",
       "      <td>0.9688</td>\n",
       "      <td>Other Resveratrol Supplements are Better</td>\n",
       "      <td>0.3431</td>\n",
       "    </tr>\n",
       "    <tr>\n",
       "      <th>4</th>\n",
       "      <td>I really liked this product because it stayed ...</td>\n",
       "      <td>0.9611</td>\n",
       "      <td>I can't find this product any longer, and I wi...</td>\n",
       "      <td>0.3431</td>\n",
       "    </tr>\n",
       "  </tbody>\n",
       "</table>\n",
       "</div>"
      ],
      "text/plain": [
       "                                          reviewText  sentiment_review  \\\n",
       "0  B-flax-D is a regular at our house. It does it...            0.9313   \n",
       "1  Studies show that Resveratrol is poorly absorb...            0.9107   \n",
       "2  I started taking this after both my parents di...           -0.6615   \n",
       "3  I tried Nutrihill, but did not feel any of the...            0.9688   \n",
       "4  I really liked this product because it stayed ...            0.9611   \n",
       "\n",
       "                                             summary  sentiment_summary  \n",
       "0                                  Dpes the job well             0.9873  \n",
       "1                  Fast shipping, good communication             0.3431  \n",
       "2                         Bioavailability is the key             0.3431  \n",
       "3           Other Resveratrol Supplements are Better             0.3431  \n",
       "4  I can't find this product any longer, and I wi...             0.3431  "
      ]
     },
     "execution_count": 387,
     "metadata": {},
     "output_type": "execute_result"
    }
   ],
   "source": [
    "small['sentiment_review'] = small.reviewText.apply(lambda x : analyser.polarity_scores(x)['compound'])\n",
    "small['sentiment_summary'] = small.description.apply(lambda x : analyser.polarity_scores(x)['compound'])\n",
    "small[['reviewText', 'sentiment_review', 'summary', 'sentiment_summary']].head()"
   ]
  },
  {
   "cell_type": "markdown",
   "metadata": {},
   "source": [
    "#### spot checks"
   ]
  },
  {
   "cell_type": "code",
   "execution_count": 335,
   "metadata": {
    "ExecuteTime": {
     "end_time": "2018-04-09T22:40:44.951412Z",
     "start_time": "2018-04-09T22:40:44.946344Z"
    }
   },
   "outputs": [
    {
     "data": {
      "text/plain": [
       "'I recently bought this item and it only burns ur skin!!! I didnt sweat or ne thing just burned!!! and i had it over my shirt because it was tooooo HOT! and besides you still have to boil it for 15 min and then let it cool for another couple of minutes.. just too much to wait til you put it on... DO NOT BUY!!!'"
      ]
     },
     "execution_count": 335,
     "metadata": {},
     "output_type": "execute_result"
    }
   ],
   "source": [
    "small.iloc[74].reviewText # tagged w positive sentiment"
   ]
  },
  {
   "cell_type": "code",
   "execution_count": 334,
   "metadata": {
    "ExecuteTime": {
     "end_time": "2018-04-09T22:40:13.664887Z",
     "start_time": "2018-04-09T22:40:13.659414Z"
    }
   },
   "outputs": [
    {
     "data": {
      "text/plain": [
       "\"I started taking this after both my parents died of cancer as it supposed to enhance your immune system - the story on 60 Minutes on resveratrol was incredibly inspiring. Doing some research on the Internet, it is indicated that taking resveratrol in lozenge form is preferable as it is broken down by stomach acids.  The ez-melt formula recommended in another review is OK, but it is dissolved in the mouth much more quickly than this lozenge formula, while dissolving more slowly is preferable according to my research.This product has the greatest side effect - since taking it, I haven't had colds or sore throats.  Soon after starting to take it every day, I was starting to come down with a cold, with all my usual symptoms, and was anticipating being very sick the next day, as is my usual pattern.  But I never did get as sick as anticipated - taking this product is the only reason I can come up with.  Since then, I've had no colds or sore throats - it has been great.  I recommend this product to everyone I know, and have given it as gifts to my family.\""
      ]
     },
     "execution_count": 334,
     "metadata": {},
     "output_type": "execute_result"
    }
   ],
   "source": [
    "small.iloc[2].reviewText # this was tagged w negative sentiment"
   ]
  },
  {
   "cell_type": "markdown",
   "metadata": {},
   "source": [
    "Tagging at the review level is not giving accurate sentiment, probably because different sentiments across different sentences are drowning out the overall point."
   ]
  },
  {
   "cell_type": "markdown",
   "metadata": {},
   "source": [
    "#### At the sentence level\n",
    "\n",
    "Break down each review into composite sentences using `NLTK`'s `tokenize.sent_tokenize()`,  find sentiments for all sentences, choose min and max."
   ]
  },
  {
   "cell_type": "code",
   "execution_count": 336,
   "metadata": {
    "ExecuteTime": {
     "end_time": "2018-04-09T22:44:10.590101Z",
     "start_time": "2018-04-09T22:44:10.561948Z"
    }
   },
   "outputs": [
    {
     "data": {
      "text/html": [
       "<div>\n",
       "<style>\n",
       "    .dataframe thead tr:only-child th {\n",
       "        text-align: right;\n",
       "    }\n",
       "\n",
       "    .dataframe thead th {\n",
       "        text-align: left;\n",
       "    }\n",
       "\n",
       "    .dataframe tbody tr th {\n",
       "        vertical-align: top;\n",
       "    }\n",
       "</style>\n",
       "<table border=\"1\" class=\"dataframe\">\n",
       "  <thead>\n",
       "    <tr style=\"text-align: right;\">\n",
       "      <th></th>\n",
       "      <th>asin</th>\n",
       "      <th>helpful</th>\n",
       "      <th>reviewText</th>\n",
       "      <th>overall</th>\n",
       "      <th>summary</th>\n",
       "      <th>description</th>\n",
       "      <th>title</th>\n",
       "      <th>categories_clean</th>\n",
       "      <th>review_length</th>\n",
       "      <th>sentiment_review</th>\n",
       "      <th>sentiment_summary</th>\n",
       "    </tr>\n",
       "  </thead>\n",
       "  <tbody>\n",
       "    <tr>\n",
       "      <th>0</th>\n",
       "      <td>0929619730</td>\n",
       "      <td>[0, 0]</td>\n",
       "      <td>B-flax-D is a regular at our house. It does it...</td>\n",
       "      <td>5.0</td>\n",
       "      <td>Dpes the job well</td>\n",
       "      <td>Contains Organic Cold-Milled Flaxseed\\nValuabl...</td>\n",
       "      <td>New Generation B-Flax-D</td>\n",
       "      <td>Health &amp; Personal Care, Vitamins &amp; Dietary Sup...</td>\n",
       "      <td>224</td>\n",
       "      <td>0.9313</td>\n",
       "      <td>0.9873</td>\n",
       "    </tr>\n",
       "    <tr>\n",
       "      <th>1</th>\n",
       "      <td>0978559088</td>\n",
       "      <td>[1, 1]</td>\n",
       "      <td>Studies show that Resveratrol is poorly absorb...</td>\n",
       "      <td>4.0</td>\n",
       "      <td>Fast shipping, good communication</td>\n",
       "      <td>Everyone knows that resveratrol is an amazing ...</td>\n",
       "      <td>Nutrihill Resveratrol Lozenges</td>\n",
       "      <td>Health &amp; Personal Care, Vitamins &amp; Dietary Sup...</td>\n",
       "      <td>334</td>\n",
       "      <td>0.9107</td>\n",
       "      <td>0.3431</td>\n",
       "    </tr>\n",
       "    <tr>\n",
       "      <th>2</th>\n",
       "      <td>0978559088</td>\n",
       "      <td>[1, 1]</td>\n",
       "      <td>I started taking this after both my parents di...</td>\n",
       "      <td>5.0</td>\n",
       "      <td>Bioavailability is the key</td>\n",
       "      <td>Everyone knows that resveratrol is an amazing ...</td>\n",
       "      <td>Nutrihill Resveratrol Lozenges</td>\n",
       "      <td>Health &amp; Personal Care, Vitamins &amp; Dietary Sup...</td>\n",
       "      <td>1065</td>\n",
       "      <td>-0.6615</td>\n",
       "      <td>0.3431</td>\n",
       "    </tr>\n",
       "    <tr>\n",
       "      <th>3</th>\n",
       "      <td>0978559088</td>\n",
       "      <td>[0, 1]</td>\n",
       "      <td>I tried Nutrihill, but did not feel any of the...</td>\n",
       "      <td>1.0</td>\n",
       "      <td>Other Resveratrol Supplements are Better</td>\n",
       "      <td>Everyone knows that resveratrol is an amazing ...</td>\n",
       "      <td>Nutrihill Resveratrol Lozenges</td>\n",
       "      <td>Health &amp; Personal Care, Vitamins &amp; Dietary Sup...</td>\n",
       "      <td>568</td>\n",
       "      <td>0.9688</td>\n",
       "      <td>0.3431</td>\n",
       "    </tr>\n",
       "    <tr>\n",
       "      <th>4</th>\n",
       "      <td>0978559088</td>\n",
       "      <td>[0, 0]</td>\n",
       "      <td>I really liked this product because it stayed ...</td>\n",
       "      <td>5.0</td>\n",
       "      <td>I can't find this product any longer, and I wi...</td>\n",
       "      <td>Everyone knows that resveratrol is an amazing ...</td>\n",
       "      <td>Nutrihill Resveratrol Lozenges</td>\n",
       "      <td>Health &amp; Personal Care, Vitamins &amp; Dietary Sup...</td>\n",
       "      <td>767</td>\n",
       "      <td>0.9611</td>\n",
       "      <td>0.3431</td>\n",
       "    </tr>\n",
       "  </tbody>\n",
       "</table>\n",
       "</div>"
      ],
      "text/plain": [
       "         asin helpful                                         reviewText  \\\n",
       "0  0929619730  [0, 0]  B-flax-D is a regular at our house. It does it...   \n",
       "1  0978559088  [1, 1]  Studies show that Resveratrol is poorly absorb...   \n",
       "2  0978559088  [1, 1]  I started taking this after both my parents di...   \n",
       "3  0978559088  [0, 1]  I tried Nutrihill, but did not feel any of the...   \n",
       "4  0978559088  [0, 0]  I really liked this product because it stayed ...   \n",
       "\n",
       "   overall                                            summary  \\\n",
       "0      5.0                                  Dpes the job well   \n",
       "1      4.0                  Fast shipping, good communication   \n",
       "2      5.0                         Bioavailability is the key   \n",
       "3      1.0           Other Resveratrol Supplements are Better   \n",
       "4      5.0  I can't find this product any longer, and I wi...   \n",
       "\n",
       "                                         description  \\\n",
       "0  Contains Organic Cold-Milled Flaxseed\\nValuabl...   \n",
       "1  Everyone knows that resveratrol is an amazing ...   \n",
       "2  Everyone knows that resveratrol is an amazing ...   \n",
       "3  Everyone knows that resveratrol is an amazing ...   \n",
       "4  Everyone knows that resveratrol is an amazing ...   \n",
       "\n",
       "                            title  \\\n",
       "0         New Generation B-Flax-D   \n",
       "1  Nutrihill Resveratrol Lozenges   \n",
       "2  Nutrihill Resveratrol Lozenges   \n",
       "3  Nutrihill Resveratrol Lozenges   \n",
       "4  Nutrihill Resveratrol Lozenges   \n",
       "\n",
       "                                    categories_clean  review_length  \\\n",
       "0  Health & Personal Care, Vitamins & Dietary Sup...            224   \n",
       "1  Health & Personal Care, Vitamins & Dietary Sup...            334   \n",
       "2  Health & Personal Care, Vitamins & Dietary Sup...           1065   \n",
       "3  Health & Personal Care, Vitamins & Dietary Sup...            568   \n",
       "4  Health & Personal Care, Vitamins & Dietary Sup...            767   \n",
       "\n",
       "   sentiment_review  sentiment_summary  \n",
       "0            0.9313             0.9873  \n",
       "1            0.9107             0.3431  \n",
       "2           -0.6615             0.3431  \n",
       "3            0.9688             0.3431  \n",
       "4            0.9611             0.3431  "
      ]
     },
     "execution_count": 336,
     "metadata": {},
     "output_type": "execute_result"
    }
   ],
   "source": [
    "small.head()"
   ]
  },
  {
   "cell_type": "code",
   "execution_count": 388,
   "metadata": {
    "ExecuteTime": {
     "end_time": "2018-04-09T23:39:48.148204Z",
     "start_time": "2018-04-09T23:39:47.682350Z"
    }
   },
   "outputs": [],
   "source": [
    "small['tokenized_sentences'] = small.reviewText.apply(tokenize.sent_tokenize)"
   ]
  },
  {
   "cell_type": "code",
   "execution_count": 362,
   "metadata": {
    "ExecuteTime": {
     "end_time": "2018-04-09T23:05:19.439516Z",
     "start_time": "2018-04-09T23:05:19.430367Z"
    }
   },
   "outputs": [
    {
     "name": "stdout",
     "output_type": "stream",
     "text": [
      "I recently bought this item and it only burns ur skin!!!\n",
      "{'neg': 0.0, 'neu': 1.0, 'pos': 0.0, 'compound': 0.0}\n",
      "\n",
      "I didnt sweat or ne thing just burned!!!\n",
      "{'neg': 0.0, 'neu': 1.0, 'pos': 0.0, 'compound': 0.0}\n",
      "\n",
      "and i had it over my shirt because it was tooooo HOT!\n",
      "{'neg': 0.0, 'neu': 1.0, 'pos': 0.0, 'compound': 0.0}\n",
      "\n",
      "and besides you still have to boil it for 15 min and then let it cool for another couple of minutes.. just too much to wait til you put it on... DO NOT BUY!!\n",
      "{'neg': 0.0, 'neu': 0.92, 'pos': 0.08, 'compound': 0.4374}\n",
      "\n",
      "!\n",
      "{'neg': 0.0, 'neu': 0.0, 'pos': 0.0, 'compound': 0.0}\n",
      "\n"
     ]
    }
   ],
   "source": [
    "for i in small.tokenized_sentences.values[74]:\n",
    "    print i\n",
    "    print analyser.polarity_scores(i)\n",
    "    print ''"
   ]
  },
  {
   "cell_type": "markdown",
   "metadata": {},
   "source": [
    "Unclear why first sentence gets a neutral score and \"DO NOT BUY!!\" gets a positive one."
   ]
  },
  {
   "cell_type": "code",
   "execution_count": 460,
   "metadata": {
    "ExecuteTime": {
     "end_time": "2018-04-10T00:31:08.072478Z",
     "start_time": "2018-04-10T00:31:08.067083Z"
    }
   },
   "outputs": [
    {
     "data": {
      "text/plain": [
       "{'compound': 0.0, 'neg': 0.0, 'neu': 1.0, 'pos': 0.0}"
      ]
     },
     "execution_count": 460,
     "metadata": {},
     "output_type": "execute_result"
    }
   ],
   "source": [
    "test = \"DO NOT BUY!!\"\n",
    "analyser.polarity_scores(test)"
   ]
  },
  {
   "cell_type": "code",
   "execution_count": 461,
   "metadata": {
    "ExecuteTime": {
     "end_time": "2018-04-10T00:31:14.807778Z",
     "start_time": "2018-04-10T00:31:14.802430Z"
    }
   },
   "outputs": [
    {
     "data": {
      "text/plain": [
       "{'compound': 0.0, 'neg': 0.0, 'neu': 1.0, 'pos': 0.0}"
      ]
     },
     "execution_count": 461,
     "metadata": {},
     "output_type": "execute_result"
    }
   ],
   "source": [
    "test = \"DO BUY!!\"\n",
    "analyser.polarity_scores(test)"
   ]
  },
  {
   "cell_type": "markdown",
   "metadata": {},
   "source": [
    "\"NOT\" may be treated as a stop word..."
   ]
  },
  {
   "cell_type": "code",
   "execution_count": 366,
   "metadata": {
    "ExecuteTime": {
     "end_time": "2018-04-09T23:20:45.298951Z",
     "start_time": "2018-04-09T23:20:45.294637Z"
    }
   },
   "outputs": [],
   "source": [
    "def get_sent(list_of_sentences):\n",
    "    out = []\n",
    "    for i in list_of_sentences:\n",
    "        out.append(analyser.polarity_scores(i)['compound'])\n",
    "    return out"
   ]
  },
  {
   "cell_type": "code",
   "execution_count": 389,
   "metadata": {
    "ExecuteTime": {
     "end_time": "2018-04-09T23:39:52.020934Z",
     "start_time": "2018-04-09T23:39:51.459901Z"
    }
   },
   "outputs": [],
   "source": [
    "# get compound sentiment for the tokenized reviews \n",
    "small['sentiments'] = small.tokenized_sentences.apply(get_sent)"
   ]
  },
  {
   "cell_type": "code",
   "execution_count": 390,
   "metadata": {
    "ExecuteTime": {
     "end_time": "2018-04-09T23:39:54.117039Z",
     "start_time": "2018-04-09T23:39:53.122011Z"
    }
   },
   "outputs": [],
   "source": [
    "# get highest and lowest sentiments per review\n",
    "small['highest_sentiment'] = small.sentiments.apply(max)\n",
    "small['lowest_sentiment'] = small.sentiments.apply(min)"
   ]
  },
  {
   "cell_type": "code",
   "execution_count": 392,
   "metadata": {
    "ExecuteTime": {
     "end_time": "2018-04-09T23:40:09.291439Z",
     "start_time": "2018-04-09T23:40:08.387282Z"
    }
   },
   "outputs": [],
   "source": [
    "# get associated sentences  \n",
    "small['highest_sent_ix'] = small[['sentiments', 'highest_sentiment']].apply(lambda x: x[0].index(x[1]), axis = 1)\n",
    "small['lowest_sent_ix'] = small[['sentiments', 'lowest_sentiment']].apply(lambda x: x[0].index(x[1]), axis = 1)\n",
    "\n",
    "small['highest_sent_sent'] = small[['tokenized_sentences', 'highest_sent_ix']].apply(lambda x: x[0][x[1]], axis = 1)\n",
    "small['lowest_sent_sent'] = small[['tokenized_sentences', 'lowest_sent_ix']].apply(lambda x: x[0][x[1]], axis = 1)"
   ]
  },
  {
   "cell_type": "markdown",
   "metadata": {},
   "source": [
    "#### spot checks"
   ]
  },
  {
   "cell_type": "code",
   "execution_count": 433,
   "metadata": {
    "ExecuteTime": {
     "end_time": "2018-04-10T00:00:24.033003Z",
     "start_time": "2018-04-10T00:00:23.983057Z"
    },
    "scrolled": true
   },
   "outputs": [
    {
     "data": {
      "text/html": [
       "<div>\n",
       "<style>\n",
       "    .dataframe thead tr:only-child th {\n",
       "        text-align: right;\n",
       "    }\n",
       "\n",
       "    .dataframe thead th {\n",
       "        text-align: left;\n",
       "    }\n",
       "\n",
       "    .dataframe tbody tr th {\n",
       "        vertical-align: top;\n",
       "    }\n",
       "</style>\n",
       "<table border=\"1\" class=\"dataframe\">\n",
       "  <thead>\n",
       "    <tr style=\"text-align: right;\">\n",
       "      <th></th>\n",
       "      <th>lowest_sent_sent</th>\n",
       "      <th>lowest_sentiment</th>\n",
       "      <th>highest_sentiment</th>\n",
       "    </tr>\n",
       "  </thead>\n",
       "  <tbody>\n",
       "    <tr>\n",
       "      <th>62</th>\n",
       "      <td>It's a scam and only lies about what it does.</td>\n",
       "      <td>-0.7579</td>\n",
       "      <td>-0.2321</td>\n",
       "    </tr>\n",
       "    <tr>\n",
       "      <th>83</th>\n",
       "      <td>it was a complete failure nothing like the com...</td>\n",
       "      <td>-0.7420</td>\n",
       "      <td>0.0000</td>\n",
       "    </tr>\n",
       "    <tr>\n",
       "      <th>6</th>\n",
       "      <td>She never said \"I have cancer\" ... cancer is s...</td>\n",
       "      <td>-0.6597</td>\n",
       "      <td>0.9460</td>\n",
       "    </tr>\n",
       "    <tr>\n",
       "      <th>65</th>\n",
       "      <td>Its the worst thing that I spent my money in.</td>\n",
       "      <td>-0.6249</td>\n",
       "      <td>0.3612</td>\n",
       "    </tr>\n",
       "    <tr>\n",
       "      <th>52</th>\n",
       "      <td>Hate it!</td>\n",
       "      <td>-0.6114</td>\n",
       "      <td>0.0000</td>\n",
       "    </tr>\n",
       "    <tr>\n",
       "      <th>81</th>\n",
       "      <td>You have to heat up every time by boiling it t...</td>\n",
       "      <td>-0.6113</td>\n",
       "      <td>0.0000</td>\n",
       "    </tr>\n",
       "    <tr>\n",
       "      <th>61</th>\n",
       "      <td>Wasn't clear that it needs to be heated up in ...</td>\n",
       "      <td>-0.5972</td>\n",
       "      <td>0.6249</td>\n",
       "    </tr>\n",
       "    <tr>\n",
       "      <th>73</th>\n",
       "      <td>I think its just fraud.</td>\n",
       "      <td>-0.5859</td>\n",
       "      <td>-0.2755</td>\n",
       "    </tr>\n",
       "    <tr>\n",
       "      <th>69</th>\n",
       "      <td>DO NOT BUY THIS PRODUCT - This is a fraud and ...</td>\n",
       "      <td>-0.5859</td>\n",
       "      <td>0.3182</td>\n",
       "    </tr>\n",
       "    <tr>\n",
       "      <th>2</th>\n",
       "      <td>I started taking this after both my parents di...</td>\n",
       "      <td>-0.5729</td>\n",
       "      <td>0.7110</td>\n",
       "    </tr>\n",
       "    <tr>\n",
       "      <th>85</th>\n",
       "      <td>It is a pain to work with, it goes hard as a r...</td>\n",
       "      <td>-0.5719</td>\n",
       "      <td>0.0000</td>\n",
       "    </tr>\n",
       "    <tr>\n",
       "      <th>96</th>\n",
       "      <td>When doctors tell you there is no way to make ...</td>\n",
       "      <td>-0.5563</td>\n",
       "      <td>0.7925</td>\n",
       "    </tr>\n",
       "    <tr>\n",
       "      <th>84</th>\n",
       "      <td>If you don't know how to use this product, the...</td>\n",
       "      <td>-0.5423</td>\n",
       "      <td>0.4738</td>\n",
       "    </tr>\n",
       "    <tr>\n",
       "      <th>47</th>\n",
       "      <td>No extra sweat no extra heat intensity.</td>\n",
       "      <td>-0.5267</td>\n",
       "      <td>0.0000</td>\n",
       "    </tr>\n",
       "    <tr>\n",
       "      <th>54</th>\n",
       "      <td>No one has the time to boil this this every us...</td>\n",
       "      <td>-0.5106</td>\n",
       "      <td>-0.5106</td>\n",
       "    </tr>\n",
       "    <tr>\n",
       "      <th>53</th>\n",
       "      <td>I used it once and I couldn't bare the burning...</td>\n",
       "      <td>-0.5106</td>\n",
       "      <td>0.0000</td>\n",
       "    </tr>\n",
       "    <tr>\n",
       "      <th>87</th>\n",
       "      <td>Its a pain to have to boil it after every use.</td>\n",
       "      <td>-0.5106</td>\n",
       "      <td>0.0000</td>\n",
       "    </tr>\n",
       "    <tr>\n",
       "      <th>72</th>\n",
       "      <td>It wasn't mean to you it was a mistake, so I'm...</td>\n",
       "      <td>-0.5034</td>\n",
       "      <td>0.5719</td>\n",
       "    </tr>\n",
       "    <tr>\n",
       "      <th>82</th>\n",
       "      <td>I bought this product about a month ago and I ...</td>\n",
       "      <td>-0.4939</td>\n",
       "      <td>-0.4576</td>\n",
       "    </tr>\n",
       "    <tr>\n",
       "      <th>45</th>\n",
       "      <td>This is poor customer service.</td>\n",
       "      <td>-0.4767</td>\n",
       "      <td>0.4995</td>\n",
       "    </tr>\n",
       "    <tr>\n",
       "      <th>80</th>\n",
       "      <td>I loive in CALI today is one of those summer d...</td>\n",
       "      <td>-0.4753</td>\n",
       "      <td>0.0000</td>\n",
       "    </tr>\n",
       "    <tr>\n",
       "      <th>42</th>\n",
       "      <td>It is (in my opinion) worthless.</td>\n",
       "      <td>-0.4404</td>\n",
       "      <td>0.0000</td>\n",
       "    </tr>\n",
       "    <tr>\n",
       "      <th>11</th>\n",
       "      <td>Precaution:  May contraindicated in chronic re...</td>\n",
       "      <td>-0.4215</td>\n",
       "      <td>0.9274</td>\n",
       "    </tr>\n",
       "    <tr>\n",
       "      <th>63</th>\n",
       "      <td>My lady even said that was a big waste of 50$.</td>\n",
       "      <td>-0.4215</td>\n",
       "      <td>0.3400</td>\n",
       "    </tr>\n",
       "    <tr>\n",
       "      <th>7</th>\n",
       "      <td>Life's problems seem overwhelming?</td>\n",
       "      <td>-0.4019</td>\n",
       "      <td>0.9252</td>\n",
       "    </tr>\n",
       "    <tr>\n",
       "      <th>38</th>\n",
       "      <td>I don't feel any change that was not accomplis...</td>\n",
       "      <td>-0.3412</td>\n",
       "      <td>0.2411</td>\n",
       "    </tr>\n",
       "    <tr>\n",
       "      <th>57</th>\n",
       "      <td>The directions of this product are too difficu...</td>\n",
       "      <td>-0.3291</td>\n",
       "      <td>-0.3291</td>\n",
       "    </tr>\n",
       "    <tr>\n",
       "      <th>37</th>\n",
       "      <td>I have used this two times now and lost almost...</td>\n",
       "      <td>-0.3182</td>\n",
       "      <td>0.3007</td>\n",
       "    </tr>\n",
       "    <tr>\n",
       "      <th>76</th>\n",
       "      <td>It definitely did not meet my expectations I w...</td>\n",
       "      <td>-0.2982</td>\n",
       "      <td>0.0000</td>\n",
       "    </tr>\n",
       "    <tr>\n",
       "      <th>60</th>\n",
       "      <td>Would have given no star if possible.</td>\n",
       "      <td>-0.2960</td>\n",
       "      <td>0.3252</td>\n",
       "    </tr>\n",
       "    <tr>\n",
       "      <th>...</th>\n",
       "      <td>...</td>\n",
       "      <td>...</td>\n",
       "      <td>...</td>\n",
       "    </tr>\n",
       "    <tr>\n",
       "      <th>32</th>\n",
       "      <td>Didn't see any change in weight.</td>\n",
       "      <td>0.0000</td>\n",
       "      <td>0.7264</td>\n",
       "    </tr>\n",
       "    <tr>\n",
       "      <th>33</th>\n",
       "      <td>Oh, I really wanted this to work!</td>\n",
       "      <td>0.0000</td>\n",
       "      <td>0.4404</td>\n",
       "    </tr>\n",
       "    <tr>\n",
       "      <th>8</th>\n",
       "      <td>Worked on my Benro B1 Ballhead.</td>\n",
       "      <td>0.0000</td>\n",
       "      <td>0.3400</td>\n",
       "    </tr>\n",
       "    <tr>\n",
       "      <th>36</th>\n",
       "      <td>I tried it and it did nothing for me.</td>\n",
       "      <td>0.0000</td>\n",
       "      <td>0.2023</td>\n",
       "    </tr>\n",
       "    <tr>\n",
       "      <th>39</th>\n",
       "      <td>This product did not work.</td>\n",
       "      <td>0.0000</td>\n",
       "      <td>0.0000</td>\n",
       "    </tr>\n",
       "    <tr>\n",
       "      <th>40</th>\n",
       "      <td>The Herbalife 21-day cleanse keeps things movi...</td>\n",
       "      <td>0.0000</td>\n",
       "      <td>0.7783</td>\n",
       "    </tr>\n",
       "    <tr>\n",
       "      <th>41</th>\n",
       "      <td>I thought the product will work but didnt see ...</td>\n",
       "      <td>0.0000</td>\n",
       "      <td>0.4854</td>\n",
       "    </tr>\n",
       "    <tr>\n",
       "      <th>5</th>\n",
       "      <td>Resveratrol is a polar compound, very insolubl...</td>\n",
       "      <td>0.0000</td>\n",
       "      <td>0.8294</td>\n",
       "    </tr>\n",
       "    <tr>\n",
       "      <th>3</th>\n",
       "      <td>I then tried Resveratrol 150 from ezmelts.</td>\n",
       "      <td>0.0000</td>\n",
       "      <td>0.6369</td>\n",
       "    </tr>\n",
       "    <tr>\n",
       "      <th>1</th>\n",
       "      <td>Hardly any companies are selling lozenges.</td>\n",
       "      <td>0.0000</td>\n",
       "      <td>0.6705</td>\n",
       "    </tr>\n",
       "    <tr>\n",
       "      <th>31</th>\n",
       "      <td>THIS STUFF DOES NOT WORK AT ALL.</td>\n",
       "      <td>0.0000</td>\n",
       "      <td>0.4939</td>\n",
       "    </tr>\n",
       "    <tr>\n",
       "      <th>18</th>\n",
       "      <td>Lasted for a year.</td>\n",
       "      <td>0.0000</td>\n",
       "      <td>0.8316</td>\n",
       "    </tr>\n",
       "    <tr>\n",
       "      <th>99</th>\n",
       "      <td>because so far no effects or results have been...</td>\n",
       "      <td>0.0286</td>\n",
       "      <td>0.0286</td>\n",
       "    </tr>\n",
       "    <tr>\n",
       "      <th>19</th>\n",
       "      <td>This product was recommended to me by my veter...</td>\n",
       "      <td>0.2023</td>\n",
       "      <td>0.8641</td>\n",
       "    </tr>\n",
       "    <tr>\n",
       "      <th>79</th>\n",
       "      <td>it is ok</td>\n",
       "      <td>0.2960</td>\n",
       "      <td>0.7469</td>\n",
       "    </tr>\n",
       "    <tr>\n",
       "      <th>70</th>\n",
       "      <td>Thank you for my belt.</td>\n",
       "      <td>0.3612</td>\n",
       "      <td>0.4290</td>\n",
       "    </tr>\n",
       "    <tr>\n",
       "      <th>35</th>\n",
       "      <td>I have been using this for awhile I dont know ...</td>\n",
       "      <td>0.3848</td>\n",
       "      <td>0.3848</td>\n",
       "    </tr>\n",
       "    <tr>\n",
       "      <th>20</th>\n",
       "      <td>works for liver problems, and truly smell like...</td>\n",
       "      <td>0.4019</td>\n",
       "      <td>0.7003</td>\n",
       "    </tr>\n",
       "    <tr>\n",
       "      <th>12</th>\n",
       "      <td>Liver Support Chicken Flavor Herbal Supplement...</td>\n",
       "      <td>0.4019</td>\n",
       "      <td>0.7845</td>\n",
       "    </tr>\n",
       "    <tr>\n",
       "      <th>91</th>\n",
       "      <td>I wish that thing works the way the presume of</td>\n",
       "      <td>0.4019</td>\n",
       "      <td>0.4749</td>\n",
       "    </tr>\n",
       "    <tr>\n",
       "      <th>14</th>\n",
       "      <td>Liver Support Chicken Flavor Herbal Supplement...</td>\n",
       "      <td>0.4019</td>\n",
       "      <td>0.4019</td>\n",
       "    </tr>\n",
       "    <tr>\n",
       "      <th>29</th>\n",
       "      <td>I love the color and very light weight, someti...</td>\n",
       "      <td>0.5106</td>\n",
       "      <td>0.6113</td>\n",
       "    </tr>\n",
       "    <tr>\n",
       "      <th>95</th>\n",
       "      <td>I would definitely recommend this product.</td>\n",
       "      <td>0.6369</td>\n",
       "      <td>0.6696</td>\n",
       "    </tr>\n",
       "    <tr>\n",
       "      <th>48</th>\n",
       "      <td>It does its job and I got for a great price!</td>\n",
       "      <td>0.6588</td>\n",
       "      <td>0.7893</td>\n",
       "    </tr>\n",
       "    <tr>\n",
       "      <th>10</th>\n",
       "      <td>power mune is a saver for our dog, excellent v...</td>\n",
       "      <td>0.7096</td>\n",
       "      <td>0.7096</td>\n",
       "    </tr>\n",
       "    <tr>\n",
       "      <th>9</th>\n",
       "      <td>Power - Mune Tuna Flavor Pet Herbal Supplement...</td>\n",
       "      <td>0.7579</td>\n",
       "      <td>0.7579</td>\n",
       "    </tr>\n",
       "    <tr>\n",
       "      <th>50</th>\n",
       "      <td>great product and easy to use, it only takes 1...</td>\n",
       "      <td>0.7906</td>\n",
       "      <td>0.7906</td>\n",
       "    </tr>\n",
       "    <tr>\n",
       "      <th>44</th>\n",
       "      <td>These are very gentle on your body never know ...</td>\n",
       "      <td>0.8070</td>\n",
       "      <td>0.8070</td>\n",
       "    </tr>\n",
       "    <tr>\n",
       "      <th>86</th>\n",
       "      <td>pruduct is very effective and easy to use my w...</td>\n",
       "      <td>0.9240</td>\n",
       "      <td>0.9240</td>\n",
       "    </tr>\n",
       "    <tr>\n",
       "      <th>22</th>\n",
       "      <td>liver support smells like real tuna,, great vi...</td>\n",
       "      <td>0.9349</td>\n",
       "      <td>0.9349</td>\n",
       "    </tr>\n",
       "  </tbody>\n",
       "</table>\n",
       "<p>100 rows × 3 columns</p>\n",
       "</div>"
      ],
      "text/plain": [
       "                                     lowest_sent_sent  lowest_sentiment  \\\n",
       "62      It's a scam and only lies about what it does.           -0.7579   \n",
       "83  it was a complete failure nothing like the com...           -0.7420   \n",
       "6   She never said \"I have cancer\" ... cancer is s...           -0.6597   \n",
       "65      Its the worst thing that I spent my money in.           -0.6249   \n",
       "52                                           Hate it!           -0.6114   \n",
       "81  You have to heat up every time by boiling it t...           -0.6113   \n",
       "61  Wasn't clear that it needs to be heated up in ...           -0.5972   \n",
       "73                            I think its just fraud.           -0.5859   \n",
       "69  DO NOT BUY THIS PRODUCT - This is a fraud and ...           -0.5859   \n",
       "2   I started taking this after both my parents di...           -0.5729   \n",
       "85  It is a pain to work with, it goes hard as a r...           -0.5719   \n",
       "96  When doctors tell you there is no way to make ...           -0.5563   \n",
       "84  If you don't know how to use this product, the...           -0.5423   \n",
       "47            No extra sweat no extra heat intensity.           -0.5267   \n",
       "54  No one has the time to boil this this every us...           -0.5106   \n",
       "53  I used it once and I couldn't bare the burning...           -0.5106   \n",
       "87     Its a pain to have to boil it after every use.           -0.5106   \n",
       "72  It wasn't mean to you it was a mistake, so I'm...           -0.5034   \n",
       "82  I bought this product about a month ago and I ...           -0.4939   \n",
       "45                     This is poor customer service.           -0.4767   \n",
       "80  I loive in CALI today is one of those summer d...           -0.4753   \n",
       "42                   It is (in my opinion) worthless.           -0.4404   \n",
       "11  Precaution:  May contraindicated in chronic re...           -0.4215   \n",
       "63     My lady even said that was a big waste of 50$.           -0.4215   \n",
       "7                  Life's problems seem overwhelming?           -0.4019   \n",
       "38  I don't feel any change that was not accomplis...           -0.3412   \n",
       "57  The directions of this product are too difficu...           -0.3291   \n",
       "37  I have used this two times now and lost almost...           -0.3182   \n",
       "76  It definitely did not meet my expectations I w...           -0.2982   \n",
       "60              Would have given no star if possible.           -0.2960   \n",
       "..                                                ...               ...   \n",
       "32                   Didn't see any change in weight.            0.0000   \n",
       "33                  Oh, I really wanted this to work!            0.0000   \n",
       "8                     Worked on my Benro B1 Ballhead.            0.0000   \n",
       "36              I tried it and it did nothing for me.            0.0000   \n",
       "39                         This product did not work.            0.0000   \n",
       "40  The Herbalife 21-day cleanse keeps things movi...            0.0000   \n",
       "41  I thought the product will work but didnt see ...            0.0000   \n",
       "5   Resveratrol is a polar compound, very insolubl...            0.0000   \n",
       "3          I then tried Resveratrol 150 from ezmelts.            0.0000   \n",
       "1          Hardly any companies are selling lozenges.            0.0000   \n",
       "31                   THIS STUFF DOES NOT WORK AT ALL.            0.0000   \n",
       "18                                 Lasted for a year.            0.0000   \n",
       "99  because so far no effects or results have been...            0.0286   \n",
       "19  This product was recommended to me by my veter...            0.2023   \n",
       "79                                           it is ok            0.2960   \n",
       "70                             Thank you for my belt.            0.3612   \n",
       "35  I have been using this for awhile I dont know ...            0.3848   \n",
       "20  works for liver problems, and truly smell like...            0.4019   \n",
       "12  Liver Support Chicken Flavor Herbal Supplement...            0.4019   \n",
       "91     I wish that thing works the way the presume of            0.4019   \n",
       "14  Liver Support Chicken Flavor Herbal Supplement...            0.4019   \n",
       "29  I love the color and very light weight, someti...            0.5106   \n",
       "95         I would definitely recommend this product.            0.6369   \n",
       "48       It does its job and I got for a great price!            0.6588   \n",
       "10  power mune is a saver for our dog, excellent v...            0.7096   \n",
       "9   Power - Mune Tuna Flavor Pet Herbal Supplement...            0.7579   \n",
       "50  great product and easy to use, it only takes 1...            0.7906   \n",
       "44  These are very gentle on your body never know ...            0.8070   \n",
       "86  pruduct is very effective and easy to use my w...            0.9240   \n",
       "22  liver support smells like real tuna,, great vi...            0.9349   \n",
       "\n",
       "    highest_sentiment  \n",
       "62            -0.2321  \n",
       "83             0.0000  \n",
       "6              0.9460  \n",
       "65             0.3612  \n",
       "52             0.0000  \n",
       "81             0.0000  \n",
       "61             0.6249  \n",
       "73            -0.2755  \n",
       "69             0.3182  \n",
       "2              0.7110  \n",
       "85             0.0000  \n",
       "96             0.7925  \n",
       "84             0.4738  \n",
       "47             0.0000  \n",
       "54            -0.5106  \n",
       "53             0.0000  \n",
       "87             0.0000  \n",
       "72             0.5719  \n",
       "82            -0.4576  \n",
       "45             0.4995  \n",
       "80             0.0000  \n",
       "42             0.0000  \n",
       "11             0.9274  \n",
       "63             0.3400  \n",
       "7              0.9252  \n",
       "38             0.2411  \n",
       "57            -0.3291  \n",
       "37             0.3007  \n",
       "76             0.0000  \n",
       "60             0.3252  \n",
       "..                ...  \n",
       "32             0.7264  \n",
       "33             0.4404  \n",
       "8              0.3400  \n",
       "36             0.2023  \n",
       "39             0.0000  \n",
       "40             0.7783  \n",
       "41             0.4854  \n",
       "5              0.8294  \n",
       "3              0.6369  \n",
       "1              0.6705  \n",
       "31             0.4939  \n",
       "18             0.8316  \n",
       "99             0.0286  \n",
       "19             0.8641  \n",
       "79             0.7469  \n",
       "70             0.4290  \n",
       "35             0.3848  \n",
       "20             0.7003  \n",
       "12             0.7845  \n",
       "91             0.4749  \n",
       "14             0.4019  \n",
       "29             0.6113  \n",
       "95             0.6696  \n",
       "48             0.7893  \n",
       "10             0.7096  \n",
       "9              0.7579  \n",
       "50             0.7906  \n",
       "44             0.8070  \n",
       "86             0.9240  \n",
       "22             0.9349  \n",
       "\n",
       "[100 rows x 3 columns]"
      ]
     },
     "execution_count": 433,
     "metadata": {},
     "output_type": "execute_result"
    }
   ],
   "source": [
    "small[['lowest_sent_sent', 'lowest_sentiment', 'highest_sentiment']].sort_values('lowest_sentiment')"
   ]
  },
  {
   "cell_type": "markdown",
   "metadata": {},
   "source": [
    "Looks like reviews where both lowest and highest sentiment are <0 accurately reflect a negative review. There are still incorrect sentiments being captured, examples below:"
   ]
  },
  {
   "cell_type": "code",
   "execution_count": 438,
   "metadata": {
    "ExecuteTime": {
     "end_time": "2018-04-10T00:04:58.849536Z",
     "start_time": "2018-04-10T00:04:58.841506Z"
    }
   },
   "outputs": [
    {
     "data": {
      "text/plain": [
       "('I recently bought this item and it only burns ur skin!!!',\n",
       " 0.0,\n",
       " 'and besides you still have to boil it for 15 min and then let it cool for another couple of minutes.. just too much to wait til you put it on... DO NOT BUY!!',\n",
       " 0.43740000000000001)"
      ]
     },
     "execution_count": 438,
     "metadata": {},
     "output_type": "execute_result"
    }
   ],
   "source": [
    "# eg. postiive sentiment on a negative review\n",
    "small.iloc[74].lowest_sent_sent, small.iloc[74].lowest_sentiment, small.iloc[74].highest_sent_sent, small.iloc[74].highest_sentiment,"
   ]
  },
  {
   "cell_type": "code",
   "execution_count": 442,
   "metadata": {
    "ExecuteTime": {
     "end_time": "2018-04-10T00:14:25.437151Z",
     "start_time": "2018-04-10T00:14:25.430834Z"
    }
   },
   "outputs": [
    {
     "data": {
      "text/plain": [
       "('MY MOTHET BOUGHT THIS ABOUT 2 WEEKS AGO IT DOESNT WORK IT BURNS UR TUMMY AND U DONT EVEN SWEAT. SHE GOT IT THRU TH E TV ADVERTISEMENT. SHE HAS TRIED CALLING LIKE 20 times to get her money back but they keep hanging up on her once she tells them what she wants',\n",
       " 0.27700000000000002,\n",
       " 0.0)"
      ]
     },
     "execution_count": 442,
     "metadata": {},
     "output_type": "execute_result"
    }
   ],
   "source": [
    "# positive sentiment on a negative review\n",
    "small.iloc[93].reviewText, small.iloc[93].highest_sentiment, small.iloc[93].lowest_sentiment"
   ]
  },
  {
   "cell_type": "code",
   "execution_count": 467,
   "metadata": {
    "ExecuteTime": {
     "end_time": "2018-04-10T04:06:01.266152Z",
     "start_time": "2018-04-10T04:06:01.224216Z"
    }
   },
   "outputs": [
    {
     "data": {
      "text/html": [
       "<div>\n",
       "<style>\n",
       "    .dataframe thead tr:only-child th {\n",
       "        text-align: right;\n",
       "    }\n",
       "\n",
       "    .dataframe thead th {\n",
       "        text-align: left;\n",
       "    }\n",
       "\n",
       "    .dataframe tbody tr th {\n",
       "        vertical-align: top;\n",
       "    }\n",
       "</style>\n",
       "<table border=\"1\" class=\"dataframe\">\n",
       "  <thead>\n",
       "    <tr style=\"text-align: right;\">\n",
       "      <th></th>\n",
       "      <th>asin</th>\n",
       "      <th>helpful</th>\n",
       "      <th>reviewText</th>\n",
       "      <th>overall</th>\n",
       "      <th>summary</th>\n",
       "      <th>description</th>\n",
       "      <th>title</th>\n",
       "      <th>categories_clean</th>\n",
       "      <th>review_length</th>\n",
       "      <th>sentiment_review</th>\n",
       "      <th>sentiment_summary</th>\n",
       "      <th>tokenized_sentences</th>\n",
       "      <th>sentiments</th>\n",
       "      <th>highest_sentiment</th>\n",
       "      <th>lowest_sentiment</th>\n",
       "      <th>highest_sent_ix</th>\n",
       "      <th>lowest_sent_ix</th>\n",
       "      <th>highest_sent_sent</th>\n",
       "      <th>lowest_sent_sent</th>\n",
       "    </tr>\n",
       "  </thead>\n",
       "  <tbody>\n",
       "    <tr>\n",
       "      <th>0</th>\n",
       "      <td>0929619730</td>\n",
       "      <td>[0, 0]</td>\n",
       "      <td>B-flax-D is a regular at our house. It does it...</td>\n",
       "      <td>5.0</td>\n",
       "      <td>Dpes the job well</td>\n",
       "      <td>Contains Organic Cold-Milled Flaxseed\\nValuabl...</td>\n",
       "      <td>New Generation B-Flax-D</td>\n",
       "      <td>Health &amp; Personal Care, Vitamins &amp; Dietary Sup...</td>\n",
       "      <td>224</td>\n",
       "      <td>0.9313</td>\n",
       "      <td>0.9873</td>\n",
       "      <td>[B-flax-D is a regular at our house., It does ...</td>\n",
       "      <td>[0.0, 0.4404, 0.5106, 0.8271]</td>\n",
       "      <td>0.8271</td>\n",
       "      <td>0.0000</td>\n",
       "      <td>3</td>\n",
       "      <td>0</td>\n",
       "      <td>Good product, good price, good results.</td>\n",
       "      <td>B-flax-D is a regular at our house.</td>\n",
       "    </tr>\n",
       "    <tr>\n",
       "      <th>1</th>\n",
       "      <td>0978559088</td>\n",
       "      <td>[1, 1]</td>\n",
       "      <td>Studies show that Resveratrol is poorly absorb...</td>\n",
       "      <td>4.0</td>\n",
       "      <td>Fast shipping, good communication</td>\n",
       "      <td>Everyone knows that resveratrol is an amazing ...</td>\n",
       "      <td>Nutrihill Resveratrol Lozenges</td>\n",
       "      <td>Health &amp; Personal Care, Vitamins &amp; Dietary Sup...</td>\n",
       "      <td>334</td>\n",
       "      <td>0.9107</td>\n",
       "      <td>0.3431</td>\n",
       "      <td>[Studies show that Resveratrol is poorly absor...</td>\n",
       "      <td>[0.6474, 0.0, 0.6705, 0.0]</td>\n",
       "      <td>0.6705</td>\n",
       "      <td>0.0000</td>\n",
       "      <td>2</td>\n",
       "      <td>1</td>\n",
       "      <td>This company promises 99% purity and has fast ...</td>\n",
       "      <td>Hardly any companies are selling lozenges.</td>\n",
       "    </tr>\n",
       "    <tr>\n",
       "      <th>2</th>\n",
       "      <td>0978559088</td>\n",
       "      <td>[1, 1]</td>\n",
       "      <td>I started taking this after both my parents di...</td>\n",
       "      <td>5.0</td>\n",
       "      <td>Bioavailability is the key</td>\n",
       "      <td>Everyone knows that resveratrol is an amazing ...</td>\n",
       "      <td>Nutrihill Resveratrol Lozenges</td>\n",
       "      <td>Health &amp; Personal Care, Vitamins &amp; Dietary Sup...</td>\n",
       "      <td>1065</td>\n",
       "      <td>-0.6615</td>\n",
       "      <td>0.3431</td>\n",
       "      <td>[I started taking this after both my parents d...</td>\n",
       "      <td>[-0.5729, -0.4767, 0.711, -0.5563, -0.5106, 0....</td>\n",
       "      <td>0.7110</td>\n",
       "      <td>-0.5729</td>\n",
       "      <td>2</td>\n",
       "      <td>0</td>\n",
       "      <td>The ez-melt formula recommended in another rev...</td>\n",
       "      <td>I started taking this after both my parents di...</td>\n",
       "    </tr>\n",
       "    <tr>\n",
       "      <th>3</th>\n",
       "      <td>0978559088</td>\n",
       "      <td>[0, 1]</td>\n",
       "      <td>I tried Nutrihill, but did not feel any of the...</td>\n",
       "      <td>1.0</td>\n",
       "      <td>Other Resveratrol Supplements are Better</td>\n",
       "      <td>Everyone knows that resveratrol is an amazing ...</td>\n",
       "      <td>Nutrihill Resveratrol Lozenges</td>\n",
       "      <td>Health &amp; Personal Care, Vitamins &amp; Dietary Sup...</td>\n",
       "      <td>568</td>\n",
       "      <td>0.9688</td>\n",
       "      <td>0.3431</td>\n",
       "      <td>[I tried Nutrihill, but did not feel any of th...</td>\n",
       "      <td>[0.5267, 0.6369, 0.0, 0.0, 0.6243, 0.0, 0.1779...</td>\n",
       "      <td>0.6369</td>\n",
       "      <td>0.0000</td>\n",
       "      <td>1</td>\n",
       "      <td>2</td>\n",
       "      <td>I started reading and realized that even thoug...</td>\n",
       "      <td>I then tried Resveratrol 150 from ezmelts.</td>\n",
       "    </tr>\n",
       "    <tr>\n",
       "      <th>4</th>\n",
       "      <td>0978559088</td>\n",
       "      <td>[0, 0]</td>\n",
       "      <td>I really liked this product because it stayed ...</td>\n",
       "      <td>5.0</td>\n",
       "      <td>I can't find this product any longer, and I wi...</td>\n",
       "      <td>Everyone knows that resveratrol is an amazing ...</td>\n",
       "      <td>Nutrihill Resveratrol Lozenges</td>\n",
       "      <td>Health &amp; Personal Care, Vitamins &amp; Dietary Sup...</td>\n",
       "      <td>767</td>\n",
       "      <td>0.9611</td>\n",
       "      <td>0.3431</td>\n",
       "      <td>[I really liked this product because it stayed...</td>\n",
       "      <td>[0.7178, 0.4767, -0.1779, 0.0, 0.4404, 0.7574,...</td>\n",
       "      <td>0.7574</td>\n",
       "      <td>-0.1779</td>\n",
       "      <td>5</td>\n",
       "      <td>2</td>\n",
       "      <td>I really enjoyed taking these little pills and...</td>\n",
       "      <td>I can't find it anymore and wish I could still...</td>\n",
       "    </tr>\n",
       "  </tbody>\n",
       "</table>\n",
       "</div>"
      ],
      "text/plain": [
       "         asin helpful                                         reviewText  \\\n",
       "0  0929619730  [0, 0]  B-flax-D is a regular at our house. It does it...   \n",
       "1  0978559088  [1, 1]  Studies show that Resveratrol is poorly absorb...   \n",
       "2  0978559088  [1, 1]  I started taking this after both my parents di...   \n",
       "3  0978559088  [0, 1]  I tried Nutrihill, but did not feel any of the...   \n",
       "4  0978559088  [0, 0]  I really liked this product because it stayed ...   \n",
       "\n",
       "   overall                                            summary  \\\n",
       "0      5.0                                  Dpes the job well   \n",
       "1      4.0                  Fast shipping, good communication   \n",
       "2      5.0                         Bioavailability is the key   \n",
       "3      1.0           Other Resveratrol Supplements are Better   \n",
       "4      5.0  I can't find this product any longer, and I wi...   \n",
       "\n",
       "                                         description  \\\n",
       "0  Contains Organic Cold-Milled Flaxseed\\nValuabl...   \n",
       "1  Everyone knows that resveratrol is an amazing ...   \n",
       "2  Everyone knows that resveratrol is an amazing ...   \n",
       "3  Everyone knows that resveratrol is an amazing ...   \n",
       "4  Everyone knows that resveratrol is an amazing ...   \n",
       "\n",
       "                            title  \\\n",
       "0         New Generation B-Flax-D   \n",
       "1  Nutrihill Resveratrol Lozenges   \n",
       "2  Nutrihill Resveratrol Lozenges   \n",
       "3  Nutrihill Resveratrol Lozenges   \n",
       "4  Nutrihill Resveratrol Lozenges   \n",
       "\n",
       "                                    categories_clean  review_length  \\\n",
       "0  Health & Personal Care, Vitamins & Dietary Sup...            224   \n",
       "1  Health & Personal Care, Vitamins & Dietary Sup...            334   \n",
       "2  Health & Personal Care, Vitamins & Dietary Sup...           1065   \n",
       "3  Health & Personal Care, Vitamins & Dietary Sup...            568   \n",
       "4  Health & Personal Care, Vitamins & Dietary Sup...            767   \n",
       "\n",
       "   sentiment_review  sentiment_summary  \\\n",
       "0            0.9313             0.9873   \n",
       "1            0.9107             0.3431   \n",
       "2           -0.6615             0.3431   \n",
       "3            0.9688             0.3431   \n",
       "4            0.9611             0.3431   \n",
       "\n",
       "                                 tokenized_sentences  \\\n",
       "0  [B-flax-D is a regular at our house., It does ...   \n",
       "1  [Studies show that Resveratrol is poorly absor...   \n",
       "2  [I started taking this after both my parents d...   \n",
       "3  [I tried Nutrihill, but did not feel any of th...   \n",
       "4  [I really liked this product because it stayed...   \n",
       "\n",
       "                                          sentiments  highest_sentiment  \\\n",
       "0                      [0.0, 0.4404, 0.5106, 0.8271]             0.8271   \n",
       "1                         [0.6474, 0.0, 0.6705, 0.0]             0.6705   \n",
       "2  [-0.5729, -0.4767, 0.711, -0.5563, -0.5106, 0....             0.7110   \n",
       "3  [0.5267, 0.6369, 0.0, 0.0, 0.6243, 0.0, 0.1779...             0.6369   \n",
       "4  [0.7178, 0.4767, -0.1779, 0.0, 0.4404, 0.7574,...             0.7574   \n",
       "\n",
       "   lowest_sentiment  highest_sent_ix  lowest_sent_ix  \\\n",
       "0            0.0000                3               0   \n",
       "1            0.0000                2               1   \n",
       "2           -0.5729                2               0   \n",
       "3            0.0000                1               2   \n",
       "4           -0.1779                5               2   \n",
       "\n",
       "                                   highest_sent_sent  \\\n",
       "0            Good product, good price, good results.   \n",
       "1  This company promises 99% purity and has fast ...   \n",
       "2  The ez-melt formula recommended in another rev...   \n",
       "3  I started reading and realized that even thoug...   \n",
       "4  I really enjoyed taking these little pills and...   \n",
       "\n",
       "                                    lowest_sent_sent  \n",
       "0                B-flax-D is a regular at our house.  \n",
       "1         Hardly any companies are selling lozenges.  \n",
       "2  I started taking this after both my parents di...  \n",
       "3         I then tried Resveratrol 150 from ezmelts.  \n",
       "4  I can't find it anymore and wish I could still...  "
      ]
     },
     "execution_count": 467,
     "metadata": {},
     "output_type": "execute_result"
    }
   ],
   "source": [
    "small.to_csv('../data/sample_sentiment_analysis', sep = '|', index = False)\n",
    "small.head()"
   ]
  },
  {
   "cell_type": "markdown",
   "metadata": {
    "collapsed": true
   },
   "source": [
    "### TextBlob"
   ]
  },
  {
   "cell_type": "code",
   "execution_count": 5,
   "metadata": {
    "ExecuteTime": {
     "end_time": "2018-04-12T23:37:31.047505Z",
     "start_time": "2018-04-12T23:37:31.039269Z"
    }
   },
   "outputs": [],
   "source": [
    "import pandas as pd\n",
    "small = pd.read_csv('../data/sample_sentiment_analysis', sep = '|')"
   ]
  },
  {
   "cell_type": "code",
   "execution_count": 10,
   "metadata": {
    "ExecuteTime": {
     "end_time": "2018-04-12T23:41:08.569880Z",
     "start_time": "2018-04-12T23:41:08.562337Z"
    }
   },
   "outputs": [],
   "source": [
    "small[['asin', 'lowest_sentiment', 'lowest_sent_sent']].\\\n",
    "to_csv('../data/sample_sentiment_analysis_low', sep = '|', index = False)\n",
    "\n",
    "small[['asin', 'highest_sentiment', 'highest_sent_sent']].\\\n",
    "to_csv('../data/sample_sentiment_analysis_high', sep = '|', index = False)\n"
   ]
  },
  {
   "cell_type": "code",
   "execution_count": 3,
   "metadata": {
    "ExecuteTime": {
     "end_time": "2018-04-11T21:49:17.442973Z",
     "start_time": "2018-04-11T21:49:16.432291Z"
    }
   },
   "outputs": [],
   "source": [
    "from textblob import TextBlob"
   ]
  },
  {
   "cell_type": "markdown",
   "metadata": {},
   "source": [
    "#### Review level"
   ]
  },
  {
   "cell_type": "code",
   "execution_count": 4,
   "metadata": {
    "ExecuteTime": {
     "end_time": "2018-04-11T21:49:26.626636Z",
     "start_time": "2018-04-11T21:49:26.466162Z"
    }
   },
   "outputs": [],
   "source": [
    "small.reviewText = small.reviewText.astype('string') # otherwise, strangely, interpreted as numeric \n",
    "small['review_blob_sentiment'] = small.reviewText.apply(lambda x: TextBlob(x).sentiment[0])"
   ]
  },
  {
   "cell_type": "markdown",
   "metadata": {},
   "source": [
    "#### Spot checks"
   ]
  },
  {
   "cell_type": "code",
   "execution_count": 28,
   "metadata": {
    "ExecuteTime": {
     "end_time": "2018-04-11T19:32:30.949536Z",
     "start_time": "2018-04-11T19:32:30.935795Z"
    }
   },
   "outputs": [
    {
     "data": {
      "text/html": [
       "<div>\n",
       "<style>\n",
       "    .dataframe thead tr:only-child th {\n",
       "        text-align: right;\n",
       "    }\n",
       "\n",
       "    .dataframe thead th {\n",
       "        text-align: left;\n",
       "    }\n",
       "\n",
       "    .dataframe tbody tr th {\n",
       "        vertical-align: top;\n",
       "    }\n",
       "</style>\n",
       "<table border=\"1\" class=\"dataframe\">\n",
       "  <thead>\n",
       "    <tr style=\"text-align: right;\">\n",
       "      <th></th>\n",
       "      <th>asin</th>\n",
       "      <th>reviewText</th>\n",
       "      <th>sentiment_summary</th>\n",
       "      <th>review_blob_sentiment</th>\n",
       "    </tr>\n",
       "  </thead>\n",
       "  <tbody>\n",
       "    <tr>\n",
       "      <th>0</th>\n",
       "      <td>929619730</td>\n",
       "      <td>B-flax-D is a regular at our house. It does it...</td>\n",
       "      <td>0.9873</td>\n",
       "      <td>0.385000</td>\n",
       "    </tr>\n",
       "    <tr>\n",
       "      <th>1</th>\n",
       "      <td>978559088</td>\n",
       "      <td>Studies show that Resveratrol is poorly absorb...</td>\n",
       "      <td>0.3431</td>\n",
       "      <td>0.241667</td>\n",
       "    </tr>\n",
       "    <tr>\n",
       "      <th>2</th>\n",
       "      <td>978559088</td>\n",
       "      <td>I started taking this after both my parents di...</td>\n",
       "      <td>0.3431</td>\n",
       "      <td>0.018968</td>\n",
       "    </tr>\n",
       "    <tr>\n",
       "      <th>3</th>\n",
       "      <td>978559088</td>\n",
       "      <td>I tried Nutrihill, but did not feel any of the...</td>\n",
       "      <td>0.3431</td>\n",
       "      <td>0.085119</td>\n",
       "    </tr>\n",
       "    <tr>\n",
       "      <th>4</th>\n",
       "      <td>978559088</td>\n",
       "      <td>I really liked this product because it stayed ...</td>\n",
       "      <td>0.3431</td>\n",
       "      <td>0.377083</td>\n",
       "    </tr>\n",
       "  </tbody>\n",
       "</table>\n",
       "</div>"
      ],
      "text/plain": [
       "        asin                                         reviewText  \\\n",
       "0  929619730  B-flax-D is a regular at our house. It does it...   \n",
       "1  978559088  Studies show that Resveratrol is poorly absorb...   \n",
       "2  978559088  I started taking this after both my parents di...   \n",
       "3  978559088  I tried Nutrihill, but did not feel any of the...   \n",
       "4  978559088  I really liked this product because it stayed ...   \n",
       "\n",
       "   sentiment_summary  review_blob_sentiment  \n",
       "0             0.9873               0.385000  \n",
       "1             0.3431               0.241667  \n",
       "2             0.3431               0.018968  \n",
       "3             0.3431               0.085119  \n",
       "4             0.3431               0.377083  "
      ]
     },
     "execution_count": 28,
     "metadata": {},
     "output_type": "execute_result"
    }
   ],
   "source": [
    "test = small[['asin', 'reviewText', 'sentiment_summary', 'review_blob_sentiment']]\n",
    "test.head()"
   ]
  },
  {
   "cell_type": "code",
   "execution_count": 33,
   "metadata": {
    "ExecuteTime": {
     "end_time": "2018-04-11T19:33:00.901361Z",
     "start_time": "2018-04-11T19:33:00.894700Z"
    }
   },
   "outputs": [
    {
     "data": {
      "text/plain": [
       "16"
      ]
     },
     "execution_count": 33,
     "metadata": {},
     "output_type": "execute_result"
    }
   ],
   "source": [
    "sum(test.sentiment_summary < test.review_blob_sentiment)"
   ]
  },
  {
   "cell_type": "code",
   "execution_count": 35,
   "metadata": {
    "ExecuteTime": {
     "end_time": "2018-04-11T19:33:09.467765Z",
     "start_time": "2018-04-11T19:33:09.462121Z"
    }
   },
   "outputs": [
    {
     "data": {
      "text/plain": [
       "84"
      ]
     },
     "execution_count": 35,
     "metadata": {},
     "output_type": "execute_result"
    }
   ],
   "source": [
    "sum(test.sentiment_summary >= test.review_blob_sentiment)"
   ]
  },
  {
   "cell_type": "markdown",
   "metadata": {
    "ExecuteTime": {
     "end_time": "2018-04-11T19:34:00.104678Z",
     "start_time": "2018-04-11T19:34:00.100412Z"
    }
   },
   "source": [
    "VADER seems to overstimate sentiment"
   ]
  },
  {
   "cell_type": "code",
   "execution_count": 38,
   "metadata": {
    "ExecuteTime": {
     "end_time": "2018-04-11T19:36:18.949344Z",
     "start_time": "2018-04-11T19:36:18.927560Z"
    }
   },
   "outputs": [
    {
     "data": {
      "text/html": [
       "<div>\n",
       "<style>\n",
       "    .dataframe thead tr:only-child th {\n",
       "        text-align: right;\n",
       "    }\n",
       "\n",
       "    .dataframe thead th {\n",
       "        text-align: left;\n",
       "    }\n",
       "\n",
       "    .dataframe tbody tr th {\n",
       "        vertical-align: top;\n",
       "    }\n",
       "</style>\n",
       "<table border=\"1\" class=\"dataframe\">\n",
       "  <thead>\n",
       "    <tr style=\"text-align: right;\">\n",
       "      <th></th>\n",
       "      <th>asin</th>\n",
       "      <th>reviewText</th>\n",
       "      <th>sentiment_summary</th>\n",
       "      <th>review_blob_sentiment</th>\n",
       "    </tr>\n",
       "  </thead>\n",
       "  <tbody>\n",
       "    <tr>\n",
       "      <th>4</th>\n",
       "      <td>978559088</td>\n",
       "      <td>I really liked this product because it stayed ...</td>\n",
       "      <td>0.3431</td>\n",
       "      <td>0.377083</td>\n",
       "    </tr>\n",
       "    <tr>\n",
       "      <th>10</th>\n",
       "      <td>1300451416</td>\n",
       "      <td>power mune is a saver for our dog, excellent v...</td>\n",
       "      <td>0.9744</td>\n",
       "      <td>1.000000</td>\n",
       "    </tr>\n",
       "    <tr>\n",
       "      <th>32</th>\n",
       "      <td>1928926215</td>\n",
       "      <td>Didn't see any change in weight. I don;t belie...</td>\n",
       "      <td>0.0000</td>\n",
       "      <td>0.433333</td>\n",
       "    </tr>\n",
       "    <tr>\n",
       "      <th>33</th>\n",
       "      <td>1928926215</td>\n",
       "      <td>Oh, I really wanted this to work!  Dr. Oz endo...</td>\n",
       "      <td>0.0000</td>\n",
       "      <td>0.050000</td>\n",
       "    </tr>\n",
       "    <tr>\n",
       "      <th>35</th>\n",
       "      <td>1928926215</td>\n",
       "      <td>I have been using this for awhile I dont know ...</td>\n",
       "      <td>0.0000</td>\n",
       "      <td>0.200000</td>\n",
       "    </tr>\n",
       "    <tr>\n",
       "      <th>37</th>\n",
       "      <td>1928926215</td>\n",
       "      <td>I have used this two times now and lost almost...</td>\n",
       "      <td>0.0000</td>\n",
       "      <td>0.150000</td>\n",
       "    </tr>\n",
       "    <tr>\n",
       "      <th>38</th>\n",
       "      <td>1928926215</td>\n",
       "      <td>I have been using this product for a couple of...</td>\n",
       "      <td>0.0000</td>\n",
       "      <td>0.020000</td>\n",
       "    </tr>\n",
       "    <tr>\n",
       "      <th>48</th>\n",
       "      <td>9681500717</td>\n",
       "      <td>The product its self is great it works wonderf...</td>\n",
       "      <td>0.4019</td>\n",
       "      <td>0.680573</td>\n",
       "    </tr>\n",
       "    <tr>\n",
       "      <th>58</th>\n",
       "      <td>9681500717</td>\n",
       "      <td>This video was easy to use and understand.  I ...</td>\n",
       "      <td>0.4019</td>\n",
       "      <td>0.716667</td>\n",
       "    </tr>\n",
       "    <tr>\n",
       "      <th>68</th>\n",
       "      <td>9681500717</td>\n",
       "      <td>they sent me one size bigggggggg one. when I p...</td>\n",
       "      <td>0.4019</td>\n",
       "      <td>0.600000</td>\n",
       "    </tr>\n",
       "    <tr>\n",
       "      <th>86</th>\n",
       "      <td>9681500717</td>\n",
       "      <td>pruduct is very effective and easy to use my w...</td>\n",
       "      <td>0.4019</td>\n",
       "      <td>0.603333</td>\n",
       "    </tr>\n",
       "    <tr>\n",
       "      <th>89</th>\n",
       "      <td>9681500717</td>\n",
       "      <td>It is ok, but it burns my stomach. Maybe it al...</td>\n",
       "      <td>0.4019</td>\n",
       "      <td>0.500000</td>\n",
       "    </tr>\n",
       "    <tr>\n",
       "      <th>95</th>\n",
       "      <td>9749628926</td>\n",
       "      <td>I've been using this product for about 3 month...</td>\n",
       "      <td>0.0000</td>\n",
       "      <td>0.431250</td>\n",
       "    </tr>\n",
       "    <tr>\n",
       "      <th>96</th>\n",
       "      <td>9749628926</td>\n",
       "      <td>I have tried taking this internally, however t...</td>\n",
       "      <td>0.0000</td>\n",
       "      <td>0.046925</td>\n",
       "    </tr>\n",
       "    <tr>\n",
       "      <th>97</th>\n",
       "      <td>9749628926</td>\n",
       "      <td>I have been waiting for this product, so I cou...</td>\n",
       "      <td>0.0000</td>\n",
       "      <td>0.268229</td>\n",
       "    </tr>\n",
       "    <tr>\n",
       "      <th>98</th>\n",
       "      <td>9749628926</td>\n",
       "      <td>This said it would take 1 month to get...It go...</td>\n",
       "      <td>0.0000</td>\n",
       "      <td>0.184896</td>\n",
       "    </tr>\n",
       "  </tbody>\n",
       "</table>\n",
       "</div>"
      ],
      "text/plain": [
       "          asin                                         reviewText  \\\n",
       "4    978559088  I really liked this product because it stayed ...   \n",
       "10  1300451416  power mune is a saver for our dog, excellent v...   \n",
       "32  1928926215  Didn't see any change in weight. I don;t belie...   \n",
       "33  1928926215  Oh, I really wanted this to work!  Dr. Oz endo...   \n",
       "35  1928926215  I have been using this for awhile I dont know ...   \n",
       "37  1928926215  I have used this two times now and lost almost...   \n",
       "38  1928926215  I have been using this product for a couple of...   \n",
       "48  9681500717  The product its self is great it works wonderf...   \n",
       "58  9681500717  This video was easy to use and understand.  I ...   \n",
       "68  9681500717  they sent me one size bigggggggg one. when I p...   \n",
       "86  9681500717  pruduct is very effective and easy to use my w...   \n",
       "89  9681500717  It is ok, but it burns my stomach. Maybe it al...   \n",
       "95  9749628926  I've been using this product for about 3 month...   \n",
       "96  9749628926  I have tried taking this internally, however t...   \n",
       "97  9749628926  I have been waiting for this product, so I cou...   \n",
       "98  9749628926  This said it would take 1 month to get...It go...   \n",
       "\n",
       "    sentiment_summary  review_blob_sentiment  \n",
       "4              0.3431               0.377083  \n",
       "10             0.9744               1.000000  \n",
       "32             0.0000               0.433333  \n",
       "33             0.0000               0.050000  \n",
       "35             0.0000               0.200000  \n",
       "37             0.0000               0.150000  \n",
       "38             0.0000               0.020000  \n",
       "48             0.4019               0.680573  \n",
       "58             0.4019               0.716667  \n",
       "68             0.4019               0.600000  \n",
       "86             0.4019               0.603333  \n",
       "89             0.4019               0.500000  \n",
       "95             0.0000               0.431250  \n",
       "96             0.0000               0.046925  \n",
       "97             0.0000               0.268229  \n",
       "98             0.0000               0.184896  "
      ]
     },
     "execution_count": 38,
     "metadata": {},
     "output_type": "execute_result"
    }
   ],
   "source": [
    "test[test.sentiment_summary < test.review_blob_sentiment]."
   ]
  },
  {
   "cell_type": "code",
   "execution_count": 72,
   "metadata": {
    "ExecuteTime": {
     "end_time": "2018-04-11T19:49:20.909014Z",
     "start_time": "2018-04-11T19:49:20.903842Z"
    }
   },
   "outputs": [
    {
     "data": {
      "text/plain": [
       "'This video was easy to use and understand.  I learned alot about my body and am making the best use of my time with my body sculpting.  Thank You!!'"
      ]
     },
     "execution_count": 72,
     "metadata": {},
     "output_type": "execute_result"
    }
   ],
   "source": [
    "small.loc[58].reviewText"
   ]
  },
  {
   "cell_type": "code",
   "execution_count": 65,
   "metadata": {
    "ExecuteTime": {
     "end_time": "2018-04-11T19:47:27.991572Z",
     "start_time": "2018-04-11T19:47:27.987002Z"
    }
   },
   "outputs": [
    {
     "data": {
      "text/plain": [
       "'pruduct is very effective and easy to use my wife loved it and is pleased with his belt molding motion 5'"
      ]
     },
     "execution_count": 65,
     "metadata": {},
     "output_type": "execute_result"
    }
   ],
   "source": [
    "test.reviewText[86]"
   ]
  },
  {
   "cell_type": "code",
   "execution_count": 47,
   "metadata": {
    "ExecuteTime": {
     "end_time": "2018-04-11T19:38:20.572240Z",
     "start_time": "2018-04-11T19:38:20.567772Z"
    }
   },
   "outputs": [
    {
     "data": {
      "text/plain": [
       "\"This said it would take 1 month to get...It got here in a little over a week Registered Mail.  Way Cool!  It came with a cloth pouch also...so cute! The bottle was bubble wrapped.I'm looking forward to having Darker Hair & Smoother Skin!  These are 300 MG by the way...Kinda hard to read in the picture.\""
      ]
     },
     "execution_count": 47,
     "metadata": {},
     "output_type": "execute_result"
    }
   ],
   "source": [
    "test.reviewText[98] # great example of delivery-related review "
   ]
  },
  {
   "cell_type": "code",
   "execution_count": 48,
   "metadata": {
    "ExecuteTime": {
     "end_time": "2018-04-11T19:38:53.986136Z",
     "start_time": "2018-04-11T19:38:53.981570Z"
    }
   },
   "outputs": [
    {
     "data": {
      "text/plain": [
       "'I have been waiting for this product, so I could start using it...it came WAY earlier than expected thank you!!! GREAT PRODUCT!!!'"
      ]
     },
     "execution_count": 48,
     "metadata": {},
     "output_type": "execute_result"
    }
   ],
   "source": [
    "test.reviewText[97] # great example of delivery-related review "
   ]
  },
  {
   "cell_type": "code",
   "execution_count": 55,
   "metadata": {
    "ExecuteTime": {
     "end_time": "2018-04-11T19:42:08.940426Z",
     "start_time": "2018-04-11T19:42:08.916550Z"
    }
   },
   "outputs": [
    {
     "data": {
      "text/html": [
       "<div>\n",
       "<style>\n",
       "    .dataframe thead tr:only-child th {\n",
       "        text-align: right;\n",
       "    }\n",
       "\n",
       "    .dataframe thead th {\n",
       "        text-align: left;\n",
       "    }\n",
       "\n",
       "    .dataframe tbody tr th {\n",
       "        vertical-align: top;\n",
       "    }\n",
       "</style>\n",
       "<table border=\"1\" class=\"dataframe\">\n",
       "  <thead>\n",
       "    <tr style=\"text-align: right;\">\n",
       "      <th></th>\n",
       "      <th>asin</th>\n",
       "      <th>reviewText</th>\n",
       "      <th>sentiment_summary</th>\n",
       "      <th>review_blob_sentiment</th>\n",
       "    </tr>\n",
       "  </thead>\n",
       "  <tbody>\n",
       "    <tr>\n",
       "      <th>13</th>\n",
       "      <td>1300451459</td>\n",
       "      <td>After trying the Dog Booster for my Yorkie I d...</td>\n",
       "      <td>0.9577</td>\n",
       "      <td>-0.030952</td>\n",
       "    </tr>\n",
       "    <tr>\n",
       "      <th>14</th>\n",
       "      <td>1300451459</td>\n",
       "      <td>Liver Support Chicken Flavor Herbal Supplement...</td>\n",
       "      <td>0.9577</td>\n",
       "      <td>-0.116667</td>\n",
       "    </tr>\n",
       "    <tr>\n",
       "      <th>42</th>\n",
       "      <td>6074885060</td>\n",
       "      <td>Not a thing has changed since I started and fi...</td>\n",
       "      <td>0.5859</td>\n",
       "      <td>-0.800000</td>\n",
       "    </tr>\n",
       "    <tr>\n",
       "      <th>52</th>\n",
       "      <td>9681500717</td>\n",
       "      <td>This product, burn the skin of my stomach and ...</td>\n",
       "      <td>0.4019</td>\n",
       "      <td>-0.625000</td>\n",
       "    </tr>\n",
       "    <tr>\n",
       "      <th>53</th>\n",
       "      <td>9681500717</td>\n",
       "      <td>What the TV add doesn't tell you is that you h...</td>\n",
       "      <td>0.4019</td>\n",
       "      <td>-0.065625</td>\n",
       "    </tr>\n",
       "    <tr>\n",
       "      <th>57</th>\n",
       "      <td>9681500717</td>\n",
       "      <td>The directions of this product are too difficu...</td>\n",
       "      <td>0.4019</td>\n",
       "      <td>-0.180556</td>\n",
       "    </tr>\n",
       "    <tr>\n",
       "      <th>60</th>\n",
       "      <td>9681500717</td>\n",
       "      <td>Would have given no star if possible. Does not...</td>\n",
       "      <td>0.4019</td>\n",
       "      <td>-0.050000</td>\n",
       "    </tr>\n",
       "    <tr>\n",
       "      <th>62</th>\n",
       "      <td>9681500717</td>\n",
       "      <td>This is the worst thing to spend your money on...</td>\n",
       "      <td>0.4019</td>\n",
       "      <td>-0.600000</td>\n",
       "    </tr>\n",
       "    <tr>\n",
       "      <th>63</th>\n",
       "      <td>9681500717</td>\n",
       "      <td>The motion 5 u think it's a big big big fraud ...</td>\n",
       "      <td>0.4019</td>\n",
       "      <td>-0.033333</td>\n",
       "    </tr>\n",
       "    <tr>\n",
       "      <th>65</th>\n",
       "      <td>9681500717</td>\n",
       "      <td>Its the worst thing that I spent my money in. ...</td>\n",
       "      <td>0.4019</td>\n",
       "      <td>-0.000463</td>\n",
       "    </tr>\n",
       "    <tr>\n",
       "      <th>67</th>\n",
       "      <td>9681500717</td>\n",
       "      <td>THE PRODUCT IS NOT IN WORKING CONDITION. THE L...</td>\n",
       "      <td>0.4019</td>\n",
       "      <td>-0.017045</td>\n",
       "    </tr>\n",
       "    <tr>\n",
       "      <th>72</th>\n",
       "      <td>9681500717</td>\n",
       "      <td>I'm very satifide whit all the costumer servic...</td>\n",
       "      <td>0.4019</td>\n",
       "      <td>-0.068750</td>\n",
       "    </tr>\n",
       "    <tr>\n",
       "      <th>75</th>\n",
       "      <td>9681500717</td>\n",
       "      <td>I bought this for a family member since they h...</td>\n",
       "      <td>0.4019</td>\n",
       "      <td>-0.128009</td>\n",
       "    </tr>\n",
       "    <tr>\n",
       "      <th>76</th>\n",
       "      <td>9681500717</td>\n",
       "      <td>This product didn't function the way it was su...</td>\n",
       "      <td>0.4019</td>\n",
       "      <td>-0.100000</td>\n",
       "    </tr>\n",
       "    <tr>\n",
       "      <th>78</th>\n",
       "      <td>9681500717</td>\n",
       "      <td>Don't throw your money away on this product. I...</td>\n",
       "      <td>0.4019</td>\n",
       "      <td>-0.035714</td>\n",
       "    </tr>\n",
       "    <tr>\n",
       "      <th>81</th>\n",
       "      <td>9681500717</td>\n",
       "      <td>It is not even close to being the product show...</td>\n",
       "      <td>0.4019</td>\n",
       "      <td>-0.750000</td>\n",
       "    </tr>\n",
       "    <tr>\n",
       "      <th>82</th>\n",
       "      <td>9681500717</td>\n",
       "      <td>I bought this product about a month ago and I ...</td>\n",
       "      <td>0.4019</td>\n",
       "      <td>-0.083333</td>\n",
       "    </tr>\n",
       "    <tr>\n",
       "      <th>83</th>\n",
       "      <td>9681500717</td>\n",
       "      <td>it was a complete failure nothing like the com...</td>\n",
       "      <td>0.4019</td>\n",
       "      <td>-0.268333</td>\n",
       "    </tr>\n",
       "    <tr>\n",
       "      <th>84</th>\n",
       "      <td>9681500717</td>\n",
       "      <td>Bought it and only worked for a couple of mont...</td>\n",
       "      <td>0.4019</td>\n",
       "      <td>-0.333333</td>\n",
       "    </tr>\n",
       "    <tr>\n",
       "      <th>85</th>\n",
       "      <td>9681500717</td>\n",
       "      <td>This is a product I will not recommend to anyo...</td>\n",
       "      <td>0.4019</td>\n",
       "      <td>-0.145833</td>\n",
       "    </tr>\n",
       "    <tr>\n",
       "      <th>88</th>\n",
       "      <td>9681500717</td>\n",
       "      <td>It left red marks on my husband and after firs...</td>\n",
       "      <td>0.4019</td>\n",
       "      <td>-0.005017</td>\n",
       "    </tr>\n",
       "  </tbody>\n",
       "</table>\n",
       "</div>"
      ],
      "text/plain": [
       "          asin                                         reviewText  \\\n",
       "13  1300451459  After trying the Dog Booster for my Yorkie I d...   \n",
       "14  1300451459  Liver Support Chicken Flavor Herbal Supplement...   \n",
       "42  6074885060  Not a thing has changed since I started and fi...   \n",
       "52  9681500717  This product, burn the skin of my stomach and ...   \n",
       "53  9681500717  What the TV add doesn't tell you is that you h...   \n",
       "57  9681500717  The directions of this product are too difficu...   \n",
       "60  9681500717  Would have given no star if possible. Does not...   \n",
       "62  9681500717  This is the worst thing to spend your money on...   \n",
       "63  9681500717  The motion 5 u think it's a big big big fraud ...   \n",
       "65  9681500717  Its the worst thing that I spent my money in. ...   \n",
       "67  9681500717  THE PRODUCT IS NOT IN WORKING CONDITION. THE L...   \n",
       "72  9681500717  I'm very satifide whit all the costumer servic...   \n",
       "75  9681500717  I bought this for a family member since they h...   \n",
       "76  9681500717  This product didn't function the way it was su...   \n",
       "78  9681500717  Don't throw your money away on this product. I...   \n",
       "81  9681500717  It is not even close to being the product show...   \n",
       "82  9681500717  I bought this product about a month ago and I ...   \n",
       "83  9681500717  it was a complete failure nothing like the com...   \n",
       "84  9681500717  Bought it and only worked for a couple of mont...   \n",
       "85  9681500717  This is a product I will not recommend to anyo...   \n",
       "88  9681500717  It left red marks on my husband and after firs...   \n",
       "\n",
       "    sentiment_summary  review_blob_sentiment  \n",
       "13             0.9577              -0.030952  \n",
       "14             0.9577              -0.116667  \n",
       "42             0.5859              -0.800000  \n",
       "52             0.4019              -0.625000  \n",
       "53             0.4019              -0.065625  \n",
       "57             0.4019              -0.180556  \n",
       "60             0.4019              -0.050000  \n",
       "62             0.4019              -0.600000  \n",
       "63             0.4019              -0.033333  \n",
       "65             0.4019              -0.000463  \n",
       "67             0.4019              -0.017045  \n",
       "72             0.4019              -0.068750  \n",
       "75             0.4019              -0.128009  \n",
       "76             0.4019              -0.100000  \n",
       "78             0.4019              -0.035714  \n",
       "81             0.4019              -0.750000  \n",
       "82             0.4019              -0.083333  \n",
       "83             0.4019              -0.268333  \n",
       "84             0.4019              -0.333333  \n",
       "85             0.4019              -0.145833  \n",
       "88             0.4019              -0.005017  "
      ]
     },
     "execution_count": 55,
     "metadata": {},
     "output_type": "execute_result"
    }
   ],
   "source": [
    "test[(test.sentiment_summary > 0) & (test.review_blob_sentiment < 0)]"
   ]
  },
  {
   "cell_type": "code",
   "execution_count": 63,
   "metadata": {
    "ExecuteTime": {
     "end_time": "2018-04-11T19:43:34.174532Z",
     "start_time": "2018-04-11T19:43:34.170254Z"
    }
   },
   "outputs": [
    {
     "data": {
      "text/plain": [
       "'THE PRODUCT IS NOT IN WORKING CONDITION. THE LITTLE BUTTON INSIDE THE BAG DOES NOT STIMULATE HEAT IT DOESNT WORK. WOULD LIKE TO SEND IT BACK AND GET NEW ONE, HOW DO I GO ABOUT IT?'"
      ]
     },
     "execution_count": 63,
     "metadata": {},
     "output_type": "execute_result"
    }
   ],
   "source": [
    "test.reviewText[67] "
   ]
  },
  {
   "cell_type": "code",
   "execution_count": 64,
   "metadata": {
    "ExecuteTime": {
     "end_time": "2018-04-11T19:43:43.718592Z",
     "start_time": "2018-04-11T19:43:43.714053Z"
    }
   },
   "outputs": [
    {
     "data": {
      "text/plain": [
       "'I bought this product about a month ago and I was very exited at first, even when I have to boil it in order to make it work, I get used to boil it everyday before start to use it, the thing is that in the process of boil it using a pot with water I have to fold it and put it inside a bag, the constant usage of this make the bag that holds the liquid to damage and now the liquid is coming out from the bag, I contact costumer service and they told me they only offer one moth warranty. I was so disappointed because the lack of support from customer service and for the quality of the product.'"
      ]
     },
     "execution_count": 64,
     "metadata": {},
     "output_type": "execute_result"
    }
   ],
   "source": [
    "test.reviewText[82] "
   ]
  },
  {
   "cell_type": "markdown",
   "metadata": {},
   "source": [
    "#### Sentence level"
   ]
  },
  {
   "cell_type": "code",
   "execution_count": 25,
   "metadata": {
    "ExecuteTime": {
     "end_time": "2018-04-11T22:09:11.862223Z",
     "start_time": "2018-04-11T22:09:11.789816Z"
    }
   },
   "outputs": [],
   "source": [
    "# need to re-tokenize sentences as exporting to df and reading it back in converts column object type to string \n",
    "from nltk import tokenize\n",
    "small['tokenized_sentences'] = small.reviewText.apply(tokenize.sent_tokenize)"
   ]
  },
  {
   "cell_type": "code",
   "execution_count": 30,
   "metadata": {
    "ExecuteTime": {
     "end_time": "2018-04-11T22:10:12.148117Z",
     "start_time": "2018-04-11T22:10:12.122560Z"
    }
   },
   "outputs": [
    {
     "name": "stdout",
     "output_type": "stream",
     "text": [
      "[0.0, 0.35, 0.2625, 0.6999999999999998]\n",
      "[0.3, -0.2916666666666667, 0.44999999999999996, 0.0]\n",
      "[0.5, -0.2777777777777778, 0.4222222222222222, -0.27301587301587305, -0.35714285714285715, 0.8, 0.0]\n",
      "[0.0, 0.375, 0.0, 0.0, -0.10714285714285715, 0.0, -0.125, 0.1]\n",
      "[0.4166666666666667, 0.0, 0.0, 0.0, 0.0, 0.33749999999999997, 0.0, 0.0]\n"
     ]
    }
   ],
   "source": [
    "for i in small.tokenized_sentences.head():\n",
    "    print get_sent_blob(i)"
   ]
  },
  {
   "cell_type": "code",
   "execution_count": 6,
   "metadata": {
    "ExecuteTime": {
     "end_time": "2018-04-11T22:01:45.016340Z",
     "start_time": "2018-04-11T22:01:45.012197Z"
    }
   },
   "outputs": [],
   "source": [
    "def get_sent_blob(list_of_sentences):\n",
    "    out = []\n",
    "    for i in list_of_sentences:\n",
    "        out.append(TextBlob(i).sentiment[0])\n",
    "    return out"
   ]
  },
  {
   "cell_type": "code",
   "execution_count": 31,
   "metadata": {
    "ExecuteTime": {
     "end_time": "2018-04-11T22:10:20.756485Z",
     "start_time": "2018-04-11T22:10:20.547157Z"
    }
   },
   "outputs": [],
   "source": [
    "# get polarity score\n",
    "small['sentiments_blob'] = small.tokenized_sentences.apply(get_sent_blob)"
   ]
  },
  {
   "cell_type": "code",
   "execution_count": 38,
   "metadata": {
    "ExecuteTime": {
     "end_time": "2018-04-11T22:32:08.457301Z",
     "start_time": "2018-04-11T22:32:08.412326Z"
    }
   },
   "outputs": [
    {
     "data": {
      "text/html": [
       "<div>\n",
       "<style>\n",
       "    .dataframe thead tr:only-child th {\n",
       "        text-align: right;\n",
       "    }\n",
       "\n",
       "    .dataframe thead th {\n",
       "        text-align: left;\n",
       "    }\n",
       "\n",
       "    .dataframe tbody tr th {\n",
       "        vertical-align: top;\n",
       "    }\n",
       "</style>\n",
       "<table border=\"1\" class=\"dataframe\">\n",
       "  <thead>\n",
       "    <tr style=\"text-align: right;\">\n",
       "      <th></th>\n",
       "      <th>asin</th>\n",
       "      <th>helpful</th>\n",
       "      <th>reviewText</th>\n",
       "      <th>overall</th>\n",
       "      <th>summary</th>\n",
       "      <th>description</th>\n",
       "      <th>title</th>\n",
       "      <th>categories_clean</th>\n",
       "      <th>review_length</th>\n",
       "      <th>sentiment_review</th>\n",
       "      <th>...</th>\n",
       "      <th>highest_sentiment</th>\n",
       "      <th>lowest_sentiment</th>\n",
       "      <th>highest_sent_ix</th>\n",
       "      <th>lowest_sent_ix</th>\n",
       "      <th>highest_sent_sent</th>\n",
       "      <th>lowest_sent_sent</th>\n",
       "      <th>review_blob_sentiment</th>\n",
       "      <th>sentiments_blob</th>\n",
       "      <th>highest_blob_sentiment</th>\n",
       "      <th>lowest_blob_sentiment</th>\n",
       "    </tr>\n",
       "  </thead>\n",
       "  <tbody>\n",
       "    <tr>\n",
       "      <th>0</th>\n",
       "      <td>929619730</td>\n",
       "      <td>[0, 0]</td>\n",
       "      <td>B-flax-D is a regular at our house. It does it...</td>\n",
       "      <td>5.0</td>\n",
       "      <td>Dpes the job well</td>\n",
       "      <td>Contains Organic Cold-Milled Flaxseed\\nValuabl...</td>\n",
       "      <td>New Generation B-Flax-D</td>\n",
       "      <td>Health &amp; Personal Care, Vitamins &amp; Dietary Sup...</td>\n",
       "      <td>224</td>\n",
       "      <td>0.9313</td>\n",
       "      <td>...</td>\n",
       "      <td>0.8271</td>\n",
       "      <td>0.0000</td>\n",
       "      <td>3</td>\n",
       "      <td>0</td>\n",
       "      <td>Good product, good price, good results.</td>\n",
       "      <td>B-flax-D is a regular at our house.</td>\n",
       "      <td>0.385000</td>\n",
       "      <td>[0.0, 0.35, 0.2625, 0.7]</td>\n",
       "      <td>0.700000</td>\n",
       "      <td>0.000000</td>\n",
       "    </tr>\n",
       "    <tr>\n",
       "      <th>1</th>\n",
       "      <td>978559088</td>\n",
       "      <td>[1, 1]</td>\n",
       "      <td>Studies show that Resveratrol is poorly absorb...</td>\n",
       "      <td>4.0</td>\n",
       "      <td>Fast shipping, good communication</td>\n",
       "      <td>Everyone knows that resveratrol is an amazing ...</td>\n",
       "      <td>Nutrihill Resveratrol Lozenges</td>\n",
       "      <td>Health &amp; Personal Care, Vitamins &amp; Dietary Sup...</td>\n",
       "      <td>334</td>\n",
       "      <td>0.9107</td>\n",
       "      <td>...</td>\n",
       "      <td>0.6705</td>\n",
       "      <td>0.0000</td>\n",
       "      <td>2</td>\n",
       "      <td>1</td>\n",
       "      <td>This company promises 99% purity and has fast ...</td>\n",
       "      <td>Hardly any companies are selling lozenges.</td>\n",
       "      <td>0.241667</td>\n",
       "      <td>[0.3, -0.291666666667, 0.45, 0.0]</td>\n",
       "      <td>0.450000</td>\n",
       "      <td>-0.291667</td>\n",
       "    </tr>\n",
       "    <tr>\n",
       "      <th>2</th>\n",
       "      <td>978559088</td>\n",
       "      <td>[1, 1]</td>\n",
       "      <td>I started taking this after both my parents di...</td>\n",
       "      <td>5.0</td>\n",
       "      <td>Bioavailability is the key</td>\n",
       "      <td>Everyone knows that resveratrol is an amazing ...</td>\n",
       "      <td>Nutrihill Resveratrol Lozenges</td>\n",
       "      <td>Health &amp; Personal Care, Vitamins &amp; Dietary Sup...</td>\n",
       "      <td>1065</td>\n",
       "      <td>-0.6615</td>\n",
       "      <td>...</td>\n",
       "      <td>0.7110</td>\n",
       "      <td>-0.5729</td>\n",
       "      <td>2</td>\n",
       "      <td>0</td>\n",
       "      <td>The ez-melt formula recommended in another rev...</td>\n",
       "      <td>I started taking this after both my parents di...</td>\n",
       "      <td>0.018968</td>\n",
       "      <td>[0.5, -0.277777777778, 0.422222222222, -0.2730...</td>\n",
       "      <td>0.800000</td>\n",
       "      <td>-0.357143</td>\n",
       "    </tr>\n",
       "    <tr>\n",
       "      <th>3</th>\n",
       "      <td>978559088</td>\n",
       "      <td>[0, 1]</td>\n",
       "      <td>I tried Nutrihill, but did not feel any of the...</td>\n",
       "      <td>1.0</td>\n",
       "      <td>Other Resveratrol Supplements are Better</td>\n",
       "      <td>Everyone knows that resveratrol is an amazing ...</td>\n",
       "      <td>Nutrihill Resveratrol Lozenges</td>\n",
       "      <td>Health &amp; Personal Care, Vitamins &amp; Dietary Sup...</td>\n",
       "      <td>568</td>\n",
       "      <td>0.9688</td>\n",
       "      <td>...</td>\n",
       "      <td>0.6369</td>\n",
       "      <td>0.0000</td>\n",
       "      <td>1</td>\n",
       "      <td>2</td>\n",
       "      <td>I started reading and realized that even thoug...</td>\n",
       "      <td>I then tried Resveratrol 150 from ezmelts.</td>\n",
       "      <td>0.085119</td>\n",
       "      <td>[0.0, 0.375, 0.0, 0.0, -0.107142857143, 0.0, -...</td>\n",
       "      <td>0.375000</td>\n",
       "      <td>-0.125000</td>\n",
       "    </tr>\n",
       "    <tr>\n",
       "      <th>4</th>\n",
       "      <td>978559088</td>\n",
       "      <td>[0, 0]</td>\n",
       "      <td>I really liked this product because it stayed ...</td>\n",
       "      <td>5.0</td>\n",
       "      <td>I can't find this product any longer, and I wi...</td>\n",
       "      <td>Everyone knows that resveratrol is an amazing ...</td>\n",
       "      <td>Nutrihill Resveratrol Lozenges</td>\n",
       "      <td>Health &amp; Personal Care, Vitamins &amp; Dietary Sup...</td>\n",
       "      <td>767</td>\n",
       "      <td>0.9611</td>\n",
       "      <td>...</td>\n",
       "      <td>0.7574</td>\n",
       "      <td>-0.1779</td>\n",
       "      <td>5</td>\n",
       "      <td>2</td>\n",
       "      <td>I really enjoyed taking these little pills and...</td>\n",
       "      <td>I can't find it anymore and wish I could still...</td>\n",
       "      <td>0.377083</td>\n",
       "      <td>[0.416666666667, 0.0, 0.0, 0.0, 0.0, 0.3375, 0...</td>\n",
       "      <td>0.416667</td>\n",
       "      <td>0.000000</td>\n",
       "    </tr>\n",
       "  </tbody>\n",
       "</table>\n",
       "<p>5 rows × 23 columns</p>\n",
       "</div>"
      ],
      "text/plain": [
       "        asin helpful                                         reviewText  \\\n",
       "0  929619730  [0, 0]  B-flax-D is a regular at our house. It does it...   \n",
       "1  978559088  [1, 1]  Studies show that Resveratrol is poorly absorb...   \n",
       "2  978559088  [1, 1]  I started taking this after both my parents di...   \n",
       "3  978559088  [0, 1]  I tried Nutrihill, but did not feel any of the...   \n",
       "4  978559088  [0, 0]  I really liked this product because it stayed ...   \n",
       "\n",
       "   overall                                            summary  \\\n",
       "0      5.0                                  Dpes the job well   \n",
       "1      4.0                  Fast shipping, good communication   \n",
       "2      5.0                         Bioavailability is the key   \n",
       "3      1.0           Other Resveratrol Supplements are Better   \n",
       "4      5.0  I can't find this product any longer, and I wi...   \n",
       "\n",
       "                                         description  \\\n",
       "0  Contains Organic Cold-Milled Flaxseed\\nValuabl...   \n",
       "1  Everyone knows that resveratrol is an amazing ...   \n",
       "2  Everyone knows that resveratrol is an amazing ...   \n",
       "3  Everyone knows that resveratrol is an amazing ...   \n",
       "4  Everyone knows that resveratrol is an amazing ...   \n",
       "\n",
       "                            title  \\\n",
       "0         New Generation B-Flax-D   \n",
       "1  Nutrihill Resveratrol Lozenges   \n",
       "2  Nutrihill Resveratrol Lozenges   \n",
       "3  Nutrihill Resveratrol Lozenges   \n",
       "4  Nutrihill Resveratrol Lozenges   \n",
       "\n",
       "                                    categories_clean  review_length  \\\n",
       "0  Health & Personal Care, Vitamins & Dietary Sup...            224   \n",
       "1  Health & Personal Care, Vitamins & Dietary Sup...            334   \n",
       "2  Health & Personal Care, Vitamins & Dietary Sup...           1065   \n",
       "3  Health & Personal Care, Vitamins & Dietary Sup...            568   \n",
       "4  Health & Personal Care, Vitamins & Dietary Sup...            767   \n",
       "\n",
       "   sentiment_review          ...            highest_sentiment  \\\n",
       "0            0.9313          ...                       0.8271   \n",
       "1            0.9107          ...                       0.6705   \n",
       "2           -0.6615          ...                       0.7110   \n",
       "3            0.9688          ...                       0.6369   \n",
       "4            0.9611          ...                       0.7574   \n",
       "\n",
       "  lowest_sentiment highest_sent_ix  lowest_sent_ix  \\\n",
       "0           0.0000               3               0   \n",
       "1           0.0000               2               1   \n",
       "2          -0.5729               2               0   \n",
       "3           0.0000               1               2   \n",
       "4          -0.1779               5               2   \n",
       "\n",
       "                                   highest_sent_sent  \\\n",
       "0            Good product, good price, good results.   \n",
       "1  This company promises 99% purity and has fast ...   \n",
       "2  The ez-melt formula recommended in another rev...   \n",
       "3  I started reading and realized that even thoug...   \n",
       "4  I really enjoyed taking these little pills and...   \n",
       "\n",
       "                                    lowest_sent_sent  review_blob_sentiment  \\\n",
       "0                B-flax-D is a regular at our house.               0.385000   \n",
       "1         Hardly any companies are selling lozenges.               0.241667   \n",
       "2  I started taking this after both my parents di...               0.018968   \n",
       "3         I then tried Resveratrol 150 from ezmelts.               0.085119   \n",
       "4  I can't find it anymore and wish I could still...               0.377083   \n",
       "\n",
       "                                     sentiments_blob highest_blob_sentiment  \\\n",
       "0                           [0.0, 0.35, 0.2625, 0.7]               0.700000   \n",
       "1                  [0.3, -0.291666666667, 0.45, 0.0]               0.450000   \n",
       "2  [0.5, -0.277777777778, 0.422222222222, -0.2730...               0.800000   \n",
       "3  [0.0, 0.375, 0.0, 0.0, -0.107142857143, 0.0, -...               0.375000   \n",
       "4  [0.416666666667, 0.0, 0.0, 0.0, 0.0, 0.3375, 0...               0.416667   \n",
       "\n",
       "   lowest_blob_sentiment  \n",
       "0               0.000000  \n",
       "1              -0.291667  \n",
       "2              -0.357143  \n",
       "3              -0.125000  \n",
       "4               0.000000  \n",
       "\n",
       "[5 rows x 23 columns]"
      ]
     },
     "execution_count": 38,
     "metadata": {},
     "output_type": "execute_result"
    }
   ],
   "source": [
    "small.head()"
   ]
  },
  {
   "cell_type": "code",
   "execution_count": 39,
   "metadata": {
    "ExecuteTime": {
     "end_time": "2018-04-11T22:33:09.313768Z",
     "start_time": "2018-04-11T22:33:09.279397Z"
    }
   },
   "outputs": [],
   "source": [
    "#small['highest_blob_sentiment'] = small.sentiments_blob.apply(max)\n",
    "#small['lowest_blob_sentiment'] = small.sentiments_blob.apply(min)\n",
    "\n",
    "# get associated sentences  \n",
    "small['highest_blob_sent_ix'] = small[['sentiments_blob', 'highest_blob_sentiment']].apply(lambda x: x[0].index(x[1]), axis = 1)\n",
    "small['lowest_blob_sent_ix'] = small[['sentiments_blob', 'lowest_blob_sentiment']].apply(lambda x: x[0].index(x[1]), axis = 1)\n",
    "\n",
    "small['highest_blob_sent_sent'] = small[['tokenized_sentences', 'highest_blob_sent_ix']].apply(lambda x: x[0][x[1]], axis = 1)\n",
    "small['lowest_blob_sent_sent'] = small[['tokenized_sentences', 'lowest_blob_sent_ix']].apply(lambda x: x[0][x[1]], axis = 1)"
   ]
  },
  {
   "cell_type": "markdown",
   "metadata": {},
   "source": [
    "#### spot checks"
   ]
  },
  {
   "cell_type": "code",
   "execution_count": 44,
   "metadata": {
    "ExecuteTime": {
     "end_time": "2018-04-11T22:35:36.421977Z",
     "start_time": "2018-04-11T22:35:36.415130Z"
    }
   },
   "outputs": [
    {
     "data": {
      "text/plain": [
       "asin                        int64\n",
       "helpful                    object\n",
       "reviewText                 object\n",
       "overall                   float64\n",
       "summary                    object\n",
       "description                object\n",
       "title                      object\n",
       "categories_clean           object\n",
       "review_length               int64\n",
       "sentiment_review          float64\n",
       "sentiment_summary         float64\n",
       "tokenized_sentences        object\n",
       "sentiments                 object\n",
       "highest_sentiment         float64\n",
       "lowest_sentiment          float64\n",
       "highest_sent_ix             int64\n",
       "lowest_sent_ix              int64\n",
       "highest_sent_sent          object\n",
       "lowest_sent_sent           object\n",
       "review_blob_sentiment     float64\n",
       "sentiments_blob            object\n",
       "highest_blob_sentiment    float64\n",
       "lowest_blob_sentiment     float64\n",
       "highest_blob_sent_ix        int64\n",
       "lowest_blob_sent_ix         int64\n",
       "highest_blob_sent_sent     object\n",
       "lowest_blob_sent_sent      object\n",
       "dtype: object"
      ]
     },
     "execution_count": 44,
     "metadata": {},
     "output_type": "execute_result"
    }
   ],
   "source": [
    "small.dtypes"
   ]
  },
  {
   "cell_type": "code",
   "execution_count": 46,
   "metadata": {
    "ExecuteTime": {
     "end_time": "2018-04-11T22:36:23.770273Z",
     "start_time": "2018-04-11T22:36:23.746973Z"
    }
   },
   "outputs": [
    {
     "data": {
      "text/html": [
       "<div>\n",
       "<style>\n",
       "    .dataframe thead tr:only-child th {\n",
       "        text-align: right;\n",
       "    }\n",
       "\n",
       "    .dataframe thead th {\n",
       "        text-align: left;\n",
       "    }\n",
       "\n",
       "    .dataframe tbody tr th {\n",
       "        vertical-align: top;\n",
       "    }\n",
       "</style>\n",
       "<table border=\"1\" class=\"dataframe\">\n",
       "  <thead>\n",
       "    <tr style=\"text-align: right;\">\n",
       "      <th></th>\n",
       "      <th>highest_sent_sent</th>\n",
       "      <th>highest_sentiment</th>\n",
       "      <th>highest_blob_sent_sent</th>\n",
       "      <th>highest_blob_sentiment</th>\n",
       "      <th>lowest_sent_sent</th>\n",
       "      <th>lowest_sentiment</th>\n",
       "      <th>lowest_blob_sent_sent</th>\n",
       "      <th>lowest_blob_sentiment</th>\n",
       "    </tr>\n",
       "  </thead>\n",
       "  <tbody>\n",
       "    <tr>\n",
       "      <th>0</th>\n",
       "      <td>Good product, good price, good results.</td>\n",
       "      <td>0.8271</td>\n",
       "      <td>Good product, good price, good results.</td>\n",
       "      <td>0.700000</td>\n",
       "      <td>B-flax-D is a regular at our house.</td>\n",
       "      <td>0.0000</td>\n",
       "      <td>B-flax-D is a regular at our house.</td>\n",
       "      <td>0.000000</td>\n",
       "    </tr>\n",
       "    <tr>\n",
       "      <th>1</th>\n",
       "      <td>This company promises 99% purity and has fast ...</td>\n",
       "      <td>0.6705</td>\n",
       "      <td>This company promises 99% purity and has fast ...</td>\n",
       "      <td>0.450000</td>\n",
       "      <td>Hardly any companies are selling lozenges.</td>\n",
       "      <td>0.0000</td>\n",
       "      <td>Hardly any companies are selling lozenges.</td>\n",
       "      <td>-0.291667</td>\n",
       "    </tr>\n",
       "    <tr>\n",
       "      <th>2</th>\n",
       "      <td>The ez-melt formula recommended in another rev...</td>\n",
       "      <td>0.7110</td>\n",
       "      <td>Since then, I've had no colds or sore throats ...</td>\n",
       "      <td>0.800000</td>\n",
       "      <td>I started taking this after both my parents di...</td>\n",
       "      <td>-0.5729</td>\n",
       "      <td>But I never did get as sick as anticipated - t...</td>\n",
       "      <td>-0.357143</td>\n",
       "    </tr>\n",
       "    <tr>\n",
       "      <th>3</th>\n",
       "      <td>I started reading and realized that even thoug...</td>\n",
       "      <td>0.6369</td>\n",
       "      <td>I started reading and realized that even thoug...</td>\n",
       "      <td>0.375000</td>\n",
       "      <td>I then tried Resveratrol 150 from ezmelts.</td>\n",
       "      <td>0.0000</td>\n",
       "      <td>You can find ezmelts here on amazon, ebay and ...</td>\n",
       "      <td>-0.125000</td>\n",
       "    </tr>\n",
       "    <tr>\n",
       "      <th>4</th>\n",
       "      <td>I really enjoyed taking these little pills and...</td>\n",
       "      <td>0.7574</td>\n",
       "      <td>I really liked this product because it stayed ...</td>\n",
       "      <td>0.416667</td>\n",
       "      <td>I can't find it anymore and wish I could still...</td>\n",
       "      <td>-0.1779</td>\n",
       "      <td>I take a number of resveratrol products and th...</td>\n",
       "      <td>0.000000</td>\n",
       "    </tr>\n",
       "  </tbody>\n",
       "</table>\n",
       "</div>"
      ],
      "text/plain": [
       "                                   highest_sent_sent  highest_sentiment  \\\n",
       "0            Good product, good price, good results.             0.8271   \n",
       "1  This company promises 99% purity and has fast ...             0.6705   \n",
       "2  The ez-melt formula recommended in another rev...             0.7110   \n",
       "3  I started reading and realized that even thoug...             0.6369   \n",
       "4  I really enjoyed taking these little pills and...             0.7574   \n",
       "\n",
       "                              highest_blob_sent_sent  highest_blob_sentiment  \\\n",
       "0            Good product, good price, good results.                0.700000   \n",
       "1  This company promises 99% purity and has fast ...                0.450000   \n",
       "2  Since then, I've had no colds or sore throats ...                0.800000   \n",
       "3  I started reading and realized that even thoug...                0.375000   \n",
       "4  I really liked this product because it stayed ...                0.416667   \n",
       "\n",
       "                                    lowest_sent_sent  lowest_sentiment  \\\n",
       "0                B-flax-D is a regular at our house.            0.0000   \n",
       "1         Hardly any companies are selling lozenges.            0.0000   \n",
       "2  I started taking this after both my parents di...           -0.5729   \n",
       "3         I then tried Resveratrol 150 from ezmelts.            0.0000   \n",
       "4  I can't find it anymore and wish I could still...           -0.1779   \n",
       "\n",
       "                               lowest_blob_sent_sent  lowest_blob_sentiment  \n",
       "0                B-flax-D is a regular at our house.               0.000000  \n",
       "1         Hardly any companies are selling lozenges.              -0.291667  \n",
       "2  But I never did get as sick as anticipated - t...              -0.357143  \n",
       "3  You can find ezmelts here on amazon, ebay and ...              -0.125000  \n",
       "4  I take a number of resveratrol products and th...               0.000000  "
      ]
     },
     "execution_count": 46,
     "metadata": {},
     "output_type": "execute_result"
    }
   ],
   "source": [
    "small[['highest_sent_sent', 'highest_sentiment',\\\n",
    "       'highest_blob_sent_sent', 'highest_blob_sentiment',\\\n",
    "       'lowest_sent_sent', 'lowest_sentiment',\\\n",
    "       'lowest_blob_sent_sent', 'lowest_blob_sentiment']].head()"
   ]
  },
  {
   "cell_type": "code",
   "execution_count": 78,
   "metadata": {
    "ExecuteTime": {
     "end_time": "2018-04-11T22:53:17.869525Z",
     "start_time": "2018-04-11T22:53:17.862308Z"
    }
   },
   "outputs": [
    {
     "name": "stdout",
     "output_type": "stream",
     "text": [
      "median: 0.1 \n",
      "mean:   0.23 \n",
      "max:    0.79\n"
     ]
    }
   ],
   "source": [
    "import numpy as np\n",
    "highest_diff = small.highest_sentiment - small.highest_blob_sentiment\n",
    "print 'median:', round(np.median(highest_diff),2),'\\n' 'mean:  ', round(np.mean(abs(highest_diff)),2), '\\n', 'max:   ', round(np.max(abs(highest_diff)),2)"
   ]
  },
  {
   "cell_type": "code",
   "execution_count": 82,
   "metadata": {
    "ExecuteTime": {
     "end_time": "2018-04-11T22:54:31.141057Z",
     "start_time": "2018-04-11T22:54:30.912689Z"
    }
   },
   "outputs": [
    {
     "data": {
      "text/plain": [
       "(array([  4.,   3.,  10.,  12.,  19.,  20.,  17.,  11.,   3.,   1.]),\n",
       " array([-0.6    , -0.46056, -0.32112, -0.18168, -0.04224,  0.0972 ,\n",
       "         0.23664,  0.37608,  0.51552,  0.65496,  0.7944 ]),\n",
       " <a list of 10 Patch objects>)"
      ]
     },
     "execution_count": 82,
     "metadata": {},
     "output_type": "execute_result"
    },
    {
     "data": {
      "image/png": "[encoded data removed]",
      "text/plain": [
       "<Figure size 432x288 with 1 Axes>"
      ]
     },
     "metadata": {},
     "output_type": "display_data"
    }
   ],
   "source": [
    "plt.hist(highest_diff) # vader high - textblob high "
   ]
  },
  {
   "cell_type": "markdown",
   "metadata": {},
   "source": [
    "Values plotted are VADER max - TextBlob max. We see that the center of the histogram is slightly off 0 in the positive direction, which indicates that VADER max > TextBlob max more often than the other way around. In other words, VADER overestimates positive sentiment more than TextBlob."
   ]
  },
  {
   "cell_type": "code",
   "execution_count": 79,
   "metadata": {
    "ExecuteTime": {
     "end_time": "2018-04-11T22:53:37.299764Z",
     "start_time": "2018-04-11T22:53:37.293750Z"
    }
   },
   "outputs": [
    {
     "name": "stdout",
     "output_type": "stream",
     "text": [
      "median: 0.0 \n",
      "mean:   0.19 \n",
      "max:    1.0\n"
     ]
    }
   ],
   "source": [
    "lowest_diff = small.lowest_sentiment - small.lowest_blob_sentiment\n",
    "print 'median:', round(np.median(lowest_diff),2),'\\n' 'mean:  ', round(np.mean(abs(lowest_diff)),2), '\\n', 'max:   ', round(np.max(abs(lowest_diff)),2)"
   ]
  },
  {
   "cell_type": "code",
   "execution_count": 83,
   "metadata": {
    "ExecuteTime": {
     "end_time": "2018-04-11T22:55:01.591409Z",
     "start_time": "2018-04-11T22:55:01.457181Z"
    }
   },
   "outputs": [
    {
     "data": {
      "text/plain": [
       "(array([  8.,   7.,   8.,  38.,  22.,   8.,   6.,   2.,   0.,   1.]),\n",
       " array([-0.5859 , -0.42712, -0.26834, -0.10956,  0.04922,  0.208  ,\n",
       "         0.36678,  0.52556,  0.68434,  0.84312,  1.0019 ]),\n",
       " <a list of 10 Patch objects>)"
      ]
     },
     "execution_count": 83,
     "metadata": {},
     "output_type": "execute_result"
    },
    {
     "data": {
      "image/png": "[encoded data removed]",
      "text/plain": [
       "<Figure size 432x288 with 1 Axes>"
      ]
     },
     "metadata": {},
     "output_type": "display_data"
    }
   ],
   "source": [
    "plt.hist(lowest_diff) "
   ]
  },
  {
   "cell_type": "markdown",
   "metadata": {},
   "source": [
    "Values plotted are VADER max - TextBlob max. While the highest density is over 0, we see that the densities over the postive deviations (indicating VADER estimates > TextBlob estimates) are just under 2x the density over the negative deviations (indicating that TextBlob estimates > Vader estimates)."
   ]
  },
  {
   "cell_type": "code",
   "execution_count": 89,
   "metadata": {
    "ExecuteTime": {
     "end_time": "2018-04-11T23:04:45.338815Z",
     "start_time": "2018-04-11T23:04:45.335538Z"
    }
   },
   "outputs": [],
   "source": [
    "overall_diff = small.sentiment_review - small.review_blob_sentiment"
   ]
  },
  {
   "cell_type": "code",
   "execution_count": 92,
   "metadata": {
    "ExecuteTime": {
     "end_time": "2018-04-11T23:04:56.988360Z",
     "start_time": "2018-04-11T23:04:56.863392Z"
    }
   },
   "outputs": [
    {
     "data": {
      "text/plain": [
       "(array([  6.,   6.,   5.,   6.,   8.,  10.,  15.,  12.,  17.,  15.]),\n",
       " array([-0.823275  , -0.6525794 , -0.48188381, -0.31118821, -0.14049262,\n",
       "         0.03020298,  0.20089857,  0.37159417,  0.54228976,  0.71298536,\n",
       "         0.88368095]),\n",
       " <a list of 10 Patch objects>)"
      ]
     },
     "execution_count": 92,
     "metadata": {},
     "output_type": "execute_result"
    },
    {
     "data": {
      "image/png": "[encoded data removed]",
      "text/plain": [
       "<Figure size 432x288 with 1 Axes>"
      ]
     },
     "metadata": {},
     "output_type": "display_data"
    }
   ],
   "source": [
    "plt.hist(overall_diff) "
   ]
  },
  {
   "cell_type": "markdown",
   "metadata": {
    "ExecuteTime": {
     "end_time": "2018-04-11T23:05:56.385483Z",
     "start_time": "2018-04-11T23:05:56.381306Z"
    }
   },
   "source": [
    "The distribution is obviously skewed positive. VADER definitely predicts positive more than TextBlob."
   ]
  },
  {
   "cell_type": "code",
   "execution_count": 94,
   "metadata": {
    "ExecuteTime": {
     "end_time": "2018-04-11T23:16:19.799779Z",
     "start_time": "2018-04-11T23:16:19.795027Z"
    }
   },
   "outputs": [],
   "source": [
    "small['highest_diff'] = small.highest_sentiment - small.highest_blob_sentiment\n",
    "small['lowest_diff'] = lowest_diff = small.lowest_sentiment - small.lowest_blob_sentiment\n",
    "### what to do with this meansure??"
   ]
  },
  {
   "cell_type": "markdown",
   "metadata": {},
   "source": [
    "Rules:\n",
    "\n",
    "Where both VADER and TextBlob predict positive: choose mean\n",
    "\n",
    "Where VADER predicts positive and TextBlob negative: choose TextBlob"
   ]
  },
  {
   "cell_type": "markdown",
   "metadata": {},
   "source": [
    "### TFIDF w Sentiment\n",
    "\n",
    "- TFIDF on entire review \n",
    "- TFIDF on highest/lowest sentiment sentences\n",
    "- Embeddings of? Average embedding per..?\n",
    "- Cluster embeddings?"
   ]
  },
  {
   "cell_type": "markdown",
   "metadata": {},
   "source": [
    "## Topic Modelling"
   ]
  },
  {
   "cell_type": "code",
   "execution_count": 133,
   "metadata": {
    "ExecuteTime": {
     "end_time": "2018-04-18T17:49:04.644415Z",
     "start_time": "2018-04-18T17:49:04.548124Z"
    }
   },
   "outputs": [],
   "source": [
    "from sklearn.decomposition import NMF, LatentDirichletAllocation"
   ]
  },
  {
   "cell_type": "markdown",
   "metadata": {},
   "source": [
    "### On TFIDF-based keywords "
   ]
  },
  {
   "cell_type": "markdown",
   "metadata": {},
   "source": [
    "#### NMF"
   ]
  },
  {
   "cell_type": "code",
   "execution_count": 134,
   "metadata": {
    "ExecuteTime": {
     "end_time": "2018-04-18T17:50:11.450028Z",
     "start_time": "2018-04-18T17:50:11.443052Z"
    },
    "scrolled": true
   },
   "outputs": [
    {
     "data": {
      "text/plain": [
       "['',\n",
       " '\\\\',\n",
       " '\\\\\\\\',\n",
       " u'\\\\bought',\n",
       " u'\\\\day',\n",
       " u'\\\\dye',\n",
       " u'\\\\get',\n",
       " u'\\\\heart',\n",
       " '\\\\i',\n",
       " u'\\\\jarrow']"
      ]
     },
     "execution_count": 134,
     "metadata": {},
     "output_type": "execute_result"
    }
   ],
   "source": [
    "# leverage features pulled from Section 2 \n",
    "feature_names[:10]"
   ]
  },
  {
   "cell_type": "code",
   "execution_count": 139,
   "metadata": {
    "ExecuteTime": {
     "end_time": "2018-04-18T17:52:40.699980Z",
     "start_time": "2018-04-18T17:52:40.694717Z"
    }
   },
   "outputs": [
    {
     "data": {
      "text/plain": [
       "<41043x75670 sparse matrix of type '<type 'numpy.float64'>'\n",
       "\twith 4243046 stored elements in Compressed Sparse Row format>"
      ]
     },
     "execution_count": 139,
     "metadata": {},
     "output_type": "execute_result"
    }
   ],
   "source": [
    "tfidf_matrix # on cleaner tokens "
   ]
  },
  {
   "cell_type": "code",
   "execution_count": 146,
   "metadata": {
    "ExecuteTime": {
     "end_time": "2018-04-18T17:57:04.236969Z",
     "start_time": "2018-04-18T17:56:55.165464Z"
    }
   },
   "outputs": [],
   "source": [
    "# if n_components=no_topics --> all features are kept\n",
    "nmf = NMF(n_components=4, random_state=1, alpha=.1, l1_ratio=.5, init='nndsvd').fit(tfidf_matrix)"
   ]
  },
  {
   "cell_type": "code",
   "execution_count": 147,
   "metadata": {
    "ExecuteTime": {
     "end_time": "2018-04-18T17:57:10.659250Z",
     "start_time": "2018-04-18T17:57:10.646160Z"
    }
   },
   "outputs": [
    {
     "name": "stdout",
     "output_type": "stream",
     "text": [
      "Topic 0:\n",
      "product use work help day year recommend t great feel\n",
      "Topic 1:\n",
      "weight lost lose pound product eat loss work appetit energi\n",
      "Topic 2:\n",
      "vitamin multi pill t supplement swallow iron like need love\n",
      "Topic 3:\n",
      "tast flavor oil great fish good like mix drink protein\n"
     ]
    }
   ],
   "source": [
    "num_top_words = 10\n",
    "for topic_idx, topic in enumerate(nmf.components_):\n",
    "    print(\"Topic %d:\" % (topic_idx))\n",
    "    print(\" \".join([feature_names[i]\n",
    "                    for i in topic.argsort()[:-num_top_words - 1:-1]]))"
   ]
  },
  {
   "cell_type": "markdown",
   "metadata": {},
   "source": [
    "#### LDA"
   ]
  },
  {
   "cell_type": "code",
   "execution_count": 148,
   "metadata": {
    "ExecuteTime": {
     "end_time": "2018-04-18T17:58:09.091577Z",
     "start_time": "2018-04-18T17:57:30.835417Z"
    }
   },
   "outputs": [],
   "source": [
    "lda = LatentDirichletAllocation(n_topics=4, max_iter=5, learning_method='online', learning_offset=50.,random_state=0).fit(tfidf_matrix)"
   ]
  },
  {
   "cell_type": "code",
   "execution_count": 149,
   "metadata": {
    "ExecuteTime": {
     "end_time": "2018-04-18T17:58:11.525546Z",
     "start_time": "2018-04-18T17:58:11.498867Z"
    }
   },
   "outputs": [
    {
     "name": "stdout",
     "output_type": "stream",
     "text": [
      "Topic 0:\n",
      "anyonewho cypress fraganc avoidth resulti nsync extractshow thansa lazor meatbal\n",
      "Topic 1:\n",
      "ambrotos flp aloework opos youthl younot frind privin larch gentlyand\n",
      "Topic 2:\n",
      "que producto el la es en muy y lo para\n",
      "Topic 3:\n",
      "product use work great t good help day recommend like\n"
     ]
    }
   ],
   "source": [
    "num_top_words = 10\n",
    "for topic_idx, topic in enumerate(lda.components_):\n",
    "    print(\"Topic %d:\" % (topic_idx))\n",
    "    print(\" \".join([feature_names[i]\n",
    "                    for i in topic.argsort()[:-num_top_words - 1:-1]]))"
   ]
  },
  {
   "cell_type": "markdown",
   "metadata": {},
   "source": [
    "### On all tokens"
   ]
  },
  {
   "cell_type": "code",
   "execution_count": null,
   "metadata": {},
   "outputs": [],
   "source": []
  },
  {
   "cell_type": "code",
   "execution_count": null,
   "metadata": {},
   "outputs": [],
   "source": [
    "# Step-2: Create a vocabulary for the lda model and also convert our corpus into document-term matrix for Lda\n",
    "dictionary = corpora.Dictionary(dataList)\n",
    "doc_term_matrix = [dictionary.doc2bow(doc) for doc in skillList]"
   ]
  }
 ],
 "metadata": {
  "kernelspec": {
   "display_name": "Python 2",
   "language": "python",
   "name": "python2"
  },
  "language_info": {
   "codemirror_mode": {
    "name": "ipython",
    "version": 3
   },
   "file_extension": ".py",
   "mimetype": "text/x-python",
   "name": "python",
   "nbconvert_exporter": "python",
   "pygments_lexer": "ipython3",
   "version": "3.6.5"
  },
  "toc": {
   "nav_menu": {},
   "number_sections": true,
   "sideBar": true,
   "skip_h1_title": false,
   "title_cell": "Table of Contents",
   "title_sidebar": "Contents",
   "toc_cell": false,
   "toc_position": {
    "height": "calc(100% - 180px)",
    "left": "10px",
    "top": "150px",
    "width": "313px"
   },
   "toc_section_display": true,
   "toc_window_display": true
  },
  "varInspector": {
   "cols": {
    "lenName": 16,
    "lenType": 16,
    "lenVar": 40
   },
   "kernels_config": {
    "python": {
     "delete_cmd_postfix": "",
     "delete_cmd_prefix": "del ",
     "library": "var_list.py",
     "varRefreshCmd": "print(var_dic_list())"
    },
    "r": {
     "delete_cmd_postfix": ") ",
     "delete_cmd_prefix": "rm(",
     "library": "var_list.r",
     "varRefreshCmd": "cat(var_dic_list()) "
    }
   },
   "types_to_exclude": [
    "module",
    "function",
    "builtin_function_or_method",
    "instance",
    "_Feature"
   ],
   "window_display": false
  }
 },
 "nbformat": 4,
 "nbformat_minor": 2
}
