{
 "cells": [
  {
   "cell_type": "code",
   "execution_count": 2,
   "metadata": {},
   "outputs": [],
   "source": [
    "%matplotlib inline\n",
    "%load_ext autoreload\n",
    "%autoreload 2"
   ]
  },
  {
   "cell_type": "code",
   "execution_count": 3,
   "metadata": {},
   "outputs": [],
   "source": [
    "import pandas as pd\n",
    "import numpy as np\n",
    "import spacy\n",
    "from gensim.models import Phrases\n",
    "from gensim.models.word2vec import LineSentence\n",
    "\n",
    "from tqdm._tqdm_notebook import tqdm, tqdm_notebook, tnrange\n",
    "from S3_read_write import load_df_s3, save_df_s3\n",
    "\n",
    "from IPython.display import Image\n",
    "from IPython.core.display import HTML "
   ]
  },
  {
   "cell_type": "code",
   "execution_count": 4,
   "metadata": {},
   "outputs": [],
   "source": [
    "tqdm_notebook.pandas('Progress')"
   ]
  },
  {
   "cell_type": "code",
   "execution_count": 5,
   "metadata": {},
   "outputs": [],
   "source": [
    "bucket_name = 'amazon-reviews-project'"
   ]
  },
  {
   "cell_type": "markdown",
   "metadata": {},
   "source": [
    "# Load Amazon Reviews Data"
   ]
  },
  {
   "cell_type": "code",
   "execution_count": 30,
   "metadata": {},
   "outputs": [],
   "source": [
    "reviews = load_df_s3(bucket_name, 'amazon_reviews/reviews_data_clean', filetype='text', sep='|')"
   ]
  },
  {
   "cell_type": "code",
   "execution_count": 31,
   "metadata": {},
   "outputs": [
    {
     "data": {
      "text/plain": [
       "(585444, 8)"
      ]
     },
     "execution_count": 31,
     "metadata": {},
     "output_type": "execute_result"
    }
   ],
   "source": [
    "reviews.shape    # 585,444 records"
   ]
  },
  {
   "cell_type": "code",
   "execution_count": 32,
   "metadata": {},
   "outputs": [
    {
     "data": {
      "text/html": [
       "<div>\n",
       "<style scoped>\n",
       "    .dataframe tbody tr th:only-of-type {\n",
       "        vertical-align: middle;\n",
       "    }\n",
       "\n",
       "    .dataframe tbody tr th {\n",
       "        vertical-align: top;\n",
       "    }\n",
       "\n",
       "    .dataframe thead th {\n",
       "        text-align: right;\n",
       "    }\n",
       "</style>\n",
       "<table border=\"1\" class=\"dataframe\">\n",
       "  <thead>\n",
       "    <tr style=\"text-align: right;\">\n",
       "      <th></th>\n",
       "      <th>asin</th>\n",
       "      <th>helpful</th>\n",
       "      <th>reviewText</th>\n",
       "      <th>overall</th>\n",
       "      <th>summary</th>\n",
       "      <th>description</th>\n",
       "      <th>title</th>\n",
       "      <th>categories_clean</th>\n",
       "    </tr>\n",
       "  </thead>\n",
       "  <tbody>\n",
       "    <tr>\n",
       "      <th>0</th>\n",
       "      <td>0929619730</td>\n",
       "      <td>[0, 0]</td>\n",
       "      <td>B-flax-D is a re...</td>\n",
       "      <td>5.0</td>\n",
       "      <td>Dpes the job well</td>\n",
       "      <td>Contains Organic...</td>\n",
       "      <td>New Generation B...</td>\n",
       "      <td>Health &amp; Persona...</td>\n",
       "    </tr>\n",
       "    <tr>\n",
       "      <th>1</th>\n",
       "      <td>0978559088</td>\n",
       "      <td>[1, 1]</td>\n",
       "      <td>Studies show tha...</td>\n",
       "      <td>4.0</td>\n",
       "      <td>Fast shipping, g...</td>\n",
       "      <td>Everyone knows t...</td>\n",
       "      <td>Nutrihill Resver...</td>\n",
       "      <td>Health &amp; Persona...</td>\n",
       "    </tr>\n",
       "    <tr>\n",
       "      <th>2</th>\n",
       "      <td>0978559088</td>\n",
       "      <td>[1, 1]</td>\n",
       "      <td>I started taking...</td>\n",
       "      <td>5.0</td>\n",
       "      <td>Bioavailability ...</td>\n",
       "      <td>Everyone knows t...</td>\n",
       "      <td>Nutrihill Resver...</td>\n",
       "      <td>Health &amp; Persona...</td>\n",
       "    </tr>\n",
       "    <tr>\n",
       "      <th>3</th>\n",
       "      <td>0978559088</td>\n",
       "      <td>[0, 1]</td>\n",
       "      <td>I tried Nutrihil...</td>\n",
       "      <td>1.0</td>\n",
       "      <td>Other Resveratro...</td>\n",
       "      <td>Everyone knows t...</td>\n",
       "      <td>Nutrihill Resver...</td>\n",
       "      <td>Health &amp; Persona...</td>\n",
       "    </tr>\n",
       "    <tr>\n",
       "      <th>4</th>\n",
       "      <td>0978559088</td>\n",
       "      <td>[0, 0]</td>\n",
       "      <td>I really liked t...</td>\n",
       "      <td>5.0</td>\n",
       "      <td>I can't find thi...</td>\n",
       "      <td>Everyone knows t...</td>\n",
       "      <td>Nutrihill Resver...</td>\n",
       "      <td>Health &amp; Persona...</td>\n",
       "    </tr>\n",
       "  </tbody>\n",
       "</table>\n",
       "</div>"
      ],
      "text/plain": [
       "         asin helpful           reviewText  overall              summary  \\\n",
       "0  0929619730  [0, 0]  B-flax-D is a re...      5.0    Dpes the job well   \n",
       "1  0978559088  [1, 1]  Studies show tha...      4.0  Fast shipping, g...   \n",
       "2  0978559088  [1, 1]  I started taking...      5.0  Bioavailability ...   \n",
       "3  0978559088  [0, 1]  I tried Nutrihil...      1.0  Other Resveratro...   \n",
       "4  0978559088  [0, 0]  I really liked t...      5.0  I can't find thi...   \n",
       "\n",
       "           description                title     categories_clean  \n",
       "0  Contains Organic...  New Generation B...  Health & Persona...  \n",
       "1  Everyone knows t...  Nutrihill Resver...  Health & Persona...  \n",
       "2  Everyone knows t...  Nutrihill Resver...  Health & Persona...  \n",
       "3  Everyone knows t...  Nutrihill Resver...  Health & Persona...  \n",
       "4  Everyone knows t...  Nutrihill Resver...  Health & Persona...  "
      ]
     },
     "execution_count": 32,
     "metadata": {},
     "output_type": "execute_result"
    }
   ],
   "source": [
    "reviews.head()"
   ]
  },
  {
   "cell_type": "code",
   "execution_count": 33,
   "metadata": {},
   "outputs": [
    {
     "data": {
      "text/plain": [
       "asin                 object\n",
       "helpful              object\n",
       "reviewText           object\n",
       "overall             float64\n",
       "summary              object\n",
       "description          object\n",
       "title                object\n",
       "categories_clean     object\n",
       "dtype: object"
      ]
     },
     "execution_count": 33,
     "metadata": {},
     "output_type": "execute_result"
    }
   ],
   "source": [
    "reviews.dtypes"
   ]
  },
  {
   "cell_type": "markdown",
   "metadata": {},
   "source": [
    "## Data Cleaning"
   ]
  },
  {
   "cell_type": "code",
   "execution_count": 52,
   "metadata": {},
   "outputs": [
    {
     "data": {
      "text/plain": [
       "array(['Health & Personal Care, Vitamins & Dietary Supplements, Multi & Prenatal Vitamins, Multiple Vitamin-Mineral Supplements',\n",
       "       'Health & Personal Care, Vitamins & Dietary Supplements, Supplements, Antioxidants, Resveratrol',\n",
       "       'Health & Personal Care, Vitamins & Dietary Supplements, Multi & Prenatal Vitamins, Multivitamins',\n",
       "       'Health & Personal Care, Vitamins & Dietary Supplements, Vitamins, Vitamin B, B3 (Niacin)',\n",
       "       'Health & Personal Care, Vitamins & Dietary Supplements, Herbal Supplements',\n",
       "       'Health & Personal Care, Vitamins & Dietary Supplements, Herbal Supplements, Green Tea',\n",
       "       'Health & Personal Care, Vitamins & Dietary Supplements, Weight Loss, Supplements, Green Coffee Bean Extract',\n",
       "       'Health & Personal Care, Vitamins & Dietary Supplements, Weight Loss, Supplements',\n",
       "       'Health & Personal Care, Vitamins & Dietary Supplements, Supplements, Antioxidants, CoQ10',\n",
       "       'Health & Personal Care, Vitamins & Dietary Supplements, Herbal Supplements, Ginkgo Biloba'],\n",
       "      dtype=object)"
      ]
     },
     "execution_count": 52,
     "metadata": {},
     "output_type": "execute_result"
    }
   ],
   "source": [
    "reviews.categories_clean.unique()[:10]"
   ]
  },
  {
   "cell_type": "markdown",
   "metadata": {},
   "source": [
    "The catergories' list indicates that there may be some reviews in the dataset unrelated to health supplements.  Let's get rid of these."
   ]
  },
  {
   "cell_type": "code",
   "execution_count": 35,
   "metadata": {},
   "outputs": [
    {
     "data": {
      "text/plain": [
       "array(['Liturgy of St. John Chrysostom', 'Origins',\n",
       "       'Sounds of the Earth: Soft Ocean Sounds', 'Bali',\n",
       "       'Tranquil Waters', 'Bach: St. John Passion, BWV 245',\n",
       "       '21st Century Soul', 'Bodies for Strontium', \"John's Bunch\",\n",
       "       'An Evening of Paganini', \"John's Other Bunch\",\n",
       "       'Sus Mas Grandes Exitos', 'Complex Simplicity',\n",
       "       'Kidnapped By Neptune', 'Roman Chant / Easter Vespers', 'Dead 60s',\n",
       "       \"Cilla in the 60's\", 'Chromium', 'Letters From the Vitamin Sea',\n",
       "       'The Stinging Nettles', 'Tendres Annees 60', 'Wehiwehi Hawaii',\n",
       "       'none'], dtype=object)"
      ]
     },
     "execution_count": 35,
     "metadata": {},
     "output_type": "execute_result"
    }
   ],
   "source": [
    "reviews[reviews.categories_clean.str.contains('CDs & Vinyl')].title.unique()"
   ]
  },
  {
   "cell_type": "code",
   "execution_count": 36,
   "metadata": {},
   "outputs": [
    {
     "data": {
      "text/plain": [
       "263"
      ]
     },
     "execution_count": 36,
     "metadata": {},
     "output_type": "execute_result"
    }
   ],
   "source": [
    "len(reviews[reviews.categories_clean.str.contains('CDs & Vinyl')])"
   ]
  },
  {
   "cell_type": "markdown",
   "metadata": {},
   "source": [
    "The product titles shown above are all music albums/songs."
   ]
  },
  {
   "cell_type": "code",
   "execution_count": 37,
   "metadata": {},
   "outputs": [],
   "source": [
    "reviews_filt = reviews[~(reviews.categories_clean.str.contains('CDs & Vinyl'))]   # remove rows with category including 'CDs & Vinyl'"
   ]
  },
  {
   "cell_type": "code",
   "execution_count": 51,
   "metadata": {},
   "outputs": [
    {
     "data": {
      "text/plain": [
       "array(['Health & Personal Care, Vitamins & Dietary Supplements, Multi & Prenatal Vitamins, Multiple Vitamin-Mineral Supplements',\n",
       "       'Health & Personal Care, Vitamins & Dietary Supplements, Supplements, Antioxidants, Resveratrol',\n",
       "       'Health & Personal Care, Vitamins & Dietary Supplements, Multi & Prenatal Vitamins, Multivitamins',\n",
       "       'Health & Personal Care, Vitamins & Dietary Supplements, Vitamins, Vitamin B, B3 (Niacin)',\n",
       "       'Health & Personal Care, Vitamins & Dietary Supplements, Herbal Supplements',\n",
       "       'Health & Personal Care, Vitamins & Dietary Supplements, Herbal Supplements, Green Tea',\n",
       "       'Health & Personal Care, Vitamins & Dietary Supplements, Weight Loss, Supplements, Green Coffee Bean Extract',\n",
       "       'Health & Personal Care, Vitamins & Dietary Supplements, Weight Loss, Supplements',\n",
       "       'Health & Personal Care, Vitamins & Dietary Supplements, Supplements, Antioxidants, CoQ10',\n",
       "       'Health & Personal Care, Vitamins & Dietary Supplements, Herbal Supplements, Ginkgo Biloba'],\n",
       "      dtype=object)"
      ]
     },
     "execution_count": 51,
     "metadata": {},
     "output_type": "execute_result"
    }
   ],
   "source": [
    "reviews_filt.categories_clean.unique()[:10]"
   ]
  },
  {
   "cell_type": "code",
   "execution_count": 39,
   "metadata": {},
   "outputs": [
    {
     "data": {
      "text/html": [
       "<div>\n",
       "<style scoped>\n",
       "    .dataframe tbody tr th:only-of-type {\n",
       "        vertical-align: middle;\n",
       "    }\n",
       "\n",
       "    .dataframe tbody tr th {\n",
       "        vertical-align: top;\n",
       "    }\n",
       "\n",
       "    .dataframe thead th {\n",
       "        text-align: right;\n",
       "    }\n",
       "</style>\n",
       "<table border=\"1\" class=\"dataframe\">\n",
       "  <thead>\n",
       "    <tr style=\"text-align: right;\">\n",
       "      <th></th>\n",
       "      <th>asin</th>\n",
       "      <th>helpful</th>\n",
       "      <th>reviewText</th>\n",
       "      <th>overall</th>\n",
       "      <th>summary</th>\n",
       "      <th>description</th>\n",
       "      <th>title</th>\n",
       "      <th>categories_clean</th>\n",
       "    </tr>\n",
       "  </thead>\n",
       "  <tbody>\n",
       "    <tr>\n",
       "      <th>3639</th>\n",
       "      <td>B00009QP4Q</td>\n",
       "      <td>[2, 2]</td>\n",
       "      <td>The company has ...</td>\n",
       "      <td>5.0</td>\n",
       "      <td>lives up to its ...</td>\n",
       "      <td>Alpha Five's QLi...</td>\n",
       "      <td>none</td>\n",
       "      <td>Health &amp; Persona...</td>\n",
       "    </tr>\n",
       "    <tr>\n",
       "      <th>50015</th>\n",
       "      <td>B0002TIEQQ</td>\n",
       "      <td>[0, 0]</td>\n",
       "      <td>I ordered this f...</td>\n",
       "      <td>1.0</td>\n",
       "      <td>waste of money</td>\n",
       "      <td>Self help tutori...</td>\n",
       "      <td>none</td>\n",
       "      <td>Health &amp; Persona...</td>\n",
       "    </tr>\n",
       "  </tbody>\n",
       "</table>\n",
       "</div>"
      ],
      "text/plain": [
       "             asin helpful           reviewText  overall              summary  \\\n",
       "3639   B00009QP4Q  [2, 2]  The company has ...      5.0  lives up to its ...   \n",
       "50015  B0002TIEQQ  [0, 0]  I ordered this f...      1.0       waste of money   \n",
       "\n",
       "               description title     categories_clean  \n",
       "3639   Alpha Five's QLi...  none  Health & Persona...  \n",
       "50015  Self help tutori...  none  Health & Persona...  "
      ]
     },
     "execution_count": 39,
     "metadata": {},
     "output_type": "execute_result"
    }
   ],
   "source": [
    "reviews_filt[reviews_filt.categories_clean.str.contains('Software')]"
   ]
  },
  {
   "cell_type": "code",
   "execution_count": 40,
   "metadata": {},
   "outputs": [],
   "source": [
    "reviews_filt = reviews_filt[~(reviews_filt.categories_clean.str.contains('Software'))]"
   ]
  },
  {
   "cell_type": "code",
   "execution_count": 41,
   "metadata": {},
   "outputs": [
    {
     "data": {
      "text/plain": [
       "585179"
      ]
     },
     "execution_count": 41,
     "metadata": {},
     "output_type": "execute_result"
    }
   ],
   "source": [
    "len(reviews_filt)"
   ]
  },
  {
   "cell_type": "code",
   "execution_count": 53,
   "metadata": {},
   "outputs": [
    {
     "data": {
      "text/plain": [
       "277"
      ]
     },
     "execution_count": 53,
     "metadata": {},
     "output_type": "execute_result"
    }
   ],
   "source": [
    "# Get rid of reviews of pet-related products\n",
    "search_for = [' pet ', ' cat ', ' dog ']\n",
    "pattern = '|'.join(search_for)\n",
    "reviews_filt.title.str.contains(pattern, case=False).sum()"
   ]
  },
  {
   "cell_type": "code",
   "execution_count": 50,
   "metadata": {},
   "outputs": [
    {
     "data": {
      "text/plain": [
       "array(['Power - Mune Tuna Flavor Pet Herbal Supplement From Vetvittles.com',\n",
       "       'Power - Mune Tuna Flavor Pet Herbal Supplement From Vetvittles.com',\n",
       "       'Power - Mune Tuna Flavor Pet Herbal Supplement From Vetvittles.com',\n",
       "       'AniMed Witch Hazel 86-Percent Multi-Species Pet Supplement',\n",
       "       'AniMed Witch Hazel 86-Percent Multi-Species Pet Supplement',\n",
       "       'AniMed Witch Hazel 86-Percent Multi-Species Pet Supplement',\n",
       "       'AniMed Witch Hazel 86-Percent Multi-Species Pet Supplement',\n",
       "       'AniMed Witch Hazel 86-Percent Multi-Species Pet Supplement',\n",
       "       'AniMed Witch Hazel 86-Percent Multi-Species Pet Supplement',\n",
       "       'Composure Liquid for Dogs and Cat (188 SERVINGS)'], dtype=object)"
      ]
     },
     "execution_count": 50,
     "metadata": {},
     "output_type": "execute_result"
    }
   ],
   "source": [
    "reviews_filt[reviews_filt.title.str.contains(pattern, case=False)]['title'].values[:10]"
   ]
  },
  {
   "cell_type": "code",
   "execution_count": 54,
   "metadata": {},
   "outputs": [],
   "source": [
    "# Get rid of all pet products\n",
    "reviews_filt = reviews_filt[~(reviews_filt.title.str.contains(pattern, case=False))]"
   ]
  },
  {
   "cell_type": "code",
   "execution_count": 55,
   "metadata": {},
   "outputs": [],
   "source": [
    "# saving the cleaned dataframe\n",
    "save_df_s3(df=reviews_filt, bucket_name=bucket_name, filepath='amazon_reviews/reviews_data_clean_v2.feather')"
   ]
  },
  {
   "cell_type": "code",
   "execution_count": 56,
   "metadata": {},
   "outputs": [
    {
     "data": {
      "text/plain": [
       "48501"
      ]
     },
     "execution_count": 56,
     "metadata": {},
     "output_type": "execute_result"
    }
   ],
   "source": [
    "reviews_filt.asin.nunique()     # 48,535 unique products and 585,179 reviews"
   ]
  },
  {
   "cell_type": "markdown",
   "metadata": {},
   "source": [
    "## Examine One Observation"
   ]
  },
  {
   "cell_type": "code",
   "execution_count": 57,
   "metadata": {},
   "outputs": [],
   "source": [
    "example = reviews_filt.iloc[0]"
   ]
  },
  {
   "cell_type": "code",
   "execution_count": 58,
   "metadata": {},
   "outputs": [
    {
     "data": {
      "text/plain": [
       "'0929619730'"
      ]
     },
     "execution_count": 58,
     "metadata": {},
     "output_type": "execute_result"
    }
   ],
   "source": [
    "example.asin     # Amazon Standard Identification Number"
   ]
  },
  {
   "cell_type": "code",
   "execution_count": 59,
   "metadata": {},
   "outputs": [
    {
     "data": {
      "text/plain": [
       "'New Generation B-Flax-D'"
      ]
     },
     "execution_count": 59,
     "metadata": {},
     "output_type": "execute_result"
    }
   ],
   "source": [
    "example.title     # this is the product's name"
   ]
  },
  {
   "cell_type": "code",
   "execution_count": 60,
   "metadata": {},
   "outputs": [
    {
     "data": {
      "text/plain": [
       "'Health & Personal Care, Vitamins & Dietary Supplements, Multi & Prenatal Vitamins, Multiple Vitamin-Mineral Supplements'"
      ]
     },
     "execution_count": 60,
     "metadata": {},
     "output_type": "execute_result"
    }
   ],
   "source": [
    "example.categories_clean   # previously filtered/curated categories of interest"
   ]
  },
  {
   "cell_type": "code",
   "execution_count": 61,
   "metadata": {},
   "outputs": [
    {
     "data": {
      "text/plain": [
       "'Contains Organic Cold-Milled Flaxseed\\nValuable source of soluble and insoluble fiber\\nProvides Omega-3 essential fats, and many other nutrients to help achieve and maintain optimal bowel function.\\n\\nContains Vitamin B12\\nB12 helps prevent nerve damage\\nB12 aids in healthy cell formation.\\nB12 helps prevent anemia\\n\\nContains Vitamin D\\nVitamin D assists the body in the absorption of important minerals like calcium.\\n\\nContains Seleno-yeast\\nA source of selenium, a mineral with powerful anti-viral and disease-fighting properties.\\n\\nContains Vitamin K2\\nMenaQ7TM provides vitamin K2 (menaquinone), extracted and concentrated from natto without solvents. Vitamin K2 prevents arterial calcification and promotes strong bones by improving cross-linking of osteocalcin, a protein found in bones. The amount here has been clinically shown not to interfere with blood anti-coagulant medication. \\n\\nServing Size:\\n1/4 Cup (30 Grams)\\n\\nServings Per Container:\\n30 Servings per container\\n\\nNet Wt. 32 oz / 2 lb (908 g)\\n\\nB-Flax-D is a 100% vegetarian product.\\n\\nDoes Not Contain:\\nContains no artificial colors or preservatives.'"
      ]
     },
     "execution_count": 61,
     "metadata": {},
     "output_type": "execute_result"
    }
   ],
   "source": [
    "example.description       # product description provided by the seller"
   ]
  },
  {
   "cell_type": "code",
   "execution_count": 62,
   "metadata": {},
   "outputs": [
    {
     "data": {
      "text/plain": [
       "'Dpes the job well'"
      ]
     },
     "execution_count": 62,
     "metadata": {},
     "output_type": "execute_result"
    }
   ],
   "source": [
    "example.summary      # review title"
   ]
  },
  {
   "cell_type": "code",
   "execution_count": 63,
   "metadata": {},
   "outputs": [
    {
     "data": {
      "text/plain": [
       "'B-flax-D is a regular at our house. It does its job simply and with good results. It is reasonable, lasts a long time, and is able to be obtained with free shipping if you hunt around. Good product, good price, good results.'"
      ]
     },
     "execution_count": 63,
     "metadata": {},
     "output_type": "execute_result"
    }
   ],
   "source": [
    "example.reviewText   # review content"
   ]
  },
  {
   "cell_type": "markdown",
   "metadata": {},
   "source": [
    "Here's what the actual review looks like:"
   ]
  },
  {
   "cell_type": "code",
   "execution_count": 64,
   "metadata": {},
   "outputs": [
    {
     "data": {
      "text/plain": [
       "5.0"
      ]
     },
     "execution_count": 64,
     "metadata": {},
     "output_type": "execute_result"
    }
   ],
   "source": [
    "example.overall     # the rating provided by the reviewer"
   ]
  },
  {
   "cell_type": "code",
   "execution_count": 29,
   "metadata": {},
   "outputs": [
    {
     "data": {
      "text/plain": [
       "'[0, 0]'"
      ]
     },
     "execution_count": 29,
     "metadata": {},
     "output_type": "execute_result"
    }
   ],
   "source": [
    "example.helpful"
   ]
  },
  {
   "cell_type": "code",
   "execution_count": 27,
   "metadata": {},
   "outputs": [
    {
     "data": {
      "text/html": [
       "<img src=\"images/amazon_review_screenshot.png\"/>"
      ],
      "text/plain": [
       "<IPython.core.display.Image object>"
      ]
     },
     "execution_count": 27,
     "metadata": {},
     "output_type": "execute_result"
    }
   ],
   "source": [
    "Image(url= \"images/amazon_review_screenshot.png\")"
   ]
  },
  {
   "cell_type": "markdown",
   "metadata": {},
   "source": [
    "# Data Pre-processing"
   ]
  },
  {
   "cell_type": "markdown",
   "metadata": {},
   "source": [
    "Let us start off using only the title (`summary`) and body (`reviewText`) of each review."
   ]
  },
  {
   "cell_type": "code",
   "execution_count": 6,
   "metadata": {},
   "outputs": [
    {
     "name": "stdout",
     "output_type": "stream",
     "text": [
      "CPU times: user 2.87 s, sys: 4.27 s, total: 7.14 s\n",
      "Wall time: 22 s\n"
     ]
    }
   ],
   "source": [
    "%%time\n",
    "df = load_df_s3(bucket_name, filepath='amazon_reviews/reviews_data_clean_v2.feather', filetype='feather')"
   ]
  },
  {
   "cell_type": "code",
   "execution_count": 7,
   "metadata": {},
   "outputs": [
    {
     "data": {
      "text/plain": [
       "asin                 object\n",
       "helpful              object\n",
       "reviewText           object\n",
       "overall             float64\n",
       "summary              object\n",
       "description          object\n",
       "title                object\n",
       "categories_clean     object\n",
       "dtype: object"
      ]
     },
     "execution_count": 7,
     "metadata": {},
     "output_type": "execute_result"
    }
   ],
   "source": [
    "df.dtypes"
   ]
  },
  {
   "cell_type": "code",
   "execution_count": 8,
   "metadata": {},
   "outputs": [],
   "source": [
    "df.drop(['helpful', 'overall', 'title', 'categories_clean', 'description'], axis=1, inplace=True)"
   ]
  },
  {
   "cell_type": "code",
   "execution_count": 9,
   "metadata": {},
   "outputs": [
    {
     "data": {
      "text/html": [
       "<div>\n",
       "<style>\n",
       "    .dataframe thead tr:only-child th {\n",
       "        text-align: right;\n",
       "    }\n",
       "\n",
       "    .dataframe thead th {\n",
       "        text-align: left;\n",
       "    }\n",
       "\n",
       "    .dataframe tbody tr th {\n",
       "        vertical-align: top;\n",
       "    }\n",
       "</style>\n",
       "<table border=\"1\" class=\"dataframe\">\n",
       "  <thead>\n",
       "    <tr style=\"text-align: right;\">\n",
       "      <th></th>\n",
       "      <th>asin</th>\n",
       "      <th>reviewText</th>\n",
       "      <th>summary</th>\n",
       "    </tr>\n",
       "  </thead>\n",
       "  <tbody>\n",
       "    <tr>\n",
       "      <th>0</th>\n",
       "      <td>0929619730</td>\n",
       "      <td>B-flax-D is a regular at our house. It does it...</td>\n",
       "      <td>Dpes the job well</td>\n",
       "    </tr>\n",
       "    <tr>\n",
       "      <th>1</th>\n",
       "      <td>0978559088</td>\n",
       "      <td>Studies show that Resveratrol is poorly absorb...</td>\n",
       "      <td>Fast shipping, good communication</td>\n",
       "    </tr>\n",
       "    <tr>\n",
       "      <th>2</th>\n",
       "      <td>0978559088</td>\n",
       "      <td>I started taking this after both my parents di...</td>\n",
       "      <td>Bioavailability is the key</td>\n",
       "    </tr>\n",
       "    <tr>\n",
       "      <th>3</th>\n",
       "      <td>0978559088</td>\n",
       "      <td>I tried Nutrihill, but did not feel any of the...</td>\n",
       "      <td>Other Resveratrol Supplements are Better</td>\n",
       "    </tr>\n",
       "    <tr>\n",
       "      <th>4</th>\n",
       "      <td>0978559088</td>\n",
       "      <td>I really liked this product because it stayed ...</td>\n",
       "      <td>I can't find this product any longer, and I wi...</td>\n",
       "    </tr>\n",
       "  </tbody>\n",
       "</table>\n",
       "</div>"
      ],
      "text/plain": [
       "         asin                                         reviewText  \\\n",
       "0  0929619730  B-flax-D is a regular at our house. It does it...   \n",
       "1  0978559088  Studies show that Resveratrol is poorly absorb...   \n",
       "2  0978559088  I started taking this after both my parents di...   \n",
       "3  0978559088  I tried Nutrihill, but did not feel any of the...   \n",
       "4  0978559088  I really liked this product because it stayed ...   \n",
       "\n",
       "                                             summary  \n",
       "0                                  Dpes the job well  \n",
       "1                  Fast shipping, good communication  \n",
       "2                         Bioavailability is the key  \n",
       "3           Other Resveratrol Supplements are Better  \n",
       "4  I can't find this product any longer, and I wi...  "
      ]
     },
     "execution_count": 9,
     "metadata": {},
     "output_type": "execute_result"
    }
   ],
   "source": [
    "df.head()"
   ]
  },
  {
   "cell_type": "code",
   "execution_count": 10,
   "metadata": {},
   "outputs": [],
   "source": [
    "# for each review, concatenate the review title and body\n",
    "df.reviewText = df.summary + '. ' + df.reviewText"
   ]
  },
  {
   "cell_type": "code",
   "execution_count": 11,
   "metadata": {},
   "outputs": [
    {
     "data": {
      "text/html": [
       "<div>\n",
       "<style>\n",
       "    .dataframe thead tr:only-child th {\n",
       "        text-align: right;\n",
       "    }\n",
       "\n",
       "    .dataframe thead th {\n",
       "        text-align: left;\n",
       "    }\n",
       "\n",
       "    .dataframe tbody tr th {\n",
       "        vertical-align: top;\n",
       "    }\n",
       "</style>\n",
       "<table border=\"1\" class=\"dataframe\">\n",
       "  <thead>\n",
       "    <tr style=\"text-align: right;\">\n",
       "      <th></th>\n",
       "      <th>asin</th>\n",
       "      <th>reviewText</th>\n",
       "      <th>summary</th>\n",
       "    </tr>\n",
       "  </thead>\n",
       "  <tbody>\n",
       "    <tr>\n",
       "      <th>0</th>\n",
       "      <td>0929619730</td>\n",
       "      <td>Dpes the job well. B-flax-D is a regular at our house. It does its job simply and with good results. It is reasonable, lasts a long time, and is able to be obtained with free shipping if you hunt ...</td>\n",
       "      <td>Dpes the job well</td>\n",
       "    </tr>\n",
       "    <tr>\n",
       "      <th>1</th>\n",
       "      <td>0978559088</td>\n",
       "      <td>Fast shipping, good communication. Studies show that Resveratrol is poorly absorbed when taken by pill, but lozenges are very effectively absorbed. Hardly any companies are selling lozenges. This ...</td>\n",
       "      <td>Fast shipping, good communication</td>\n",
       "    </tr>\n",
       "    <tr>\n",
       "      <th>2</th>\n",
       "      <td>0978559088</td>\n",
       "      <td>Bioavailability is the key. I started taking this after both my parents died of cancer as it supposed to enhance your immune system - the story on 60 Minutes on resveratrol was incredibly inspirin...</td>\n",
       "      <td>Bioavailability is the key</td>\n",
       "    </tr>\n",
       "    <tr>\n",
       "      <th>3</th>\n",
       "      <td>0978559088</td>\n",
       "      <td>Other Resveratrol Supplements are Better. I tried Nutrihill, but did not feel any of the supposed health benefits. I started reading and realized that even though buccal delivery is the best, the ...</td>\n",
       "      <td>Other Resveratrol Supplements are Better</td>\n",
       "    </tr>\n",
       "    <tr>\n",
       "      <th>4</th>\n",
       "      <td>0978559088</td>\n",
       "      <td>I can't find this product any longer, and I wish I could.. I really liked this product because it stayed in my mouth for a long time and I felt it was probably doing some good.  I take a number of...</td>\n",
       "      <td>I can't find this product any longer, and I wish I could.</td>\n",
       "    </tr>\n",
       "  </tbody>\n",
       "</table>\n",
       "</div>"
      ],
      "text/plain": [
       "         asin  \\\n",
       "0  0929619730   \n",
       "1  0978559088   \n",
       "2  0978559088   \n",
       "3  0978559088   \n",
       "4  0978559088   \n",
       "\n",
       "                                                                                                                                                                                                reviewText  \\\n",
       "0  Dpes the job well. B-flax-D is a regular at our house. It does its job simply and with good results. It is reasonable, lasts a long time, and is able to be obtained with free shipping if you hunt ...   \n",
       "1  Fast shipping, good communication. Studies show that Resveratrol is poorly absorbed when taken by pill, but lozenges are very effectively absorbed. Hardly any companies are selling lozenges. This ...   \n",
       "2  Bioavailability is the key. I started taking this after both my parents died of cancer as it supposed to enhance your immune system - the story on 60 Minutes on resveratrol was incredibly inspirin...   \n",
       "3  Other Resveratrol Supplements are Better. I tried Nutrihill, but did not feel any of the supposed health benefits. I started reading and realized that even though buccal delivery is the best, the ...   \n",
       "4  I can't find this product any longer, and I wish I could.. I really liked this product because it stayed in my mouth for a long time and I felt it was probably doing some good.  I take a number of...   \n",
       "\n",
       "                                                     summary  \n",
       "0                                          Dpes the job well  \n",
       "1                          Fast shipping, good communication  \n",
       "2                                 Bioavailability is the key  \n",
       "3                   Other Resveratrol Supplements are Better  \n",
       "4  I can't find this product any longer, and I wish I could.  "
      ]
     },
     "execution_count": 11,
     "metadata": {},
     "output_type": "execute_result"
    }
   ],
   "source": [
    "pd.set_option('max_colwidth', 200)\n",
    "df.head()"
   ]
  },
  {
   "cell_type": "markdown",
   "metadata": {},
   "source": [
    "Let's drop the `summary` column now:"
   ]
  },
  {
   "cell_type": "code",
   "execution_count": 12,
   "metadata": {},
   "outputs": [],
   "source": [
    "df.drop(['summary'], axis=1, inplace=True)"
   ]
  },
  {
   "cell_type": "code",
   "execution_count": 13,
   "metadata": {},
   "outputs": [
    {
     "data": {
      "text/html": [
       "<div>\n",
       "<style>\n",
       "    .dataframe thead tr:only-child th {\n",
       "        text-align: right;\n",
       "    }\n",
       "\n",
       "    .dataframe thead th {\n",
       "        text-align: left;\n",
       "    }\n",
       "\n",
       "    .dataframe tbody tr th {\n",
       "        vertical-align: top;\n",
       "    }\n",
       "</style>\n",
       "<table border=\"1\" class=\"dataframe\">\n",
       "  <thead>\n",
       "    <tr style=\"text-align: right;\">\n",
       "      <th></th>\n",
       "      <th>asin</th>\n",
       "      <th>reviewText</th>\n",
       "    </tr>\n",
       "  </thead>\n",
       "  <tbody>\n",
       "    <tr>\n",
       "      <th>0</th>\n",
       "      <td>0929619730</td>\n",
       "      <td>Dpes the job well. B-flax-D is a regular at our house. It does its job simply and with good results. It is reasonable, lasts a long time, and is able to be obtained with free shipping if you hunt ...</td>\n",
       "    </tr>\n",
       "    <tr>\n",
       "      <th>1</th>\n",
       "      <td>0978559088</td>\n",
       "      <td>Fast shipping, good communication. Studies show that Resveratrol is poorly absorbed when taken by pill, but lozenges are very effectively absorbed. Hardly any companies are selling lozenges. This ...</td>\n",
       "    </tr>\n",
       "    <tr>\n",
       "      <th>2</th>\n",
       "      <td>0978559088</td>\n",
       "      <td>Bioavailability is the key. I started taking this after both my parents died of cancer as it supposed to enhance your immune system - the story on 60 Minutes on resveratrol was incredibly inspirin...</td>\n",
       "    </tr>\n",
       "    <tr>\n",
       "      <th>3</th>\n",
       "      <td>0978559088</td>\n",
       "      <td>Other Resveratrol Supplements are Better. I tried Nutrihill, but did not feel any of the supposed health benefits. I started reading and realized that even though buccal delivery is the best, the ...</td>\n",
       "    </tr>\n",
       "    <tr>\n",
       "      <th>4</th>\n",
       "      <td>0978559088</td>\n",
       "      <td>I can't find this product any longer, and I wish I could.. I really liked this product because it stayed in my mouth for a long time and I felt it was probably doing some good.  I take a number of...</td>\n",
       "    </tr>\n",
       "  </tbody>\n",
       "</table>\n",
       "</div>"
      ],
      "text/plain": [
       "         asin  \\\n",
       "0  0929619730   \n",
       "1  0978559088   \n",
       "2  0978559088   \n",
       "3  0978559088   \n",
       "4  0978559088   \n",
       "\n",
       "                                                                                                                                                                                                reviewText  \n",
       "0  Dpes the job well. B-flax-D is a regular at our house. It does its job simply and with good results. It is reasonable, lasts a long time, and is able to be obtained with free shipping if you hunt ...  \n",
       "1  Fast shipping, good communication. Studies show that Resveratrol is poorly absorbed when taken by pill, but lozenges are very effectively absorbed. Hardly any companies are selling lozenges. This ...  \n",
       "2  Bioavailability is the key. I started taking this after both my parents died of cancer as it supposed to enhance your immune system - the story on 60 Minutes on resveratrol was incredibly inspirin...  \n",
       "3  Other Resveratrol Supplements are Better. I tried Nutrihill, but did not feel any of the supposed health benefits. I started reading and realized that even though buccal delivery is the best, the ...  \n",
       "4  I can't find this product any longer, and I wish I could.. I really liked this product because it stayed in my mouth for a long time and I felt it was probably doing some good.  I take a number of...  "
      ]
     },
     "execution_count": 13,
     "metadata": {},
     "output_type": "execute_result"
    }
   ],
   "source": [
    "df.head()"
   ]
  },
  {
   "cell_type": "code",
   "execution_count": 14,
   "metadata": {},
   "outputs": [],
   "source": [
    "pd.set_option('max_colwidth', 20)"
   ]
  },
  {
   "cell_type": "markdown",
   "metadata": {},
   "source": [
    "## Remove Missing Reviews"
   ]
  },
  {
   "cell_type": "code",
   "execution_count": 15,
   "metadata": {},
   "outputs": [
    {
     "data": {
      "text/plain": [
       "73"
      ]
     },
     "execution_count": 15,
     "metadata": {},
     "output_type": "execute_result"
    }
   ],
   "source": [
    "df.reviewText.isnull().sum()    # 73 reviews have neither a review body text, nor a review title"
   ]
  },
  {
   "cell_type": "code",
   "execution_count": 16,
   "metadata": {},
   "outputs": [],
   "source": [
    "# drop reviews with no text\n",
    "df = df[~(df.reviewText.isnull())]"
   ]
  },
  {
   "cell_type": "code",
   "execution_count": 17,
   "metadata": {},
   "outputs": [
    {
     "data": {
      "text/plain": [
       "0"
      ]
     },
     "execution_count": 17,
     "metadata": {},
     "output_type": "execute_result"
    }
   ],
   "source": [
    "df.asin.isnull().sum()"
   ]
  },
  {
   "cell_type": "markdown",
   "metadata": {},
   "source": [
    "Let's look at a few actual review texts:"
   ]
  },
  {
   "cell_type": "code",
   "execution_count": 18,
   "metadata": {},
   "outputs": [
    {
     "data": {
      "text/plain": [
       "'Great Fish Oil Formula!. This product has certainly met all my expectations. I have tried many different type formulations in the past, some good, some not so good, but this is a winner. I am very picky about fish oil blends and you will like this one. I do recommend this product!'"
      ]
     },
     "execution_count": 18,
     "metadata": {},
     "output_type": "execute_result"
    }
   ],
   "source": [
    "df.reviewText.iloc[np.random.randint(0, len(df))]"
   ]
  },
  {
   "cell_type": "code",
   "execution_count": 19,
   "metadata": {},
   "outputs": [
    {
     "data": {
      "text/plain": [
       "'Does not work for focus. My 9 year old has has taken this for four weeks now and the only thing I have noticed is a slight calming effect. That is why I gave it the two stars. It does absolutely nothing for the rest of his ADHD symptoms. His focus is still almost non existent. The teachers at school confirmed this.  My next step is to visit the doctor for a script.'"
      ]
     },
     "execution_count": 19,
     "metadata": {},
     "output_type": "execute_result"
    }
   ],
   "source": [
    "df.reviewText.iloc[np.random.randint(0, len(df))]"
   ]
  },
  {
   "cell_type": "code",
   "execution_count": 20,
   "metadata": {},
   "outputs": [
    {
     "data": {
      "text/plain": [
       "'No aftertaste. My husband and I both take this, and it is very painless since there is no fishy taste or aftertaste.'"
      ]
     },
     "execution_count": 20,
     "metadata": {},
     "output_type": "execute_result"
    }
   ],
   "source": [
    "df.reviewText.iloc[np.random.randint(0, len(df))]"
   ]
  },
  {
   "cell_type": "code",
   "execution_count": 21,
   "metadata": {},
   "outputs": [
    {
     "name": "stdout",
     "output_type": "stream",
     "text": [
      "<class 'pandas.core.frame.DataFrame'>\n",
      "Int64Index: 584829 entries, 0 to 584901\n",
      "Data columns (total 2 columns):\n",
      "asin          584829 non-null object\n",
      "reviewText    584829 non-null object\n",
      "dtypes: object(2)\n",
      "memory usage: 13.4+ MB\n"
     ]
    }
   ],
   "source": [
    "df.info()"
   ]
  },
  {
   "cell_type": "markdown",
   "metadata": {},
   "source": [
    "## Pre-processing for LDA"
   ]
  },
  {
   "cell_type": "code",
   "execution_count": 22,
   "metadata": {},
   "outputs": [],
   "source": [
    "text = list(df.reviewText.values)    # make an iterable to store only the review text"
   ]
  },
  {
   "cell_type": "code",
   "execution_count": 23,
   "metadata": {},
   "outputs": [
    {
     "data": {
      "text/plain": [
       "584829"
      ]
     },
     "execution_count": 23,
     "metadata": {},
     "output_type": "execute_result"
    }
   ],
   "source": [
    "len(text)"
   ]
  },
  {
   "cell_type": "code",
   "execution_count": 24,
   "metadata": {},
   "outputs": [
    {
     "name": "stdout",
     "output_type": "stream",
     "text": [
      "Dpes the job well. B-flax-D is a regular at our house. It does its job simply and with good results. It is reasonable, lasts a long time, and is able to be obtained with free shipping if you hunt around. Good product, good price, good results. \n",
      "\n",
      "Fast shipping, good communication. Studies show that Resveratrol is poorly absorbed when taken by pill, but lozenges are very effectively absorbed. Hardly any companies are selling lozenges. This company promises 99% purity and has fast shipping and good communication. I can't comment on the quality of product because I'm not a chemist but they seem to be legitimate. \n",
      "\n",
      "Bioavailability is the key. I started taking this after both my parents died of cancer as it supposed to enhance your immune system - the story on 60 Minutes on resveratrol was incredibly inspiring. Doing some research on the Internet, it is indicated that taking resveratrol in lozenge form is preferable as it is broken down by stomach acids.  The ez-melt formula recommended in another review is OK, but it is dissolved in the mouth much more quickly than this lozenge formula, while dissolving more slowly is preferable according to my research.This product has the greatest side effect - since taking it, I haven't had colds or sore throats.  Soon after starting to take it every day, I was starting to come down with a cold, with all my usual symptoms, and was anticipating being very sick the next day, as is my usual pattern.  But I never did get as sick as anticipated - taking this product is the only reason I can come up with.  Since then, I've had no colds or sore throats - it has been great.  I recommend this product to everyone I know, and have given it as gifts to my family. \n",
      "\n",
      "Other Resveratrol Supplements are Better. I tried Nutrihill, but did not feel any of the supposed health benefits. I started reading and realized that even though buccal delivery is the best, the dose is too small in this supplement. I then tried Resveratrol 150 from ezmelts. It's also a lozenge (they call it melt) and it literally melts in your mouth. I have a lot more energy, and haven't been sick at all. I used to get colds and flus all the time before. You can find ezmelts here on amazon, ebay and a bunch of other suppliers. You can find it here:EZ Melts Resveratrol, Natural Grape Flavor, 60 Tablets \n",
      "\n"
     ]
    }
   ],
   "source": [
    "# look at a few sample reviews\n",
    "for rev in text[:4]:\n",
    "    print(rev, '\\n')"
   ]
  },
  {
   "cell_type": "code",
   "execution_count": 25,
   "metadata": {},
   "outputs": [],
   "source": [
    "nlp = spacy.load('en')"
   ]
  },
  {
   "cell_type": "markdown",
   "metadata": {},
   "source": [
    "The helper functions below are from:\n",
    "\n",
    "http://nbviewer.jupyter.org/github/skipgram/modern-nlp-in-python/blob/master/executable/Modern_NLP_in_Python.ipynb"
   ]
  },
  {
   "cell_type": "markdown",
   "metadata": {},
   "source": [
    "### Phrase Detection"
   ]
  },
  {
   "cell_type": "markdown",
   "metadata": {},
   "source": [
    "In order to use `gensim`'s `Phrases` class to detect natural combinations of words (like 'vanilla ice cream'), we need to format our text into a list of sentences, with each sentence being a list of words."
   ]
  },
  {
   "cell_type": "code",
   "execution_count": 40,
   "metadata": {},
   "outputs": [],
   "source": [
    "def lemmatized_sentence_corpus(text_seq):\n",
    "    \"\"\"Generator function to use spaCy to parse reviews, \n",
    "    lemmatize the text, and yield sentences.\n",
    "    Returns one sentence at a time, continuously, \n",
    "    without demarcating the baoundary between two reviews.\n",
    "    Parameters:\n",
    "        text_seq: a sequence (list) of text (e.g. reviews) to parse.\n",
    "    \"\"\"\n",
    "    for parsed_review in nlp.pipe(text_seq, batch_size=10000, n_threads=18):\n",
    "        for sent in parsed_review.sents:\n",
    "            # yield makes this process memory efficient\n",
    "            yield [token.lemma_ for token in sent if not (token.is_space or token.is_punct)]"
   ]
  },
  {
   "cell_type": "code",
   "execution_count": null,
   "metadata": {},
   "outputs": [
    {
     "name": "stderr",
     "output_type": "stream",
     "text": [
      "\n",
      "\n",
      "\n",
      "  0%|          | 0/584829 [00:00<?, ?it/s]\u001b[A\u001b[A\u001b[A\n",
      "\n",
      "\n",
      "  0%|          | 1/584829 [01:30<14780:06:14, 90.98s/it]\u001b[A\u001b[A\u001b[A\n",
      "\n",
      "\n",
      "  2%|▏         | 10797/584829 [01:31<1:20:42, 118.54it/s]\u001b[A\u001b[A\u001b[A\n",
      "\n",
      "\n",
      "  4%|▎         | 21640/584829 [01:31<39:33, 237.33it/s]  \u001b[A\u001b[A\u001b[A\n",
      "\n",
      "\n",
      "  6%|▌         | 32807/584829 [01:31<25:35, 359.41it/s]\u001b[A\u001b[A\u001b[A\n",
      "\n",
      "\n",
      "  8%|▊         | 44482/584829 [01:31<18:30, 486.77it/s]\u001b[A\u001b[A\u001b[A\n",
      "\u001b[A\n",
      "\n",
      "\n",
      "  9%|▉         | 53034/584829 [01:31<15:18, 578.90it/s]\u001b[A\u001b[A\u001b[A\n",
      "\n",
      "\n",
      " 11%|█         | 62905/584829 [03:04<25:27, 341.58it/s]\u001b[A\u001b[A\u001b[A\n",
      "\n",
      "\n",
      " 13%|█▎        | 73216/584829 [03:04<21:27, 397.36it/s]\u001b[A\u001b[A\u001b[A\n",
      "\n",
      "\n",
      " 14%|█▍        | 83598/584829 [03:04<18:25, 453.46it/s]\u001b[A\u001b[A\u001b[A\n",
      "\n",
      "\n",
      " 16%|█▌        | 94177/584829 [03:04<16:01, 510.56it/s]\u001b[A\u001b[A\u001b[A\n",
      "\n",
      "\n",
      " 17%|█▋        | 101050/584829 [03:04<14:44, 547.24it/s]\u001b[A\u001b[A\u001b[A\n",
      "\n",
      "\n",
      " 19%|█▉        | 111687/584829 [03:04<13:02, 604.52it/s]\u001b[A\u001b[A\u001b[A\n",
      "\n",
      "\n",
      " 21%|██        | 122809/584829 [03:04<11:35, 664.35it/s]\u001b[A\u001b[A\u001b[A\n",
      "\n",
      "\n",
      " 22%|██▏       | 131217/584829 [04:35<15:51, 476.98it/s]\u001b[A\u001b[A\u001b[A\n",
      "\n",
      "\n",
      " 24%|██▍       | 141389/584829 [04:35<14:23, 513.77it/s]\u001b[A\u001b[A\u001b[A\n",
      "\n",
      "\n",
      " 26%|██▌       | 149610/584829 [04:35<13:21, 543.20it/s]\u001b[A\u001b[A\u001b[A\n",
      "\n",
      "\n",
      " 27%|██▋       | 160583/584829 [04:35<12:07, 582.83it/s]\u001b[A\u001b[A\u001b[A\n",
      "\n",
      "\n",
      " 29%|██▉       | 171562/584829 [04:35<11:03, 622.45it/s]\u001b[A\u001b[A\u001b[A\n",
      "\n",
      "\n",
      " 31%|███       | 182692/584829 [04:35<10:06, 662.59it/s]\u001b[A\u001b[A\u001b[A\n",
      "\n",
      "\n",
      " 33%|███▎      | 191063/584829 [06:05<12:32, 523.24it/s]\u001b[A\u001b[A\u001b[A\n",
      "\n",
      "\n",
      " 34%|███▍      | 201241/584829 [06:05<11:36, 550.96it/s]\u001b[A\u001b[A\u001b[A\n",
      "\n",
      "\n",
      " 36%|███▌      | 211368/584829 [06:05<10:45, 578.53it/s]\u001b[A\u001b[A\u001b[A\n",
      "\n",
      "\n",
      " 37%|███▋      | 218305/584829 [06:05<10:13, 597.13it/s]\u001b[A\u001b[A\u001b[A\n",
      "\n",
      "\n",
      " 39%|███▉      | 228976/584829 [06:05<09:28, 626.14it/s]\u001b[A\u001b[A\u001b[A\n",
      "\n",
      "\n",
      " 41%|████      | 240214/584829 [06:05<08:44, 656.69it/s]\u001b[A\u001b[A\u001b[A\n",
      "\n",
      "\n",
      " 42%|████▏     | 248034/584829 [07:32<10:14, 547.69it/s]\u001b[A\u001b[A\u001b[A\n",
      "\n",
      "\n",
      " 44%|████▍     | 258700/584829 [07:32<09:31, 571.11it/s]\u001b[A\u001b[A\u001b[A\n",
      "\n",
      "\n",
      " 46%|████▌     | 269305/584829 [07:33<08:50, 594.39it/s]\u001b[A\u001b[A\u001b[A\n",
      "\n",
      "\n",
      " 48%|████▊     | 280385/584829 [07:33<08:12, 618.71it/s]\u001b[A\u001b[A\u001b[A\n",
      "\n",
      "\n",
      " 50%|████▉     | 291136/584829 [07:33<07:37, 642.29it/s]\u001b[A\u001b[A\u001b[A\n",
      "\n",
      "\n",
      " 52%|█████▏    | 301803/584829 [07:33<07:05, 665.68it/s]\u001b[A\u001b[A\u001b[A\n",
      "\n",
      "\n",
      " 53%|█████▎    | 310751/584829 [09:06<08:02, 568.41it/s]\u001b[A\u001b[A\u001b[A\n",
      "\n",
      "\n",
      " 55%|█████▍    | 321117/584829 [09:06<07:29, 587.26it/s]\u001b[A\u001b[A\u001b[A\n",
      "\n",
      "\n",
      " 57%|█████▋    | 331096/584829 [09:06<06:59, 605.40it/s]\u001b[A\u001b[A\u001b[A\n",
      "\n",
      "\n",
      " 58%|█████▊    | 342119/584829 [09:07<06:28, 625.44it/s]\u001b[A\u001b[A\u001b[A\n",
      "\n",
      "\n",
      " 60%|██████    | 353529/584829 [09:07<05:57, 646.18it/s]\u001b[A\u001b[A\u001b[A\n",
      "\n",
      "\n",
      " 62%|██████▏   | 363867/584829 [09:07<05:32, 664.96it/s]\u001b[A\u001b[A\u001b[A\n",
      "\n",
      "\n",
      " 64%|██████▎   | 372760/584829 [10:36<06:02, 585.37it/s]\u001b[A\u001b[A\u001b[A\n",
      "\n",
      "\n",
      " 65%|██████▌   | 382615/584829 [10:36<05:36, 600.75it/s]\u001b[A\u001b[A\u001b[A\n",
      "\n",
      "\n",
      " 67%|██████▋   | 392776/584829 [10:36<05:11, 616.61it/s]\u001b[A\u001b[A\u001b[A\n",
      "\n",
      "\n",
      " 69%|██████▉   | 403256/584829 [10:37<04:46, 632.96it/s]\u001b[A\u001b[A\u001b[A\n",
      "\n",
      "\n",
      " 71%|███████   | 414842/584829 [10:37<04:21, 651.05it/s]\u001b[A\u001b[A\u001b[A\n",
      "\n",
      "\n",
      " 73%|███████▎  | 425759/584829 [10:37<03:58, 668.08it/s]\u001b[A\u001b[A\u001b[A\n",
      "\n",
      "\n",
      " 74%|███████▍  | 434765/584829 [12:11<04:12, 594.36it/s]\u001b[A\u001b[A\u001b[A\n",
      "\n",
      "\n",
      " 76%|███████▌  | 444516/584829 [12:11<03:50, 607.61it/s]\u001b[A\u001b[A\u001b[A\n",
      "\n",
      "\n",
      " 78%|███████▊  | 454643/584829 [12:11<03:29, 621.36it/s]\u001b[A\u001b[A\u001b[A\n",
      "\n",
      "\n",
      " 80%|███████▉  | 465224/584829 [12:11<03:08, 635.74it/s]\u001b[A\u001b[A\u001b[A\n",
      "\n",
      "\n",
      " 81%|████████▏ | 475791/584829 [12:11<02:47, 650.09it/s]\u001b[A\u001b[A\u001b[A\n",
      "\n",
      "\n",
      " 83%|████████▎ | 486636/584829 [12:11<02:27, 664.82it/s]\u001b[A\u001b[A\u001b[A\n",
      "\n",
      "\n",
      " 85%|████████▍ | 495410/584829 [13:48<02:29, 598.11it/s]\u001b[A\u001b[A\u001b[A\n",
      "\n",
      "\n",
      " 86%|████████▋ | 505436/584829 [13:48<02:10, 610.14it/s]\u001b[A\u001b[A\u001b[A\n",
      "\n",
      "\n",
      " 88%|████████▊ | 515620/584829 [13:48<01:51, 622.36it/s]\u001b[A\u001b[A\u001b[A\n",
      "\n",
      "\n",
      " 90%|█████████ | 526352/584829 [13:48<01:32, 635.24it/s]\u001b[A\u001b[A\u001b[A\n",
      "\n",
      "\n",
      " 92%|█████████▏| 536857/584829 [13:48<01:14, 647.84it/s]\u001b[A\u001b[A\u001b[A\n",
      "\n",
      "\n",
      " 94%|█████████▎| 547622/584829 [13:48<00:56, 660.75it/s]\u001b[A\u001b[A\u001b[A\n",
      "\n",
      "\n",
      " 95%|█████████▌| 556833/584829 [15:16<00:46, 607.26it/s]\u001b[A\u001b[A\u001b[A\n",
      "\n",
      "\n",
      " 97%|█████████▋| 566509/584829 [15:17<00:29, 617.74it/s]\u001b[A\u001b[A\u001b[A\n",
      "\n",
      "\n",
      " 99%|█████████▊| 576161/584829 [15:17<00:13, 628.20it/s]\u001b[A\u001b[A\u001b[A\n",
      "\n",
      "\n",
      "586891it [15:17, 639.83it/s]                            \u001b[A\u001b[A\u001b[A\n",
      "\n",
      "\n",
      "597851it [15:17, 651.70it/s]\u001b[A\u001b[A\u001b[A\n",
      "\n",
      "\n",
      "609011it [15:17, 663.80it/s]\u001b[A\u001b[A\u001b[A\n",
      "\n",
      "\n",
      "617930it [16:51, 610.81it/s]\u001b[A\u001b[A\u001b[A\n",
      "\n",
      "\n",
      "627766it [16:51, 620.47it/s]\u001b[A\u001b[A\u001b[A\n",
      "\n",
      "\n",
      "637572it [16:51, 630.10it/s]\u001b[A\u001b[A\u001b[A\n",
      "\n",
      "\n",
      "647455it [16:51, 639.81it/s]\u001b[A\u001b[A\u001b[A\n",
      "\n",
      "\n",
      "658003it [16:52, 650.17it/s]\u001b[A\u001b[A\u001b[A\n",
      "\n",
      "\n",
      "668778it [16:52, 660.75it/s]\u001b[A\u001b[A\u001b[A\n",
      "\n",
      "\n",
      "679177it [18:16, 619.23it/s]\u001b[A\u001b[A\u001b[A\n",
      "\n",
      "\n",
      "689100it [18:16, 628.22it/s]\u001b[A\u001b[A\u001b[A\n",
      "\n",
      "\n",
      "699706it [18:17, 637.83it/s]\u001b[A\u001b[A\u001b[A\n",
      "\n",
      "\n",
      "710117it [18:17, 647.26it/s]\u001b[A\u001b[A\u001b[A\n",
      "\n",
      "\n",
      "721038it [18:17, 657.16it/s]\u001b[A\u001b[A\u001b[A\n",
      "\n",
      "\n",
      "732088it [18:17, 667.17it/s]\u001b[A\u001b[A\u001b[A\n",
      "\n",
      "\n",
      "741035it [19:49, 622.99it/s]\u001b[A\u001b[A\u001b[A\n",
      "\n",
      "\n",
      "750624it [19:49, 631.00it/s]\u001b[A\u001b[A\u001b[A\n",
      "\n",
      "\n",
      "760659it [19:49, 639.38it/s]\u001b[A\u001b[A\u001b[A\n",
      "\n",
      "\n",
      "771386it [19:49, 648.35it/s]\u001b[A\u001b[A\u001b[A\n",
      "\n",
      "\n",
      "781579it [19:49, 656.86it/s]\u001b[A\u001b[A\u001b[A\n",
      "\n",
      "\n",
      "792289it [19:49, 665.80it/s]\u001b[A\u001b[A\u001b[A\n",
      "\n",
      "\n",
      "800944it [21:24, 623.74it/s]\u001b[A\u001b[A\u001b[A\n",
      "\n",
      "\n",
      "810989it [21:24, 631.51it/s]\u001b[A\u001b[A\u001b[A\n",
      "\n",
      "\n",
      "821089it [21:24, 639.33it/s]\u001b[A\u001b[A\u001b[A\n",
      "\n",
      "\n",
      "831393it [21:24, 647.30it/s]\u001b[A\u001b[A\u001b[A\n",
      "\n",
      "\n",
      "842185it [21:24, 655.65it/s]\u001b[A\u001b[A\u001b[A\n",
      "\n",
      "\n",
      "852533it [21:24, 663.66it/s]\u001b[A\u001b[A\u001b[A\n",
      "\n",
      "\n",
      "862584it [21:24, 671.43it/s]\u001b[A\u001b[A\u001b[A\n",
      "\n",
      "\n",
      "871654it [22:54, 634.23it/s]\u001b[A\u001b[A\u001b[A\n",
      "\n",
      "\n",
      "881743it [22:54, 641.53it/s]\u001b[A\u001b[A\u001b[A\n",
      "\n",
      "\n",
      "892112it [22:54, 649.02it/s]\u001b[A\u001b[A\u001b[A\n",
      "\n",
      "\n",
      "903088it [22:54, 656.96it/s]\u001b[A\u001b[A\u001b[A\n",
      "\n",
      "\n",
      "913576it [22:55, 664.35it/s]\u001b[A\u001b[A\u001b[A\n",
      "\n",
      "\n",
      "923643it [24:26, 629.89it/s]\u001b[A\u001b[A\u001b[A\n",
      "\n",
      "\n",
      "933247it [24:26, 636.39it/s]\u001b[A\u001b[A\u001b[A\n",
      "\n",
      "\n",
      "943172it [24:26, 643.12it/s]\u001b[A\u001b[A\u001b[A\n",
      "\n",
      "\n",
      "953380it [24:26, 650.03it/s]\u001b[A\u001b[A\u001b[A\n",
      "\n",
      "\n",
      "964115it [24:26, 657.31it/s]\u001b[A\u001b[A\u001b[A\n",
      "\n",
      "\n",
      "974343it [24:26, 664.23it/s]\u001b[A\u001b[A\u001b[A\n",
      "\n",
      "\n",
      "985029it [25:57, 632.29it/s]\u001b[A\u001b[A\u001b[A\n",
      "\n",
      "\n",
      "994892it [25:57, 638.58it/s]\u001b[A\u001b[A\u001b[A\n",
      "\n",
      "\n",
      "1005150it [25:58, 645.12it/s]\u001b[A\u001b[A\u001b[A\n",
      "\n",
      "\n",
      "1015052it [25:58, 651.43it/s]\u001b[A\u001b[A\u001b[A\n",
      "\n",
      "\n",
      "1025804it [25:58, 658.29it/s]\u001b[A\u001b[A\u001b[A\n",
      "\n",
      "\n",
      "1036337it [25:58, 665.01it/s]\u001b[A\u001b[A\u001b[A\n",
      "\n",
      "\n",
      "1046011it [25:58, 671.17it/s]\u001b[A\u001b[A\u001b[A\n",
      "\n",
      "\n",
      "1054962it [27:46, 633.10it/s]\u001b[A\u001b[A\u001b[A\n",
      "\n",
      "\n",
      "1064577it [27:46, 638.83it/s]\u001b[A\u001b[A\u001b[A\n",
      "\n",
      "\n",
      "1073409it [27:46, 644.09it/s]\u001b[A\u001b[A\u001b[A\n",
      "\n",
      "\n",
      "1083470it [27:46, 650.09it/s]\u001b[A\u001b[A\u001b[A\n",
      "\n",
      "\n",
      "1093031it [27:46, 655.79it/s]\u001b[A\u001b[A\u001b[A\n",
      "\n",
      "\n",
      "1100301it [27:47, 659.94it/s]\u001b[A\u001b[A\u001b[A\n",
      "\n",
      "\n",
      "1110872it [27:47, 666.24it/s]\u001b[A\u001b[A\u001b[A\n",
      "\n",
      "\n",
      "1117891it [29:24, 633.57it/s]\u001b[A\u001b[A\u001b[A\n",
      "\n",
      "\n",
      "1127113it [29:24, 638.76it/s]\u001b[A\u001b[A\u001b[A\n",
      "\n",
      "\n",
      "1136999it [29:24, 644.33it/s]\u001b[A\u001b[A\u001b[A\n",
      "\n",
      "\n",
      "1147706it [29:24, 650.36it/s]\u001b[A\u001b[A\u001b[A\n",
      "\n",
      "\n",
      "1157969it [29:24, 656.14it/s]\u001b[A\u001b[A\u001b[A\n",
      "\n",
      "\n",
      "1168412it [29:24, 662.02it/s]\u001b[A\u001b[A\u001b[A\n",
      "\n",
      "\n",
      "1177146it [30:50, 636.24it/s]\u001b[A\u001b[A\u001b[A\n",
      "\n",
      "\n",
      "1187042it [30:50, 641.55it/s]\u001b[A\u001b[A\u001b[A\n",
      "\n",
      "\n",
      "1197133it [30:50, 646.97it/s]\u001b[A\u001b[A\u001b[A\n",
      "\n",
      "\n",
      "1208019it [30:50, 652.82it/s]\u001b[A\u001b[A\u001b[A\n",
      "\n",
      "\n",
      "1219043it [30:50, 658.74it/s]\u001b[A\u001b[A\u001b[A\n",
      "\n",
      "\n",
      "1229663it [30:50, 664.45it/s]\u001b[A\u001b[A\u001b[A\n",
      "\n",
      "\n",
      "1238517it [32:18, 638.79it/s]\u001b[A\u001b[A\u001b[A\n",
      "\n",
      "\n",
      "1248419it [32:18, 643.86it/s]\u001b[A\u001b[A\u001b[A\n",
      "\n",
      "\n",
      "1258808it [32:19, 649.19it/s]\u001b[A\u001b[A\u001b[A\n",
      "\n",
      "\n",
      "1269666it [32:19, 654.75it/s]\u001b[A\u001b[A\u001b[A\n",
      "\n",
      "\n",
      "1280593it [32:19, 660.35it/s]\u001b[A\u001b[A\u001b[A\n",
      "\n",
      "\n",
      "1291347it [32:19, 665.87it/s]\u001b[A\u001b[A\u001b[A\n",
      "\n",
      "\n",
      "1300248it [33:48, 641.14it/s]\u001b[A\u001b[A\u001b[A\n",
      "\n",
      "\n",
      "1310332it [33:48, 646.08it/s]\u001b[A\u001b[A\u001b[A\n",
      "\n",
      "\n",
      "1320701it [33:48, 651.16it/s]\u001b[A\u001b[A\u001b[A\n",
      "\n",
      "\n",
      "1331191it [33:48, 656.30it/s]\u001b[A\u001b[A\u001b[A\n",
      "\n",
      "\n",
      "1342076it [33:48, 661.64it/s]\u001b[A\u001b[A\u001b[A\n",
      "\n",
      "\n",
      "1352837it [33:48, 666.91it/s]\u001b[A\u001b[A\u001b[A\n",
      "\n",
      "\n",
      "1361688it [35:27, 640.02it/s]\u001b[A\u001b[A\u001b[A\n",
      "\n",
      "\n",
      "1371610it [35:27, 644.65it/s]\u001b[A\u001b[A\u001b[A\n",
      "\n",
      "\n",
      "1381216it [35:27, 649.14it/s]\u001b[A\u001b[A\u001b[A\n",
      "\n",
      "\n",
      "1391269it [35:27, 653.83it/s]\u001b[A\u001b[A\u001b[A\n",
      "\n",
      "\n",
      "1401634it [35:27, 658.67it/s]\u001b[A\u001b[A\u001b[A\n",
      "\n",
      "\n",
      "1411557it [35:28, 663.31it/s]\u001b[A\u001b[A\u001b[A\n",
      "\n",
      "\n",
      "1421091it [36:57, 640.93it/s]\u001b[A\u001b[A\u001b[A\n",
      "\n",
      "\n",
      "1431034it [36:57, 645.38it/s]\u001b[A\u001b[A\u001b[A\n",
      "\n",
      "\n",
      "1441521it [36:57, 650.08it/s]\u001b[A\u001b[A\u001b[A\n",
      "\n",
      "\n",
      "1452346it [36:57, 654.93it/s]\u001b[A\u001b[A\u001b[A\n",
      "\n",
      "\n",
      "1462768it [36:57, 659.60it/s]\u001b[A\u001b[A\u001b[A\n",
      "\n",
      "\n",
      "1473903it [36:57, 664.60it/s]\u001b[A\u001b[A\u001b[A\n",
      "\n",
      "\n",
      "1482820it [38:23, 643.72it/s]\u001b[A\u001b[A\u001b[A\n",
      "\n",
      "\n",
      "1493130it [38:23, 648.16it/s]\u001b[A\u001b[A\u001b[A\n",
      "\n",
      "\n",
      "1503170it [38:23, 652.49it/s]\u001b[A\u001b[A\u001b[A\n",
      "\n",
      "\n",
      "1513731it [38:23, 657.05it/s]\u001b[A\u001b[A\u001b[A\n",
      "\n",
      "\n",
      "1524582it [38:23, 661.73it/s]\u001b[A\u001b[A\u001b[A\n",
      "\n",
      "\n",
      "1535628it [38:24, 666.50it/s]\u001b[A\u001b[A\u001b[A\n",
      "\n",
      "\n",
      "1544550it [39:52, 645.67it/s]\u001b[A\u001b[A\u001b[A\n",
      "\n",
      "\n",
      "1554335it [39:52, 649.73it/s]\u001b[A\u001b[A\u001b[A\n",
      "\n",
      "\n",
      "1564620it [39:52, 654.00it/s]\u001b[A\u001b[A\u001b[A\n",
      "\n",
      "\n",
      "1575102it [39:52, 658.36it/s]\u001b[A\u001b[A\u001b[A\n",
      "\n",
      "\n",
      "1585743it [39:52, 662.78it/s]\u001b[A\u001b[A\u001b[A\n",
      "\n",
      "\n",
      "1596372it [39:52, 667.19it/s]\u001b[A\u001b[A\u001b[A\n",
      "\n",
      "\n",
      "1605101it [41:25, 645.80it/s]\u001b[A\u001b[A\u001b[A\n",
      "\n",
      "\n",
      "1615283it [41:25, 649.87it/s]\u001b[A\u001b[A\u001b[A\n",
      "\n",
      "\n",
      "1625163it [41:25, 653.82it/s]\u001b[A\u001b[A\u001b[A\n",
      "\n",
      "\n",
      "1635703it [41:25, 658.04it/s]\u001b[A\u001b[A\u001b[A\n",
      "\n",
      "\n",
      "1646474it [41:25, 662.34it/s]\u001b[A\u001b[A\u001b[A\n",
      "\n",
      "\n",
      "1657053it [41:25, 666.57it/s]\u001b[A\u001b[A\u001b[A\n",
      "\n",
      "\n",
      "1665790it [42:51, 647.74it/s]\u001b[A\u001b[A\u001b[A\n",
      "\n",
      "\n",
      "1676397it [42:51, 651.84it/s]\u001b[A\u001b[A\u001b[A\n",
      "\n",
      "\n",
      "1686567it [42:51, 655.77it/s]\u001b[A\u001b[A\u001b[A\n",
      "\n",
      "\n",
      "1697522it [42:51, 660.00it/s]\u001b[A\u001b[A\u001b[A\n",
      "\n",
      "\n",
      "1707741it [42:52, 663.95it/s]\u001b[A\u001b[A\u001b[A\n",
      "\n",
      "\n",
      "1718836it [42:52, 668.24it/s]\u001b[A\u001b[A\u001b[A\n",
      "\n",
      "\n",
      "1727733it [44:23, 648.63it/s]\u001b[A\u001b[A\u001b[A\n",
      "\n",
      "\n",
      "1737564it [44:23, 652.29it/s]\u001b[A\u001b[A\u001b[A\n",
      "\n",
      "\n",
      "1747685it [44:23, 656.07it/s]\u001b[A\u001b[A\u001b[A\n",
      "\n",
      "\n",
      "1758413it [44:23, 660.07it/s]\u001b[A\u001b[A\u001b[A\n",
      "\n",
      "\n",
      "1769277it [44:24, 664.12it/s]\u001b[A\u001b[A\u001b[A\n",
      "\n",
      "\n",
      "1779700it [44:24, 668.01it/s]\u001b[A\u001b[A\u001b[A\n",
      "\n",
      "\n",
      "1788437it [45:52, 649.85it/s]\u001b[A\u001b[A\u001b[A\n",
      "\n",
      "\n",
      "1798815it [45:52, 653.59it/s]\u001b[A\u001b[A\u001b[A\n",
      "\n",
      "\n",
      "1809214it [45:52, 657.35it/s]\u001b[A\u001b[A\u001b[A\n",
      "\n",
      "\n",
      "1820197it [45:52, 661.31it/s]\u001b[A\u001b[A\u001b[A\n",
      "\n",
      "\n",
      "1830704it [45:52, 665.11it/s]\u001b[A\u001b[A\u001b[A\n",
      "\n",
      "\n",
      "1838951it [45:53, 667.92it/s]\u001b[A\u001b[A\u001b[A\n",
      "\n",
      "\n",
      "1844910it [47:20, 649.42it/s]\u001b[A\u001b[A\u001b[A\n",
      "\n",
      "\n",
      "1855045it [47:20, 652.96it/s]\u001b[A\u001b[A\u001b[A\n",
      "\n",
      "\n",
      "1865219it [47:21, 656.52it/s]\u001b[A\u001b[A\u001b[A\n",
      "\n",
      "\n",
      "1875464it [47:21, 660.10it/s]\u001b[A\u001b[A\u001b[A\n",
      "\n",
      "\n",
      "1886028it [47:21, 663.80it/s]\u001b[A\u001b[A\u001b[A\n",
      "\n",
      "\n",
      "1896852it [47:21, 667.58it/s]\u001b[A\u001b[A\u001b[A\n",
      "\n",
      "\n",
      "1905601it [48:48, 650.79it/s]\u001b[A\u001b[A\u001b[A\n",
      "\n",
      "\n",
      "1915785it [48:48, 654.25it/s]\u001b[A\u001b[A\u001b[A\n",
      "\n",
      "\n",
      "1925755it [48:48, 657.63it/s]\u001b[A\u001b[A\u001b[A\n",
      "\n",
      "\n",
      "1936300it [48:48, 661.21it/s]\u001b[A\u001b[A\u001b[A\n",
      "\n",
      "\n",
      "1947083it [48:48, 664.87it/s]\u001b[A\u001b[A\u001b[A\n",
      "\n",
      "\n",
      "1958087it [48:48, 668.60it/s]\u001b[A\u001b[A\u001b[A\n",
      "\n",
      "\n",
      "1966964it [50:14, 652.45it/s]\u001b[A\u001b[A\u001b[A\n",
      "\n",
      "\n",
      "1976962it [50:14, 655.74it/s]\u001b[A\u001b[A\u001b[A\n",
      "\n",
      "\n",
      "1987091it [50:14, 659.08it/s]\u001b[A\u001b[A\u001b[A\n",
      "\n",
      "\n",
      "1997717it [50:15, 662.58it/s]\u001b[A\u001b[A\u001b[A\n",
      "\n",
      "\n",
      "2008402it [50:15, 666.10it/s]\u001b[A\u001b[A\u001b[A\n",
      "\n",
      "\n",
      "2019111it [50:15, 669.63it/s]\u001b[A\u001b[A\u001b[A\n",
      "\n",
      "\n",
      "2027893it [51:42, 653.64it/s]\u001b[A\u001b[A\u001b[A\n",
      "\n",
      "\n",
      "2037874it [51:42, 656.83it/s]\u001b[A\u001b[A\u001b[A\n",
      "\n",
      "\n",
      "2048354it [51:42, 660.19it/s]\u001b[A\u001b[A\u001b[A\n",
      "\n",
      "\n",
      "2059358it [51:42, 663.72it/s]\u001b[A\u001b[A\u001b[A\n",
      "\n",
      "\n",
      "2069973it [51:42, 667.12it/s]\u001b[A\u001b[A\u001b[A\n",
      "\n",
      "\n",
      "2080577it [51:42, 670.51it/s]\u001b[A\u001b[A\u001b[A\n",
      "\n",
      "\n",
      "2089404it [53:14, 654.12it/s]\u001b[A\u001b[A\u001b[A\n",
      "\n",
      "\n",
      "2099595it [53:14, 657.29it/s]\u001b[A\u001b[A\u001b[A\n",
      "\n",
      "\n",
      "2109063it [53:14, 660.23it/s]\u001b[A\u001b[A\u001b[A\n",
      "\n",
      "\n",
      "2120291it [53:14, 663.73it/s]\u001b[A\u001b[A\u001b[A\n",
      "\n",
      "\n",
      "2131004it [53:14, 667.06it/s]\u001b[A\u001b[A\u001b[A\n",
      "\n",
      "\n",
      "2141376it [53:14, 670.29it/s]\u001b[A\u001b[A\u001b[A\n",
      "\n",
      "\n",
      "2150098it [54:44, 654.68it/s]\u001b[A\u001b[A\u001b[A\n",
      "\n",
      "\n",
      "2159647it [54:44, 657.57it/s]\u001b[A\u001b[A\u001b[A\n",
      "\n",
      "\n",
      "2169787it [54:44, 660.63it/s]\u001b[A\u001b[A\u001b[A\n",
      "\n",
      "\n",
      "2180683it [54:44, 663.93it/s]\u001b[A\u001b[A\u001b[A\n",
      "\n",
      "\n",
      "2191067it [54:44, 667.07it/s]\u001b[A\u001b[A\u001b[A\n",
      "\n",
      "\n",
      "2201617it [54:44, 670.26it/s]\u001b[A\u001b[A\u001b[A\n",
      "\n",
      "\n",
      "2210297it [56:14, 654.94it/s]\u001b[A\u001b[A\u001b[A\n",
      "\n",
      "\n",
      "2219321it [56:14, 657.59it/s]\u001b[A\u001b[A\u001b[A\n",
      "\n",
      "\n",
      "2229856it [56:15, 660.69it/s]\u001b[A\u001b[A\u001b[A\n",
      "\n",
      "\n",
      "2240277it [56:15, 663.76it/s]\u001b[A\u001b[A\u001b[A\n",
      "\n",
      "\n",
      "2251042it [56:15, 666.93it/s]\u001b[A\u001b[A\u001b[A\n",
      "\n",
      "\n",
      "2262147it [56:15, 670.20it/s]\u001b[A\u001b[A\u001b[A\n",
      "\n",
      "\n",
      "2271007it [57:43, 655.61it/s]\u001b[A\u001b[A\u001b[A\n",
      "\n",
      "\n",
      "2281301it [57:44, 658.57it/s]\u001b[A\u001b[A\u001b[A\n",
      "\n",
      "\n",
      "2291795it [57:44, 661.58it/s]\u001b[A\u001b[A\u001b[A\n",
      "\n",
      "\n",
      "2302659it [57:44, 664.69it/s]\u001b[A\u001b[A\u001b[A\n",
      "\n",
      "\n",
      "2312818it [57:44, 667.61it/s]\u001b[A\u001b[A\u001b[A\n",
      "\n",
      "\n",
      "2323919it [57:44, 670.79it/s]\u001b[A\u001b[A\u001b[A\n",
      "\n",
      "\n",
      "2332803it [59:09, 657.16it/s]\u001b[A\u001b[A\u001b[A\n",
      "\n",
      "\n",
      "2342724it [59:09, 659.93it/s]\u001b[A\u001b[A\u001b[A\n",
      "\n",
      "\n",
      "2352788it [59:10, 662.75it/s]\u001b[A\u001b[A\u001b[A\n",
      "\n",
      "\n",
      "2363195it [59:10, 665.66it/s]\u001b[A\u001b[A\u001b[A\n",
      "\n",
      "\n",
      "2374150it [59:10, 668.73it/s]\u001b[A\u001b[A\u001b[A\n",
      "\n",
      "\n",
      "2385146it [59:10, 671.81it/s]\u001b[A\u001b[A\u001b[A\n",
      "\n",
      "\n",
      "2394018it [1:00:40, 657.55it/s]\u001b[A\u001b[A\u001b[A\n",
      "\n",
      "\n",
      "2403627it [1:00:40, 660.17it/s]\u001b[A\u001b[A\u001b[A\n",
      "\n",
      "\n",
      "2413722it [1:00:41, 662.92it/s]\u001b[A\u001b[A\u001b[A\n",
      "\n",
      "\n",
      "2424164it [1:00:41, 665.77it/s]\u001b[A\u001b[A\u001b[A\n",
      "\n",
      "\n",
      "2435070it [1:00:41, 668.75it/s]\u001b[A\u001b[A\u001b[A\n",
      "\n",
      "\n",
      "2445388it [1:00:41, 671.56it/s]\u001b[A\u001b[A\u001b[A\n",
      "\n",
      "\n",
      "2454041it [1:02:06, 658.45it/s]\u001b[A\u001b[A\u001b[A\n",
      "\n",
      "\n",
      "2464125it [1:02:07, 661.14it/s]\u001b[A\u001b[A\u001b[A\n",
      "\n",
      "\n",
      "2474419it [1:02:07, 663.88it/s]\u001b[A\u001b[A\u001b[A\n",
      "\n",
      "\n",
      "2485326it [1:02:07, 666.79it/s]\u001b[A\u001b[A\u001b[A\n",
      "\n",
      "\n",
      "2496315it [1:02:07, 669.72it/s]\u001b[A\u001b[A\u001b[A\n",
      "\n",
      "\n",
      "2506801it [1:02:07, 672.52it/s]\u001b[A\u001b[A\u001b[A\n",
      "\n",
      "\n",
      "2515645it [1:03:43, 657.94it/s]\u001b[A\u001b[A\u001b[A\n",
      "\n",
      "\n",
      "2524794it [1:03:43, 660.32it/s]\u001b[A\u001b[A\u001b[A\n",
      "\n",
      "\n",
      "2534203it [1:03:43, 662.76it/s]\u001b[A\u001b[A\u001b[A\n",
      "\n",
      "\n",
      "2541234it [1:03:44, 664.43it/s]\u001b[A\u001b[A\u001b[A\n",
      "\n",
      "\n",
      "2551572it [1:03:44, 667.12it/s]\u001b[A\u001b[A\u001b[A\n",
      "\n",
      "\n",
      "2562176it [1:03:44, 669.87it/s]\u001b[A\u001b[A\u001b[A\n",
      "\n",
      "\n",
      "2572744it [1:05:09, 658.04it/s]\u001b[A\u001b[A\u001b[A\n",
      "\n",
      "\n",
      "2582429it [1:05:09, 660.51it/s]\u001b[A\u001b[A\u001b[A\n",
      "\n",
      "\n",
      "2592325it [1:05:09, 663.02it/s]\u001b[A\u001b[A\u001b[A\n",
      "\n",
      "\n",
      "2603489it [1:05:09, 665.86it/s]\u001b[A\u001b[A\u001b[A\n",
      "\n",
      "\n",
      "2614338it [1:05:10, 668.62it/s]\u001b[A\u001b[A\u001b[A\n",
      "\n",
      "\n",
      "2624802it [1:05:10, 671.27it/s]\u001b[A\u001b[A\u001b[A\n",
      "\n",
      "\n",
      "2633579it [1:06:32, 659.63it/s]\u001b[A\u001b[A\u001b[A\n",
      "\n",
      "\n",
      "2643794it [1:06:32, 662.17it/s]\u001b[A\u001b[A\u001b[A\n",
      "\n",
      "\n",
      "2654305it [1:06:32, 664.79it/s]\u001b[A\u001b[A\u001b[A\n",
      "\n",
      "\n",
      "2665109it [1:06:32, 667.48it/s]\u001b[A\u001b[A\u001b[A\n",
      "\n",
      "\n",
      "2676146it [1:06:32, 670.22it/s]\u001b[A\u001b[A\u001b[A\n",
      "\n",
      "\n",
      "2687094it [1:06:33, 672.95it/s]\u001b[A\u001b[A\u001b[A\n",
      "\n",
      "\n",
      "2696103it [1:08:05, 659.88it/s]\u001b[A\u001b[A\u001b[A\n",
      "\n",
      "\n",
      "2706016it [1:08:05, 662.29it/s]\u001b[A\u001b[A\u001b[A\n",
      "\n",
      "\n",
      "2716779it [1:08:05, 664.91it/s]\u001b[A\u001b[A\u001b[A\n",
      "\n",
      "\n",
      "2727176it [1:08:06, 667.44it/s]\u001b[A\u001b[A\u001b[A\n",
      "\n",
      "\n",
      "2737424it [1:08:06, 669.93it/s]\u001b[A\u001b[A\u001b[A\n",
      "\n",
      "\n",
      "2748234it [1:08:06, 672.56it/s]\u001b[A\u001b[A\u001b[A\n",
      "\n",
      "\n",
      "2756980it [1:09:42, 659.16it/s]\u001b[A\u001b[A\u001b[A\n",
      "\n",
      "\n",
      "2766251it [1:09:42, 661.36it/s]\u001b[A\u001b[A\u001b[A\n",
      "\n",
      "\n",
      "2776390it [1:09:42, 663.77it/s]\u001b[A\u001b[A\u001b[A\n",
      "\n",
      "\n",
      "2786307it [1:09:42, 666.12it/s]\u001b[A\u001b[A\u001b[A\n",
      "\n",
      "\n",
      "2796214it [1:09:42, 668.47it/s]\u001b[A\u001b[A\u001b[A\n",
      "\n",
      "\n",
      "2807138it [1:09:43, 671.07it/s]\u001b[A\u001b[A\u001b[A\n",
      "\n",
      "\n",
      "2817853it [1:09:43, 673.62it/s]\u001b[A\u001b[A\u001b[A"
     ]
    }
   ],
   "source": [
    "# organize reviews into a list of sentences made of lists of words\n",
    "unigram_sentences = []\n",
    "num_reviews = len(text)\n",
    "for sentence in tqdm(lemmatized_sentence_corpus(text_seq=text), total = num_reviews):\n",
    "    unigram_sentences.append(sentence)"
   ]
  },
  {
   "cell_type": "code",
   "execution_count": null,
   "metadata": {},
   "outputs": [],
   "source": [
    "len(unigram_sentences)     # sentences in the review corpus"
   ]
  },
  {
   "cell_type": "code",
   "execution_count": 208,
   "metadata": {},
   "outputs": [],
   "source": [
    "# Train a first-order phrase detector\n",
    "bigram_model = Phrases(unigram_sentences, min_count=5)\n",
    "\n",
    "# Transform unigram sentences into bigram sentences\n",
    "# Paired words are connected by an underscore, e.g. ice_cream\n",
    "bigram_sentences = []\n",
    "for sentence in unigram_sentences:\n",
    "    bigram_sentences.append(bigram_model[sentence])"
   ]
  },
  {
   "cell_type": "code",
   "execution_count": 267,
   "metadata": {},
   "outputs": [
    {
     "name": "stderr",
     "output_type": "stream",
     "text": [
      "/home/ubuntu/src/anaconda3/envs/fastai/lib/python3.6/site-packages/gensim/models/phrases.py:494: UserWarning: For a faster implementation, use the gensim.models.phrases.Phraser class\n",
      "  warnings.warn(\"For a faster implementation, use the gensim.models.phrases.Phraser class\")\n"
     ]
    }
   ],
   "source": [
    "# Train a second-order phrase detector\n",
    "trigram_model = Phrases(bigram_sentences, min_count=5)\n",
    "\n",
    "# Transform bigram sentences into trigram sentences\n",
    "trigram_sentences = []\n",
    "for sentence in bigram_sentences:\n",
    "    trigram_sentences.append(trigram_model[sentence])\n",
    "\n",
    "# remove any remaining stopwords\n",
    "trigram_sentences = [[word for word in sentence if word not in nlp.Defaults.stop_words] for sentence in trigram_sentences]"
   ]
  },
  {
   "cell_type": "code",
   "execution_count": 292,
   "metadata": {},
   "outputs": [],
   "source": [
    "# the trigrams will be saved in a dataframe with a single column.\n",
    "# each row is one sentence from any review\n",
    "# each sentence is a single string separated by a single space.\n",
    "trigram_sentences_savedf = pd.DataFrame([u' '.join(sentence) for sentence in trigram_sentences], columns=['preprocessed_review'])\n",
    "save_df_s3(trigram_sentences_savedf, bucket_name, 'amazon_reviews/preprocessed_reviews.feather')"
   ]
  },
  {
   "cell_type": "code",
   "execution_count": 293,
   "metadata": {},
   "outputs": [
    {
     "data": {
      "text/html": [
       "<div>\n",
       "<style>\n",
       "    .dataframe thead tr:only-child th {\n",
       "        text-align: right;\n",
       "    }\n",
       "\n",
       "    .dataframe thead th {\n",
       "        text-align: left;\n",
       "    }\n",
       "\n",
       "    .dataframe tbody tr th {\n",
       "        vertical-align: top;\n",
       "    }\n",
       "</style>\n",
       "<table border=\"1\" class=\"dataframe\">\n",
       "  <thead>\n",
       "    <tr style=\"text-align: right;\">\n",
       "      <th></th>\n",
       "      <th>preprocessed_review</th>\n",
       "    </tr>\n",
       "  </thead>\n",
       "  <tbody>\n",
       "    <tr>\n",
       "      <th>0</th>\n",
       "      <td>dpe the job well</td>\n",
       "    </tr>\n",
       "    <tr>\n",
       "      <th>1</th>\n",
       "      <td>b flax d be a re...</td>\n",
       "    </tr>\n",
       "    <tr>\n",
       "      <th>2</th>\n",
       "      <td>-PRON- do -PRON-...</td>\n",
       "    </tr>\n",
       "    <tr>\n",
       "      <th>3</th>\n",
       "      <td>-PRON- be reason...</td>\n",
       "    </tr>\n",
       "    <tr>\n",
       "      <th>4</th>\n",
       "      <td>good product goo...</td>\n",
       "    </tr>\n",
       "  </tbody>\n",
       "</table>\n",
       "</div>"
      ],
      "text/plain": [
       "   preprocessed_review\n",
       "0     dpe the job well\n",
       "1  b flax d be a re...\n",
       "2  -PRON- do -PRON-...\n",
       "3  -PRON- be reason...\n",
       "4  good product goo..."
      ]
     },
     "execution_count": 293,
     "metadata": {},
     "output_type": "execute_result"
    }
   ],
   "source": [
    "trigram_sentences_savedf.head()"
   ]
  },
  {
   "cell_type": "code",
   "execution_count": null,
   "metadata": {},
   "outputs": [],
   "source": []
  },
  {
   "cell_type": "code",
   "execution_count": null,
   "metadata": {},
   "outputs": [],
   "source": []
  },
  {
   "cell_type": "code",
   "execution_count": null,
   "metadata": {},
   "outputs": [],
   "source": []
  },
  {
   "cell_type": "code",
   "execution_count": null,
   "metadata": {},
   "outputs": [],
   "source": []
  },
  {
   "cell_type": "code",
   "execution_count": 209,
   "metadata": {},
   "outputs": [
    {
     "data": {
      "text/plain": [
       "[['dpe', 'the', 'job', 'well'],\n",
       " ['b', 'flax', 'd', 'be', 'a', 'regular', 'at', '-PRON-', 'house'],\n",
       " ['-PRON-', 'do', '-PRON-', 'job', 'simply', 'and', 'with', 'good', 'result'],\n",
       " ['-PRON-',\n",
       "  'be',\n",
       "  'reasonable',\n",
       "  'last',\n",
       "  'a',\n",
       "  'long',\n",
       "  'time',\n",
       "  'and',\n",
       "  'be',\n",
       "  'able',\n",
       "  'to',\n",
       "  'be',\n",
       "  'obtain',\n",
       "  'with',\n",
       "  'free',\n",
       "  'shipping',\n",
       "  'if',\n",
       "  '-PRON-',\n",
       "  'hunt',\n",
       "  'around']]"
      ]
     },
     "execution_count": 209,
     "metadata": {},
     "output_type": "execute_result"
    }
   ],
   "source": [
    "unigram_sentences[0:4]"
   ]
  },
  {
   "cell_type": "code",
   "execution_count": 210,
   "metadata": {},
   "outputs": [
    {
     "data": {
      "text/plain": [
       "[['dpe', 'the', 'job', 'well'],\n",
       " ['b', 'flax', 'd', 'be', 'a', 'regular', 'at', '-PRON-', 'house'],\n",
       " ['-PRON-', 'do', '-PRON-', 'job', 'simply', 'and', 'with', 'good', 'result'],\n",
       " ['-PRON-',\n",
       "  'be',\n",
       "  'reasonable',\n",
       "  'last',\n",
       "  'a',\n",
       "  'long_time',\n",
       "  'and',\n",
       "  'be',\n",
       "  'able_to',\n",
       "  'be',\n",
       "  'obtain',\n",
       "  'with',\n",
       "  'free_shipping',\n",
       "  'if',\n",
       "  '-PRON-',\n",
       "  'hunt',\n",
       "  'around']]"
      ]
     },
     "execution_count": 210,
     "metadata": {},
     "output_type": "execute_result"
    }
   ],
   "source": [
    "bigram_sentences[0:4]"
   ]
  },
  {
   "cell_type": "code",
   "execution_count": 211,
   "metadata": {},
   "outputs": [],
   "source": [
    "example = [word for sentence in unigram_sentences for word in sentence]  # flattened list"
   ]
  },
  {
   "cell_type": "code",
   "execution_count": 212,
   "metadata": {},
   "outputs": [
    {
     "data": {
      "text/plain": [
       "373578"
      ]
     },
     "execution_count": 212,
     "metadata": {},
     "output_type": "execute_result"
    }
   ],
   "source": [
    "len(example)"
   ]
  },
  {
   "cell_type": "code",
   "execution_count": 213,
   "metadata": {},
   "outputs": [
    {
     "data": {
      "text/plain": [
       "['dpe', 'the', 'job', 'well', 'b', 'flax', 'd', 'be', 'a', 'regular']"
      ]
     },
     "execution_count": 213,
     "metadata": {},
     "output_type": "execute_result"
    }
   ],
   "source": [
    "example[:10]"
   ]
  },
  {
   "cell_type": "code",
   "execution_count": 214,
   "metadata": {},
   "outputs": [
    {
     "name": "stderr",
     "output_type": "stream",
     "text": [
      "/home/ubuntu/src/anaconda3/envs/fastai/lib/python3.6/site-packages/gensim/models/phrases.py:494: UserWarning: For a faster implementation, use the gensim.models.phrases.Phraser class\n",
      "  warnings.warn(\"For a faster implementation, use the gensim.models.phrases.Phraser class\")\n"
     ]
    }
   ],
   "source": [
    "sample_bigr = bigram_model[example]"
   ]
  },
  {
   "cell_type": "code",
   "execution_count": 215,
   "metadata": {},
   "outputs": [
    {
     "data": {
      "text/plain": [
       "354716"
      ]
     },
     "execution_count": 215,
     "metadata": {},
     "output_type": "execute_result"
    }
   ],
   "source": [
    "len(sample_bigr)"
   ]
  },
  {
   "cell_type": "code",
   "execution_count": 216,
   "metadata": {},
   "outputs": [
    {
     "data": {
      "text/plain": [
       "['dpe', 'the', 'job', 'well', 'b', 'flax', 'd', 'be', 'a', 'regular']"
      ]
     },
     "execution_count": 216,
     "metadata": {},
     "output_type": "execute_result"
    }
   ],
   "source": [
    "sample_bigr[:10]"
   ]
  },
  {
   "cell_type": "code",
   "execution_count": 217,
   "metadata": {},
   "outputs": [
    {
     "name": "stderr",
     "output_type": "stream",
     "text": [
      "/home/ubuntu/src/anaconda3/envs/fastai/lib/python3.6/site-packages/gensim/models/phrases.py:494: UserWarning: For a faster implementation, use the gensim.models.phrases.Phraser class\n",
      "  warnings.warn(\"For a faster implementation, use the gensim.models.phrases.Phraser class\")\n"
     ]
    }
   ],
   "source": [
    "sample_trigr = trigram_model[sample_bigr]"
   ]
  },
  {
   "cell_type": "code",
   "execution_count": 218,
   "metadata": {},
   "outputs": [
    {
     "data": {
      "text/plain": [
       "349647"
      ]
     },
     "execution_count": 218,
     "metadata": {},
     "output_type": "execute_result"
    }
   ],
   "source": [
    "len(sample_trigr)"
   ]
  },
  {
   "cell_type": "code",
   "execution_count": 219,
   "metadata": {},
   "outputs": [
    {
     "data": {
      "text/plain": [
       "['dpe', 'the', 'job', 'well', 'b', 'flax', 'd', 'be', 'a', 'regular']"
      ]
     },
     "execution_count": 219,
     "metadata": {},
     "output_type": "execute_result"
    }
   ],
   "source": [
    "sample_trigr[:10]"
   ]
  },
  {
   "cell_type": "code",
   "execution_count": 241,
   "metadata": {},
   "outputs": [
    {
     "name": "stdout",
     "output_type": "stream",
     "text": [
      "cell_phone\n",
      "allergic_reaction\n",
      "prostate_health\n",
      "in_conjunction\n",
      "what_happen\n",
      "knee_pain\n",
      "fat_loss\n",
      "very_disappointed\n",
      "point_where\n",
      "whole_food\n",
      "bald_spot\n",
      "zone_perfect\n",
      "sugar_free\n",
      "brown_spot\n",
      "pycnogenol_gel\n",
      "fine_line\n",
      "fda_approve\n",
      "next_day\n",
      "such_as\n",
      "belt_clip\n",
      "extra_energy\n"
     ]
    }
   ],
   "source": [
    "bigr_set = set([word for word in sample_bigr if '_' in word])   # bi-grams\n",
    "\n",
    "# print arbitrary 20 bigrams\n",
    "count = 0\n",
    "for e in bigr_set:\n",
    "    if count <= 20:\n",
    "        print(e)\n",
    "        count += 1\n",
    "    else:\n",
    "        break"
   ]
  },
  {
   "cell_type": "code",
   "execution_count": 224,
   "metadata": {},
   "outputs": [],
   "source": [
    "trigr_set = set([word for word in sample_trigr if '_' in word])   # tri-grams"
   ]
  },
  {
   "cell_type": "code",
   "execution_count": 247,
   "metadata": {},
   "outputs": [
    {
     "name": "stdout",
     "output_type": "stream",
     "text": [
      "not_go_wrong\n",
      "not_live_without\n",
      "no_longer_carry\n",
      "no_matter_what\n",
      "have_no_idea\n",
      "do_not_know_why\n",
      "do_not_know_how\n",
      "no_side_affect\n",
      "no_jet_lag\n",
      "do_not_notice_any\n",
      "no_issue\n",
      "no_side_effect\n",
      "no_improvement\n",
      "do_not_bother\n",
      "not_sure\n"
     ]
    }
   ],
   "source": [
    "# print 20 trigrams containing 'no' or 'not'\n",
    "for e in (trigr_set - bigr_set):\n",
    "    if ('no_' in e or 'not_' in e):\n",
    "        print(e)"
   ]
  },
  {
   "cell_type": "markdown",
   "metadata": {},
   "source": [
    "The list below shows the additional \"trigrams\" captured by the model.  Note that all of these are not exactly trigrams - there are some bigrams here as well.  This is because in the formula for calculating the threshold for forming a phrase, the total vocabulary of the text corpus is a factor.  We trained the trigrams model on a different corpus than the one we used for the bigrams model.  Because of this, some additional two-word phrases also get detected.\n",
    "\n",
    "Some potentially useful examples of phrases detected here:\n",
    "\n",
    "* no_jet_lag\n",
    "* not_go_wrong\n",
    "* no_complaint\n",
    "* no_side_effect\n",
    "\n",
    "The meanings of the above words change if we don't treat them as part of a single phrase."
   ]
  },
  {
   "cell_type": "code",
   "execution_count": null,
   "metadata": {},
   "outputs": [],
   "source": []
  },
  {
   "cell_type": "code",
   "execution_count": null,
   "metadata": {},
   "outputs": [],
   "source": []
  },
  {
   "cell_type": "code",
   "execution_count": null,
   "metadata": {},
   "outputs": [],
   "source": []
  },
  {
   "cell_type": "code",
   "execution_count": null,
   "metadata": {},
   "outputs": [],
   "source": []
  },
  {
   "cell_type": "code",
   "execution_count": null,
   "metadata": {},
   "outputs": [],
   "source": []
  },
  {
   "cell_type": "code",
   "execution_count": null,
   "metadata": {},
   "outputs": [],
   "source": [
    "for parsed_review in tqdm_notebook(nlp.pipe(text, batch_size=10000, n_threads=36)):\n",
    "    unigram_review = [token.lemma_ for token in parsed_review if not (token.is_space or token.is_punct)]"
   ]
  },
  {
   "cell_type": "code",
   "execution_count": null,
   "metadata": {},
   "outputs": [],
   "source": [
    "%%time\n",
    "unigram_sentences_all = [sentence for sentence in lemmatized_sentence_corpus(text)]"
   ]
  },
  {
   "cell_type": "code",
   "execution_count": null,
   "metadata": {},
   "outputs": [],
   "source": []
  },
  {
   "cell_type": "code",
   "execution_count": null,
   "metadata": {},
   "outputs": [],
   "source": [
    "%%time\n",
    "\n",
    "for parsed_review in nlp.pipe(text, batch_size=1000, n_threads=4):\n",
    "\n",
    "    # lemmatize the text, removing punctuation and whitespace\n",
    "    unigram_review = [token.lemma_ for token in parsed_review if not (token.is_space or token.is_punct)]\n",
    "\n",
    "    # apply the first-order and second-order phrase models\n",
    "    bigram_review = bigram_model[unigram_review]\n",
    "    trigram_review = trigram_model[bigram_review]\n",
    "\n",
    "    # remove any remaining stopwords\n",
    "    trigram_review = [term for term in trigram_review if term not in spacy.en.STOPWORDS]\n",
    "\n",
    "    # write the transformed review as a line in the new file\n",
    "    trigram_review = u' '.join(trigram_review)\n",
    "    f.write(trigram_review + '\\n')"
   ]
  },
  {
   "cell_type": "code",
   "execution_count": null,
   "metadata": {},
   "outputs": [],
   "source": [
    "%%time\n",
    "\n",
    "# this is a bit time consuming - make the if statement True\n",
    "# if you want to execute data prep yourself.\n",
    "if 0 == 1:\n",
    "\n",
    "    with codecs.open(trigram_reviews_filepath, 'w', encoding='utf_8') as f:\n",
    "        \n",
    "        for parsed_review in nlp.pipe(line_review(review_txt_filepath),\n",
    "                                      batch_size=10000, n_threads=4):\n",
    "            \n",
    "            # lemmatize the text, removing punctuation and whitespace\n",
    "            unigram_review = [token.lemma_ for token in parsed_review\n",
    "                              if not punct_space(token)]\n",
    "            \n",
    "            # apply the first-order and second-order phrase models\n",
    "            bigram_review = bigram_model[unigram_review]\n",
    "            trigram_review = trigram_model[bigram_review]\n",
    "            \n",
    "            # remove any remaining stopwords\n",
    "            trigram_review = [term for term in trigram_review\n",
    "                              if term not in spacy.en.STOPWORDS]\n",
    "            \n",
    "            # write the transformed review as a line in the new file\n",
    "            trigram_review = u' '.join(trigram_review)\n",
    "            f.write(trigram_review + '\\n')"
   ]
  },
  {
   "cell_type": "code",
   "execution_count": null,
   "metadata": {},
   "outputs": [],
   "source": []
  },
  {
   "cell_type": "code",
   "execution_count": null,
   "metadata": {},
   "outputs": [],
   "source": []
  },
  {
   "cell_type": "code",
   "execution_count": null,
   "metadata": {},
   "outputs": [],
   "source": []
  },
  {
   "cell_type": "code",
   "execution_count": null,
   "metadata": {},
   "outputs": [],
   "source": []
  },
  {
   "cell_type": "code",
   "execution_count": null,
   "metadata": {},
   "outputs": [],
   "source": []
  }
 ],
 "metadata": {
  "kernelspec": {
   "display_name": "Python 3",
   "language": "python",
   "name": "python3"
  },
  "language_info": {
   "codemirror_mode": {
    "name": "ipython",
    "version": 3
   },
   "file_extension": ".py",
   "mimetype": "text/x-python",
   "name": "python",
   "nbconvert_exporter": "python",
   "pygments_lexer": "ipython3",
   "version": "3.6.4"
  }
 },
 "nbformat": 4,
 "nbformat_minor": 2
}
