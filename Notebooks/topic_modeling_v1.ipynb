{
 "cells": [
  {
   "cell_type": "code",
   "execution_count": 1,
   "metadata": {},
   "outputs": [],
   "source": [
    "%matplotlib inline\n",
    "%load_ext autoreload\n",
    "%autoreload 2\n",
    "\n",
    "import pandas as pd\n",
    "import numpy as np\n",
    "\n",
    "from S3_read_write import load_df_s3, save_df_s3\n",
    "\n",
    "from IPython.display import Image\n",
    "from IPython.core.display import HTML "
   ]
  },
  {
   "cell_type": "markdown",
   "metadata": {},
   "source": [
    "# Load Amazon Reviews Data"
   ]
  },
  {
   "cell_type": "code",
   "execution_count": 3,
   "metadata": {},
   "outputs": [],
   "source": [
    "bucket_name = 'amazon-reviews-project'"
   ]
  },
  {
   "cell_type": "code",
   "execution_count": 4,
   "metadata": {},
   "outputs": [],
   "source": [
    "reviews = load_df_s3(bucket_name, 'amazon_reviews/reviews_data_clean', filetype='text', sep='|')"
   ]
  },
  {
   "cell_type": "code",
   "execution_count": 8,
   "metadata": {},
   "outputs": [
    {
     "data": {
      "text/plain": [
       "(585444, 8)"
      ]
     },
     "execution_count": 8,
     "metadata": {},
     "output_type": "execute_result"
    }
   ],
   "source": [
    "reviews.shape    # 585,444 records"
   ]
  },
  {
   "cell_type": "code",
   "execution_count": 6,
   "metadata": {},
   "outputs": [
    {
     "data": {
      "text/html": [
       "<div>\n",
       "<style scoped>\n",
       "    .dataframe tbody tr th:only-of-type {\n",
       "        vertical-align: middle;\n",
       "    }\n",
       "\n",
       "    .dataframe tbody tr th {\n",
       "        vertical-align: top;\n",
       "    }\n",
       "\n",
       "    .dataframe thead th {\n",
       "        text-align: right;\n",
       "    }\n",
       "</style>\n",
       "<table border=\"1\" class=\"dataframe\">\n",
       "  <thead>\n",
       "    <tr style=\"text-align: right;\">\n",
       "      <th></th>\n",
       "      <th>asin</th>\n",
       "      <th>helpful</th>\n",
       "      <th>reviewText</th>\n",
       "      <th>overall</th>\n",
       "      <th>summary</th>\n",
       "      <th>description</th>\n",
       "      <th>title</th>\n",
       "      <th>categories_clean</th>\n",
       "    </tr>\n",
       "  </thead>\n",
       "  <tbody>\n",
       "    <tr>\n",
       "      <th>0</th>\n",
       "      <td>0929619730</td>\n",
       "      <td>[0, 0]</td>\n",
       "      <td>B-flax-D is a regular at our house. It does it...</td>\n",
       "      <td>5.0</td>\n",
       "      <td>Dpes the job well</td>\n",
       "      <td>Contains Organic Cold-Milled Flaxseed\\nValuabl...</td>\n",
       "      <td>New Generation B-Flax-D</td>\n",
       "      <td>Health &amp; Personal Care, Vitamins &amp; Dietary Sup...</td>\n",
       "    </tr>\n",
       "    <tr>\n",
       "      <th>1</th>\n",
       "      <td>0978559088</td>\n",
       "      <td>[1, 1]</td>\n",
       "      <td>Studies show that Resveratrol is poorly absorb...</td>\n",
       "      <td>4.0</td>\n",
       "      <td>Fast shipping, good communication</td>\n",
       "      <td>Everyone knows that resveratrol is an amazing ...</td>\n",
       "      <td>Nutrihill Resveratrol Lozenges</td>\n",
       "      <td>Health &amp; Personal Care, Vitamins &amp; Dietary Sup...</td>\n",
       "    </tr>\n",
       "    <tr>\n",
       "      <th>2</th>\n",
       "      <td>0978559088</td>\n",
       "      <td>[1, 1]</td>\n",
       "      <td>I started taking this after both my parents di...</td>\n",
       "      <td>5.0</td>\n",
       "      <td>Bioavailability is the key</td>\n",
       "      <td>Everyone knows that resveratrol is an amazing ...</td>\n",
       "      <td>Nutrihill Resveratrol Lozenges</td>\n",
       "      <td>Health &amp; Personal Care, Vitamins &amp; Dietary Sup...</td>\n",
       "    </tr>\n",
       "    <tr>\n",
       "      <th>3</th>\n",
       "      <td>0978559088</td>\n",
       "      <td>[0, 1]</td>\n",
       "      <td>I tried Nutrihill, but did not feel any of the...</td>\n",
       "      <td>1.0</td>\n",
       "      <td>Other Resveratrol Supplements are Better</td>\n",
       "      <td>Everyone knows that resveratrol is an amazing ...</td>\n",
       "      <td>Nutrihill Resveratrol Lozenges</td>\n",
       "      <td>Health &amp; Personal Care, Vitamins &amp; Dietary Sup...</td>\n",
       "    </tr>\n",
       "    <tr>\n",
       "      <th>4</th>\n",
       "      <td>0978559088</td>\n",
       "      <td>[0, 0]</td>\n",
       "      <td>I really liked this product because it stayed ...</td>\n",
       "      <td>5.0</td>\n",
       "      <td>I can't find this product any longer, and I wi...</td>\n",
       "      <td>Everyone knows that resveratrol is an amazing ...</td>\n",
       "      <td>Nutrihill Resveratrol Lozenges</td>\n",
       "      <td>Health &amp; Personal Care, Vitamins &amp; Dietary Sup...</td>\n",
       "    </tr>\n",
       "  </tbody>\n",
       "</table>\n",
       "</div>"
      ],
      "text/plain": [
       "         asin helpful                                         reviewText  \\\n",
       "0  0929619730  [0, 0]  B-flax-D is a regular at our house. It does it...   \n",
       "1  0978559088  [1, 1]  Studies show that Resveratrol is poorly absorb...   \n",
       "2  0978559088  [1, 1]  I started taking this after both my parents di...   \n",
       "3  0978559088  [0, 1]  I tried Nutrihill, but did not feel any of the...   \n",
       "4  0978559088  [0, 0]  I really liked this product because it stayed ...   \n",
       "\n",
       "   overall                                            summary  \\\n",
       "0      5.0                                  Dpes the job well   \n",
       "1      4.0                  Fast shipping, good communication   \n",
       "2      5.0                         Bioavailability is the key   \n",
       "3      1.0           Other Resveratrol Supplements are Better   \n",
       "4      5.0  I can't find this product any longer, and I wi...   \n",
       "\n",
       "                                         description  \\\n",
       "0  Contains Organic Cold-Milled Flaxseed\\nValuabl...   \n",
       "1  Everyone knows that resveratrol is an amazing ...   \n",
       "2  Everyone knows that resveratrol is an amazing ...   \n",
       "3  Everyone knows that resveratrol is an amazing ...   \n",
       "4  Everyone knows that resveratrol is an amazing ...   \n",
       "\n",
       "                            title  \\\n",
       "0         New Generation B-Flax-D   \n",
       "1  Nutrihill Resveratrol Lozenges   \n",
       "2  Nutrihill Resveratrol Lozenges   \n",
       "3  Nutrihill Resveratrol Lozenges   \n",
       "4  Nutrihill Resveratrol Lozenges   \n",
       "\n",
       "                                    categories_clean  \n",
       "0  Health & Personal Care, Vitamins & Dietary Sup...  \n",
       "1  Health & Personal Care, Vitamins & Dietary Sup...  \n",
       "2  Health & Personal Care, Vitamins & Dietary Sup...  \n",
       "3  Health & Personal Care, Vitamins & Dietary Sup...  \n",
       "4  Health & Personal Care, Vitamins & Dietary Sup...  "
      ]
     },
     "execution_count": 6,
     "metadata": {},
     "output_type": "execute_result"
    }
   ],
   "source": [
    "reviews.head()"
   ]
  },
  {
   "cell_type": "code",
   "execution_count": 7,
   "metadata": {},
   "outputs": [
    {
     "data": {
      "text/plain": [
       "asin                 object\n",
       "helpful              object\n",
       "reviewText           object\n",
       "overall             float64\n",
       "summary              object\n",
       "description          object\n",
       "title                object\n",
       "categories_clean     object\n",
       "dtype: object"
      ]
     },
     "execution_count": 7,
     "metadata": {},
     "output_type": "execute_result"
    }
   ],
   "source": [
    "reviews.dtypes"
   ]
  },
  {
   "cell_type": "markdown",
   "metadata": {},
   "source": [
    "## Data Cleaning"
   ]
  },
  {
   "cell_type": "code",
   "execution_count": 31,
   "metadata": {},
   "outputs": [
    {
     "data": {
      "text/plain": [
       "array(['Health & Personal Care, Vitamins & Dietary Supplements, Multi & Prenatal Vitamins, Multiple Vitamin-Mineral Supplements',\n",
       "       'Health & Personal Care, Vitamins & Dietary Supplements, Supplements, Antioxidants, Resveratrol',\n",
       "       'Health & Personal Care, Vitamins & Dietary Supplements, Multi & Prenatal Vitamins, Multivitamins',\n",
       "       'Health & Personal Care, Vitamins & Dietary Supplements, Vitamins, Vitamin B, B3 (Niacin)',\n",
       "       'Health & Personal Care, Vitamins & Dietary Supplements, Herbal Supplements',\n",
       "       'Health & Personal Care, Vitamins & Dietary Supplements, Herbal Supplements, Green Tea',\n",
       "       'Health & Personal Care, Vitamins & Dietary Supplements, Weight Loss, Supplements, Green Coffee Bean Extract',\n",
       "       'Health & Personal Care, Vitamins & Dietary Supplements, Weight Loss, Supplements',\n",
       "       'Health & Personal Care, Vitamins & Dietary Supplements, Supplements, Antioxidants, CoQ10',\n",
       "       'Health & Personal Care, Vitamins & Dietary Supplements, Herbal Supplements, Ginkgo Biloba',\n",
       "       \"CDs & Vinyl, Classical, Chamber Music, CDs & Vinyl, Opera & Classical Vocal, Vocal Non-Opera, Masses, Health & Personal Care, Vitamins & Dietary Supplements, Herbal Supplements, St. John's Wort\",\n",
       "       'CDs & Vinyl, Jazz, CDs & Vinyl, Pop, Health & Personal Care, Vitamins & Dietary Supplements, Supplements, Antioxidants, Carotenoids, Health & Personal Care, Vitamins & Dietary Supplements, Supplements, Antioxidants, Lycopene',\n",
       "       'CDs & Vinyl, New Age, Meditation, CDs & Vinyl, New Age, Nature & Environment, CDs & Vinyl, Pop, Health & Personal Care, Health Care, Alternative Medicine, Sound Therapy',\n",
       "       'CDs & Vinyl, Jazz, CDs & Vinyl, New Age, Meditation, CDs & Vinyl, Pop, Health & Personal Care, Vitamins & Dietary Supplements',\n",
       "       'CDs & Vinyl, New Age, Meditation, CDs & Vinyl, New Age, Nature & Environment, CDs & Vinyl, New Age, Relaxation, CDs & Vinyl, Pop, Health & Personal Care, Health Care, Alternative Medicine, Sound Therapy',\n",
       "       \"CDs & Vinyl, Classical, Chamber Music, CDs & Vinyl, Classical, Sacred & Religious, CDs & Vinyl, Opera & Classical Vocal, Vocal Non-Opera, Passions, Health & Personal Care, Vitamins & Dietary Supplements, Herbal Supplements, St. John's Wort\",\n",
       "       'Health & Personal Care, Vitamins & Dietary Supplements, Weight Loss, Shakes & Powders',\n",
       "       'Health & Personal Care, Vitamins & Dietary Supplements, Supplements, Enzymes, Lactase',\n",
       "       'Health & Personal Care, Vitamins & Dietary Supplements, Supplements, Digestive Supplements, Dietary Fibers',\n",
       "       'Health & Personal Care, Vitamins & Dietary Supplements, Vitamins, Vitamin E',\n",
       "       'Health & Personal Care, Vitamins & Dietary Supplements, Minerals, Calcium, Calcium Ascorbate',\n",
       "       'Health & Personal Care, Vitamins & Dietary Supplements, Minerals, Iron',\n",
       "       'Health & Personal Care, Vitamins & Dietary Supplements, Supplements, Digestive Supplements, Acidophilus',\n",
       "       'Health & Personal Care, Vitamins & Dietary Supplements, Vitamins, Vitamin B, B12',\n",
       "       'Health & Personal Care, Vitamins & Dietary Supplements, Herbal Supplements, Valerian',\n",
       "       'Health & Personal Care, Vitamins & Dietary Supplements, Minerals, Calcium, Calcium Magnesium',\n",
       "       'Health & Personal Care, Vitamins & Dietary Supplements, Herbal Supplements, Echinacea',\n",
       "       'Health & Personal Care, Sports Nutrition, Amino Acids, Acetyl-L-Carnitine',\n",
       "       'Health & Personal Care, Vitamins & Dietary Supplements, Supplements, Antioxidants, Pycnogenol',\n",
       "       'Health & Personal Care, Sports Nutrition, Amino Acids, Creatine',\n",
       "       'Health & Personal Care, Vitamins & Dietary Supplements, Vitamins, Vitamin B, B6',\n",
       "       'Health & Personal Care, Vitamins & Dietary Supplements, Vitamins, Vitamin B, B-Complex',\n",
       "       'Health & Personal Care, Vitamins & Dietary Supplements, Supplements, Essential Fatty Acids, Omega Oils, Omega-3',\n",
       "       'Health & Personal Care, Vitamins & Dietary Supplements, Vitamins, Vitamin A',\n",
       "       \"Health & Personal Care, Vitamins & Dietary Supplements, Herbal Supplements, St. John's Wort\",\n",
       "       'Health & Personal Care, Vitamins & Dietary Supplements, Supplements',\n",
       "       'Health & Personal Care, Vitamins & Dietary Supplements, Supplements, Digestive Supplements',\n",
       "       'Health & Personal Care, Vitamins & Dietary Supplements, Vitamins, Hair, Skin & Nails Complex',\n",
       "       'Health & Personal Care, Vitamins & Dietary Supplements',\n",
       "       'Health & Personal Care, Vitamins & Dietary Supplements, Supplements, Chondroitin & Glucosamine, Glucosamine',\n",
       "       'Health & Personal Care, Vitamins & Dietary Supplements, Supplements, Chondroitin & Glucosamine, Combinations',\n",
       "       'CDs & Vinyl, Dance & Electronic, House, CDs & Vinyl, Dance & Electronic, Techno, CDs & Vinyl, Pop, Dance Pop, CDs & Vinyl, Rap & Hip-Hop, Health & Personal Care, Vitamins & Dietary Supplements',\n",
       "       'Health & Personal Care, Vitamins & Dietary Supplements, Supplements, DHEA',\n",
       "       'Health & Personal Care, Vitamins & Dietary Supplements, Supplements, Antioxidants, Carotenoids',\n",
       "       'CDs & Vinyl, Alternative Rock, Hardcore & Punk, Post Hardcore, CDs & Vinyl, Alternative Rock, Indie & Lo-Fi, Indie Rock, CDs & Vinyl, Alternative Rock, Math Rock, CDs & Vinyl, Pop, CDs & Vinyl, Rock, CDs & Vinyl, Special Interest, Health & Personal Care, Vitamins & Dietary Supplements, Multi & Prenatal Vitamins, Multiple Vitamin-Mineral Supplements',\n",
       "       'Health & Personal Care, Vitamins & Dietary Supplements, Vitamins',\n",
       "       'Health & Personal Care, Vitamins & Dietary Supplements, Weight Loss, Bars & Snacks',\n",
       "       'Health & Personal Care, Vitamins & Dietary Supplements, Herbal Supplements, Saw Palmetto',\n",
       "       'Health & Personal Care, Vitamins & Dietary Supplements, Supplements, Chondroitin & Glucosamine, Chondroitin',\n",
       "       \"CDs & Vinyl, Jazz, Swing Jazz, CDs & Vinyl, Pop, Health & Personal Care, Vitamins & Dietary Supplements, Herbal Supplements, St. John's Wort\",\n",
       "       'Health & Personal Care, Vitamins & Dietary Supplements, Weight Loss, Supplements, CLA',\n",
       "       'Health & Personal Care, Vitamins & Dietary Supplements, Minerals, Potassium, Potassium Iodide',\n",
       "       'CDs & Vinyl, Classical, Chamber Music, Health & Personal Care, Vitamins & Dietary Supplements, Herbal Supplements, Evening Primrose',\n",
       "       \"Health & Personal Care, Baby & Child Care, Health Care, Children's Vitamins\",\n",
       "       'Health & Personal Care, Vitamins & Dietary Supplements, Weight Loss',\n",
       "       'Health & Personal Care, Vitamins & Dietary Supplements, Weight Loss, Supplements, Fat Burners',\n",
       "       'Health & Personal Care, Vitamins & Dietary Supplements, Vitamins, Vitamin C',\n",
       "       'Health & Personal Care, Vitamins & Dietary Supplements, Supplements, Digestive Supplements, Probiotics',\n",
       "       'Health & Personal Care, Vitamins & Dietary Supplements, Herbal Supplements, Turmeric',\n",
       "       'Health & Personal Care, Vitamins & Dietary Supplements, Minerals, Calcium, Calcium-Vitamin D Combination',\n",
       "       'Health & Personal Care, Vitamins & Dietary Supplements, Minerals, Calcium',\n",
       "       'Health & Personal Care, Vitamins & Dietary Supplements, Herbal Supplements, Stevia',\n",
       "       'Health & Personal Care, Vitamins & Dietary Supplements, Supplements, Antioxidants, Alpha Lipoic Acid, Software, Programming & Web Development, Database, Software, Programming & Web Development, Web Design',\n",
       "       'CDs & Vinyl, Latin Music, Latin Pop, CDs & Vinyl, Rock, Health & Personal Care, Vitamins & Dietary Supplements, Herbal Supplements, Horny Goat Weed',\n",
       "       'Health & Personal Care, Vitamins & Dietary Supplements, Herbal Supplements, Goldenseal',\n",
       "       'Health & Personal Care, Vitamins & Dietary Supplements, Minerals, Magnesium',\n",
       "       'Health & Personal Care, Vitamins & Dietary Supplements, Vitamins, Vitamin B, B9 (Folic Acid)',\n",
       "       'Health & Personal Care, Vitamins & Dietary Supplements, Herbal Supplements, Garlic',\n",
       "       'Health & Personal Care, Vitamins & Dietary Supplements, Herbal Supplements, Flaxseed',\n",
       "       'Health & Personal Care, Vitamins & Dietary Supplements, Weight Loss, Appetite Control & Suppressants',\n",
       "       'Health & Personal Care, Vitamins & Dietary Supplements, Vitamins, Vitamin B',\n",
       "       'Health & Personal Care, Vitamins & Dietary Supplements, Herbal Supplements, Cinnamon',\n",
       "       'Health & Personal Care, Vitamins & Dietary Supplements, Minerals, Trace Minerals',\n",
       "       'Health & Personal Care, Vitamins & Dietary Supplements, Supplements, Antioxidants, Alpha Lipoic Acid',\n",
       "       'Health & Personal Care, Vitamins & Dietary Supplements, Supplements, Essential Fatty Acids, Combinations',\n",
       "       'Health & Personal Care, Vitamins & Dietary Supplements, Minerals, Zinc',\n",
       "       'Health & Personal Care, Vitamins & Dietary Supplements, Supplements, Enzymes, Multi-Enzymes',\n",
       "       'Health & Personal Care, Vitamins & Dietary Supplements, Supplements, Digestive Supplements, Psyllium',\n",
       "       'Health & Personal Care, Vitamins & Dietary Supplements, Minerals, Chromium',\n",
       "       'Health & Personal Care, Vitamins & Dietary Supplements, Herbal Supplements, Ginger',\n",
       "       'Health & Personal Care, Vitamins & Dietary Supplements, Herbal Supplements, Astragalus',\n",
       "       'Health & Personal Care, Vitamins & Dietary Supplements, Herbal Supplements, Horny Goat Weed',\n",
       "       'Health & Personal Care, Vitamins & Dietary Supplements, Weight Loss, Supplements, Carb Blockers',\n",
       "       'Health & Personal Care, Vitamins & Dietary Supplements, Herbal Supplements, Red Yeast Rice',\n",
       "       'Health & Personal Care, Vitamins & Dietary Supplements, Minerals, Potassium',\n",
       "       'Health & Personal Care, Vitamins & Dietary Supplements, Supplements, Essential Fatty Acids, Lecithin',\n",
       "       'Health & Personal Care, Vitamins & Dietary Supplements, Herbal Supplements, Milk Thistle',\n",
       "       'Health & Personal Care, Vitamins & Dietary Supplements, Supplements, Superfoods',\n",
       "       'Health & Personal Care, Vitamins & Dietary Supplements, Herbal Supplements, Aloe Vera',\n",
       "       'Health & Personal Care, Vitamins & Dietary Supplements, Herbal Supplements, Dong Quai',\n",
       "       'Health & Personal Care, Vitamins & Dietary Supplements, Herbal Supplements, Mushrooms',\n",
       "       'Health & Personal Care, Vitamins & Dietary Supplements, Minerals, Selenium',\n",
       "       'Health & Personal Care, Vitamins & Dietary Supplements, Supplements, 5-HTP',\n",
       "       'Health & Personal Care, Vitamins & Dietary Supplements, Supplements, Essential Fatty Acids, Omega Oils, Omega 3-6-9',\n",
       "       'Health & Personal Care, Vitamins & Dietary Supplements, Minerals, Manganese',\n",
       "       'Health & Personal Care, Vitamins & Dietary Supplements, Herbal Supplements, Oregano',\n",
       "       'Health & Personal Care, Vitamins & Dietary Supplements, Supplements, Superfoods, Green Food Combinations',\n",
       "       'Health & Personal Care, Vitamins & Dietary Supplements, Supplements, Enzymes',\n",
       "       'Health & Personal Care, Vitamins & Dietary Supplements, Herbal Supplements, Yohimbe',\n",
       "       'Health & Personal Care, Vitamins & Dietary Supplements, Vitamins, Flavonoids',\n",
       "       'Health & Personal Care, Vitamins & Dietary Supplements, Supplements, MSM',\n",
       "       'Health & Personal Care, Vitamins & Dietary Supplements, Vitamins, Vitamin D, D3',\n",
       "       'Health & Personal Care, Vitamins & Dietary Supplements, Supplements, Antioxidants',\n",
       "       'Health & Personal Care, Vitamins & Dietary Supplements, Herbal Supplements, Black Cohosh',\n",
       "       'Health & Personal Care, Vitamins & Dietary Supplements, Vitamins, Vitamin B, B7 (Biotin)',\n",
       "       'Health & Personal Care, Vitamins & Dietary Supplements, Herbal Supplements, Licorice Root',\n",
       "       'Health & Personal Care, Vitamins & Dietary Supplements, Herbal Supplements, Olive Leaf',\n",
       "       'Health & Personal Care, Vitamins & Dietary Supplements, Vitamins, Vitamin C, Bioflavonoid Complex',\n",
       "       'Health & Personal Care, Vitamins & Dietary Supplements, Herbal Supplements, Evening Primrose',\n",
       "       'Health & Personal Care, Vitamins & Dietary Supplements, Vitamins, Vitamin B, B5 (Pantothenic Acid)',\n",
       "       'Health & Personal Care, Vitamins & Dietary Supplements, Herbal Supplements, Chlorophyll',\n",
       "       'Health & Personal Care, Vitamins & Dietary Supplements, Minerals, Calcium, Coral Calcium',\n",
       "       'Health & Personal Care, Vitamins & Dietary Supplements, Minerals',\n",
       "       'Health & Personal Care, Vitamins & Dietary Supplements, Herbal Supplements, Maca',\n",
       "       'Health & Personal Care, Vitamins & Dietary Supplements, Supplements, Superfoods, Spirulina',\n",
       "       'Health & Personal Care, Vitamins & Dietary Supplements, Vitamins, Vitamin B, B2 (Riboflavin)',\n",
       "       'Health & Personal Care, Vitamins & Dietary Supplements, Supplements, Hyaluronic Acid',\n",
       "       'Health & Personal Care, Vitamins & Dietary Supplements, Herbal Supplements, Cranberry',\n",
       "       'Health & Personal Care, Vitamins & Dietary Supplements, Supplements, Glandular Extracts, Liver Extracts',\n",
       "       'Health & Personal Care, Vitamins & Dietary Supplements, Minerals, Copper',\n",
       "       'Health & Personal Care, Vitamins & Dietary Supplements, Herbal Supplements, Hawthorn',\n",
       "       'Health & Personal Care, Vitamins & Dietary Supplements, Supplements, Digestive Supplements, Charcoal',\n",
       "       'Health & Personal Care, Vitamins & Dietary Supplements, Herbal Supplements, Noni',\n",
       "       'Health & Personal Care, Vitamins & Dietary Supplements, Herbal Supplements, Bilberry',\n",
       "       'Health & Personal Care, Vitamins & Dietary Supplements, Herbal Supplements, Ginseng',\n",
       "       'Health & Personal Care, Vitamins & Dietary Supplements, Vitamins, Vitamin B, B1 (Thiamine)',\n",
       "       'Health & Personal Care, Vitamins & Dietary Supplements, Herbal Supplements, Alfalfa',\n",
       "       'Health & Personal Care, Vitamins & Dietary Supplements, Herbal Supplements, Chamomile',\n",
       "       'Health & Personal Care, Vitamins & Dietary Supplements, Herbal Supplements, Triphala',\n",
       "       'Health & Personal Care, Vitamins & Dietary Supplements, Herbal Supplements, Cayenne',\n",
       "       'Health & Personal Care, Vitamins & Dietary Supplements, Supplements, Royal Jelly',\n",
       "       'Health & Personal Care, Vitamins & Dietary Supplements, Vitamins, Choline',\n",
       "       'Health & Personal Care, Vitamins & Dietary Supplements, Supplements, Bromelain',\n",
       "       'Health & Personal Care, Vitamins & Dietary Supplements, Weight Loss, Diuretics',\n",
       "       'Health & Personal Care, Sports Nutrition, Amino Acids, Carnitine',\n",
       "       'Health & Personal Care, Vitamins & Dietary Supplements, Herbal Supplements, Grape Seed Extract',\n",
       "       'Health & Personal Care, Vitamins & Dietary Supplements, Minerals, Multiminerals',\n",
       "       'Health & Personal Care, Vitamins & Dietary Supplements, Supplements, Antioxidants, Astaxanthin',\n",
       "       'Health & Personal Care, Vitamins & Dietary Supplements, Supplements, Glandular Extracts',\n",
       "       'Health & Personal Care, Vitamins & Dietary Supplements, Vitamins, Vitamin C, C-Complex',\n",
       "       'Health & Personal Care, Vitamins & Dietary Supplements, Herbal Supplements, Artichoke',\n",
       "       'Health & Personal Care, Vitamins & Dietary Supplements, Vitamins, Vitamin K',\n",
       "       'Health & Personal Care, Vitamins & Dietary Supplements, Weight Loss, Detox & Cleanse',\n",
       "       'Health & Personal Care, Vitamins & Dietary Supplements, Herbal Supplements, Elderberry',\n",
       "       'Health & Personal Care, Vitamins & Dietary Supplements, Herbal Supplements, Kava Kava',\n",
       "       'Health & Personal Care, Vitamins & Dietary Supplements, Herbal Supplements, Neem',\n",
       "       'Health & Personal Care, Vitamins & Dietary Supplements, Herbal Supplements, Nettle',\n",
       "       'Health & Personal Care, Sports Nutrition, Endurance & Energy, Herbals',\n",
       "       'Health & Personal Care, Vitamins & Dietary Supplements, Herbal Supplements, Tribulus',\n",
       "       'Health & Personal Care, Vitamins & Dietary Supplements, Supplements, Essential Fatty Acids, Black Currant Oil',\n",
       "       'Health & Personal Care, Vitamins & Dietary Supplements, Minerals, Iodine',\n",
       "       'Health & Personal Care, Vitamins & Dietary Supplements, Weight Loss, Supplements, Relora',\n",
       "       'Health & Personal Care, Vitamins & Dietary Supplements, Herbal Supplements, Muira Puama',\n",
       "       'Health & Personal Care, Vitamins & Dietary Supplements, Minerals, Silicon',\n",
       "       'Health & Personal Care, Vitamins & Dietary Supplements, Supplements, Glandular Extracts, Thymus Extracts',\n",
       "       'Health & Personal Care, Vitamins & Dietary Supplements, Multi & Prenatal Vitamins, Prenatal Vitamins',\n",
       "       'Health & Personal Care, Vitamins & Dietary Supplements, Supplements, Essential Fatty Acids, Flax Seed Oil',\n",
       "       'Health & Personal Care, Vitamins & Dietary Supplements, Minerals, Colloidal Minerals',\n",
       "       'Health & Personal Care, Vitamins & Dietary Supplements, Minerals, Colloidal Minerals, Colloidal Silver',\n",
       "       'Health & Personal Care, Vitamins & Dietary Supplements, Supplements, Glandular Extracts, Adrenal Extracts',\n",
       "       'Health & Personal Care, Vitamins & Dietary Supplements, Supplements, Antioxidants, DMAE',\n",
       "       'Health & Personal Care, Sports Nutrition, Fat Burners & Thermogenics, L-Carnitine',\n",
       "       'Health & Personal Care, Vitamins & Dietary Supplements, Vitamins, Vitamin K, K1',\n",
       "       'Health & Personal Care, Vitamins & Dietary Supplements, Weight Loss, Supplements, Raspberry Ketones',\n",
       "       'Health & Personal Care, Vitamins & Dietary Supplements, Supplements, Fish Oil',\n",
       "       'Health & Personal Care, Sports Nutrition, Endurance & Energy, Supplements',\n",
       "       'Health & Personal Care, Vitamins & Dietary Supplements, Herbal Supplements, Chlorella',\n",
       "       'Health & Personal Care, Vitamins & Dietary Supplements, Minerals, P-5-P',\n",
       "       'Health & Personal Care, Vitamins & Dietary Supplements, Herbal Supplements, Spirulina',\n",
       "       'Health & Personal Care, Vitamins & Dietary Supplements, Minerals, Calcium, Calcium Citrate',\n",
       "       'Health & Personal Care, Vitamins & Dietary Supplements, Supplements, Essential Fatty Acids',\n",
       "       'Health & Personal Care, Vitamins & Dietary Supplements, Supplements, Essential Fatty Acids, Krill Oils',\n",
       "       'Health & Personal Care, Vitamins & Dietary Supplements, Minerals, Collagen',\n",
       "       'Health & Personal Care, Vitamins & Dietary Supplements, Supplements, Essential Fatty Acids, DHA',\n",
       "       'Health & Personal Care, Vitamins & Dietary Supplements, Multi & Prenatal Vitamins, Multivitamins, Software, Education & Reference',\n",
       "       'CDs & Vinyl, Pop, CDs & Vinyl, R&B, Contemporary R&B, CDs & Vinyl, R&B, Soul, CDs & Vinyl, Rap & Hip-Hop, Pop Rap, CDs & Vinyl, Rock, Health & Personal Care, Vitamins & Dietary Supplements, Vitamins, Vitamin B, B-Complex',\n",
       "       'Health & Personal Care, Vitamins & Dietary Supplements, Herbal Supplements, Marshmallow Root',\n",
       "       'Health & Personal Care, Vitamins & Dietary Supplements, Supplements, Antioxidants, Lycopene',\n",
       "       'Health & Personal Care, Vitamins & Dietary Supplements, Minerals, Sodium',\n",
       "       'Health & Personal Care, Vitamins & Dietary Supplements, Supplements, Antioxidants, Combinations',\n",
       "       'Health & Personal Care, Vitamins & Dietary Supplements, Supplements, Glandular Extracts, Thyroid Extracts',\n",
       "       'CDs & Vinyl, Alternative Rock, Indie & Lo-Fi, Indie Rock, CDs & Vinyl, Folk, CDs & Vinyl, Pop, Singer-Songwriters, CDs & Vinyl, Rock, Health & Personal Care, Vitamins & Dietary Supplements, Supplements, Essential Fatty Acids, Krill Oils',\n",
       "       'Health & Personal Care, Vitamins & Dietary Supplements, Supplements, Essential Fatty Acids, Omega Oils, Omega-6',\n",
       "       'CDs & Vinyl, Classical, CDs & Vinyl, Holiday & Wedding, Easter, CDs & Vinyl, Opera & Classical Vocal, Health & Personal Care, Vitamins & Dietary Supplements, Vitamins, Vitamin C',\n",
       "       'CDs & Vinyl, Alternative Rock, Indie & Lo-Fi, Indie Rock, CDs & Vinyl, Pop, CDs & Vinyl, Rock, Health & Personal Care, Vitamins & Dietary Supplements',\n",
       "       'CDs & Vinyl, Broadway & Vocalists, CDs & Vinyl, Classic Rock, British Invasion, CDs & Vinyl, Pop, Easy Listening, CDs & Vinyl, Pop, Oldies, Girl Groups, CDs & Vinyl, Pop, Vocal Pop, CDs & Vinyl, Rock, Health & Personal Care, Vitamins & Dietary Supplements',\n",
       "       'Health & Personal Care, Vitamins & Dietary Supplements, Supplements, Essential Fatty Acids, Omega Oils, Omega-9',\n",
       "       'CDs & Vinyl, Pop, CDs & Vinyl, Rock, Health & Personal Care, Vitamins & Dietary Supplements, Minerals, Chromium',\n",
       "       'Health & Personal Care, Vitamins & Dietary Supplements, Vitamins, Vitamin D',\n",
       "       'Health & Personal Care, Vitamins & Dietary Supplements, Multi & Prenatal Vitamins',\n",
       "       'Health & Personal Care, Vitamins & Dietary Supplements, Supplements, Essential Fatty Acids, EPA',\n",
       "       'CDs & Vinyl, Pop, CDs & Vinyl, Rock, Health & Personal Care, Vitamins & Dietary Supplements, Vitamins',\n",
       "       'CDs & Vinyl, Alternative Rock, CDs & Vinyl, Country, Americana, CDs & Vinyl, Pop, CDs & Vinyl, Rock, Health & Personal Care, Vitamins & Dietary Supplements, Herbal Supplements, Nettle',\n",
       "       'Health & Personal Care, Vitamins & Dietary Supplements, Weight Loss, Diet Kits & Systems',\n",
       "       'CDs & Vinyl, Latin Music, Latin Pop, CDs & Vinyl, Pop, CDs & Vinyl, Rock, CDs & Vinyl, World Music, South & Central America, Brazil, Health & Personal Care, Vitamins & Dietary Supplements, Supplements',\n",
       "       'Health & Personal Care, Vitamins & Dietary Supplements, Herbal Supplements, Curcumin',\n",
       "       'Health & Personal Care, Vitamins & Dietary Supplements, Supplements, Enzymes, Lipase',\n",
       "       'CDs & Vinyl, Pop, CDs & Vinyl, World Music, Pacific Islands, Hawaii, Health & Personal Care, Vitamins & Dietary Supplements',\n",
       "       'Health & Personal Care, Vitamins & Dietary Supplements, Minerals, Colloidal Minerals, Colloidal Gold',\n",
       "       'Health & Personal Care, Vitamins & Dietary Supplements, Supplements, Digestive Supplements, Prebiotics',\n",
       "       'CDs & Vinyl, Jazz, CDs & Vinyl, Pop, Easy Listening, CDs & Vinyl, Rock, CDs & Vinyl, World Music, Health & Personal Care, Vitamins & Dietary Supplements',\n",
       "       'CDs & Vinyl, Broadway & Vocalists, Traditional Vocal Pop, CDs & Vinyl, Classical, CDs & Vinyl, Jazz, CDs & Vinyl, Pop, Easy Listening, CDs & Vinyl, Pop, Oldies, Traditional Pop, CDs & Vinyl, Pop, Vocal Pop, CDs & Vinyl, Rock, Health & Personal Care, Vitamins & Dietary Supplements, Minerals, Calcium, Coral Calcium',\n",
       "       'CDs & Vinyl, New Age, Meditation, CDs & Vinyl, New Age, Nature & Environment, CDs & Vinyl, New Age, Relaxation, CDs & Vinyl, Pop, Easy Listening, CDs & Vinyl, Rock, Health & Personal Care, Health Care, Alternative Medicine, Sound Therapy',\n",
       "       'Health & Personal Care, Vitamins & Dietary Supplements, Supplements, Essential Fatty Acids, Omega Oils',\n",
       "       'Health & Personal Care, Vitamins & Dietary Supplements, Clothing, Shoes & Jewelry, Baby, Baby Girls, Clothing, Bodysuits, Clothing, Shoes & Jewelry, Baby, Baby Boys, Clothing, Bodysuits',\n",
       "       'CDs & Vinyl, Alternative Rock, CDs & Vinyl, Dance & Electronic, CDs & Vinyl, Pop, Dance Pop, CDs & Vinyl, Rock, Health & Personal Care, Vitamins & Dietary Supplements',\n",
       "       'CDs & Vinyl, Metal, Death Metal, CDs & Vinyl, Rock, Health & Personal Care, Vitamins & Dietary Supplements, Supplements, Essential Fatty Acids, Omega Oils',\n",
       "       'Health & Personal Care, Vitamins & Dietary Supplements, Supplements, Antioxidants, Lutein',\n",
       "       'Baby Products, Feeding, Vitamins, CDs & Vinyl, Jazz, CDs & Vinyl, Metal, CDs & Vinyl, Pop, CDs & Vinyl, Rock, Health & Personal Care, Vitamins & Dietary Supplements, Multi & Prenatal Vitamins, Multivitamins',\n",
       "       'Health & Personal Care, Vitamins & Dietary Supplements, Supplements, Chondroitin & Glucosamine',\n",
       "       'CDs & Vinyl, Jazz, CDs & Vinyl, Pop, CDs & Vinyl, Rock, Health & Personal Care, Vitamins & Dietary Supplements, Herbal Supplements, Mushrooms',\n",
       "       'CDs & Vinyl, Classical, Chamber Music, CDs & Vinyl, Opera & Classical Vocal, Vocal Non-Opera, Masses, CDs & Vinyl, Pop, Vocal Pop, Health & Personal Care, Vitamins & Dietary Supplements, Vitamins',\n",
       "       'CDs & Vinyl, New Age, Meditation, CDs & Vinyl, Pop, Health & Personal Care, Vitamins & Dietary Supplements',\n",
       "       'Health & Personal Care, Vitamins & Dietary Supplements, Multi & Prenatal Vitamins, Multiple Vitamin-Mineral Supplements, Health & Personal Care, Sports Nutrition',\n",
       "       'CDs & Vinyl, Metal, CDs & Vinyl, Pop, CDs & Vinyl, Rock, Health & Personal Care, Vitamins & Dietary Supplements, Multi & Prenatal Vitamins, Prenatal Vitamins',\n",
       "       'CDs & Vinyl, Alternative Rock, Goth & Industrial, Goth, CDs & Vinyl, Alternative Rock, Goth & Industrial, Industrial, CDs & Vinyl, Dance & Electronic, Electronica, CDs & Vinyl, Metal, Alternative Metal, CDs & Vinyl, Pop, Dance Pop, CDs & Vinyl, Rock, Health & Personal Care, Vitamins & Dietary Supplements',\n",
       "       'CDs & Vinyl, Pop, Oldies, CDs & Vinyl, Rap & Hip-Hop, Pop Rap, CDs & Vinyl, Rock, Health & Personal Care, Vitamins & Dietary Supplements',\n",
       "       'CDs & Vinyl, Alternative Rock, British Alternative, Britpop, CDs & Vinyl, Alternative Rock, Indie & Lo-Fi, Indie Rock, CDs & Vinyl, Pop, CDs & Vinyl, Rock, Folk Rock, CDs & Vinyl, World Music, Europe, British Isles, Britain, Health & Personal Care, Vitamins & Dietary Supplements',\n",
       "       'CDs & Vinyl, Alternative Rock, CDs & Vinyl, Christian, Hard Rock & Metal, CDs & Vinyl, Christian, Pop & Contemporary, CDs & Vinyl, Metal, CDs & Vinyl, Pop, CDs & Vinyl, Rock, Health & Personal Care, Vitamins & Dietary Supplements, Weight Loss',\n",
       "       'CDs & Vinyl, Pop, CDs & Vinyl, Rock, Health & Personal Care, Vitamins & Dietary Supplements',\n",
       "       'Health & Personal Care, Vitamins & Dietary Supplements, Supplements, Essential Fatty Acids, Linseed Oil',\n",
       "       'CDs & Vinyl, Jazz, Avant Garde & Free Jazz, CDs & Vinyl, Pop, CDs & Vinyl, Rock, Health & Personal Care, Vitamins & Dietary Supplements, Herbal Supplements, Horny Goat Weed',\n",
       "       'CDs & Vinyl, Dance & Electronic, CDs & Vinyl, Pop, Dance Pop, CDs & Vinyl, Rock, Digital Music, Dance & Electronic, House, Health & Personal Care, Vitamins & Dietary Supplements',\n",
       "       'CDs & Vinyl, Blues, CDs & Vinyl, Pop, CDs & Vinyl, Rock, Health & Personal Care, Vitamins & Dietary Supplements, Supplements',\n",
       "       'CDs & Vinyl, New Age, Meditation, Health & Personal Care, Vitamins & Dietary Supplements',\n",
       "       'CDs & Vinyl, Jazz, CDs & Vinyl, Pop, Health & Personal Care, Vitamins & Dietary Supplements, Herbal Supplements',\n",
       "       'CDs & Vinyl, Classical, Health & Personal Care, Vitamins & Dietary Supplements, Herbal Supplements',\n",
       "       'CDs & Vinyl, New Age, Healing, CDs & Vinyl, New Age, Meditation, CDs & Vinyl, New Age, Nature & Environment, CDs & Vinyl, Pop, Health & Personal Care, Health Care, Alternative Medicine, Sound Therapy',\n",
       "       'CDs & Vinyl, Metal, CDs & Vinyl, Pop, CDs & Vinyl, Rock, Health & Personal Care, Vitamins & Dietary Supplements, Supplements, Antioxidants, Carotenoids, Health & Personal Care, Vitamins & Dietary Supplements, Supplements, Antioxidants, Lycopene',\n",
       "       'CDs & Vinyl, Dance & Electronic, Electronica, CDs & Vinyl, Dance & Electronic, Techno, CDs & Vinyl, Pop, Dance Pop, CDs & Vinyl, Rock, Health & Personal Care, Vitamins & Dietary Supplements, Vitamins, Vitamin C, C-Complex',\n",
       "       'CDs & Vinyl, Folk, CDs & Vinyl, Pop, CDs & Vinyl, Rock, Health & Personal Care, Vitamins & Dietary Supplements, Supplements, Essential Fatty Acids, Krill Oils',\n",
       "       \"CDs & Vinyl, Pop, CDs & Vinyl, Rock, Health & Personal Care, Vitamins & Dietary Supplements, Herbal Supplements, St. John's Wort\",\n",
       "       'CDs & Vinyl, Alternative Rock, Indie & Lo-Fi, Indie Rock, Health & Personal Care, Vitamins & Dietary Supplements',\n",
       "       'CDs & Vinyl, Jazz, CDs & Vinyl, Pop, CDs & Vinyl, Rock, Health & Personal Care, Vitamins & Dietary Supplements, Weight Loss',\n",
       "       'CDs & Vinyl, Pop, CDs & Vinyl, Rap & Hip-Hop, Pop Rap, Health & Personal Care, Vitamins & Dietary Supplements, Weight Loss, Detox & Cleanse',\n",
       "       'CDs & Vinyl, Classical, Health & Personal Care, Vitamins & Dietary Supplements, Herbal Supplements, Aloe Vera',\n",
       "       'Cell Phones & Accessories, Cases, Basic Cases, Health & Personal Care, Vitamins & Dietary Supplements, Weight Loss, Supplements, Raspberry Ketones',\n",
       "       'Health & Personal Care, Vitamins & Dietary Supplements, Minerals, Collagen, Type 1 (I)',\n",
       "       'CDs & Vinyl, Pop, CDs & Vinyl, R&B, Health & Personal Care, Vitamins & Dietary Supplements, Multi & Prenatal Vitamins',\n",
       "       'CDs & Vinyl, Jazz, CDs & Vinyl, Pop, Health & Personal Care, Vitamins & Dietary Supplements',\n",
       "       'CDs & Vinyl, Pop, CDs & Vinyl, R&B, Health & Personal Care, Vitamins & Dietary Supplements',\n",
       "       'CDs & Vinyl, Pop, CDs & Vinyl, Rock, Health & Personal Care, Vitamins & Dietary Supplements, Herbal Supplements',\n",
       "       'Health & Personal Care, Vitamins & Dietary Supplements, Weight Loss, Supplements, Orlistat',\n",
       "       'CDs & Vinyl, Pop, Korean Pop, Health & Personal Care, Vitamins & Dietary Supplements, Multi & Prenatal Vitamins',\n",
       "       'CDs & Vinyl, Alternative Rock, CDs & Vinyl, Metal, CDs & Vinyl, Pop, CDs & Vinyl, Rock, Health & Personal Care, Vitamins & Dietary Supplements',\n",
       "       'CDs & Vinyl, Country, CDs & Vinyl, Pop, Health & Personal Care, Vitamins & Dietary Supplements'],\n",
       "      dtype=object)"
      ]
     },
     "execution_count": 31,
     "metadata": {},
     "output_type": "execute_result"
    }
   ],
   "source": [
    "reviews.categories_clean.unique()"
   ]
  },
  {
   "cell_type": "markdown",
   "metadata": {},
   "source": [
    "The catergories' list indicates that there may be some reviews in the dataset unrelated to health supplements.  Let's get rid of these."
   ]
  },
  {
   "cell_type": "code",
   "execution_count": 37,
   "metadata": {},
   "outputs": [
    {
     "data": {
      "text/plain": [
       "array(['Liturgy of St. John Chrysostom', 'Origins',\n",
       "       'Sounds of the Earth: Soft Ocean Sounds', 'Bali',\n",
       "       'Tranquil Waters', 'Bach: St. John Passion, BWV 245',\n",
       "       '21st Century Soul', 'Bodies for Strontium', \"John's Bunch\",\n",
       "       'An Evening of Paganini', \"John's Other Bunch\",\n",
       "       'Sus Mas Grandes Exitos', 'Complex Simplicity',\n",
       "       'Kidnapped By Neptune', 'Roman Chant / Easter Vespers', 'Dead 60s',\n",
       "       \"Cilla in the 60's\", 'Chromium', 'Letters From the Vitamin Sea',\n",
       "       'The Stinging Nettles', 'Tendres Annees 60', 'Wehiwehi Hawaii',\n",
       "       'none'], dtype=object)"
      ]
     },
     "execution_count": 37,
     "metadata": {},
     "output_type": "execute_result"
    }
   ],
   "source": [
    "reviews[reviews.categories_clean.str.contains('CDs & Vinyl')].title.unique()"
   ]
  },
  {
   "cell_type": "code",
   "execution_count": 41,
   "metadata": {},
   "outputs": [
    {
     "data": {
      "text/plain": [
       "263"
      ]
     },
     "execution_count": 41,
     "metadata": {},
     "output_type": "execute_result"
    }
   ],
   "source": [
    "len(reviews[reviews.categories_clean.str.contains('CDs & Vinyl')])"
   ]
  },
  {
   "cell_type": "markdown",
   "metadata": {},
   "source": [
    "The product titles shown above are all music albums/songs."
   ]
  },
  {
   "cell_type": "code",
   "execution_count": 45,
   "metadata": {},
   "outputs": [],
   "source": [
    "reviews_filt = reviews[~(reviews.categories_clean.str.contains('CDs & Vinyl'))]   # remove rows with category including 'CDs & Vinyl'"
   ]
  },
  {
   "cell_type": "code",
   "execution_count": 48,
   "metadata": {},
   "outputs": [
    {
     "data": {
      "text/plain": [
       "array(['Health & Personal Care, Vitamins & Dietary Supplements, Multi & Prenatal Vitamins, Multiple Vitamin-Mineral Supplements',\n",
       "       'Health & Personal Care, Vitamins & Dietary Supplements, Supplements, Antioxidants, Resveratrol',\n",
       "       'Health & Personal Care, Vitamins & Dietary Supplements, Multi & Prenatal Vitamins, Multivitamins',\n",
       "       'Health & Personal Care, Vitamins & Dietary Supplements, Vitamins, Vitamin B, B3 (Niacin)',\n",
       "       'Health & Personal Care, Vitamins & Dietary Supplements, Herbal Supplements',\n",
       "       'Health & Personal Care, Vitamins & Dietary Supplements, Herbal Supplements, Green Tea',\n",
       "       'Health & Personal Care, Vitamins & Dietary Supplements, Weight Loss, Supplements, Green Coffee Bean Extract',\n",
       "       'Health & Personal Care, Vitamins & Dietary Supplements, Weight Loss, Supplements',\n",
       "       'Health & Personal Care, Vitamins & Dietary Supplements, Supplements, Antioxidants, CoQ10',\n",
       "       'Health & Personal Care, Vitamins & Dietary Supplements, Herbal Supplements, Ginkgo Biloba',\n",
       "       'Health & Personal Care, Vitamins & Dietary Supplements, Weight Loss, Shakes & Powders',\n",
       "       'Health & Personal Care, Vitamins & Dietary Supplements, Supplements, Enzymes, Lactase',\n",
       "       'Health & Personal Care, Vitamins & Dietary Supplements, Supplements, Digestive Supplements, Dietary Fibers',\n",
       "       'Health & Personal Care, Vitamins & Dietary Supplements, Vitamins, Vitamin E',\n",
       "       'Health & Personal Care, Vitamins & Dietary Supplements, Minerals, Calcium, Calcium Ascorbate',\n",
       "       'Health & Personal Care, Vitamins & Dietary Supplements, Minerals, Iron',\n",
       "       'Health & Personal Care, Vitamins & Dietary Supplements, Supplements, Digestive Supplements, Acidophilus',\n",
       "       'Health & Personal Care, Vitamins & Dietary Supplements, Vitamins, Vitamin B, B12',\n",
       "       'Health & Personal Care, Vitamins & Dietary Supplements, Herbal Supplements, Valerian',\n",
       "       'Health & Personal Care, Vitamins & Dietary Supplements, Minerals, Calcium, Calcium Magnesium',\n",
       "       'Health & Personal Care, Vitamins & Dietary Supplements, Herbal Supplements, Echinacea',\n",
       "       'Health & Personal Care, Sports Nutrition, Amino Acids, Acetyl-L-Carnitine',\n",
       "       'Health & Personal Care, Vitamins & Dietary Supplements, Supplements, Antioxidants, Pycnogenol',\n",
       "       'Health & Personal Care, Sports Nutrition, Amino Acids, Creatine',\n",
       "       'Health & Personal Care, Vitamins & Dietary Supplements, Vitamins, Vitamin B, B6',\n",
       "       'Health & Personal Care, Vitamins & Dietary Supplements, Vitamins, Vitamin B, B-Complex',\n",
       "       'Health & Personal Care, Vitamins & Dietary Supplements, Supplements, Essential Fatty Acids, Omega Oils, Omega-3',\n",
       "       'Health & Personal Care, Vitamins & Dietary Supplements, Vitamins, Vitamin A',\n",
       "       \"Health & Personal Care, Vitamins & Dietary Supplements, Herbal Supplements, St. John's Wort\",\n",
       "       'Health & Personal Care, Vitamins & Dietary Supplements, Supplements',\n",
       "       'Health & Personal Care, Vitamins & Dietary Supplements, Supplements, Digestive Supplements',\n",
       "       'Health & Personal Care, Vitamins & Dietary Supplements, Vitamins, Hair, Skin & Nails Complex',\n",
       "       'Health & Personal Care, Vitamins & Dietary Supplements',\n",
       "       'Health & Personal Care, Vitamins & Dietary Supplements, Supplements, Chondroitin & Glucosamine, Glucosamine',\n",
       "       'Health & Personal Care, Vitamins & Dietary Supplements, Supplements, Chondroitin & Glucosamine, Combinations',\n",
       "       'Health & Personal Care, Vitamins & Dietary Supplements, Supplements, DHEA',\n",
       "       'Health & Personal Care, Vitamins & Dietary Supplements, Supplements, Antioxidants, Carotenoids',\n",
       "       'Health & Personal Care, Vitamins & Dietary Supplements, Vitamins',\n",
       "       'Health & Personal Care, Vitamins & Dietary Supplements, Weight Loss, Bars & Snacks',\n",
       "       'Health & Personal Care, Vitamins & Dietary Supplements, Herbal Supplements, Saw Palmetto',\n",
       "       'Health & Personal Care, Vitamins & Dietary Supplements, Supplements, Chondroitin & Glucosamine, Chondroitin',\n",
       "       'Health & Personal Care, Vitamins & Dietary Supplements, Weight Loss, Supplements, CLA',\n",
       "       'Health & Personal Care, Vitamins & Dietary Supplements, Minerals, Potassium, Potassium Iodide',\n",
       "       \"Health & Personal Care, Baby & Child Care, Health Care, Children's Vitamins\",\n",
       "       'Health & Personal Care, Vitamins & Dietary Supplements, Weight Loss',\n",
       "       'Health & Personal Care, Vitamins & Dietary Supplements, Weight Loss, Supplements, Fat Burners',\n",
       "       'Health & Personal Care, Vitamins & Dietary Supplements, Vitamins, Vitamin C',\n",
       "       'Health & Personal Care, Vitamins & Dietary Supplements, Supplements, Digestive Supplements, Probiotics',\n",
       "       'Health & Personal Care, Vitamins & Dietary Supplements, Herbal Supplements, Turmeric',\n",
       "       'Health & Personal Care, Vitamins & Dietary Supplements, Minerals, Calcium, Calcium-Vitamin D Combination',\n",
       "       'Health & Personal Care, Vitamins & Dietary Supplements, Minerals, Calcium',\n",
       "       'Health & Personal Care, Vitamins & Dietary Supplements, Herbal Supplements, Stevia',\n",
       "       'Health & Personal Care, Vitamins & Dietary Supplements, Supplements, Antioxidants, Alpha Lipoic Acid, Software, Programming & Web Development, Database, Software, Programming & Web Development, Web Design',\n",
       "       'Health & Personal Care, Vitamins & Dietary Supplements, Herbal Supplements, Goldenseal',\n",
       "       'Health & Personal Care, Vitamins & Dietary Supplements, Minerals, Magnesium',\n",
       "       'Health & Personal Care, Vitamins & Dietary Supplements, Vitamins, Vitamin B, B9 (Folic Acid)',\n",
       "       'Health & Personal Care, Vitamins & Dietary Supplements, Herbal Supplements, Garlic',\n",
       "       'Health & Personal Care, Vitamins & Dietary Supplements, Herbal Supplements, Flaxseed',\n",
       "       'Health & Personal Care, Vitamins & Dietary Supplements, Weight Loss, Appetite Control & Suppressants',\n",
       "       'Health & Personal Care, Vitamins & Dietary Supplements, Vitamins, Vitamin B',\n",
       "       'Health & Personal Care, Vitamins & Dietary Supplements, Herbal Supplements, Cinnamon',\n",
       "       'Health & Personal Care, Vitamins & Dietary Supplements, Minerals, Trace Minerals',\n",
       "       'Health & Personal Care, Vitamins & Dietary Supplements, Supplements, Antioxidants, Alpha Lipoic Acid',\n",
       "       'Health & Personal Care, Vitamins & Dietary Supplements, Supplements, Essential Fatty Acids, Combinations',\n",
       "       'Health & Personal Care, Vitamins & Dietary Supplements, Minerals, Zinc',\n",
       "       'Health & Personal Care, Vitamins & Dietary Supplements, Supplements, Enzymes, Multi-Enzymes',\n",
       "       'Health & Personal Care, Vitamins & Dietary Supplements, Supplements, Digestive Supplements, Psyllium',\n",
       "       'Health & Personal Care, Vitamins & Dietary Supplements, Minerals, Chromium',\n",
       "       'Health & Personal Care, Vitamins & Dietary Supplements, Herbal Supplements, Ginger',\n",
       "       'Health & Personal Care, Vitamins & Dietary Supplements, Herbal Supplements, Astragalus',\n",
       "       'Health & Personal Care, Vitamins & Dietary Supplements, Herbal Supplements, Horny Goat Weed',\n",
       "       'Health & Personal Care, Vitamins & Dietary Supplements, Weight Loss, Supplements, Carb Blockers',\n",
       "       'Health & Personal Care, Vitamins & Dietary Supplements, Herbal Supplements, Red Yeast Rice',\n",
       "       'Health & Personal Care, Vitamins & Dietary Supplements, Minerals, Potassium',\n",
       "       'Health & Personal Care, Vitamins & Dietary Supplements, Supplements, Essential Fatty Acids, Lecithin',\n",
       "       'Health & Personal Care, Vitamins & Dietary Supplements, Herbal Supplements, Milk Thistle',\n",
       "       'Health & Personal Care, Vitamins & Dietary Supplements, Supplements, Superfoods',\n",
       "       'Health & Personal Care, Vitamins & Dietary Supplements, Herbal Supplements, Aloe Vera',\n",
       "       'Health & Personal Care, Vitamins & Dietary Supplements, Herbal Supplements, Dong Quai',\n",
       "       'Health & Personal Care, Vitamins & Dietary Supplements, Herbal Supplements, Mushrooms',\n",
       "       'Health & Personal Care, Vitamins & Dietary Supplements, Minerals, Selenium',\n",
       "       'Health & Personal Care, Vitamins & Dietary Supplements, Supplements, 5-HTP',\n",
       "       'Health & Personal Care, Vitamins & Dietary Supplements, Supplements, Essential Fatty Acids, Omega Oils, Omega 3-6-9',\n",
       "       'Health & Personal Care, Vitamins & Dietary Supplements, Minerals, Manganese',\n",
       "       'Health & Personal Care, Vitamins & Dietary Supplements, Herbal Supplements, Oregano',\n",
       "       'Health & Personal Care, Vitamins & Dietary Supplements, Supplements, Superfoods, Green Food Combinations',\n",
       "       'Health & Personal Care, Vitamins & Dietary Supplements, Supplements, Enzymes',\n",
       "       'Health & Personal Care, Vitamins & Dietary Supplements, Herbal Supplements, Yohimbe',\n",
       "       'Health & Personal Care, Vitamins & Dietary Supplements, Vitamins, Flavonoids',\n",
       "       'Health & Personal Care, Vitamins & Dietary Supplements, Supplements, MSM',\n",
       "       'Health & Personal Care, Vitamins & Dietary Supplements, Vitamins, Vitamin D, D3',\n",
       "       'Health & Personal Care, Vitamins & Dietary Supplements, Supplements, Antioxidants',\n",
       "       'Health & Personal Care, Vitamins & Dietary Supplements, Herbal Supplements, Black Cohosh',\n",
       "       'Health & Personal Care, Vitamins & Dietary Supplements, Vitamins, Vitamin B, B7 (Biotin)',\n",
       "       'Health & Personal Care, Vitamins & Dietary Supplements, Herbal Supplements, Licorice Root',\n",
       "       'Health & Personal Care, Vitamins & Dietary Supplements, Herbal Supplements, Olive Leaf',\n",
       "       'Health & Personal Care, Vitamins & Dietary Supplements, Vitamins, Vitamin C, Bioflavonoid Complex',\n",
       "       'Health & Personal Care, Vitamins & Dietary Supplements, Herbal Supplements, Evening Primrose',\n",
       "       'Health & Personal Care, Vitamins & Dietary Supplements, Vitamins, Vitamin B, B5 (Pantothenic Acid)',\n",
       "       'Health & Personal Care, Vitamins & Dietary Supplements, Herbal Supplements, Chlorophyll',\n",
       "       'Health & Personal Care, Vitamins & Dietary Supplements, Minerals, Calcium, Coral Calcium',\n",
       "       'Health & Personal Care, Vitamins & Dietary Supplements, Minerals',\n",
       "       'Health & Personal Care, Vitamins & Dietary Supplements, Herbal Supplements, Maca',\n",
       "       'Health & Personal Care, Vitamins & Dietary Supplements, Supplements, Superfoods, Spirulina',\n",
       "       'Health & Personal Care, Vitamins & Dietary Supplements, Vitamins, Vitamin B, B2 (Riboflavin)',\n",
       "       'Health & Personal Care, Vitamins & Dietary Supplements, Supplements, Hyaluronic Acid',\n",
       "       'Health & Personal Care, Vitamins & Dietary Supplements, Herbal Supplements, Cranberry',\n",
       "       'Health & Personal Care, Vitamins & Dietary Supplements, Supplements, Glandular Extracts, Liver Extracts',\n",
       "       'Health & Personal Care, Vitamins & Dietary Supplements, Minerals, Copper',\n",
       "       'Health & Personal Care, Vitamins & Dietary Supplements, Herbal Supplements, Hawthorn',\n",
       "       'Health & Personal Care, Vitamins & Dietary Supplements, Supplements, Digestive Supplements, Charcoal',\n",
       "       'Health & Personal Care, Vitamins & Dietary Supplements, Herbal Supplements, Noni',\n",
       "       'Health & Personal Care, Vitamins & Dietary Supplements, Herbal Supplements, Bilberry',\n",
       "       'Health & Personal Care, Vitamins & Dietary Supplements, Herbal Supplements, Ginseng',\n",
       "       'Health & Personal Care, Vitamins & Dietary Supplements, Vitamins, Vitamin B, B1 (Thiamine)',\n",
       "       'Health & Personal Care, Vitamins & Dietary Supplements, Herbal Supplements, Alfalfa',\n",
       "       'Health & Personal Care, Vitamins & Dietary Supplements, Herbal Supplements, Chamomile',\n",
       "       'Health & Personal Care, Vitamins & Dietary Supplements, Herbal Supplements, Triphala',\n",
       "       'Health & Personal Care, Vitamins & Dietary Supplements, Herbal Supplements, Cayenne',\n",
       "       'Health & Personal Care, Vitamins & Dietary Supplements, Supplements, Royal Jelly',\n",
       "       'Health & Personal Care, Vitamins & Dietary Supplements, Vitamins, Choline',\n",
       "       'Health & Personal Care, Vitamins & Dietary Supplements, Supplements, Bromelain',\n",
       "       'Health & Personal Care, Vitamins & Dietary Supplements, Weight Loss, Diuretics',\n",
       "       'Health & Personal Care, Sports Nutrition, Amino Acids, Carnitine',\n",
       "       'Health & Personal Care, Vitamins & Dietary Supplements, Herbal Supplements, Grape Seed Extract',\n",
       "       'Health & Personal Care, Vitamins & Dietary Supplements, Minerals, Multiminerals',\n",
       "       'Health & Personal Care, Vitamins & Dietary Supplements, Supplements, Antioxidants, Astaxanthin',\n",
       "       'Health & Personal Care, Vitamins & Dietary Supplements, Supplements, Glandular Extracts',\n",
       "       'Health & Personal Care, Vitamins & Dietary Supplements, Vitamins, Vitamin C, C-Complex',\n",
       "       'Health & Personal Care, Vitamins & Dietary Supplements, Herbal Supplements, Artichoke',\n",
       "       'Health & Personal Care, Vitamins & Dietary Supplements, Vitamins, Vitamin K',\n",
       "       'Health & Personal Care, Vitamins & Dietary Supplements, Weight Loss, Detox & Cleanse',\n",
       "       'Health & Personal Care, Vitamins & Dietary Supplements, Herbal Supplements, Elderberry',\n",
       "       'Health & Personal Care, Vitamins & Dietary Supplements, Herbal Supplements, Kava Kava',\n",
       "       'Health & Personal Care, Vitamins & Dietary Supplements, Herbal Supplements, Neem',\n",
       "       'Health & Personal Care, Vitamins & Dietary Supplements, Herbal Supplements, Nettle',\n",
       "       'Health & Personal Care, Sports Nutrition, Endurance & Energy, Herbals',\n",
       "       'Health & Personal Care, Vitamins & Dietary Supplements, Herbal Supplements, Tribulus',\n",
       "       'Health & Personal Care, Vitamins & Dietary Supplements, Supplements, Essential Fatty Acids, Black Currant Oil',\n",
       "       'Health & Personal Care, Vitamins & Dietary Supplements, Minerals, Iodine',\n",
       "       'Health & Personal Care, Vitamins & Dietary Supplements, Weight Loss, Supplements, Relora',\n",
       "       'Health & Personal Care, Vitamins & Dietary Supplements, Herbal Supplements, Muira Puama',\n",
       "       'Health & Personal Care, Vitamins & Dietary Supplements, Minerals, Silicon',\n",
       "       'Health & Personal Care, Vitamins & Dietary Supplements, Supplements, Glandular Extracts, Thymus Extracts',\n",
       "       'Health & Personal Care, Vitamins & Dietary Supplements, Multi & Prenatal Vitamins, Prenatal Vitamins',\n",
       "       'Health & Personal Care, Vitamins & Dietary Supplements, Supplements, Essential Fatty Acids, Flax Seed Oil',\n",
       "       'Health & Personal Care, Vitamins & Dietary Supplements, Minerals, Colloidal Minerals',\n",
       "       'Health & Personal Care, Vitamins & Dietary Supplements, Minerals, Colloidal Minerals, Colloidal Silver',\n",
       "       'Health & Personal Care, Vitamins & Dietary Supplements, Supplements, Glandular Extracts, Adrenal Extracts',\n",
       "       'Health & Personal Care, Vitamins & Dietary Supplements, Supplements, Antioxidants, DMAE',\n",
       "       'Health & Personal Care, Sports Nutrition, Fat Burners & Thermogenics, L-Carnitine',\n",
       "       'Health & Personal Care, Vitamins & Dietary Supplements, Vitamins, Vitamin K, K1',\n",
       "       'Health & Personal Care, Vitamins & Dietary Supplements, Weight Loss, Supplements, Raspberry Ketones',\n",
       "       'Health & Personal Care, Vitamins & Dietary Supplements, Supplements, Fish Oil',\n",
       "       'Health & Personal Care, Sports Nutrition, Endurance & Energy, Supplements',\n",
       "       'Health & Personal Care, Vitamins & Dietary Supplements, Herbal Supplements, Chlorella',\n",
       "       'Health & Personal Care, Vitamins & Dietary Supplements, Minerals, P-5-P',\n",
       "       'Health & Personal Care, Vitamins & Dietary Supplements, Herbal Supplements, Spirulina',\n",
       "       'Health & Personal Care, Vitamins & Dietary Supplements, Minerals, Calcium, Calcium Citrate',\n",
       "       'Health & Personal Care, Vitamins & Dietary Supplements, Supplements, Essential Fatty Acids',\n",
       "       'Health & Personal Care, Vitamins & Dietary Supplements, Supplements, Essential Fatty Acids, Krill Oils',\n",
       "       'Health & Personal Care, Vitamins & Dietary Supplements, Minerals, Collagen',\n",
       "       'Health & Personal Care, Vitamins & Dietary Supplements, Supplements, Essential Fatty Acids, DHA',\n",
       "       'Health & Personal Care, Vitamins & Dietary Supplements, Multi & Prenatal Vitamins, Multivitamins, Software, Education & Reference',\n",
       "       'Health & Personal Care, Vitamins & Dietary Supplements, Herbal Supplements, Marshmallow Root',\n",
       "       'Health & Personal Care, Vitamins & Dietary Supplements, Supplements, Antioxidants, Lycopene',\n",
       "       'Health & Personal Care, Vitamins & Dietary Supplements, Minerals, Sodium',\n",
       "       'Health & Personal Care, Vitamins & Dietary Supplements, Supplements, Antioxidants, Combinations',\n",
       "       'Health & Personal Care, Vitamins & Dietary Supplements, Supplements, Glandular Extracts, Thyroid Extracts',\n",
       "       'Health & Personal Care, Vitamins & Dietary Supplements, Supplements, Essential Fatty Acids, Omega Oils, Omega-6',\n",
       "       'Health & Personal Care, Vitamins & Dietary Supplements, Supplements, Essential Fatty Acids, Omega Oils, Omega-9',\n",
       "       'Health & Personal Care, Vitamins & Dietary Supplements, Vitamins, Vitamin D',\n",
       "       'Health & Personal Care, Vitamins & Dietary Supplements, Multi & Prenatal Vitamins',\n",
       "       'Health & Personal Care, Vitamins & Dietary Supplements, Supplements, Essential Fatty Acids, EPA',\n",
       "       'Health & Personal Care, Vitamins & Dietary Supplements, Weight Loss, Diet Kits & Systems',\n",
       "       'Health & Personal Care, Vitamins & Dietary Supplements, Herbal Supplements, Curcumin',\n",
       "       'Health & Personal Care, Vitamins & Dietary Supplements, Supplements, Enzymes, Lipase',\n",
       "       'Health & Personal Care, Vitamins & Dietary Supplements, Minerals, Colloidal Minerals, Colloidal Gold',\n",
       "       'Health & Personal Care, Vitamins & Dietary Supplements, Supplements, Digestive Supplements, Prebiotics',\n",
       "       'Health & Personal Care, Vitamins & Dietary Supplements, Supplements, Essential Fatty Acids, Omega Oils',\n",
       "       'Health & Personal Care, Vitamins & Dietary Supplements, Clothing, Shoes & Jewelry, Baby, Baby Girls, Clothing, Bodysuits, Clothing, Shoes & Jewelry, Baby, Baby Boys, Clothing, Bodysuits',\n",
       "       'Health & Personal Care, Vitamins & Dietary Supplements, Supplements, Antioxidants, Lutein',\n",
       "       'Health & Personal Care, Vitamins & Dietary Supplements, Supplements, Chondroitin & Glucosamine',\n",
       "       'Health & Personal Care, Vitamins & Dietary Supplements, Multi & Prenatal Vitamins, Multiple Vitamin-Mineral Supplements, Health & Personal Care, Sports Nutrition',\n",
       "       'Health & Personal Care, Vitamins & Dietary Supplements, Supplements, Essential Fatty Acids, Linseed Oil',\n",
       "       'Cell Phones & Accessories, Cases, Basic Cases, Health & Personal Care, Vitamins & Dietary Supplements, Weight Loss, Supplements, Raspberry Ketones',\n",
       "       'Health & Personal Care, Vitamins & Dietary Supplements, Minerals, Collagen, Type 1 (I)',\n",
       "       'Health & Personal Care, Vitamins & Dietary Supplements, Weight Loss, Supplements, Orlistat'],\n",
       "      dtype=object)"
      ]
     },
     "execution_count": 48,
     "metadata": {},
     "output_type": "execute_result"
    }
   ],
   "source": [
    "reviews_filt.categories_clean.unique()"
   ]
  },
  {
   "cell_type": "code",
   "execution_count": 51,
   "metadata": {},
   "outputs": [
    {
     "data": {
      "text/html": [
       "<div>\n",
       "<style scoped>\n",
       "    .dataframe tbody tr th:only-of-type {\n",
       "        vertical-align: middle;\n",
       "    }\n",
       "\n",
       "    .dataframe tbody tr th {\n",
       "        vertical-align: top;\n",
       "    }\n",
       "\n",
       "    .dataframe thead th {\n",
       "        text-align: right;\n",
       "    }\n",
       "</style>\n",
       "<table border=\"1\" class=\"dataframe\">\n",
       "  <thead>\n",
       "    <tr style=\"text-align: right;\">\n",
       "      <th></th>\n",
       "      <th>asin</th>\n",
       "      <th>helpful</th>\n",
       "      <th>reviewText</th>\n",
       "      <th>overall</th>\n",
       "      <th>summary</th>\n",
       "      <th>description</th>\n",
       "      <th>title</th>\n",
       "      <th>categories_clean</th>\n",
       "    </tr>\n",
       "  </thead>\n",
       "  <tbody>\n",
       "    <tr>\n",
       "      <th>3639</th>\n",
       "      <td>B00009QP4Q</td>\n",
       "      <td>[2, 2]</td>\n",
       "      <td>The company has great reviews from Magazines a...</td>\n",
       "      <td>5.0</td>\n",
       "      <td>lives up to its billing of 5 stars from PC Mag...</td>\n",
       "      <td>Alpha Five's QLinker permits data transfer wit...</td>\n",
       "      <td>none</td>\n",
       "      <td>Health &amp; Personal Care, Vitamins &amp; Dietary Sup...</td>\n",
       "    </tr>\n",
       "    <tr>\n",
       "      <th>50015</th>\n",
       "      <td>B0002TIEQQ</td>\n",
       "      <td>[0, 0]</td>\n",
       "      <td>I ordered this for my husband for work. He is ...</td>\n",
       "      <td>1.0</td>\n",
       "      <td>waste of money</td>\n",
       "      <td>Self help tutorials in 54 key subject areas. O...</td>\n",
       "      <td>none</td>\n",
       "      <td>Health &amp; Personal Care, Vitamins &amp; Dietary Sup...</td>\n",
       "    </tr>\n",
       "  </tbody>\n",
       "</table>\n",
       "</div>"
      ],
      "text/plain": [
       "             asin helpful                                         reviewText  \\\n",
       "3639   B00009QP4Q  [2, 2]  The company has great reviews from Magazines a...   \n",
       "50015  B0002TIEQQ  [0, 0]  I ordered this for my husband for work. He is ...   \n",
       "\n",
       "       overall                                            summary  \\\n",
       "3639       5.0  lives up to its billing of 5 stars from PC Mag...   \n",
       "50015      1.0                                     waste of money   \n",
       "\n",
       "                                             description title  \\\n",
       "3639   Alpha Five's QLinker permits data transfer wit...  none   \n",
       "50015  Self help tutorials in 54 key subject areas. O...  none   \n",
       "\n",
       "                                        categories_clean  \n",
       "3639   Health & Personal Care, Vitamins & Dietary Sup...  \n",
       "50015  Health & Personal Care, Vitamins & Dietary Sup...  "
      ]
     },
     "execution_count": 51,
     "metadata": {},
     "output_type": "execute_result"
    }
   ],
   "source": [
    "reviews_filt[reviews_filt.categories_clean.str.contains('Software')]"
   ]
  },
  {
   "cell_type": "code",
   "execution_count": 52,
   "metadata": {},
   "outputs": [],
   "source": [
    "reviews_filt = reviews_filt[~(reviews_filt.categories_clean.str.contains('Software'))]"
   ]
  },
  {
   "cell_type": "code",
   "execution_count": 53,
   "metadata": {},
   "outputs": [
    {
     "data": {
      "text/plain": [
       "585179"
      ]
     },
     "execution_count": 53,
     "metadata": {},
     "output_type": "execute_result"
    }
   ],
   "source": [
    "len(reviews_filt)"
   ]
  },
  {
   "cell_type": "code",
   "execution_count": 56,
   "metadata": {},
   "outputs": [],
   "source": [
    "# saving the cleaned dataframe\n",
    "save_df_s3(df=reviews_filt, bucket_name=bucket_name, filepath='amazon_reviews/reviews_data_clean_v2.feather')"
   ]
  },
  {
   "cell_type": "markdown",
   "metadata": {},
   "source": [
    "## Examine One Observation"
   ]
  },
  {
   "cell_type": "code",
   "execution_count": 57,
   "metadata": {},
   "outputs": [],
   "source": [
    "example = reviews_filt.iloc[0]"
   ]
  },
  {
   "cell_type": "code",
   "execution_count": 58,
   "metadata": {},
   "outputs": [
    {
     "data": {
      "text/plain": [
       "'0929619730'"
      ]
     },
     "execution_count": 58,
     "metadata": {},
     "output_type": "execute_result"
    }
   ],
   "source": [
    "example.asin     # Amazon Standard Identification Number"
   ]
  },
  {
   "cell_type": "code",
   "execution_count": 59,
   "metadata": {},
   "outputs": [
    {
     "data": {
      "text/plain": [
       "'New Generation B-Flax-D'"
      ]
     },
     "execution_count": 59,
     "metadata": {},
     "output_type": "execute_result"
    }
   ],
   "source": [
    "example.title     # this is the product's name"
   ]
  },
  {
   "cell_type": "code",
   "execution_count": 60,
   "metadata": {},
   "outputs": [
    {
     "data": {
      "text/plain": [
       "'Health & Personal Care, Vitamins & Dietary Supplements, Multi & Prenatal Vitamins, Multiple Vitamin-Mineral Supplements'"
      ]
     },
     "execution_count": 60,
     "metadata": {},
     "output_type": "execute_result"
    }
   ],
   "source": [
    "example.categories_clean   # previously filtered/curated categories of interest"
   ]
  },
  {
   "cell_type": "code",
   "execution_count": 61,
   "metadata": {},
   "outputs": [
    {
     "data": {
      "text/plain": [
       "'Contains Organic Cold-Milled Flaxseed\\nValuable source of soluble and insoluble fiber\\nProvides Omega-3 essential fats, and many other nutrients to help achieve and maintain optimal bowel function.\\n\\nContains Vitamin B12\\nB12 helps prevent nerve damage\\nB12 aids in healthy cell formation.\\nB12 helps prevent anemia\\n\\nContains Vitamin D\\nVitamin D assists the body in the absorption of important minerals like calcium.\\n\\nContains Seleno-yeast\\nA source of selenium, a mineral with powerful anti-viral and disease-fighting properties.\\n\\nContains Vitamin K2\\nMenaQ7TM provides vitamin K2 (menaquinone), extracted and concentrated from natto without solvents. Vitamin K2 prevents arterial calcification and promotes strong bones by improving cross-linking of osteocalcin, a protein found in bones. The amount here has been clinically shown not to interfere with blood anti-coagulant medication. \\n\\nServing Size:\\n1/4 Cup (30 Grams)\\n\\nServings Per Container:\\n30 Servings per container\\n\\nNet Wt. 32 oz / 2 lb (908 g)\\n\\nB-Flax-D is a 100% vegetarian product.\\n\\nDoes Not Contain:\\nContains no artificial colors or preservatives.'"
      ]
     },
     "execution_count": 61,
     "metadata": {},
     "output_type": "execute_result"
    }
   ],
   "source": [
    "example.description       # product description provided by the seller"
   ]
  },
  {
   "cell_type": "code",
   "execution_count": 62,
   "metadata": {},
   "outputs": [
    {
     "data": {
      "text/plain": [
       "'Dpes the job well'"
      ]
     },
     "execution_count": 62,
     "metadata": {},
     "output_type": "execute_result"
    }
   ],
   "source": [
    "example.summary      # review title"
   ]
  },
  {
   "cell_type": "code",
   "execution_count": 63,
   "metadata": {},
   "outputs": [
    {
     "data": {
      "text/plain": [
       "'B-flax-D is a regular at our house. It does its job simply and with good results. It is reasonable, lasts a long time, and is able to be obtained with free shipping if you hunt around. Good product, good price, good results.'"
      ]
     },
     "execution_count": 63,
     "metadata": {},
     "output_type": "execute_result"
    }
   ],
   "source": [
    "example.reviewText   # review content"
   ]
  },
  {
   "cell_type": "markdown",
   "metadata": {},
   "source": [
    "Here's what the actual review looks like:"
   ]
  },
  {
   "cell_type": "code",
   "execution_count": 64,
   "metadata": {},
   "outputs": [
    {
     "data": {
      "text/plain": [
       "5.0"
      ]
     },
     "execution_count": 64,
     "metadata": {},
     "output_type": "execute_result"
    }
   ],
   "source": [
    "example.overall     # the rating provided by the reviewer"
   ]
  },
  {
   "cell_type": "code",
   "execution_count": 29,
   "metadata": {},
   "outputs": [
    {
     "data": {
      "text/plain": [
       "'[0, 0]'"
      ]
     },
     "execution_count": 29,
     "metadata": {},
     "output_type": "execute_result"
    }
   ],
   "source": [
    "example.helpful"
   ]
  },
  {
   "cell_type": "code",
   "execution_count": 27,
   "metadata": {},
   "outputs": [
    {
     "data": {
      "text/html": [
       "<img src=\"images/amazon_review_screenshot.png\"/>"
      ],
      "text/plain": [
       "<IPython.core.display.Image object>"
      ]
     },
     "execution_count": 27,
     "metadata": {},
     "output_type": "execute_result"
    }
   ],
   "source": [
    "Image(url= \"images/amazon_review_screenshot.png\")"
   ]
  },
  {
   "cell_type": "markdown",
   "metadata": {},
   "source": [
    "# Data Pre-processing for LDA"
   ]
  },
  {
   "cell_type": "markdown",
   "metadata": {},
   "source": [
    "Let us start off using only the title (`summary`) and body (`reviewText`) of each review."
   ]
  },
  {
   "cell_type": "code",
   "execution_count": null,
   "metadata": {},
   "outputs": [],
   "source": []
  },
  {
   "cell_type": "code",
   "execution_count": null,
   "metadata": {},
   "outputs": [],
   "source": []
  },
  {
   "cell_type": "code",
   "execution_count": null,
   "metadata": {},
   "outputs": [],
   "source": []
  },
  {
   "cell_type": "code",
   "execution_count": null,
   "metadata": {},
   "outputs": [],
   "source": []
  },
  {
   "cell_type": "code",
   "execution_count": null,
   "metadata": {},
   "outputs": [],
   "source": []
  }
 ],
 "metadata": {
  "kernelspec": {
   "display_name": "Python 3",
   "language": "python",
   "name": "python3"
  },
  "language_info": {
   "codemirror_mode": {
    "name": "ipython",
    "version": 3
   },
   "file_extension": ".py",
   "mimetype": "text/x-python",
   "name": "python",
   "nbconvert_exporter": "python",
   "pygments_lexer": "ipython3",
   "version": "3.6.4"
  }
 },
 "nbformat": 4,
 "nbformat_minor": 2
}
