{
 "cells": [
  {
   "cell_type": "code",
   "execution_count": 2,
   "metadata": {},
   "outputs": [],
   "source": [
    "import pandas as pd\n",
    "import numpy as np\n",
    "import igraph"
   ]
  },
  {
   "cell_type": "code",
   "execution_count": 13,
   "metadata": {},
   "outputs": [],
   "source": [
    "### Loading Raw Data\n",
    "df = {}\n",
    "with open('./amzn_reviews/reviews_Health_and_Personal_Care_5.json', 'r') as f:\n",
    "    for i, line in enumerate(f.readlines()):\n",
    "        df[i] = eval(line)\n",
    "\n",
    "raw_data = pd.DataFrame.from_dict(df, orient='index')\n",
    "\n",
    "# fixing the helpful is a list issue\n",
    "raw_data['helpful_ct'] = raw_data.helpful.apply(lambda x : x[0])\n",
    "raw_data['unhelpful_ct'] = raw_data.helpful.apply(lambda x : x[1] - x[0])\n",
    "raw_data.drop('helpful', axis=1, inplace=True)\n",
    "\n",
    "# subset most popular products (> 50 reviews)\n",
    "asin_list = list(raw_data.groupby(['asin']).count().sort_values('reviewerID',ascending=False).query('reviewerID > 50').index)"
   ]
  },
  {
   "cell_type": "code",
   "execution_count": 3,
   "metadata": {},
   "outputs": [],
   "source": [
    "# saving the file\n",
    "#raw_data[raw_data['asin'].isin(asin_list)].reset_index().to_feather('./amzn_popular_product_stats.feather')\n",
    "\n",
    "# reading the file\n",
    "raw_data = pd.read_feather('./amzn_popular_product_stats.feather')"
   ]
  },
  {
   "cell_type": "code",
   "execution_count": 4,
   "metadata": {
    "scrolled": true
   },
   "outputs": [
    {
     "data": {
      "text/html": [
       "<div>\n",
       "<style scoped>\n",
       "    .dataframe tbody tr th:only-of-type {\n",
       "        vertical-align: middle;\n",
       "    }\n",
       "\n",
       "    .dataframe tbody tr th {\n",
       "        vertical-align: top;\n",
       "    }\n",
       "\n",
       "    .dataframe thead th {\n",
       "        text-align: right;\n",
       "    }\n",
       "</style>\n",
       "<table border=\"1\" class=\"dataframe\">\n",
       "  <thead>\n",
       "    <tr style=\"text-align: right;\">\n",
       "      <th></th>\n",
       "      <th>index</th>\n",
       "      <th>reviewerID</th>\n",
       "      <th>asin</th>\n",
       "      <th>reviewerName</th>\n",
       "      <th>reviewText</th>\n",
       "      <th>overall</th>\n",
       "      <th>summary</th>\n",
       "      <th>unixReviewTime</th>\n",
       "      <th>reviewTime</th>\n",
       "      <th>helpful_ct</th>\n",
       "      <th>unhelpful_ct</th>\n",
       "    </tr>\n",
       "  </thead>\n",
       "  <tbody>\n",
       "    <tr>\n",
       "      <th>0</th>\n",
       "      <td>80</td>\n",
       "      <td>A2BVV8ND8Q6S6A</td>\n",
       "      <td>B00000J47L</td>\n",
       "      <td>adero1780</td>\n",
       "      <td>This was a great purchase at a nice price. If ...</td>\n",
       "      <td>5.0</td>\n",
       "      <td>These batteries are great</td>\n",
       "      <td>1357862400</td>\n",
       "      <td>01 11, 2013</td>\n",
       "      <td>0</td>\n",
       "      <td>0</td>\n",
       "    </tr>\n",
       "    <tr>\n",
       "      <th>1</th>\n",
       "      <td>81</td>\n",
       "      <td>A2P0Z6QPAYNXGM</td>\n",
       "      <td>B00000J47L</td>\n",
       "      <td>Allan Hamilton</td>\n",
       "      <td>No problem.  Well pleased.</td>\n",
       "      <td>5.0</td>\n",
       "      <td>Well pleased.</td>\n",
       "      <td>1404864000</td>\n",
       "      <td>07 9, 2014</td>\n",
       "      <td>0</td>\n",
       "      <td>0</td>\n",
       "    </tr>\n",
       "    <tr>\n",
       "      <th>2</th>\n",
       "      <td>82</td>\n",
       "      <td>A2CHN4OYWUBKQX</td>\n",
       "      <td>B00000J47L</td>\n",
       "      <td>Amazon Customer</td>\n",
       "      <td>These are nice to have so I give them a 4 out ...</td>\n",
       "      <td>4.0</td>\n",
       "      <td>Nice to have.</td>\n",
       "      <td>1385596800</td>\n",
       "      <td>11 28, 2013</td>\n",
       "      <td>0</td>\n",
       "      <td>0</td>\n",
       "    </tr>\n",
       "    <tr>\n",
       "      <th>3</th>\n",
       "      <td>83</td>\n",
       "      <td>AKU18EGFF6G02</td>\n",
       "      <td>B00000J47L</td>\n",
       "      <td>Amazon Customer</td>\n",
       "      <td>I bought a pack of these a while back from Sam...</td>\n",
       "      <td>1.0</td>\n",
       "      <td>Expensive junk</td>\n",
       "      <td>1312416000</td>\n",
       "      <td>08 4, 2011</td>\n",
       "      <td>1</td>\n",
       "      <td>0</td>\n",
       "    </tr>\n",
       "    <tr>\n",
       "      <th>4</th>\n",
       "      <td>84</td>\n",
       "      <td>A2E95ZZNAQ24GS</td>\n",
       "      <td>B00000J47L</td>\n",
       "      <td>Amazon Customer \"mikeklement.com\"</td>\n",
       "      <td>Dont use that often but after a couple years o...</td>\n",
       "      <td>5.0</td>\n",
       "      <td>Work Great</td>\n",
       "      <td>1353974400</td>\n",
       "      <td>11 27, 2012</td>\n",
       "      <td>0</td>\n",
       "      <td>0</td>\n",
       "    </tr>\n",
       "  </tbody>\n",
       "</table>\n",
       "</div>"
      ],
      "text/plain": [
       "   index      reviewerID        asin                       reviewerName  \\\n",
       "0     80  A2BVV8ND8Q6S6A  B00000J47L                          adero1780   \n",
       "1     81  A2P0Z6QPAYNXGM  B00000J47L                     Allan Hamilton   \n",
       "2     82  A2CHN4OYWUBKQX  B00000J47L                    Amazon Customer   \n",
       "3     83   AKU18EGFF6G02  B00000J47L                    Amazon Customer   \n",
       "4     84  A2E95ZZNAQ24GS  B00000J47L  Amazon Customer \"mikeklement.com\"   \n",
       "\n",
       "                                          reviewText  overall  \\\n",
       "0  This was a great purchase at a nice price. If ...      5.0   \n",
       "1                         No problem.  Well pleased.      5.0   \n",
       "2  These are nice to have so I give them a 4 out ...      4.0   \n",
       "3  I bought a pack of these a while back from Sam...      1.0   \n",
       "4  Dont use that often but after a couple years o...      5.0   \n",
       "\n",
       "                     summary  unixReviewTime   reviewTime  helpful_ct  \\\n",
       "0  These batteries are great      1357862400  01 11, 2013           0   \n",
       "1              Well pleased.      1404864000   07 9, 2014           0   \n",
       "2              Nice to have.      1385596800  11 28, 2013           0   \n",
       "3             Expensive junk      1312416000   08 4, 2011           1   \n",
       "4                 Work Great      1353974400  11 27, 2012           0   \n",
       "\n",
       "   unhelpful_ct  \n",
       "0             0  \n",
       "1             0  \n",
       "2             0  \n",
       "3             0  \n",
       "4             0  "
      ]
     },
     "execution_count": 4,
     "metadata": {},
     "output_type": "execute_result"
    }
   ],
   "source": [
    "raw_data.head()"
   ]
  },
  {
   "cell_type": "markdown",
   "metadata": {},
   "source": [
    "## Getting Pairwise Connections per User"
   ]
  },
  {
   "cell_type": "code",
   "execution_count": 15,
   "metadata": {},
   "outputs": [],
   "source": [
    "import itertools"
   ]
  },
  {
   "cell_type": "code",
   "execution_count": 17,
   "metadata": {},
   "outputs": [
    {
     "data": {
      "text/plain": [
       "[(1, 2), (1, 3), (2, 3)]"
      ]
     },
     "execution_count": 17,
     "metadata": {},
     "output_type": "execute_result"
    }
   ],
   "source": [
    "list(itertools.combinations([1,2,3],2))"
   ]
  },
  {
   "cell_type": "code",
   "execution_count": null,
   "metadata": {},
   "outputs": [],
   "source": [
    "review_to_asin = raw_data.groupby(['reviewerID']).asin.apply(lambda x : set(x))"
   ]
  },
  {
   "cell_type": "code",
   "execution_count": 21,
   "metadata": {},
   "outputs": [],
   "source": [
    "asin_to_review = raw_data.groupby('asin').reviewerID.apply(lambda x : set(x))"
   ]
  },
  {
   "cell_type": "code",
   "execution_count": 25,
   "metadata": {},
   "outputs": [],
   "source": [
    "test_ ={prod : list(itertools.combinations(usrs, 2)) for prod,usrs in asin_to_review.items()} "
   ]
  },
  {
   "cell_type": "code",
   "execution_count": 26,
   "metadata": {},
   "outputs": [],
   "source": [
    "test_"
   ]
  },
  {
   "cell_type": "code",
   "execution_count": 10,
   "metadata": {},
   "outputs": [],
   "source": [
    "g = igraph.Graph()"
   ]
  }
 ],
 "metadata": {
  "kernelspec": {
   "display_name": "Python 3",
   "language": "python",
   "name": "python3"
  },
  "language_info": {
   "codemirror_mode": {
    "name": "ipython",
    "version": 3
   },
   "file_extension": ".py",
   "mimetype": "text/x-python",
   "name": "python",
   "nbconvert_exporter": "python",
   "pygments_lexer": "ipython3",
   "version": "3.6.5"
  }
 },
 "nbformat": 4,
 "nbformat_minor": 2
}
